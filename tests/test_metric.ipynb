{
 "cells": [
  {
   "cell_type": "code",
   "execution_count": 1,
   "metadata": {
    "collapsed": true,
    "ExecuteTime": {
     "end_time": "2023-07-17T22:41:54.821276065Z",
     "start_time": "2023-07-17T22:41:52.290869978Z"
    }
   },
   "outputs": [
    {
     "name": "stderr",
     "output_type": "stream",
     "text": [
      "2023-07-17 18:41:54.811174: I tensorflow/stream_executor/cuda/cuda_gpu_executor.cc:939] successful NUMA node read from SysFS had negative value (-1), but there must be at least one NUMA node, so returning NUMA node zero\n",
      "2023-07-17 18:41:54.811426: I tensorflow/stream_executor/cuda/cuda_gpu_executor.cc:939] successful NUMA node read from SysFS had negative value (-1), but there must be at least one NUMA node, so returning NUMA node zero\n",
      "2023-07-17 18:41:54.816565: I tensorflow/stream_executor/cuda/cuda_gpu_executor.cc:939] successful NUMA node read from SysFS had negative value (-1), but there must be at least one NUMA node, so returning NUMA node zero\n",
      "2023-07-17 18:41:54.816802: I tensorflow/stream_executor/cuda/cuda_gpu_executor.cc:939] successful NUMA node read from SysFS had negative value (-1), but there must be at least one NUMA node, so returning NUMA node zero\n",
      "2023-07-17 18:41:54.816997: I tensorflow/stream_executor/cuda/cuda_gpu_executor.cc:939] successful NUMA node read from SysFS had negative value (-1), but there must be at least one NUMA node, so returning NUMA node zero\n",
      "2023-07-17 18:41:54.817189: I tensorflow/stream_executor/cuda/cuda_gpu_executor.cc:939] successful NUMA node read from SysFS had negative value (-1), but there must be at least one NUMA node, so returning NUMA node zero\n"
     ]
    }
   ],
   "source": [
    "import numpy as np\n",
    "import sys\n",
    "import tensorflow as tf\n",
    "from glob import glob\n",
    "import os\n",
    "sys.path.append('../')\n",
    "sys.path.append('./../src/')\n",
    "\n",
    "import classifier.Multiband as multiband\n",
    "import base.plot as plot\n",
    "\n",
    "# To reset cuda\n",
    "# sudo rmmod nvidia_uvm\n",
    "# sudo modprobe nvidia_uvm\n",
    "# To see if the system recognises the GPU\n",
    "device = 1\n",
    "devices = tf.config.experimental.list_physical_devices('GPU')\n",
    "tf.config.set_visible_devices(devices[device], 'GPU')\n",
    "tf.config.experimental.set_memory_growth(device=devices[device], enable=True)\n",
    "\n",
    "survey = 'Gaia'\n",
    "path = './Results/Fold_*'\n",
    "folds = glob(path)\n",
    "folds.sort()\n",
    "\n",
    "if not os.path.exists('./Results/'):\n",
    "    os.mkdir('./Results/')\n",
    "\n",
    "label_order = ['CEP', 'T2CEP', 'MIRA_SR', 'RRAB', 'RRC', 'DSCT_SXPHE']\n",
    "\n",
    "# Containers to store the results\n",
    "reports_folds = []\n",
    "cm_folds = []\n",
    "regressions = []"
   ]
  },
  {
   "cell_type": "code",
   "execution_count": 21,
   "outputs": [
    {
     "name": "stdout",
     "output_type": "stream",
     "text": [
      "./Folds/Fold_1/test/*.tfrecord\n"
     ]
    },
    {
     "name": "stderr",
     "output_type": "stream",
     "text": [
      "2023-07-17 18:47:42.999019: I tensorflow/stream_executor/cuda/cuda_dnn.cc:366] Loaded cuDNN version 8101\n"
     ]
    },
    {
     "name": "stdout",
     "output_type": "stream",
     "text": [
      "              precision    recall  f1-score   support\n",
      "\n",
      "         CEP       0.00      0.00      0.00      1166\n",
      "  DSCT_SXPHE       0.17      0.40      0.24       680\n",
      "     MIRA_SR       0.31      0.85      0.45      1006\n",
      "        RRAB       0.19      0.01      0.01       728\n",
      "         RRC       0.23      0.12      0.15      1073\n",
      "         RRD       0.00      0.00      0.00        92\n",
      "       T2CEP       0.00      0.00      0.00       236\n",
      "\n",
      "    accuracy                           0.25      4981\n",
      "   macro avg       0.13      0.20      0.12      4981\n",
      "weighted avg       0.16      0.25      0.16      4981\n",
      "\n",
      "{'R2': {'T_eff': -3.7002729489807695, 'Radius': -0.012305016448439954}, 'RMSE': {'T_eff': 2514.4458, 'Radius': 24.300797}}\n"
     ]
    },
    {
     "name": "stderr",
     "output_type": "stream",
     "text": [
      "/home/ibecker/.cache/pypoetry/virtualenvs/multibandscalable-rnn-2dkdk7iS-py3.8/lib/python3.8/site-packages/sklearn/metrics/_classification.py:1469: UndefinedMetricWarning: Precision and F-score are ill-defined and being set to 0.0 in labels with no predicted samples. Use `zero_division` parameter to control this behavior.\n",
      "  _warn_prf(average, modifier, msg_start, len(result))\n",
      "/home/ibecker/.cache/pypoetry/virtualenvs/multibandscalable-rnn-2dkdk7iS-py3.8/lib/python3.8/site-packages/sklearn/metrics/_classification.py:1469: UndefinedMetricWarning: Precision and F-score are ill-defined and being set to 0.0 in labels with no predicted samples. Use `zero_division` parameter to control this behavior.\n",
      "  _warn_prf(average, modifier, msg_start, len(result))\n",
      "/home/ibecker/.cache/pypoetry/virtualenvs/multibandscalable-rnn-2dkdk7iS-py3.8/lib/python3.8/site-packages/sklearn/metrics/_classification.py:1469: UndefinedMetricWarning: Precision and F-score are ill-defined and being set to 0.0 in labels with no predicted samples. Use `zero_division` parameter to control this behavior.\n",
      "  _warn_prf(average, modifier, msg_start, len(result))\n"
     ]
    }
   ],
   "source": [
    "for fold in folds:\n",
    "    tf.keras.backend.clear_session()\n",
    "    # Set the fold path\n",
    "    base_dir = fold + '/'\n",
    "    # base_dir = fold\n",
    "    # Get the last run\n",
    "    path_runs_folder = os.path.join(base_dir, 'Models', '*')\n",
    "    path_runs = glob(path_runs_folder)\n",
    "    path_runs.sort()\n",
    "    path_run = path_runs[-1]\n",
    "\n",
    "    # path_preprocess = fold.replace('/03_TrainModels/', '/02_CreateRecords/')\n",
    "    path_preprocess = fold.replace('Results', 'Folds')\n",
    "    test_files = os.path.join(path_preprocess, 'test/*.tfrecord')\n",
    "\n",
    "    new = multiband.Network()\n",
    "    settings_path = os.path.join(path_run, 'all_settings.json')\n",
    "    # new.batch_size = 512\n",
    "    fold_name = fold.split('/')[-1]\n",
    "    write_path = os.path.join('./Results', fold_name + '_Results.dat')\n",
    "\n",
    "    # Get weights path\n",
    "    run = path_run.split('/')[-1]\n",
    "    weights_path = os.path.join(fold, 'Models', run)\n",
    "    new.run_test(settings_path, test_files, weights_path, df_paths=write_path)\n",
    "\n",
    "    break"
   ],
   "metadata": {
    "collapsed": false,
    "ExecuteTime": {
     "end_time": "2023-07-17T22:47:47.449216758Z",
     "start_time": "2023-07-17T22:47:34.396168346Z"
    }
   }
  },
  {
   "cell_type": "code",
   "execution_count": 3,
   "outputs": [
    {
     "name": "stderr",
     "output_type": "stream",
     "text": [
      "2023-07-17 18:42:43.158848: I tensorflow/core/platform/cpu_feature_guard.cc:151] This TensorFlow binary is optimized with oneAPI Deep Neural Network Library (oneDNN) to use the following CPU instructions in performance-critical operations:  AVX2 FMA\n",
      "To enable them in other operations, rebuild TensorFlow with the appropriate compiler flags.\n",
      "2023-07-17 18:42:43.159995: I tensorflow/stream_executor/cuda/cuda_gpu_executor.cc:939] successful NUMA node read from SysFS had negative value (-1), but there must be at least one NUMA node, so returning NUMA node zero\n",
      "2023-07-17 18:42:43.160554: I tensorflow/stream_executor/cuda/cuda_gpu_executor.cc:939] successful NUMA node read from SysFS had negative value (-1), but there must be at least one NUMA node, so returning NUMA node zero\n",
      "2023-07-17 18:42:43.160981: I tensorflow/stream_executor/cuda/cuda_gpu_executor.cc:939] successful NUMA node read from SysFS had negative value (-1), but there must be at least one NUMA node, so returning NUMA node zero\n",
      "2023-07-17 18:42:43.629452: I tensorflow/stream_executor/cuda/cuda_gpu_executor.cc:939] successful NUMA node read from SysFS had negative value (-1), but there must be at least one NUMA node, so returning NUMA node zero\n",
      "2023-07-17 18:42:43.629716: I tensorflow/stream_executor/cuda/cuda_gpu_executor.cc:939] successful NUMA node read from SysFS had negative value (-1), but there must be at least one NUMA node, so returning NUMA node zero\n",
      "2023-07-17 18:42:43.629985: I tensorflow/stream_executor/cuda/cuda_gpu_executor.cc:939] successful NUMA node read from SysFS had negative value (-1), but there must be at least one NUMA node, so returning NUMA node zero\n",
      "2023-07-17 18:42:43.630150: I tensorflow/core/common_runtime/gpu/gpu_device.cc:1525] Created device /job:localhost/replica:0/task:0/device:GPU:0 with 6644 MB memory:  -> device: 1, name: NVIDIA GeForce RTX 2080 SUPER, pci bus id: 0000:02:00.0, compute capability: 7.5\n"
     ]
    },
    {
     "name": "stdout",
     "output_type": "stream",
     "text": [
      "./Fold/Fold_1/test/*.tfrecord\n"
     ]
    }
   ],
   "source": [
    "new.run_test_test(settings_path, test_files, weights_path, df_paths=write_path)"
   ],
   "metadata": {
    "collapsed": false,
    "ExecuteTime": {
     "end_time": "2023-07-17T22:42:53.672782345Z",
     "start_time": "2023-07-17T22:42:43.635690060Z"
    }
   }
  },
  {
   "cell_type": "code",
   "execution_count": 14,
   "outputs": [],
   "source": [
    "import base.Parser as Parser\n",
    "def initialize_dataset_test( filename_test):\n",
    "    loader = Parser.Parser(physical_parameters=new.physical_params,\n",
    "                           n_bands=new.n_bands,\n",
    "                           num_classes=new.num_classes,\n",
    "                           w=new.w,\n",
    "                           batch_size=new.batch_size,\n",
    "                           num_threads=new.num_cores,\n",
    "                           buffer_size=new.buffer_size,\n",
    "                           mode=new.mode,\n",
    "                           )\n",
    "    print(filename_test)\n",
    "    new.dataset_test = loader.get_dataset(filename=filename_test,\n",
    "                                           epochs=1,\n",
    "                                           shuffle=False\n",
    "                                           )"
   ],
   "metadata": {
    "collapsed": false,
    "ExecuteTime": {
     "end_time": "2023-07-17T22:46:15.998592774Z",
     "start_time": "2023-07-17T22:46:15.990795215Z"
    }
   }
  },
  {
   "cell_type": "code",
   "execution_count": 19,
   "outputs": [
    {
     "name": "stdout",
     "output_type": "stream",
     "text": [
      "['./Fold/Fold_1/test/*.tfrecord']\n"
     ]
    }
   ],
   "source": [
    "initialize_dataset_test([test_files])"
   ],
   "metadata": {
    "collapsed": false,
    "ExecuteTime": {
     "end_time": "2023-07-17T22:46:46.813251599Z",
     "start_time": "2023-07-17T22:46:46.755559082Z"
    }
   }
  },
  {
   "cell_type": "code",
   "execution_count": 20,
   "outputs": [
    {
     "ename": "NotFoundError",
     "evalue": "./Fold/Fold_1/test/*.tfrecord; No such file or directory [Op:IteratorGetNext]",
     "output_type": "error",
     "traceback": [
      "\u001B[0;31m---------------------------------------------------------------------------\u001B[0m",
      "\u001B[0;31mNotFoundError\u001B[0m                             Traceback (most recent call last)",
      "Cell \u001B[0;32mIn[20], line 1\u001B[0m\n\u001B[0;32m----> 1\u001B[0m \u001B[38;5;28;01mfor\u001B[39;00m batch \u001B[38;5;129;01min\u001B[39;00m new\u001B[38;5;241m.\u001B[39mdataset_test:\n\u001B[1;32m      2\u001B[0m     \u001B[38;5;28;01mbreak\u001B[39;00m\n\u001B[1;32m      3\u001B[0m batch\n",
      "File \u001B[0;32m~/.cache/pypoetry/virtualenvs/multibandscalable-rnn-2dkdk7iS-py3.8/lib/python3.8/site-packages/tensorflow/python/data/ops/iterator_ops.py:800\u001B[0m, in \u001B[0;36mOwnedIterator.__next__\u001B[0;34m(self)\u001B[0m\n\u001B[1;32m    798\u001B[0m \u001B[38;5;28;01mdef\u001B[39;00m \u001B[38;5;21m__next__\u001B[39m(\u001B[38;5;28mself\u001B[39m):\n\u001B[1;32m    799\u001B[0m   \u001B[38;5;28;01mtry\u001B[39;00m:\n\u001B[0;32m--> 800\u001B[0m     \u001B[38;5;28;01mreturn\u001B[39;00m \u001B[38;5;28;43mself\u001B[39;49m\u001B[38;5;241;43m.\u001B[39;49m\u001B[43m_next_internal\u001B[49m\u001B[43m(\u001B[49m\u001B[43m)\u001B[49m\n\u001B[1;32m    801\u001B[0m   \u001B[38;5;28;01mexcept\u001B[39;00m errors\u001B[38;5;241m.\u001B[39mOutOfRangeError:\n\u001B[1;32m    802\u001B[0m     \u001B[38;5;28;01mraise\u001B[39;00m \u001B[38;5;167;01mStopIteration\u001B[39;00m\n",
      "File \u001B[0;32m~/.cache/pypoetry/virtualenvs/multibandscalable-rnn-2dkdk7iS-py3.8/lib/python3.8/site-packages/tensorflow/python/data/ops/iterator_ops.py:783\u001B[0m, in \u001B[0;36mOwnedIterator._next_internal\u001B[0;34m(self)\u001B[0m\n\u001B[1;32m    780\u001B[0m \u001B[38;5;66;03m# TODO(b/77291417): This runs in sync mode as iterators use an error status\u001B[39;00m\n\u001B[1;32m    781\u001B[0m \u001B[38;5;66;03m# to communicate that there is no more data to iterate over.\u001B[39;00m\n\u001B[1;32m    782\u001B[0m \u001B[38;5;28;01mwith\u001B[39;00m context\u001B[38;5;241m.\u001B[39mexecution_mode(context\u001B[38;5;241m.\u001B[39mSYNC):\n\u001B[0;32m--> 783\u001B[0m   ret \u001B[38;5;241m=\u001B[39m \u001B[43mgen_dataset_ops\u001B[49m\u001B[38;5;241;43m.\u001B[39;49m\u001B[43miterator_get_next\u001B[49m\u001B[43m(\u001B[49m\n\u001B[1;32m    784\u001B[0m \u001B[43m      \u001B[49m\u001B[38;5;28;43mself\u001B[39;49m\u001B[38;5;241;43m.\u001B[39;49m\u001B[43m_iterator_resource\u001B[49m\u001B[43m,\u001B[49m\n\u001B[1;32m    785\u001B[0m \u001B[43m      \u001B[49m\u001B[43moutput_types\u001B[49m\u001B[38;5;241;43m=\u001B[39;49m\u001B[38;5;28;43mself\u001B[39;49m\u001B[38;5;241;43m.\u001B[39;49m\u001B[43m_flat_output_types\u001B[49m\u001B[43m,\u001B[49m\n\u001B[1;32m    786\u001B[0m \u001B[43m      \u001B[49m\u001B[43moutput_shapes\u001B[49m\u001B[38;5;241;43m=\u001B[39;49m\u001B[38;5;28;43mself\u001B[39;49m\u001B[38;5;241;43m.\u001B[39;49m\u001B[43m_flat_output_shapes\u001B[49m\u001B[43m)\u001B[49m\n\u001B[1;32m    788\u001B[0m   \u001B[38;5;28;01mtry\u001B[39;00m:\n\u001B[1;32m    789\u001B[0m     \u001B[38;5;66;03m# Fast path for the case `self._structure` is not a nested structure.\u001B[39;00m\n\u001B[1;32m    790\u001B[0m     \u001B[38;5;28;01mreturn\u001B[39;00m \u001B[38;5;28mself\u001B[39m\u001B[38;5;241m.\u001B[39m_element_spec\u001B[38;5;241m.\u001B[39m_from_compatible_tensor_list(ret)  \u001B[38;5;66;03m# pylint: disable=protected-access\u001B[39;00m\n",
      "File \u001B[0;32m~/.cache/pypoetry/virtualenvs/multibandscalable-rnn-2dkdk7iS-py3.8/lib/python3.8/site-packages/tensorflow/python/ops/gen_dataset_ops.py:2845\u001B[0m, in \u001B[0;36miterator_get_next\u001B[0;34m(iterator, output_types, output_shapes, name)\u001B[0m\n\u001B[1;32m   2843\u001B[0m   \u001B[38;5;28;01mreturn\u001B[39;00m _result\n\u001B[1;32m   2844\u001B[0m \u001B[38;5;28;01mexcept\u001B[39;00m _core\u001B[38;5;241m.\u001B[39m_NotOkStatusException \u001B[38;5;28;01mas\u001B[39;00m e:\n\u001B[0;32m-> 2845\u001B[0m   \u001B[43m_ops\u001B[49m\u001B[38;5;241;43m.\u001B[39;49m\u001B[43mraise_from_not_ok_status\u001B[49m\u001B[43m(\u001B[49m\u001B[43me\u001B[49m\u001B[43m,\u001B[49m\u001B[43m \u001B[49m\u001B[43mname\u001B[49m\u001B[43m)\u001B[49m\n\u001B[1;32m   2846\u001B[0m \u001B[38;5;28;01mexcept\u001B[39;00m _core\u001B[38;5;241m.\u001B[39m_FallbackException:\n\u001B[1;32m   2847\u001B[0m   \u001B[38;5;28;01mpass\u001B[39;00m\n",
      "File \u001B[0;32m~/.cache/pypoetry/virtualenvs/multibandscalable-rnn-2dkdk7iS-py3.8/lib/python3.8/site-packages/tensorflow/python/framework/ops.py:7107\u001B[0m, in \u001B[0;36mraise_from_not_ok_status\u001B[0;34m(e, name)\u001B[0m\n\u001B[1;32m   7105\u001B[0m \u001B[38;5;28;01mdef\u001B[39;00m \u001B[38;5;21mraise_from_not_ok_status\u001B[39m(e, name):\n\u001B[1;32m   7106\u001B[0m   e\u001B[38;5;241m.\u001B[39mmessage \u001B[38;5;241m+\u001B[39m\u001B[38;5;241m=\u001B[39m (\u001B[38;5;124m\"\u001B[39m\u001B[38;5;124m name: \u001B[39m\u001B[38;5;124m\"\u001B[39m \u001B[38;5;241m+\u001B[39m name \u001B[38;5;28;01mif\u001B[39;00m name \u001B[38;5;129;01mis\u001B[39;00m \u001B[38;5;129;01mnot\u001B[39;00m \u001B[38;5;28;01mNone\u001B[39;00m \u001B[38;5;28;01melse\u001B[39;00m \u001B[38;5;124m\"\u001B[39m\u001B[38;5;124m\"\u001B[39m)\n\u001B[0;32m-> 7107\u001B[0m   \u001B[38;5;28;01mraise\u001B[39;00m core\u001B[38;5;241m.\u001B[39m_status_to_exception(e) \u001B[38;5;28;01mfrom\u001B[39;00m \u001B[38;5;28;01mNone\u001B[39;00m\n",
      "\u001B[0;31mNotFoundError\u001B[0m: ./Fold/Fold_1/test/*.tfrecord; No such file or directory [Op:IteratorGetNext]"
     ]
    }
   ],
   "source": [
    "for batch in new.dataset_test:\n",
    "    break\n",
    "batch"
   ],
   "metadata": {
    "collapsed": false,
    "ExecuteTime": {
     "end_time": "2023-07-17T22:46:48.335937202Z",
     "start_time": "2023-07-17T22:46:47.636000273Z"
    }
   }
  },
  {
   "cell_type": "code",
   "execution_count": 17,
   "outputs": [],
   "source": [
    "path_parameters=settings_path\n",
    "path_records_test=test_files\n",
    "path_weights=weights_path"
   ],
   "metadata": {
    "collapsed": false,
    "ExecuteTime": {
     "end_time": "2023-07-17T22:39:59.259170372Z",
     "start_time": "2023-07-17T22:39:59.249137967Z"
    }
   }
  },
  {
   "cell_type": "code",
   "execution_count": 19,
   "outputs": [
    {
     "ename": "AttributeError",
     "evalue": "'Network' object has no attribute '__initialize_dataset_test'",
     "output_type": "error",
     "traceback": [
      "\u001B[0;31m---------------------------------------------------------------------------\u001B[0m",
      "\u001B[0;31mAttributeError\u001B[0m                            Traceback (most recent call last)",
      "Cell \u001B[0;32mIn[19], line 9\u001B[0m\n\u001B[1;32m      7\u001B[0m         new\u001B[38;5;241m.\u001B[39mscalers \u001B[38;5;241m=\u001B[39m pickle\u001B[38;5;241m.\u001B[39mload(file)\n\u001B[1;32m      8\u001B[0m \u001B[38;5;66;03m# Initialize dataset\u001B[39;00m\n\u001B[0;32m----> 9\u001B[0m \u001B[43mnew\u001B[49m\u001B[38;5;241;43m.\u001B[39;49m\u001B[43m__initialize_dataset_test\u001B[49m(path_records_test)\n",
      "\u001B[0;31mAttributeError\u001B[0m: 'Network' object has no attribute '__initialize_dataset_test'"
     ]
    }
   ],
   "source": [
    "import pickle\n",
    "new.load_setup(path_parameters)\n",
    "# Load scalers\n",
    "if 'regression' in new.mode:\n",
    "    # Load the scalers\n",
    "    with open(new.path_scalers, 'rb') as file:\n",
    "        new.scalers = pickle.load(file)\n",
    "# Initialize dataset\n",
    "new.__initialize_dataset_test(path_records_test)"
   ],
   "metadata": {
    "collapsed": false,
    "ExecuteTime": {
     "end_time": "2023-07-17T22:40:37.339977586Z",
     "start_time": "2023-07-17T22:40:37.260228407Z"
    }
   }
  },
  {
   "cell_type": "code",
   "execution_count": null,
   "outputs": [],
   "source": [],
   "metadata": {
    "collapsed": false
   }
  }
 ],
 "metadata": {
  "kernelspec": {
   "display_name": "Python 3",
   "language": "python",
   "name": "python3"
  },
  "language_info": {
   "codemirror_mode": {
    "name": "ipython",
    "version": 2
   },
   "file_extension": ".py",
   "mimetype": "text/x-python",
   "name": "python",
   "nbconvert_exporter": "python",
   "pygments_lexer": "ipython2",
   "version": "2.7.6"
  }
 },
 "nbformat": 4,
 "nbformat_minor": 0
}
