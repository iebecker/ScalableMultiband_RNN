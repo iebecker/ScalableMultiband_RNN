{
 "cells": [
  {
   "cell_type": "code",
   "execution_count": 1,
   "metadata": {
    "tags": []
   },
   "outputs": [],
   "source": [
    "import pandas as pd\n",
    "import numpy as np\n",
    "import sys\n",
    "import matplotlib.pyplot as plt\n",
    "import tensorflow as tf\n",
    "import os\n",
    "from glob import glob\n",
    "sys.path.append('../../src')\n",
    "sys.path.append('../../')\n",
    "import classifier.Multiband as multiband\n"
   ]
  },
  {
   "cell_type": "markdown",
   "metadata": {},
   "source": [
    "the filtering of the times must be done in the spine, not in each band. Spit all the times then slect the best one. "
   ]
  },
  {
   "cell_type": "code",
   "execution_count": 2,
   "metadata": {
    "tags": []
   },
   "outputs": [
    {
     "name": "stderr",
     "output_type": "stream",
     "text": [
      "2023-07-07 13:02:02.407792: I tensorflow/stream_executor/cuda/cuda_gpu_executor.cc:939] successful NUMA node read from SysFS had negative value (-1), but there must be at least one NUMA node, so returning NUMA node zero\n",
      "2023-07-07 13:02:02.408377: I tensorflow/stream_executor/cuda/cuda_gpu_executor.cc:939] successful NUMA node read from SysFS had negative value (-1), but there must be at least one NUMA node, so returning NUMA node zero\n",
      "2023-07-07 13:02:02.418458: I tensorflow/stream_executor/cuda/cuda_gpu_executor.cc:939] successful NUMA node read from SysFS had negative value (-1), but there must be at least one NUMA node, so returning NUMA node zero\n",
      "2023-07-07 13:02:02.418773: I tensorflow/stream_executor/cuda/cuda_gpu_executor.cc:939] successful NUMA node read from SysFS had negative value (-1), but there must be at least one NUMA node, so returning NUMA node zero\n",
      "2023-07-07 13:02:02.419035: I tensorflow/stream_executor/cuda/cuda_gpu_executor.cc:939] successful NUMA node read from SysFS had negative value (-1), but there must be at least one NUMA node, so returning NUMA node zero\n",
      "2023-07-07 13:02:02.419290: I tensorflow/stream_executor/cuda/cuda_gpu_executor.cc:939] successful NUMA node read from SysFS had negative value (-1), but there must be at least one NUMA node, so returning NUMA node zero\n"
     ]
    }
   ],
   "source": [
    "# To see if the system regognises the GPU\n",
    "device = 0\n",
    "devices = tf.config.experimental.list_physical_devices('GPU')\n",
    "tf.config.set_visible_devices(devices[device], 'GPU')\n",
    "tf.config.experimental.set_memory_growth(device=devices[device], enable=True)\n"
   ]
  },
  {
   "cell_type": "markdown",
   "metadata": {},
   "source": [
    "Find the different folds and train a model using the stored data."
   ]
  },
  {
   "cell_type": "code",
   "execution_count": 3,
   "metadata": {
    "tags": []
   },
   "outputs": [
    {
     "data": {
      "text/plain": [
       "['../02_CreateRecords/Folds/Fold_1/',\n",
       " '../02_CreateRecords/Folds/Fold_2/',\n",
       " '../02_CreateRecords/Folds/Fold_3/']"
      ]
     },
     "execution_count": 3,
     "metadata": {},
     "output_type": "execute_result"
    }
   ],
   "source": [
    "survey = 'Gaia'\n",
    "path = os.path.join('../02_CreateRecords/Folds/Fold_*/',)\n",
    "folds = glob(path)\n",
    "folds.sort()\n",
    "folds"
   ]
  },
  {
   "cell_type": "markdown",
   "metadata": {},
   "source": [
    "Create folder results"
   ]
  },
  {
   "cell_type": "code",
   "execution_count": 4,
   "metadata": {
    "tags": []
   },
   "outputs": [],
   "source": [
    "if not os.path.exists('./Results'):\n",
    "    os.mkdir('./Results')\n"
   ]
  },
  {
   "cell_type": "markdown",
   "metadata": {},
   "source": [
    "Define the arguments for all the models."
   ]
  },
  {
   "cell_type": "code",
   "execution_count": 5,
   "metadata": {
    "tags": []
   },
   "outputs": [],
   "source": [
    "train_args = {\n",
    "            'hidden_size_bands':[128, 128, 128],\n",
    "            'hidden_size_central':[128, 128],\n",
    "            'fc_layers_bands':[128,128,128],\n",
    "            'fc_layers_central':[128,128,128], # Neurons of each layer\n",
    "            'regression_size':[128, 128],#each element is a layer with that size.\n",
    "            'buffer_size':10000,\n",
    "            'epochs':5,\n",
    "            'num_threads':7,\n",
    "            'batch_size':1024,\n",
    "            'dropout':0.40,\n",
    "            'lr':[[1e-3]*2, 1e-3], # [[band1, band2], central]\n",
    "            'val_steps':50,\n",
    "            'max_to_keep':0, # Not Used \n",
    "            'steps_wait':0, \n",
    "            'use_class_weights':False,# Not Used\n",
    "            'mode' : 'classifier+regression'\n",
    "            }\n",
    "loss_weights = {'Class':300.0, 'T_eff':20.0,'Radius':1e0}\n",
    "\n",
    "callbacks_args = {'patience': 20,\n",
    "                  'mode':'max',\n",
    "                  'restore_best_weights':True,\n",
    "                  'min_delta': 0.001\n",
    "                 }\n",
    "train_args_specific={\n",
    "                    'phys_params': ['T_eff', 'Radius'],\n",
    "                    'use_output_bands' : True,  # Working\n",
    "                    'use_output_central' : False, # Not used\n",
    "                    'use_common_layers' : False, # NOT Working\n",
    "                    'bidirectional_central' : False,# Working\n",
    "                    'bidirectional_band' : False,# Not Working\n",
    "                    'layer_norm_params' : None, # Used to normalyze common layers\n",
    "                    'use_gated_common' : False, # Working\n",
    "                    'l1':0.0,\n",
    "                    'l2':0.0,   \n",
    "                    'N_skip' : 8, # Cannot be greater than the number of timesteps\n",
    "                    'use_raw_input_central': True,\n",
    "                    'train_steps_central' : 2,\n",
    "                    'print_report' : True,\n",
    "                    'loss_weights_central' : loss_weights,\n",
    "                    'callbacks_args':callbacks_args\n",
    "                    }\n",
    "\n"
   ]
  },
  {
   "cell_type": "code",
   "execution_count": 6,
   "metadata": {
    "tags": []
   },
   "outputs": [
    {
     "name": "stderr",
     "output_type": "stream",
     "text": [
      "2023-07-07 13:02:02.452340: I tensorflow/core/platform/cpu_feature_guard.cc:151] This TensorFlow binary is optimized with oneAPI Deep Neural Network Library (oneDNN) to use the following CPU instructions in performance-critical operations:  AVX2 FMA\n",
      "To enable them in other operations, rebuild TensorFlow with the appropriate compiler flags.\n",
      "2023-07-07 13:02:02.452730: I tensorflow/stream_executor/cuda/cuda_gpu_executor.cc:939] successful NUMA node read from SysFS had negative value (-1), but there must be at least one NUMA node, so returning NUMA node zero\n",
      "2023-07-07 13:02:02.452923: I tensorflow/stream_executor/cuda/cuda_gpu_executor.cc:939] successful NUMA node read from SysFS had negative value (-1), but there must be at least one NUMA node, so returning NUMA node zero\n",
      "2023-07-07 13:02:02.453057: I tensorflow/stream_executor/cuda/cuda_gpu_executor.cc:939] successful NUMA node read from SysFS had negative value (-1), but there must be at least one NUMA node, so returning NUMA node zero\n",
      "2023-07-07 13:02:02.847442: I tensorflow/stream_executor/cuda/cuda_gpu_executor.cc:939] successful NUMA node read from SysFS had negative value (-1), but there must be at least one NUMA node, so returning NUMA node zero\n",
      "2023-07-07 13:02:02.847626: I tensorflow/stream_executor/cuda/cuda_gpu_executor.cc:939] successful NUMA node read from SysFS had negative value (-1), but there must be at least one NUMA node, so returning NUMA node zero\n",
      "2023-07-07 13:02:02.847781: I tensorflow/stream_executor/cuda/cuda_gpu_executor.cc:939] successful NUMA node read from SysFS had negative value (-1), but there must be at least one NUMA node, so returning NUMA node zero\n",
      "2023-07-07 13:02:02.847907: I tensorflow/core/common_runtime/gpu/gpu_device.cc:1525] Created device /job:localhost/replica:0/task:0/device:GPU:0 with 5615 MB memory:  -> device: 0, name: NVIDIA GeForce RTX 2080 SUPER, pci bus id: 0000:01:00.0, compute capability: 7.5\n"
     ]
    },
    {
     "name": "stdout",
     "output_type": "stream",
     "text": [
      "./Results/Fold_1/Models/20230707-1302\n",
      "Start training\n"
     ]
    },
    {
     "name": "stderr",
     "output_type": "stream",
     "text": [
      "2023-07-07 13:02:19.634926: I tensorflow/stream_executor/cuda/cuda_dnn.cc:366] Loaded cuDNN version 8101\n"
     ]
    },
    {
     "name": "stdout",
     "output_type": "stream",
     "text": [
      "13/13 [==============================] - 3s 45ms/step - loss: 0.1220 - Class_loss: 0.1220 - Class_Acc: 0.2404 - Class_Top2: 0.4792\n",
      "13/13 [==============================] - 3s 32ms/step - loss: 0.1134 - Class_loss: 0.1134 - Class_Acc: 0.2425 - Class_Top2: 0.5161\n",
      "13/13 [==============================] - 10s 129ms/step - loss: 8092.1855 - Class_loss: 26.9647 - Pred_Radius_loss: 1.2860 - Pred_T_eff_loss: 0.0741 - Class_CentralAcc: 0.5056 - Class_CentralTop2: 0.7387 - Class_FinalAcc: 0.4952 - Class_FinalTop2: 0.7284 - Class_Final_FScore: 0.3448 - Pred_Radius_Masked_RMSE: 0.8473 - Pred_Radius_Masked_R2: 0.5577 - Pred_T_eff_Masked_RMSE: 0.2198 - Pred_T_eff_Masked_R2: 0.6987\n",
      "13/13 [==============================] - 1s 34ms/step - loss: 0.1208 - Class_loss: 0.1208 - Class_Acc: 0.2392 - Class_Top2: 0.4801\n",
      "13/13 [==============================] - 1s 31ms/step - loss: 0.1134 - Class_loss: 0.1134 - Class_Acc: 0.2433 - Class_Top2: 0.5287\n",
      "13/13 [==============================] - 2s 125ms/step - loss: 6824.2607 - Class_loss: 22.7401 - Pred_Radius_loss: 1.1816 - Pred_T_eff_loss: 0.0529 - Class_CentralAcc: 0.6069 - Class_CentralTop2: 0.8055 - Class_FinalAcc: 0.6194 - Class_FinalTop2: 0.8154 - Class_Final_FScore: 0.4697 - Pred_Radius_Masked_RMSE: 0.8130 - Pred_Radius_Masked_R2: 0.5928 - Pred_T_eff_Masked_RMSE: 0.1859 - Pred_T_eff_Masked_R2: 0.7845\n",
      "13/13 [==============================] - 0s 31ms/step - loss: 0.1176 - Class_loss: 0.1176 - Class_Acc: 0.2507 - Class_Top2: 0.6224\n",
      "13/13 [==============================] - 1s 33ms/step - loss: 0.1107 - Class_loss: 0.1107 - Class_Acc: 0.2450 - Class_Top2: 0.4801\n",
      "13/13 [==============================] - 2s 161ms/step - loss: 6561.4111 - Class_loss: 21.8646 - Pred_Radius_loss: 1.1153 - Pred_T_eff_loss: 0.0460 - Class_CentralAcc: 0.6183 - Class_CentralTop2: 0.8198 - Class_FinalAcc: 0.6395 - Class_FinalTop2: 0.8331 - Class_Final_FScore: 0.5164 - Pred_Radius_Masked_RMSE: 0.7896 - Pred_Radius_Masked_R2: 0.6159 - Pred_T_eff_Masked_RMSE: 0.1733 - Pred_T_eff_Masked_R2: 0.8128\n",
      "13/13 [==============================] - 0s 28ms/step - loss: 0.1162 - Class_loss: 0.1162 - Class_Acc: 0.3050 - Class_Top2: 0.6509\n",
      "13/13 [==============================] - 0s 28ms/step - loss: 0.1096 - Class_loss: 0.1096 - Class_Acc: 0.2680 - Class_Top2: 0.4897\n",
      "13/13 [==============================] - 2s 141ms/step - loss: 6333.5415 - Class_loss: 21.1050 - Pred_Radius_loss: 1.1290 - Pred_T_eff_loss: 0.0452 - Class_CentralAcc: 0.6277 - Class_CentralTop2: 0.8204 - Class_FinalAcc: 0.6400 - Class_FinalTop2: 0.8260 - Class_Final_FScore: 0.5043 - Pred_Radius_Masked_RMSE: 0.7947 - Pred_Radius_Masked_R2: 0.6109 - Pred_T_eff_Masked_RMSE: 0.1717 - Pred_T_eff_Masked_R2: 0.8161\n",
      "13/13 [==============================] - 1s 33ms/step - loss: 0.1095 - Class_loss: 0.1095 - Class_Acc: 0.2987 - Class_Top2: 0.6837\n",
      "13/13 [==============================] - 1s 32ms/step - loss: 0.1063 - Class_loss: 0.1063 - Class_Acc: 0.3146 - Class_Top2: 0.5662\n",
      "13/13 [==============================] - 2s 133ms/step - loss: 6070.4604 - Class_loss: 20.2281 - Pred_Radius_loss: 1.0865 - Pred_T_eff_loss: 0.0478 - Class_CentralAcc: 0.6376 - Class_CentralTop2: 0.8293 - Class_FinalAcc: 0.6441 - Class_FinalTop2: 0.8319 - Class_Final_FScore: 0.5204 - Pred_Radius_Masked_RMSE: 0.7794 - Pred_Radius_Masked_R2: 0.6258 - Pred_T_eff_Masked_RMSE: 0.1765 - Pred_T_eff_Masked_R2: 0.8058\n",
      "              precision    recall  f1-score   support\n",
      "\n",
      "         CEP       0.52      0.91      0.66      1367\n",
      "  DSCT_SXPHE       0.50      0.40      0.45       880\n",
      "     MIRA_SR       0.87      0.91      0.89      2200\n",
      "        RRAB       0.64      0.63      0.63      2200\n",
      "         RRC       0.62      0.48      0.54      2200\n",
      "       T2CEP       0.62      0.01      0.02       436\n",
      "\n",
      "    accuracy                           0.65      9283\n",
      "   macro avg       0.63      0.56      0.53      9283\n",
      "weighted avg       0.66      0.65      0.63      9283\n",
      "\n",
      "{'R2': {'T_eff': 0.8170352135638683, 'Radius': 0.6283922650155108}, 'RMSE': {'T_eff': 508.9868, 'Radius': 17.114172}}\n",
      "./Results/Fold_2/Models/20230707-1304\n",
      "Start training\n",
      "13/13 [==============================] - 3s 27ms/step - loss: 0.1416 - Class_loss: 0.1416 - Class_Acc: 0.2453 - Class_Top2: 0.4819\n",
      "13/13 [==============================] - 3s 60ms/step - loss: 0.1351 - Class_loss: 0.1351 - Class_Acc: 0.2475 - Class_Top2: 0.5335\n",
      "13/13 [==============================] - 9s 127ms/step - loss: 8139.5327 - Class_loss: 27.1230 - Pred_Radius_loss: 1.2610 - Pred_T_eff_loss: 0.0678 - Class_CentralAcc: 0.4939 - Class_CentralTop2: 0.6999 - Class_FinalAcc: 0.4884 - Class_FinalTop2: 0.6850 - Class_Final_FScore: 0.3539 - Pred_Radius_Masked_RMSE: 0.8386 - Pred_Radius_Masked_R2: 0.5668 - Pred_T_eff_Masked_RMSE: 0.2107 - Pred_T_eff_Masked_R2: 0.7233\n",
      "13/13 [==============================] - 0s 27ms/step - loss: 0.1373 - Class_loss: 0.1373 - Class_Acc: 0.2647 - Class_Top2: 0.4867\n",
      "13/13 [==============================] - 0s 26ms/step - loss: 0.1350 - Class_loss: 0.1350 - Class_Acc: 0.2433 - Class_Top2: 0.4749\n",
      "13/13 [==============================] - 2s 135ms/step - loss: 7440.1318 - Class_loss: 24.7925 - Pred_Radius_loss: 1.1933 - Pred_T_eff_loss: 0.0595 - Class_CentralAcc: 0.5468 - Class_CentralTop2: 0.7721 - Class_FinalAcc: 0.5516 - Class_FinalTop2: 0.7786 - Class_Final_FScore: 0.3857 - Pred_Radius_Masked_RMSE: 0.8162 - Pred_Radius_Masked_R2: 0.5896 - Pred_T_eff_Masked_RMSE: 0.1977 - Pred_T_eff_Masked_R2: 0.7563\n",
      "13/13 [==============================] - 0s 26ms/step - loss: 0.1333 - Class_loss: 0.1333 - Class_Acc: 0.3097 - Class_Top2: 0.5685\n",
      "13/13 [==============================] - 0s 26ms/step - loss: 0.1321 - Class_loss: 0.1321 - Class_Acc: 0.2388 - Class_Top2: 0.4763\n",
      "13/13 [==============================] - 2s 142ms/step - loss: 6669.4917 - Class_loss: 22.2239 - Pred_Radius_loss: 1.1476 - Pred_T_eff_loss: 0.0595 - Class_CentralAcc: 0.6150 - Class_CentralTop2: 0.8113 - Class_FinalAcc: 0.6354 - Class_FinalTop2: 0.8222 - Class_Final_FScore: 0.5093 - Pred_Radius_Masked_RMSE: 0.8008 - Pred_Radius_Masked_R2: 0.6049 - Pred_T_eff_Masked_RMSE: 0.1973 - Pred_T_eff_Masked_R2: 0.7574\n",
      "13/13 [==============================] - 0s 27ms/step - loss: 0.1307 - Class_loss: 0.1307 - Class_Acc: 0.2892 - Class_Top2: 0.5884\n",
      "13/13 [==============================] - 0s 26ms/step - loss: 0.1297 - Class_loss: 0.1297 - Class_Acc: 0.2470 - Class_Top2: 0.4862\n",
      "13/13 [==============================] - 2s 123ms/step - loss: 6501.8960 - Class_loss: 21.6661 - Pred_Radius_loss: 1.0844 - Pred_T_eff_loss: 0.0484 - Class_CentralAcc: 0.6298 - Class_CentralTop2: 0.8218 - Class_FinalAcc: 0.6416 - Class_FinalTop2: 0.8284 - Class_Final_FScore: 0.5255 - Pred_Radius_Masked_RMSE: 0.7778 - Pred_Radius_Masked_R2: 0.6273 - Pred_T_eff_Masked_RMSE: 0.1780 - Pred_T_eff_Masked_R2: 0.8025\n",
      "13/13 [==============================] - 0s 29ms/step - loss: 0.1299 - Class_loss: 0.1299 - Class_Acc: 0.2672 - Class_Top2: 0.6161\n",
      "13/13 [==============================] - 0s 30ms/step - loss: 0.1291 - Class_loss: 0.1291 - Class_Acc: 0.2426 - Class_Top2: 0.4815\n",
      "13/13 [==============================] - 2s 117ms/step - loss: 6401.7383 - Class_loss: 21.3324 - Pred_Radius_loss: 1.0650 - Pred_T_eff_loss: 0.0483 - Class_CentralAcc: 0.6159 - Class_CentralTop2: 0.8192 - Class_FinalAcc: 0.6279 - Class_FinalTop2: 0.8299 - Class_Final_FScore: 0.5009 - Pred_Radius_Masked_RMSE: 0.7711 - Pred_Radius_Masked_R2: 0.6337 - Pred_T_eff_Masked_RMSE: 0.1778 - Pred_T_eff_Masked_R2: 0.8028\n",
      "              precision    recall  f1-score   support\n",
      "\n",
      "         CEP       0.71      0.45      0.55      1367\n",
      "  DSCT_SXPHE       0.60      0.20      0.29       880\n",
      "     MIRA_SR       0.90      0.90      0.90      2200\n",
      "        RRAB       0.54      0.79      0.64      2200\n",
      "         RRC       0.49      0.59      0.53      2200\n",
      "       T2CEP       0.35      0.04      0.08       436\n",
      "\n",
      "    accuracy                           0.63      9283\n",
      "   macro avg       0.60      0.49      0.50      9283\n",
      "weighted avg       0.63      0.63      0.60      9283\n",
      "\n",
      "{'R2': {'T_eff': 0.803978576701706, 'Radius': 0.6403863934153453}, 'RMSE': {'T_eff': 526.82355, 'Radius': 16.309278}}\n",
      "./Results/Fold_3/Models/20230707-1307\n",
      "Start training\n",
      "13/13 [==============================] - 3s 31ms/step - loss: 0.1252 - Class_loss: 0.1252 - Class_Acc: 0.2446 - Class_Top2: 0.4934\n",
      "13/13 [==============================] - 3s 30ms/step - loss: 0.1182 - Class_loss: 0.1182 - Class_Acc: 0.2547 - Class_Top2: 0.4809\n",
      "13/13 [==============================] - 10s 147ms/step - loss: 6638.0957 - Class_loss: 22.1167 - Pred_Radius_loss: 1.2440 - Pred_T_eff_loss: 0.0919 - Class_CentralAcc: 0.5681 - Class_CentralTop2: 0.7994 - Class_FinalAcc: 0.5683 - Class_FinalTop2: 0.8154 - Class_Final_FScore: 0.3965 - Pred_Radius_Masked_RMSE: 0.8424 - Pred_Radius_Masked_R2: 0.5572 - Pred_T_eff_Masked_RMSE: 0.2461 - Pred_T_eff_Masked_R2: 0.6131\n",
      "13/13 [==============================] - 0s 30ms/step - loss: 0.1220 - Class_loss: 0.1220 - Class_Acc: 0.2565 - Class_Top2: 0.5676\n",
      "13/13 [==============================] - 0s 29ms/step - loss: 0.1161 - Class_loss: 0.1161 - Class_Acc: 0.2467 - Class_Top2: 0.4854\n",
      "13/13 [==============================] - 2s 164ms/step - loss: 5972.8091 - Class_loss: 19.9010 - Pred_Radius_loss: 1.1073 - Pred_T_eff_loss: 0.0700 - Class_CentralAcc: 0.6294 - Class_CentralTop2: 0.8322 - Class_FinalAcc: 0.6648 - Class_FinalTop2: 0.8479 - Class_Final_FScore: 0.5304 - Pred_Radius_Masked_RMSE: 0.7948 - Pred_Radius_Masked_R2: 0.6059 - Pred_T_eff_Masked_RMSE: 0.2143 - Pred_T_eff_Masked_R2: 0.7068\n",
      "13/13 [==============================] - 0s 28ms/step - loss: 0.1196 - Class_loss: 0.1196 - Class_Acc: 0.2840 - Class_Top2: 0.5722\n",
      "13/13 [==============================] - 0s 29ms/step - loss: 0.1140 - Class_loss: 0.1140 - Class_Acc: 0.2634 - Class_Top2: 0.5010\n",
      "13/13 [==============================] - 2s 139ms/step - loss: 5583.0337 - Class_loss: 18.6022 - Pred_Radius_loss: 1.2056 - Pred_T_eff_loss: 0.0584 - Class_CentralAcc: 0.6498 - Class_CentralTop2: 0.8296 - Class_FinalAcc: 0.6544 - Class_FinalTop2: 0.8353 - Class_Final_FScore: 0.5429 - Pred_Radius_Masked_RMSE: 0.8293 - Pred_Radius_Masked_R2: 0.5709 - Pred_T_eff_Masked_RMSE: 0.1963 - Pred_T_eff_Masked_R2: 0.7539\n",
      "13/13 [==============================] - 0s 28ms/step - loss: 0.1149 - Class_loss: 0.1149 - Class_Acc: 0.3272 - Class_Top2: 0.6944\n",
      "13/13 [==============================] - 0s 28ms/step - loss: 0.1114 - Class_loss: 0.1114 - Class_Acc: 0.3414 - Class_Top2: 0.5706\n",
      "13/13 [==============================] - 2s 156ms/step - loss: 5073.9556 - Class_loss: 16.9066 - Pred_Radius_loss: 1.0679 - Pred_T_eff_loss: 0.0451 - Class_CentralAcc: 0.6832 - Class_CentralTop2: 0.8662 - Class_FinalAcc: 0.7134 - Class_FinalTop2: 0.8787 - Class_Final_FScore: 0.5560 - Pred_Radius_Masked_RMSE: 0.7805 - Pred_Radius_Masked_R2: 0.6199 - Pred_T_eff_Masked_RMSE: 0.1721 - Pred_T_eff_Masked_R2: 0.8108\n",
      "13/13 [==============================] - 1s 34ms/step - loss: 0.1107 - Class_loss: 0.1107 - Class_Acc: 0.3832 - Class_Top2: 0.6971\n",
      "13/13 [==============================] - 0s 29ms/step - loss: 0.1082 - Class_loss: 0.1082 - Class_Acc: 0.3351 - Class_Top2: 0.5895\n",
      "13/13 [==============================] - 2s 151ms/step - loss: 4791.6304 - Class_loss: 15.9649 - Pred_Radius_loss: 1.0412 - Pred_T_eff_loss: 0.0565 - Class_CentralAcc: 0.7103 - Class_CentralTop2: 0.8707 - Class_FinalAcc: 0.7329 - Class_FinalTop2: 0.8812 - Class_Final_FScore: 0.6051 - Pred_Radius_Masked_RMSE: 0.7709 - Pred_Radius_Masked_R2: 0.6292 - Pred_T_eff_Masked_RMSE: 0.1927 - Pred_T_eff_Masked_R2: 0.7629\n",
      "              precision    recall  f1-score   support\n",
      "\n",
      "         CEP       0.59      0.85      0.70      1367\n",
      "  DSCT_SXPHE       0.57      0.38      0.45       880\n",
      "     MIRA_SR       0.99      0.99      0.99      2200\n",
      "        RRAB       0.76      0.68      0.72      2200\n",
      "         RRC       0.62      0.70      0.66      2200\n",
      "       T2CEP       0.21      0.03      0.06       436\n",
      "\n",
      "    accuracy                           0.73      9283\n",
      "   macro avg       0.62      0.61      0.60      9283\n",
      "weighted avg       0.71      0.73      0.71      9283\n",
      "\n",
      "{'R2': {'T_eff': 0.7552957538944224, 'Radius': 0.6425367089886925}, 'RMSE': {'T_eff': 589.58105, 'Radius': 16.234037}}\n"
     ]
    }
   ],
   "source": [
    "for fold in folds:\n",
    "    tf.keras.backend.clear_session()\n",
    "    # Set the fold path\n",
    "    base_dir = fold+'/'\n",
    "    \n",
    "    # Set the save path for this fold. Create folder if needed\n",
    "    path_results_fold = fold.replace('../02_CreateRecords', '.').replace('/Folds/', '/Results/')\n",
    "\n",
    "    if not os.path.exists(path_results_fold):\n",
    "        os.mkdir(path_results_fold)    \n",
    "\n",
    "    train_args_specific['save_dir'] = path_results_fold\n",
    "    train_args_specific['metadata_pre_path'] = base_dir+'metadata_preprocess.json'  \n",
    "    train_args_specific['path_scalers'] =  base_dir+'scalers.pkl'\n",
    "    # Define the train args\n",
    "    train_args = {**train_args, **train_args_specific}\n",
    "    \n",
    "    train_files = base_dir+'train/*.tfrecord'\n",
    "    val_files = base_dir+'val/*.tfrecord'\n",
    "    test_files = base_dir+'test/*.tfrecord'\n",
    "    \n",
    "    new = multiband.Network()    \n",
    "    new.train(train_args, train_files, val_files, test_files)\n",
    "    new.train_loop()\n"
   ]
  },
  {
   "cell_type": "code",
   "execution_count": null,
   "metadata": {},
   "outputs": [],
   "source": []
  }
 ],
 "metadata": {
  "kernelspec": {
   "display_name": "Python 3 (ipykernel)",
   "language": "python",
   "name": "python3"
  },
  "language_info": {
   "codemirror_mode": {
    "name": "ipython",
    "version": 3
   },
   "file_extension": ".py",
   "mimetype": "text/x-python",
   "name": "python",
   "nbconvert_exporter": "python",
   "pygments_lexer": "ipython3",
   "version": "3.8.10"
  }
 },
 "nbformat": 4,
 "nbformat_minor": 4
}
