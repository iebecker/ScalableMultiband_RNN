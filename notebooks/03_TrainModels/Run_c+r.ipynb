{
 "cells": [
  {
   "cell_type": "code",
   "execution_count": 1,
   "metadata": {
    "tags": [],
    "ExecuteTime": {
     "end_time": "2023-07-08T01:32:34.287310408Z",
     "start_time": "2023-07-08T01:32:32.386835768Z"
    }
   },
   "outputs": [],
   "source": [
    "import pandas as pd\n",
    "import numpy as np\n",
    "import sys\n",
    "import matplotlib.pyplot as plt\n",
    "import tensorflow as tf\n",
    "import os\n",
    "from glob import glob\n",
    "sys.path.append('../../src')\n",
    "sys.path.append('../../')\n",
    "import classifier.Multiband as multiband\n"
   ]
  },
  {
   "cell_type": "markdown",
   "metadata": {},
   "source": [
    "the filtering of the times must be done in the spine, not in each band. Spit all the times then slect the best one. "
   ]
  },
  {
   "cell_type": "code",
   "execution_count": 2,
   "metadata": {
    "tags": [],
    "ExecuteTime": {
     "end_time": "2023-07-08T01:32:34.471127815Z",
     "start_time": "2023-07-08T01:32:34.465550468Z"
    }
   },
   "outputs": [
    {
     "name": "stderr",
     "output_type": "stream",
     "text": [
      "2023-07-07 21:32:34.445620: I tensorflow/stream_executor/cuda/cuda_gpu_executor.cc:939] successful NUMA node read from SysFS had negative value (-1), but there must be at least one NUMA node, so returning NUMA node zero\n",
      "2023-07-07 21:32:34.446354: I tensorflow/stream_executor/cuda/cuda_gpu_executor.cc:939] successful NUMA node read from SysFS had negative value (-1), but there must be at least one NUMA node, so returning NUMA node zero\n",
      "2023-07-07 21:32:34.462021: I tensorflow/stream_executor/cuda/cuda_gpu_executor.cc:939] successful NUMA node read from SysFS had negative value (-1), but there must be at least one NUMA node, so returning NUMA node zero\n",
      "2023-07-07 21:32:34.462504: I tensorflow/stream_executor/cuda/cuda_gpu_executor.cc:939] successful NUMA node read from SysFS had negative value (-1), but there must be at least one NUMA node, so returning NUMA node zero\n",
      "2023-07-07 21:32:34.462919: I tensorflow/stream_executor/cuda/cuda_gpu_executor.cc:939] successful NUMA node read from SysFS had negative value (-1), but there must be at least one NUMA node, so returning NUMA node zero\n",
      "2023-07-07 21:32:34.463331: I tensorflow/stream_executor/cuda/cuda_gpu_executor.cc:939] successful NUMA node read from SysFS had negative value (-1), but there must be at least one NUMA node, so returning NUMA node zero\n"
     ]
    }
   ],
   "source": [
    "# To see if the system recognises the GPU\n",
    "device = 0\n",
    "devices = tf.config.experimental.list_physical_devices('GPU')\n",
    "tf.config.set_visible_devices(devices[device], 'GPU')\n",
    "tf.config.experimental.set_memory_growth(device=devices[device], enable=True)\n"
   ]
  },
  {
   "cell_type": "markdown",
   "metadata": {},
   "source": [
    "Find the different folds and train a model using the stored data."
   ]
  },
  {
   "cell_type": "code",
   "execution_count": 3,
   "metadata": {
    "tags": [],
    "ExecuteTime": {
     "end_time": "2023-07-08T01:32:36.926759620Z",
     "start_time": "2023-07-08T01:32:36.905129214Z"
    }
   },
   "outputs": [
    {
     "data": {
      "text/plain": "['../02_CreateRecords/Folds/Fold_1/',\n '../02_CreateRecords/Folds/Fold_2/',\n '../02_CreateRecords/Folds/Fold_3/']"
     },
     "execution_count": 3,
     "metadata": {},
     "output_type": "execute_result"
    }
   ],
   "source": [
    "survey = 'Gaia'\n",
    "path = os.path.join('../02_CreateRecords/Folds/Fold_*/',)\n",
    "folds = glob(path)\n",
    "folds.sort()\n",
    "folds"
   ]
  },
  {
   "cell_type": "markdown",
   "metadata": {},
   "source": [
    "Create folder results"
   ]
  },
  {
   "cell_type": "code",
   "execution_count": 4,
   "metadata": {
    "tags": [],
    "ExecuteTime": {
     "end_time": "2023-07-08T01:32:37.992481880Z",
     "start_time": "2023-07-08T01:32:37.964422863Z"
    }
   },
   "outputs": [],
   "source": [
    "if not os.path.exists('./Results'):\n",
    "    os.mkdir('./Results')\n"
   ]
  },
  {
   "cell_type": "markdown",
   "metadata": {},
   "source": [
    "Define the arguments for all the models."
   ]
  },
  {
   "cell_type": "code",
   "execution_count": 6,
   "metadata": {
    "tags": [],
    "ExecuteTime": {
     "end_time": "2023-07-08T01:33:04.701296983Z",
     "start_time": "2023-07-08T01:33:04.698261433Z"
    }
   },
   "outputs": [],
   "source": [
    "train_args = {\n",
    "            'hidden_size_bands':[32, 32, 32],\n",
    "            'hidden_size_central':[32, 32],\n",
    "            'fc_layers_bands':[32,32,32],\n",
    "            'fc_layers_central':[32,32,32], # Neurons of each layer\n",
    "            'regression_size':[32, 32],#each element is a layer with that size.\n",
    "            'buffer_size':10000,\n",
    "            'epochs':5,\n",
    "            'num_threads':7,\n",
    "            'batch_size':1024,\n",
    "            'dropout':0.40,\n",
    "            'lr':[[1e-3]*2, 1e-3], # [[band1, band2], central]\n",
    "            'val_steps':50,\n",
    "            'max_to_keep':0, # Not Used \n",
    "            'steps_wait':0, \n",
    "            'use_class_weights':False,# Not Used\n",
    "            'mode' : 'classifier+regression'\n",
    "            }\n",
    "loss_weights = {'Class':300.0, 'T_eff':20.0,'Radius':1e0}\n",
    "\n",
    "callbacks_args = {'patience': 20,\n",
    "                  'mode':'max',\n",
    "                  'restore_best_weights':True,\n",
    "                  'min_delta': 0.001\n",
    "                 }\n",
    "train_args_specific={\n",
    "                    'phys_params': ['T_eff', 'Radius'],\n",
    "                    'use_output_bands' : True,  # Working\n",
    "                    'use_output_central' : False, # Not used\n",
    "                    'use_common_layers' : False, # NOT Working\n",
    "                    'bidirectional_central' : False,# Working\n",
    "                    'bidirectional_band' : False,# Not Working\n",
    "                    'layer_norm_params' : None, # Used to normalyze common layers\n",
    "                    'use_gated_common' : False, # Working\n",
    "                    'l1':0.0,\n",
    "                    'l2':0.0,   \n",
    "                    'N_skip' : 8, # Cannot be greater than the number of timesteps\n",
    "                    'use_raw_input_central': True,\n",
    "                    'train_steps_central' : 2,\n",
    "                    'print_report' : True,\n",
    "                    'loss_weights_central' : loss_weights,\n",
    "                    'callbacks_args':callbacks_args\n",
    "                    }\n",
    "\n"
   ]
  },
  {
   "cell_type": "code",
   "execution_count": 10,
   "outputs": [
    {
     "data": {
      "text/plain": "'../02_CreateRecords/Folds/Fold_1//'"
     },
     "execution_count": 10,
     "metadata": {},
     "output_type": "execute_result"
    }
   ],
   "source": [
    "base_dir"
   ],
   "metadata": {
    "collapsed": false,
    "ExecuteTime": {
     "end_time": "2023-07-08T01:39:12.840090618Z",
     "start_time": "2023-07-08T01:39:12.795979609Z"
    }
   }
  },
  {
   "cell_type": "code",
   "execution_count": null,
   "outputs": [],
   "source": [
    "'../02_CreateRecords/Folds/Fold_1//scalers.pkl'"
   ],
   "metadata": {
    "collapsed": false
   }
  },
  {
   "cell_type": "code",
   "execution_count": null,
   "outputs": [],
   "source": [],
   "metadata": {
    "collapsed": false
   }
  },
  {
   "cell_type": "code",
   "execution_count": 11,
   "metadata": {
    "tags": [],
    "ExecuteTime": {
     "end_time": "2023-07-08T01:42:13.561081682Z",
     "start_time": "2023-07-08T01:40:37.720103872Z"
    }
   },
   "outputs": [
    {
     "name": "stdout",
     "output_type": "stream",
     "text": [
      "./Results/Fold_1/Models/20230707-2140\n",
      "Start training\n",
      "13/13 [==============================] - 3s 24ms/step - loss: 0.1244 - Class_loss: 0.1244 - Class_Acc: 0.2291 - Class_Top2: 0.4653\n",
      "13/13 [==============================] - 3s 26ms/step - loss: 0.1150 - Class_loss: 0.1150 - Class_Acc: 0.2388 - Class_Top2: 0.4737\n",
      "13/13 [==============================] - 9s 93ms/step - loss: 9893.6406 - Class_loss: 32.9620 - Pred_Radius_loss: 2.8993 - Pred_T_eff_loss: 0.1070 - Class_CentralAcc: 0.4351 - Class_CentralTop2: 0.6758 - Class_FinalAcc: 0.4455 - Class_FinalTop2: 0.6771 - Class_Final_FScore: 0.3207 - Pred_Radius_Masked_RMSE: 1.2724 - Pred_Radius_Masked_R2: 0.0026 - Pred_T_eff_Masked_RMSE: 0.2643 - Pred_T_eff_Masked_R2: 0.5643\n",
      "13/13 [==============================] - 0s 26ms/step - loss: 0.1238 - Class_loss: 0.1238 - Class_Acc: 0.2394 - Class_Top2: 0.4730\n",
      "13/13 [==============================] - 0s 28ms/step - loss: 0.1151 - Class_loss: 0.1151 - Class_Acc: 0.2470 - Class_Top2: 0.4670\n",
      "13/13 [==============================] - 1s 93ms/step - loss: 8890.7578 - Class_loss: 29.6211 - Pred_Radius_loss: 2.0598 - Pred_T_eff_loss: 0.1185 - Class_CentralAcc: 0.4545 - Class_CentralTop2: 0.6867 - Class_FinalAcc: 0.4548 - Class_FinalTop2: 0.6831 - Class_Final_FScore: 0.2498 - Pred_Radius_Masked_RMSE: 1.0723 - Pred_Radius_Masked_R2: 0.2917 - Pred_T_eff_Masked_RMSE: 0.2773 - Pred_T_eff_Masked_R2: 0.5204\n",
      "13/13 [==============================] - 0s 27ms/step - loss: 0.1230 - Class_loss: 0.1230 - Class_Acc: 0.2418 - Class_Top2: 0.4778\n",
      "13/13 [==============================] - 0s 29ms/step - loss: 0.1147 - Class_loss: 0.1147 - Class_Acc: 0.2454 - Class_Top2: 0.4699\n",
      "13/13 [==============================] - 1s 91ms/step - loss: 8440.1211 - Class_loss: 28.1210 - Pred_Radius_loss: 1.8544 - Pred_T_eff_loss: 0.0986 - Class_CentralAcc: 0.4614 - Class_CentralTop2: 0.7131 - Class_FinalAcc: 0.4541 - Class_FinalTop2: 0.6980 - Class_Final_FScore: 0.2878 - Pred_Radius_Masked_RMSE: 1.0172 - Pred_Radius_Masked_R2: 0.3625 - Pred_T_eff_Masked_RMSE: 0.2530 - Pred_T_eff_Masked_R2: 0.6010\n",
      "13/13 [==============================] - 1s 32ms/step - loss: 0.1220 - Class_loss: 0.1220 - Class_Acc: 0.2559 - Class_Top2: 0.4813\n",
      "13/13 [==============================] - 0s 28ms/step - loss: 0.1138 - Class_loss: 0.1138 - Class_Acc: 0.2482 - Class_Top2: 0.4757\n",
      "13/13 [==============================] - 2s 114ms/step - loss: 8228.8564 - Class_loss: 27.4191 - Pred_Radius_loss: 1.5992 - Pred_T_eff_loss: 0.0759 - Class_CentralAcc: 0.4687 - Class_CentralTop2: 0.7162 - Class_FinalAcc: 0.4681 - Class_FinalTop2: 0.7119 - Class_Final_FScore: 0.2985 - Pred_Radius_Masked_RMSE: 0.9448 - Pred_Radius_Masked_R2: 0.4501 - Pred_T_eff_Masked_RMSE: 0.2221 - Pred_T_eff_Masked_R2: 0.6925\n",
      "13/13 [==============================] - 0s 28ms/step - loss: 0.1212 - Class_loss: 0.1212 - Class_Acc: 0.2518 - Class_Top2: 0.4802\n",
      "13/13 [==============================] - 0s 28ms/step - loss: 0.1132 - Class_loss: 0.1132 - Class_Acc: 0.2443 - Class_Top2: 0.4822\n",
      "13/13 [==============================] - 1s 104ms/step - loss: 7990.5522 - Class_loss: 26.6253 - Pred_Radius_loss: 1.5180 - Pred_T_eff_loss: 0.0728 - Class_CentralAcc: 0.5265 - Class_CentralTop2: 0.7613 - Class_FinalAcc: 0.5336 - Class_FinalTop2: 0.7688 - Class_Final_FScore: 0.3852 - Pred_Radius_Masked_RMSE: 0.9206 - Pred_Radius_Masked_R2: 0.4779 - Pred_T_eff_Masked_RMSE: 0.2174 - Pred_T_eff_Masked_R2: 0.7053\n",
      "              precision    recall  f1-score   support\n",
      "\n",
      "         CEP       0.59      0.41      0.49      1367\n",
      "  DSCT_SXPHE       0.52      0.02      0.04       880\n",
      "     MIRA_SR       0.88      0.90      0.89      2200\n",
      "        RRAB       0.44      0.34      0.38      2200\n",
      "         RRC       0.37      0.74      0.50      2200\n",
      "       T2CEP       0.00      0.00      0.00       436\n",
      "\n",
      "    accuracy                           0.53      9283\n",
      "   macro avg       0.47      0.40      0.38      9283\n",
      "weighted avg       0.54      0.53      0.49      9283\n",
      "\n",
      "{'R2': {'T_eff': 0.7325546865356186, 'Radius': 0.483821874150294}, 'RMSE': {'T_eff': 615.37555, 'Radius': 20.170345}}\n"
     ]
    },
    {
     "name": "stderr",
     "output_type": "stream",
     "text": [
      "/home/ibecker/.cache/pypoetry/virtualenvs/multibandscalable-rnn-2dkdk7iS-py3.8/lib/python3.8/site-packages/sklearn/metrics/_classification.py:1469: UndefinedMetricWarning: Precision and F-score are ill-defined and being set to 0.0 in labels with no predicted samples. Use `zero_division` parameter to control this behavior.\n",
      "  _warn_prf(average, modifier, msg_start, len(result))\n",
      "/home/ibecker/.cache/pypoetry/virtualenvs/multibandscalable-rnn-2dkdk7iS-py3.8/lib/python3.8/site-packages/sklearn/metrics/_classification.py:1469: UndefinedMetricWarning: Precision and F-score are ill-defined and being set to 0.0 in labels with no predicted samples. Use `zero_division` parameter to control this behavior.\n",
      "  _warn_prf(average, modifier, msg_start, len(result))\n",
      "/home/ibecker/.cache/pypoetry/virtualenvs/multibandscalable-rnn-2dkdk7iS-py3.8/lib/python3.8/site-packages/sklearn/metrics/_classification.py:1469: UndefinedMetricWarning: Precision and F-score are ill-defined and being set to 0.0 in labels with no predicted samples. Use `zero_division` parameter to control this behavior.\n",
      "  _warn_prf(average, modifier, msg_start, len(result))\n"
     ]
    }
   ],
   "source": [
    "for fold in folds:\n",
    "    tf.keras.backend.clear_session()\n",
    "    # Set the fold path\n",
    "    base_dir = fold+'/'\n",
    "    \n",
    "    # Set the save path for this fold. Create folder if needed\n",
    "    path_results_fold = fold.replace('../02_CreateRecords', '.').replace('/Folds/', '/Results/')\n",
    "\n",
    "    if not os.path.exists(path_results_fold):\n",
    "        os.mkdir(path_results_fold)    \n",
    "\n",
    "    train_args_specific['save_dir'] = path_results_fold\n",
    "    train_args_specific['metadata_pre_path'] = os.path.join(fold, 'metadata_preprocess.json')\n",
    "    train_args_specific['path_scalers'] =  os.path.join(fold,'scalers.pkl')\n",
    "    # Define the train args\n",
    "    train_args = {**train_args, **train_args_specific}\n",
    "\n",
    "    train_files = os.path.join(fold, 'train/*.tfrecord')\n",
    "    train_files = os.path.join(fold, 'val/*.tfrecord')\n",
    "    train_files = os.path.join(fold, 'test/*.tfrecord')\n",
    "    \n",
    "    new = multiband.Network()    \n",
    "    new.train(train_args, train_files, val_files, test_files)\n",
    "    new.train_loop()\n",
    "    break"
   ]
  },
  {
   "cell_type": "code",
   "execution_count": 9,
   "metadata": {
    "ExecuteTime": {
     "end_time": "2023-07-08T01:38:49.759867520Z",
     "start_time": "2023-07-08T01:38:49.754327171Z"
    }
   },
   "outputs": [
    {
     "data": {
      "text/plain": "'../02_CreateRecords/Folds/Fold_1//scalers.pkl'"
     },
     "execution_count": 9,
     "metadata": {},
     "output_type": "execute_result"
    }
   ],
   "source": [
    "new.path_scalers"
   ]
  },
  {
   "cell_type": "code",
   "execution_count": null,
   "outputs": [],
   "source": [],
   "metadata": {
    "collapsed": false
   }
  }
 ],
 "metadata": {
  "kernelspec": {
   "display_name": "Python 3 (ipykernel)",
   "language": "python",
   "name": "python3"
  },
  "language_info": {
   "codemirror_mode": {
    "name": "ipython",
    "version": 3
   },
   "file_extension": ".py",
   "mimetype": "text/x-python",
   "name": "python",
   "nbconvert_exporter": "python",
   "pygments_lexer": "ipython3",
   "version": "3.8.10"
  }
 },
 "nbformat": 4,
 "nbformat_minor": 4
}
