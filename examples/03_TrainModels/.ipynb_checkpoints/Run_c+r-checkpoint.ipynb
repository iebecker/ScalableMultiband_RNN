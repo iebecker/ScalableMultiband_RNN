{
 "cells": [
  {
   "cell_type": "code",
   "execution_count": 1,
   "metadata": {
    "tags": []
   },
   "outputs": [],
   "source": [
    "import pandas as pd\n",
    "import numpy as np\n",
    "import sys\n",
    "import matplotlib.pyplot as plt\n",
    "import tensorflow as tf\n",
    "import os\n",
    "from glob import glob\n",
    "sys.path.append('../../src/')\n",
    "\n",
    "import classifier.Multiband as multiband\n"
   ]
  },
  {
   "cell_type": "markdown",
   "metadata": {},
   "source": [
    "the filtering of the times must be done in the spine, not in each band. Spit all the times then slect the best one. "
   ]
  },
  {
   "cell_type": "code",
   "execution_count": 2,
   "metadata": {
    "tags": []
   },
   "outputs": [
    {
     "name": "stderr",
     "output_type": "stream",
     "text": [
      "2023-07-06 20:35:51.615897: I tensorflow/stream_executor/cuda/cuda_gpu_executor.cc:939] successful NUMA node read from SysFS had negative value (-1), but there must be at least one NUMA node, so returning NUMA node zero\n",
      "2023-07-06 20:35:51.616108: I tensorflow/stream_executor/cuda/cuda_gpu_executor.cc:939] successful NUMA node read from SysFS had negative value (-1), but there must be at least one NUMA node, so returning NUMA node zero\n",
      "2023-07-06 20:35:51.619917: I tensorflow/stream_executor/cuda/cuda_gpu_executor.cc:939] successful NUMA node read from SysFS had negative value (-1), but there must be at least one NUMA node, so returning NUMA node zero\n",
      "2023-07-06 20:35:51.620083: I tensorflow/stream_executor/cuda/cuda_gpu_executor.cc:939] successful NUMA node read from SysFS had negative value (-1), but there must be at least one NUMA node, so returning NUMA node zero\n",
      "2023-07-06 20:35:51.620218: I tensorflow/stream_executor/cuda/cuda_gpu_executor.cc:939] successful NUMA node read from SysFS had negative value (-1), but there must be at least one NUMA node, so returning NUMA node zero\n",
      "2023-07-06 20:35:51.620348: I tensorflow/stream_executor/cuda/cuda_gpu_executor.cc:939] successful NUMA node read from SysFS had negative value (-1), but there must be at least one NUMA node, so returning NUMA node zero\n"
     ]
    }
   ],
   "source": [
    "# To see if the system regognises the GPU\n",
    "device = 0\n",
    "devices = tf.config.experimental.list_physical_devices('GPU')\n",
    "tf.config.set_visible_devices(devices[device], 'GPU')\n",
    "tf.config.experimental.set_memory_growth(device=devices[device], enable=True)\n"
   ]
  },
  {
   "cell_type": "markdown",
   "metadata": {},
   "source": [
    "Find the different folds and train a model using the stored data."
   ]
  },
  {
   "cell_type": "code",
   "execution_count": 3,
   "metadata": {
    "tags": []
   },
   "outputs": [
    {
     "data": {
      "text/plain": [
       "['../02_CreateRecords/Folds/Fold_1/',\n",
       " '../02_CreateRecords/Folds/Fold_2/',\n",
       " '../02_CreateRecords/Folds/Fold_3/']"
      ]
     },
     "execution_count": 3,
     "metadata": {},
     "output_type": "execute_result"
    }
   ],
   "source": [
    "survey = 'Gaia'\n",
    "path = os.path.join('../02_CreateRecords/Folds/Fold_*/',)\n",
    "folds = glob(path)\n",
    "folds.sort()\n",
    "folds"
   ]
  },
  {
   "cell_type": "code",
   "execution_count": 4,
   "metadata": {
    "tags": []
   },
   "outputs": [],
   "source": [
    "# survey = 'Gaia'\n",
    "# folds = ['../02_CreateRecords/Folds/']"
   ]
  },
  {
   "cell_type": "markdown",
   "metadata": {},
   "source": [
    "Create folder results"
   ]
  },
  {
   "cell_type": "code",
   "execution_count": 5,
   "metadata": {
    "tags": []
   },
   "outputs": [],
   "source": [
    "if not os.path.exists('./Results'):\n",
    "    os.mkdir('./Results')\n"
   ]
  },
  {
   "cell_type": "markdown",
   "metadata": {},
   "source": [
    "Define the arguments for all the models."
   ]
  },
  {
   "cell_type": "code",
   "execution_count": 6,
   "metadata": {
    "tags": []
   },
   "outputs": [],
   "source": [
    "train_args = {\n",
    "            'hidden_size_bands':[128, 128, 128],\n",
    "            'hidden_size_central':[128, 128],\n",
    "            'fc_layers_bands':[128,128,128],\n",
    "            'fc_layers_central':[128,128,128], # Neurons of each layer\n",
    "            'regression_size':[128, 128],#each element is a layer with that size.\n",
    "            'buffer_size':10000,\n",
    "            'epochs':1000,\n",
    "            'num_threads':7,\n",
    "            'batch_size':1024,\n",
    "            'dropout':0.40,\n",
    "            'lr':[[1e-3]*2, 1e-3], # [[band1, band2], central]\n",
    "            'val_steps':50,\n",
    "            'max_to_keep':0, # Not Used \n",
    "            'steps_wait':500, \n",
    "            'use_class_weights':False,# Not Used\n",
    "            'mode' : 'classifier+regression'\n",
    "            }\n",
    "loss_weights = {'Class':300.0, 'T_eff':20.0,'Radius':1e0}\n",
    "\n",
    "callbacks_args = {'patience': 20,\n",
    "                  'mode':'max',\n",
    "                  'restore_best_weights':True,\n",
    "                  'min_delta': 0.001\n",
    "                 }\n",
    "train_args_specific={\n",
    "                    'phys_params': ['T_eff', 'Radius'],\n",
    "                    'use_output_bands' : True,  # Working\n",
    "                    'use_output_central' : False, # Not used\n",
    "                    'use_common_layers' : False, # NOT Working\n",
    "                    'bidirectional_central' : False,# Working\n",
    "                    'bidirectional_band' : False,# Not Working\n",
    "                    'layer_norm_params' : None, # Used to normalyze common layers\n",
    "                    'use_gated_common' : False, # Working\n",
    "                    'l1':0.0,\n",
    "                    'l2':0.0,   \n",
    "                    'N_skip' : 8, # Cannot be greater than the number of timesteps\n",
    "                    'use_raw_input_central': True,\n",
    "                    'train_steps_central' : 2,\n",
    "                    'print_report' : True,\n",
    "                    'loss_weights_central' : loss_weights,\n",
    "                    'callbacks_args':callbacks_args\n",
    "                    }\n",
    "\n"
   ]
  },
  {
   "cell_type": "code",
   "execution_count": 7,
   "metadata": {
    "tags": []
   },
   "outputs": [
    {
     "name": "stderr",
     "output_type": "stream",
     "text": [
      "2023-07-06 20:35:51.649682: I tensorflow/core/platform/cpu_feature_guard.cc:151] This TensorFlow binary is optimized with oneAPI Deep Neural Network Library (oneDNN) to use the following CPU instructions in performance-critical operations:  AVX2 FMA\n",
      "To enable them in other operations, rebuild TensorFlow with the appropriate compiler flags.\n",
      "2023-07-06 20:35:51.650088: I tensorflow/stream_executor/cuda/cuda_gpu_executor.cc:939] successful NUMA node read from SysFS had negative value (-1), but there must be at least one NUMA node, so returning NUMA node zero\n",
      "2023-07-06 20:35:51.650281: I tensorflow/stream_executor/cuda/cuda_gpu_executor.cc:939] successful NUMA node read from SysFS had negative value (-1), but there must be at least one NUMA node, so returning NUMA node zero\n",
      "2023-07-06 20:35:51.650416: I tensorflow/stream_executor/cuda/cuda_gpu_executor.cc:939] successful NUMA node read from SysFS had negative value (-1), but there must be at least one NUMA node, so returning NUMA node zero\n",
      "2023-07-06 20:35:52.020728: I tensorflow/stream_executor/cuda/cuda_gpu_executor.cc:939] successful NUMA node read from SysFS had negative value (-1), but there must be at least one NUMA node, so returning NUMA node zero\n",
      "2023-07-06 20:35:52.020908: I tensorflow/stream_executor/cuda/cuda_gpu_executor.cc:939] successful NUMA node read from SysFS had negative value (-1), but there must be at least one NUMA node, so returning NUMA node zero\n",
      "2023-07-06 20:35:52.021050: I tensorflow/stream_executor/cuda/cuda_gpu_executor.cc:939] successful NUMA node read from SysFS had negative value (-1), but there must be at least one NUMA node, so returning NUMA node zero\n",
      "2023-07-06 20:35:52.021177: I tensorflow/core/common_runtime/gpu/gpu_device.cc:1525] Created device /job:localhost/replica:0/task:0/device:GPU:0 with 5534 MB memory:  -> device: 0, name: NVIDIA GeForce RTX 2080 SUPER, pci bus id: 0000:01:00.0, compute capability: 7.5\n"
     ]
    },
    {
     "name": "stdout",
     "output_type": "stream",
     "text": [
      "./Results/Fold_1/Models/20230706-2035\n"
     ]
    },
    {
     "name": "stderr",
     "output_type": "stream",
     "text": [
      "2023-07-06 20:36:00.974583: I tensorflow/core/profiler/lib/profiler_session.cc:110] Profiler session initializing.\n",
      "2023-07-06 20:36:00.974603: I tensorflow/core/profiler/lib/profiler_session.cc:125] Profiler session started.\n",
      "2023-07-06 20:36:00.975513: I tensorflow/core/profiler/internal/gpu/cupti_tracer.cc:1630] Profiler found 2 GPUs\n",
      "2023-07-06 20:36:01.091829: I tensorflow/core/profiler/lib/profiler_session.cc:143] Profiler session tear down.\n",
      "2023-07-06 20:36:01.092734: I tensorflow/core/profiler/internal/gpu/cupti_tracer.cc:1764] CUPTI activity buffer flushed\n",
      "2023-07-06 20:36:01.106866: I tensorflow/core/profiler/lib/profiler_session.cc:110] Profiler session initializing.\n",
      "2023-07-06 20:36:01.106883: I tensorflow/core/profiler/lib/profiler_session.cc:125] Profiler session started.\n",
      "2023-07-06 20:36:01.155484: I tensorflow/core/profiler/lib/profiler_session.cc:143] Profiler session tear down.\n",
      "2023-07-06 20:36:01.156402: I tensorflow/core/profiler/internal/gpu/cupti_tracer.cc:1764] CUPTI activity buffer flushed\n"
     ]
    },
    {
     "name": "stdout",
     "output_type": "stream",
     "text": [
      "Start training\n"
     ]
    },
    {
     "name": "stderr",
     "output_type": "stream",
     "text": [
      "2023-07-06 20:36:09.655503: I tensorflow/stream_executor/cuda/cuda_dnn.cc:366] Loaded cuDNN version 8101\n"
     ]
    },
    {
     "name": "stdout",
     "output_type": "stream",
     "text": [
      "2/2 [==============================] - 3s 183ms/step - loss: 0.1333 - Class_loss: 0.1333 - Class_Acc: 0.1757 - Class_Top2: 0.3519\n",
      "2/2 [==============================] - 3s 36ms/step - loss: 0.1241 - Class_loss: 0.1241 - Class_Acc: 0.1895 - Class_Top2: 0.3629\n",
      "2/2 [==============================] - 8s 90ms/step - loss: 11776.4229 - Class_loss: 39.2300 - Pred_Radius_loss: 2.1141 - Pred_T_eff_loss: 0.2654 - Class_CentralAcc: 0.2636 - Class_CentralTop2: 0.4427 - Class_FinalAcc: 0.3113 - Class_FinalTop2: 0.4906 - Class_Final_FScore: 0.2902 - Pred_Radius_Masked_RMSE: 1.1378 - Pred_Radius_Masked_R2: 0.1185 - Pred_T_eff_Masked_RMSE: 0.4312 - Pred_T_eff_Masked_R2: -0.0261\n",
      "2/2 [==============================] - 0s 36ms/step - loss: 0.1324 - Class_loss: 0.1324 - Class_Acc: 0.1887 - Class_Top2: 0.3920\n",
      "2/2 [==============================] - 0s 35ms/step - loss: 0.1236 - Class_loss: 0.1236 - Class_Acc: 0.2037 - Class_Top2: 0.3679\n",
      "2/2 [==============================] - 0s 91ms/step - loss: 11802.7217 - Class_loss: 39.3163 - Pred_Radius_loss: 2.0866 - Pred_T_eff_loss: 0.2878 - Class_CentralAcc: 0.2660 - Class_CentralTop2: 0.4460 - Class_FinalAcc: 0.3113 - Class_FinalTop2: 0.4969 - Class_Final_FScore: 0.2800 - Pred_Radius_Masked_RMSE: 1.1302 - Pred_Radius_Masked_R2: 0.1302 - Pred_T_eff_Masked_RMSE: 0.4491 - Pred_T_eff_Masked_R2: -0.1129\n",
      "2/2 [==============================] - 0s 36ms/step - loss: 0.1322 - Class_loss: 0.1322 - Class_Acc: 0.1947 - Class_Top2: 0.3618\n",
      "2/2 [==============================] - 0s 35ms/step - loss: 0.1229 - Class_loss: 0.1229 - Class_Acc: 0.1763 - Class_Top2: 0.3803\n",
      "2/2 [==============================] - 0s 91ms/step - loss: 12103.6426 - Class_loss: 40.3201 - Pred_Radius_loss: 2.0624 - Pred_T_eff_loss: 0.2771 - Class_CentralAcc: 0.2672 - Class_CentralTop2: 0.4364 - Class_FinalAcc: 0.3100 - Class_FinalTop2: 0.4769 - Class_Final_FScore: 0.2713 - Pred_Radius_Masked_RMSE: 1.1232 - Pred_Radius_Masked_R2: 0.1410 - Pred_T_eff_Masked_RMSE: 0.4406 - Pred_T_eff_Masked_R2: -0.0711\n",
      "2/2 [==============================] - 0s 36ms/step - loss: 0.1320 - Class_loss: 0.1320 - Class_Acc: 0.1758 - Class_Top2: 0.3578\n",
      "2/2 [==============================] - 0s 37ms/step - loss: 0.1225 - Class_loss: 0.1225 - Class_Acc: 0.1917 - Class_Top2: 0.3896\n",
      "2/2 [==============================] - 0s 91ms/step - loss: 12316.7773 - Class_loss: 41.0313 - Pred_Radius_loss: 2.0592 - Pred_T_eff_loss: 0.2668 - Class_CentralAcc: 0.2594 - Class_CentralTop2: 0.4241 - Class_FinalAcc: 0.3019 - Class_FinalTop2: 0.4588 - Class_Final_FScore: 0.2540 - Pred_Radius_Masked_RMSE: 1.1224 - Pred_Radius_Masked_R2: 0.1423 - Pred_T_eff_Masked_RMSE: 0.4324 - Pred_T_eff_Masked_R2: -0.0316\n",
      "2/2 [==============================] - 0s 48ms/step - loss: 0.1320 - Class_loss: 0.1320 - Class_Acc: 0.2536 - Class_Top2: 0.4459\n",
      "2/2 [==============================] - 0s 37ms/step - loss: 0.1225 - Class_loss: 0.1225 - Class_Acc: 0.1945 - Class_Top2: 0.4060\n",
      "2/2 [==============================] - 0s 87ms/step - loss: 12338.1025 - Class_loss: 41.1022 - Pred_Radius_loss: 2.0682 - Pred_T_eff_loss: 0.2682 - Class_CentralAcc: 0.2568 - Class_CentralTop2: 0.4190 - Class_FinalAcc: 0.2919 - Class_FinalTop2: 0.4512 - Class_Final_FScore: 0.2407 - Pred_Radius_Masked_RMSE: 1.1248 - Pred_Radius_Masked_R2: 0.1386 - Pred_T_eff_Masked_RMSE: 0.4335 - Pred_T_eff_Masked_R2: -0.0368\n",
      "2/2 [==============================] - 0s 38ms/step - loss: 0.1324 - Class_loss: 0.1324 - Class_Acc: 0.2008 - Class_Top2: 0.3555\n",
      "2/2 [==============================] - 0s 37ms/step - loss: 0.1226 - Class_loss: 0.1226 - Class_Acc: 0.1676 - Class_Top2: 0.3948\n",
      "2/2 [==============================] - 0s 88ms/step - loss: 12374.9785 - Class_loss: 41.2252 - Pred_Radius_loss: 2.0845 - Pred_T_eff_loss: 0.2666 - Class_CentralAcc: 0.2562 - Class_CentralTop2: 0.4186 - Class_FinalAcc: 0.2900 - Class_FinalTop2: 0.4494 - Class_Final_FScore: 0.2400 - Pred_Radius_Masked_RMSE: 1.1290 - Pred_Radius_Masked_R2: 0.1321 - Pred_T_eff_Masked_RMSE: 0.4323 - Pred_T_eff_Masked_R2: -0.0311\n",
      "2/2 [==============================] - 0s 37ms/step - loss: 0.1330 - Class_loss: 0.1330 - Class_Acc: 0.2117 - Class_Top2: 0.4541\n",
      "2/2 [==============================] - 0s 34ms/step - loss: 0.1229 - Class_loss: 0.1229 - Class_Acc: 0.2430 - Class_Top2: 0.4346\n",
      "2/2 [==============================] - 0s 89ms/step - loss: 12445.0137 - Class_loss: 41.4586 - Pred_Radius_loss: 2.0792 - Pred_T_eff_loss: 0.2678 - Class_CentralAcc: 0.2568 - Class_CentralTop2: 0.4247 - Class_FinalAcc: 0.2950 - Class_FinalTop2: 0.4581 - Class_Final_FScore: 0.2413 - Pred_Radius_Masked_RMSE: 1.1274 - Pred_Radius_Masked_R2: 0.1346 - Pred_T_eff_Masked_RMSE: 0.4332 - Pred_T_eff_Masked_R2: -0.0356\n",
      "2/2 [==============================] - 0s 35ms/step - loss: 0.1331 - Class_loss: 0.1331 - Class_Acc: 0.2245 - Class_Top2: 0.4570\n",
      "2/2 [==============================] - 0s 33ms/step - loss: 0.1231 - Class_loss: 0.1231 - Class_Acc: 0.2320 - Class_Top2: 0.4396\n",
      "2/2 [==============================] - 0s 91ms/step - loss: 12443.7109 - Class_loss: 41.4543 - Pred_Radius_loss: 2.0785 - Pred_T_eff_loss: 0.2674 - Class_CentralAcc: 0.2585 - Class_CentralTop2: 0.4262 - Class_FinalAcc: 0.2931 - Class_FinalTop2: 0.4456 - Class_Final_FScore: 0.2393 - Pred_Radius_Masked_RMSE: 1.1272 - Pred_Radius_Masked_R2: 0.1350 - Pred_T_eff_Masked_RMSE: 0.4327 - Pred_T_eff_Masked_R2: -0.0331\n",
      "2/2 [==============================] - 0s 37ms/step - loss: 0.1333 - Class_loss: 0.1333 - Class_Acc: 0.2636 - Class_Top2: 0.4607\n",
      "2/2 [==============================] - 0s 39ms/step - loss: 0.1233 - Class_loss: 0.1233 - Class_Acc: 0.1866 - Class_Top2: 0.4128\n",
      "2/2 [==============================] - 0s 92ms/step - loss: 12370.9404 - Class_loss: 41.2118 - Pred_Radius_loss: 2.1017 - Pred_T_eff_loss: 0.2653 - Class_CentralAcc: 0.2610 - Class_CentralTop2: 0.4257 - Class_FinalAcc: 0.2981 - Class_FinalTop2: 0.4456 - Class_Final_FScore: 0.2455 - Pred_Radius_Masked_RMSE: 1.1334 - Pred_Radius_Masked_R2: 0.1253 - Pred_T_eff_Masked_RMSE: 0.4309 - Pred_T_eff_Masked_R2: -0.0243\n",
      "2/2 [==============================] - 0s 34ms/step - loss: 0.1337 - Class_loss: 0.1337 - Class_Acc: 0.2015 - Class_Top2: 0.4596\n",
      "2/2 [==============================] - 0s 34ms/step - loss: 0.1234 - Class_loss: 0.1234 - Class_Acc: 0.1908 - Class_Top2: 0.3511\n",
      "2/2 [==============================] - 0s 86ms/step - loss: 12279.2695 - Class_loss: 40.9065 - Pred_Radius_loss: 2.1285 - Pred_T_eff_loss: 0.2599 - Class_CentralAcc: 0.2609 - Class_CentralTop2: 0.4246 - Class_FinalAcc: 0.2981 - Class_FinalTop2: 0.4538 - Class_Final_FScore: 0.2455 - Pred_Radius_Masked_RMSE: 1.1407 - Pred_Radius_Masked_R2: 0.1141 - Pred_T_eff_Masked_RMSE: 0.4264 - Pred_T_eff_Masked_R2: -0.0033\n",
      "2/2 [==============================] - 0s 34ms/step - loss: 0.1341 - Class_loss: 0.1341 - Class_Acc: 0.1953 - Class_Top2: 0.4478\n",
      "2/2 [==============================] - 0s 36ms/step - loss: 0.1235 - Class_loss: 0.1235 - Class_Acc: 0.1884 - Class_Top2: 0.4489\n",
      "2/2 [==============================] - 0s 89ms/step - loss: 12199.3779 - Class_loss: 40.6401 - Pred_Radius_loss: 2.0702 - Pred_T_eff_loss: 0.2636 - Class_CentralAcc: 0.2659 - Class_CentralTop2: 0.4364 - Class_FinalAcc: 0.3013 - Class_FinalTop2: 0.4625 - Class_Final_FScore: 0.2495 - Pred_Radius_Masked_RMSE: 1.1249 - Pred_Radius_Masked_R2: 0.1385 - Pred_T_eff_Masked_RMSE: 0.4296 - Pred_T_eff_Masked_R2: -0.0184\n",
      "2/2 [==============================] - 0s 34ms/step - loss: 0.1336 - Class_loss: 0.1336 - Class_Acc: 0.1940 - Class_Top2: 0.4579\n",
      "2/2 [==============================] - 0s 32ms/step - loss: 0.1233 - Class_loss: 0.1233 - Class_Acc: 0.2015 - Class_Top2: 0.3721\n",
      "2/2 [==============================] - 0s 89ms/step - loss: 11965.7148 - Class_loss: 39.8618 - Pred_Radius_loss: 2.0696 - Pred_T_eff_loss: 0.2548 - Class_CentralAcc: 0.2737 - Class_CentralTop2: 0.4426 - Class_FinalAcc: 0.3113 - Class_FinalTop2: 0.4775 - Class_Final_FScore: 0.2621 - Pred_Radius_Masked_RMSE: 1.1248 - Pred_Radius_Masked_R2: 0.1386 - Pred_T_eff_Masked_RMSE: 0.4224 - Pred_T_eff_Masked_R2: 0.0155\n",
      "2/2 [==============================] - 0s 38ms/step - loss: 0.1336 - Class_loss: 0.1336 - Class_Acc: 0.2179 - Class_Top2: 0.4465\n",
      "2/2 [==============================] - 0s 36ms/step - loss: 0.1229 - Class_loss: 0.1229 - Class_Acc: 0.2115 - Class_Top2: 0.3870\n",
      "2/2 [==============================] - 0s 94ms/step - loss: 11976.9814 - Class_loss: 39.8997 - Pred_Radius_loss: 2.0808 - Pred_T_eff_loss: 0.2497 - Class_CentralAcc: 0.2744 - Class_CentralTop2: 0.4420 - Class_FinalAcc: 0.3144 - Class_FinalTop2: 0.4769 - Class_Final_FScore: 0.2661 - Pred_Radius_Masked_RMSE: 1.1278 - Pred_Radius_Masked_R2: 0.1339 - Pred_T_eff_Masked_RMSE: 0.4182 - Pred_T_eff_Masked_R2: 0.0352\n",
      "2/2 [==============================] - 0s 36ms/step - loss: 0.1336 - Class_loss: 0.1336 - Class_Acc: 0.2444 - Class_Top2: 0.4516\n",
      "2/2 [==============================] - 0s 36ms/step - loss: 0.1229 - Class_loss: 0.1229 - Class_Acc: 0.2602 - Class_Top2: 0.4704\n",
      "2/2 [==============================] - 0s 92ms/step - loss: 12025.4102 - Class_loss: 40.0611 - Pred_Radius_loss: 2.0966 - Pred_T_eff_loss: 0.2491 - Class_CentralAcc: 0.2711 - Class_CentralTop2: 0.4392 - Class_FinalAcc: 0.3100 - Class_FinalTop2: 0.4762 - Class_Final_FScore: 0.2603 - Pred_Radius_Masked_RMSE: 1.1321 - Pred_Radius_Masked_R2: 0.1274 - Pred_T_eff_Masked_RMSE: 0.4177 - Pred_T_eff_Masked_R2: 0.0373\n",
      "2/2 [==============================] - 0s 34ms/step - loss: 0.1334 - Class_loss: 0.1334 - Class_Acc: 0.2094 - Class_Top2: 0.3611\n",
      "2/2 [==============================] - 0s 36ms/step - loss: 0.1233 - Class_loss: 0.1233 - Class_Acc: 0.2174 - Class_Top2: 0.3934\n",
      "2/2 [==============================] - 0s 91ms/step - loss: 12041.2559 - Class_loss: 40.1138 - Pred_Radius_loss: 2.1384 - Pred_T_eff_loss: 0.2483 - Class_CentralAcc: 0.2599 - Class_CentralTop2: 0.4314 - Class_FinalAcc: 0.2950 - Class_FinalTop2: 0.4619 - Class_Final_FScore: 0.2490 - Pred_Radius_Masked_RMSE: 1.1434 - Pred_Radius_Masked_R2: 0.1098 - Pred_T_eff_Masked_RMSE: 0.4168 - Pred_T_eff_Masked_R2: 0.0416\n",
      "2/2 [==============================] - 0s 38ms/step - loss: 0.1334 - Class_loss: 0.1334 - Class_Acc: 0.2537 - Class_Top2: 0.4449\n",
      "2/2 [==============================] - 0s 34ms/step - loss: 0.1235 - Class_loss: 0.1235 - Class_Acc: 0.1943 - Class_Top2: 0.4506\n",
      "2/2 [==============================] - 0s 87ms/step - loss: 12090.2822 - Class_loss: 40.2773 - Pred_Radius_loss: 2.1367 - Pred_T_eff_loss: 0.2482 - Class_CentralAcc: 0.2609 - Class_CentralTop2: 0.4320 - Class_FinalAcc: 0.3069 - Class_FinalTop2: 0.4688 - Class_Final_FScore: 0.2547 - Pred_Radius_Masked_RMSE: 1.1428 - Pred_Radius_Masked_R2: 0.1108 - Pred_T_eff_Masked_RMSE: 0.4168 - Pred_T_eff_Masked_R2: 0.0414\n",
      "2/2 [==============================] - 0s 36ms/step - loss: 0.1337 - Class_loss: 0.1337 - Class_Acc: 0.2029 - Class_Top2: 0.4305\n",
      "2/2 [==============================] - 0s 40ms/step - loss: 0.1234 - Class_loss: 0.1234 - Class_Acc: 0.2094 - Class_Top2: 0.3828\n",
      "2/2 [==============================] - 0s 86ms/step - loss: 12161.8799 - Class_loss: 40.5161 - Pred_Radius_loss: 2.1422 - Pred_T_eff_loss: 0.2449 - Class_CentralAcc: 0.2613 - Class_CentralTop2: 0.4261 - Class_FinalAcc: 0.3025 - Class_FinalTop2: 0.4663 - Class_Final_FScore: 0.2554 - Pred_Radius_Masked_RMSE: 1.1445 - Pred_Radius_Masked_R2: 0.1082 - Pred_T_eff_Masked_RMSE: 0.4140 - Pred_T_eff_Masked_R2: 0.0545\n",
      "2/2 [==============================] - 0s 35ms/step - loss: 0.1334 - Class_loss: 0.1334 - Class_Acc: 0.2064 - Class_Top2: 0.3984\n",
      "2/2 [==============================] - 0s 45ms/step - loss: 0.1230 - Class_loss: 0.1230 - Class_Acc: 0.2104 - Class_Top2: 0.4667\n",
      "2/2 [==============================] - 0s 89ms/step - loss: 12163.6104 - Class_loss: 40.5220 - Pred_Radius_loss: 2.1139 - Pred_T_eff_loss: 0.2446 - Class_CentralAcc: 0.2654 - Class_CentralTop2: 0.4354 - Class_FinalAcc: 0.3069 - Class_FinalTop2: 0.4831 - Class_Final_FScore: 0.2613 - Pred_Radius_Masked_RMSE: 1.1368 - Pred_Radius_Masked_R2: 0.1202 - Pred_T_eff_Masked_RMSE: 0.4139 - Pred_T_eff_Masked_R2: 0.0550\n",
      "2/2 [==============================] - 0s 37ms/step - loss: 0.1344 - Class_loss: 0.1344 - Class_Acc: 0.2046 - Class_Top2: 0.4605\n",
      "2/2 [==============================] - 0s 38ms/step - loss: 0.1232 - Class_loss: 0.1232 - Class_Acc: 0.2474 - Class_Top2: 0.4425\n",
      "2/2 [==============================] - 0s 90ms/step - loss: 12143.2217 - Class_loss: 40.4541 - Pred_Radius_loss: 2.0888 - Pred_T_eff_loss: 0.2448 - Class_CentralAcc: 0.2664 - Class_CentralTop2: 0.4338 - Class_FinalAcc: 0.3106 - Class_FinalTop2: 0.4831 - Class_Final_FScore: 0.2661 - Pred_Radius_Masked_RMSE: 1.1300 - Pred_Radius_Masked_R2: 0.1306 - Pred_T_eff_Masked_RMSE: 0.4141 - Pred_T_eff_Masked_R2: 0.0539\n",
      "2/2 [==============================] - 0s 42ms/step - loss: 0.1334 - Class_loss: 0.1334 - Class_Acc: 0.2089 - Class_Top2: 0.4527\n",
      "2/2 [==============================] - 0s 38ms/step - loss: 0.1231 - Class_loss: 0.1231 - Class_Acc: 0.2408 - Class_Top2: 0.4494\n",
      "2/2 [==============================] - 0s 88ms/step - loss: 12184.4023 - Class_loss: 40.5913 - Pred_Radius_loss: 2.0844 - Pred_T_eff_loss: 0.2459 - Class_CentralAcc: 0.2636 - Class_CentralTop2: 0.4290 - Class_FinalAcc: 0.3069 - Class_FinalTop2: 0.4863 - Class_Final_FScore: 0.2667 - Pred_Radius_Masked_RMSE: 1.1289 - Pred_Radius_Masked_R2: 0.1323 - Pred_T_eff_Masked_RMSE: 0.4150 - Pred_T_eff_Masked_R2: 0.0500\n",
      "2/2 [==============================] - 0s 36ms/step - loss: 0.1322 - Class_loss: 0.1322 - Class_Acc: 0.2160 - Class_Top2: 0.4402\n",
      "2/2 [==============================] - 0s 34ms/step - loss: 0.1227 - Class_loss: 0.1227 - Class_Acc: 0.2724 - Class_Top2: 0.4704\n",
      "2/2 [==============================] - 0s 103ms/step - loss: 12217.1660 - Class_loss: 40.7002 - Pred_Radius_loss: 2.0685 - Pred_T_eff_loss: 0.2513 - Class_CentralAcc: 0.2678 - Class_CentralTop2: 0.4358 - Class_FinalAcc: 0.3050 - Class_FinalTop2: 0.4888 - Class_Final_FScore: 0.2668 - Pred_Radius_Masked_RMSE: 1.1245 - Pred_Radius_Masked_R2: 0.1391 - Pred_T_eff_Masked_RMSE: 0.4196 - Pred_T_eff_Masked_R2: 0.0284\n",
      "2/2 [==============================] - 0s 36ms/step - loss: 0.1317 - Class_loss: 0.1317 - Class_Acc: 0.2556 - Class_Top2: 0.4716\n",
      "2/2 [==============================] - 0s 38ms/step - loss: 0.1227 - Class_loss: 0.1227 - Class_Acc: 0.2399 - Class_Top2: 0.4668\n",
      "2/2 [==============================] - 0s 98ms/step - loss: 12240.7930 - Class_loss: 40.7788 - Pred_Radius_loss: 2.0751 - Pred_T_eff_loss: 0.2534 - Class_CentralAcc: 0.2684 - Class_CentralTop2: 0.4362 - Class_FinalAcc: 0.3038 - Class_FinalTop2: 0.4963 - Class_Final_FScore: 0.2655 - Pred_Radius_Masked_RMSE: 1.1263 - Pred_Radius_Masked_R2: 0.1362 - Pred_T_eff_Masked_RMSE: 0.4213 - Pred_T_eff_Masked_R2: 0.0206\n",
      "2/2 [==============================] - 0s 43ms/step - loss: 0.1319 - Class_loss: 0.1319 - Class_Acc: 0.2350 - Class_Top2: 0.4760\n",
      "2/2 [==============================] - 0s 35ms/step - loss: 0.1227 - Class_loss: 0.1227 - Class_Acc: 0.2595 - Class_Top2: 0.4621\n",
      "2/2 [==============================] - 0s 90ms/step - loss: 12161.3945 - Class_loss: 40.5139 - Pred_Radius_loss: 2.0704 - Pred_T_eff_loss: 0.2576 - Class_CentralAcc: 0.2715 - Class_CentralTop2: 0.4411 - Class_FinalAcc: 0.3069 - Class_FinalTop2: 0.4931 - Class_Final_FScore: 0.2706 - Pred_Radius_Masked_RMSE: 1.1249 - Pred_Radius_Masked_R2: 0.1385 - Pred_T_eff_Masked_RMSE: 0.4248 - Pred_T_eff_Masked_R2: 0.0042\n",
      "2/2 [==============================] - 0s 34ms/step - loss: 0.1319 - Class_loss: 0.1319 - Class_Acc: 0.2311 - Class_Top2: 0.4824\n",
      "2/2 [==============================] - 0s 36ms/step - loss: 0.1231 - Class_loss: 0.1231 - Class_Acc: 0.2062 - Class_Top2: 0.3873\n",
      "2/2 [==============================] - 0s 91ms/step - loss: 12142.7422 - Class_loss: 40.4519 - Pred_Radius_loss: 2.0749 - Pred_T_eff_loss: 0.2545 - Class_CentralAcc: 0.2679 - Class_CentralTop2: 0.4341 - Class_FinalAcc: 0.3081 - Class_FinalTop2: 0.4850 - Class_Final_FScore: 0.2741 - Pred_Radius_Masked_RMSE: 1.1262 - Pred_Radius_Masked_R2: 0.1365 - Pred_T_eff_Masked_RMSE: 0.4221 - Pred_T_eff_Masked_R2: 0.0170\n",
      "2/2 [==============================] - 0s 36ms/step - loss: 0.1317 - Class_loss: 0.1317 - Class_Acc: 0.2867 - Class_Top2: 0.4951\n",
      "2/2 [==============================] - 0s 33ms/step - loss: 0.1228 - Class_loss: 0.1228 - Class_Acc: 0.1961 - Class_Top2: 0.3830\n",
      "2/2 [==============================] - 0s 86ms/step - loss: 12118.9639 - Class_loss: 40.3727 - Pred_Radius_loss: 2.0978 - Pred_T_eff_loss: 0.2536 - Class_CentralAcc: 0.2654 - Class_CentralTop2: 0.4313 - Class_FinalAcc: 0.3088 - Class_FinalTop2: 0.4806 - Class_Final_FScore: 0.2768 - Pred_Radius_Masked_RMSE: 1.1324 - Pred_Radius_Masked_R2: 0.1269 - Pred_T_eff_Masked_RMSE: 0.4213 - Pred_T_eff_Masked_R2: 0.0208\n",
      "2/2 [==============================] - 0s 39ms/step - loss: 0.1305 - Class_loss: 0.1305 - Class_Acc: 0.3175 - Class_Top2: 0.5205\n",
      "2/2 [==============================] - 0s 35ms/step - loss: 0.1221 - Class_loss: 0.1221 - Class_Acc: 0.1832 - Class_Top2: 0.3806\n",
      "2/2 [==============================] - 0s 89ms/step - loss: 12080.9111 - Class_loss: 40.2455 - Pred_Radius_loss: 2.1189 - Pred_T_eff_loss: 0.2573 - Class_CentralAcc: 0.2634 - Class_CentralTop2: 0.4314 - Class_FinalAcc: 0.3044 - Class_FinalTop2: 0.4894 - Class_Final_FScore: 0.2659 - Pred_Radius_Masked_RMSE: 1.1380 - Pred_Radius_Masked_R2: 0.1183 - Pred_T_eff_Masked_RMSE: 0.4242 - Pred_T_eff_Masked_R2: 0.0072\n",
      "2/2 [==============================] - 0s 37ms/step - loss: 0.1298 - Class_loss: 0.1298 - Class_Acc: 0.3053 - Class_Top2: 0.5174\n",
      "2/2 [==============================] - 0s 35ms/step - loss: 0.1214 - Class_loss: 0.1214 - Class_Acc: 0.2165 - Class_Top2: 0.4200\n",
      "2/2 [==============================] - 0s 84ms/step - loss: 12089.7949 - Class_loss: 40.2751 - Pred_Radius_loss: 2.1151 - Pred_T_eff_loss: 0.2568 - Class_CentralAcc: 0.2671 - Class_CentralTop2: 0.4379 - Class_FinalAcc: 0.3113 - Class_FinalTop2: 0.5000 - Class_Final_FScore: 0.2681 - Pred_Radius_Masked_RMSE: 1.1370 - Pred_Radius_Masked_R2: 0.1198 - Pred_T_eff_Masked_RMSE: 0.4239 - Pred_T_eff_Masked_R2: 0.0084\n",
      "2/2 [==============================] - 0s 36ms/step - loss: 0.1293 - Class_loss: 0.1293 - Class_Acc: 0.3267 - Class_Top2: 0.5229\n",
      "2/2 [==============================] - 0s 35ms/step - loss: 0.1212 - Class_loss: 0.1212 - Class_Acc: 0.2134 - Class_Top2: 0.4271\n",
      "2/2 [==============================] - 0s 87ms/step - loss: 12142.6709 - Class_loss: 40.4511 - Pred_Radius_loss: 2.1391 - Pred_T_eff_loss: 0.2600 - Class_CentralAcc: 0.2612 - Class_CentralTop2: 0.4348 - Class_FinalAcc: 0.3081 - Class_FinalTop2: 0.4925 - Class_Final_FScore: 0.2668 - Pred_Radius_Masked_RMSE: 1.1435 - Pred_Radius_Masked_R2: 0.1097 - Pred_T_eff_Masked_RMSE: 0.4265 - Pred_T_eff_Masked_R2: -0.0035\n",
      "2/2 [==============================] - 0s 34ms/step - loss: 0.1295 - Class_loss: 0.1295 - Class_Acc: 0.3201 - Class_Top2: 0.5199\n",
      "2/2 [==============================] - 0s 39ms/step - loss: 0.1208 - Class_loss: 0.1208 - Class_Acc: 0.2075 - Class_Top2: 0.4184\n",
      "2/2 [==============================] - 0s 107ms/step - loss: 12202.1465 - Class_loss: 40.6493 - Pred_Radius_loss: 2.1394 - Pred_T_eff_loss: 0.2610 - Class_CentralAcc: 0.2600 - Class_CentralTop2: 0.4327 - Class_FinalAcc: 0.3119 - Class_FinalTop2: 0.4931 - Class_Final_FScore: 0.2725 - Pred_Radius_Masked_RMSE: 1.1437 - Pred_Radius_Masked_R2: 0.1093 - Pred_T_eff_Masked_RMSE: 0.4273 - Pred_T_eff_Masked_R2: -0.0076\n",
      "2/2 [==============================] - 0s 38ms/step - loss: 0.1293 - Class_loss: 0.1293 - Class_Acc: 0.2704 - Class_Top2: 0.5064\n",
      "2/2 [==============================] - 0s 35ms/step - loss: 0.1205 - Class_loss: 0.1205 - Class_Acc: 0.2104 - Class_Top2: 0.4021\n",
      "2/2 [==============================] - 0s 92ms/step - loss: 12204.8574 - Class_loss: 40.6583 - Pred_Radius_loss: 2.1364 - Pred_T_eff_loss: 0.2610 - Class_CentralAcc: 0.2596 - Class_CentralTop2: 0.4302 - Class_FinalAcc: 0.3044 - Class_FinalTop2: 0.4863 - Class_Final_FScore: 0.2644 - Pred_Radius_Masked_RMSE: 1.1429 - Pred_Radius_Masked_R2: 0.1107 - Pred_T_eff_Masked_RMSE: 0.4274 - Pred_T_eff_Masked_R2: -0.0078\n",
      "2/2 [==============================] - 0s 34ms/step - loss: 0.1286 - Class_loss: 0.1286 - Class_Acc: 0.3202 - Class_Top2: 0.5424\n",
      "2/2 [==============================] - 0s 32ms/step - loss: 0.1199 - Class_loss: 0.1199 - Class_Acc: 0.2131 - Class_Top2: 0.4558\n",
      "2/2 [==============================] - 0s 89ms/step - loss: 12115.8486 - Class_loss: 40.3616 - Pred_Radius_loss: 2.1149 - Pred_T_eff_loss: 0.2620 - Class_CentralAcc: 0.2623 - Class_CentralTop2: 0.4377 - Class_FinalAcc: 0.3031 - Class_FinalTop2: 0.5131 - Class_Final_FScore: 0.2628 - Pred_Radius_Masked_RMSE: 1.1371 - Pred_Radius_Masked_R2: 0.1197 - Pred_T_eff_Masked_RMSE: 0.4283 - Pred_T_eff_Masked_R2: -0.0119\n",
      "2/2 [==============================] - 0s 36ms/step - loss: 0.1286 - Class_loss: 0.1286 - Class_Acc: 0.2888 - Class_Top2: 0.5369\n",
      "2/2 [==============================] - 0s 36ms/step - loss: 0.1200 - Class_loss: 0.1200 - Class_Acc: 0.2141 - Class_Top2: 0.4575\n",
      "2/2 [==============================] - 0s 95ms/step - loss: 12132.5674 - Class_loss: 40.4173 - Pred_Radius_loss: 2.1346 - Pred_T_eff_loss: 0.2618 - Class_CentralAcc: 0.2620 - Class_CentralTop2: 0.4341 - Class_FinalAcc: 0.3119 - Class_FinalTop2: 0.4956 - Class_Final_FScore: 0.2753 - Pred_Radius_Masked_RMSE: 1.1425 - Pred_Radius_Masked_R2: 0.1113 - Pred_T_eff_Masked_RMSE: 0.4281 - Pred_T_eff_Masked_R2: -0.0114\n",
      "2/2 [==============================] - 0s 36ms/step - loss: 0.1283 - Class_loss: 0.1283 - Class_Acc: 0.2758 - Class_Top2: 0.5393\n",
      "2/2 [==============================] - 0s 36ms/step - loss: 0.1195 - Class_loss: 0.1195 - Class_Acc: 0.2266 - Class_Top2: 0.4765\n",
      "2/2 [==============================] - 0s 89ms/step - loss: 12197.5576 - Class_loss: 40.6342 - Pred_Radius_loss: 2.1231 - Pred_T_eff_loss: 0.2587 - Class_CentralAcc: 0.2533 - Class_CentralTop2: 0.4268 - Class_FinalAcc: 0.3094 - Class_FinalTop2: 0.4850 - Class_Final_FScore: 0.2737 - Pred_Radius_Masked_RMSE: 1.1393 - Pred_Radius_Masked_R2: 0.1162 - Pred_T_eff_Masked_RMSE: 0.4257 - Pred_T_eff_Masked_R2: 3.1775e-04\n",
      "2/2 [==============================] - 0s 38ms/step - loss: 0.1335 - Class_loss: 0.1335 - Class_Acc: 0.2003 - Class_Top2: 0.4077\n",
      "2/2 [==============================] - 0s 34ms/step - loss: 0.1231 - Class_loss: 0.1231 - Class_Acc: 0.2175 - Class_Top2: 0.3912\n",
      "2/2 [==============================] - 0s 87ms/step - loss: 11974.0928 - Class_loss: 39.8902 - Pred_Radius_loss: 2.0809 - Pred_T_eff_loss: 0.2474 - Class_CentralAcc: 0.2679 - Class_CentralTop2: 0.4411 - Class_FinalAcc: 0.3144 - Class_FinalTop2: 0.4700 - Class_Final_FScore: 0.2672 - Pred_Radius_Masked_RMSE: 1.1279 - Pred_Radius_Masked_R2: 0.1338 - Pred_T_eff_Masked_RMSE: 0.4162 - Pred_T_eff_Masked_R2: 0.0443\n",
      "2/2 [==============================] - 0s 38ms/step - loss: 0.1329 - Class_loss: 0.1329 - Class_Acc: 0.2061 - Class_Top2: 0.4510\n",
      "2/2 [==============================] - 0s 32ms/step - loss: 0.1232 - Class_loss: 0.1232 - Class_Acc: 0.2135 - Class_Top2: 0.3747\n",
      "2/2 [==============================] - 0s 92ms/step - loss: 11984.2754 - Class_loss: 39.9241 - Pred_Radius_loss: 2.0886 - Pred_T_eff_loss: 0.2472 - Class_CentralAcc: 0.2656 - Class_CentralTop2: 0.4378 - Class_FinalAcc: 0.3081 - Class_FinalTop2: 0.4719 - Class_Final_FScore: 0.2594 - Pred_Radius_Masked_RMSE: 1.1299 - Pred_Radius_Masked_R2: 0.1308 - Pred_T_eff_Masked_RMSE: 0.4159 - Pred_T_eff_Masked_R2: 0.0455\n",
      "2/2 [==============================] - 0s 35ms/step - loss: 0.1329 - Class_loss: 0.1329 - Class_Acc: 0.2518 - Class_Top2: 0.4530\n",
      "2/2 [==============================] - 0s 32ms/step - loss: 0.1234 - Class_loss: 0.1234 - Class_Acc: 0.2086 - Class_Top2: 0.3742\n",
      "2/2 [==============================] - 0s 93ms/step - loss: 12118.4004 - Class_loss: 40.3711 - Pred_Radius_loss: 2.0987 - Pred_T_eff_loss: 0.2487 - Class_CentralAcc: 0.2620 - Class_CentralTop2: 0.4341 - Class_FinalAcc: 0.3025 - Class_FinalTop2: 0.4631 - Class_Final_FScore: 0.2528 - Pred_Radius_Masked_RMSE: 1.1327 - Pred_Radius_Masked_R2: 0.1264 - Pred_T_eff_Masked_RMSE: 0.4173 - Pred_T_eff_Masked_R2: 0.0392\n",
      "2/2 [==============================] - 0s 37ms/step - loss: 0.1332 - Class_loss: 0.1332 - Class_Acc: 0.2033 - Class_Top2: 0.4572\n",
      "2/2 [==============================] - 0s 35ms/step - loss: 0.1233 - Class_loss: 0.1233 - Class_Acc: 0.2079 - Class_Top2: 0.3765\n",
      "2/2 [==============================] - 0s 91ms/step - loss: 12121.3721 - Class_loss: 40.3811 - Pred_Radius_loss: 2.0946 - Pred_T_eff_loss: 0.2478 - Class_CentralAcc: 0.2653 - Class_CentralTop2: 0.4335 - Class_FinalAcc: 0.3025 - Class_FinalTop2: 0.4631 - Class_Final_FScore: 0.2544 - Pred_Radius_Masked_RMSE: 1.1315 - Pred_Radius_Masked_R2: 0.1283 - Pred_T_eff_Masked_RMSE: 0.4165 - Pred_T_eff_Masked_R2: 0.0428\n",
      "2/2 [==============================] - 0s 35ms/step - loss: 0.1333 - Class_loss: 0.1333 - Class_Acc: 0.2014 - Class_Top2: 0.4547\n",
      "2/2 [==============================] - 0s 35ms/step - loss: 0.1236 - Class_loss: 0.1236 - Class_Acc: 0.2057 - Class_Top2: 0.3723\n",
      "2/2 [==============================] - 0s 91ms/step - loss: 12077.0625 - Class_loss: 40.2334 - Pred_Radius_loss: 2.1009 - Pred_T_eff_loss: 0.2475 - Class_CentralAcc: 0.2621 - Class_CentralTop2: 0.4317 - Class_FinalAcc: 0.3069 - Class_FinalTop2: 0.4663 - Class_Final_FScore: 0.2579 - Pred_Radius_Masked_RMSE: 1.1333 - Pred_Radius_Masked_R2: 0.1256 - Pred_T_eff_Masked_RMSE: 0.4161 - Pred_T_eff_Masked_R2: 0.0446\n",
      "2/2 [==============================] - 0s 32ms/step - loss: 0.1330 - Class_loss: 0.1330 - Class_Acc: 0.2078 - Class_Top2: 0.4620\n",
      "2/2 [==============================] - 0s 33ms/step - loss: 0.1235 - Class_loss: 0.1235 - Class_Acc: 0.2122 - Class_Top2: 0.3771\n",
      "2/2 [==============================] - 0s 88ms/step - loss: 12000.6523 - Class_loss: 39.9785 - Pred_Radius_loss: 2.1098 - Pred_T_eff_loss: 0.2503 - Class_CentralAcc: 0.2649 - Class_CentralTop2: 0.4322 - Class_FinalAcc: 0.3100 - Class_FinalTop2: 0.4756 - Class_Final_FScore: 0.2603 - Pred_Radius_Masked_RMSE: 1.1357 - Pred_Radius_Masked_R2: 0.1219 - Pred_T_eff_Masked_RMSE: 0.4185 - Pred_T_eff_Masked_R2: 0.0334\n",
      "2/2 [==============================] - 0s 39ms/step - loss: 0.1333 - Class_loss: 0.1333 - Class_Acc: 0.2135 - Class_Top2: 0.3843\n",
      "2/2 [==============================] - 0s 33ms/step - loss: 0.1233 - Class_loss: 0.1233 - Class_Acc: 0.2159 - Class_Top2: 0.4639\n",
      "2/2 [==============================] - 0s 94ms/step - loss: 12012.4004 - Class_loss: 40.0177 - Pred_Radius_loss: 2.0848 - Pred_T_eff_loss: 0.2506 - Class_CentralAcc: 0.2684 - Class_CentralTop2: 0.4417 - Class_FinalAcc: 0.3187 - Class_FinalTop2: 0.4894 - Class_Final_FScore: 0.2724 - Pred_Radius_Masked_RMSE: 1.1289 - Pred_Radius_Masked_R2: 0.1324 - Pred_T_eff_Masked_RMSE: 0.4189 - Pred_T_eff_Masked_R2: 0.0319\n",
      "2/2 [==============================] - 0s 36ms/step - loss: 0.1332 - Class_loss: 0.1332 - Class_Acc: 0.2260 - Class_Top2: 0.4582\n",
      "2/2 [==============================] - 0s 40ms/step - loss: 0.1235 - Class_loss: 0.1235 - Class_Acc: 0.2070 - Class_Top2: 0.4562\n",
      "2/2 [==============================] - 0s 91ms/step - loss: 12015.0400 - Class_loss: 40.0271 - Pred_Radius_loss: 2.0897 - Pred_T_eff_loss: 0.2409 - Class_CentralAcc: 0.2618 - Class_CentralTop2: 0.4318 - Class_FinalAcc: 0.3125 - Class_FinalTop2: 0.4762 - Class_Final_FScore: 0.2620 - Pred_Radius_Masked_RMSE: 1.1302 - Pred_Radius_Masked_R2: 0.1303 - Pred_T_eff_Masked_RMSE: 0.4106 - Pred_T_eff_Masked_R2: 0.0699\n",
      "2/2 [==============================] - 0s 38ms/step - loss: 0.1330 - Class_loss: 0.1330 - Class_Acc: 0.2226 - Class_Top2: 0.3867\n",
      "2/2 [==============================] - 0s 41ms/step - loss: 0.1227 - Class_loss: 0.1227 - Class_Acc: 0.2724 - Class_Top2: 0.4704\n",
      "2/2 [==============================] - 0s 100ms/step - loss: 12105.3076 - Class_loss: 40.3278 - Pred_Radius_loss: 2.0645 - Pred_T_eff_loss: 0.2447 - Class_CentralAcc: 0.2704 - Class_CentralTop2: 0.4404 - Class_FinalAcc: 0.3256 - Class_FinalTop2: 0.4981 - Class_Final_FScore: 0.2752 - Pred_Radius_Masked_RMSE: 1.1233 - Pred_Radius_Masked_R2: 0.1410 - Pred_T_eff_Masked_RMSE: 0.4138 - Pred_T_eff_Masked_R2: 0.0551\n",
      "2/2 [==============================] - 0s 38ms/step - loss: 0.1328 - Class_loss: 0.1328 - Class_Acc: 0.2200 - Class_Top2: 0.4733\n",
      "2/2 [==============================] - 0s 34ms/step - loss: 0.1227 - Class_loss: 0.1227 - Class_Acc: 0.2724 - Class_Top2: 0.4704\n",
      "2/2 [==============================] - 0s 96ms/step - loss: 12212.5254 - Class_loss: 40.6852 - Pred_Radius_loss: 2.0738 - Pred_T_eff_loss: 0.2445 - Class_CentralAcc: 0.2672 - Class_CentralTop2: 0.4369 - Class_FinalAcc: 0.3144 - Class_FinalTop2: 0.4950 - Class_Final_FScore: 0.2663 - Pred_Radius_Masked_RMSE: 1.1258 - Pred_Radius_Masked_R2: 0.1370 - Pred_T_eff_Masked_RMSE: 0.4137 - Pred_T_eff_Masked_R2: 0.0558\n",
      "2/2 [==============================] - 0s 37ms/step - loss: 0.1329 - Class_loss: 0.1329 - Class_Acc: 0.2286 - Class_Top2: 0.4036\n",
      "2/2 [==============================] - 0s 40ms/step - loss: 0.1227 - Class_loss: 0.1227 - Class_Acc: 0.2724 - Class_Top2: 0.4704\n",
      "2/2 [==============================] - 0s 91ms/step - loss: 12225.8350 - Class_loss: 40.7294 - Pred_Radius_loss: 2.0781 - Pred_T_eff_loss: 0.2465 - Class_CentralAcc: 0.2665 - Class_CentralTop2: 0.4358 - Class_FinalAcc: 0.3063 - Class_FinalTop2: 0.4881 - Class_Final_FScore: 0.2646 - Pred_Radius_Masked_RMSE: 1.1270 - Pred_Radius_Masked_R2: 0.1352 - Pred_T_eff_Masked_RMSE: 0.4155 - Pred_T_eff_Masked_R2: 0.0476\n",
      "2/2 [==============================] - 0s 34ms/step - loss: 0.1327 - Class_loss: 0.1327 - Class_Acc: 0.2298 - Class_Top2: 0.4826\n",
      "2/2 [==============================] - 0s 42ms/step - loss: 0.1227 - Class_loss: 0.1227 - Class_Acc: 0.2724 - Class_Top2: 0.4704\n",
      "2/2 [==============================] - 0s 87ms/step - loss: 12227.6680 - Class_loss: 40.7354 - Pred_Radius_loss: 2.0876 - Pred_T_eff_loss: 0.2479 - Class_CentralAcc: 0.2646 - Class_CentralTop2: 0.4317 - Class_FinalAcc: 0.3038 - Class_FinalTop2: 0.4850 - Class_Final_FScore: 0.2615 - Pred_Radius_Masked_RMSE: 1.1296 - Pred_Radius_Masked_R2: 0.1312 - Pred_T_eff_Masked_RMSE: 0.4166 - Pred_T_eff_Masked_R2: 0.0423\n",
      "2/2 [==============================] - 0s 35ms/step - loss: 0.1326 - Class_loss: 0.1326 - Class_Acc: 0.2282 - Class_Top2: 0.4804\n",
      "2/2 [==============================] - 0s 37ms/step - loss: 0.1227 - Class_loss: 0.1227 - Class_Acc: 0.2724 - Class_Top2: 0.4704\n",
      "2/2 [==============================] - 0s 90ms/step - loss: 12162.3975 - Class_loss: 40.5179 - Pred_Radius_loss: 2.0808 - Pred_T_eff_loss: 0.2477 - Class_CentralAcc: 0.2640 - Class_CentralTop2: 0.4345 - Class_FinalAcc: 0.3075 - Class_FinalTop2: 0.4931 - Class_Final_FScore: 0.2661 - Pred_Radius_Masked_RMSE: 1.1277 - Pred_Radius_Masked_R2: 0.1341 - Pred_T_eff_Masked_RMSE: 0.4164 - Pred_T_eff_Masked_R2: 0.0433\n",
      "2/2 [==============================] - 0s 35ms/step - loss: 0.1323 - Class_loss: 0.1323 - Class_Acc: 0.2849 - Class_Top2: 0.4877\n",
      "2/2 [==============================] - 0s 35ms/step - loss: 0.1227 - Class_loss: 0.1227 - Class_Acc: 0.2724 - Class_Top2: 0.4704\n",
      "2/2 [==============================] - 0s 89ms/step - loss: 12090.6152 - Class_loss: 40.2785 - Pred_Radius_loss: 2.0810 - Pred_T_eff_loss: 0.2488 - Class_CentralAcc: 0.2674 - Class_CentralTop2: 0.4345 - Class_FinalAcc: 0.3162 - Class_FinalTop2: 0.4938 - Class_Final_FScore: 0.2695 - Pred_Radius_Masked_RMSE: 1.1277 - Pred_Radius_Masked_R2: 0.1341 - Pred_T_eff_Masked_RMSE: 0.4174 - Pred_T_eff_Masked_R2: 0.0390\n",
      "2/2 [==============================] - 0s 40ms/step - loss: 0.1322 - Class_loss: 0.1322 - Class_Acc: 0.2542 - Class_Top2: 0.4861\n",
      "2/2 [==============================] - 0s 33ms/step - loss: 0.1227 - Class_loss: 0.1227 - Class_Acc: 0.2724 - Class_Top2: 0.4704\n",
      "2/2 [==============================] - 0s 89ms/step - loss: 12033.8945 - Class_loss: 40.0891 - Pred_Radius_loss: 2.0809 - Pred_T_eff_loss: 0.2539 - Class_CentralAcc: 0.2681 - Class_CentralTop2: 0.4350 - Class_FinalAcc: 0.3113 - Class_FinalTop2: 0.4919 - Class_Final_FScore: 0.2658 - Pred_Radius_Masked_RMSE: 1.1277 - Pred_Radius_Masked_R2: 0.1342 - Pred_T_eff_Masked_RMSE: 0.4216 - Pred_T_eff_Masked_R2: 0.0195\n",
      "2/2 [==============================] - 0s 37ms/step - loss: 0.1293 - Class_loss: 0.1293 - Class_Acc: 0.3267 - Class_Top2: 0.5229\n",
      "2/2 [==============================] - 0s 36ms/step - loss: 0.1227 - Class_loss: 0.1227 - Class_Acc: 0.2724 - Class_Top2: 0.4704\n",
      "2/2 [==============================] - 0s 87ms/step - loss: 12144.1602 - Class_loss: 40.4566 - Pred_Radius_loss: 2.0738 - Pred_T_eff_loss: 0.2555 - Class_CentralAcc: 0.2655 - Class_CentralTop2: 0.4373 - Class_FinalAcc: 0.3050 - Class_FinalTop2: 0.4844 - Class_Final_FScore: 0.2608 - Pred_Radius_Masked_RMSE: 1.1260 - Pred_Radius_Masked_R2: 0.1368 - Pred_T_eff_Masked_RMSE: 0.4230 - Pred_T_eff_Masked_R2: 0.0128\n",
      "Early Stopping\n",
      "              precision    recall  f1-score   support\n",
      "\n",
      "         CEP       0.00      0.00      0.00       200\n",
      "  DSCT_SXPHE       0.24      0.64      0.35       200\n",
      "     MIRA_SR       0.76      0.60      0.67       200\n",
      "        RRAB       0.22      0.10      0.14       200\n",
      "         RRC       0.21      0.07      0.11       200\n",
      "       T2CEP       0.21      0.36      0.26       200\n",
      "\n",
      "    accuracy                           0.29      1200\n",
      "   macro avg       0.27      0.29      0.26      1200\n",
      "weighted avg       0.27      0.29      0.26      1200\n",
      "\n",
      "{'R2': {'T_eff': 0.022168606229711285, 'Radius': 0.06643036580315975}, 'RMSE': {'T_eff': 1179.4913, 'Radius': 25.330088}}\n",
      "./Results/Fold_2/Models/20230706-2037\n"
     ]
    },
    {
     "name": "stderr",
     "output_type": "stream",
     "text": [
      "2023-07-06 20:38:05.071736: I tensorflow/core/profiler/lib/profiler_session.cc:110] Profiler session initializing.\n",
      "2023-07-06 20:38:05.071757: I tensorflow/core/profiler/lib/profiler_session.cc:125] Profiler session started.\n",
      "2023-07-06 20:38:05.197962: I tensorflow/core/profiler/lib/profiler_session.cc:143] Profiler session tear down.\n",
      "2023-07-06 20:38:05.198942: I tensorflow/core/profiler/internal/gpu/cupti_tracer.cc:1764] CUPTI activity buffer flushed\n",
      "2023-07-06 20:38:05.217260: I tensorflow/core/profiler/lib/profiler_session.cc:110] Profiler session initializing.\n",
      "2023-07-06 20:38:05.217279: I tensorflow/core/profiler/lib/profiler_session.cc:125] Profiler session started.\n",
      "2023-07-06 20:38:05.348672: I tensorflow/core/profiler/lib/profiler_session.cc:143] Profiler session tear down.\n",
      "2023-07-06 20:38:05.349667: I tensorflow/core/profiler/internal/gpu/cupti_tracer.cc:1764] CUPTI activity buffer flushed\n"
     ]
    },
    {
     "name": "stdout",
     "output_type": "stream",
     "text": [
      "Start training\n",
      "2/2 [==============================] - 3s 38ms/step - loss: 0.1687 - Class_loss: 0.1687 - Class_Acc: 0.2156 - Class_Top2: 0.3781\n",
      "2/2 [==============================] - 3s 34ms/step - loss: 0.1579 - Class_loss: 0.1579 - Class_Acc: 0.1665 - Class_Top2: 0.3267\n",
      "2/2 [==============================] - 8s 89ms/step - loss: 12793.4238 - Class_loss: 42.6160 - Pred_Radius_loss: 2.3692 - Pred_T_eff_loss: 0.3127 - Class_CentralAcc: 0.3057 - Class_CentralTop2: 0.5167 - Class_FinalAcc: 0.3331 - Class_FinalTop2: 0.5256 - Class_Final_FScore: 0.3130 - Pred_Radius_Masked_RMSE: 1.2190 - Pred_Radius_Masked_R2: -0.0318 - Pred_T_eff_Masked_RMSE: 0.4751 - Pred_T_eff_Masked_R2: -0.2711\n",
      "2/2 [==============================] - 0s 35ms/step - loss: 0.1677 - Class_loss: 0.1677 - Class_Acc: 0.1851 - Class_Top2: 0.4156\n",
      "2/2 [==============================] - 0s 34ms/step - loss: 0.1572 - Class_loss: 0.1572 - Class_Acc: 0.2369 - Class_Top2: 0.3676\n",
      "2/2 [==============================] - 0s 88ms/step - loss: 12939.3398 - Class_loss: 43.1026 - Pred_Radius_loss: 2.4158 - Pred_T_eff_loss: 0.3067 - Class_CentralAcc: 0.3055 - Class_CentralTop2: 0.5185 - Class_FinalAcc: 0.3319 - Class_FinalTop2: 0.5138 - Class_Final_FScore: 0.3174 - Pred_Radius_Masked_RMSE: 1.2308 - Pred_Radius_Masked_R2: -0.0518 - Pred_T_eff_Masked_RMSE: 0.4706 - Pred_T_eff_Masked_R2: -0.2468\n",
      "2/2 [==============================] - 0s 39ms/step - loss: 0.1668 - Class_loss: 0.1668 - Class_Acc: 0.2169 - Class_Top2: 0.3817\n",
      "2/2 [==============================] - 0s 35ms/step - loss: 0.1565 - Class_loss: 0.1565 - Class_Acc: 0.2095 - Class_Top2: 0.3700\n",
      "2/2 [==============================] - 0s 89ms/step - loss: 13094.1123 - Class_loss: 43.6186 - Pred_Radius_loss: 2.4332 - Pred_T_eff_loss: 0.3044 - Class_CentralAcc: 0.3109 - Class_CentralTop2: 0.5054 - Class_FinalAcc: 0.3487 - Class_FinalTop2: 0.5131 - Class_Final_FScore: 0.3287 - Pred_Radius_Masked_RMSE: 1.2352 - Pred_Radius_Masked_R2: -0.0594 - Pred_T_eff_Masked_RMSE: 0.4688 - Pred_T_eff_Masked_R2: -0.2372\n",
      "2/2 [==============================] - 0s 72ms/step - loss: 0.1658 - Class_loss: 0.1658 - Class_Acc: 0.2284 - Class_Top2: 0.3758\n",
      "2/2 [==============================] - 0s 50ms/step - loss: 0.1558 - Class_loss: 0.1558 - Class_Acc: 0.2374 - Class_Top2: 0.3884\n",
      "2/2 [==============================] - 0s 95ms/step - loss: 13092.2041 - Class_loss: 43.6121 - Pred_Radius_loss: 2.4362 - Pred_T_eff_loss: 0.3071 - Class_CentralAcc: 0.3114 - Class_CentralTop2: 0.5022 - Class_FinalAcc: 0.3469 - Class_FinalTop2: 0.5144 - Class_Final_FScore: 0.3270 - Pred_Radius_Masked_RMSE: 1.2359 - Pred_Radius_Masked_R2: -0.0606 - Pred_T_eff_Masked_RMSE: 0.4709 - Pred_T_eff_Masked_R2: -0.2484\n",
      "2/2 [==============================] - 0s 39ms/step - loss: 0.1648 - Class_loss: 0.1648 - Class_Acc: 0.2305 - Class_Top2: 0.3993\n",
      "2/2 [==============================] - 0s 46ms/step - loss: 0.1555 - Class_loss: 0.1555 - Class_Acc: 0.2460 - Class_Top2: 0.3768\n",
      "2/2 [==============================] - 0s 99ms/step - loss: 13025.9033 - Class_loss: 43.3909 - Pred_Radius_loss: 2.4354 - Pred_T_eff_loss: 0.3094 - Class_CentralAcc: 0.3092 - Class_CentralTop2: 0.4959 - Class_FinalAcc: 0.3469 - Class_FinalTop2: 0.5025 - Class_Final_FScore: 0.3196 - Pred_Radius_Masked_RMSE: 1.2357 - Pred_Radius_Masked_R2: -0.0602 - Pred_T_eff_Masked_RMSE: 0.4726 - Pred_T_eff_Masked_R2: -0.2576\n",
      "2/2 [==============================] - 0s 39ms/step - loss: 0.1650 - Class_loss: 0.1650 - Class_Acc: 0.2487 - Class_Top2: 0.4250\n",
      "2/2 [==============================] - 0s 36ms/step - loss: 0.1560 - Class_loss: 0.1560 - Class_Acc: 0.2425 - Class_Top2: 0.4197\n",
      "2/2 [==============================] - 0s 88ms/step - loss: 12933.6650 - Class_loss: 43.0836 - Pred_Radius_loss: 2.4388 - Pred_T_eff_loss: 0.3067 - Class_CentralAcc: 0.3062 - Class_CentralTop2: 0.4974 - Class_FinalAcc: 0.3319 - Class_FinalTop2: 0.5038 - Class_Final_FScore: 0.3070 - Pred_Radius_Masked_RMSE: 1.2366 - Pred_Radius_Masked_R2: -0.0617 - Pred_T_eff_Masked_RMSE: 0.4705 - Pred_T_eff_Masked_R2: -0.2465\n",
      "2/2 [==============================] - 0s 40ms/step - loss: 0.1667 - Class_loss: 0.1667 - Class_Acc: 0.2606 - Class_Top2: 0.4379\n",
      "2/2 [==============================] - 0s 35ms/step - loss: 0.1556 - Class_loss: 0.1556 - Class_Acc: 0.2509 - Class_Top2: 0.4544\n",
      "2/2 [==============================] - 0s 92ms/step - loss: 12865.9199 - Class_loss: 42.8575 - Pred_Radius_loss: 2.4450 - Pred_T_eff_loss: 0.3118 - Class_CentralAcc: 0.3042 - Class_CentralTop2: 0.4979 - Class_FinalAcc: 0.3262 - Class_FinalTop2: 0.5094 - Class_Final_FScore: 0.3139 - Pred_Radius_Masked_RMSE: 1.2381 - Pred_Radius_Masked_R2: -0.0643 - Pred_T_eff_Masked_RMSE: 0.4744 - Pred_T_eff_Masked_R2: -0.2674\n",
      "2/2 [==============================] - 0s 39ms/step - loss: 0.1646 - Class_loss: 0.1646 - Class_Acc: 0.2635 - Class_Top2: 0.4513\n",
      "2/2 [==============================] - 0s 35ms/step - loss: 0.1554 - Class_loss: 0.1554 - Class_Acc: 0.2144 - Class_Top2: 0.4305\n",
      "2/2 [==============================] - 0s 92ms/step - loss: 12988.0898 - Class_loss: 43.2645 - Pred_Radius_loss: 2.4538 - Pred_T_eff_loss: 0.3151 - Class_CentralAcc: 0.2987 - Class_CentralTop2: 0.5014 - Class_FinalAcc: 0.3356 - Class_FinalTop2: 0.5200 - Class_Final_FScore: 0.3174 - Pred_Radius_Masked_RMSE: 1.2403 - Pred_Radius_Masked_R2: -0.0682 - Pred_T_eff_Masked_RMSE: 0.4770 - Pred_T_eff_Masked_R2: -0.2810\n",
      "2/2 [==============================] - 0s 42ms/step - loss: 0.1649 - Class_loss: 0.1649 - Class_Acc: 0.2690 - Class_Top2: 0.4551\n",
      "2/2 [==============================] - 0s 35ms/step - loss: 0.1562 - Class_loss: 0.1562 - Class_Acc: 0.2302 - Class_Top2: 0.4101\n",
      "2/2 [==============================] - 0s 91ms/step - loss: 12927.0234 - Class_loss: 43.0607 - Pred_Radius_loss: 2.4722 - Pred_T_eff_loss: 0.3174 - Class_CentralAcc: 0.3008 - Class_CentralTop2: 0.5046 - Class_FinalAcc: 0.3369 - Class_FinalTop2: 0.5225 - Class_Final_FScore: 0.3141 - Pred_Radius_Masked_RMSE: 1.2450 - Pred_Radius_Masked_R2: -0.0762 - Pred_T_eff_Masked_RMSE: 0.4787 - Pred_T_eff_Masked_R2: -0.2903\n",
      "2/2 [==============================] - 0s 36ms/step - loss: 0.1662 - Class_loss: 0.1662 - Class_Acc: 0.2723 - Class_Top2: 0.4617\n",
      "2/2 [==============================] - 0s 36ms/step - loss: 0.1569 - Class_loss: 0.1569 - Class_Acc: 0.2211 - Class_Top2: 0.4212\n",
      "2/2 [==============================] - 0s 101ms/step - loss: 12889.7373 - Class_loss: 42.9360 - Pred_Radius_loss: 2.4785 - Pred_T_eff_loss: 0.3234 - Class_CentralAcc: 0.3039 - Class_CentralTop2: 0.5086 - Class_FinalAcc: 0.3344 - Class_FinalTop2: 0.5200 - Class_Final_FScore: 0.3112 - Pred_Radius_Masked_RMSE: 1.2465 - Pred_Radius_Masked_R2: -0.0788 - Pred_T_eff_Masked_RMSE: 0.4832 - Pred_T_eff_Masked_R2: -0.3145\n",
      "2/2 [==============================] - 0s 45ms/step - loss: 0.1659 - Class_loss: 0.1659 - Class_Acc: 0.2740 - Class_Top2: 0.4443\n",
      "2/2 [==============================] - 0s 38ms/step - loss: 0.1564 - Class_loss: 0.1564 - Class_Acc: 0.2050 - Class_Top2: 0.4210\n",
      "2/2 [==============================] - 0s 88ms/step - loss: 12936.6426 - Class_loss: 43.0917 - Pred_Radius_loss: 2.4635 - Pred_T_eff_loss: 0.3330 - Class_CentralAcc: 0.3090 - Class_CentralTop2: 0.5180 - Class_FinalAcc: 0.3369 - Class_FinalTop2: 0.5362 - Class_Final_FScore: 0.3145 - Pred_Radius_Masked_RMSE: 1.2427 - Pred_Radius_Masked_R2: -0.0722 - Pred_T_eff_Masked_RMSE: 0.4903 - Pred_T_eff_Masked_R2: -0.3536\n",
      "2/2 [==============================] - 0s 38ms/step - loss: 0.1653 - Class_loss: 0.1653 - Class_Acc: 0.2310 - Class_Top2: 0.4145\n",
      "2/2 [==============================] - 0s 36ms/step - loss: 0.1553 - Class_loss: 0.1553 - Class_Acc: 0.2242 - Class_Top2: 0.4249\n",
      "2/2 [==============================] - 0s 89ms/step - loss: 12986.6426 - Class_loss: 43.2580 - Pred_Radius_loss: 2.4632 - Pred_T_eff_loss: 0.3387 - Class_CentralAcc: 0.3059 - Class_CentralTop2: 0.5211 - Class_FinalAcc: 0.3306 - Class_FinalTop2: 0.5437 - Class_Final_FScore: 0.3041 - Pred_Radius_Masked_RMSE: 1.2427 - Pred_Radius_Masked_R2: -0.0723 - Pred_T_eff_Masked_RMSE: 0.4944 - Pred_T_eff_Masked_R2: -0.3766\n",
      "2/2 [==============================] - 0s 36ms/step - loss: 0.1661 - Class_loss: 0.1661 - Class_Acc: 0.1958 - Class_Top2: 0.4583\n",
      "2/2 [==============================] - 0s 39ms/step - loss: 0.1557 - Class_loss: 0.1557 - Class_Acc: 0.1945 - Class_Top2: 0.3755\n",
      "2/2 [==============================] - 0s 87ms/step - loss: 13009.9502 - Class_loss: 43.3364 - Pred_Radius_loss: 2.4350 - Pred_T_eff_loss: 0.3297 - Class_CentralAcc: 0.3072 - Class_CentralTop2: 0.5177 - Class_FinalAcc: 0.3444 - Class_FinalTop2: 0.5337 - Class_Final_FScore: 0.3163 - Pred_Radius_Masked_RMSE: 1.2356 - Pred_Radius_Masked_R2: -0.0601 - Pred_T_eff_Masked_RMSE: 0.4879 - Pred_T_eff_Masked_R2: -0.3402\n",
      "2/2 [==============================] - 0s 45ms/step - loss: 0.1659 - Class_loss: 0.1659 - Class_Acc: 0.1921 - Class_Top2: 0.4572\n",
      "2/2 [==============================] - 0s 41ms/step - loss: 0.1561 - Class_loss: 0.1561 - Class_Acc: 0.2421 - Class_Top2: 0.4158\n",
      "2/2 [==============================] - 0s 93ms/step - loss: 12994.4121 - Class_loss: 43.2850 - Pred_Radius_loss: 2.4264 - Pred_T_eff_loss: 0.3243 - Class_CentralAcc: 0.3171 - Class_CentralTop2: 0.5157 - Class_FinalAcc: 0.3494 - Class_FinalTop2: 0.5331 - Class_Final_FScore: 0.3258 - Pred_Radius_Masked_RMSE: 1.2336 - Pred_Radius_Masked_R2: -0.0565 - Pred_T_eff_Masked_RMSE: 0.4838 - Pred_T_eff_Masked_R2: -0.3182\n",
      "2/2 [==============================] - 0s 38ms/step - loss: 0.1659 - Class_loss: 0.1659 - Class_Acc: 0.2382 - Class_Top2: 0.4333\n",
      "2/2 [==============================] - 0s 36ms/step - loss: 0.1578 - Class_loss: 0.1578 - Class_Acc: 0.2510 - Class_Top2: 0.4335\n",
      "2/2 [==============================] - 0s 87ms/step - loss: 12999.6797 - Class_loss: 43.3024 - Pred_Radius_loss: 2.4399 - Pred_T_eff_loss: 0.3259 - Class_CentralAcc: 0.3159 - Class_CentralTop2: 0.5062 - Class_FinalAcc: 0.3706 - Class_FinalTop2: 0.5337 - Class_Final_FScore: 0.3496 - Pred_Radius_Masked_RMSE: 1.2369 - Pred_Radius_Masked_R2: -0.0623 - Pred_T_eff_Masked_RMSE: 0.4851 - Pred_T_eff_Masked_R2: -0.3248\n",
      "2/2 [==============================] - 0s 40ms/step - loss: 0.1643 - Class_loss: 0.1643 - Class_Acc: 0.2481 - Class_Top2: 0.4673\n",
      "2/2 [==============================] - 0s 51ms/step - loss: 0.1562 - Class_loss: 0.1562 - Class_Acc: 0.2520 - Class_Top2: 0.4453\n",
      "2/2 [==============================] - 0s 91ms/step - loss: 12961.6934 - Class_loss: 43.1758 - Pred_Radius_loss: 2.4373 - Pred_T_eff_loss: 0.3264 - Class_CentralAcc: 0.3174 - Class_CentralTop2: 0.5086 - Class_FinalAcc: 0.3606 - Class_FinalTop2: 0.5238 - Class_Final_FScore: 0.3419 - Pred_Radius_Masked_RMSE: 1.2362 - Pred_Radius_Masked_R2: -0.0610 - Pred_T_eff_Masked_RMSE: 0.4854 - Pred_T_eff_Masked_R2: -0.3268\n",
      "2/2 [==============================] - 0s 38ms/step - loss: 0.1643 - Class_loss: 0.1643 - Class_Acc: 0.2583 - Class_Top2: 0.4524\n",
      "2/2 [==============================] - 0s 41ms/step - loss: 0.1563 - Class_loss: 0.1563 - Class_Acc: 0.2531 - Class_Top2: 0.4433\n",
      "2/2 [==============================] - 0s 96ms/step - loss: 12984.0977 - Class_loss: 43.2504 - Pred_Radius_loss: 2.4362 - Pred_T_eff_loss: 0.3267 - Class_CentralAcc: 0.3150 - Class_CentralTop2: 0.5040 - Class_FinalAcc: 0.3481 - Class_FinalTop2: 0.5094 - Class_Final_FScore: 0.3309 - Pred_Radius_Masked_RMSE: 1.2358 - Pred_Radius_Masked_R2: -0.0605 - Pred_T_eff_Masked_RMSE: 0.4856 - Pred_T_eff_Masked_R2: -0.3280\n",
      "2/2 [==============================] - 0s 38ms/step - loss: 0.1648 - Class_loss: 0.1648 - Class_Acc: 0.2102 - Class_Top2: 0.5008\n",
      "2/2 [==============================] - 0s 38ms/step - loss: 0.1567 - Class_loss: 0.1567 - Class_Acc: 0.2572 - Class_Top2: 0.4594\n",
      "2/2 [==============================] - 0s 94ms/step - loss: 13047.7773 - Class_loss: 43.4630 - Pred_Radius_loss: 2.4178 - Pred_T_eff_loss: 0.3228 - Class_CentralAcc: 0.3136 - Class_CentralTop2: 0.5035 - Class_FinalAcc: 0.3419 - Class_FinalTop2: 0.5075 - Class_Final_FScore: 0.3272 - Pred_Radius_Masked_RMSE: 1.2310 - Pred_Radius_Masked_R2: -0.0522 - Pred_T_eff_Masked_RMSE: 0.4827 - Pred_T_eff_Masked_R2: -0.3122\n",
      "2/2 [==============================] - 0s 36ms/step - loss: 0.1639 - Class_loss: 0.1639 - Class_Acc: 0.2598 - Class_Top2: 0.4836\n",
      "2/2 [==============================] - 0s 39ms/step - loss: 0.1571 - Class_loss: 0.1571 - Class_Acc: 0.2492 - Class_Top2: 0.4566\n",
      "2/2 [==============================] - 0s 90ms/step - loss: 13025.5049 - Class_loss: 43.3887 - Pred_Radius_loss: 2.4181 - Pred_T_eff_loss: 0.3241 - Class_CentralAcc: 0.3083 - Class_CentralTop2: 0.5021 - Class_FinalAcc: 0.3569 - Class_FinalTop2: 0.5106 - Class_Final_FScore: 0.3284 - Pred_Radius_Masked_RMSE: 1.2312 - Pred_Radius_Masked_R2: -0.0526 - Pred_T_eff_Masked_RMSE: 0.4837 - Pred_T_eff_Masked_R2: -0.3174\n",
      "2/2 [==============================] - 0s 38ms/step - loss: 0.1626 - Class_loss: 0.1626 - Class_Acc: 0.2704 - Class_Top2: 0.4955\n",
      "2/2 [==============================] - 0s 36ms/step - loss: 0.1564 - Class_loss: 0.1564 - Class_Acc: 0.2388 - Class_Top2: 0.4595\n",
      "2/2 [==============================] - 0s 96ms/step - loss: 12953.5010 - Class_loss: 43.1483 - Pred_Radius_loss: 2.4277 - Pred_T_eff_loss: 0.3294 - Class_CentralAcc: 0.3094 - Class_CentralTop2: 0.5090 - Class_FinalAcc: 0.3594 - Class_FinalTop2: 0.5200 - Class_Final_FScore: 0.3222 - Pred_Radius_Masked_RMSE: 1.2338 - Pred_Radius_Masked_R2: -0.0569 - Pred_T_eff_Masked_RMSE: 0.4876 - Pred_T_eff_Masked_R2: -0.3389\n",
      "2/2 [==============================] - 0s 34ms/step - loss: 0.1625 - Class_loss: 0.1625 - Class_Acc: 0.2715 - Class_Top2: 0.5241\n",
      "2/2 [==============================] - 0s 37ms/step - loss: 0.1564 - Class_loss: 0.1564 - Class_Acc: 0.2448 - Class_Top2: 0.4514\n",
      "2/2 [==============================] - 0s 89ms/step - loss: 12925.5742 - Class_loss: 43.0552 - Pred_Radius_loss: 2.4203 - Pred_T_eff_loss: 0.3293 - Class_CentralAcc: 0.3122 - Class_CentralTop2: 0.5139 - Class_FinalAcc: 0.3644 - Class_FinalTop2: 0.5231 - Class_Final_FScore: 0.3326 - Pred_Radius_Masked_RMSE: 1.2319 - Pred_Radius_Masked_R2: -0.0538 - Pred_T_eff_Masked_RMSE: 0.4876 - Pred_T_eff_Masked_R2: -0.3386\n",
      "2/2 [==============================] - 0s 35ms/step - loss: 0.1630 - Class_loss: 0.1630 - Class_Acc: 0.2730 - Class_Top2: 0.4984\n",
      "2/2 [==============================] - 0s 35ms/step - loss: 0.1566 - Class_loss: 0.1566 - Class_Acc: 0.2464 - Class_Top2: 0.4421\n",
      "2/2 [==============================] - 0s 89ms/step - loss: 12923.9678 - Class_loss: 43.0503 - Pred_Radius_loss: 2.4133 - Pred_T_eff_loss: 0.3234 - Class_CentralAcc: 0.3197 - Class_CentralTop2: 0.5106 - Class_FinalAcc: 0.3625 - Class_FinalTop2: 0.5219 - Class_Final_FScore: 0.3341 - Pred_Radius_Masked_RMSE: 1.2301 - Pred_Radius_Masked_R2: -0.0507 - Pred_T_eff_Masked_RMSE: 0.4832 - Pred_T_eff_Masked_R2: -0.3147\n",
      "2/2 [==============================] - 0s 38ms/step - loss: 0.1633 - Class_loss: 0.1633 - Class_Acc: 0.2881 - Class_Top2: 0.4916\n",
      "2/2 [==============================] - 0s 35ms/step - loss: 0.1563 - Class_loss: 0.1563 - Class_Acc: 0.2502 - Class_Top2: 0.4492\n",
      "2/2 [==============================] - 0s 91ms/step - loss: 12991.4072 - Class_loss: 43.2750 - Pred_Radius_loss: 2.4193 - Pred_T_eff_loss: 0.3239 - Class_CentralAcc: 0.3208 - Class_CentralTop2: 0.5042 - Class_FinalAcc: 0.3625 - Class_FinalTop2: 0.5144 - Class_Final_FScore: 0.3309 - Pred_Radius_Masked_RMSE: 1.2316 - Pred_Radius_Masked_R2: -0.0532 - Pred_T_eff_Masked_RMSE: 0.4836 - Pred_T_eff_Masked_R2: -0.3167\n",
      "2/2 [==============================] - 0s 38ms/step - loss: 0.1640 - Class_loss: 0.1640 - Class_Acc: 0.2258 - Class_Top2: 0.3917\n",
      "2/2 [==============================] - 0s 35ms/step - loss: 0.1557 - Class_loss: 0.1557 - Class_Acc: 0.2544 - Class_Top2: 0.4626\n",
      "2/2 [==============================] - 0s 88ms/step - loss: 12975.5322 - Class_loss: 43.2219 - Pred_Radius_loss: 2.4079 - Pred_T_eff_loss: 0.3273 - Class_CentralAcc: 0.3204 - Class_CentralTop2: 0.5022 - Class_FinalAcc: 0.3556 - Class_FinalTop2: 0.5100 - Class_Final_FScore: 0.3295 - Pred_Radius_Masked_RMSE: 1.2287 - Pred_Radius_Masked_R2: -0.0482 - Pred_T_eff_Masked_RMSE: 0.4861 - Pred_T_eff_Masked_R2: -0.3304\n",
      "2/2 [==============================] - 0s 42ms/step - loss: 0.1628 - Class_loss: 0.1628 - Class_Acc: 0.2407 - Class_Top2: 0.4221\n",
      "2/2 [==============================] - 0s 38ms/step - loss: 0.1552 - Class_loss: 0.1552 - Class_Acc: 0.2582 - Class_Top2: 0.4704\n",
      "2/2 [==============================] - 0s 95ms/step - loss: 12971.6221 - Class_loss: 43.2087 - Pred_Radius_loss: 2.3906 - Pred_T_eff_loss: 0.3310 - Class_CentralAcc: 0.3194 - Class_CentralTop2: 0.4998 - Class_FinalAcc: 0.3544 - Class_FinalTop2: 0.5069 - Class_Final_FScore: 0.3299 - Pred_Radius_Masked_RMSE: 1.2242 - Pred_Radius_Masked_R2: -0.0406 - Pred_T_eff_Masked_RMSE: 0.4888 - Pred_T_eff_Masked_R2: -0.3453\n",
      "2/2 [==============================] - 0s 40ms/step - loss: 0.1621 - Class_loss: 0.1621 - Class_Acc: 0.2480 - Class_Top2: 0.4151\n",
      "2/2 [==============================] - 0s 39ms/step - loss: 0.1552 - Class_loss: 0.1552 - Class_Acc: 0.2553 - Class_Top2: 0.4690\n",
      "2/2 [==============================] - 0s 91ms/step - loss: 12969.5527 - Class_loss: 43.2016 - Pred_Radius_loss: 2.3878 - Pred_T_eff_loss: 0.3344 - Class_CentralAcc: 0.3118 - Class_CentralTop2: 0.5034 - Class_FinalAcc: 0.3444 - Class_FinalTop2: 0.5050 - Class_Final_FScore: 0.3173 - Pred_Radius_Masked_RMSE: 1.2235 - Pred_Radius_Masked_R2: -0.0394 - Pred_T_eff_Masked_RMSE: 0.4913 - Pred_T_eff_Masked_R2: -0.3591\n",
      "2/2 [==============================] - 0s 41ms/step - loss: 0.1616 - Class_loss: 0.1616 - Class_Acc: 0.2547 - Class_Top2: 0.4782\n",
      "2/2 [==============================] - 0s 34ms/step - loss: 0.1558 - Class_loss: 0.1558 - Class_Acc: 0.2395 - Class_Top2: 0.4623\n",
      "2/2 [==============================] - 0s 93ms/step - loss: 13063.9385 - Class_loss: 43.5161 - Pred_Radius_loss: 2.4001 - Pred_T_eff_loss: 0.3359 - Class_CentralAcc: 0.3099 - Class_CentralTop2: 0.4936 - Class_FinalAcc: 0.3450 - Class_FinalTop2: 0.5025 - Class_Final_FScore: 0.3180 - Pred_Radius_Masked_RMSE: 1.2266 - Pred_Radius_Masked_R2: -0.0447 - Pred_T_eff_Masked_RMSE: 0.4924 - Pred_T_eff_Masked_R2: -0.3653\n",
      "2/2 [==============================] - 0s 34ms/step - loss: 0.1607 - Class_loss: 0.1607 - Class_Acc: 0.2168 - Class_Top2: 0.4528\n",
      "2/2 [==============================] - 0s 36ms/step - loss: 0.1562 - Class_loss: 0.1562 - Class_Acc: 0.1944 - Class_Top2: 0.4054\n",
      "2/2 [==============================] - 0s 94ms/step - loss: 13105.2471 - Class_loss: 43.6540 - Pred_Radius_loss: 2.3926 - Pred_T_eff_loss: 0.3334 - Class_CentralAcc: 0.3049 - Class_CentralTop2: 0.4881 - Class_FinalAcc: 0.3350 - Class_FinalTop2: 0.5006 - Class_Final_FScore: 0.3069 - Pred_Radius_Masked_RMSE: 1.2247 - Pred_Radius_Masked_R2: -0.0415 - Pred_T_eff_Masked_RMSE: 0.4906 - Pred_T_eff_Masked_R2: -0.3552\n",
      "2/2 [==============================] - 0s 38ms/step - loss: 0.1600 - Class_loss: 0.1600 - Class_Acc: 0.2584 - Class_Top2: 0.5339\n",
      "2/2 [==============================] - 0s 41ms/step - loss: 0.1553 - Class_loss: 0.1553 - Class_Acc: 0.2440 - Class_Top2: 0.4447\n",
      "2/2 [==============================] - 0s 96ms/step - loss: 12956.8398 - Class_loss: 43.1601 - Pred_Radius_loss: 2.3611 - Pred_T_eff_loss: 0.3224 - Class_CentralAcc: 0.3110 - Class_CentralTop2: 0.4974 - Class_FinalAcc: 0.3506 - Class_FinalTop2: 0.5050 - Class_Final_FScore: 0.3218 - Pred_Radius_Masked_RMSE: 1.2167 - Pred_Radius_Masked_R2: -0.0279 - Pred_T_eff_Masked_RMSE: 0.4824 - Pred_T_eff_Masked_R2: -0.3106\n",
      "2/2 [==============================] - 0s 36ms/step - loss: 0.1585 - Class_loss: 0.1585 - Class_Acc: 0.2529 - Class_Top2: 0.4572\n",
      "2/2 [==============================] - 0s 39ms/step - loss: 0.1546 - Class_loss: 0.1546 - Class_Acc: 0.2119 - Class_Top2: 0.4427\n",
      "2/2 [==============================] - 0s 91ms/step - loss: 12955.6377 - Class_loss: 43.1562 - Pred_Radius_loss: 2.3717 - Pred_T_eff_loss: 0.3207 - Class_CentralAcc: 0.3100 - Class_CentralTop2: 0.5007 - Class_FinalAcc: 0.3581 - Class_FinalTop2: 0.5069 - Class_Final_FScore: 0.3264 - Pred_Radius_Masked_RMSE: 1.2196 - Pred_Radius_Masked_R2: -0.0327 - Pred_T_eff_Masked_RMSE: 0.4811 - Pred_T_eff_Masked_R2: -0.3034\n",
      "2/2 [==============================] - 0s 39ms/step - loss: 0.1571 - Class_loss: 0.1571 - Class_Acc: 0.3211 - Class_Top2: 0.5660\n",
      "2/2 [==============================] - 0s 35ms/step - loss: 0.1542 - Class_loss: 0.1542 - Class_Acc: 0.2450 - Class_Top2: 0.4518\n",
      "2/2 [==============================] - 0s 88ms/step - loss: 12965.3291 - Class_loss: 43.1883 - Pred_Radius_loss: 2.3969 - Pred_T_eff_loss: 0.3214 - Class_CentralAcc: 0.3089 - Class_CentralTop2: 0.5010 - Class_FinalAcc: 0.3537 - Class_FinalTop2: 0.5031 - Class_Final_FScore: 0.3209 - Pred_Radius_Masked_RMSE: 1.2260 - Pred_Radius_Masked_R2: -0.0436 - Pred_T_eff_Masked_RMSE: 0.4817 - Pred_T_eff_Masked_R2: -0.3063\n",
      "2/2 [==============================] - 0s 37ms/step - loss: 0.1574 - Class_loss: 0.1574 - Class_Acc: 0.2698 - Class_Top2: 0.4819\n",
      "2/2 [==============================] - 0s 38ms/step - loss: 0.1538 - Class_loss: 0.1538 - Class_Acc: 0.2572 - Class_Top2: 0.4561\n",
      "2/2 [==============================] - 0s 90ms/step - loss: 12943.4111 - Class_loss: 43.1150 - Pred_Radius_loss: 2.4059 - Pred_T_eff_loss: 0.3249 - Class_CentralAcc: 0.3105 - Class_CentralTop2: 0.5033 - Class_FinalAcc: 0.3531 - Class_FinalTop2: 0.5006 - Class_Final_FScore: 0.3275 - Pred_Radius_Masked_RMSE: 1.2283 - Pred_Radius_Masked_R2: -0.0475 - Pred_T_eff_Masked_RMSE: 0.4843 - Pred_T_eff_Masked_R2: -0.3206\n",
      "2/2 [==============================] - 0s 39ms/step - loss: 0.1578 - Class_loss: 0.1578 - Class_Acc: 0.2559 - Class_Top2: 0.5000\n",
      "2/2 [==============================] - 0s 40ms/step - loss: 0.1534 - Class_loss: 0.1534 - Class_Acc: 0.2455 - Class_Top2: 0.4412\n",
      "2/2 [==============================] - 0s 90ms/step - loss: 12960.8379 - Class_loss: 43.1732 - Pred_Radius_loss: 2.4168 - Pred_T_eff_loss: 0.3235 - Class_CentralAcc: 0.3107 - Class_CentralTop2: 0.4913 - Class_FinalAcc: 0.3594 - Class_FinalTop2: 0.4913 - Class_Final_FScore: 0.3253 - Pred_Radius_Masked_RMSE: 1.2310 - Pred_Radius_Masked_R2: -0.0522 - Pred_T_eff_Masked_RMSE: 0.4832 - Pred_T_eff_Masked_R2: -0.3148\n",
      "2/2 [==============================] - 0s 41ms/step - loss: 0.1554 - Class_loss: 0.1554 - Class_Acc: 0.2791 - Class_Top2: 0.5413\n",
      "2/2 [==============================] - 0s 41ms/step - loss: 0.1531 - Class_loss: 0.1531 - Class_Acc: 0.2523 - Class_Top2: 0.4438\n",
      "2/2 [==============================] - 0s 100ms/step - loss: 12957.5439 - Class_loss: 43.1620 - Pred_Radius_loss: 2.4037 - Pred_T_eff_loss: 0.3271 - Class_CentralAcc: 0.3105 - Class_CentralTop2: 0.4936 - Class_FinalAcc: 0.3644 - Class_FinalTop2: 0.4969 - Class_Final_FScore: 0.3302 - Pred_Radius_Masked_RMSE: 1.2277 - Pred_Radius_Masked_R2: -0.0465 - Pred_T_eff_Masked_RMSE: 0.4859 - Pred_T_eff_Masked_R2: -0.3295\n",
      "2/2 [==============================] - 0s 40ms/step - loss: 0.1537 - Class_loss: 0.1537 - Class_Acc: 0.2895 - Class_Top2: 0.5744\n",
      "2/2 [==============================] - 0s 34ms/step - loss: 0.1526 - Class_loss: 0.1526 - Class_Acc: 0.2301 - Class_Top2: 0.4210\n",
      "2/2 [==============================] - 0s 88ms/step - loss: 12986.1025 - Class_loss: 43.2571 - Pred_Radius_loss: 2.4069 - Pred_T_eff_loss: 0.3284 - Class_CentralAcc: 0.3089 - Class_CentralTop2: 0.4886 - Class_FinalAcc: 0.3569 - Class_FinalTop2: 0.4888 - Class_Final_FScore: 0.3236 - Pred_Radius_Masked_RMSE: 1.2285 - Pred_Radius_Masked_R2: -0.0479 - Pred_T_eff_Masked_RMSE: 0.4869 - Pred_T_eff_Masked_R2: -0.3350\n",
      "2/2 [==============================] - 0s 34ms/step - loss: 0.1665 - Class_loss: 0.1665 - Class_Acc: 0.2186 - Class_Top2: 0.4677\n",
      "2/2 [==============================] - 0s 37ms/step - loss: 0.1538 - Class_loss: 0.1538 - Class_Acc: 0.2524 - Class_Top2: 0.4406\n",
      "2/2 [==============================] - 0s 89ms/step - loss: 13054.0029 - Class_loss: 43.4838 - Pred_Radius_loss: 2.4162 - Pred_T_eff_loss: 0.3225 - Class_CentralAcc: 0.3147 - Class_CentralTop2: 0.5061 - Class_FinalAcc: 0.3587 - Class_FinalTop2: 0.5275 - Class_Final_FScore: 0.3363 - Pred_Radius_Masked_RMSE: 1.2309 - Pred_Radius_Masked_R2: -0.0521 - Pred_T_eff_Masked_RMSE: 0.4825 - Pred_T_eff_Masked_R2: -0.3107\n",
      "2/2 [==============================] - 0s 36ms/step - loss: 0.1666 - Class_loss: 0.1666 - Class_Acc: 0.2271 - Class_Top2: 0.4573\n",
      "      1/Unknown - 0s 113ms/step - loss: 0.1504 - Class_loss: 0.1504 - Class_Acc: 0.2546 - Class_Top2: 0.4501"
     ]
    },
    {
     "name": "stderr",
     "output_type": "stream",
     "text": [
      "\n",
      "KeyboardInterrupt\n",
      "\n"
     ]
    }
   ],
   "source": [
    "for fold in folds:\n",
    "    tf.keras.backend.clear_session()\n",
    "    # Set the fold path\n",
    "    base_dir = fold+'/'\n",
    "    \n",
    "    # Set the save path for this fold. Create folder if needed\n",
    "    # path_results_fold = fold.replace('../../02_Create_Records/'+survey+'/', './').replace('/Folds/', '/Results/')\n",
    "    path_results_fold = fold.replace('../02_CreateRecords', '.').replace('/Folds/', '/Results/')\n",
    "\n",
    "    if not os.path.exists(path_results_fold):\n",
    "        os.mkdir(path_results_fold)    \n",
    "\n",
    "    train_args_specific['save_dir'] = path_results_fold\n",
    "    train_args_specific['metadata_pre_path'] = base_dir+'metadata_preprocess.json'  \n",
    "    train_args_specific['path_scalers'] =  base_dir+'scalers.pkl'\n",
    "    # Define the train args\n",
    "    train_args = {**train_args, **train_args_specific}\n",
    "    \n",
    "    train_files = base_dir+'train/*.tfrecord'\n",
    "    val_files = base_dir+'val/*.tfrecord'\n",
    "    test_files = base_dir+'test/*.tfrecord'\n",
    "    \n",
    "    new = multiband.Network()    \n",
    "    new.train(train_args, train_files, val_files, test_files)\n",
    "    new.train_loop()\n"
   ]
  },
  {
   "cell_type": "code",
   "execution_count": null,
   "metadata": {},
   "outputs": [],
   "source": []
  },
  {
   "cell_type": "code",
   "execution_count": null,
   "metadata": {},
   "outputs": [],
   "source": []
  }
 ],
 "metadata": {
  "kernelspec": {
   "display_name": "Python 3 (ipykernel)",
   "language": "python",
   "name": "python3"
  },
  "language_info": {
   "codemirror_mode": {
    "name": "ipython",
    "version": 3
   },
   "file_extension": ".py",
   "mimetype": "text/x-python",
   "name": "python",
   "nbconvert_exporter": "python",
   "pygments_lexer": "ipython3",
   "version": "3.8.10"
  }
 },
 "nbformat": 4,
 "nbformat_minor": 4
}
