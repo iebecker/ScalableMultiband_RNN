{
 "cells": [
  {
   "cell_type": "code",
   "execution_count": 1,
   "metadata": {
    "tags": []
   },
   "outputs": [],
   "source": [
    "import pandas as pd\n",
    "import numpy as np\n",
    "import sys\n",
    "import matplotlib.pyplot as plt\n",
    "import tensorflow as tf\n",
    "import os\n",
    "from glob import glob\n",
    "sys.path.append('../../src')\n",
    "sys.path.append('../../')\n",
    "import classifier.Multiband as multiband\n"
   ]
  },
  {
   "cell_type": "markdown",
   "metadata": {},
   "source": [
    "the filtering of the times must be done in the spine, not in each band. Spit all the times then slect the best one. "
   ]
  },
  {
   "cell_type": "code",
   "execution_count": 2,
   "metadata": {
    "tags": []
   },
   "outputs": [
    {
     "name": "stderr",
     "output_type": "stream",
     "text": [
      "2023-07-07 00:56:50.977866: I tensorflow/stream_executor/cuda/cuda_gpu_executor.cc:939] successful NUMA node read from SysFS had negative value (-1), but there must be at least one NUMA node, so returning NUMA node zero\n",
      "2023-07-07 00:56:50.978100: I tensorflow/stream_executor/cuda/cuda_gpu_executor.cc:939] successful NUMA node read from SysFS had negative value (-1), but there must be at least one NUMA node, so returning NUMA node zero\n",
      "2023-07-07 00:56:50.983007: I tensorflow/stream_executor/cuda/cuda_gpu_executor.cc:939] successful NUMA node read from SysFS had negative value (-1), but there must be at least one NUMA node, so returning NUMA node zero\n",
      "2023-07-07 00:56:50.983205: I tensorflow/stream_executor/cuda/cuda_gpu_executor.cc:939] successful NUMA node read from SysFS had negative value (-1), but there must be at least one NUMA node, so returning NUMA node zero\n",
      "2023-07-07 00:56:50.983366: I tensorflow/stream_executor/cuda/cuda_gpu_executor.cc:939] successful NUMA node read from SysFS had negative value (-1), but there must be at least one NUMA node, so returning NUMA node zero\n",
      "2023-07-07 00:56:50.983526: I tensorflow/stream_executor/cuda/cuda_gpu_executor.cc:939] successful NUMA node read from SysFS had negative value (-1), but there must be at least one NUMA node, so returning NUMA node zero\n"
     ]
    }
   ],
   "source": [
    "# To see if the system regognises the GPU\n",
    "device = 0\n",
    "devices = tf.config.experimental.list_physical_devices('GPU')\n",
    "tf.config.set_visible_devices(devices[device], 'GPU')\n",
    "tf.config.experimental.set_memory_growth(device=devices[device], enable=True)\n"
   ]
  },
  {
   "cell_type": "markdown",
   "metadata": {},
   "source": [
    "Find the different folds and train a model using the stored data."
   ]
  },
  {
   "cell_type": "code",
   "execution_count": 3,
   "metadata": {
    "tags": []
   },
   "outputs": [
    {
     "data": {
      "text/plain": [
       "['../02_CreateRecords/Folds/Fold_1/',\n",
       " '../02_CreateRecords/Folds/Fold_2/',\n",
       " '../02_CreateRecords/Folds/Fold_3/']"
      ]
     },
     "execution_count": 3,
     "metadata": {},
     "output_type": "execute_result"
    }
   ],
   "source": [
    "survey = 'Gaia'\n",
    "path = os.path.join('../02_CreateRecords/Folds/Fold_*/',)\n",
    "folds = glob(path)\n",
    "folds.sort()\n",
    "folds"
   ]
  },
  {
   "cell_type": "markdown",
   "metadata": {},
   "source": [
    "Create folder results"
   ]
  },
  {
   "cell_type": "code",
   "execution_count": 4,
   "metadata": {
    "tags": []
   },
   "outputs": [],
   "source": [
    "if not os.path.exists('./Results'):\n",
    "    os.mkdir('./Results')\n"
   ]
  },
  {
   "cell_type": "markdown",
   "metadata": {},
   "source": [
    "Define the arguments for all the models."
   ]
  },
  {
   "cell_type": "code",
   "execution_count": 5,
   "metadata": {
    "tags": []
   },
   "outputs": [],
   "source": [
    "train_args = {\n",
    "            'hidden_size_bands':[128, 128, 128],\n",
    "            'hidden_size_central':[128, 128],\n",
    "            'fc_layers_bands':[128,128,128],\n",
    "            'fc_layers_central':[128,128,128], # Neurons of each layer\n",
    "            'regression_size':[128, 128],#each element is a layer with that size.\n",
    "            'buffer_size':10000,\n",
    "            'epochs':5,\n",
    "            'num_threads':7,\n",
    "            'batch_size':1024,\n",
    "            'dropout':0.40,\n",
    "            'lr':[[1e-3]*2, 1e-3], # [[band1, band2], central]\n",
    "            'val_steps':50,\n",
    "            'max_to_keep':0, # Not Used \n",
    "            'steps_wait':0, \n",
    "            'use_class_weights':False,# Not Used\n",
    "            'mode' : 'classifier+regression'\n",
    "            }\n",
    "loss_weights = {'Class':300.0, 'T_eff':20.0,'Radius':1e0}\n",
    "\n",
    "callbacks_args = {'patience': 20,\n",
    "                  'mode':'max',\n",
    "                  'restore_best_weights':True,\n",
    "                  'min_delta': 0.001\n",
    "                 }\n",
    "train_args_specific={\n",
    "                    'phys_params': ['T_eff', 'Radius'],\n",
    "                    'use_output_bands' : True,  # Working\n",
    "                    'use_output_central' : False, # Not used\n",
    "                    'use_common_layers' : False, # NOT Working\n",
    "                    'bidirectional_central' : False,# Working\n",
    "                    'bidirectional_band' : False,# Not Working\n",
    "                    'layer_norm_params' : None, # Used to normalyze common layers\n",
    "                    'use_gated_common' : False, # Working\n",
    "                    'l1':0.0,\n",
    "                    'l2':0.0,   \n",
    "                    'N_skip' : 8, # Cannot be greater than the number of timesteps\n",
    "                    'use_raw_input_central': True,\n",
    "                    'train_steps_central' : 2,\n",
    "                    'print_report' : True,\n",
    "                    'loss_weights_central' : loss_weights,\n",
    "                    'callbacks_args':callbacks_args\n",
    "                    }\n",
    "\n"
   ]
  },
  {
   "cell_type": "code",
   "execution_count": null,
   "metadata": {
    "tags": []
   },
   "outputs": [
    {
     "name": "stderr",
     "output_type": "stream",
     "text": [
      "2023-07-07 00:56:51.009895: I tensorflow/core/platform/cpu_feature_guard.cc:151] This TensorFlow binary is optimized with oneAPI Deep Neural Network Library (oneDNN) to use the following CPU instructions in performance-critical operations:  AVX2 FMA\n",
      "To enable them in other operations, rebuild TensorFlow with the appropriate compiler flags.\n",
      "2023-07-07 00:56:51.010327: I tensorflow/stream_executor/cuda/cuda_gpu_executor.cc:939] successful NUMA node read from SysFS had negative value (-1), but there must be at least one NUMA node, so returning NUMA node zero\n",
      "2023-07-07 00:56:51.010524: I tensorflow/stream_executor/cuda/cuda_gpu_executor.cc:939] successful NUMA node read from SysFS had negative value (-1), but there must be at least one NUMA node, so returning NUMA node zero\n",
      "2023-07-07 00:56:51.010664: I tensorflow/stream_executor/cuda/cuda_gpu_executor.cc:939] successful NUMA node read from SysFS had negative value (-1), but there must be at least one NUMA node, so returning NUMA node zero\n",
      "2023-07-07 00:56:51.395142: I tensorflow/stream_executor/cuda/cuda_gpu_executor.cc:939] successful NUMA node read from SysFS had negative value (-1), but there must be at least one NUMA node, so returning NUMA node zero\n",
      "2023-07-07 00:56:51.395323: I tensorflow/stream_executor/cuda/cuda_gpu_executor.cc:939] successful NUMA node read from SysFS had negative value (-1), but there must be at least one NUMA node, so returning NUMA node zero\n",
      "2023-07-07 00:56:51.395465: I tensorflow/stream_executor/cuda/cuda_gpu_executor.cc:939] successful NUMA node read from SysFS had negative value (-1), but there must be at least one NUMA node, so returning NUMA node zero\n",
      "2023-07-07 00:56:51.395588: I tensorflow/core/common_runtime/gpu/gpu_device.cc:1525] Created device /job:localhost/replica:0/task:0/device:GPU:0 with 5712 MB memory:  -> device: 0, name: NVIDIA GeForce RTX 2080 SUPER, pci bus id: 0000:01:00.0, compute capability: 7.5\n"
     ]
    },
    {
     "name": "stdout",
     "output_type": "stream",
     "text": [
      "Start training\n"
     ]
    },
    {
     "name": "stderr",
     "output_type": "stream",
     "text": [
      "2023-07-07 00:57:07.880832: I tensorflow/stream_executor/cuda/cuda_dnn.cc:366] Loaded cuDNN version 8101\n"
     ]
    },
    {
     "name": "stdout",
     "output_type": "stream",
     "text": [
      "13/13 [==============================] - 3s 42ms/step - loss: 0.1384 - Class_loss: 0.1384 - Class_Acc: 0.2456 - Class_Top2: 0.4801\n",
      "13/13 [==============================] - 3s 30ms/step - loss: 0.1306 - Class_loss: 0.1306 - Class_Acc: 0.2459 - Class_Top2: 0.4917\n",
      "13/13 [==============================] - 10s 130ms/step - loss: 7857.7173 - Class_loss: 26.1834 - Pred_Radius_loss: 1.1450 - Pred_T_eff_loss: 0.0770 - Class_CentralAcc: 0.5306 - Class_CentralTop2: 0.7527 - Class_FinalAcc: 0.5436 - Class_FinalTop2: 0.7625 - Class_Final_FScore: 0.3860 - Pred_Radius_Masked_RMSE: 0.8064 - Pred_Radius_Masked_R2: 0.5950 - Pred_T_eff_Masked_RMSE: 0.2253 - Pred_T_eff_Masked_R2: 0.6777\n",
      "13/13 [==============================] - 0s 29ms/step - loss: 0.1377 - Class_loss: 0.1377 - Class_Acc: 0.2412 - Class_Top2: 0.4776\n",
      "13/13 [==============================] - 0s 29ms/step - loss: 0.1280 - Class_loss: 0.1280 - Class_Acc: 0.2405 - Class_Top2: 0.4829\n",
      "13/13 [==============================] - 2s 122ms/step - loss: 7285.1602 - Class_loss: 24.2759 - Pred_Radius_loss: 1.1048 - Pred_T_eff_loss: 0.0644 - Class_CentralAcc: 0.5706 - Class_CentralTop2: 0.7746 - Class_FinalAcc: 0.5731 - Class_FinalTop2: 0.7732 - Class_Final_FScore: 0.4039 - Pred_Radius_Masked_RMSE: 0.7919 - Pred_Radius_Masked_R2: 0.6094 - Pred_T_eff_Masked_RMSE: 0.2060 - Pred_T_eff_Masked_R2: 0.7305\n",
      "13/13 [==============================] - 0s 29ms/step - loss: 0.1346 - Class_loss: 0.1346 - Class_Acc: 0.2400 - Class_Top2: 0.5472\n",
      "13/13 [==============================] - 0s 30ms/step - loss: 0.1270 - Class_loss: 0.1270 - Class_Acc: 0.2379 - Class_Top2: 0.4752\n",
      "13/13 [==============================] - 2s 129ms/step - loss: 6683.3101 - Class_loss: 22.2702 - Pred_Radius_loss: 1.0677 - Pred_T_eff_loss: 0.0589 - Class_CentralAcc: 0.6139 - Class_CentralTop2: 0.8181 - Class_FinalAcc: 0.6341 - Class_FinalTop2: 0.8302 - Class_Final_FScore: 0.4679 - Pred_Radius_Masked_RMSE: 0.7785 - Pred_Radius_Masked_R2: 0.6225 - Pred_T_eff_Masked_RMSE: 0.1969 - Pred_T_eff_Masked_R2: 0.7539\n",
      "13/13 [==============================] - 0s 31ms/step - loss: 0.1324 - Class_loss: 0.1324 - Class_Acc: 0.2431 - Class_Top2: 0.4767\n",
      "13/13 [==============================] - 0s 29ms/step - loss: 0.1251 - Class_loss: 0.1251 - Class_Acc: 0.2442 - Class_Top2: 0.4752\n",
      "13/13 [==============================] - 2s 128ms/step - loss: 6480.9561 - Class_loss: 21.5963 - Pred_Radius_loss: 1.0783 - Pred_T_eff_loss: 0.0494 - Class_CentralAcc: 0.6319 - Class_CentralTop2: 0.8305 - Class_FinalAcc: 0.6480 - Class_FinalTop2: 0.8394 - Class_Final_FScore: 0.5160 - Pred_Radius_Masked_RMSE: 0.7823 - Pred_Radius_Masked_R2: 0.6188 - Pred_T_eff_Masked_RMSE: 0.1804 - Pred_T_eff_Masked_R2: 0.7935\n",
      "13/13 [==============================] - 0s 31ms/step - loss: 0.1293 - Class_loss: 0.1293 - Class_Acc: 0.2847 - Class_Top2: 0.4976\n",
      "13/13 [==============================] - 1s 32ms/step - loss: 0.1233 - Class_loss: 0.1233 - Class_Acc: 0.2753 - Class_Top2: 0.4788\n",
      "13/13 [==============================] - 2s 121ms/step - loss: 6186.6870 - Class_loss: 20.6152 - Pred_Radius_loss: 1.1346 - Pred_T_eff_loss: 0.0499 - Class_CentralAcc: 0.6429 - Class_CentralTop2: 0.8330 - Class_FinalAcc: 0.6615 - Class_FinalTop2: 0.8410 - Class_Final_FScore: 0.5151 - Pred_Radius_Masked_RMSE: 0.8030 - Pred_Radius_Masked_R2: 0.5984 - Pred_T_eff_Masked_RMSE: 0.1813 - Pred_T_eff_Masked_R2: 0.7913\n",
      "              precision    recall  f1-score   support\n",
      "\n",
      "         CEP       0.52      0.72      0.61      1367\n",
      "  DSCT_SXPHE       0.60      0.21      0.31       880\n",
      "     MIRA_SR       0.85      0.91      0.88      2200\n",
      "        RRAB       0.68      0.62      0.65      2200\n",
      "         RRC       0.58      0.73      0.65      2200\n",
      "       T2CEP       0.00      0.00      0.00       436\n",
      "\n",
      "    accuracy                           0.66      9283\n",
      "   macro avg       0.54      0.53      0.51      9283\n",
      "weighted avg       0.64      0.66      0.63      9283\n",
      "\n",
      "{'R2': {'T_eff': 0.7663711238081204, 'Radius': 0.5704373578562276}, 'RMSE': {'T_eff': 580.84796, 'Radius': 18.578592}}\n",
      "./Results/Fold_2/Models/20230707-0059\n",
      "Start training\n"
     ]
    }
   ],
   "source": [
    "for fold in folds:\n",
    "    tf.keras.backend.clear_session()\n",
    "    # Set the fold path\n",
    "    base_dir = fold+'/'\n",
    "    \n",
    "    # Set the save path for this fold. Create folder if needed\n",
    "    path_results_fold = fold.replace('../02_CreateRecords', '.').replace('/Folds/', '/Results/')\n",
    "\n",
    "    if not os.path.exists(path_results_fold):\n",
    "        os.mkdir(path_results_fold)    \n",
    "\n",
    "    train_args_specific['save_dir'] = path_results_fold\n",
    "    train_args_specific['metadata_pre_path'] = base_dir+'metadata_preprocess.json'  \n",
    "    train_args_specific['path_scalers'] =  base_dir+'scalers.pkl'\n",
    "    # Define the train args\n",
    "    train_args = {**train_args, **train_args_specific}\n",
    "    \n",
    "    train_files = base_dir+'train/*.tfrecord'\n",
    "    val_files = base_dir+'val/*.tfrecord'\n",
    "    test_files = base_dir+'test/*.tfrecord'\n",
    "    \n",
    "    new = multiband.Network()    \n",
    "    new.train(train_args, train_files, val_files, test_files)\n",
    "    new.train_loop()\n"
   ]
  },
  {
   "cell_type": "code",
   "execution_count": null,
   "metadata": {},
   "outputs": [],
   "source": []
  },
  {
   "cell_type": "code",
   "execution_count": null,
   "metadata": {},
   "outputs": [],
   "source": []
  }
 ],
 "metadata": {
  "kernelspec": {
   "display_name": "Python 3 (ipykernel)",
   "language": "python",
   "name": "python3"
  },
  "language_info": {
   "codemirror_mode": {
    "name": "ipython",
    "version": 3
   },
   "file_extension": ".py",
   "mimetype": "text/x-python",
   "name": "python",
   "nbconvert_exporter": "python",
   "pygments_lexer": "ipython3",
   "version": "3.8.10"
  }
 },
 "nbformat": 4,
 "nbformat_minor": 4
}
