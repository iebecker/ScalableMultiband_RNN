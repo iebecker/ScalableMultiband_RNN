{
 "cells": [
  {
   "cell_type": "code",
   "execution_count": 2,
   "metadata": {
    "ExecuteTime": {
     "end_time": "2023-07-17T22:41:54.821276065Z",
     "start_time": "2023-07-17T22:41:52.290869978Z"
    },
    "scrolled": true
   },
   "outputs": [],
   "source": [
    "import os\n",
    "import sys\n",
    "from glob import glob\n",
    "\n",
    "import numpy as np\n",
    "import tensorflow as tf\n",
    "\n",
    "import ScalableLib.classifier.Multiband as multiband\n",
    "import ScalableLib.base.plot as plot"
   ]
  },
  {
   "cell_type": "code",
   "execution_count": null,
   "metadata": {},
   "outputs": [],
   "source": [
    "os.path.join"
   ]
  },
  {
   "cell_type": "code",
   "execution_count": 3,
   "metadata": {},
   "outputs": [],
   "source": [
    "# To reset cuda\n",
    "# sudo rmmod nvidia_uvm\n",
    "# sudo modprobe nvidia_uvm\n",
    "# To see if the system recognises the GPU\n",
    "device = 1\n",
    "devices = tf.config.experimental.list_physical_devices('GPU')\n",
    "tf.config.set_visible_devices(devices[device], 'GPU')\n",
    "tf.config.experimental.set_memory_growth(device=devices[device], enable=True)"
   ]
  },
  {
   "cell_type": "code",
   "execution_count": 14,
   "metadata": {},
   "outputs": [],
   "source": [
    "survey = 'Gaia'\n",
    "path = './Folds/Fold_*'\n",
    "folds = glob(path)\n",
    "folds.sort()\n",
    "\n",
    "if not os.path.exists('./Results/'):\n",
    "    os.mkdir('./Results/')\n",
    "\n",
    "label_order = ['CEP', 'T2CEP', 'MIRA_SR', 'RRAB', 'RRC', 'DSCT_SXPHE']\n",
    "\n",
    "# Containers to store the results\n",
    "reports_folds = []\n",
    "cm_folds = []\n",
    "regressions = []"
   ]
  },
  {
   "cell_type": "code",
   "execution_count": 15,
   "metadata": {},
   "outputs": [
    {
     "data": {
      "text/plain": [
       "['./Folds/Fold_1', './Folds/Fold_2', './Folds/Fold_3']"
      ]
     },
     "execution_count": 15,
     "metadata": {},
     "output_type": "execute_result"
    }
   ],
   "source": [
    "folds"
   ]
  },
  {
   "cell_type": "code",
   "execution_count": 18,
   "metadata": {
    "ExecuteTime": {
     "end_time": "2023-07-17T22:47:47.449216758Z",
     "start_time": "2023-07-17T22:47:34.396168346Z"
    },
    "collapsed": false,
    "jupyter": {
     "outputs_hidden": false
    }
   },
   "outputs": [
    {
     "ename": "IndexError",
     "evalue": "list index out of range",
     "output_type": "error",
     "traceback": [
      "\u001b[0;31m---------------------------------------------------------------------------\u001b[0m",
      "\u001b[0;31mIndexError\u001b[0m                                Traceback (most recent call last)",
      "Cell \u001b[0;32mIn[18], line 10\u001b[0m\n\u001b[1;32m      8\u001b[0m path_runs \u001b[38;5;241m=\u001b[39m glob(path_runs_folder)\n\u001b[1;32m      9\u001b[0m path_runs\u001b[38;5;241m.\u001b[39msort()\n\u001b[0;32m---> 10\u001b[0m path_run \u001b[38;5;241m=\u001b[39m \u001b[43mpath_runs\u001b[49m\u001b[43m[\u001b[49m\u001b[38;5;241;43m-\u001b[39;49m\u001b[38;5;241;43m1\u001b[39;49m\u001b[43m]\u001b[49m\n\u001b[1;32m     12\u001b[0m \u001b[38;5;66;03m# # path_preprocess = fold.replace('/03_TrainModels/', '/02_CreateRecords/')\u001b[39;00m\n\u001b[1;32m     13\u001b[0m \u001b[38;5;66;03m# path_preprocess = fold.replace('Results', 'Folds')\u001b[39;00m\n\u001b[1;32m     14\u001b[0m \u001b[38;5;66;03m# test_files = os.path.join(path_preprocess, 'test/*.tfrecord')\u001b[39;00m\n\u001b[0;32m   (...)\u001b[0m\n\u001b[1;32m     24\u001b[0m \u001b[38;5;66;03m# weights_path = os.path.join(fold, 'Models', run)\u001b[39;00m\n\u001b[1;32m     25\u001b[0m \u001b[38;5;66;03m# new.run_test(settings_path, test_files, weights_path, df_paths=write_path)\u001b[39;00m\n\u001b[1;32m     27\u001b[0m \u001b[38;5;28;01mbreak\u001b[39;00m\n",
      "\u001b[0;31mIndexError\u001b[0m: list index out of range"
     ]
    }
   ],
   "source": [
    "for fold in folds:\n",
    "    tf.keras.backend.clear_session()\n",
    "    # Set the fold path\n",
    "    base_dir = fold\n",
    "    # base_dir = fold\n",
    "    \n",
    "    # Get the last run\n",
    "    path_runs_folder = os.path.join(fold, 'Models', '*')\n",
    "    path_runs = glob(path_runs_folder)\n",
    "    path_runs.sort()\n",
    "    path_run = path_runs[-1]\n",
    "\n",
    "    # # path_preprocess = fold.replace('/03_TrainModels/', '/02_CreateRecords/')\n",
    "    # path_preprocess = fold.replace('Results', 'Folds')\n",
    "    # test_files = os.path.join(path_preprocess, 'test/*.tfrecord')\n",
    "\n",
    "    # new = multiband.Network()\n",
    "    # settings_path = os.path.join(path_run, 'all_settings.json')\n",
    "    # # new.batch_size = 512\n",
    "    # fold_name = fold.split('/')[-1]\n",
    "    # write_path = os.path.join('./Results', fold_name + '_Results.dat')\n",
    "\n",
    "    # # Get weights path\n",
    "    # run = path_run.split('/')[-1]\n",
    "    # weights_path = os.path.join(fold, 'Models', run)\n",
    "    # new.run_test(settings_path, test_files, weights_path, df_paths=write_path)\n",
    "\n",
    "    break"
   ]
  },
  {
   "cell_type": "code",
   "execution_count": 19,
   "metadata": {},
   "outputs": [
    {
     "data": {
      "text/plain": [
       "'./Folds/Fold_1/Models/*'"
      ]
     },
     "execution_count": 19,
     "metadata": {},
     "output_type": "execute_result"
    }
   ],
   "source": [
    "path_runs_folder"
   ]
  },
  {
   "cell_type": "code",
   "execution_count": null,
   "metadata": {},
   "outputs": [],
   "source": [
    "new = multiband.Network()"
   ]
  },
  {
   "cell_type": "code",
   "execution_count": null,
   "metadata": {},
   "outputs": [],
   "source": [
    "new"
   ]
  },
  {
   "cell_type": "code",
   "execution_count": null,
   "metadata": {},
   "outputs": [],
   "source": [
    "new.run_test(settings_path, test_files, weights_path, df_paths=write_path)"
   ]
  },
  {
   "cell_type": "code",
   "execution_count": null,
   "metadata": {
    "ExecuteTime": {
     "end_time": "2023-07-17T22:42:53.672782345Z",
     "start_time": "2023-07-17T22:42:43.635690060Z"
    },
    "collapsed": false,
    "jupyter": {
     "outputs_hidden": false
    }
   },
   "outputs": [],
   "source": [
    "new.run_test_test(settings_path, test_files, weights_path, df_paths=write_path)"
   ]
  },
  {
   "cell_type": "code",
   "execution_count": null,
   "metadata": {
    "ExecuteTime": {
     "end_time": "2023-07-17T22:46:15.998592774Z",
     "start_time": "2023-07-17T22:46:15.990795215Z"
    },
    "collapsed": false,
    "jupyter": {
     "outputs_hidden": false
    }
   },
   "outputs": [],
   "source": [
    "import base.Parser as Parser\n",
    "def initialize_dataset_test( filename_test):\n",
    "    loader = Parser.Parser(physical_parameters=new.physical_params,\n",
    "                           n_bands=new.n_bands,\n",
    "                           num_classes=new.num_classes,\n",
    "                           w=new.w,\n",
    "                           batch_size=new.batch_size,\n",
    "                           num_threads=new.num_cores,\n",
    "                           buffer_size=new.buffer_size,\n",
    "                           mode=new.mode,\n",
    "                           )\n",
    "    print(filename_test)\n",
    "    new.dataset_test = loader.get_dataset(filename=filename_test,\n",
    "                                           epochs=1,\n",
    "                                           shuffle=False\n",
    "                                           )"
   ]
  },
  {
   "cell_type": "code",
   "execution_count": null,
   "metadata": {
    "ExecuteTime": {
     "end_time": "2023-07-17T22:46:46.813251599Z",
     "start_time": "2023-07-17T22:46:46.755559082Z"
    },
    "collapsed": false,
    "jupyter": {
     "outputs_hidden": false
    }
   },
   "outputs": [],
   "source": [
    "initialize_dataset_test([test_files])"
   ]
  },
  {
   "cell_type": "code",
   "execution_count": null,
   "metadata": {
    "ExecuteTime": {
     "end_time": "2023-07-17T22:46:48.335937202Z",
     "start_time": "2023-07-17T22:46:47.636000273Z"
    },
    "collapsed": false,
    "jupyter": {
     "outputs_hidden": false
    }
   },
   "outputs": [],
   "source": [
    "for batch in new.dataset_test:\n",
    "    break\n",
    "batch"
   ]
  },
  {
   "cell_type": "code",
   "execution_count": null,
   "metadata": {
    "ExecuteTime": {
     "end_time": "2023-07-17T22:39:59.259170372Z",
     "start_time": "2023-07-17T22:39:59.249137967Z"
    },
    "collapsed": false,
    "jupyter": {
     "outputs_hidden": false
    }
   },
   "outputs": [],
   "source": [
    "path_parameters=settings_path\n",
    "path_records_test=test_files\n",
    "path_weights=weights_path"
   ]
  },
  {
   "cell_type": "code",
   "execution_count": null,
   "metadata": {
    "ExecuteTime": {
     "end_time": "2023-07-17T22:40:37.339977586Z",
     "start_time": "2023-07-17T22:40:37.260228407Z"
    },
    "collapsed": false,
    "jupyter": {
     "outputs_hidden": false
    }
   },
   "outputs": [],
   "source": [
    "import pickle\n",
    "new.load_setup(path_parameters)\n",
    "# Load scalers\n",
    "if 'regression' in new.mode:\n",
    "    # Load the scalers\n",
    "    with open(new.path_scalers, 'rb') as file:\n",
    "        new.scalers = pickle.load(file)\n",
    "# Initialize dataset\n",
    "new.__initialize_dataset_test(path_records_test)"
   ]
  },
  {
   "cell_type": "code",
   "execution_count": null,
   "metadata": {
    "collapsed": false,
    "jupyter": {
     "outputs_hidden": false
    }
   },
   "outputs": [],
   "source": [
    "import keras.api._v2.keras as keras"
   ]
  },
  {
   "cell_type": "code",
   "execution_count": null,
   "metadata": {},
   "outputs": [],
   "source": []
  }
 ],
 "metadata": {
  "kernelspec": {
   "display_name": "Python 3 (ipykernel)",
   "language": "python",
   "name": "python3"
  },
  "language_info": {
   "codemirror_mode": {
    "name": "ipython",
    "version": 3
   },
   "file_extension": ".py",
   "mimetype": "text/x-python",
   "name": "python",
   "nbconvert_exporter": "python",
   "pygments_lexer": "ipython3",
   "version": "3.10.12"
  }
 },
 "nbformat": 4,
 "nbformat_minor": 4
}
