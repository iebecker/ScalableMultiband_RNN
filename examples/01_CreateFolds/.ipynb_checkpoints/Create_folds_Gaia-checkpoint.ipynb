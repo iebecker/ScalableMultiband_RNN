{
 "cells": [
  {
   "cell_type": "code",
   "execution_count": 1,
   "id": "fc80007b",
   "metadata": {
    "tags": []
   },
   "outputs": [],
   "source": [
    "import pandas as pd\n",
    "from sklearn.model_selection import StratifiedKFold, train_test_split\n",
    "import numpy as np\n",
    "from collections import Counter\n",
    "import os"
   ]
  },
  {
   "cell_type": "code",
   "execution_count": 2,
   "id": "9cafabd0",
   "metadata": {
    "tags": []
   },
   "outputs": [],
   "source": [
    "survey = 'Gaia'"
   ]
  },
  {
   "cell_type": "markdown",
   "id": "1e7f84a5",
   "metadata": {},
   "source": [
    "Read the data"
   ]
  },
  {
   "cell_type": "code",
   "execution_count": 3,
   "id": "19bb77dc",
   "metadata": {
    "tags": []
   },
   "outputs": [
    {
     "data": {
      "text/html": [
       "<div>\n",
       "<style scoped>\n",
       "    .dataframe tbody tr th:only-of-type {\n",
       "        vertical-align: middle;\n",
       "    }\n",
       "\n",
       "    .dataframe tbody tr th {\n",
       "        vertical-align: top;\n",
       "    }\n",
       "\n",
       "    .dataframe thead th {\n",
       "        text-align: right;\n",
       "    }\n",
       "</style>\n",
       "<table border=\"1\" class=\"dataframe\">\n",
       "  <thead>\n",
       "    <tr style=\"text-align: right;\">\n",
       "      <th></th>\n",
       "      <th>ID</th>\n",
       "      <th>Path</th>\n",
       "      <th>N</th>\n",
       "      <th>N_b</th>\n",
       "      <th>N_r</th>\n",
       "      <th>Class</th>\n",
       "      <th>T_eff</th>\n",
       "      <th>e_T_eff</th>\n",
       "      <th>E_T_eff</th>\n",
       "      <th>Lum</th>\n",
       "      <th>...</th>\n",
       "      <th>E_Rad</th>\n",
       "      <th>logg</th>\n",
       "      <th>e_logg</th>\n",
       "      <th>E_logg</th>\n",
       "      <th>Mass</th>\n",
       "      <th>e_Mass</th>\n",
       "      <th>E_Mass</th>\n",
       "      <th>rho</th>\n",
       "      <th>e_rho</th>\n",
       "      <th>E_rho</th>\n",
       "    </tr>\n",
       "  </thead>\n",
       "  <tbody>\n",
       "    <tr>\n",
       "      <th>0</th>\n",
       "      <td>3985923473972534400</td>\n",
       "      <td>/home/Data/Databases/GAIA/Consolidate_Gaia/dat...</td>\n",
       "      <td>8</td>\n",
       "      <td>4</td>\n",
       "      <td>4</td>\n",
       "      <td>DSCT_SXPHE</td>\n",
       "      <td>-1.0000</td>\n",
       "      <td>-1.000</td>\n",
       "      <td>-1.0000</td>\n",
       "      <td>-1.00000</td>\n",
       "      <td>...</td>\n",
       "      <td>-1.0</td>\n",
       "      <td>-1.0000</td>\n",
       "      <td>-1.0</td>\n",
       "      <td>-1.0</td>\n",
       "      <td>-1.00</td>\n",
       "      <td>-1.0</td>\n",
       "      <td>-1.0</td>\n",
       "      <td>-1.0000</td>\n",
       "      <td>-1.0</td>\n",
       "      <td>-1.0</td>\n",
       "    </tr>\n",
       "    <tr>\n",
       "      <th>1</th>\n",
       "      <td>3986570197263160320</td>\n",
       "      <td>/home/Data/Databases/GAIA/Consolidate_Gaia/dat...</td>\n",
       "      <td>10</td>\n",
       "      <td>5</td>\n",
       "      <td>5</td>\n",
       "      <td>RRAB</td>\n",
       "      <td>6481.0000</td>\n",
       "      <td>-1.000</td>\n",
       "      <td>-1.0000</td>\n",
       "      <td>-1.00000</td>\n",
       "      <td>...</td>\n",
       "      <td>-1.0</td>\n",
       "      <td>-1.0000</td>\n",
       "      <td>-1.0</td>\n",
       "      <td>-1.0</td>\n",
       "      <td>-1.00</td>\n",
       "      <td>-1.0</td>\n",
       "      <td>-1.0</td>\n",
       "      <td>-1.0000</td>\n",
       "      <td>-1.0</td>\n",
       "      <td>-1.0</td>\n",
       "    </tr>\n",
       "    <tr>\n",
       "      <th>2</th>\n",
       "      <td>3986754189367115264</td>\n",
       "      <td>/home/Data/Databases/GAIA/Consolidate_Gaia/dat...</td>\n",
       "      <td>12</td>\n",
       "      <td>6</td>\n",
       "      <td>6</td>\n",
       "      <td>RRAB</td>\n",
       "      <td>7381.3335</td>\n",
       "      <td>7173.793</td>\n",
       "      <td>7558.6665</td>\n",
       "      <td>2.83599</td>\n",
       "      <td>...</td>\n",
       "      <td>-1.0</td>\n",
       "      <td>4.5185</td>\n",
       "      <td>-1.0</td>\n",
       "      <td>-1.0</td>\n",
       "      <td>1.55</td>\n",
       "      <td>-1.0</td>\n",
       "      <td>-1.0</td>\n",
       "      <td>1.0603</td>\n",
       "      <td>-1.0</td>\n",
       "      <td>-1.0</td>\n",
       "    </tr>\n",
       "    <tr>\n",
       "      <th>3</th>\n",
       "      <td>3987237630885709312</td>\n",
       "      <td>/home/Data/Databases/GAIA/Consolidate_Gaia/dat...</td>\n",
       "      <td>12</td>\n",
       "      <td>7</td>\n",
       "      <td>5</td>\n",
       "      <td>RRAB</td>\n",
       "      <td>7011.0000</td>\n",
       "      <td>-1.000</td>\n",
       "      <td>-1.0000</td>\n",
       "      <td>-1.00000</td>\n",
       "      <td>...</td>\n",
       "      <td>-1.0</td>\n",
       "      <td>-1.0000</td>\n",
       "      <td>-1.0</td>\n",
       "      <td>-1.0</td>\n",
       "      <td>-1.00</td>\n",
       "      <td>-1.0</td>\n",
       "      <td>-1.0</td>\n",
       "      <td>-1.0000</td>\n",
       "      <td>-1.0</td>\n",
       "      <td>-1.0</td>\n",
       "    </tr>\n",
       "    <tr>\n",
       "      <th>4</th>\n",
       "      <td>3987697089307190016</td>\n",
       "      <td>/home/Data/Databases/GAIA/Consolidate_Gaia/dat...</td>\n",
       "      <td>8</td>\n",
       "      <td>4</td>\n",
       "      <td>4</td>\n",
       "      <td>RRAB</td>\n",
       "      <td>7191.5000</td>\n",
       "      <td>6808.000</td>\n",
       "      <td>8884.0000</td>\n",
       "      <td>2.30248</td>\n",
       "      <td>...</td>\n",
       "      <td>-1.0</td>\n",
       "      <td>4.6352</td>\n",
       "      <td>-1.0</td>\n",
       "      <td>-1.0</td>\n",
       "      <td>1.58</td>\n",
       "      <td>-1.0</td>\n",
       "      <td>-1.0</td>\n",
       "      <td>1.5719</td>\n",
       "      <td>-1.0</td>\n",
       "      <td>-1.0</td>\n",
       "    </tr>\n",
       "  </tbody>\n",
       "</table>\n",
       "<p>5 rows × 24 columns</p>\n",
       "</div>"
      ],
      "text/plain": [
       "                    ID                                               Path   N  \\\n",
       "0  3985923473972534400  /home/Data/Databases/GAIA/Consolidate_Gaia/dat...   8   \n",
       "1  3986570197263160320  /home/Data/Databases/GAIA/Consolidate_Gaia/dat...  10   \n",
       "2  3986754189367115264  /home/Data/Databases/GAIA/Consolidate_Gaia/dat...  12   \n",
       "3  3987237630885709312  /home/Data/Databases/GAIA/Consolidate_Gaia/dat...  12   \n",
       "4  3987697089307190016  /home/Data/Databases/GAIA/Consolidate_Gaia/dat...   8   \n",
       "\n",
       "   N_b  N_r       Class      T_eff   e_T_eff    E_T_eff      Lum  ...  E_Rad  \\\n",
       "0    4    4  DSCT_SXPHE    -1.0000    -1.000    -1.0000 -1.00000  ...   -1.0   \n",
       "1    5    5        RRAB  6481.0000    -1.000    -1.0000 -1.00000  ...   -1.0   \n",
       "2    6    6        RRAB  7381.3335  7173.793  7558.6665  2.83599  ...   -1.0   \n",
       "3    7    5        RRAB  7011.0000    -1.000    -1.0000 -1.00000  ...   -1.0   \n",
       "4    4    4        RRAB  7191.5000  6808.000  8884.0000  2.30248  ...   -1.0   \n",
       "\n",
       "     logg  e_logg  E_logg  Mass  e_Mass  E_Mass     rho  e_rho  E_rho  \n",
       "0 -1.0000    -1.0    -1.0 -1.00    -1.0    -1.0 -1.0000   -1.0   -1.0  \n",
       "1 -1.0000    -1.0    -1.0 -1.00    -1.0    -1.0 -1.0000   -1.0   -1.0  \n",
       "2  4.5185    -1.0    -1.0  1.55    -1.0    -1.0  1.0603   -1.0   -1.0  \n",
       "3 -1.0000    -1.0    -1.0 -1.00    -1.0    -1.0 -1.0000   -1.0   -1.0  \n",
       "4  4.6352    -1.0    -1.0  1.58    -1.0    -1.0  1.5719   -1.0   -1.0  \n",
       "\n",
       "[5 rows x 24 columns]"
      ]
     },
     "execution_count": 3,
     "metadata": {},
     "output_type": "execute_result"
    }
   ],
   "source": [
    "path = '/home/Data/Paper_2/Prepare_dataset/Gaia/V5/Dataset_Gaia_Phys_V5.dat'\n",
    "df = pd.read_csv(path)\n",
    "df.head()"
   ]
  },
  {
   "cell_type": "markdown",
   "id": "39401e21",
   "metadata": {},
   "source": [
    "Define the properties of each light curve by Minimum length!"
   ]
  },
  {
   "cell_type": "code",
   "execution_count": 4,
   "id": "0319a82c",
   "metadata": {
    "tags": []
   },
   "outputs": [],
   "source": [
    "min_N =  10\n",
    "max_N = 1000\n",
    "    \n",
    "max_L = 10000\n",
    "min_L = 500\n",
    "    \n",
    "bands = [i for i in df.columns if 'N_' in i]\n",
    "b = np.ones(df.shape[0], dtype=np.bool_)\n",
    "for band in bands:\n",
    "    b_band = df[band]>min_N\n",
    "    b = np.logical_and(b, b_band)\n",
    "\n",
    "df = df[b].copy()\n",
    "df = df.reset_index().drop('index', axis=1)"
   ]
  },
  {
   "cell_type": "markdown",
   "id": "952128f5",
   "metadata": {},
   "source": [
    "Sample at most 40k elements per class.\n",
    "\n",
    "20% -> for testing\n",
    "70% -> for training\n",
    "10% -> for validation\n"
   ]
  },
  {
   "cell_type": "code",
   "execution_count": 5,
   "id": "3d3e4516",
   "metadata": {
    "tags": []
   },
   "outputs": [],
   "source": [
    "\n",
    "def sample_classes(data):\n",
    "    # Leave up_to N_max objects per class\n",
    "    dfs = []\n",
    "    classes= list(data.Class.unique())\n",
    "    num_classes = len(classes)\n",
    "    \n",
    "    for i in classes.copy():\n",
    "        # Objects of the class\n",
    "        bol = data.Class == i\n",
    "        sel = data[bol]\n",
    "\n",
    "        # Limit the minimum number of light curves\n",
    "        if sel.shape[0] < min_L:\n",
    "            # Update the classes\n",
    "            classes.remove(i)\n",
    "            num_classes = len(classes)\n",
    "            # Skip the class\n",
    "            continue\n",
    "\n",
    "        # Return the min among the number of objects and max_L\n",
    "        num = min(max_L, sel.shape[0])\n",
    "        # Get a random sample\n",
    "        sel = sel.sample(num, replace=False, axis=0)\n",
    "        dfs.append(sel)\n",
    "    # Join the dataframes of each class together\n",
    "    data = pd.concat(dfs)\n",
    "    return data"
   ]
  },
  {
   "cell_type": "code",
   "execution_count": 6,
   "id": "0c06e4f1",
   "metadata": {
    "tags": []
   },
   "outputs": [],
   "source": [
    "df = sample_classes(df)"
   ]
  },
  {
   "cell_type": "code",
   "execution_count": 7,
   "id": "23f95ad9",
   "metadata": {
    "tags": []
   },
   "outputs": [
    {
     "data": {
      "text/plain": [
       "Counter({'RRAB': 1000,\n",
       "         'RRC': 1000,\n",
       "         'DSCT_SXPHE': 1000,\n",
       "         'MIRA_SR': 1000,\n",
       "         'T2CEP': 1000,\n",
       "         'CEP': 1000})"
      ]
     },
     "execution_count": 7,
     "metadata": {},
     "output_type": "execute_result"
    }
   ],
   "source": [
    "Counter(df.Class)"
   ]
  },
  {
   "cell_type": "markdown",
   "id": "ba3f207e",
   "metadata": {},
   "source": [
    "Create the folds, we will work with **5** folds. with this, the train split contains 80% of the total, and the test set contains 20%.\n",
    "\n",
    "From this train split, we take 12.5% to validate and the remaining 87.5% is used to train.\n",
    "\n",
    "From the total, the test set contains 20%, the trainning set contains 70% and the validation set, 10%."
   ]
  },
  {
   "cell_type": "code",
   "execution_count": 8,
   "id": "3f9d5e83",
   "metadata": {
    "tags": []
   },
   "outputs": [],
   "source": [
    "kfolds = StratifiedKFold(n_splits=3, shuffle=True, )"
   ]
  },
  {
   "cell_type": "code",
   "execution_count": 9,
   "id": "f84fd372",
   "metadata": {
    "tags": []
   },
   "outputs": [],
   "source": [
    "path_folds = './Folds'\n",
    "if not os.path.exists(path_folds):\n",
    "    os.mkdir(path_folds)\n",
    "# First split test\n",
    "df_temp, df_test = train_test_split(df, stratify=df.Class, train_size=0.8)\n",
    "df_temp.reset_index(inplace=True)\n",
    "df_test.reset_index(inplace=True)\n",
    "\n",
    "path_test = os.path.join(path_folds, 'test.csv')\n",
    "df_test.to_csv(path_test, index=False, index_label=False)\n",
    "\n",
    "for n, (train_index, val_index) in enumerate(kfolds.split(df_temp.index.values, df_temp.Class.values)):\n",
    "    # Get the train and validation splits\n",
    "    df_train = df_temp.loc[train_index]\n",
    "    df_val = df_temp.loc[val_index]\n",
    "\n",
    "\n",
    "    path_folds_ = os.path.join(path_folds, 'Fold_'+str(n+1))\n",
    "    if not os.path.exists(path_folds_):\n",
    "        os.mkdir(path_folds_)\n",
    "        \n",
    "    path_train = os.path.join(path_folds_, 'train.csv')\n",
    "\n",
    "    path_val = os.path.join(path_folds_, 'val.csv')\n",
    "    \n",
    "    df_train.to_csv(path_train, index=False, index_label=False)\n",
    "    df_val.to_csv(path_val, index=False, index_label=False)"
   ]
  },
  {
   "cell_type": "code",
   "execution_count": null,
   "id": "9d245d06-bfe4-46a7-848b-be965204f44f",
   "metadata": {},
   "outputs": [],
   "source": []
  }
 ],
 "metadata": {
  "kernelspec": {
   "display_name": "Python 3 (ipykernel)",
   "language": "python",
   "name": "python3"
  },
  "language_info": {
   "codemirror_mode": {
    "name": "ipython",
    "version": 3
   },
   "file_extension": ".py",
   "mimetype": "text/x-python",
   "name": "python",
   "nbconvert_exporter": "python",
   "pygments_lexer": "ipython3",
   "version": "3.8.10"
  }
 },
 "nbformat": 4,
 "nbformat_minor": 5
}
