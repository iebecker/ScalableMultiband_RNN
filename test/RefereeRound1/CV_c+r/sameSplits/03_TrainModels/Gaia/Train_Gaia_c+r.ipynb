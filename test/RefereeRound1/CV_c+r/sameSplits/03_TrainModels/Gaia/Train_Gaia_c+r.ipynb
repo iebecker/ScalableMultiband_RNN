{
 "cells": [
  {
   "cell_type": "code",
   "execution_count": 1,
   "metadata": {
    "ExecuteTime": {
     "end_time": "2023-07-08T01:32:34.287310408Z",
     "start_time": "2023-07-08T01:32:32.386835768Z"
    },
    "tags": []
   },
   "outputs": [
    {
     "name": "stderr",
     "output_type": "stream",
     "text": [
      "2024-12-06 20:11:18.981242: E external/local_xla/xla/stream_executor/cuda/cuda_dnn.cc:9261] Unable to register cuDNN factory: Attempting to register factory for plugin cuDNN when one has already been registered\n",
      "2024-12-06 20:11:18.981269: E external/local_xla/xla/stream_executor/cuda/cuda_fft.cc:607] Unable to register cuFFT factory: Attempting to register factory for plugin cuFFT when one has already been registered\n",
      "2024-12-06 20:11:18.982216: E external/local_xla/xla/stream_executor/cuda/cuda_blas.cc:1515] Unable to register cuBLAS factory: Attempting to register factory for plugin cuBLAS when one has already been registered\n",
      "2024-12-06 20:11:20.235070: W tensorflow/compiler/tf2tensorrt/utils/py_utils.cc:38] TF-TRT Warning: Could not find TensorRT\n"
     ]
    }
   ],
   "source": [
    "import sys\n",
    "import os\n",
    "from glob import glob\n",
    "\n",
    "import matplotlib.pyplot as plt\n",
    "import pandas as pd\n",
    "\n",
    "# Avoids warnings\n",
    "os.environ[\"TF_CPP_MIN_LOG_LEVEL\"] = \"1\"\n",
    "import tensorflow as tf\n",
    "\n",
    "import ScalableLib.classifier.Multiband as multiband"
   ]
  },
  {
   "cell_type": "markdown",
   "metadata": {},
   "source": [
    "the filtering of the times must be done in the spine, not in each band. Spit all the times then slect the best one. "
   ]
  },
  {
   "cell_type": "code",
   "execution_count": 2,
   "metadata": {
    "ExecuteTime": {
     "end_time": "2023-07-08T01:32:34.471127815Z",
     "start_time": "2023-07-08T01:32:34.465550468Z"
    },
    "tags": []
   },
   "outputs": [
    {
     "name": "stdout",
     "output_type": "stream",
     "text": [
      "Using NVIDIA GeForce RTX 2080 Ti\n"
     ]
    }
   ],
   "source": [
    "# To see if the system recognises the GPU\n",
    "device = 1\n",
    "devices = tf.config.experimental.list_physical_devices('GPU')\n",
    "tf.config.set_visible_devices(devices[device], 'GPU')\n",
    "tf.config.experimental.set_memory_growth(device=devices[device], enable=True)\n",
    "\n",
    "device_name = tf.config.experimental.get_device_details(devices[device])['device_name']\n",
    "print(\"Using {}\".format(device_name))"
   ]
  },
  {
   "cell_type": "markdown",
   "metadata": {},
   "source": [
    "Find the different folds and train a model using the stored data."
   ]
  },
  {
   "cell_type": "code",
   "execution_count": 3,
   "metadata": {
    "ExecuteTime": {
     "end_time": "2023-07-08T01:32:36.926759620Z",
     "start_time": "2023-07-08T01:32:36.905129214Z"
    },
    "tags": []
   },
   "outputs": [
    {
     "data": {
      "text/plain": [
       "['../../02_CreateRecords/Gaia/Folds/Fold_1',\n",
       " '../../02_CreateRecords/Gaia/Folds/Fold_2',\n",
       " '../../02_CreateRecords/Gaia/Folds/Fold_3',\n",
       " '../../02_CreateRecords/Gaia/Folds/Fold_4',\n",
       " '../../02_CreateRecords/Gaia/Folds/Fold_5',\n",
       " '../../02_CreateRecords/Gaia/Folds/Fold_6',\n",
       " '../../02_CreateRecords/Gaia/Folds/Fold_7']"
      ]
     },
     "execution_count": 3,
     "metadata": {},
     "output_type": "execute_result"
    }
   ],
   "source": [
    "survey = 'Gaia'\n",
    "path = os.path.join('../../02_CreateRecords/Gaia/Folds/*',)\n",
    "folds = glob(path)\n",
    "folds.sort()\n",
    "folds"
   ]
  },
  {
   "cell_type": "markdown",
   "metadata": {},
   "source": [
    "Create folder results"
   ]
  },
  {
   "cell_type": "code",
   "execution_count": 4,
   "metadata": {
    "ExecuteTime": {
     "end_time": "2023-07-08T01:32:37.992481880Z",
     "start_time": "2023-07-08T01:32:37.964422863Z"
    },
    "tags": []
   },
   "outputs": [],
   "source": [
    "if not os.path.exists('./Results'):\n",
    "    os.mkdir('./Results')\n"
   ]
  },
  {
   "cell_type": "markdown",
   "metadata": {},
   "source": [
    "Define the arguments for all the models."
   ]
  },
  {
   "cell_type": "code",
   "execution_count": 5,
   "metadata": {
    "ExecuteTime": {
     "end_time": "2023-07-08T01:33:04.701296983Z",
     "start_time": "2023-07-08T01:33:04.698261433Z"
    },
    "tags": []
   },
   "outputs": [],
   "source": [
    "train_args = {\n",
    "            'hidden_size_bands':[128, 128, 128],\n",
    "            'hidden_size_central':[128, 128],\n",
    "            'fc_layers_bands':[128,128,128],\n",
    "            'fc_layers_central':[128,128,128], # Neurons of each layer\n",
    "            'regression_size':[128, 128],#each element is a layer with that size.\n",
    "            'buffer_size':10000,\n",
    "            'epochs':1000,\n",
    "            'num_threads':7,\n",
    "            'batch_size':512,\n",
    "            # 'batch_size':1024,\n",
    "            'dropout':0.40,\n",
    "            'lr':[[1e-3]*2, 0.5e-3], # [[band1, band2], central]\n",
    "            'val_steps':50,\n",
    "            'max_to_keep':0, # Not Used \n",
    "            'steps_wait':500, \n",
    "            'use_class_weights':False,# Not Used\n",
    "            'mode' : 'classifier+regression',\n",
    "            }\n",
    "loss_weights = {'Class':300.0, 'T_eff':20.0,'Radius':1e0}\n",
    "# loss_weights = {'Class':300.0, 'T_eff':20.0,'Radius':1e0}\n",
    "\n",
    "callbacks_args = {'patience': 20,\n",
    "                  'mode':'max',\n",
    "                  'restore_best_weights':True,\n",
    "                  'min_delta': 0.001\n",
    "                 }\n",
    "train_args_specific={\n",
    "                    'phys_params': ['T_eff', 'Radius'],\n",
    "                    'use_output_bands' : True,  # Working\n",
    "                    'use_output_central' : False, # Not used\n",
    "                    'use_common_layers' : False, # NOT Working\n",
    "                    'bidirectional_central' : False,# Working\n",
    "                    'bidirectional_band' : False,# Not Working\n",
    "                    'layer_norm_params' : None, # Used to normalyze common layers\n",
    "                    'use_gated_common' : False, # Working\n",
    "                    'l1':0.0,\n",
    "                    'l2':0.0,   \n",
    "                    'N_skip' : 8, # Cannot be greater than the number of timesteps\n",
    "                    'use_raw_input_central': True,\n",
    "                    'train_steps_central' : 2,\n",
    "                    'print_report' : True,\n",
    "                    'loss_weights_central' : loss_weights,\n",
    "                    'callbacks_args':callbacks_args\n",
    "                    }\n",
    "\n"
   ]
  },
  {
   "cell_type": "code",
   "execution_count": null,
   "metadata": {
    "ExecuteTime": {
     "end_time": "2023-07-08T01:42:13.561081682Z",
     "start_time": "2023-07-08T01:40:37.720103872Z"
    },
    "tags": []
   },
   "outputs": [
    {
     "name": "stdout",
     "output_type": "stream",
     "text": [
      ".././Gaia/Results/Fold_1/Models/20241206-2011\n",
      "Start training\n"
     ]
    },
    {
     "name": "stderr",
     "output_type": "stream",
     "text": [
      "WARNING: All log messages before absl::InitializeLog() is called are written to STDERR\n",
      "I0000 00:00:1733533911.802729  450223 device_compiler.h:186] Compiled cluster using XLA!  This line is logged at most once for the lifetime of the process.\n"
     ]
    },
    {
     "name": "stdout",
     "output_type": "stream",
     "text": [
      "WARNING:tensorflow:5 out of the last 5 calls to <function _BaseOptimizer._update_step_xla at 0x7f3eb013d990> triggered tf.function retracing. Tracing is expensive and the excessive number of tracings could be due to (1) creating @tf.function repeatedly in a loop, (2) passing tensors with different shapes, (3) passing Python objects instead of tensors. For (1), please define your @tf.function outside of the loop. For (2), @tf.function has reduce_retracing=True option that can avoid unnecessary retracing. For (3), please refer to https://www.tensorflow.org/guide/function#controlling_retracing and https://www.tensorflow.org/api_docs/python/tf/function for  more details.\n",
      "WARNING:tensorflow:6 out of the last 6 calls to <function _BaseOptimizer._update_step_xla at 0x7f3eb013d990> triggered tf.function retracing. Tracing is expensive and the excessive number of tracings could be due to (1) creating @tf.function repeatedly in a loop, (2) passing tensors with different shapes, (3) passing Python objects instead of tensors. For (1), please define your @tf.function outside of the loop. For (2), @tf.function has reduce_retracing=True option that can avoid unnecessary retracing. For (3), please refer to https://www.tensorflow.org/guide/function#controlling_retracing and https://www.tensorflow.org/api_docs/python/tf/function for  more details.\n",
      "25/25 [==============================] - 4s 29ms/step - loss: 0.0991 - Class_loss: 0.0991 - Class_Acc: 0.7005 - Class_Top2: 0.8439\n",
      "25/25 [==============================] - 4s 25ms/step - loss: 0.1013 - Class_loss: 0.1013 - Class_Acc: 0.6527 - Class_Top2: 0.8249\n",
      "25/25 [==============================] - 13s 87ms/step - loss: 11571.1455 - Class_loss: 38.4501 - Pred_Radius_loss: 7.8401 - Pred_T_eff_loss: 1.4137 - Class_CentralAcc: 0.2226 - Class_CentralTop2: 0.5122 - Class_FinalAcc: 0.2216 - Class_FinalTop2: 0.5283 - Class_Final_FScore: 0.1127 - Pred_Radius_Masked_RMSE: 0.9910 - Pred_Radius_Masked_R2: 0.0446 - Pred_T_eff_Masked_RMSE: 0.9123 - Pred_T_eff_Masked_R2: 0.1639\n",
      "25/25 [==============================] - 1s 29ms/step - loss: 0.0734 - Class_loss: 0.0734 - Class_Acc: 0.7038 - Class_Top2: 0.8541\n",
      "25/25 [==============================] - 1s 24ms/step - loss: 0.0632 - Class_loss: 0.0632 - Class_Acc: 0.7112 - Class_Top2: 0.8658\n",
      "25/25 [==============================] - 2s 95ms/step - loss: 11756.0186 - Class_loss: 39.0662 - Pred_Radius_loss: 8.1892 - Pred_T_eff_loss: 1.3984 - Class_CentralAcc: 0.2129 - Class_CentralTop2: 0.5038 - Class_FinalAcc: 0.1996 - Class_FinalTop2: 0.5149 - Class_Final_FScore: 0.1027 - Pred_Radius_Masked_RMSE: 1.0114 - Pred_Radius_Masked_R2: 0.0049 - Pred_T_eff_Masked_RMSE: 0.9074 - Pred_T_eff_Masked_R2: 0.1727\n",
      "25/25 [==============================] - 1s 20ms/step - loss: 0.0578 - Class_loss: 0.0578 - Class_Acc: 0.7232 - Class_Top2: 0.8658\n",
      "25/25 [==============================] - 1s 19ms/step - loss: 0.0557 - Class_loss: 0.0557 - Class_Acc: 0.7427 - Class_Top2: 0.8832\n",
      "25/25 [==============================] - 2s 73ms/step - loss: 11764.4600 - Class_loss: 39.0936 - Pred_Radius_loss: 7.9798 - Pred_T_eff_loss: 1.4199 - Class_CentralAcc: 0.2000 - Class_CentralTop2: 0.4945 - Class_FinalAcc: 0.1742 - Class_FinalTop2: 0.4978 - Class_Final_FScore: 0.0935 - Pred_Radius_Masked_RMSE: 0.9988 - Pred_Radius_Masked_R2: 0.0295 - Pred_T_eff_Masked_RMSE: 0.9144 - Pred_T_eff_Masked_R2: 0.1599\n",
      "25/25 [==============================] - 1s 25ms/step - loss: 0.0561 - Class_loss: 0.0561 - Class_Acc: 0.7355 - Class_Top2: 0.8748\n",
      "25/25 [==============================] - 1s 22ms/step - loss: 0.0520 - Class_loss: 0.0520 - Class_Acc: 0.7520 - Class_Top2: 0.8899\n",
      "25/25 [==============================] - 2s 80ms/step - loss: 2782.6545 - Class_loss: 9.2315 - Pred_Radius_loss: 6.0918 - Pred_T_eff_loss: 0.3558 - Class_CentralAcc: 0.7219 - Class_CentralTop2: 0.8673 - Class_FinalAcc: 0.7301 - Class_FinalTop2: 0.8731 - Class_Final_FScore: 0.5694 - Pred_Radius_Masked_RMSE: 0.8739 - Pred_Radius_Masked_R2: 0.2570 - Pred_T_eff_Masked_RMSE: 0.4575 - Pred_T_eff_Masked_R2: 0.7897\n",
      "25/25 [==============================] - 1s 22ms/step - loss: 0.0550 - Class_loss: 0.0550 - Class_Acc: 0.7429 - Class_Top2: 0.8814\n",
      "25/25 [==============================] - 1s 19ms/step - loss: 0.0502 - Class_loss: 0.0502 - Class_Acc: 0.7565 - Class_Top2: 0.8928\n",
      "25/25 [==============================] - 2s 78ms/step - loss: 2409.4124 - Class_loss: 7.9939 - Pred_Radius_loss: 5.5654 - Pred_T_eff_loss: 0.2838 - Class_CentralAcc: 0.8346 - Class_CentralTop2: 0.9498 - Class_FinalAcc: 0.8495 - Class_FinalTop2: 0.9557 - Class_Final_FScore: 0.6499 - Pred_Radius_Masked_RMSE: 0.8345 - Pred_Radius_Masked_R2: 0.3226 - Pred_T_eff_Masked_RMSE: 0.4084 - Pred_T_eff_Masked_R2: 0.8324\n",
      "25/25 [==============================] - 1s 18ms/step - loss: 0.0511 - Class_loss: 0.0511 - Class_Acc: 0.7515 - Class_Top2: 0.8884\n",
      "25/25 [==============================] - 1s 18ms/step - loss: 0.0498 - Class_loss: 0.0498 - Class_Acc: 0.7606 - Class_Top2: 0.8966\n",
      "25/25 [==============================] - 2s 71ms/step - loss: 2305.1570 - Class_loss: 7.6462 - Pred_Radius_loss: 5.7079 - Pred_T_eff_loss: 0.2799 - Class_CentralAcc: 0.8461 - Class_CentralTop2: 0.9576 - Class_FinalAcc: 0.8623 - Class_FinalTop2: 0.9638 - Class_Final_FScore: 0.6741 - Pred_Radius_Masked_RMSE: 0.8445 - Pred_Radius_Masked_R2: 0.3062 - Pred_T_eff_Masked_RMSE: 0.4056 - Pred_T_eff_Masked_R2: 0.8347\n",
      "25/25 [==============================] - 1s 22ms/step - loss: 0.0493 - Class_loss: 0.0493 - Class_Acc: 0.7578 - Class_Top2: 0.8921\n",
      "25/25 [==============================] - 1s 21ms/step - loss: 0.0480 - Class_loss: 0.0480 - Class_Acc: 0.7630 - Class_Top2: 0.8991\n",
      "25/25 [==============================] - 2s 78ms/step - loss: 2194.6938 - Class_loss: 7.2805 - Pred_Radius_loss: 5.4312 - Pred_T_eff_loss: 0.2562 - Class_CentralAcc: 0.8549 - Class_CentralTop2: 0.9624 - Class_FinalAcc: 0.8712 - Class_FinalTop2: 0.9686 - Class_Final_FScore: 0.6909 - Pred_Radius_Masked_RMSE: 0.8220 - Pred_Radius_Masked_R2: 0.3427 - Pred_T_eff_Masked_RMSE: 0.3879 - Pred_T_eff_Masked_R2: 0.8488\n"
     ]
    }
   ],
   "source": [
    "for fold in folds:\n",
    "    tf.keras.backend.clear_session()\n",
    "    # Set the fold path\n",
    "    base_dir = fold+'/'\n",
    "    \n",
    "    # Set the save path for this fold. Create folder if needed\n",
    "    path_results_fold = fold.replace('../02_CreateRecords', '.').replace('/Folds/', '/Results/')\n",
    "\n",
    "    if not os.path.exists(path_results_fold):\n",
    "        os.mkdir(path_results_fold)    \n",
    "\n",
    "    train_args_specific['save_dir'] = path_results_fold\n",
    "    train_args_specific['metadata_pre_path'] = os.path.join(fold, 'metadata_preprocess.json')\n",
    "    train_args_specific['path_scalers'] =  os.path.join(fold,'scalers')\n",
    "    # Define the train args\n",
    "    train_args = {**train_args, **train_args_specific}\n",
    "\n",
    "    train_files = os.path.join(fold, 'train/*.tfrecord')\n",
    "    val_files = os.path.join(fold, 'val/*.tfrecord')\n",
    "    test_files = os.path.join(fold, 'test/*.tfrecord')\n",
    "    \n",
    "    new = multiband.Network()    \n",
    "    new.train(train_args, train_files, val_files, test_files)\n",
    "    new.train_loop()\n"
   ]
  },
  {
   "cell_type": "code",
   "execution_count": null,
   "metadata": {},
   "outputs": [],
   "source": [
    "import numpy as np\n",
    "# no target values are nan\n",
    "for batch in new.dataset_train:\n",
    "    val = np.isnan(batch[1]['Radius'].numpy()).sum()\n",
    "    if val >0:\n",
    "        print('Found NaN!')\n",
    "        break"
   ]
  },
  {
   "cell_type": "code",
   "execution_count": null,
   "metadata": {},
   "outputs": [],
   "source": [
    "# No predictions are nan\n",
    "for batch in new.dataset_train:\n",
    "    r_pred = new.model_central(batch[0])['Radius'].numpy()\n",
    "    val = np.isnan(r_pred).sum()\n",
    "    if val >0:\n",
    "        print('Found NaN!')\n",
    "        break"
   ]
  },
  {
   "cell_type": "markdown",
   "metadata": {},
   "source": [
    "Some batches are empty of Raiuds values"
   ]
  },
  {
   "cell_type": "code",
   "execution_count": null,
   "metadata": {},
   "outputs": [],
   "source": [
    "vals = []\n",
    "for batch in new.dataset_train:\n",
    "    val =batch[1]['Radius'].numpy()\n",
    "    val2 = np.sum(batch[1]['Radius']<-90)/val.shape[0]\n",
    "    vals.append(val2)\n",
    "    if val2 ==1:\n",
    "        print('Found NaN!')\n"
   ]
  },
  {
   "cell_type": "code",
   "execution_count": null,
   "metadata": {},
   "outputs": [],
   "source": [
    "np.sum(batch[1]['Radius']<-90)/val.shape[0]"
   ]
  },
  {
   "cell_type": "code",
   "execution_count": null,
   "metadata": {},
   "outputs": [],
   "source": [
    "new.model_central.compiled_loss.metrics"
   ]
  },
  {
   "cell_type": "code",
   "execution_count": null,
   "metadata": {},
   "outputs": [],
   "source": []
  }
 ],
 "metadata": {
  "kernelspec": {
   "display_name": "Python 3 (ipykernel)",
   "language": "python",
   "name": "python3"
  },
  "language_info": {
   "codemirror_mode": {
    "name": "ipython",
    "version": 3
   },
   "file_extension": ".py",
   "mimetype": "text/x-python",
   "name": "python",
   "nbconvert_exporter": "python",
   "pygments_lexer": "ipython3",
   "version": "3.10.12"
  }
 },
 "nbformat": 4,
 "nbformat_minor": 4
}
