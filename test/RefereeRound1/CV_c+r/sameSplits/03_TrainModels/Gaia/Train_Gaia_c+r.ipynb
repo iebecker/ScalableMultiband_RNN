{
 "cells": [
  {
   "cell_type": "code",
   "execution_count": 1,
   "metadata": {
    "ExecuteTime": {
     "end_time": "2023-07-08T01:32:34.287310408Z",
     "start_time": "2023-07-08T01:32:32.386835768Z"
    },
    "tags": []
   },
   "outputs": [
    {
     "name": "stderr",
     "output_type": "stream",
     "text": [
      "2024-08-30 13:07:12.255829: E external/local_xla/xla/stream_executor/cuda/cuda_dnn.cc:9261] Unable to register cuDNN factory: Attempting to register factory for plugin cuDNN when one has already been registered\n",
      "2024-08-30 13:07:12.255863: E external/local_xla/xla/stream_executor/cuda/cuda_fft.cc:607] Unable to register cuFFT factory: Attempting to register factory for plugin cuFFT when one has already been registered\n",
      "2024-08-30 13:07:12.256902: E external/local_xla/xla/stream_executor/cuda/cuda_blas.cc:1515] Unable to register cuBLAS factory: Attempting to register factory for plugin cuBLAS when one has already been registered\n",
      "2024-08-30 13:07:13.199715: W tensorflow/compiler/tf2tensorrt/utils/py_utils.cc:38] TF-TRT Warning: Could not find TensorRT\n"
     ]
    }
   ],
   "source": [
    "import sys\n",
    "import os\n",
    "from glob import glob\n",
    "\n",
    "import matplotlib.pyplot as plt\n",
    "import pandas as pd\n",
    "\n",
    "# Avoids warnings\n",
    "os.environ[\"TF_CPP_MIN_LOG_LEVEL\"] = \"1\"\n",
    "import tensorflow as tf\n",
    "\n",
    "import ScalableLib.classifier.Multiband as multiband"
   ]
  },
  {
   "cell_type": "markdown",
   "metadata": {},
   "source": [
    "the filtering of the times must be done in the spine, not in each band. Spit all the times then slect the best one. "
   ]
  },
  {
   "cell_type": "code",
   "execution_count": 2,
   "metadata": {
    "ExecuteTime": {
     "end_time": "2023-07-08T01:32:34.471127815Z",
     "start_time": "2023-07-08T01:32:34.465550468Z"
    },
    "tags": []
   },
   "outputs": [
    {
     "name": "stdout",
     "output_type": "stream",
     "text": [
      "Using NVIDIA GeForce RTX 2080 Ti\n"
     ]
    }
   ],
   "source": [
    "# To see if the system recognises the GPU\n",
    "device = 1\n",
    "devices = tf.config.experimental.list_physical_devices('GPU')\n",
    "tf.config.set_visible_devices(devices[device], 'GPU')\n",
    "tf.config.experimental.set_memory_growth(device=devices[device], enable=True)\n",
    "\n",
    "device_name = tf.config.experimental.get_device_details(devices[device])['device_name']\n",
    "print(\"Using {}\".format(device_name))"
   ]
  },
  {
   "cell_type": "markdown",
   "metadata": {},
   "source": [
    "Find the different folds and train a model using the stored data."
   ]
  },
  {
   "cell_type": "code",
   "execution_count": 3,
   "metadata": {
    "ExecuteTime": {
     "end_time": "2023-07-08T01:32:36.926759620Z",
     "start_time": "2023-07-08T01:32:36.905129214Z"
    },
    "tags": []
   },
   "outputs": [
    {
     "data": {
      "text/plain": [
       "['../../02_CreateRecords/Gaia/Folds/Fold_1',\n",
       " '../../02_CreateRecords/Gaia/Folds/Fold_2',\n",
       " '../../02_CreateRecords/Gaia/Folds/Fold_3',\n",
       " '../../02_CreateRecords/Gaia/Folds/Fold_4',\n",
       " '../../02_CreateRecords/Gaia/Folds/Fold_5',\n",
       " '../../02_CreateRecords/Gaia/Folds/Fold_6',\n",
       " '../../02_CreateRecords/Gaia/Folds/Fold_7']"
      ]
     },
     "execution_count": 3,
     "metadata": {},
     "output_type": "execute_result"
    }
   ],
   "source": [
    "survey = 'Gaia'\n",
    "path = os.path.join('../../02_CreateRecords/Gaia/Folds/*',)\n",
    "folds = glob(path)\n",
    "folds.sort()\n",
    "folds"
   ]
  },
  {
   "cell_type": "markdown",
   "metadata": {},
   "source": [
    "Create folder results"
   ]
  },
  {
   "cell_type": "code",
   "execution_count": 4,
   "metadata": {
    "ExecuteTime": {
     "end_time": "2023-07-08T01:32:37.992481880Z",
     "start_time": "2023-07-08T01:32:37.964422863Z"
    },
    "tags": []
   },
   "outputs": [],
   "source": [
    "if not os.path.exists('./Results'):\n",
    "    os.mkdir('./Results')\n"
   ]
  },
  {
   "cell_type": "markdown",
   "metadata": {},
   "source": [
    "Define the arguments for all the models."
   ]
  },
  {
   "cell_type": "code",
   "execution_count": 5,
   "metadata": {
    "ExecuteTime": {
     "end_time": "2023-07-08T01:33:04.701296983Z",
     "start_time": "2023-07-08T01:33:04.698261433Z"
    },
    "tags": []
   },
   "outputs": [],
   "source": [
    "train_args = {\n",
    "            'hidden_size_bands':[128, 128, 128],\n",
    "            'hidden_size_central':[128, 128],\n",
    "            'fc_layers_bands':[128,128,128],\n",
    "            'fc_layers_central':[128,128,128], # Neurons of each layer\n",
    "            'regression_size':[128, 128],#each element is a layer with that size.\n",
    "            'buffer_size':10000,\n",
    "            'epochs':1000,\n",
    "            'num_threads':7,\n",
    "            'batch_size':512,\n",
    "            # 'batch_size':1024,\n",
    "            'dropout':0.40,\n",
    "            'lr':[[1e-3]*2, 0.5e-3], # [[band1, band2], central]\n",
    "            'val_steps':50,\n",
    "            'max_to_keep':0, # Not Used \n",
    "            'steps_wait':500, \n",
    "            'use_class_weights':False,# Not Used\n",
    "            'mode' : 'classifier+regression',\n",
    "            }\n",
    "loss_weights = {'Class':300.0, 'T_eff':1.0,'Radius':1e0}\n",
    "# loss_weights = {'Class':300.0, 'T_eff':20.0,'Radius':1e0}\n",
    "\n",
    "callbacks_args = {'patience': 20,\n",
    "                  'mode':'max',\n",
    "                  'restore_best_weights':True,\n",
    "                  'min_delta': 0.001\n",
    "                 }\n",
    "train_args_specific={\n",
    "                    'phys_params': ['T_eff', 'Radius'],\n",
    "                    'use_output_bands' : True,  # Working\n",
    "                    'use_output_central' : False, # Not used\n",
    "                    'use_common_layers' : False, # NOT Working\n",
    "                    'bidirectional_central' : False,# Working\n",
    "                    'bidirectional_band' : False,# Not Working\n",
    "                    'layer_norm_params' : None, # Used to normalyze common layers\n",
    "                    'use_gated_common' : False, # Working\n",
    "                    'l1':0.0,\n",
    "                    'l2':0.0,   \n",
    "                    'N_skip' : 8, # Cannot be greater than the number of timesteps\n",
    "                    'use_raw_input_central': True,\n",
    "                    'train_steps_central' : 2,\n",
    "                    'print_report' : True,\n",
    "                    'loss_weights_central' : loss_weights,\n",
    "                    'callbacks_args':callbacks_args\n",
    "                    }\n",
    "\n"
   ]
  },
  {
   "cell_type": "code",
   "execution_count": null,
   "metadata": {
    "ExecuteTime": {
     "end_time": "2023-07-08T01:42:13.561081682Z",
     "start_time": "2023-07-08T01:40:37.720103872Z"
    },
    "tags": []
   },
   "outputs": [
    {
     "name": "stdout",
     "output_type": "stream",
     "text": [
      ".././Gaia/Results/Fold_1/Models/20240830-1307\n",
      "Start training\n"
     ]
    },
    {
     "name": "stderr",
     "output_type": "stream",
     "text": [
      "WARNING: All log messages before absl::InitializeLog() is called are written to STDERR\n",
      "I0000 00:00:1725037652.118987   19146 device_compiler.h:186] Compiled cluster using XLA!  This line is logged at most once for the lifetime of the process.\n"
     ]
    },
    {
     "name": "stdout",
     "output_type": "stream",
     "text": [
      "WARNING:tensorflow:5 out of the last 5 calls to <function _BaseOptimizer._update_step_xla at 0x7fe6685b5f30> triggered tf.function retracing. Tracing is expensive and the excessive number of tracings could be due to (1) creating @tf.function repeatedly in a loop, (2) passing tensors with different shapes, (3) passing Python objects instead of tensors. For (1), please define your @tf.function outside of the loop. For (2), @tf.function has reduce_retracing=True option that can avoid unnecessary retracing. For (3), please refer to https://www.tensorflow.org/guide/function#controlling_retracing and https://www.tensorflow.org/api_docs/python/tf/function for  more details.\n",
      "WARNING:tensorflow:6 out of the last 6 calls to <function _BaseOptimizer._update_step_xla at 0x7fe6685b5f30> triggered tf.function retracing. Tracing is expensive and the excessive number of tracings could be due to (1) creating @tf.function repeatedly in a loop, (2) passing tensors with different shapes, (3) passing Python objects instead of tensors. For (1), please define your @tf.function outside of the loop. For (2), @tf.function has reduce_retracing=True option that can avoid unnecessary retracing. For (3), please refer to https://www.tensorflow.org/guide/function#controlling_retracing and https://www.tensorflow.org/api_docs/python/tf/function for  more details.\n",
      "25/25 [==============================] - 4s 22ms/step - loss: 0.1006 - Class_loss: 0.1006 - Class_Acc: 0.6584 - Class_Top2: 0.8232\n",
      "25/25 [==============================] - 4s 21ms/step - loss: 0.0956 - Class_loss: 0.0956 - Class_Acc: 0.7121 - Class_Top2: 0.8672\n",
      "25/25 [==============================] - 12s 80ms/step - loss: 11147.0234 - Class_loss: 36.9586 - Pred_Radius_loss: 54.5715 - Pred_T_eff_loss: 4.8765 - Class_CentralAcc: 0.3708 - Class_CentralTop2: 0.5830 - Class_FinalAcc: 0.4375 - Class_FinalTop2: 0.6431 - Class_Final_FScore: 0.2494 - Pred_Radius_Masked_RMSE: 2.5830 - Pred_Radius_Masked_R2: -1.2769 - Pred_T_eff_Masked_RMSE: 1.6915 - Pred_T_eff_Masked_R2: -15.1737\n",
      "25/25 [==============================] - 1s 20ms/step - loss: 0.0759 - Class_loss: 0.0759 - Class_Acc: 0.6923 - Class_Top2: 0.8481\n",
      "25/25 [==============================] - 1s 19ms/step - loss: 0.0718 - Class_loss: 0.0718 - Class_Acc: 0.7250 - Class_Top2: 0.8711\n",
      "25/25 [==============================] - 2s 72ms/step - loss: 11295.7568 - Class_loss: 37.4510 - Pred_Radius_loss: 55.3026 - Pred_T_eff_loss: 5.1582 - Class_CentralAcc: 0.3288 - Class_CentralTop2: 0.5451 - Class_FinalAcc: 0.3954 - Class_FinalTop2: 0.6047 - Class_Final_FScore: 0.2412 - Pred_Radius_Masked_RMSE: 2.6017 - Pred_Radius_Masked_R2: -1.3101 - Pred_T_eff_Masked_RMSE: 1.7397 - Pred_T_eff_Masked_R2: -16.1084\n",
      "25/25 [==============================] - 1s 19ms/step - loss: 0.0596 - Class_loss: 0.0596 - Class_Acc: 0.7216 - Class_Top2: 0.8637\n",
      "25/25 [==============================] - 1s 19ms/step - loss: 0.0564 - Class_loss: 0.0564 - Class_Acc: 0.7397 - Class_Top2: 0.8795\n",
      "25/25 [==============================] - 2s 72ms/step - loss: 11284.7031 - Class_loss: 37.4104 - Pred_Radius_loss: 56.4034 - Pred_T_eff_loss: 5.1787 - Class_CentralAcc: 0.3189 - Class_CentralTop2: 0.5377 - Class_FinalAcc: 0.3839 - Class_FinalTop2: 0.6007 - Class_Final_FScore: 0.2318 - Pred_Radius_Masked_RMSE: 2.6266 - Pred_Radius_Masked_R2: -1.3545 - Pred_T_eff_Masked_RMSE: 1.7432 - Pred_T_eff_Masked_R2: -16.1773\n",
      "25/25 [==============================] - 1s 19ms/step - loss: 0.0563 - Class_loss: 0.0563 - Class_Acc: 0.7361 - Class_Top2: 0.8767\n",
      "25/25 [==============================] - 1s 20ms/step - loss: 0.0534 - Class_loss: 0.0534 - Class_Acc: 0.7517 - Class_Top2: 0.8888\n",
      "25/25 [==============================] - 2s 75ms/step - loss: 2757.5366 - Class_loss: 9.1335 - Pred_Radius_loss: 17.3930 - Pred_T_eff_loss: 0.1079 - Class_CentralAcc: 0.7401 - Class_CentralTop2: 0.8740 - Class_FinalAcc: 0.7638 - Class_FinalTop2: 0.8891 - Class_Final_FScore: 0.5948 - Pred_Radius_Masked_RMSE: 1.4659 - Pred_Radius_Masked_R2: 0.2667 - Pred_T_eff_Masked_RMSE: 0.2521 - Pred_T_eff_Masked_R2: 0.6407\n"
     ]
    }
   ],
   "source": [
    "for fold in folds:\n",
    "    tf.keras.backend.clear_session()\n",
    "    # Set the fold path\n",
    "    base_dir = fold+'/'\n",
    "    \n",
    "    # Set the save path for this fold. Create folder if needed\n",
    "    path_results_fold = fold.replace('../02_CreateRecords', '.').replace('/Folds/', '/Results/')\n",
    "\n",
    "    if not os.path.exists(path_results_fold):\n",
    "        os.mkdir(path_results_fold)    \n",
    "\n",
    "    train_args_specific['save_dir'] = path_results_fold\n",
    "    train_args_specific['metadata_pre_path'] = os.path.join(fold, 'metadata_preprocess.json')\n",
    "    train_args_specific['path_scalers'] =  os.path.join(fold,'scalers')\n",
    "    # Define the train args\n",
    "    train_args = {**train_args, **train_args_specific}\n",
    "\n",
    "    train_files = os.path.join(fold, 'train/*.tfrecord')\n",
    "    val_files = os.path.join(fold, 'val/*.tfrecord')\n",
    "    test_files = os.path.join(fold, 'test/*.tfrecord')\n",
    "    \n",
    "    new = multiband.Network()    \n",
    "    new.train(train_args, train_files, val_files, test_files)\n",
    "    new.train_loop()\n"
   ]
  },
  {
   "cell_type": "code",
   "execution_count": null,
   "metadata": {},
   "outputs": [],
   "source": []
  }
 ],
 "metadata": {
  "kernelspec": {
   "display_name": "Python 3 (ipykernel)",
   "language": "python",
   "name": "python3"
  },
  "language_info": {
   "codemirror_mode": {
    "name": "ipython",
    "version": 3
   },
   "file_extension": ".py",
   "mimetype": "text/x-python",
   "name": "python",
   "nbconvert_exporter": "python",
   "pygments_lexer": "ipython3",
   "version": "3.10.12"
  }
 },
 "nbformat": 4,
 "nbformat_minor": 4
}
