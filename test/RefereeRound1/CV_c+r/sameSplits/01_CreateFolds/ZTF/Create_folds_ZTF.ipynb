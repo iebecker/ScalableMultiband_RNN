{
 "cells": [
  {
   "cell_type": "code",
   "execution_count": 1,
   "id": "82dd7192",
   "metadata": {
    "tags": []
   },
   "outputs": [],
   "source": [
    "import os\n",
    "from glob import glob\n",
    "from collections import Counter\n",
    "\n",
    "import pandas as pd\n",
    "import numpy as np"
   ]
  },
  {
   "cell_type": "code",
   "execution_count": 2,
   "id": "cf32ce5c",
   "metadata": {
    "tags": []
   },
   "outputs": [],
   "source": [
    "survey = 'ZTF'"
   ]
  },
  {
   "cell_type": "markdown",
   "id": "58b4cda0",
   "metadata": {},
   "source": [
    "Read the data"
   ]
  },
  {
   "cell_type": "code",
   "execution_count": 3,
   "id": "2a8af742",
   "metadata": {
    "tags": []
   },
   "outputs": [
    {
     "data": {
      "text/html": [
       "<div>\n",
       "<style scoped>\n",
       "    .dataframe tbody tr th:only-of-type {\n",
       "        vertical-align: middle;\n",
       "    }\n",
       "\n",
       "    .dataframe tbody tr th {\n",
       "        vertical-align: top;\n",
       "    }\n",
       "\n",
       "    .dataframe thead th {\n",
       "        text-align: right;\n",
       "    }\n",
       "</style>\n",
       "<table border=\"1\" class=\"dataframe\">\n",
       "  <thead>\n",
       "    <tr style=\"text-align: right;\">\n",
       "      <th></th>\n",
       "      <th>T_eff</th>\n",
       "      <th>Radius</th>\n",
       "      <th>N_1</th>\n",
       "      <th>N_2</th>\n",
       "      <th>Path</th>\n",
       "      <th>Class</th>\n",
       "      <th>N</th>\n",
       "    </tr>\n",
       "    <tr>\n",
       "      <th>ID</th>\n",
       "      <th></th>\n",
       "      <th></th>\n",
       "      <th></th>\n",
       "      <th></th>\n",
       "      <th></th>\n",
       "      <th></th>\n",
       "      <th></th>\n",
       "    </tr>\n",
       "  </thead>\n",
       "  <tbody>\n",
       "    <tr>\n",
       "      <th>ZTF17aaaaasi</th>\n",
       "      <td>-1.0</td>\n",
       "      <td>-1.0</td>\n",
       "      <td>386.0</td>\n",
       "      <td>291.0</td>\n",
       "      <td>/home/iebecker/Desktop/iebecker_stuff/Disks/Da...</td>\n",
       "      <td>LPV</td>\n",
       "      <td>677.0</td>\n",
       "    </tr>\n",
       "    <tr>\n",
       "      <th>ZTF17aaaaasx</th>\n",
       "      <td>-1.0</td>\n",
       "      <td>-1.0</td>\n",
       "      <td>132.0</td>\n",
       "      <td>52.0</td>\n",
       "      <td>/home/iebecker/Desktop/iebecker_stuff/Disks/Da...</td>\n",
       "      <td>LPV</td>\n",
       "      <td>184.0</td>\n",
       "    </tr>\n",
       "    <tr>\n",
       "      <th>ZTF17aaaaatf</th>\n",
       "      <td>-1.0</td>\n",
       "      <td>-1.0</td>\n",
       "      <td>219.0</td>\n",
       "      <td>156.0</td>\n",
       "      <td>/home/iebecker/Desktop/iebecker_stuff/Disks/Da...</td>\n",
       "      <td>LPV</td>\n",
       "      <td>375.0</td>\n",
       "    </tr>\n",
       "    <tr>\n",
       "      <th>ZTF17aaaadmx</th>\n",
       "      <td>-1.0</td>\n",
       "      <td>-1.0</td>\n",
       "      <td>488.0</td>\n",
       "      <td>356.0</td>\n",
       "      <td>/home/iebecker/Desktop/iebecker_stuff/Disks/Da...</td>\n",
       "      <td>LPV</td>\n",
       "      <td>844.0</td>\n",
       "    </tr>\n",
       "    <tr>\n",
       "      <th>ZTF17aaaaeal</th>\n",
       "      <td>-1.0</td>\n",
       "      <td>-1.0</td>\n",
       "      <td>334.0</td>\n",
       "      <td>204.0</td>\n",
       "      <td>/home/iebecker/Desktop/iebecker_stuff/Disks/Da...</td>\n",
       "      <td>LPV</td>\n",
       "      <td>538.0</td>\n",
       "    </tr>\n",
       "  </tbody>\n",
       "</table>\n",
       "</div>"
      ],
      "text/plain": [
       "              T_eff  Radius    N_1    N_2  \\\n",
       "ID                                          \n",
       "ZTF17aaaaasi   -1.0    -1.0  386.0  291.0   \n",
       "ZTF17aaaaasx   -1.0    -1.0  132.0   52.0   \n",
       "ZTF17aaaaatf   -1.0    -1.0  219.0  156.0   \n",
       "ZTF17aaaadmx   -1.0    -1.0  488.0  356.0   \n",
       "ZTF17aaaaeal   -1.0    -1.0  334.0  204.0   \n",
       "\n",
       "                                                           Path Class      N  \n",
       "ID                                                                            \n",
       "ZTF17aaaaasi  /home/iebecker/Desktop/iebecker_stuff/Disks/Da...   LPV  677.0  \n",
       "ZTF17aaaaasx  /home/iebecker/Desktop/iebecker_stuff/Disks/Da...   LPV  184.0  \n",
       "ZTF17aaaaatf  /home/iebecker/Desktop/iebecker_stuff/Disks/Da...   LPV  375.0  \n",
       "ZTF17aaaadmx  /home/iebecker/Desktop/iebecker_stuff/Disks/Da...   LPV  844.0  \n",
       "ZTF17aaaaeal  /home/iebecker/Desktop/iebecker_stuff/Disks/Da...   LPV  538.0  "
      ]
     },
     "execution_count": 3,
     "metadata": {},
     "output_type": "execute_result"
    }
   ],
   "source": [
    "path = '/home/iebecker/Desktop/iebecker_stuff/Work/ProcessZTF/notebooks/data/metadata_ztf.csv'\n",
    "df = pd.read_csv(path).set_index('ID').rename({'teff':'T_eff', 'radius':'Radius'}, axis=1)\n",
    "df.head()"
   ]
  },
  {
   "cell_type": "markdown",
   "id": "47a1063d-b690-4d46-b48c-f6a1e93824c6",
   "metadata": {},
   "source": [
    "Read the classification folds"
   ]
  },
  {
   "cell_type": "code",
   "execution_count": 4,
   "id": "533c0afe-6ccc-4562-9ba4-f0bd43ff3d8d",
   "metadata": {},
   "outputs": [
    {
     "data": {
      "text/plain": [
       "['../../../../CV_c/01_CreateFolds/ZTF/Folds/Fold_1',\n",
       " '../../../../CV_c/01_CreateFolds/ZTF/Folds/Fold_2',\n",
       " '../../../../CV_c/01_CreateFolds/ZTF/Folds/Fold_3',\n",
       " '../../../../CV_c/01_CreateFolds/ZTF/Folds/Fold_4',\n",
       " '../../../../CV_c/01_CreateFolds/ZTF/Folds/Fold_5',\n",
       " '../../../../CV_c/01_CreateFolds/ZTF/Folds/Fold_6',\n",
       " '../../../../CV_c/01_CreateFolds/ZTF/Folds/Fold_7']"
      ]
     },
     "execution_count": 4,
     "metadata": {},
     "output_type": "execute_result"
    }
   ],
   "source": [
    "folds = glob('../../../../CV_c/01_CreateFolds/{}/Folds/*'.format(survey))\n",
    "folds.sort()\n",
    "test_path = folds[-1]\n",
    "folds = folds[:-1]\n",
    "folds"
   ]
  },
  {
   "cell_type": "code",
   "execution_count": 5,
   "id": "ed31b259-3d2c-459e-b6b3-69de42bb6047",
   "metadata": {},
   "outputs": [],
   "source": [
    "path_folds = './Folds'\n",
    "if not os.path.exists(path_folds):\n",
    "    os.mkdir(path_folds)\n",
    "\n",
    "new_root = '/home/iebecker/Desktop/iebecker_stuff/Disks/'\n",
    "test = pd.read_csv(test_path,usecols=['ID']).set_index('ID')\n",
    "df_test = pd.merge(test, df,left_index=True, right_index=True).reset_index()\n",
    "# df_test.Path = df_test.Path.str.replace(\"/home/\",new_root ) # Fix path to work here\n",
    "\n",
    "path_test = os.path.join(path_folds, 'test.csv')\n",
    "df_test.to_csv(path_test, index=False, index_label=False)\n",
    "\n",
    "for n,fold in enumerate(folds):\n",
    "    # Read classifier folds\n",
    "    train = pd.read_csv(os.path.join(fold, 'train.csv'), usecols=['ID']).set_index('ID')\n",
    "    val = pd.read_csv(os.path.join(fold, 'val.csv'), usecols=['ID']).set_index('ID')\n",
    "\n",
    "    # Join with new physical params\n",
    "    df_train = pd.merge(train, df,left_index=True, right_index=True).reset_index()\n",
    "    df_val = pd.merge(val, df,left_index=True, right_index=True).reset_index()\n",
    "    # df_train.Path = df_train.Path.str.replace(\"/home/\",new_root )\n",
    "    # df_val.Path = df_val.Path.str.replace(\"/home/\",new_root )\n",
    "\n",
    "    \n",
    "    path_folds_ = os.path.join(path_folds, 'Fold_'+str(n+1))\n",
    "    if not os.path.exists(path_folds_):\n",
    "        os.mkdir(path_folds_)\n",
    "        \n",
    "    path_train = os.path.join(path_folds_, 'train.csv')\n",
    "    path_val = os.path.join(path_folds_, 'val.csv')\n",
    "    \n",
    "    df_train.to_csv(path_train, index=False, index_label=False)\n",
    "    df_val.to_csv(path_val, index=False, index_label=False)"
   ]
  },
  {
   "cell_type": "code",
   "execution_count": null,
   "id": "df6915b3-0c92-46b8-8664-d988655cb5e0",
   "metadata": {},
   "outputs": [],
   "source": []
  }
 ],
 "metadata": {
  "kernelspec": {
   "display_name": "Python 3 (ipykernel)",
   "language": "python",
   "name": "python3"
  },
  "language_info": {
   "codemirror_mode": {
    "name": "ipython",
    "version": 3
   },
   "file_extension": ".py",
   "mimetype": "text/x-python",
   "name": "python",
   "nbconvert_exporter": "python",
   "pygments_lexer": "ipython3",
   "version": "3.10.12"
  }
 },
 "nbformat": 4,
 "nbformat_minor": 5
}
