{
 "cells": [
  {
   "cell_type": "code",
   "execution_count": 1,
   "metadata": {},
   "outputs": [
    {
     "name": "stderr",
     "output_type": "stream",
     "text": [
      "2024-08-30 12:18:47.959400: E external/local_xla/xla/stream_executor/cuda/cuda_dnn.cc:9261] Unable to register cuDNN factory: Attempting to register factory for plugin cuDNN when one has already been registered\n",
      "2024-08-30 12:18:47.959456: E external/local_xla/xla/stream_executor/cuda/cuda_fft.cc:607] Unable to register cuFFT factory: Attempting to register factory for plugin cuFFT when one has already been registered\n",
      "2024-08-30 12:18:47.960974: E external/local_xla/xla/stream_executor/cuda/cuda_blas.cc:1515] Unable to register cuBLAS factory: Attempting to register factory for plugin cuBLAS when one has already been registered\n",
      "2024-08-30 12:18:47.975145: I tensorflow/core/platform/cpu_feature_guard.cc:182] This TensorFlow binary is optimized to use available CPU instructions in performance-critical operations.\n",
      "To enable the following instructions: AVX2 FMA, in other operations, rebuild TensorFlow with the appropriate compiler flags.\n",
      "2024-08-30 12:18:49.607878: W tensorflow/compiler/tf2tensorrt/utils/py_utils.cc:38] TF-TRT Warning: Could not find TensorRT\n"
     ]
    }
   ],
   "source": [
    "import pandas as pd\n",
    "import sys, os, json\n",
    "\n",
    "from glob import glob\n",
    "import ScalableLib.base.Load_Process as Load_Process"
   ]
  },
  {
   "cell_type": "markdown",
   "metadata": {},
   "source": [
    "Get the different fold files. Tran-val and test sets."
   ]
  },
  {
   "cell_type": "code",
   "execution_count": 2,
   "metadata": {},
   "outputs": [],
   "source": [
    "survey = 'ZTF'"
   ]
  },
  {
   "cell_type": "code",
   "execution_count": 3,
   "metadata": {},
   "outputs": [
    {
     "data": {
      "text/plain": [
       "['../../01_CreateFolds/ZTF/Folds/Fold_1',\n",
       " '../../01_CreateFolds/ZTF/Folds/Fold_2',\n",
       " '../../01_CreateFolds/ZTF/Folds/Fold_3',\n",
       " '../../01_CreateFolds/ZTF/Folds/Fold_4',\n",
       " '../../01_CreateFolds/ZTF/Folds/Fold_5',\n",
       " '../../01_CreateFolds/ZTF/Folds/Fold_6',\n",
       " '../../01_CreateFolds/ZTF/Folds/Fold_7']"
      ]
     },
     "execution_count": 3,
     "metadata": {},
     "output_type": "execute_result"
    }
   ],
   "source": [
    "\n",
    "path_folds = os.path.join('../../01_CreateFolds/{}/Folds/*'.format(survey))\n",
    "\n",
    "# Get the folder paths\n",
    "folds = glob(path_folds)\n",
    "# Get the test file path\n",
    "test_path = [i for i in folds if 'test' in i][0]\n",
    "# Remove the test path from the list\n",
    "folds.remove(test_path)\n",
    "# Sort to work from the first fold onwards\n",
    "folds.sort()\n",
    "folds"
   ]
  },
  {
   "cell_type": "markdown",
   "metadata": {},
   "source": [
    "For each fold, process the information and store it.\n",
    "\n",
    "The **P** object is defined with its keyword arguments. \n",
    "\n",
    "Then the kwargs are defined to be used as inputs of the prepare method."
   ]
  },
  {
   "cell_type": "code",
   "execution_count": 4,
   "metadata": {},
   "outputs": [],
   "source": [
    "kwargs1={\n",
    "'max_l' : 10000,\n",
    "'min_l' : 500,\n",
    "'min_n': 9,\n",
    "'max_n' : 600,\n",
    "'w' : 2,\n",
    "'s':1,\n",
    "'njobs':7,\n",
    "'n_bands':2,\n",
    "}\n",
    "\n",
    "P = Load_Process.prepData(**kwargs1)"
   ]
  },
  {
   "cell_type": "code",
   "execution_count": 5,
   "metadata": {},
   "outputs": [],
   "source": [
    "kwargs2={\n",
    "    'dataset_header': ['ID', 'Path', 'Class', 'N', 'N_1', 'N_2'],\n",
    "    'lc_parameters': {'sep':',', 'header':0, 'na_filter':True, 'engine':'c'},\n",
    "    'params_phys': ['T_eff','Radius' ], \n",
    "    'params_phys_est': [],\n",
    "}\n"
   ]
  },
  {
   "cell_type": "code",
   "execution_count": 6,
   "metadata": {},
   "outputs": [
    {
     "name": "stdout",
     "output_type": "stream",
     "text": [
      "../../01_CreateFolds/ZTF/Folds/Fold_1/train.csv\n",
      "../../01_CreateFolds/ZTF/Folds/Fold_1/val.csv\n",
      "../../01_CreateFolds/ZTF/Folds/test.csv\n",
      "./Folds/Fold_1/\n"
     ]
    },
    {
     "name": "stderr",
     "output_type": "stream",
     "text": [
      "  0%|                                         | 7/30778 [00:00<13:40, 37.50it/s]2024-08-30 12:18:53.395047: E external/local_xla/xla/stream_executor/cuda/cuda_dnn.cc:9261] Unable to register cuDNN factory: Attempting to register factory for plugin cuDNN when one has already been registered\n",
      "2024-08-30 12:18:53.395088: E external/local_xla/xla/stream_executor/cuda/cuda_fft.cc:607] Unable to register cuFFT factory: Attempting to register factory for plugin cuFFT when one has already been registered\n",
      "2024-08-30 12:18:53.396544: E external/local_xla/xla/stream_executor/cuda/cuda_blas.cc:1515] Unable to register cuBLAS factory: Attempting to register factory for plugin cuBLAS when one has already been registered\n",
      "2024-08-30 12:18:53.423354: I tensorflow/core/platform/cpu_feature_guard.cc:182] This TensorFlow binary is optimized to use available CPU instructions in performance-critical operations.\n",
      "To enable the following instructions: AVX2 FMA, in other operations, rebuild TensorFlow with the appropriate compiler flags.\n",
      "2024-08-30 12:18:53.703446: E external/local_xla/xla/stream_executor/cuda/cuda_dnn.cc:9261] Unable to register cuDNN factory: Attempting to register factory for plugin cuDNN when one has already been registered\n",
      "2024-08-30 12:18:53.703621: E external/local_xla/xla/stream_executor/cuda/cuda_fft.cc:607] Unable to register cuFFT factory: Attempting to register factory for plugin cuFFT when one has already been registered\n",
      "2024-08-30 12:18:53.705179: E external/local_xla/xla/stream_executor/cuda/cuda_blas.cc:1515] Unable to register cuBLAS factory: Attempting to register factory for plugin cuBLAS when one has already been registered\n",
      "2024-08-30 12:18:53.714173: I tensorflow/core/platform/cpu_feature_guard.cc:182] This TensorFlow binary is optimized to use available CPU instructions in performance-critical operations.\n",
      "To enable the following instructions: AVX2 FMA, in other operations, rebuild TensorFlow with the appropriate compiler flags.\n",
      "2024-08-30 12:18:53.804149: E external/local_xla/xla/stream_executor/cuda/cuda_dnn.cc:9261] Unable to register cuDNN factory: Attempting to register factory for plugin cuDNN when one has already been registered\n",
      "2024-08-30 12:18:53.804189: E external/local_xla/xla/stream_executor/cuda/cuda_fft.cc:607] Unable to register cuFFT factory: Attempting to register factory for plugin cuFFT when one has already been registered\n",
      "2024-08-30 12:18:53.805649: E external/local_xla/xla/stream_executor/cuda/cuda_blas.cc:1515] Unable to register cuBLAS factory: Attempting to register factory for plugin cuBLAS when one has already been registered\n",
      "2024-08-30 12:18:53.820057: I tensorflow/core/platform/cpu_feature_guard.cc:182] This TensorFlow binary is optimized to use available CPU instructions in performance-critical operations.\n",
      "To enable the following instructions: AVX2 FMA, in other operations, rebuild TensorFlow with the appropriate compiler flags.\n",
      "2024-08-30 12:18:53.854823: E external/local_xla/xla/stream_executor/cuda/cuda_dnn.cc:9261] Unable to register cuDNN factory: Attempting to register factory for plugin cuDNN when one has already been registered\n",
      "2024-08-30 12:18:53.854957: E external/local_xla/xla/stream_executor/cuda/cuda_fft.cc:607] Unable to register cuFFT factory: Attempting to register factory for plugin cuFFT when one has already been registered\n",
      "2024-08-30 12:18:53.856597: E external/local_xla/xla/stream_executor/cuda/cuda_blas.cc:1515] Unable to register cuBLAS factory: Attempting to register factory for plugin cuBLAS when one has already been registered\n",
      "2024-08-30 12:18:53.871505: I tensorflow/core/platform/cpu_feature_guard.cc:182] This TensorFlow binary is optimized to use available CPU instructions in performance-critical operations.\n",
      "To enable the following instructions: AVX2 FMA, in other operations, rebuild TensorFlow with the appropriate compiler flags.\n",
      "2024-08-30 12:18:53.900916: E external/local_xla/xla/stream_executor/cuda/cuda_dnn.cc:9261] Unable to register cuDNN factory: Attempting to register factory for plugin cuDNN when one has already been registered\n",
      "2024-08-30 12:18:53.900954: E external/local_xla/xla/stream_executor/cuda/cuda_fft.cc:607] Unable to register cuFFT factory: Attempting to register factory for plugin cuFFT when one has already been registered\n",
      "2024-08-30 12:18:53.902543: E external/local_xla/xla/stream_executor/cuda/cuda_blas.cc:1515] Unable to register cuBLAS factory: Attempting to register factory for plugin cuBLAS when one has already been registered\n",
      "2024-08-30 12:18:53.916220: I tensorflow/core/platform/cpu_feature_guard.cc:182] This TensorFlow binary is optimized to use available CPU instructions in performance-critical operations.\n",
      "To enable the following instructions: AVX2 FMA, in other operations, rebuild TensorFlow with the appropriate compiler flags.\n",
      "2024-08-30 12:18:54.069558: E external/local_xla/xla/stream_executor/cuda/cuda_dnn.cc:9261] Unable to register cuDNN factory: Attempting to register factory for plugin cuDNN when one has already been registered\n",
      "2024-08-30 12:18:54.069603: E external/local_xla/xla/stream_executor/cuda/cuda_fft.cc:607] Unable to register cuFFT factory: Attempting to register factory for plugin cuFFT when one has already been registered\n",
      "2024-08-30 12:18:54.071082: E external/local_xla/xla/stream_executor/cuda/cuda_blas.cc:1515] Unable to register cuBLAS factory: Attempting to register factory for plugin cuBLAS when one has already been registered\n",
      "2024-08-30 12:18:54.104235: I tensorflow/core/platform/cpu_feature_guard.cc:182] This TensorFlow binary is optimized to use available CPU instructions in performance-critical operations.\n",
      "To enable the following instructions: AVX2 FMA, in other operations, rebuild TensorFlow with the appropriate compiler flags.\n",
      "2024-08-30 12:18:54.169248: E external/local_xla/xla/stream_executor/cuda/cuda_dnn.cc:9261] Unable to register cuDNN factory: Attempting to register factory for plugin cuDNN when one has already been registered\n",
      "2024-08-30 12:18:54.169661: E external/local_xla/xla/stream_executor/cuda/cuda_fft.cc:607] Unable to register cuFFT factory: Attempting to register factory for plugin cuFFT when one has already been registered\n",
      "2024-08-30 12:18:54.171241: E external/local_xla/xla/stream_executor/cuda/cuda_blas.cc:1515] Unable to register cuBLAS factory: Attempting to register factory for plugin cuBLAS when one has already been registered\n",
      "2024-08-30 12:18:54.197277: I tensorflow/core/platform/cpu_feature_guard.cc:182] This TensorFlow binary is optimized to use available CPU instructions in performance-critical operations.\n",
      "To enable the following instructions: AVX2 FMA, in other operations, rebuild TensorFlow with the appropriate compiler flags.\n",
      "2024-08-30 12:18:56.140583: W tensorflow/compiler/tf2tensorrt/utils/py_utils.cc:38] TF-TRT Warning: Could not find TensorRT\n",
      "2024-08-30 12:18:56.456342: W tensorflow/compiler/tf2tensorrt/utils/py_utils.cc:38] TF-TRT Warning: Could not find TensorRT\n",
      "2024-08-30 12:18:56.468324: W tensorflow/compiler/tf2tensorrt/utils/py_utils.cc:38] TF-TRT Warning: Could not find TensorRT\n",
      "2024-08-30 12:18:56.478770: W tensorflow/compiler/tf2tensorrt/utils/py_utils.cc:38] TF-TRT Warning: Could not find TensorRT\n",
      "2024-08-30 12:18:56.591970: W tensorflow/compiler/tf2tensorrt/utils/py_utils.cc:38] TF-TRT Warning: Could not find TensorRT\n",
      "2024-08-30 12:18:56.815448: W tensorflow/compiler/tf2tensorrt/utils/py_utils.cc:38] TF-TRT Warning: Could not find TensorRT\n",
      "2024-08-30 12:18:57.464039: W tensorflow/compiler/tf2tensorrt/utils/py_utils.cc:38] TF-TRT Warning: Could not find TensorRT\n",
      "100%|████████████████████████████████████| 30778/30778 [00:36<00:00, 838.72it/s]\n",
      "100%|█████████████████████████████████████| 5130/5130 [00:03<00:00, 1295.63it/s]\n",
      "100%|█████████████████████████████████████| 8977/8977 [00:06<00:00, 1308.77it/s]\n",
      "100%|███████████████████████████████████████| 546/546 [00:00<00:00, 4589.35it/s]\n",
      "100%|█████████████████████████████████████| 6857/6857 [00:01<00:00, 5404.15it/s]\n",
      "100%|█████████████████████████████████████| 6857/6857 [00:01<00:00, 5597.05it/s]\n",
      "100%|█████████████████████████████████████| 6858/6858 [00:01<00:00, 5040.23it/s]\n",
      "100%|███████████████████████████████████████| 747/747 [00:00<00:00, 4980.27it/s]\n",
      "100%|█████████████████████████████████████| 6385/6385 [00:01<00:00, 4251.96it/s]\n",
      "100%|███████████████████████████████████████| 348/348 [00:00<00:00, 3837.09it/s]\n",
      "100%|███████████████████████████████████████| 523/523 [00:00<00:00, 4658.44it/s]\n",
      "100%|█████████████████████████████████████| 1657/1657 [00:00<00:00, 2873.70it/s]\n",
      "100%|█████████████████████████████████████████| 92/92 [00:00<00:00, 1637.46it/s]\n",
      "100%|█████████████████████████████████████| 1143/1143 [00:00<00:00, 6140.73it/s]\n",
      "100%|█████████████████████████████████████| 1143/1143 [00:00<00:00, 5585.73it/s]\n",
      "100%|█████████████████████████████████████| 1142/1142 [00:00<00:00, 6236.96it/s]\n",
      "100%|███████████████████████████████████████| 124/124 [00:00<00:00, 2525.45it/s]\n",
      "100%|█████████████████████████████████████| 1065/1065 [00:00<00:00, 4520.57it/s]\n",
      "100%|█████████████████████████████████████████| 58/58 [00:00<00:00, 2009.30it/s]\n",
      "100%|█████████████████████████████████████████| 87/87 [00:00<00:00, 2843.82it/s]\n",
      "100%|███████████████████████████████████████| 276/276 [00:00<00:00, 4047.34it/s]\n",
      "100%|███████████████████████████████████████| 159/159 [00:00<00:00, 2822.42it/s]\n",
      "100%|█████████████████████████████████████| 2000/2000 [00:00<00:00, 5912.67it/s]\n",
      "100%|█████████████████████████████████████| 2000/2000 [00:00<00:00, 5898.25it/s]\n",
      "100%|█████████████████████████████████████| 2000/2000 [00:00<00:00, 6514.36it/s]\n",
      "100%|███████████████████████████████████████| 218/218 [00:00<00:00, 3112.42it/s]\n",
      "100%|█████████████████████████████████████| 1863/1863 [00:00<00:00, 4430.81it/s]\n",
      "100%|███████████████████████████████████████| 101/101 [00:00<00:00, 1923.19it/s]\n",
      "100%|███████████████████████████████████████| 152/152 [00:00<00:00, 3715.88it/s]\n",
      "100%|███████████████████████████████████████| 484/484 [00:00<00:00, 4370.81it/s]\n"
     ]
    },
    {
     "name": "stdout",
     "output_type": "stream",
     "text": [
      "../../01_CreateFolds/ZTF/Folds/Fold_2/train.csv\n",
      "../../01_CreateFolds/ZTF/Folds/Fold_2/val.csv\n",
      "../../01_CreateFolds/ZTF/Folds/test.csv\n",
      "./Folds/Fold_2/\n"
     ]
    },
    {
     "name": "stderr",
     "output_type": "stream",
     "text": [
      "100%|███████████████████████████████████| 30778/30778 [00:17<00:00, 1787.51it/s]\n",
      "100%|█████████████████████████████████████| 5130/5130 [00:02<00:00, 2036.52it/s]\n",
      "100%|█████████████████████████████████████| 8977/8977 [00:04<00:00, 1820.66it/s]\n",
      "100%|███████████████████████████████████████| 547/547 [00:00<00:00, 4650.84it/s]\n",
      "100%|█████████████████████████████████████| 6858/6858 [00:01<00:00, 4093.32it/s]\n",
      "100%|█████████████████████████████████████| 6857/6857 [00:02<00:00, 2344.62it/s]\n",
      "100%|█████████████████████████████████████| 6857/6857 [00:02<00:00, 2768.08it/s]\n",
      "100%|███████████████████████████████████████| 747/747 [00:00<00:00, 2194.19it/s]\n",
      "100%|█████████████████████████████████████| 6385/6385 [00:02<00:00, 2540.00it/s]\n",
      "100%|███████████████████████████████████████| 348/348 [00:00<00:00, 2155.73it/s]\n",
      "100%|███████████████████████████████████████| 522/522 [00:00<00:00, 1873.68it/s]\n",
      "100%|█████████████████████████████████████| 1657/1657 [00:00<00:00, 4743.15it/s]\n",
      "100%|█████████████████████████████████████████| 91/91 [00:00<00:00, 1900.09it/s]\n",
      "100%|█████████████████████████████████████| 1142/1142 [00:00<00:00, 1685.46it/s]\n",
      "100%|█████████████████████████████████████| 1143/1143 [00:00<00:00, 1258.17it/s]\n",
      "100%|█████████████████████████████████████| 1143/1143 [00:00<00:00, 1816.07it/s]\n",
      "100%|███████████████████████████████████████| 124/124 [00:00<00:00, 1751.48it/s]\n",
      "100%|█████████████████████████████████████| 1065/1065 [00:00<00:00, 3735.38it/s]\n",
      "100%|█████████████████████████████████████████| 58/58 [00:00<00:00, 2000.56it/s]\n",
      "100%|█████████████████████████████████████████| 88/88 [00:00<00:00, 2435.83it/s]\n",
      "100%|███████████████████████████████████████| 276/276 [00:00<00:00, 2963.16it/s]\n",
      "100%|███████████████████████████████████████| 159/159 [00:00<00:00, 2712.44it/s]\n",
      "100%|█████████████████████████████████████| 2000/2000 [00:00<00:00, 5626.97it/s]\n",
      "100%|█████████████████████████████████████| 2000/2000 [00:00<00:00, 2909.02it/s]\n",
      "100%|█████████████████████████████████████| 2000/2000 [00:00<00:00, 6049.04it/s]\n",
      "100%|███████████████████████████████████████| 218/218 [00:00<00:00, 1142.83it/s]\n",
      "100%|█████████████████████████████████████| 1863/1863 [00:00<00:00, 2505.01it/s]\n",
      "100%|███████████████████████████████████████| 101/101 [00:00<00:00, 2357.07it/s]\n",
      "100%|███████████████████████████████████████| 152/152 [00:00<00:00, 3509.61it/s]\n",
      "100%|███████████████████████████████████████| 484/484 [00:00<00:00, 3456.26it/s]\n"
     ]
    },
    {
     "name": "stdout",
     "output_type": "stream",
     "text": [
      "../../01_CreateFolds/ZTF/Folds/Fold_3/train.csv\n",
      "../../01_CreateFolds/ZTF/Folds/Fold_3/val.csv\n",
      "../../01_CreateFolds/ZTF/Folds/test.csv\n",
      "./Folds/Fold_3/\n"
     ]
    },
    {
     "name": "stderr",
     "output_type": "stream",
     "text": [
      "100%|███████████████████████████████████| 30778/30778 [00:23<00:00, 1289.08it/s]\n",
      "100%|█████████████████████████████████████| 5130/5130 [00:04<00:00, 1244.07it/s]\n",
      "100%|█████████████████████████████████████| 8977/8977 [00:06<00:00, 1477.88it/s]\n",
      "100%|███████████████████████████████████████| 547/547 [00:00<00:00, 2170.36it/s]\n",
      "100%|█████████████████████████████████████| 6857/6857 [00:01<00:00, 3482.18it/s]\n",
      "100%|█████████████████████████████████████| 6857/6857 [00:01<00:00, 4180.63it/s]\n",
      "100%|█████████████████████████████████████| 6857/6857 [00:02<00:00, 2948.31it/s]\n",
      "100%|███████████████████████████████████████| 746/746 [00:00<00:00, 3396.99it/s]\n",
      "100%|█████████████████████████████████████| 6386/6386 [00:02<00:00, 3022.67it/s]\n",
      "100%|███████████████████████████████████████| 348/348 [00:00<00:00, 3485.87it/s]\n",
      "100%|███████████████████████████████████████| 523/523 [00:00<00:00, 2903.43it/s]\n",
      "100%|█████████████████████████████████████| 1657/1657 [00:00<00:00, 4798.54it/s]\n",
      "100%|█████████████████████████████████████████| 91/91 [00:00<00:00, 2463.00it/s]\n",
      "100%|█████████████████████████████████████| 1143/1143 [00:00<00:00, 4119.02it/s]\n",
      "100%|█████████████████████████████████████| 1143/1143 [00:00<00:00, 4685.29it/s]\n",
      "100%|█████████████████████████████████████| 1143/1143 [00:00<00:00, 4373.49it/s]\n",
      "100%|███████████████████████████████████████| 125/125 [00:00<00:00, 2368.41it/s]\n",
      "100%|█████████████████████████████████████| 1064/1064 [00:00<00:00, 4607.03it/s]\n",
      "100%|█████████████████████████████████████████| 58/58 [00:00<00:00, 1560.21it/s]\n",
      "100%|█████████████████████████████████████████| 87/87 [00:00<00:00, 1985.71it/s]\n",
      "100%|███████████████████████████████████████| 276/276 [00:00<00:00, 3022.39it/s]\n",
      "100%|███████████████████████████████████████| 159/159 [00:00<00:00, 2185.90it/s]\n",
      "100%|█████████████████████████████████████| 2000/2000 [00:00<00:00, 4042.08it/s]\n",
      "100%|█████████████████████████████████████| 2000/2000 [00:00<00:00, 5212.18it/s]\n",
      "100%|█████████████████████████████████████| 2000/2000 [00:00<00:00, 4426.51it/s]\n",
      "100%|███████████████████████████████████████| 218/218 [00:00<00:00, 3136.11it/s]\n",
      "100%|█████████████████████████████████████| 1863/1863 [00:00<00:00, 3881.14it/s]\n",
      "100%|███████████████████████████████████████| 101/101 [00:00<00:00, 1964.34it/s]\n",
      "100%|███████████████████████████████████████| 152/152 [00:00<00:00, 2972.82it/s]\n",
      "100%|███████████████████████████████████████| 484/484 [00:00<00:00, 3409.34it/s]\n"
     ]
    },
    {
     "name": "stdout",
     "output_type": "stream",
     "text": [
      "../../01_CreateFolds/ZTF/Folds/Fold_4/train.csv\n",
      "../../01_CreateFolds/ZTF/Folds/Fold_4/val.csv\n",
      "../../01_CreateFolds/ZTF/Folds/test.csv\n",
      "./Folds/Fold_4/\n"
     ]
    },
    {
     "name": "stderr",
     "output_type": "stream",
     "text": [
      "100%|███████████████████████████████████| 30778/30778 [00:22<00:00, 1369.54it/s]\n",
      "100%|█████████████████████████████████████| 5130/5130 [00:02<00:00, 2167.85it/s]\n",
      "100%|█████████████████████████████████████| 8977/8977 [00:05<00:00, 1793.82it/s]\n",
      "100%|███████████████████████████████████████| 547/547 [00:00<00:00, 4463.49it/s]\n",
      "100%|█████████████████████████████████████| 6857/6857 [00:01<00:00, 6483.76it/s]\n",
      "100%|█████████████████████████████████████| 6857/6857 [00:01<00:00, 4799.61it/s]\n",
      "100%|█████████████████████████████████████| 6857/6857 [00:00<00:00, 9458.23it/s]\n",
      "100%|███████████████████████████████████████| 746/746 [00:00<00:00, 4920.17it/s]\n",
      "100%|█████████████████████████████████████| 6386/6386 [00:01<00:00, 4850.91it/s]\n",
      "100%|███████████████████████████████████████| 348/348 [00:00<00:00, 4321.82it/s]\n",
      "100%|███████████████████████████████████████| 523/523 [00:00<00:00, 4728.81it/s]\n",
      "100%|█████████████████████████████████████| 1657/1657 [00:00<00:00, 7529.43it/s]\n",
      "100%|█████████████████████████████████████████| 91/91 [00:00<00:00, 2812.52it/s]\n",
      "100%|█████████████████████████████████████| 1143/1143 [00:00<00:00, 6641.56it/s]\n",
      "100%|█████████████████████████████████████| 1143/1143 [00:00<00:00, 7316.13it/s]\n",
      "100%|█████████████████████████████████████| 1143/1143 [00:00<00:00, 6448.04it/s]\n",
      "100%|███████████████████████████████████████| 125/125 [00:00<00:00, 2854.88it/s]\n",
      "100%|█████████████████████████████████████| 1064/1064 [00:00<00:00, 5438.84it/s]\n",
      "100%|█████████████████████████████████████████| 58/58 [00:00<00:00, 2361.66it/s]\n",
      "100%|█████████████████████████████████████████| 87/87 [00:00<00:00, 2095.06it/s]\n",
      "100%|███████████████████████████████████████| 276/276 [00:00<00:00, 4205.03it/s]\n",
      "100%|███████████████████████████████████████| 159/159 [00:00<00:00, 2459.48it/s]\n",
      "100%|█████████████████████████████████████| 2000/2000 [00:00<00:00, 6788.68it/s]\n",
      "100%|█████████████████████████████████████| 2000/2000 [00:00<00:00, 6856.65it/s]\n",
      "100%|█████████████████████████████████████| 2000/2000 [00:00<00:00, 7315.82it/s]\n",
      "100%|███████████████████████████████████████| 218/218 [00:00<00:00, 3375.78it/s]\n",
      "100%|█████████████████████████████████████| 1863/1863 [00:00<00:00, 5265.37it/s]\n",
      "100%|███████████████████████████████████████| 101/101 [00:00<00:00, 2568.50it/s]\n",
      "100%|███████████████████████████████████████| 152/152 [00:00<00:00, 3411.57it/s]\n",
      "100%|███████████████████████████████████████| 484/484 [00:00<00:00, 4541.68it/s]\n"
     ]
    },
    {
     "name": "stdout",
     "output_type": "stream",
     "text": [
      "../../01_CreateFolds/ZTF/Folds/Fold_5/train.csv\n",
      "../../01_CreateFolds/ZTF/Folds/Fold_5/val.csv\n",
      "../../01_CreateFolds/ZTF/Folds/test.csv\n",
      "./Folds/Fold_5/\n"
     ]
    },
    {
     "name": "stderr",
     "output_type": "stream",
     "text": [
      "100%|███████████████████████████████████| 30778/30778 [00:16<00:00, 1862.18it/s]\n",
      "100%|█████████████████████████████████████| 5130/5130 [00:02<00:00, 2082.19it/s]\n",
      "100%|█████████████████████████████████████| 8977/8977 [00:03<00:00, 2310.46it/s]\n",
      "100%|█████████████████████████████████████| 6857/6857 [00:01<00:00, 4569.34it/s]\n",
      "100%|█████████████████████████████████████| 6857/6857 [00:01<00:00, 6240.66it/s]\n",
      "100%|████████████████████████████████████| 6857/6857 [00:00<00:00, 10165.08it/s]\n",
      "100%|███████████████████████████████████████| 746/746 [00:00<00:00, 5223.48it/s]\n",
      "100%|█████████████████████████████████████| 6386/6386 [00:01<00:00, 4913.57it/s]\n",
      "100%|███████████████████████████████████████| 348/348 [00:00<00:00, 3871.60it/s]\n",
      "100%|█████████████████████████████████████| 1657/1657 [00:00<00:00, 7104.40it/s]\n",
      "100%|███████████████████████████████████████| 523/523 [00:00<00:00, 4746.86it/s]\n",
      "100%|███████████████████████████████████████| 547/547 [00:00<00:00, 5098.24it/s]\n",
      "100%|█████████████████████████████████████| 1143/1143 [00:00<00:00, 6557.11it/s]\n",
      "100%|█████████████████████████████████████| 1143/1143 [00:00<00:00, 7001.31it/s]\n",
      "100%|█████████████████████████████████████| 1143/1143 [00:00<00:00, 6994.37it/s]\n",
      "100%|███████████████████████████████████████| 125/125 [00:00<00:00, 2910.16it/s]\n",
      "100%|█████████████████████████████████████| 1064/1064 [00:00<00:00, 5358.49it/s]\n",
      "100%|█████████████████████████████████████████| 58/58 [00:00<00:00, 2796.36it/s]\n",
      "100%|███████████████████████████████████████| 276/276 [00:00<00:00, 3763.92it/s]\n",
      "100%|█████████████████████████████████████████| 87/87 [00:00<00:00, 2504.13it/s]\n",
      "100%|█████████████████████████████████████████| 91/91 [00:00<00:00, 2875.47it/s]\n",
      "100%|█████████████████████████████████████| 2000/2000 [00:00<00:00, 6525.95it/s]\n",
      "100%|█████████████████████████████████████| 2000/2000 [00:00<00:00, 6679.06it/s]\n",
      "100%|█████████████████████████████████████| 2000/2000 [00:00<00:00, 2979.12it/s]\n",
      "100%|███████████████████████████████████████| 218/218 [00:00<00:00, 3330.32it/s]\n",
      "100%|█████████████████████████████████████| 1863/1863 [00:00<00:00, 5547.23it/s]\n",
      "100%|███████████████████████████████████████| 101/101 [00:00<00:00, 2228.23it/s]\n",
      "100%|███████████████████████████████████████| 484/484 [00:00<00:00, 4906.01it/s]\n",
      "100%|███████████████████████████████████████| 152/152 [00:00<00:00, 3325.31it/s]\n",
      "100%|███████████████████████████████████████| 159/159 [00:00<00:00, 2804.54it/s]\n"
     ]
    },
    {
     "name": "stdout",
     "output_type": "stream",
     "text": [
      "../../01_CreateFolds/ZTF/Folds/Fold_6/train.csv\n",
      "../../01_CreateFolds/ZTF/Folds/Fold_6/val.csv\n",
      "../../01_CreateFolds/ZTF/Folds/test.csv\n",
      "./Folds/Fold_6/\n"
     ]
    },
    {
     "name": "stderr",
     "output_type": "stream",
     "text": [
      "100%|███████████████████████████████████| 30779/30779 [00:15<00:00, 2047.51it/s]\n",
      "100%|█████████████████████████████████████| 5129/5129 [00:02<00:00, 2350.00it/s]\n",
      "100%|█████████████████████████████████████| 8977/8977 [00:03<00:00, 2291.54it/s]\n",
      "100%|███████████████████████████████████████| 547/547 [00:00<00:00, 5338.59it/s]\n",
      "100%|█████████████████████████████████████| 6857/6857 [00:00<00:00, 6984.76it/s]\n",
      "100%|█████████████████████████████████████| 6857/6857 [00:00<00:00, 7309.85it/s]\n",
      "100%|█████████████████████████████████████| 6857/6857 [00:00<00:00, 7510.15it/s]\n",
      "100%|███████████████████████████████████████| 747/747 [00:00<00:00, 5632.02it/s]\n",
      "100%|█████████████████████████████████████| 6386/6386 [00:01<00:00, 5729.09it/s]\n",
      "100%|███████████████████████████████████████| 348/348 [00:00<00:00, 4356.72it/s]\n",
      "100%|███████████████████████████████████████| 523/523 [00:00<00:00, 5018.42it/s]\n",
      "100%|█████████████████████████████████████| 1657/1657 [00:00<00:00, 7211.73it/s]\n",
      "100%|█████████████████████████████████████████| 91/91 [00:00<00:00, 1646.39it/s]\n",
      "100%|█████████████████████████████████████| 1143/1143 [00:00<00:00, 7399.19it/s]\n",
      "100%|█████████████████████████████████████| 1143/1143 [00:00<00:00, 7317.08it/s]\n",
      "100%|█████████████████████████████████████| 1143/1143 [00:00<00:00, 6993.39it/s]\n",
      "100%|███████████████████████████████████████| 124/124 [00:00<00:00, 3051.71it/s]\n",
      "100%|█████████████████████████████████████| 1064/1064 [00:00<00:00, 5933.18it/s]\n",
      "100%|█████████████████████████████████████████| 58/58 [00:00<00:00, 2340.50it/s]\n",
      "100%|█████████████████████████████████████████| 87/87 [00:00<00:00, 2567.45it/s]\n",
      "100%|███████████████████████████████████████| 276/276 [00:00<00:00, 4121.01it/s]\n",
      "100%|███████████████████████████████████████| 159/159 [00:00<00:00, 2652.72it/s]\n",
      "100%|█████████████████████████████████████| 2000/2000 [00:00<00:00, 7056.94it/s]\n",
      "100%|█████████████████████████████████████| 2000/2000 [00:00<00:00, 7646.30it/s]\n",
      "100%|█████████████████████████████████████| 2000/2000 [00:00<00:00, 7749.34it/s]\n",
      "100%|███████████████████████████████████████| 218/218 [00:00<00:00, 3416.82it/s]\n",
      "100%|█████████████████████████████████████| 1863/1863 [00:00<00:00, 5937.56it/s]\n",
      "100%|███████████████████████████████████████| 101/101 [00:00<00:00, 2507.09it/s]\n",
      "100%|███████████████████████████████████████| 152/152 [00:00<00:00, 3602.23it/s]\n",
      "100%|███████████████████████████████████████| 484/484 [00:00<00:00, 5046.92it/s]\n"
     ]
    },
    {
     "name": "stdout",
     "output_type": "stream",
     "text": [
      "../../01_CreateFolds/ZTF/Folds/Fold_7/train.csv\n",
      "../../01_CreateFolds/ZTF/Folds/Fold_7/val.csv\n",
      "../../01_CreateFolds/ZTF/Folds/test.csv\n",
      "./Folds/Fold_7/\n"
     ]
    },
    {
     "name": "stderr",
     "output_type": "stream",
     "text": [
      "100%|███████████████████████████████████| 30779/30779 [00:12<00:00, 2446.40it/s]\n",
      "100%|█████████████████████████████████████| 5129/5129 [00:01<00:00, 2759.40it/s]\n",
      "100%|█████████████████████████████████████| 8977/8977 [00:03<00:00, 2861.17it/s]\n",
      "100%|███████████████████████████████████████| 547/547 [00:00<00:00, 5473.91it/s]\n",
      "100%|█████████████████████████████████████| 6857/6857 [00:01<00:00, 5301.49it/s]\n",
      "100%|█████████████████████████████████████| 6858/6858 [00:00<00:00, 7118.80it/s]\n",
      "100%|█████████████████████████████████████| 6857/6857 [00:00<00:00, 7457.12it/s]\n",
      "100%|███████████████████████████████████████| 747/747 [00:00<00:00, 5511.29it/s]\n",
      "100%|█████████████████████████████████████| 6386/6386 [00:01<00:00, 5676.64it/s]\n",
      "100%|███████████████████████████████████████| 348/348 [00:00<00:00, 4341.79it/s]\n",
      "100%|███████████████████████████████████████| 523/523 [00:00<00:00, 5191.63it/s]\n",
      "100%|█████████████████████████████████████| 1656/1656 [00:00<00:00, 8043.58it/s]\n",
      "100%|█████████████████████████████████████████| 91/91 [00:00<00:00, 2261.55it/s]\n",
      "100%|█████████████████████████████████████| 1143/1143 [00:00<00:00, 6840.03it/s]\n",
      "100%|█████████████████████████████████████| 1142/1142 [00:00<00:00, 7404.02it/s]\n",
      "100%|█████████████████████████████████████| 1143/1143 [00:00<00:00, 7526.66it/s]\n",
      "100%|███████████████████████████████████████| 124/124 [00:00<00:00, 3124.53it/s]\n",
      "100%|█████████████████████████████████████| 1064/1064 [00:00<00:00, 6311.28it/s]\n",
      "100%|█████████████████████████████████████████| 58/58 [00:00<00:00, 2476.58it/s]\n",
      "100%|█████████████████████████████████████████| 87/87 [00:00<00:00, 2456.44it/s]\n",
      "100%|███████████████████████████████████████| 277/277 [00:00<00:00, 4487.27it/s]\n",
      "100%|███████████████████████████████████████| 159/159 [00:00<00:00, 2716.70it/s]\n",
      "100%|█████████████████████████████████████| 2000/2000 [00:00<00:00, 7416.12it/s]\n",
      "100%|█████████████████████████████████████| 2000/2000 [00:00<00:00, 7758.16it/s]\n",
      "100%|█████████████████████████████████████| 2000/2000 [00:00<00:00, 7456.10it/s]\n",
      "100%|███████████████████████████████████████| 218/218 [00:00<00:00, 3527.77it/s]\n",
      "100%|█████████████████████████████████████| 1863/1863 [00:00<00:00, 5985.95it/s]\n",
      "100%|███████████████████████████████████████| 101/101 [00:00<00:00, 2450.30it/s]\n",
      "100%|███████████████████████████████████████| 152/152 [00:00<00:00, 3575.65it/s]\n",
      "100%|███████████████████████████████████████| 484/484 [00:00<00:00, 5266.37it/s]\n"
     ]
    }
   ],
   "source": [
    "# Create the container folder\n",
    "if not os.path.exists('./Folds'):\n",
    "    os.mkdir('./Folds')\n",
    "    \n",
    "for fold in folds:\n",
    "    train_val = glob(os.path.join(fold, '*'))\n",
    "    train_path = [i for i in train_val if 'train' in i][0]\n",
    "    val_path = [i for i in train_val if 'val' in i][0]\n",
    "    \n",
    "    path_fold = fold.replace('../../01_CreateFolds/'+survey,'.')+'/'\n",
    "    if not os.path.exists(path_fold):\n",
    "        os.mkdir(path_fold)\n",
    "    print(train_path)\n",
    "    print(val_path)\n",
    "    print(test_path)\n",
    "    print(path_fold)\n",
    "    \n",
    "    kwargs2['file_train']=train_path\n",
    "    kwargs2['file_val'] =val_path\n",
    "    kwargs2['file_test'] =test_path\n",
    "    kwargs2['save_dir'] = path_fold\n",
    "    P.prepare(**kwargs2)\n",
    "    \n",
    "    "
   ]
  }
 ],
 "metadata": {
  "kernelspec": {
   "display_name": "Python 3 (ipykernel)",
   "language": "python",
   "name": "python3"
  },
  "language_info": {
   "codemirror_mode": {
    "name": "ipython",
    "version": 3
   },
   "file_extension": ".py",
   "mimetype": "text/x-python",
   "name": "python",
   "nbconvert_exporter": "python",
   "pygments_lexer": "ipython3",
   "version": "3.10.12"
  }
 },
 "nbformat": 4,
 "nbformat_minor": 4
}
