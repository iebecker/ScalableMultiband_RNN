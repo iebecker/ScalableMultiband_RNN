{
 "cells": [
  {
   "cell_type": "code",
   "execution_count": 1,
   "metadata": {},
   "outputs": [
    {
     "name": "stderr",
     "output_type": "stream",
     "text": [
      "2024-12-04 21:27:40.995918: E external/local_xla/xla/stream_executor/cuda/cuda_dnn.cc:9261] Unable to register cuDNN factory: Attempting to register factory for plugin cuDNN when one has already been registered\n",
      "2024-12-04 21:27:40.995951: E external/local_xla/xla/stream_executor/cuda/cuda_fft.cc:607] Unable to register cuFFT factory: Attempting to register factory for plugin cuFFT when one has already been registered\n",
      "2024-12-04 21:27:40.996958: E external/local_xla/xla/stream_executor/cuda/cuda_blas.cc:1515] Unable to register cuBLAS factory: Attempting to register factory for plugin cuBLAS when one has already been registered\n",
      "2024-12-04 21:27:41.003162: I tensorflow/core/platform/cpu_feature_guard.cc:182] This TensorFlow binary is optimized to use available CPU instructions in performance-critical operations.\n",
      "To enable the following instructions: AVX2 FMA, in other operations, rebuild TensorFlow with the appropriate compiler flags.\n",
      "2024-12-04 21:27:42.002847: W tensorflow/compiler/tf2tensorrt/utils/py_utils.cc:38] TF-TRT Warning: Could not find TensorRT\n"
     ]
    }
   ],
   "source": [
    "import os\n",
    "from glob import glob\n",
    "\n",
    "from ScalableLib.base.Load_Process import prepData"
   ]
  },
  {
   "cell_type": "markdown",
   "metadata": {},
   "source": [
    "Get the different fold files. Tran-val and test sets."
   ]
  },
  {
   "cell_type": "code",
   "execution_count": 2,
   "metadata": {},
   "outputs": [],
   "source": [
    "survey = 'PanStarrs'"
   ]
  },
  {
   "cell_type": "code",
   "execution_count": 3,
   "metadata": {},
   "outputs": [
    {
     "data": {
      "text/plain": [
       "['../../01_CreateFolds/PanStarrs/Folds/Fold_1',\n",
       " '../../01_CreateFolds/PanStarrs/Folds/Fold_2',\n",
       " '../../01_CreateFolds/PanStarrs/Folds/Fold_3',\n",
       " '../../01_CreateFolds/PanStarrs/Folds/Fold_4',\n",
       " '../../01_CreateFolds/PanStarrs/Folds/Fold_5',\n",
       " '../../01_CreateFolds/PanStarrs/Folds/Fold_6',\n",
       " '../../01_CreateFolds/PanStarrs/Folds/Fold_7']"
      ]
     },
     "execution_count": 3,
     "metadata": {},
     "output_type": "execute_result"
    }
   ],
   "source": [
    "\n",
    "path_folds = os.path.join('../../01_CreateFolds/{}/Folds/*'.format(survey))\n",
    "\n",
    "# Get the folder paths\n",
    "folds = glob(path_folds)\n",
    "# Get the test file path\n",
    "test_path = [i for i in folds if 'test' in i][0]\n",
    "# Remove the test path from the list\n",
    "folds.remove(test_path)\n",
    "# Sort to work from the first fold onwards\n",
    "folds.sort()\n",
    "folds"
   ]
  },
  {
   "cell_type": "markdown",
   "metadata": {},
   "source": [
    "For each fold, process the information and store it.\n",
    "\n",
    "The **P** object is defined with its keyword arguments. \n",
    "\n",
    "Then the kwargs are defined to be used as inputs of the prepare method."
   ]
  },
  {
   "cell_type": "code",
   "execution_count": 4,
   "metadata": {},
   "outputs": [],
   "source": [
    "kwargs1={\n",
    "'max_l' : 10000,\n",
    "'min_l' : 100,\n",
    "'min_n': 4,\n",
    "'max_n' : 1000,\n",
    "'w' : 2,\n",
    "'s':1,\n",
    "'njobs':7,\n",
    "'n_bands':5,\n",
    "}\n",
    "P = prepData(**kwargs1)"
   ]
  },
  {
   "cell_type": "code",
   "execution_count": 5,
   "metadata": {},
   "outputs": [],
   "source": [
    "kwargs2={\n",
    "    'dataset_header': ['ID', 'Path', 'Class', 'N', 'N_g', 'N_r', 'N_i', 'N_z', 'N_y' ],\n",
    "    'lc_parameters':{'sep':';', 'header':0, 'na_filter':True, 'engine':'c'},\n",
    "    'params_phys':  [ 'T_eff','Lum','Mass', 'rho','Radius', 'logg'], \n",
    "    'params_phys_est': []    \n",
    "}"
   ]
  },
  {
   "cell_type": "code",
   "execution_count": 6,
   "metadata": {
    "tags": []
   },
   "outputs": [
    {
     "name": "stdout",
     "output_type": "stream",
     "text": [
      "../../01_CreateFolds/PanStarrs/Folds/Fold_1/train.csv\n",
      "../../01_CreateFolds/PanStarrs/Folds/Fold_1/val.csv\n",
      "../../01_CreateFolds/PanStarrs/Folds/test.csv\n",
      "./Folds/Fold_1/\n"
     ]
    },
    {
     "name": "stderr",
     "output_type": "stream",
     "text": [
      "  0%|                                         | 7/18032 [00:00<07:34, 39.66it/s]2024-12-04 21:27:44.368464: E external/local_xla/xla/stream_executor/cuda/cuda_dnn.cc:9261] Unable to register cuDNN factory: Attempting to register factory for plugin cuDNN when one has already been registered\n",
      "2024-12-04 21:27:44.368500: E external/local_xla/xla/stream_executor/cuda/cuda_fft.cc:607] Unable to register cuFFT factory: Attempting to register factory for plugin cuFFT when one has already been registered\n",
      "2024-12-04 21:27:44.369690: E external/local_xla/xla/stream_executor/cuda/cuda_blas.cc:1515] Unable to register cuBLAS factory: Attempting to register factory for plugin cuBLAS when one has already been registered\n",
      "2024-12-04 21:27:44.375454: I tensorflow/core/platform/cpu_feature_guard.cc:182] This TensorFlow binary is optimized to use available CPU instructions in performance-critical operations.\n",
      "To enable the following instructions: AVX2 FMA, in other operations, rebuild TensorFlow with the appropriate compiler flags.\n",
      "2024-12-04 21:27:44.533177: E external/local_xla/xla/stream_executor/cuda/cuda_dnn.cc:9261] Unable to register cuDNN factory: Attempting to register factory for plugin cuDNN when one has already been registered\n",
      "2024-12-04 21:27:44.533328: E external/local_xla/xla/stream_executor/cuda/cuda_fft.cc:607] Unable to register cuFFT factory: Attempting to register factory for plugin cuFFT when one has already been registered\n",
      "2024-12-04 21:27:44.534799: E external/local_xla/xla/stream_executor/cuda/cuda_blas.cc:1515] Unable to register cuBLAS factory: Attempting to register factory for plugin cuBLAS when one has already been registered\n",
      "2024-12-04 21:27:44.545402: I tensorflow/core/platform/cpu_feature_guard.cc:182] This TensorFlow binary is optimized to use available CPU instructions in performance-critical operations.\n",
      "To enable the following instructions: AVX2 FMA, in other operations, rebuild TensorFlow with the appropriate compiler flags.\n",
      "2024-12-04 21:27:44.560734: E external/local_xla/xla/stream_executor/cuda/cuda_dnn.cc:9261] Unable to register cuDNN factory: Attempting to register factory for plugin cuDNN when one has already been registered\n",
      "2024-12-04 21:27:44.560776: E external/local_xla/xla/stream_executor/cuda/cuda_fft.cc:607] Unable to register cuFFT factory: Attempting to register factory for plugin cuFFT when one has already been registered\n",
      "2024-12-04 21:27:44.562168: E external/local_xla/xla/stream_executor/cuda/cuda_blas.cc:1515] Unable to register cuBLAS factory: Attempting to register factory for plugin cuBLAS when one has already been registered\n",
      "2024-12-04 21:27:44.571146: I tensorflow/core/platform/cpu_feature_guard.cc:182] This TensorFlow binary is optimized to use available CPU instructions in performance-critical operations.\n",
      "To enable the following instructions: AVX2 FMA, in other operations, rebuild TensorFlow with the appropriate compiler flags.\n",
      "2024-12-04 21:27:44.596695: E external/local_xla/xla/stream_executor/cuda/cuda_dnn.cc:9261] Unable to register cuDNN factory: Attempting to register factory for plugin cuDNN when one has already been registered\n",
      "2024-12-04 21:27:44.596951: E external/local_xla/xla/stream_executor/cuda/cuda_fft.cc:607] Unable to register cuFFT factory: Attempting to register factory for plugin cuFFT when one has already been registered\n",
      "2024-12-04 21:27:44.598474: E external/local_xla/xla/stream_executor/cuda/cuda_blas.cc:1515] Unable to register cuBLAS factory: Attempting to register factory for plugin cuBLAS when one has already been registered\n",
      "2024-12-04 21:27:44.607540: I tensorflow/core/platform/cpu_feature_guard.cc:182] This TensorFlow binary is optimized to use available CPU instructions in performance-critical operations.\n",
      "To enable the following instructions: AVX2 FMA, in other operations, rebuild TensorFlow with the appropriate compiler flags.\n",
      "2024-12-04 21:27:44.608339: E external/local_xla/xla/stream_executor/cuda/cuda_dnn.cc:9261] Unable to register cuDNN factory: Attempting to register factory for plugin cuDNN when one has already been registered\n",
      "2024-12-04 21:27:44.608368: E external/local_xla/xla/stream_executor/cuda/cuda_fft.cc:607] Unable to register cuFFT factory: Attempting to register factory for plugin cuFFT when one has already been registered\n",
      "2024-12-04 21:27:44.609746: E external/local_xla/xla/stream_executor/cuda/cuda_blas.cc:1515] Unable to register cuBLAS factory: Attempting to register factory for plugin cuBLAS when one has already been registered\n",
      "2024-12-04 21:27:44.616238: I tensorflow/core/platform/cpu_feature_guard.cc:182] This TensorFlow binary is optimized to use available CPU instructions in performance-critical operations.\n",
      "To enable the following instructions: AVX2 FMA, in other operations, rebuild TensorFlow with the appropriate compiler flags.\n",
      "2024-12-04 21:27:44.650483: E external/local_xla/xla/stream_executor/cuda/cuda_dnn.cc:9261] Unable to register cuDNN factory: Attempting to register factory for plugin cuDNN when one has already been registered\n",
      "2024-12-04 21:27:44.650522: E external/local_xla/xla/stream_executor/cuda/cuda_fft.cc:607] Unable to register cuFFT factory: Attempting to register factory for plugin cuFFT when one has already been registered\n",
      "2024-12-04 21:27:44.651941: E external/local_xla/xla/stream_executor/cuda/cuda_blas.cc:1515] Unable to register cuBLAS factory: Attempting to register factory for plugin cuBLAS when one has already been registered\n",
      "2024-12-04 21:27:44.661971: E external/local_xla/xla/stream_executor/cuda/cuda_dnn.cc:9261] Unable to register cuDNN factory: Attempting to register factory for plugin cuDNN when one has already been registered\n",
      "2024-12-04 21:27:44.662010: E external/local_xla/xla/stream_executor/cuda/cuda_fft.cc:607] Unable to register cuFFT factory: Attempting to register factory for plugin cuFFT when one has already been registered\n",
      "2024-12-04 21:27:44.663091: I tensorflow/core/platform/cpu_feature_guard.cc:182] This TensorFlow binary is optimized to use available CPU instructions in performance-critical operations.\n",
      "To enable the following instructions: AVX2 FMA, in other operations, rebuild TensorFlow with the appropriate compiler flags.\n",
      "2024-12-04 21:27:44.663414: E external/local_xla/xla/stream_executor/cuda/cuda_blas.cc:1515] Unable to register cuBLAS factory: Attempting to register factory for plugin cuBLAS when one has already been registered\n",
      "2024-12-04 21:27:44.672187: I tensorflow/core/platform/cpu_feature_guard.cc:182] This TensorFlow binary is optimized to use available CPU instructions in performance-critical operations.\n",
      "To enable the following instructions: AVX2 FMA, in other operations, rebuild TensorFlow with the appropriate compiler flags.\n",
      "2024-12-04 21:27:45.499265: W tensorflow/compiler/tf2tensorrt/utils/py_utils.cc:38] TF-TRT Warning: Could not find TensorRT\n",
      "2024-12-04 21:27:46.032965: W tensorflow/compiler/tf2tensorrt/utils/py_utils.cc:38] TF-TRT Warning: Could not find TensorRT\n",
      "2024-12-04 21:27:46.130481: W tensorflow/compiler/tf2tensorrt/utils/py_utils.cc:38] TF-TRT Warning: Could not find TensorRT\n",
      "2024-12-04 21:27:46.131135: W tensorflow/compiler/tf2tensorrt/utils/py_utils.cc:38] TF-TRT Warning: Could not find TensorRT\n",
      "2024-12-04 21:27:46.303952: W tensorflow/compiler/tf2tensorrt/utils/py_utils.cc:38] TF-TRT Warning: Could not find TensorRT\n",
      "2024-12-04 21:27:46.310744: W tensorflow/compiler/tf2tensorrt/utils/py_utils.cc:38] TF-TRT Warning: Could not find TensorRT\n",
      "2024-12-04 21:27:46.320825: W tensorflow/compiler/tf2tensorrt/utils/py_utils.cc:38] TF-TRT Warning: Could not find TensorRT\n",
      "100%|███████████████████████████████████| 18032/18032 [00:11<00:00, 1525.66it/s]\n",
      "100%|█████████████████████████████████████| 3006/3006 [00:00<00:00, 3435.67it/s]\n",
      "100%|█████████████████████████████████████| 5260/5260 [00:02<00:00, 2432.14it/s]\n",
      "100%|███████████████████████████████████████| 182/182 [00:00<00:00, 2525.69it/s]\n",
      "100%|█████████████████████████████████████| 2699/2699 [00:00<00:00, 2795.24it/s]\n",
      "100%|█████████████████████████████████████| 1307/1307 [00:00<00:00, 5204.54it/s]\n",
      "100%|█████████████████████████████████████| 6857/6857 [00:02<00:00, 3348.36it/s]\n",
      "100%|█████████████████████████████████████| 6857/6857 [00:02<00:00, 3387.38it/s]\n",
      "100%|███████████████████████████████████████| 130/130 [00:00<00:00, 2586.52it/s]\n",
      "100%|█████████████████████████████████████████| 31/31 [00:00<00:00, 1501.84it/s]\n",
      "100%|███████████████████████████████████████| 450/450 [00:00<00:00, 3175.51it/s]\n",
      "100%|███████████████████████████████████████| 218/218 [00:00<00:00, 2205.23it/s]\n",
      "100%|█████████████████████████████████████| 1143/1143 [00:00<00:00, 4385.96it/s]\n",
      "100%|█████████████████████████████████████| 1143/1143 [00:00<00:00, 4657.11it/s]\n",
      "100%|█████████████████████████████████████████| 21/21 [00:00<00:00, 2469.59it/s]\n",
      "100%|█████████████████████████████████████████| 53/53 [00:00<00:00, 1653.28it/s]\n",
      "100%|███████████████████████████████████████| 788/788 [00:00<00:00, 3889.76it/s]\n",
      "100%|███████████████████████████████████████| 381/381 [00:00<00:00, 2813.42it/s]\n",
      "100%|█████████████████████████████████████| 2000/2000 [00:00<00:00, 4296.22it/s]\n",
      "100%|█████████████████████████████████████| 2000/2000 [00:00<00:00, 4317.49it/s]\n",
      "100%|█████████████████████████████████████████| 38/38 [00:00<00:00, 1973.79it/s]\n"
     ]
    },
    {
     "name": "stdout",
     "output_type": "stream",
     "text": [
      "../../01_CreateFolds/PanStarrs/Folds/Fold_2/train.csv\n",
      "../../01_CreateFolds/PanStarrs/Folds/Fold_2/val.csv\n",
      "../../01_CreateFolds/PanStarrs/Folds/test.csv\n",
      "./Folds/Fold_2/\n"
     ]
    },
    {
     "name": "stderr",
     "output_type": "stream",
     "text": [
      "100%|███████████████████████████████████| 18032/18032 [00:08<00:00, 2215.19it/s]\n",
      "100%|█████████████████████████████████████| 3006/3006 [00:00<00:00, 3389.51it/s]\n",
      "100%|█████████████████████████████████████| 5260/5260 [00:01<00:00, 2663.52it/s]\n",
      "100%|███████████████████████████████████████| 182/182 [00:00<00:00, 2424.90it/s]\n",
      "100%|█████████████████████████████████████| 2699/2699 [00:00<00:00, 4192.97it/s]\n",
      "100%|█████████████████████████████████████| 1307/1307 [00:00<00:00, 5073.70it/s]\n",
      "100%|█████████████████████████████████████| 6857/6857 [00:02<00:00, 3309.00it/s]\n",
      "100%|█████████████████████████████████████| 6857/6857 [00:02<00:00, 2783.23it/s]\n",
      "100%|███████████████████████████████████████| 130/130 [00:00<00:00, 2255.72it/s]\n",
      "100%|█████████████████████████████████████████| 31/31 [00:00<00:00, 1592.18it/s]\n",
      "100%|███████████████████████████████████████| 450/450 [00:00<00:00, 2955.09it/s]\n",
      "100%|███████████████████████████████████████| 218/218 [00:00<00:00, 2449.66it/s]\n",
      "100%|█████████████████████████████████████| 1143/1143 [00:00<00:00, 4484.36it/s]\n",
      "100%|█████████████████████████████████████| 1143/1143 [00:00<00:00, 4539.17it/s]\n",
      "100%|█████████████████████████████████████████| 21/21 [00:00<00:00, 1716.16it/s]\n",
      "100%|█████████████████████████████████████████| 53/53 [00:00<00:00, 1972.83it/s]\n",
      "100%|███████████████████████████████████████| 788/788 [00:00<00:00, 4019.75it/s]\n",
      "100%|███████████████████████████████████████| 381/381 [00:00<00:00, 3149.95it/s]\n",
      "100%|█████████████████████████████████████| 2000/2000 [00:00<00:00, 4268.61it/s]\n",
      "100%|█████████████████████████████████████| 2000/2000 [00:00<00:00, 4260.05it/s]\n",
      "100%|█████████████████████████████████████████| 38/38 [00:00<00:00, 1735.54it/s]\n"
     ]
    },
    {
     "name": "stdout",
     "output_type": "stream",
     "text": [
      "../../01_CreateFolds/PanStarrs/Folds/Fold_3/train.csv\n",
      "../../01_CreateFolds/PanStarrs/Folds/Fold_3/val.csv\n",
      "../../01_CreateFolds/PanStarrs/Folds/test.csv\n",
      "./Folds/Fold_3/\n"
     ]
    },
    {
     "name": "stderr",
     "output_type": "stream",
     "text": [
      " 82%|████████████████████████████▊      | 14838/18032 [00:06<00:01, 2724.51it/s]/usr/local/lib/python3.10/dist-packages/joblib/externals/loky/process_executor.py:752: UserWarning: A worker stopped while some jobs were given to the executor. This can be caused by a too short worker timeout or by a memory leak.\n",
      "  warnings.warn(\n",
      " 86%|███████████████████████████████     | 15542/18032 [00:07<00:02, 979.11it/s]2024-12-04 21:29:10.562961: E external/local_xla/xla/stream_executor/cuda/cuda_dnn.cc:9261] Unable to register cuDNN factory: Attempting to register factory for plugin cuDNN when one has already been registered\n",
      "2024-12-04 21:29:10.562992: E external/local_xla/xla/stream_executor/cuda/cuda_fft.cc:607] Unable to register cuFFT factory: Attempting to register factory for plugin cuFFT when one has already been registered\n",
      "2024-12-04 21:29:10.563922: E external/local_xla/xla/stream_executor/cuda/cuda_blas.cc:1515] Unable to register cuBLAS factory: Attempting to register factory for plugin cuBLAS when one has already been registered\n",
      "2024-12-04 21:29:10.569713: I tensorflow/core/platform/cpu_feature_guard.cc:182] This TensorFlow binary is optimized to use available CPU instructions in performance-critical operations.\n",
      "To enable the following instructions: AVX2 FMA, in other operations, rebuild TensorFlow with the appropriate compiler flags.\n",
      "2024-12-04 21:29:11.591551: W tensorflow/compiler/tf2tensorrt/utils/py_utils.cc:38] TF-TRT Warning: Could not find TensorRT\n",
      " 93%|█████████████████████████████████▌  | 16783/18032 [00:08<00:01, 980.35it/s]2024-12-04 21:29:12.095750: E external/local_xla/xla/stream_executor/cuda/cuda_dnn.cc:9261] Unable to register cuDNN factory: Attempting to register factory for plugin cuDNN when one has already been registered\n",
      "2024-12-04 21:29:12.095788: E external/local_xla/xla/stream_executor/cuda/cuda_fft.cc:607] Unable to register cuFFT factory: Attempting to register factory for plugin cuFFT when one has already been registered\n",
      "2024-12-04 21:29:12.097199: E external/local_xla/xla/stream_executor/cuda/cuda_blas.cc:1515] Unable to register cuBLAS factory: Attempting to register factory for plugin cuBLAS when one has already been registered\n",
      "2024-12-04 21:29:12.106221: I tensorflow/core/platform/cpu_feature_guard.cc:182] This TensorFlow binary is optimized to use available CPU instructions in performance-critical operations.\n",
      "To enable the following instructions: AVX2 FMA, in other operations, rebuild TensorFlow with the appropriate compiler flags.\n",
      " 95%|██████████████████████████████████  | 17091/18032 [00:09<00:01, 893.59it/s]2024-12-04 21:29:13.002156: E external/local_xla/xla/stream_executor/cuda/cuda_dnn.cc:9261] Unable to register cuDNN factory: Attempting to register factory for plugin cuDNN when one has already been registered\n",
      "2024-12-04 21:29:13.002214: E external/local_xla/xla/stream_executor/cuda/cuda_fft.cc:607] Unable to register cuFFT factory: Attempting to register factory for plugin cuFFT when one has already been registered\n",
      "2024-12-04 21:29:13.003611: E external/local_xla/xla/stream_executor/cuda/cuda_blas.cc:1515] Unable to register cuBLAS factory: Attempting to register factory for plugin cuBLAS when one has already been registered\n",
      "2024-12-04 21:29:13.012937: I tensorflow/core/platform/cpu_feature_guard.cc:182] This TensorFlow binary is optimized to use available CPU instructions in performance-critical operations.\n",
      "To enable the following instructions: AVX2 FMA, in other operations, rebuild TensorFlow with the appropriate compiler flags.\n",
      " 99%|███████████████████████████████████▋| 17850/18032 [00:10<00:00, 879.81it/s]2024-12-04 21:29:13.582459: W tensorflow/compiler/tf2tensorrt/utils/py_utils.cc:38] TF-TRT Warning: Could not find TensorRT\n",
      "100%|███████████████████████████████████| 18032/18032 [00:10<00:00, 1733.44it/s]\n",
      "2024-12-04 21:29:14.289053: W tensorflow/compiler/tf2tensorrt/utils/py_utils.cc:38] TF-TRT Warning: Could not find TensorRT\n",
      "100%|█████████████████████████████████████| 3006/3006 [00:00<00:00, 3410.36it/s]\n",
      "100%|█████████████████████████████████████| 5260/5260 [00:01<00:00, 3188.01it/s]\n",
      "100%|███████████████████████████████████████| 182/182 [00:00<00:00, 1722.56it/s]\n",
      "2024-12-04 21:29:20.241041: E external/local_xla/xla/stream_executor/cuda/cuda_dnn.cc:9261] Unable to register cuDNN factory: Attempting to register factory for plugin cuDNN when one has already been registered\n",
      "2024-12-04 21:29:20.241071: E external/local_xla/xla/stream_executor/cuda/cuda_fft.cc:607] Unable to register cuFFT factory: Attempting to register factory for plugin cuFFT when one has already been registered\n",
      "2024-12-04 21:29:20.242023: E external/local_xla/xla/stream_executor/cuda/cuda_blas.cc:1515] Unable to register cuBLAS factory: Attempting to register factory for plugin cuBLAS when one has already been registered\n",
      "2024-12-04 21:29:20.247672: I tensorflow/core/platform/cpu_feature_guard.cc:182] This TensorFlow binary is optimized to use available CPU instructions in performance-critical operations.\n",
      "To enable the following instructions: AVX2 FMA, in other operations, rebuild TensorFlow with the appropriate compiler flags.\n",
      "2024-12-04 21:29:21.181367: W tensorflow/compiler/tf2tensorrt/utils/py_utils.cc:38] TF-TRT Warning: Could not find TensorRT\n",
      " 66%|████████████████████████▎            | 1778/2699 [00:00<00:00, 3307.99it/s]2024-12-04 21:29:22.455365: E external/local_xla/xla/stream_executor/cuda/cuda_dnn.cc:9261] Unable to register cuDNN factory: Attempting to register factory for plugin cuDNN when one has already been registered\n",
      "2024-12-04 21:29:22.455396: E external/local_xla/xla/stream_executor/cuda/cuda_fft.cc:607] Unable to register cuFFT factory: Attempting to register factory for plugin cuFFT when one has already been registered\n",
      "2024-12-04 21:29:22.456339: E external/local_xla/xla/stream_executor/cuda/cuda_blas.cc:1515] Unable to register cuBLAS factory: Attempting to register factory for plugin cuBLAS when one has already been registered\n",
      "2024-12-04 21:29:22.461977: I tensorflow/core/platform/cpu_feature_guard.cc:182] This TensorFlow binary is optimized to use available CPU instructions in performance-critical operations.\n",
      "To enable the following instructions: AVX2 FMA, in other operations, rebuild TensorFlow with the appropriate compiler flags.\n",
      "100%|█████████████████████████████████████| 2699/2699 [00:01<00:00, 2103.19it/s]\n",
      "2024-12-04 21:29:23.524084: W tensorflow/compiler/tf2tensorrt/utils/py_utils.cc:38] TF-TRT Warning: Could not find TensorRT\n",
      "100%|█████████████████████████████████████| 1307/1307 [00:00<00:00, 3959.79it/s]\n",
      "100%|█████████████████████████████████████| 6857/6857 [00:02<00:00, 3215.57it/s]\n",
      "100%|█████████████████████████████████████| 6857/6857 [00:02<00:00, 2722.47it/s]\n",
      "100%|███████████████████████████████████████| 130/130 [00:00<00:00, 2366.08it/s]\n",
      "100%|█████████████████████████████████████████| 31/31 [00:00<00:00, 1264.89it/s]\n",
      "100%|███████████████████████████████████████| 450/450 [00:00<00:00, 2752.83it/s]\n",
      "100%|███████████████████████████████████████| 218/218 [00:00<00:00, 2163.35it/s]\n",
      "100%|█████████████████████████████████████| 1143/1143 [00:00<00:00, 4004.26it/s]\n",
      "100%|█████████████████████████████████████| 1143/1143 [00:00<00:00, 4171.12it/s]\n",
      "100%|█████████████████████████████████████████| 21/21 [00:00<00:00, 1610.77it/s]\n",
      "100%|█████████████████████████████████████████| 53/53 [00:00<00:00, 1283.89it/s]\n",
      "100%|███████████████████████████████████████| 788/788 [00:00<00:00, 3794.52it/s]\n",
      "100%|███████████████████████████████████████| 381/381 [00:00<00:00, 2817.70it/s]\n",
      "100%|█████████████████████████████████████| 2000/2000 [00:00<00:00, 4208.87it/s]\n",
      "100%|█████████████████████████████████████| 2000/2000 [00:00<00:00, 2068.06it/s]\n",
      "100%|█████████████████████████████████████████| 38/38 [00:00<00:00, 1728.37it/s]\n"
     ]
    },
    {
     "name": "stdout",
     "output_type": "stream",
     "text": [
      "../../01_CreateFolds/PanStarrs/Folds/Fold_4/train.csv\n",
      "../../01_CreateFolds/PanStarrs/Folds/Fold_4/val.csv\n",
      "../../01_CreateFolds/PanStarrs/Folds/test.csv\n",
      "./Folds/Fold_4/\n"
     ]
    },
    {
     "name": "stderr",
     "output_type": "stream",
     "text": [
      "100%|███████████████████████████████████| 18033/18033 [00:08<00:00, 2204.11it/s]\n",
      " 80%|█████████████████████████████▋       | 2413/3005 [00:00<00:00, 4212.88it/s]/usr/local/lib/python3.10/dist-packages/joblib/externals/loky/process_executor.py:752: UserWarning: A worker stopped while some jobs were given to the executor. This can be caused by a too short worker timeout or by a memory leak.\n",
      "  warnings.warn(\n",
      "100%|█████████████████████████████████████| 3005/3005 [00:01<00:00, 2179.62it/s]\n",
      "2024-12-04 21:29:59.923056: E external/local_xla/xla/stream_executor/cuda/cuda_dnn.cc:9261] Unable to register cuDNN factory: Attempting to register factory for plugin cuDNN when one has already been registered\n",
      "2024-12-04 21:29:59.923086: E external/local_xla/xla/stream_executor/cuda/cuda_fft.cc:607] Unable to register cuFFT factory: Attempting to register factory for plugin cuFFT when one has already been registered\n",
      "2024-12-04 21:29:59.928117: E external/local_xla/xla/stream_executor/cuda/cuda_blas.cc:1515] Unable to register cuBLAS factory: Attempting to register factory for plugin cuBLAS when one has already been registered\n",
      "2024-12-04 21:29:59.936388: I tensorflow/core/platform/cpu_feature_guard.cc:182] This TensorFlow binary is optimized to use available CPU instructions in performance-critical operations.\n",
      "To enable the following instructions: AVX2 FMA, in other operations, rebuild TensorFlow with the appropriate compiler flags.\n",
      "2024-12-04 21:30:00.670005: E external/local_xla/xla/stream_executor/cuda/cuda_dnn.cc:9261] Unable to register cuDNN factory: Attempting to register factory for plugin cuDNN when one has already been registered\n",
      "2024-12-04 21:30:00.670033: E external/local_xla/xla/stream_executor/cuda/cuda_fft.cc:607] Unable to register cuFFT factory: Attempting to register factory for plugin cuFFT when one has already been registered\n",
      "2024-12-04 21:30:00.671027: E external/local_xla/xla/stream_executor/cuda/cuda_blas.cc:1515] Unable to register cuBLAS factory: Attempting to register factory for plugin cuBLAS when one has already been registered\n",
      "2024-12-04 21:30:00.676856: I tensorflow/core/platform/cpu_feature_guard.cc:182] This TensorFlow binary is optimized to use available CPU instructions in performance-critical operations.\n",
      "To enable the following instructions: AVX2 FMA, in other operations, rebuild TensorFlow with the appropriate compiler flags.\n",
      "2024-12-04 21:30:01.039461: W tensorflow/compiler/tf2tensorrt/utils/py_utils.cc:38] TF-TRT Warning: Could not find TensorRT\n",
      "2024-12-04 21:30:01.625054: W tensorflow/compiler/tf2tensorrt/utils/py_utils.cc:38] TF-TRT Warning: Could not find TensorRT\n",
      "100%|█████████████████████████████████████| 5260/5260 [00:01<00:00, 3302.32it/s]\n",
      "100%|███████████████████████████████████████| 183/183 [00:00<00:00, 2324.64it/s]\n",
      "100%|█████████████████████████████████████| 2699/2699 [00:00<00:00, 3559.06it/s]\n",
      "100%|█████████████████████████████████████| 1307/1307 [00:00<00:00, 5106.04it/s]\n",
      "100%|█████████████████████████████████████| 6857/6857 [00:01<00:00, 4028.55it/s]\n",
      "100%|█████████████████████████████████████| 6858/6858 [00:02<00:00, 2753.29it/s]\n",
      "100%|███████████████████████████████████████| 129/129 [00:00<00:00, 2383.04it/s]\n",
      "100%|█████████████████████████████████████████| 30/30 [00:00<00:00, 1393.09it/s]\n",
      "100%|███████████████████████████████████████| 450/450 [00:00<00:00, 2888.22it/s]\n",
      "100%|███████████████████████████████████████| 218/218 [00:00<00:00, 2404.59it/s]\n",
      "100%|█████████████████████████████████████| 1143/1143 [00:00<00:00, 4085.16it/s]\n",
      "100%|█████████████████████████████████████| 1142/1142 [00:00<00:00, 4329.60it/s]\n",
      "100%|█████████████████████████████████████████| 22/22 [00:00<00:00, 2034.18it/s]\n",
      "100%|█████████████████████████████████████████| 53/53 [00:00<00:00, 1328.79it/s]\n",
      "100%|███████████████████████████████████████| 788/788 [00:00<00:00, 3868.87it/s]\n",
      "100%|███████████████████████████████████████| 381/381 [00:00<00:00, 3359.48it/s]\n",
      "100%|█████████████████████████████████████| 2000/2000 [00:00<00:00, 4393.61it/s]\n",
      "100%|█████████████████████████████████████| 2000/2000 [00:00<00:00, 4317.78it/s]\n",
      "100%|█████████████████████████████████████████| 38/38 [00:00<00:00, 3759.93it/s]\n"
     ]
    },
    {
     "name": "stdout",
     "output_type": "stream",
     "text": [
      "../../01_CreateFolds/PanStarrs/Folds/Fold_5/train.csv\n",
      "../../01_CreateFolds/PanStarrs/Folds/Fold_5/val.csv\n",
      "../../01_CreateFolds/PanStarrs/Folds/test.csv\n",
      "./Folds/Fold_5/\n"
     ]
    },
    {
     "name": "stderr",
     "output_type": "stream",
     "text": [
      "100%|███████████████████████████████████| 18033/18033 [00:07<00:00, 2282.05it/s]\n",
      "100%|█████████████████████████████████████| 3005/3005 [00:01<00:00, 2235.65it/s]\n",
      "100%|█████████████████████████████████████| 5260/5260 [00:01<00:00, 2705.65it/s]\n",
      "100%|███████████████████████████████████████| 183/183 [00:00<00:00, 2526.03it/s]\n",
      "100%|█████████████████████████████████████| 2700/2700 [00:00<00:00, 4661.19it/s]\n",
      "100%|█████████████████████████████████████| 1307/1307 [00:00<00:00, 4987.93it/s]\n",
      "100%|█████████████████████████████████████| 6857/6857 [00:02<00:00, 2777.26it/s]\n",
      "100%|█████████████████████████████████████| 6857/6857 [00:01<00:00, 4033.55it/s]\n",
      "100%|███████████████████████████████████████| 129/129 [00:00<00:00, 1974.47it/s]\n",
      "100%|█████████████████████████████████████████| 30/30 [00:00<00:00, 1799.18it/s]\n",
      "100%|███████████████████████████████████████| 449/449 [00:00<00:00, 2756.05it/s]\n",
      "100%|███████████████████████████████████████| 218/218 [00:00<00:00, 2344.34it/s]\n",
      "100%|█████████████████████████████████████| 1143/1143 [00:00<00:00, 4774.87it/s]\n",
      "100%|█████████████████████████████████████| 1143/1143 [00:00<00:00, 4643.47it/s]\n",
      "100%|█████████████████████████████████████████| 22/22 [00:00<00:00, 2865.41it/s]\n",
      "100%|█████████████████████████████████████████| 53/53 [00:00<00:00, 2088.82it/s]\n",
      "100%|███████████████████████████████████████| 788/788 [00:00<00:00, 4145.07it/s]\n",
      "100%|███████████████████████████████████████| 381/381 [00:00<00:00, 3161.20it/s]\n",
      "100%|█████████████████████████████████████| 2000/2000 [00:00<00:00, 4619.01it/s]\n",
      "100%|█████████████████████████████████████| 2000/2000 [00:00<00:00, 4382.90it/s]\n",
      "100%|█████████████████████████████████████████| 38/38 [00:00<00:00, 1588.10it/s]\n"
     ]
    },
    {
     "name": "stdout",
     "output_type": "stream",
     "text": [
      "../../01_CreateFolds/PanStarrs/Folds/Fold_6/train.csv\n",
      "../../01_CreateFolds/PanStarrs/Folds/Fold_6/val.csv\n",
      "../../01_CreateFolds/PanStarrs/Folds/test.csv\n",
      "./Folds/Fold_6/\n"
     ]
    },
    {
     "name": "stderr",
     "output_type": "stream",
     "text": [
      "100%|███████████████████████████████████| 18033/18033 [00:07<00:00, 2300.10it/s]\n",
      "/usr/local/lib/python3.10/dist-packages/joblib/externals/loky/process_executor.py:752: UserWarning: A worker stopped while some jobs were given to the executor. This can be caused by a too short worker timeout or by a memory leak.\n",
      "  warnings.warn(\n",
      " 29%|███████████▏                          | 882/3005 [00:00<00:00, 2562.75it/s]2024-12-04 21:31:17.218588: E external/local_xla/xla/stream_executor/cuda/cuda_dnn.cc:9261] Unable to register cuDNN factory: Attempting to register factory for plugin cuDNN when one has already been registered\n",
      " 40%|██████████████▋                      | 1189/3005 [00:00<00:01, 1213.31it/s]2024-12-04 21:31:17.218624: E external/local_xla/xla/stream_executor/cuda/cuda_fft.cc:607] Unable to register cuFFT factory: Attempting to register factory for plugin cuFFT when one has already been registered\n",
      "2024-12-04 21:31:17.219582: E external/local_xla/xla/stream_executor/cuda/cuda_blas.cc:1515] Unable to register cuBLAS factory: Attempting to register factory for plugin cuBLAS when one has already been registered\n",
      "2024-12-04 21:31:17.225306: I tensorflow/core/platform/cpu_feature_guard.cc:182] This TensorFlow binary is optimized to use available CPU instructions in performance-critical operations.\n",
      "To enable the following instructions: AVX2 FMA, in other operations, rebuild TensorFlow with the appropriate compiler flags.\n",
      "100%|█████████████████████████████████████| 3005/3005 [00:01<00:00, 1864.57it/s]\n",
      "2024-12-04 21:31:18.579210: W tensorflow/compiler/tf2tensorrt/utils/py_utils.cc:38] TF-TRT Warning: Could not find TensorRT\n",
      " 76%|████████████████████████████▎        | 4018/5260 [00:02<00:00, 1406.28it/s]2024-12-04 21:31:21.901828: E external/local_xla/xla/stream_executor/cuda/cuda_dnn.cc:9261] Unable to register cuDNN factory: Attempting to register factory for plugin cuDNN when one has already been registered\n",
      "2024-12-04 21:31:21.901864: E external/local_xla/xla/stream_executor/cuda/cuda_fft.cc:607] Unable to register cuFFT factory: Attempting to register factory for plugin cuFFT when one has already been registered\n",
      "2024-12-04 21:31:21.902823: E external/local_xla/xla/stream_executor/cuda/cuda_blas.cc:1515] Unable to register cuBLAS factory: Attempting to register factory for plugin cuBLAS when one has already been registered\n",
      "2024-12-04 21:31:21.908460: I tensorflow/core/platform/cpu_feature_guard.cc:182] This TensorFlow binary is optimized to use available CPU instructions in performance-critical operations.\n",
      "To enable the following instructions: AVX2 FMA, in other operations, rebuild TensorFlow with the appropriate compiler flags.\n",
      " 85%|████████████████████████████████▎     | 4466/5260 [00:02<00:00, 989.85it/s]2024-12-04 21:31:22.938021: E external/local_xla/xla/stream_executor/cuda/cuda_dnn.cc:9261] Unable to register cuDNN factory: Attempting to register factory for plugin cuDNN when one has already been registered\n",
      "2024-12-04 21:31:22.938332: E external/local_xla/xla/stream_executor/cuda/cuda_fft.cc:607] Unable to register cuFFT factory: Attempting to register factory for plugin cuFFT when one has already been registered\n",
      "2024-12-04 21:31:22.939834: E external/local_xla/xla/stream_executor/cuda/cuda_blas.cc:1515] Unable to register cuBLAS factory: Attempting to register factory for plugin cuBLAS when one has already been registered\n",
      "2024-12-04 21:31:22.948811: I tensorflow/core/platform/cpu_feature_guard.cc:182] This TensorFlow binary is optimized to use available CPU instructions in performance-critical operations.\n",
      "To enable the following instructions: AVX2 FMA, in other operations, rebuild TensorFlow with the appropriate compiler flags.\n",
      "2024-12-04 21:31:22.962832: W tensorflow/compiler/tf2tensorrt/utils/py_utils.cc:38] TF-TRT Warning: Could not find TensorRT\n",
      "100%|█████████████████████████████████████| 5260/5260 [00:03<00:00, 1375.79it/s]\n",
      "2024-12-04 21:31:23.752538: E external/local_xla/xla/stream_executor/cuda/cuda_dnn.cc:9261] Unable to register cuDNN factory: Attempting to register factory for plugin cuDNN when one has already been registered\n",
      "2024-12-04 21:31:23.752566: E external/local_xla/xla/stream_executor/cuda/cuda_fft.cc:607] Unable to register cuFFT factory: Attempting to register factory for plugin cuFFT when one has already been registered\n",
      "2024-12-04 21:31:23.753512: E external/local_xla/xla/stream_executor/cuda/cuda_blas.cc:1515] Unable to register cuBLAS factory: Attempting to register factory for plugin cuBLAS when one has already been registered\n",
      "2024-12-04 21:31:23.759048: I tensorflow/core/platform/cpu_feature_guard.cc:182] This TensorFlow binary is optimized to use available CPU instructions in performance-critical operations.\n",
      "To enable the following instructions: AVX2 FMA, in other operations, rebuild TensorFlow with the appropriate compiler flags.\n",
      "2024-12-04 21:31:24.167351: W tensorflow/compiler/tf2tensorrt/utils/py_utils.cc:38] TF-TRT Warning: Could not find TensorRT\n",
      "2024-12-04 21:31:24.702761: W tensorflow/compiler/tf2tensorrt/utils/py_utils.cc:38] TF-TRT Warning: Could not find TensorRT\n",
      "100%|███████████████████████████████████████| 183/183 [00:00<00:00, 2045.99it/s]\n",
      "100%|█████████████████████████████████████| 2699/2699 [00:00<00:00, 4343.64it/s]\n",
      "100%|█████████████████████████████████████| 1307/1307 [00:00<00:00, 5010.21it/s]\n",
      "100%|█████████████████████████████████████| 6858/6858 [00:02<00:00, 2762.79it/s]\n",
      "100%|█████████████████████████████████████| 6857/6857 [00:01<00:00, 3819.11it/s]\n",
      "100%|███████████████████████████████████████| 129/129 [00:00<00:00, 2000.81it/s]\n",
      "100%|█████████████████████████████████████████| 30/30 [00:00<00:00, 1454.39it/s]\n",
      "100%|███████████████████████████████████████| 450/450 [00:00<00:00, 2917.42it/s]\n",
      "100%|███████████████████████████████████████| 218/218 [00:00<00:00, 2394.25it/s]\n",
      "100%|█████████████████████████████████████| 1142/1142 [00:00<00:00, 4539.10it/s]\n",
      "100%|█████████████████████████████████████| 1143/1143 [00:00<00:00, 4645.72it/s]\n",
      "100%|█████████████████████████████████████████| 22/22 [00:00<00:00, 1510.25it/s]\n",
      "100%|█████████████████████████████████████████| 53/53 [00:00<00:00, 1773.09it/s]\n",
      "100%|███████████████████████████████████████| 788/788 [00:00<00:00, 3930.05it/s]\n",
      "100%|███████████████████████████████████████| 381/381 [00:00<00:00, 3189.75it/s]\n",
      "100%|█████████████████████████████████████| 2000/2000 [00:00<00:00, 4395.78it/s]\n",
      "100%|█████████████████████████████████████| 2000/2000 [00:00<00:00, 3975.13it/s]\n",
      "100%|█████████████████████████████████████████| 38/38 [00:00<00:00, 1812.95it/s]\n"
     ]
    },
    {
     "name": "stdout",
     "output_type": "stream",
     "text": [
      "../../01_CreateFolds/PanStarrs/Folds/Fold_7/train.csv\n",
      "../../01_CreateFolds/PanStarrs/Folds/Fold_7/val.csv\n",
      "../../01_CreateFolds/PanStarrs/Folds/test.csv\n",
      "./Folds/Fold_7/\n"
     ]
    },
    {
     "name": "stderr",
     "output_type": "stream",
     "text": [
      " 46%|████████████████▌                   | 8304/18033 [00:03<00:04, 2218.06it/s]/usr/local/lib/python3.10/dist-packages/joblib/externals/loky/process_executor.py:752: UserWarning: A worker stopped while some jobs were given to the executor. This can be caused by a too short worker timeout or by a memory leak.\n",
      "  warnings.warn(\n",
      " 60%|████████████████████▊              | 10743/18033 [00:05<00:04, 1632.91it/s]2024-12-04 21:31:56.457497: E external/local_xla/xla/stream_executor/cuda/cuda_dnn.cc:9261] Unable to register cuDNN factory: Attempting to register factory for plugin cuDNN when one has already been registered\n",
      "2024-12-04 21:31:56.457533: E external/local_xla/xla/stream_executor/cuda/cuda_fft.cc:607] Unable to register cuFFT factory: Attempting to register factory for plugin cuFFT when one has already been registered\n",
      "2024-12-04 21:31:56.458950: E external/local_xla/xla/stream_executor/cuda/cuda_blas.cc:1515] Unable to register cuBLAS factory: Attempting to register factory for plugin cuBLAS when one has already been registered\n",
      "2024-12-04 21:31:56.467914: I tensorflow/core/platform/cpu_feature_guard.cc:182] This TensorFlow binary is optimized to use available CPU instructions in performance-critical operations.\n",
      "To enable the following instructions: AVX2 FMA, in other operations, rebuild TensorFlow with the appropriate compiler flags.\n",
      " 73%|█████████████████████████▋         | 13252/18033 [00:06<00:01, 2561.52it/s]2024-12-04 21:31:57.913416: W tensorflow/compiler/tf2tensorrt/utils/py_utils.cc:38] TF-TRT Warning: Could not find TensorRT\n",
      " 85%|█████████████████████████████▌     | 15263/18033 [00:07<00:01, 1432.92it/s]2024-12-04 21:31:59.270295: E external/local_xla/xla/stream_executor/cuda/cuda_dnn.cc:9261] Unable to register cuDNN factory: Attempting to register factory for plugin cuDNN when one has already been registered\n",
      "2024-12-04 21:31:59.270360: E external/local_xla/xla/stream_executor/cuda/cuda_fft.cc:607] Unable to register cuFFT factory: Attempting to register factory for plugin cuFFT when one has already been registered\n",
      "2024-12-04 21:31:59.271777: E external/local_xla/xla/stream_executor/cuda/cuda_blas.cc:1515] Unable to register cuBLAS factory: Attempting to register factory for plugin cuBLAS when one has already been registered\n",
      "2024-12-04 21:31:59.281115: I tensorflow/core/platform/cpu_feature_guard.cc:182] This TensorFlow binary is optimized to use available CPU instructions in performance-critical operations.\n",
      "To enable the following instructions: AVX2 FMA, in other operations, rebuild TensorFlow with the appropriate compiler flags.\n",
      "100%|███████████████████████████████████| 18033/18033 [00:09<00:00, 1930.25it/s]\n",
      "2024-12-04 21:32:00.671376: W tensorflow/compiler/tf2tensorrt/utils/py_utils.cc:38] TF-TRT Warning: Could not find TensorRT\n",
      "100%|█████████████████████████████████████| 3005/3005 [00:01<00:00, 2945.98it/s]\n",
      "100%|█████████████████████████████████████| 5260/5260 [00:02<00:00, 2620.63it/s]\n",
      "100%|███████████████████████████████████████| 183/183 [00:00<00:00, 2468.98it/s]\n",
      "100%|█████████████████████████████████████| 2699/2699 [00:00<00:00, 4481.43it/s]\n",
      "100%|█████████████████████████████████████| 1308/1308 [00:00<00:00, 5309.28it/s]\n",
      "100%|█████████████████████████████████████| 6857/6857 [00:01<00:00, 4011.84it/s]\n",
      "100%|█████████████████████████████████████| 6857/6857 [00:02<00:00, 3102.16it/s]\n",
      "100%|███████████████████████████████████████| 129/129 [00:00<00:00, 2019.63it/s]\n",
      "100%|█████████████████████████████████████████| 30/30 [00:00<00:00, 1192.27it/s]\n",
      "100%|███████████████████████████████████████| 450/450 [00:00<00:00, 2872.33it/s]\n",
      "100%|███████████████████████████████████████| 217/217 [00:00<00:00, 2239.38it/s]\n",
      "100%|█████████████████████████████████████| 1143/1143 [00:00<00:00, 4491.49it/s]\n",
      "100%|█████████████████████████████████████| 1143/1143 [00:00<00:00, 4420.22it/s]\n",
      "100%|█████████████████████████████████████████| 22/22 [00:00<00:00, 1362.45it/s]\n",
      "100%|█████████████████████████████████████████| 53/53 [00:00<00:00, 1168.04it/s]\n",
      "100%|███████████████████████████████████████| 788/788 [00:00<00:00, 3897.83it/s]\n",
      "100%|███████████████████████████████████████| 381/381 [00:00<00:00, 3226.84it/s]\n",
      "100%|█████████████████████████████████████| 2000/2000 [00:00<00:00, 4486.96it/s]\n",
      "100%|█████████████████████████████████████| 2000/2000 [00:00<00:00, 4520.72it/s]\n",
      "100%|█████████████████████████████████████████| 38/38 [00:00<00:00, 1743.14it/s]\n"
     ]
    }
   ],
   "source": [
    "# Create the container folder\n",
    "if not os.path.exists('./Folds'):\n",
    "    os.mkdir('./Folds')\n",
    "    \n",
    "for fold in folds:\n",
    "    train_val = glob(os.path.join(fold, '*'))\n",
    "    train_path = [i for i in train_val if 'train' in i][0]\n",
    "    val_path = [i for i in train_val if 'val' in i][0]\n",
    "    \n",
    "    path_fold = fold.replace('../../01_CreateFolds/'+survey,'.')+'/'\n",
    "    if not os.path.exists(path_fold):\n",
    "        os.mkdir(path_fold)\n",
    "    print(train_path)\n",
    "    print(val_path)\n",
    "    print(test_path)\n",
    "    print(path_fold)\n",
    "    \n",
    "    kwargs2['file_train']=train_path\n",
    "    kwargs2['file_val'] =val_path\n",
    "    kwargs2['file_test'] =test_path\n",
    "    kwargs2['save_dir'] = path_fold\n",
    "    P.prepare(**kwargs2)\n",
    "    \n",
    "    "
   ]
  },
  {
   "cell_type": "code",
   "execution_count": null,
   "metadata": {},
   "outputs": [],
   "source": []
  },
  {
   "cell_type": "code",
   "execution_count": null,
   "metadata": {},
   "outputs": [],
   "source": []
  },
  {
   "cell_type": "code",
   "execution_count": null,
   "metadata": {},
   "outputs": [],
   "source": []
  }
 ],
 "metadata": {
  "kernelspec": {
   "display_name": "Python 3 (ipykernel)",
   "language": "python",
   "name": "python3"
  },
  "language_info": {
   "codemirror_mode": {
    "name": "ipython",
    "version": 3
   },
   "file_extension": ".py",
   "mimetype": "text/x-python",
   "name": "python",
   "nbconvert_exporter": "python",
   "pygments_lexer": "ipython3",
   "version": "3.10.12"
  }
 },
 "nbformat": 4,
 "nbformat_minor": 4
}
