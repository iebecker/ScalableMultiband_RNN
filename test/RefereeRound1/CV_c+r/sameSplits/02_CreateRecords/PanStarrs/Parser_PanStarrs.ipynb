{
 "cells": [
  {
   "cell_type": "code",
   "execution_count": 1,
   "metadata": {},
   "outputs": [
    {
     "name": "stderr",
     "output_type": "stream",
     "text": [
      "2024-08-30 12:18:40.683209: E external/local_xla/xla/stream_executor/cuda/cuda_dnn.cc:9261] Unable to register cuDNN factory: Attempting to register factory for plugin cuDNN when one has already been registered\n",
      "2024-08-30 12:18:40.683255: E external/local_xla/xla/stream_executor/cuda/cuda_fft.cc:607] Unable to register cuFFT factory: Attempting to register factory for plugin cuFFT when one has already been registered\n",
      "2024-08-30 12:18:40.684767: E external/local_xla/xla/stream_executor/cuda/cuda_blas.cc:1515] Unable to register cuBLAS factory: Attempting to register factory for plugin cuBLAS when one has already been registered\n",
      "2024-08-30 12:18:40.694340: I tensorflow/core/platform/cpu_feature_guard.cc:182] This TensorFlow binary is optimized to use available CPU instructions in performance-critical operations.\n",
      "To enable the following instructions: AVX2 FMA, in other operations, rebuild TensorFlow with the appropriate compiler flags.\n",
      "2024-08-30 12:18:41.883676: W tensorflow/compiler/tf2tensorrt/utils/py_utils.cc:38] TF-TRT Warning: Could not find TensorRT\n"
     ]
    }
   ],
   "source": [
    "import os\n",
    "from glob import glob\n",
    "\n",
    "from ScalableLib.base.Load_Process import prepData"
   ]
  },
  {
   "cell_type": "markdown",
   "metadata": {},
   "source": [
    "Get the different fold files. Tran-val and test sets."
   ]
  },
  {
   "cell_type": "code",
   "execution_count": 2,
   "metadata": {},
   "outputs": [],
   "source": [
    "survey = 'PanStarrs'"
   ]
  },
  {
   "cell_type": "code",
   "execution_count": 3,
   "metadata": {},
   "outputs": [
    {
     "data": {
      "text/plain": [
       "['../../01_CreateFolds/PanStarrs/Folds/Fold_1',\n",
       " '../../01_CreateFolds/PanStarrs/Folds/Fold_2',\n",
       " '../../01_CreateFolds/PanStarrs/Folds/Fold_3',\n",
       " '../../01_CreateFolds/PanStarrs/Folds/Fold_4',\n",
       " '../../01_CreateFolds/PanStarrs/Folds/Fold_5',\n",
       " '../../01_CreateFolds/PanStarrs/Folds/Fold_6',\n",
       " '../../01_CreateFolds/PanStarrs/Folds/Fold_7']"
      ]
     },
     "execution_count": 3,
     "metadata": {},
     "output_type": "execute_result"
    }
   ],
   "source": [
    "\n",
    "path_folds = os.path.join('../../01_CreateFolds/{}/Folds/*'.format(survey))\n",
    "\n",
    "# Get the folder paths\n",
    "folds = glob(path_folds)\n",
    "# Get the test file path\n",
    "test_path = [i for i in folds if 'test' in i][0]\n",
    "# Remove the test path from the list\n",
    "folds.remove(test_path)\n",
    "# Sort to work from the first fold onwards\n",
    "folds.sort()\n",
    "folds"
   ]
  },
  {
   "cell_type": "markdown",
   "metadata": {},
   "source": [
    "For each fold, process the information and store it.\n",
    "\n",
    "The **P** object is defined with its keyword arguments. \n",
    "\n",
    "Then the kwargs are defined to be used as inputs of the prepare method."
   ]
  },
  {
   "cell_type": "code",
   "execution_count": 4,
   "metadata": {},
   "outputs": [],
   "source": [
    "kwargs1={\n",
    "'max_l' : 10000,\n",
    "'min_l' : 100,\n",
    "'min_n': 4,\n",
    "'max_n' : 1000,\n",
    "'w' : 2,\n",
    "'s':1,\n",
    "'njobs':7,\n",
    "'n_bands':5,\n",
    "}\n",
    "P = prepData(**kwargs1)"
   ]
  },
  {
   "cell_type": "code",
   "execution_count": 5,
   "metadata": {},
   "outputs": [],
   "source": [
    "kwargs2={\n",
    "    'dataset_header': ['ID', 'Path', 'Class', 'N', 'N_g', 'N_r', 'N_i', 'N_z', 'N_y' ],\n",
    "    'lc_parameters':{'sep':';', 'header':0, 'na_filter':True, 'engine':'c'},\n",
    "    'params_phys':  [ 'T_eff','Lum','Mass', 'rho','Radius', 'logg'], \n",
    "    'params_phys_est': []    \n",
    "}"
   ]
  },
  {
   "cell_type": "code",
   "execution_count": 6,
   "metadata": {
    "tags": []
   },
   "outputs": [
    {
     "name": "stdout",
     "output_type": "stream",
     "text": [
      "../../01_CreateFolds/PanStarrs/Folds/Fold_1/train.csv\n",
      "../../01_CreateFolds/PanStarrs/Folds/Fold_1/val.csv\n",
      "../../01_CreateFolds/PanStarrs/Folds/test.csv\n",
      "./Folds/Fold_1/\n"
     ]
    },
    {
     "name": "stderr",
     "output_type": "stream",
     "text": [
      "  0%|                                         | 7/18032 [00:00<07:57, 37.74it/s]2024-08-30 12:18:44.795499: E external/local_xla/xla/stream_executor/cuda/cuda_dnn.cc:9261] Unable to register cuDNN factory: Attempting to register factory for plugin cuDNN when one has already been registered\n",
      "2024-08-30 12:18:44.795541: E external/local_xla/xla/stream_executor/cuda/cuda_fft.cc:607] Unable to register cuFFT factory: Attempting to register factory for plugin cuFFT when one has already been registered\n",
      "2024-08-30 12:18:44.797034: E external/local_xla/xla/stream_executor/cuda/cuda_blas.cc:1515] Unable to register cuBLAS factory: Attempting to register factory for plugin cuBLAS when one has already been registered\n",
      "2024-08-30 12:18:44.806104: I tensorflow/core/platform/cpu_feature_guard.cc:182] This TensorFlow binary is optimized to use available CPU instructions in performance-critical operations.\n",
      "To enable the following instructions: AVX2 FMA, in other operations, rebuild TensorFlow with the appropriate compiler flags.\n",
      "2024-08-30 12:18:44.818865: E external/local_xla/xla/stream_executor/cuda/cuda_dnn.cc:9261] Unable to register cuDNN factory: Attempting to register factory for plugin cuDNN when one has already been registered\n",
      "2024-08-30 12:18:44.819093: E external/local_xla/xla/stream_executor/cuda/cuda_fft.cc:607] Unable to register cuFFT factory: Attempting to register factory for plugin cuFFT when one has already been registered\n",
      "2024-08-30 12:18:44.820618: E external/local_xla/xla/stream_executor/cuda/cuda_blas.cc:1515] Unable to register cuBLAS factory: Attempting to register factory for plugin cuBLAS when one has already been registered\n",
      "2024-08-30 12:18:44.832185: I tensorflow/core/platform/cpu_feature_guard.cc:182] This TensorFlow binary is optimized to use available CPU instructions in performance-critical operations.\n",
      "To enable the following instructions: AVX2 FMA, in other operations, rebuild TensorFlow with the appropriate compiler flags.\n",
      "2024-08-30 12:18:44.859769: E external/local_xla/xla/stream_executor/cuda/cuda_dnn.cc:9261] Unable to register cuDNN factory: Attempting to register factory for plugin cuDNN when one has already been registered\n",
      "2024-08-30 12:18:44.859811: E external/local_xla/xla/stream_executor/cuda/cuda_fft.cc:607] Unable to register cuFFT factory: Attempting to register factory for plugin cuFFT when one has already been registered\n",
      "2024-08-30 12:18:44.863446: E external/local_xla/xla/stream_executor/cuda/cuda_blas.cc:1515] Unable to register cuBLAS factory: Attempting to register factory for plugin cuBLAS when one has already been registered\n",
      "2024-08-30 12:18:44.874415: I tensorflow/core/platform/cpu_feature_guard.cc:182] This TensorFlow binary is optimized to use available CPU instructions in performance-critical operations.\n",
      "To enable the following instructions: AVX2 FMA, in other operations, rebuild TensorFlow with the appropriate compiler flags.\n",
      "2024-08-30 12:18:44.877034: E external/local_xla/xla/stream_executor/cuda/cuda_dnn.cc:9261] Unable to register cuDNN factory: Attempting to register factory for plugin cuDNN when one has already been registered\n",
      "2024-08-30 12:18:44.877075: E external/local_xla/xla/stream_executor/cuda/cuda_fft.cc:607] Unable to register cuFFT factory: Attempting to register factory for plugin cuFFT when one has already been registered\n",
      "2024-08-30 12:18:44.878559: E external/local_xla/xla/stream_executor/cuda/cuda_blas.cc:1515] Unable to register cuBLAS factory: Attempting to register factory for plugin cuBLAS when one has already been registered\n",
      "2024-08-30 12:18:44.880490: E external/local_xla/xla/stream_executor/cuda/cuda_dnn.cc:9261] Unable to register cuDNN factory: Attempting to register factory for plugin cuDNN when one has already been registered\n",
      "2024-08-30 12:18:44.880528: E external/local_xla/xla/stream_executor/cuda/cuda_fft.cc:607] Unable to register cuFFT factory: Attempting to register factory for plugin cuFFT when one has already been registered\n",
      "2024-08-30 12:18:44.882042: E external/local_xla/xla/stream_executor/cuda/cuda_blas.cc:1515] Unable to register cuBLAS factory: Attempting to register factory for plugin cuBLAS when one has already been registered\n",
      "2024-08-30 12:18:44.887344: I tensorflow/core/platform/cpu_feature_guard.cc:182] This TensorFlow binary is optimized to use available CPU instructions in performance-critical operations.\n",
      "To enable the following instructions: AVX2 FMA, in other operations, rebuild TensorFlow with the appropriate compiler flags.\n",
      "2024-08-30 12:18:44.891266: I tensorflow/core/platform/cpu_feature_guard.cc:182] This TensorFlow binary is optimized to use available CPU instructions in performance-critical operations.\n",
      "To enable the following instructions: AVX2 FMA, in other operations, rebuild TensorFlow with the appropriate compiler flags.\n",
      "2024-08-30 12:18:44.895068: E external/local_xla/xla/stream_executor/cuda/cuda_dnn.cc:9261] Unable to register cuDNN factory: Attempting to register factory for plugin cuDNN when one has already been registered\n",
      "2024-08-30 12:18:44.895292: E external/local_xla/xla/stream_executor/cuda/cuda_fft.cc:607] Unable to register cuFFT factory: Attempting to register factory for plugin cuFFT when one has already been registered\n",
      "2024-08-30 12:18:44.896896: E external/local_xla/xla/stream_executor/cuda/cuda_blas.cc:1515] Unable to register cuBLAS factory: Attempting to register factory for plugin cuBLAS when one has already been registered\n",
      "2024-08-30 12:18:44.906551: I tensorflow/core/platform/cpu_feature_guard.cc:182] This TensorFlow binary is optimized to use available CPU instructions in performance-critical operations.\n",
      "To enable the following instructions: AVX2 FMA, in other operations, rebuild TensorFlow with the appropriate compiler flags.\n",
      "2024-08-30 12:18:45.046401: E external/local_xla/xla/stream_executor/cuda/cuda_dnn.cc:9261] Unable to register cuDNN factory: Attempting to register factory for plugin cuDNN when one has already been registered\n",
      "2024-08-30 12:18:45.046444: E external/local_xla/xla/stream_executor/cuda/cuda_fft.cc:607] Unable to register cuFFT factory: Attempting to register factory for plugin cuFFT when one has already been registered\n",
      "2024-08-30 12:18:45.047964: E external/local_xla/xla/stream_executor/cuda/cuda_blas.cc:1515] Unable to register cuBLAS factory: Attempting to register factory for plugin cuBLAS when one has already been registered\n",
      "2024-08-30 12:18:45.057127: I tensorflow/core/platform/cpu_feature_guard.cc:182] This TensorFlow binary is optimized to use available CPU instructions in performance-critical operations.\n",
      "To enable the following instructions: AVX2 FMA, in other operations, rebuild TensorFlow with the appropriate compiler flags.\n",
      "2024-08-30 12:18:46.475173: W tensorflow/compiler/tf2tensorrt/utils/py_utils.cc:38] TF-TRT Warning: Could not find TensorRT\n",
      "2024-08-30 12:18:46.513981: W tensorflow/compiler/tf2tensorrt/utils/py_utils.cc:38] TF-TRT Warning: Could not find TensorRT\n",
      "2024-08-30 12:18:46.519518: W tensorflow/compiler/tf2tensorrt/utils/py_utils.cc:38] TF-TRT Warning: Could not find TensorRT\n",
      "2024-08-30 12:18:46.733994: W tensorflow/compiler/tf2tensorrt/utils/py_utils.cc:38] TF-TRT Warning: Could not find TensorRT\n",
      "2024-08-30 12:18:46.756614: W tensorflow/compiler/tf2tensorrt/utils/py_utils.cc:38] TF-TRT Warning: Could not find TensorRT\n",
      "2024-08-30 12:18:46.779647: W tensorflow/compiler/tf2tensorrt/utils/py_utils.cc:38] TF-TRT Warning: Could not find TensorRT\n",
      "2024-08-30 12:18:46.809257: W tensorflow/compiler/tf2tensorrt/utils/py_utils.cc:38] TF-TRT Warning: Could not find TensorRT\n",
      "100%|████████████████████████████████████| 18032/18032 [00:23<00:00, 774.05it/s]\n",
      "100%|██████████████████████████████████████| 3006/3006 [00:03<00:00, 981.50it/s]\n",
      "100%|██████████████████████████████████████| 5260/5260 [00:05<00:00, 963.76it/s]\n",
      "100%|█████████████████████████████████████| 6857/6857 [00:04<00:00, 1572.93it/s]\n",
      "100%|███████████████████████████████████████| 130/130 [00:00<00:00, 1156.57it/s]\n",
      "100%|███████████████████████████████████████| 182/182 [00:00<00:00, 1246.77it/s]\n",
      "100%|█████████████████████████████████████| 2699/2699 [00:01<00:00, 1617.29it/s]\n",
      "100%|█████████████████████████████████████| 6857/6857 [00:04<00:00, 1637.12it/s]\n",
      "100%|█████████████████████████████████████| 1307/1307 [00:00<00:00, 2823.43it/s]\n",
      "100%|█████████████████████████████████████| 1143/1143 [00:00<00:00, 1651.53it/s]\n",
      "100%|█████████████████████████████████████████| 21/21 [00:00<00:00, 1302.96it/s]\n",
      "100%|██████████████████████████████████████████| 31/31 [00:00<00:00, 853.18it/s]\n",
      "100%|███████████████████████████████████████| 450/450 [00:00<00:00, 1627.87it/s]\n",
      "100%|█████████████████████████████████████| 1143/1143 [00:00<00:00, 2343.17it/s]\n",
      "100%|███████████████████████████████████████| 218/218 [00:00<00:00, 1438.86it/s]\n",
      "100%|█████████████████████████████████████| 2000/2000 [00:00<00:00, 2342.85it/s]\n",
      "100%|█████████████████████████████████████████| 38/38 [00:00<00:00, 1986.78it/s]\n",
      "100%|█████████████████████████████████████████| 53/53 [00:00<00:00, 1511.27it/s]\n",
      "100%|███████████████████████████████████████| 788/788 [00:00<00:00, 2242.14it/s]\n",
      "100%|█████████████████████████████████████| 2000/2000 [00:01<00:00, 1574.08it/s]\n",
      "100%|███████████████████████████████████████| 381/381 [00:00<00:00, 1845.16it/s]\n"
     ]
    },
    {
     "name": "stdout",
     "output_type": "stream",
     "text": [
      "../../01_CreateFolds/PanStarrs/Folds/Fold_2/train.csv\n",
      "../../01_CreateFolds/PanStarrs/Folds/Fold_2/val.csv\n",
      "../../01_CreateFolds/PanStarrs/Folds/test.csv\n",
      "./Folds/Fold_2/\n"
     ]
    },
    {
     "name": "stderr",
     "output_type": "stream",
     "text": [
      "100%|███████████████████████████████████| 18032/18032 [00:10<00:00, 1728.43it/s]\n",
      "100%|█████████████████████████████████████| 3006/3006 [00:01<00:00, 2342.49it/s]\n",
      "100%|█████████████████████████████████████| 5260/5260 [00:02<00:00, 1850.39it/s]\n",
      "100%|█████████████████████████████████████| 6857/6857 [00:02<00:00, 2609.97it/s]\n",
      "100%|███████████████████████████████████████| 130/130 [00:00<00:00, 2697.52it/s]\n",
      "100%|███████████████████████████████████████| 182/182 [00:00<00:00, 1996.50it/s]\n",
      "100%|█████████████████████████████████████| 2699/2699 [00:01<00:00, 2225.26it/s]\n",
      "100%|█████████████████████████████████████| 6857/6857 [00:02<00:00, 2734.75it/s]\n",
      "100%|█████████████████████████████████████| 1307/1307 [00:00<00:00, 4327.82it/s]\n",
      "100%|█████████████████████████████████████| 1143/1143 [00:00<00:00, 3598.21it/s]\n",
      "100%|█████████████████████████████████████████| 21/21 [00:00<00:00, 2121.60it/s]\n",
      "100%|█████████████████████████████████████████| 31/31 [00:00<00:00, 1301.91it/s]\n",
      "100%|███████████████████████████████████████| 450/450 [00:00<00:00, 2572.80it/s]\n",
      "100%|█████████████████████████████████████| 1143/1143 [00:00<00:00, 4300.43it/s]\n",
      "100%|███████████████████████████████████████| 218/218 [00:00<00:00, 2110.37it/s]\n",
      "100%|█████████████████████████████████████| 2000/2000 [00:00<00:00, 4244.51it/s]\n",
      "100%|█████████████████████████████████████████| 38/38 [00:00<00:00, 1485.83it/s]\n",
      "100%|█████████████████████████████████████████| 53/53 [00:00<00:00, 1571.03it/s]\n",
      "100%|███████████████████████████████████████| 788/788 [00:00<00:00, 3321.70it/s]\n",
      "100%|█████████████████████████████████████| 2000/2000 [00:00<00:00, 3448.67it/s]\n",
      "100%|███████████████████████████████████████| 381/381 [00:00<00:00, 2646.51it/s]\n"
     ]
    },
    {
     "name": "stdout",
     "output_type": "stream",
     "text": [
      "../../01_CreateFolds/PanStarrs/Folds/Fold_3/train.csv\n",
      "../../01_CreateFolds/PanStarrs/Folds/Fold_3/val.csv\n",
      "../../01_CreateFolds/PanStarrs/Folds/test.csv\n",
      "./Folds/Fold_3/\n"
     ]
    },
    {
     "name": "stderr",
     "output_type": "stream",
     "text": [
      " 71%|████████████████████████▊          | 12769/18032 [00:09<00:03, 1486.08it/s]/usr/local/lib/python3.10/dist-packages/joblib/externals/loky/process_executor.py:752: UserWarning: A worker stopped while some jobs were given to the executor. This can be caused by a too short worker timeout or by a memory leak.\n",
      "  warnings.warn(\n",
      " 79%|████████████████████████████▌       | 14322/18032 [00:11<00:03, 975.78it/s]2024-08-30 12:21:09.074726: E external/local_xla/xla/stream_executor/cuda/cuda_dnn.cc:9261] Unable to register cuDNN factory: Attempting to register factory for plugin cuDNN when one has already been registered\n",
      "2024-08-30 12:21:09.074770: E external/local_xla/xla/stream_executor/cuda/cuda_fft.cc:607] Unable to register cuFFT factory: Attempting to register factory for plugin cuFFT when one has already been registered\n",
      "2024-08-30 12:21:09.076215: E external/local_xla/xla/stream_executor/cuda/cuda_blas.cc:1515] Unable to register cuBLAS factory: Attempting to register factory for plugin cuBLAS when one has already been registered\n",
      "2024-08-30 12:21:09.091092: I tensorflow/core/platform/cpu_feature_guard.cc:182] This TensorFlow binary is optimized to use available CPU instructions in performance-critical operations.\n",
      "To enable the following instructions: AVX2 FMA, in other operations, rebuild TensorFlow with the appropriate compiler flags.\n",
      " 85%|██████████████████████████████▍     | 15263/18032 [00:13<00:03, 747.60it/s]2024-08-30 12:21:10.873173: E external/local_xla/xla/stream_executor/cuda/cuda_dnn.cc:9261] Unable to register cuDNN factory: Attempting to register factory for plugin cuDNN when one has already been registered\n",
      "2024-08-30 12:21:10.873204: E external/local_xla/xla/stream_executor/cuda/cuda_fft.cc:607] Unable to register cuFFT factory: Attempting to register factory for plugin cuFFT when one has already been registered\n",
      "2024-08-30 12:21:10.874694: E external/local_xla/xla/stream_executor/cuda/cuda_blas.cc:1515] Unable to register cuBLAS factory: Attempting to register factory for plugin cuBLAS when one has already been registered\n",
      "2024-08-30 12:21:10.880783: W tensorflow/compiler/tf2tensorrt/utils/py_utils.cc:38] TF-TRT Warning: Could not find TensorRT\n",
      "2024-08-30 12:21:10.883926: I tensorflow/core/platform/cpu_feature_guard.cc:182] This TensorFlow binary is optimized to use available CPU instructions in performance-critical operations.\n",
      "To enable the following instructions: AVX2 FMA, in other operations, rebuild TensorFlow with the appropriate compiler flags.\n",
      " 87%|███████████████████████████████▎    | 15666/18032 [00:15<00:06, 375.54it/s]2024-08-30 12:21:12.190458: E external/local_xla/xla/stream_executor/cuda/cuda_dnn.cc:9261] Unable to register cuDNN factory: Attempting to register factory for plugin cuDNN when one has already been registered\n",
      "2024-08-30 12:21:12.190500: E external/local_xla/xla/stream_executor/cuda/cuda_fft.cc:607] Unable to register cuFFT factory: Attempting to register factory for plugin cuFFT when one has already been registered\n",
      "2024-08-30 12:21:12.192599: E external/local_xla/xla/stream_executor/cuda/cuda_blas.cc:1515] Unable to register cuBLAS factory: Attempting to register factory for plugin cuBLAS when one has already been registered\n",
      "2024-08-30 12:21:12.202089: I tensorflow/core/platform/cpu_feature_guard.cc:182] This TensorFlow binary is optimized to use available CPU instructions in performance-critical operations.\n",
      "To enable the following instructions: AVX2 FMA, in other operations, rebuild TensorFlow with the appropriate compiler flags.\n",
      " 89%|████████████████████████████████▏   | 16114/18032 [00:15<00:03, 487.40it/s]2024-08-30 12:21:12.709360: W tensorflow/compiler/tf2tensorrt/utils/py_utils.cc:38] TF-TRT Warning: Could not find TensorRT\n",
      " 93%|█████████████████████████████████▎  | 16686/18032 [00:16<00:02, 646.77it/s]2024-08-30 12:21:13.578643: E external/local_xla/xla/stream_executor/cuda/cuda_dnn.cc:9261] Unable to register cuDNN factory: Attempting to register factory for plugin cuDNN when one has already been registered\n",
      "2024-08-30 12:21:13.578684: E external/local_xla/xla/stream_executor/cuda/cuda_fft.cc:607] Unable to register cuFFT factory: Attempting to register factory for plugin cuFFT when one has already been registered\n",
      "2024-08-30 12:21:13.580920: E external/local_xla/xla/stream_executor/cuda/cuda_blas.cc:1515] Unable to register cuBLAS factory: Attempting to register factory for plugin cuBLAS when one has already been registered\n",
      "2024-08-30 12:21:13.590299: I tensorflow/core/platform/cpu_feature_guard.cc:182] This TensorFlow binary is optimized to use available CPU instructions in performance-critical operations.\n",
      "To enable the following instructions: AVX2 FMA, in other operations, rebuild TensorFlow with the appropriate compiler flags.\n",
      " 97%|██████████████████████████████████▉ | 17514/18032 [00:17<00:00, 842.89it/s]2024-08-30 12:21:14.484002: W tensorflow/compiler/tf2tensorrt/utils/py_utils.cc:38] TF-TRT Warning: Could not find TensorRT\n",
      "100%|███████████████████████████████████| 18032/18032 [00:17<00:00, 1012.15it/s]\n",
      "2024-08-30 12:21:15.850313: W tensorflow/compiler/tf2tensorrt/utils/py_utils.cc:38] TF-TRT Warning: Could not find TensorRT\n",
      "100%|█████████████████████████████████████| 3006/3006 [00:02<00:00, 1289.12it/s]\n",
      "2024-08-30 12:21:20.330522: E external/local_xla/xla/stream_executor/cuda/cuda_dnn.cc:9261] Unable to register cuDNN factory: Attempting to register factory for plugin cuDNN when one has already been registered\n",
      "2024-08-30 12:21:20.330725: E external/local_xla/xla/stream_executor/cuda/cuda_fft.cc:607] Unable to register cuFFT factory: Attempting to register factory for plugin cuFFT when one has already been registered\n",
      "2024-08-30 12:21:20.332248: E external/local_xla/xla/stream_executor/cuda/cuda_blas.cc:1515] Unable to register cuBLAS factory: Attempting to register factory for plugin cuBLAS when one has already been registered\n",
      "2024-08-30 12:21:20.341404: I tensorflow/core/platform/cpu_feature_guard.cc:182] This TensorFlow binary is optimized to use available CPU instructions in performance-critical operations.\n",
      "To enable the following instructions: AVX2 FMA, in other operations, rebuild TensorFlow with the appropriate compiler flags.\n",
      "2024-08-30 12:21:21.551963: W tensorflow/compiler/tf2tensorrt/utils/py_utils.cc:38] TF-TRT Warning: Could not find TensorRT\n",
      "100%|█████████████████████████████████████| 5260/5260 [00:02<00:00, 1763.00it/s]\n",
      "100%|█████████████████████████████████████| 6857/6857 [00:02<00:00, 3013.19it/s]\n",
      "100%|███████████████████████████████████████| 130/130 [00:00<00:00, 2121.72it/s]\n",
      "100%|███████████████████████████████████████| 182/182 [00:00<00:00, 1912.66it/s]\n",
      "100%|█████████████████████████████████████| 2699/2699 [00:01<00:00, 1961.89it/s]\n",
      "100%|█████████████████████████████████████| 6857/6857 [00:02<00:00, 2586.28it/s]\n",
      "100%|█████████████████████████████████████| 1307/1307 [00:00<00:00, 4394.33it/s]\n",
      "100%|█████████████████████████████████████| 1143/1143 [00:00<00:00, 3498.79it/s]\n",
      "100%|█████████████████████████████████████████| 21/21 [00:00<00:00, 2359.82it/s]\n",
      "100%|█████████████████████████████████████████| 31/31 [00:00<00:00, 1345.18it/s]\n",
      "100%|███████████████████████████████████████| 450/450 [00:00<00:00, 2550.39it/s]\n",
      "100%|█████████████████████████████████████| 1143/1143 [00:00<00:00, 3411.52it/s]\n",
      "100%|███████████████████████████████████████| 218/218 [00:00<00:00, 1766.43it/s]\n",
      "100%|█████████████████████████████████████| 2000/2000 [00:00<00:00, 3567.67it/s]\n",
      "100%|█████████████████████████████████████████| 38/38 [00:00<00:00, 1843.39it/s]\n",
      "100%|█████████████████████████████████████████| 53/53 [00:00<00:00, 1673.58it/s]\n",
      "100%|███████████████████████████████████████| 788/788 [00:00<00:00, 3542.50it/s]\n",
      "100%|█████████████████████████████████████| 2000/2000 [00:00<00:00, 3677.18it/s]\n",
      "100%|███████████████████████████████████████| 381/381 [00:00<00:00, 2518.77it/s]\n"
     ]
    },
    {
     "name": "stdout",
     "output_type": "stream",
     "text": [
      "../../01_CreateFolds/PanStarrs/Folds/Fold_4/train.csv\n",
      "../../01_CreateFolds/PanStarrs/Folds/Fold_4/val.csv\n",
      "../../01_CreateFolds/PanStarrs/Folds/test.csv\n",
      "./Folds/Fold_4/\n"
     ]
    },
    {
     "name": "stderr",
     "output_type": "stream",
     "text": [
      " 87%|███████████████████████████████▍    | 15732/18033 [00:15<00:02, 972.86it/s]/usr/local/lib/python3.10/dist-packages/joblib/externals/loky/process_executor.py:752: UserWarning: A worker stopped while some jobs were given to the executor. This can be caused by a too short worker timeout or by a memory leak.\n",
      "  warnings.warn(\n",
      " 96%|██████████████████████████████████▋ | 17363/18033 [00:18<00:00, 970.29it/s]2024-08-30 12:22:20.456827: E external/local_xla/xla/stream_executor/cuda/cuda_dnn.cc:9261] Unable to register cuDNN factory: Attempting to register factory for plugin cuDNN when one has already been registered\n",
      "2024-08-30 12:22:20.458746: E external/local_xla/xla/stream_executor/cuda/cuda_fft.cc:607] Unable to register cuFFT factory: Attempting to register factory for plugin cuFFT when one has already been registered\n",
      "2024-08-30 12:22:20.463953: E external/local_xla/xla/stream_executor/cuda/cuda_blas.cc:1515] Unable to register cuBLAS factory: Attempting to register factory for plugin cuBLAS when one has already been registered\n",
      "2024-08-30 12:22:20.486791: I tensorflow/core/platform/cpu_feature_guard.cc:182] This TensorFlow binary is optimized to use available CPU instructions in performance-critical operations.\n",
      "To enable the following instructions: AVX2 FMA, in other operations, rebuild TensorFlow with the appropriate compiler flags.\n",
      "100%|████████████████████████████████████| 18033/18033 [00:19<00:00, 940.50it/s]\n",
      "2024-08-30 12:22:22.960639: W tensorflow/compiler/tf2tensorrt/utils/py_utils.cc:38] TF-TRT Warning: Could not find TensorRT\n",
      "100%|██████████████████████████████████████| 3005/3005 [00:03<00:00, 993.34it/s]\n",
      "100%|█████████████████████████████████████| 5260/5260 [00:04<00:00, 1132.02it/s]\n",
      "100%|█████████████████████████████████████| 6857/6857 [00:03<00:00, 1917.00it/s]\n",
      "100%|███████████████████████████████████████| 129/129 [00:00<00:00, 1698.62it/s]\n",
      "100%|███████████████████████████████████████| 183/183 [00:00<00:00, 1976.84it/s]\n",
      "100%|█████████████████████████████████████| 2699/2699 [00:01<00:00, 2353.28it/s]\n",
      "100%|█████████████████████████████████████| 6858/6858 [00:04<00:00, 1693.90it/s]\n",
      "100%|█████████████████████████████████████| 1307/1307 [00:00<00:00, 3281.21it/s]\n",
      "100%|█████████████████████████████████████| 1143/1143 [00:00<00:00, 3268.96it/s]\n",
      "100%|█████████████████████████████████████████| 22/22 [00:00<00:00, 1988.81it/s]\n",
      "100%|█████████████████████████████████████████| 30/30 [00:00<00:00, 1015.16it/s]\n",
      "100%|███████████████████████████████████████| 450/450 [00:00<00:00, 2396.01it/s]\n",
      "100%|█████████████████████████████████████| 1142/1142 [00:00<00:00, 2787.70it/s]\n",
      "100%|███████████████████████████████████████| 218/218 [00:00<00:00, 1607.69it/s]\n",
      "100%|█████████████████████████████████████| 2000/2000 [00:00<00:00, 2766.54it/s]\n",
      "100%|█████████████████████████████████████████| 38/38 [00:00<00:00, 1668.71it/s]\n",
      "100%|██████████████████████████████████████████| 53/53 [00:00<00:00, 889.06it/s]\n",
      "100%|███████████████████████████████████████| 788/788 [00:00<00:00, 2648.03it/s]\n",
      "100%|█████████████████████████████████████| 2000/2000 [00:00<00:00, 3592.75it/s]\n",
      "100%|███████████████████████████████████████| 381/381 [00:00<00:00, 2360.75it/s]\n"
     ]
    },
    {
     "name": "stdout",
     "output_type": "stream",
     "text": [
      "../../01_CreateFolds/PanStarrs/Folds/Fold_5/train.csv\n",
      "../../01_CreateFolds/PanStarrs/Folds/Fold_5/val.csv\n",
      "../../01_CreateFolds/PanStarrs/Folds/test.csv\n",
      "./Folds/Fold_5/\n"
     ]
    },
    {
     "name": "stderr",
     "output_type": "stream",
     "text": [
      " 14%|█████▏                              | 2594/18033 [00:01<00:06, 2349.04it/s]/usr/local/lib/python3.10/dist-packages/joblib/externals/loky/process_executor.py:752: UserWarning: A worker stopped while some jobs were given to the executor. This can be caused by a too short worker timeout or by a memory leak.\n",
      "  warnings.warn(\n",
      " 22%|████████                            | 4018/18033 [00:02<00:12, 1165.71it/s]2024-08-30 12:23:12.887162: E external/local_xla/xla/stream_executor/cuda/cuda_dnn.cc:9261] Unable to register cuDNN factory: Attempting to register factory for plugin cuDNN when one has already been registered\n",
      "2024-08-30 12:23:12.887223: E external/local_xla/xla/stream_executor/cuda/cuda_fft.cc:607] Unable to register cuFFT factory: Attempting to register factory for plugin cuFFT when one has already been registered\n",
      "2024-08-30 12:23:12.888956: E external/local_xla/xla/stream_executor/cuda/cuda_blas.cc:1515] Unable to register cuBLAS factory: Attempting to register factory for plugin cuBLAS when one has already been registered\n",
      "2024-08-30 12:23:12.900567: I tensorflow/core/platform/cpu_feature_guard.cc:182] This TensorFlow binary is optimized to use available CPU instructions in performance-critical operations.\n",
      "To enable the following instructions: AVX2 FMA, in other operations, rebuild TensorFlow with the appropriate compiler flags.\n",
      " 37%|█████████████▍                      | 6706/18033 [00:04<00:07, 1418.56it/s]2024-08-30 12:23:14.673378: W tensorflow/compiler/tf2tensorrt/utils/py_utils.cc:38] TF-TRT Warning: Could not find TensorRT\n",
      "100%|███████████████████████████████████| 18033/18033 [00:11<00:00, 1553.36it/s]\n",
      "100%|█████████████████████████████████████| 3005/3005 [00:01<00:00, 1632.21it/s]\n",
      "100%|█████████████████████████████████████| 5260/5260 [00:04<00:00, 1085.38it/s]\n",
      "100%|█████████████████████████████████████| 6857/6857 [00:04<00:00, 1662.88it/s]\n",
      "100%|███████████████████████████████████████| 129/129 [00:00<00:00, 1430.83it/s]\n",
      "100%|███████████████████████████████████████| 183/183 [00:00<00:00, 1173.02it/s]\n",
      "100%|█████████████████████████████████████| 2700/2700 [00:01<00:00, 1469.75it/s]\n",
      "100%|█████████████████████████████████████| 6857/6857 [00:04<00:00, 1445.15it/s]\n",
      "100%|█████████████████████████████████████| 1307/1307 [00:00<00:00, 2680.44it/s]\n",
      "100%|█████████████████████████████████████| 1143/1143 [00:00<00:00, 2473.16it/s]\n",
      "100%|█████████████████████████████████████████| 22/22 [00:00<00:00, 1810.05it/s]\n",
      "100%|██████████████████████████████████████████| 30/30 [00:00<00:00, 829.96it/s]\n",
      "100%|███████████████████████████████████████| 449/449 [00:00<00:00, 1277.75it/s]\n",
      "100%|█████████████████████████████████████| 1143/1143 [00:00<00:00, 2102.97it/s]\n",
      "100%|███████████████████████████████████████| 218/218 [00:00<00:00, 1467.89it/s]\n",
      "100%|█████████████████████████████████████| 2000/2000 [00:01<00:00, 1584.61it/s]\n",
      "100%|█████████████████████████████████████████| 38/38 [00:00<00:00, 1545.13it/s]\n",
      "100%|█████████████████████████████████████████| 53/53 [00:00<00:00, 1589.84it/s]\n",
      "100%|███████████████████████████████████████| 788/788 [00:00<00:00, 3135.97it/s]\n",
      "100%|██████████████████████████████████████| 2000/2000 [00:02<00:00, 999.39it/s]\n",
      "100%|███████████████████████████████████████| 381/381 [00:00<00:00, 2204.61it/s]\n"
     ]
    },
    {
     "name": "stdout",
     "output_type": "stream",
     "text": [
      "../../01_CreateFolds/PanStarrs/Folds/Fold_6/train.csv\n",
      "../../01_CreateFolds/PanStarrs/Folds/Fold_6/val.csv\n",
      "../../01_CreateFolds/PanStarrs/Folds/test.csv\n",
      "./Folds/Fold_6/\n"
     ]
    },
    {
     "name": "stderr",
     "output_type": "stream",
     "text": [
      " 84%|█████████████████████████████▌     | 15218/18033 [00:07<00:01, 1951.83it/s]/usr/local/lib/python3.10/dist-packages/joblib/externals/loky/process_executor.py:752: UserWarning: A worker stopped while some jobs were given to the executor. This can be caused by a too short worker timeout or by a memory leak.\n",
      "  warnings.warn(\n",
      " 89%|███████████████████████████████    | 16001/18033 [00:08<00:02, 1010.71it/s]2024-08-30 12:24:21.274621: E external/local_xla/xla/stream_executor/cuda/cuda_dnn.cc:9261] Unable to register cuDNN factory: Attempting to register factory for plugin cuDNN when one has already been registered\n",
      "2024-08-30 12:24:21.274669: E external/local_xla/xla/stream_executor/cuda/cuda_fft.cc:607] Unable to register cuFFT factory: Attempting to register factory for plugin cuFFT when one has already been registered\n",
      "2024-08-30 12:24:21.275763: E external/local_xla/xla/stream_executor/cuda/cuda_blas.cc:1515] Unable to register cuBLAS factory: Attempting to register factory for plugin cuBLAS when one has already been registered\n",
      "2024-08-30 12:24:21.281839: I tensorflow/core/platform/cpu_feature_guard.cc:182] This TensorFlow binary is optimized to use available CPU instructions in performance-critical operations.\n",
      "To enable the following instructions: AVX2 FMA, in other operations, rebuild TensorFlow with the appropriate compiler flags.\n",
      " 99%|██████████████████████████████████▋| 17857/18033 [00:09<00:00, 1824.49it/s]2024-08-30 12:24:22.731651: W tensorflow/compiler/tf2tensorrt/utils/py_utils.cc:38] TF-TRT Warning: Could not find TensorRT\n",
      "2024-08-30 12:24:23.668706: E external/local_xla/xla/stream_executor/cuda/cuda_dnn.cc:9261] Unable to register cuDNN factory: Attempting to register factory for plugin cuDNN when one has already been registered\n",
      "2024-08-30 12:24:23.668735: E external/local_xla/xla/stream_executor/cuda/cuda_fft.cc:607] Unable to register cuFFT factory: Attempting to register factory for plugin cuFFT when one has already been registered\n",
      "2024-08-30 12:24:23.669818: E external/local_xla/xla/stream_executor/cuda/cuda_blas.cc:1515] Unable to register cuBLAS factory: Attempting to register factory for plugin cuBLAS when one has already been registered\n",
      "2024-08-30 12:24:23.675894: I tensorflow/core/platform/cpu_feature_guard.cc:182] This TensorFlow binary is optimized to use available CPU instructions in performance-critical operations.\n",
      "To enable the following instructions: AVX2 FMA, in other operations, rebuild TensorFlow with the appropriate compiler flags.\n",
      "100%|███████████████████████████████████| 18033/18033 [00:11<00:00, 1567.18it/s]\n",
      "2024-08-30 12:24:24.306528: E external/local_xla/xla/stream_executor/cuda/cuda_dnn.cc:9261] Unable to register cuDNN factory: Attempting to register factory for plugin cuDNN when one has already been registered\n",
      "2024-08-30 12:24:24.306600: E external/local_xla/xla/stream_executor/cuda/cuda_fft.cc:607] Unable to register cuFFT factory: Attempting to register factory for plugin cuFFT when one has already been registered\n",
      "2024-08-30 12:24:24.308221: E external/local_xla/xla/stream_executor/cuda/cuda_blas.cc:1515] Unable to register cuBLAS factory: Attempting to register factory for plugin cuBLAS when one has already been registered\n",
      "2024-08-30 12:24:24.317688: I tensorflow/core/platform/cpu_feature_guard.cc:182] This TensorFlow binary is optimized to use available CPU instructions in performance-critical operations.\n",
      "To enable the following instructions: AVX2 FMA, in other operations, rebuild TensorFlow with the appropriate compiler flags.\n",
      "2024-08-30 12:24:24.913656: W tensorflow/compiler/tf2tensorrt/utils/py_utils.cc:38] TF-TRT Warning: Could not find TensorRT\n",
      "2024-08-30 12:24:25.137021: E external/local_xla/xla/stream_executor/cuda/cuda_dnn.cc:9261] Unable to register cuDNN factory: Attempting to register factory for plugin cuDNN when one has already been registered\n",
      "2024-08-30 12:24:25.137049: E external/local_xla/xla/stream_executor/cuda/cuda_fft.cc:607] Unable to register cuFFT factory: Attempting to register factory for plugin cuFFT when one has already been registered\n",
      "2024-08-30 12:24:25.138204: E external/local_xla/xla/stream_executor/cuda/cuda_blas.cc:1515] Unable to register cuBLAS factory: Attempting to register factory for plugin cuBLAS when one has already been registered\n",
      "2024-08-30 12:24:25.144199: I tensorflow/core/platform/cpu_feature_guard.cc:182] This TensorFlow binary is optimized to use available CPU instructions in performance-critical operations.\n",
      "To enable the following instructions: AVX2 FMA, in other operations, rebuild TensorFlow with the appropriate compiler flags.\n",
      "2024-08-30 12:24:25.632713: W tensorflow/compiler/tf2tensorrt/utils/py_utils.cc:38] TF-TRT Warning: Could not find TensorRT\n",
      "2024-08-30 12:24:26.123107: W tensorflow/compiler/tf2tensorrt/utils/py_utils.cc:38] TF-TRT Warning: Could not find TensorRT\n",
      "100%|█████████████████████████████████████| 3005/3005 [00:01<00:00, 2686.97it/s]\n",
      " 25%|█████████▎                           | 1330/5260 [00:00<00:01, 2688.00it/s]2024-08-30 12:24:29.777593: E external/local_xla/xla/stream_executor/cuda/cuda_dnn.cc:9261] Unable to register cuDNN factory: Attempting to register factory for plugin cuDNN when one has already been registered\n",
      "2024-08-30 12:24:29.777634: E external/local_xla/xla/stream_executor/cuda/cuda_fft.cc:607] Unable to register cuFFT factory: Attempting to register factory for plugin cuFFT when one has already been registered\n",
      "2024-08-30 12:24:29.779184: E external/local_xla/xla/stream_executor/cuda/cuda_blas.cc:1515] Unable to register cuBLAS factory: Attempting to register factory for plugin cuBLAS when one has already been registered\n",
      "2024-08-30 12:24:29.788393: I tensorflow/core/platform/cpu_feature_guard.cc:182] This TensorFlow binary is optimized to use available CPU instructions in performance-critical operations.\n",
      "To enable the following instructions: AVX2 FMA, in other operations, rebuild TensorFlow with the appropriate compiler flags.\n",
      " 85%|███████████████████████████████▍     | 4466/5260 [00:02<00:00, 1937.58it/s]2024-08-30 12:24:31.412341: W tensorflow/compiler/tf2tensorrt/utils/py_utils.cc:38] TF-TRT Warning: Could not find TensorRT\n",
      "100%|█████████████████████████████████████| 5260/5260 [00:02<00:00, 2082.27it/s]\n",
      "100%|█████████████████████████████████████| 6858/6858 [00:02<00:00, 3107.96it/s]\n",
      "100%|███████████████████████████████████████| 129/129 [00:00<00:00, 2023.63it/s]\n",
      "100%|███████████████████████████████████████| 183/183 [00:00<00:00, 2036.04it/s]\n",
      "100%|█████████████████████████████████████| 2699/2699 [00:00<00:00, 4341.38it/s]\n",
      "100%|█████████████████████████████████████| 6857/6857 [00:03<00:00, 2065.93it/s]\n",
      "100%|█████████████████████████████████████| 1307/1307 [00:00<00:00, 3659.46it/s]\n",
      "100%|█████████████████████████████████████| 1142/1142 [00:00<00:00, 1517.69it/s]\n",
      "100%|█████████████████████████████████████████| 22/22 [00:00<00:00, 3266.13it/s]\n",
      "100%|██████████████████████████████████████████| 30/30 [00:00<00:00, 756.12it/s]\n",
      "100%|███████████████████████████████████████| 450/450 [00:00<00:00, 1446.47it/s]\n",
      "100%|█████████████████████████████████████| 1143/1143 [00:00<00:00, 1571.89it/s]\n",
      "100%|███████████████████████████████████████| 218/218 [00:00<00:00, 1196.69it/s]\n",
      "100%|█████████████████████████████████████| 2000/2000 [00:01<00:00, 1679.49it/s]\n",
      "100%|█████████████████████████████████████████| 38/38 [00:00<00:00, 1122.86it/s]\n",
      "100%|██████████████████████████████████████████| 53/53 [00:00<00:00, 967.46it/s]\n",
      "100%|███████████████████████████████████████| 788/788 [00:00<00:00, 2311.11it/s]\n",
      "100%|█████████████████████████████████████| 2000/2000 [00:00<00:00, 2821.95it/s]\n",
      "100%|███████████████████████████████████████| 381/381 [00:00<00:00, 1364.90it/s]\n"
     ]
    },
    {
     "name": "stdout",
     "output_type": "stream",
     "text": [
      "../../01_CreateFolds/PanStarrs/Folds/Fold_7/train.csv\n",
      "../../01_CreateFolds/PanStarrs/Folds/Fold_7/val.csv\n",
      "../../01_CreateFolds/PanStarrs/Folds/test.csv\n",
      "./Folds/Fold_7/\n"
     ]
    },
    {
     "name": "stderr",
     "output_type": "stream",
     "text": [
      " 17%|██████▏                             | 3122/18033 [00:01<00:06, 2353.75it/s]/usr/local/lib/python3.10/dist-packages/joblib/externals/loky/process_executor.py:752: UserWarning: A worker stopped while some jobs were given to the executor. This can be caused by a too short worker timeout or by a memory leak.\n",
      "  warnings.warn(\n",
      " 22%|████████                            | 4018/18033 [00:02<00:10, 1294.17it/s]2024-08-30 12:25:17.422493: E external/local_xla/xla/stream_executor/cuda/cuda_dnn.cc:9261] Unable to register cuDNN factory: Attempting to register factory for plugin cuDNN when one has already been registered\n",
      "2024-08-30 12:25:17.422529: E external/local_xla/xla/stream_executor/cuda/cuda_fft.cc:607] Unable to register cuFFT factory: Attempting to register factory for plugin cuFFT when one has already been registered\n",
      " 24%|████████▌                           | 4317/18033 [00:02<00:13, 1046.44it/s]2024-08-30 12:25:17.423600: E external/local_xla/xla/stream_executor/cuda/cuda_blas.cc:1515] Unable to register cuBLAS factory: Attempting to register factory for plugin cuBLAS when one has already been registered\n",
      "2024-08-30 12:25:17.429419: I tensorflow/core/platform/cpu_feature_guard.cc:182] This TensorFlow binary is optimized to use available CPU instructions in performance-critical operations.\n",
      "To enable the following instructions: AVX2 FMA, in other operations, rebuild TensorFlow with the appropriate compiler flags.\n",
      " 37%|█████████████▍                      | 6706/18033 [00:04<00:07, 1604.22it/s]2024-08-30 12:25:18.966411: W tensorflow/compiler/tf2tensorrt/utils/py_utils.cc:38] TF-TRT Warning: Could not find TensorRT\n",
      "100%|███████████████████████████████████| 18033/18033 [00:10<00:00, 1795.26it/s]\n",
      "100%|█████████████████████████████████████| 3005/3005 [00:01<00:00, 2655.24it/s]\n",
      " 51%|██████████████████▊                  | 2674/5260 [00:01<00:01, 1995.62it/s]2024-08-30 12:25:28.403457: E external/local_xla/xla/stream_executor/cuda/cuda_dnn.cc:9261] Unable to register cuDNN factory: Attempting to register factory for plugin cuDNN when one has already been registered\n",
      "2024-08-30 12:25:28.403517: E external/local_xla/xla/stream_executor/cuda/cuda_fft.cc:607] Unable to register cuFFT factory: Attempting to register factory for plugin cuFFT when one has already been registered\n",
      "2024-08-30 12:25:28.405050: E external/local_xla/xla/stream_executor/cuda/cuda_blas.cc:1515] Unable to register cuBLAS factory: Attempting to register factory for plugin cuBLAS when one has already been registered\n",
      "2024-08-30 12:25:28.414768: I tensorflow/core/platform/cpu_feature_guard.cc:182] This TensorFlow binary is optimized to use available CPU instructions in performance-critical operations.\n",
      "To enable the following instructions: AVX2 FMA, in other operations, rebuild TensorFlow with the appropriate compiler flags.\n",
      "100%|█████████████████████████████████████| 5260/5260 [00:03<00:00, 1739.21it/s]\n",
      "2024-08-30 12:25:30.086484: W tensorflow/compiler/tf2tensorrt/utils/py_utils.cc:38] TF-TRT Warning: Could not find TensorRT\n",
      "100%|█████████████████████████████████████| 6857/6857 [00:02<00:00, 2631.56it/s]\n",
      "100%|███████████████████████████████████████| 129/129 [00:00<00:00, 2059.51it/s]\n",
      "100%|███████████████████████████████████████| 183/183 [00:00<00:00, 2329.21it/s]\n",
      "100%|█████████████████████████████████████| 2699/2699 [00:00<00:00, 4230.40it/s]\n",
      "100%|█████████████████████████████████████| 6857/6857 [00:02<00:00, 3148.86it/s]\n",
      "100%|█████████████████████████████████████| 1308/1308 [00:00<00:00, 4646.52it/s]\n",
      "100%|█████████████████████████████████████| 1143/1143 [00:00<00:00, 4072.50it/s]\n",
      "100%|█████████████████████████████████████████| 22/22 [00:00<00:00, 1903.36it/s]\n",
      "100%|█████████████████████████████████████████| 30/30 [00:00<00:00, 1466.98it/s]\n",
      "100%|███████████████████████████████████████| 450/450 [00:00<00:00, 2847.11it/s]\n",
      "100%|█████████████████████████████████████| 1143/1143 [00:00<00:00, 4137.63it/s]\n",
      "100%|███████████████████████████████████████| 217/217 [00:00<00:00, 2365.83it/s]\n",
      "100%|█████████████████████████████████████| 2000/2000 [00:00<00:00, 4263.14it/s]\n",
      "100%|█████████████████████████████████████████| 38/38 [00:00<00:00, 1732.05it/s]\n",
      "100%|█████████████████████████████████████████| 53/53 [00:00<00:00, 1667.20it/s]\n",
      "100%|███████████████████████████████████████| 788/788 [00:00<00:00, 3510.99it/s]\n",
      "100%|█████████████████████████████████████| 2000/2000 [00:00<00:00, 4249.42it/s]\n",
      "100%|███████████████████████████████████████| 381/381 [00:00<00:00, 3330.78it/s]\n"
     ]
    }
   ],
   "source": [
    "# Create the container folder\n",
    "if not os.path.exists('./Folds'):\n",
    "    os.mkdir('./Folds')\n",
    "    \n",
    "for fold in folds:\n",
    "    train_val = glob(os.path.join(fold, '*'))\n",
    "    train_path = [i for i in train_val if 'train' in i][0]\n",
    "    val_path = [i for i in train_val if 'val' in i][0]\n",
    "    \n",
    "    path_fold = fold.replace('../../01_CreateFolds/'+survey,'.')+'/'\n",
    "    if not os.path.exists(path_fold):\n",
    "        os.mkdir(path_fold)\n",
    "    print(train_path)\n",
    "    print(val_path)\n",
    "    print(test_path)\n",
    "    print(path_fold)\n",
    "    \n",
    "    kwargs2['file_train']=train_path\n",
    "    kwargs2['file_val'] =val_path\n",
    "    kwargs2['file_test'] =test_path\n",
    "    kwargs2['save_dir'] = path_fold\n",
    "    P.prepare(**kwargs2)\n",
    "    \n",
    "    "
   ]
  },
  {
   "cell_type": "code",
   "execution_count": null,
   "metadata": {},
   "outputs": [],
   "source": []
  },
  {
   "cell_type": "code",
   "execution_count": null,
   "metadata": {},
   "outputs": [],
   "source": []
  },
  {
   "cell_type": "code",
   "execution_count": null,
   "metadata": {},
   "outputs": [],
   "source": []
  }
 ],
 "metadata": {
  "kernelspec": {
   "display_name": "Python 3 (ipykernel)",
   "language": "python",
   "name": "python3"
  },
  "language_info": {
   "codemirror_mode": {
    "name": "ipython",
    "version": 3
   },
   "file_extension": ".py",
   "mimetype": "text/x-python",
   "name": "python",
   "nbconvert_exporter": "python",
   "pygments_lexer": "ipython3",
   "version": "3.10.12"
  }
 },
 "nbformat": 4,
 "nbformat_minor": 4
}
