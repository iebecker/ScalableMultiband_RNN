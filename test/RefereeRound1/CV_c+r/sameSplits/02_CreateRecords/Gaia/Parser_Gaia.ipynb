{
 "cells": [
  {
   "cell_type": "code",
   "execution_count": 1,
   "metadata": {
    "tags": []
   },
   "outputs": [
    {
     "name": "stderr",
     "output_type": "stream",
     "text": [
      "2024-08-30 12:01:03.562903: E external/local_xla/xla/stream_executor/cuda/cuda_dnn.cc:9261] Unable to register cuDNN factory: Attempting to register factory for plugin cuDNN when one has already been registered\n",
      "2024-08-30 12:01:03.562934: E external/local_xla/xla/stream_executor/cuda/cuda_fft.cc:607] Unable to register cuFFT factory: Attempting to register factory for plugin cuFFT when one has already been registered\n",
      "2024-08-30 12:01:03.564040: E external/local_xla/xla/stream_executor/cuda/cuda_blas.cc:1515] Unable to register cuBLAS factory: Attempting to register factory for plugin cuBLAS when one has already been registered\n",
      "2024-08-30 12:01:03.570693: I tensorflow/core/platform/cpu_feature_guard.cc:182] This TensorFlow binary is optimized to use available CPU instructions in performance-critical operations.\n",
      "To enable the following instructions: AVX2 FMA, in other operations, rebuild TensorFlow with the appropriate compiler flags.\n",
      "2024-08-30 12:01:04.533842: W tensorflow/compiler/tf2tensorrt/utils/py_utils.cc:38] TF-TRT Warning: Could not find TensorRT\n"
     ]
    }
   ],
   "source": [
    "import os\n",
    "from glob import glob\n",
    "\n",
    "from ScalableLib.base.Load_Process import prepData"
   ]
  },
  {
   "cell_type": "markdown",
   "metadata": {},
   "source": [
    "Get the different fold files. Tran-val and test sets."
   ]
  },
  {
   "cell_type": "code",
   "execution_count": 2,
   "metadata": {},
   "outputs": [],
   "source": [
    "survey = 'Gaia'"
   ]
  },
  {
   "cell_type": "code",
   "execution_count": 3,
   "metadata": {
    "tags": []
   },
   "outputs": [
    {
     "data": {
      "text/plain": [
       "['../../01_CreateFolds/Gaia/Folds/Fold_1',\n",
       " '../../01_CreateFolds/Gaia/Folds/Fold_2',\n",
       " '../../01_CreateFolds/Gaia/Folds/Fold_3',\n",
       " '../../01_CreateFolds/Gaia/Folds/Fold_4',\n",
       " '../../01_CreateFolds/Gaia/Folds/Fold_5',\n",
       " '../../01_CreateFolds/Gaia/Folds/Fold_6',\n",
       " '../../01_CreateFolds/Gaia/Folds/Fold_7']"
      ]
     },
     "execution_count": 3,
     "metadata": {},
     "output_type": "execute_result"
    }
   ],
   "source": [
    "\n",
    "path_folds = os.path.join('../../01_CreateFolds/{}/Folds/*'.format(survey))\n",
    "\n",
    "# Get the folder paths\n",
    "folds = glob(path_folds)\n",
    "# Get the test file path\n",
    "test_path = [i for i in folds if 'test' in i][0]\n",
    "# Remove the test path from the list\n",
    "folds.remove(test_path)\n",
    "# Sort to work from the first fold onwards\n",
    "folds.sort()\n",
    "folds"
   ]
  },
  {
   "cell_type": "markdown",
   "metadata": {},
   "source": [
    "For each fold, process the information and store it.\n",
    "\n",
    "The **P** object is defined with its keyword arguments. \n",
    "\n",
    "Then the kwargs are defined to be used as inputs of the prepare method."
   ]
  },
  {
   "cell_type": "code",
   "execution_count": 4,
   "metadata": {
    "tags": []
   },
   "outputs": [],
   "source": [
    "kwargs1={\n",
    "'max_l' : 40000,\n",
    "'min_l' : 1000,\n",
    "'min_n': 10,\n",
    "'max_n' : 1000,\n",
    "'w' : 2,\n",
    "'s':1,\n",
    "'njobs':7,\n",
    "'n_bands':2,\n",
    "}\n",
    "P = prepData(**kwargs1)"
   ]
  },
  {
   "cell_type": "code",
   "execution_count": 5,
   "metadata": {
    "tags": []
   },
   "outputs": [],
   "source": [
    "kwargs2={\n",
    "    'dataset_header': ['ID', 'Path', 'Class', 'N', 'N_b', 'N_r'],\n",
    "    'lc_parameters': {'sep':',', 'header':0, 'na_filter':True, 'engine':'c'},\n",
    "    'params_phys': [ 'T_eff','Lum','Mass', 'rho','Radius', 'logg'], \n",
    "    'params_phys_est': [],\n",
    "}"
   ]
  },
  {
   "cell_type": "code",
   "execution_count": 6,
   "metadata": {
    "tags": []
   },
   "outputs": [
    {
     "name": "stdout",
     "output_type": "stream",
     "text": [
      "./Folds/Fold_1/\n"
     ]
    },
    {
     "name": "stderr",
     "output_type": "stream",
     "text": [
      "  0%|                                         | 7/73827 [00:00<22:32, 54.59it/s]2024-08-30 12:01:06.967331: E external/local_xla/xla/stream_executor/cuda/cuda_dnn.cc:9261] Unable to register cuDNN factory: Attempting to register factory for plugin cuDNN when one has already been registered\n",
      "2024-08-30 12:01:06.967502: E external/local_xla/xla/stream_executor/cuda/cuda_fft.cc:607] Unable to register cuFFT factory: Attempting to register factory for plugin cuFFT when one has already been registered\n",
      "2024-08-30 12:01:06.968607: E external/local_xla/xla/stream_executor/cuda/cuda_blas.cc:1515] Unable to register cuBLAS factory: Attempting to register factory for plugin cuBLAS when one has already been registered\n",
      "2024-08-30 12:01:06.974508: I tensorflow/core/platform/cpu_feature_guard.cc:182] This TensorFlow binary is optimized to use available CPU instructions in performance-critical operations.\n",
      "To enable the following instructions: AVX2 FMA, in other operations, rebuild TensorFlow with the appropriate compiler flags.\n",
      "2024-08-30 12:01:07.139100: E external/local_xla/xla/stream_executor/cuda/cuda_dnn.cc:9261] Unable to register cuDNN factory: Attempting to register factory for plugin cuDNN when one has already been registered\n",
      "2024-08-30 12:01:07.139215: E external/local_xla/xla/stream_executor/cuda/cuda_fft.cc:607] Unable to register cuFFT factory: Attempting to register factory for plugin cuFFT when one has already been registered\n",
      "2024-08-30 12:01:07.140289: E external/local_xla/xla/stream_executor/cuda/cuda_blas.cc:1515] Unable to register cuBLAS factory: Attempting to register factory for plugin cuBLAS when one has already been registered\n",
      "2024-08-30 12:01:07.146235: I tensorflow/core/platform/cpu_feature_guard.cc:182] This TensorFlow binary is optimized to use available CPU instructions in performance-critical operations.\n",
      "To enable the following instructions: AVX2 FMA, in other operations, rebuild TensorFlow with the appropriate compiler flags.\n",
      "2024-08-30 12:01:07.177606: E external/local_xla/xla/stream_executor/cuda/cuda_dnn.cc:9261] Unable to register cuDNN factory: Attempting to register factory for plugin cuDNN when one has already been registered\n",
      "2024-08-30 12:01:07.177904: E external/local_xla/xla/stream_executor/cuda/cuda_fft.cc:607] Unable to register cuFFT factory: Attempting to register factory for plugin cuFFT when one has already been registered\n",
      "2024-08-30 12:01:07.179494: E external/local_xla/xla/stream_executor/cuda/cuda_blas.cc:1515] Unable to register cuBLAS factory: Attempting to register factory for plugin cuBLAS when one has already been registered\n",
      "2024-08-30 12:01:07.188292: I tensorflow/core/platform/cpu_feature_guard.cc:182] This TensorFlow binary is optimized to use available CPU instructions in performance-critical operations.\n",
      "To enable the following instructions: AVX2 FMA, in other operations, rebuild TensorFlow with the appropriate compiler flags.\n",
      "2024-08-30 12:01:07.232638: E external/local_xla/xla/stream_executor/cuda/cuda_dnn.cc:9261] Unable to register cuDNN factory: Attempting to register factory for plugin cuDNN when one has already been registered\n",
      "2024-08-30 12:01:07.232678: E external/local_xla/xla/stream_executor/cuda/cuda_fft.cc:607] Unable to register cuFFT factory: Attempting to register factory for plugin cuFFT when one has already been registered\n",
      "2024-08-30 12:01:07.234170: E external/local_xla/xla/stream_executor/cuda/cuda_blas.cc:1515] Unable to register cuBLAS factory: Attempting to register factory for plugin cuBLAS when one has already been registered\n",
      "2024-08-30 12:01:07.238667: E external/local_xla/xla/stream_executor/cuda/cuda_dnn.cc:9261] Unable to register cuDNN factory: Attempting to register factory for plugin cuDNN when one has already been registered\n",
      "2024-08-30 12:01:07.238696: E external/local_xla/xla/stream_executor/cuda/cuda_fft.cc:607] Unable to register cuFFT factory: Attempting to register factory for plugin cuFFT when one has already been registered\n",
      "2024-08-30 12:01:07.239811: E external/local_xla/xla/stream_executor/cuda/cuda_blas.cc:1515] Unable to register cuBLAS factory: Attempting to register factory for plugin cuBLAS when one has already been registered\n",
      "2024-08-30 12:01:07.243359: I tensorflow/core/platform/cpu_feature_guard.cc:182] This TensorFlow binary is optimized to use available CPU instructions in performance-critical operations.\n",
      "To enable the following instructions: AVX2 FMA, in other operations, rebuild TensorFlow with the appropriate compiler flags.\n",
      "2024-08-30 12:01:07.246476: I tensorflow/core/platform/cpu_feature_guard.cc:182] This TensorFlow binary is optimized to use available CPU instructions in performance-critical operations.\n",
      "To enable the following instructions: AVX2 FMA, in other operations, rebuild TensorFlow with the appropriate compiler flags.\n",
      "2024-08-30 12:01:07.306421: E external/local_xla/xla/stream_executor/cuda/cuda_dnn.cc:9261] Unable to register cuDNN factory: Attempting to register factory for plugin cuDNN when one has already been registered\n",
      "2024-08-30 12:01:07.306460: E external/local_xla/xla/stream_executor/cuda/cuda_fft.cc:607] Unable to register cuFFT factory: Attempting to register factory for plugin cuFFT when one has already been registered\n",
      "2024-08-30 12:01:07.308025: E external/local_xla/xla/stream_executor/cuda/cuda_blas.cc:1515] Unable to register cuBLAS factory: Attempting to register factory for plugin cuBLAS when one has already been registered\n",
      "2024-08-30 12:01:07.316526: E external/local_xla/xla/stream_executor/cuda/cuda_dnn.cc:9261] Unable to register cuDNN factory: Attempting to register factory for plugin cuDNN when one has already been registered\n",
      "2024-08-30 12:01:07.316651: E external/local_xla/xla/stream_executor/cuda/cuda_fft.cc:607] Unable to register cuFFT factory: Attempting to register factory for plugin cuFFT when one has already been registered\n",
      "2024-08-30 12:01:07.317198: I tensorflow/core/platform/cpu_feature_guard.cc:182] This TensorFlow binary is optimized to use available CPU instructions in performance-critical operations.\n",
      "To enable the following instructions: AVX2 FMA, in other operations, rebuild TensorFlow with the appropriate compiler flags.\n",
      "2024-08-30 12:01:07.318189: E external/local_xla/xla/stream_executor/cuda/cuda_blas.cc:1515] Unable to register cuBLAS factory: Attempting to register factory for plugin cuBLAS when one has already been registered\n",
      "2024-08-30 12:01:07.327471: I tensorflow/core/platform/cpu_feature_guard.cc:182] This TensorFlow binary is optimized to use available CPU instructions in performance-critical operations.\n",
      "To enable the following instructions: AVX2 FMA, in other operations, rebuild TensorFlow with the appropriate compiler flags.\n",
      "2024-08-30 12:01:08.522549: W tensorflow/compiler/tf2tensorrt/utils/py_utils.cc:38] TF-TRT Warning: Could not find TensorRT\n",
      "2024-08-30 12:01:08.539658: W tensorflow/compiler/tf2tensorrt/utils/py_utils.cc:38] TF-TRT Warning: Could not find TensorRT\n",
      "2024-08-30 12:01:08.699838: W tensorflow/compiler/tf2tensorrt/utils/py_utils.cc:38] TF-TRT Warning: Could not find TensorRT\n",
      "2024-08-30 12:01:08.733789: W tensorflow/compiler/tf2tensorrt/utils/py_utils.cc:38] TF-TRT Warning: Could not find TensorRT\n",
      "2024-08-30 12:01:08.837828: W tensorflow/compiler/tf2tensorrt/utils/py_utils.cc:38] TF-TRT Warning: Could not find TensorRT\n",
      "2024-08-30 12:01:08.847993: W tensorflow/compiler/tf2tensorrt/utils/py_utils.cc:38] TF-TRT Warning: Could not find TensorRT\n",
      "2024-08-30 12:01:08.998370: W tensorflow/compiler/tf2tensorrt/utils/py_utils.cc:38] TF-TRT Warning: Could not find TensorRT\n",
      "100%|███████████████████████████████████| 73827/73827 [00:33<00:00, 2203.57it/s]\n",
      "100%|███████████████████████████████████| 12305/12305 [00:04<00:00, 2762.67it/s]\n",
      "100%|███████████████████████████████████| 21533/21533 [00:08<00:00, 2521.35it/s]\n",
      "100%|█████████████████████████████████████| 2331/2331 [00:00<00:00, 8722.08it/s]\n",
      "100%|███████████████████████████████████| 11831/11831 [00:01<00:00, 6361.82it/s]\n",
      "100%|███████████████████████████████████| 27428/27428 [00:04<00:00, 5816.20it/s]\n",
      "100%|███████████████████████████████████████| 810/810 [00:00<00:00, 5861.49it/s]\n",
      "100%|███████████████████████████████████| 27429/27429 [00:04<00:00, 5722.66it/s]\n",
      "100%|█████████████████████████████████████| 3998/3998 [00:00<00:00, 8156.48it/s]\n",
      "100%|███████████████████████████████████████| 388/388 [00:00<00:00, 4409.54it/s]\n",
      "100%|█████████████████████████████████████| 1972/1972 [00:00<00:00, 7547.50it/s]\n",
      "100%|█████████████████████████████████████| 4572/4572 [00:00<00:00, 9648.77it/s]\n",
      "100%|███████████████████████████████████████| 135/135 [00:00<00:00, 2999.11it/s]\n",
      "100%|█████████████████████████████████████| 4571/4571 [00:00<00:00, 7117.42it/s]\n",
      "100%|███████████████████████████████████████| 667/667 [00:00<00:00, 5254.63it/s]\n",
      "100%|███████████████████████████████████████| 680/680 [00:00<00:00, 4732.08it/s]\n",
      "100%|█████████████████████████████████████| 3451/3451 [00:00<00:00, 3880.24it/s]\n",
      "100%|█████████████████████████████████████| 8000/8000 [00:00<00:00, 9262.05it/s]\n",
      "100%|███████████████████████████████████████| 236/236 [00:00<00:00, 3569.61it/s]\n",
      "100%|█████████████████████████████████████| 8000/8000 [00:00<00:00, 9491.05it/s]\n",
      "100%|█████████████████████████████████████| 1166/1166 [00:00<00:00, 7213.11it/s]\n"
     ]
    },
    {
     "name": "stdout",
     "output_type": "stream",
     "text": [
      "./Folds/Fold_2/\n"
     ]
    },
    {
     "name": "stderr",
     "output_type": "stream",
     "text": [
      "100%|███████████████████████████████████| 73827/73827 [00:28<00:00, 2584.42it/s]\n",
      "100%|███████████████████████████████████| 12305/12305 [00:04<00:00, 3025.38it/s]\n",
      "100%|███████████████████████████████████| 21533/21533 [00:08<00:00, 2547.38it/s]\n",
      "100%|█████████████████████████████████████| 2330/2330 [00:00<00:00, 8585.35it/s]\n",
      "100%|███████████████████████████████████| 11832/11832 [00:01<00:00, 8123.69it/s]\n",
      "100%|███████████████████████████████████| 27428/27428 [00:04<00:00, 5821.39it/s]\n",
      "100%|███████████████████████████████████████| 810/810 [00:00<00:00, 5752.59it/s]\n",
      "100%|███████████████████████████████████| 27429/27429 [00:04<00:00, 5820.67it/s]\n",
      "100%|█████████████████████████████████████| 3998/3998 [00:00<00:00, 8104.01it/s]\n",
      "100%|███████████████████████████████████████| 389/389 [00:00<00:00, 4888.48it/s]\n",
      "100%|█████████████████████████████████████| 1971/1971 [00:00<00:00, 7778.69it/s]\n",
      "100%|████████████████████████████████████| 4572/4572 [00:00<00:00, 10030.26it/s]\n",
      "100%|███████████████████████████████████████| 135/135 [00:00<00:00, 3000.19it/s]\n",
      "100%|████████████████████████████████████| 4571/4571 [00:00<00:00, 10165.67it/s]\n",
      "100%|███████████████████████████████████████| 667/667 [00:00<00:00, 5105.83it/s]\n",
      "100%|███████████████████████████████████████| 680/680 [00:00<00:00, 4280.11it/s]\n",
      "100%|█████████████████████████████████████| 3451/3451 [00:00<00:00, 9773.99it/s]\n",
      "100%|█████████████████████████████████████| 8000/8000 [00:00<00:00, 9404.06it/s]\n",
      "100%|███████████████████████████████████████| 236/236 [00:00<00:00, 3331.15it/s]\n",
      "100%|█████████████████████████████████████| 8000/8000 [00:00<00:00, 8784.22it/s]\n",
      "100%|█████████████████████████████████████| 1166/1166 [00:00<00:00, 6651.02it/s]\n"
     ]
    },
    {
     "name": "stdout",
     "output_type": "stream",
     "text": [
      "./Folds/Fold_3/\n"
     ]
    },
    {
     "name": "stderr",
     "output_type": "stream",
     "text": [
      "100%|███████████████████████████████████| 73827/73827 [00:28<00:00, 2564.51it/s]\n",
      "100%|███████████████████████████████████| 12305/12305 [00:04<00:00, 2597.10it/s]\n",
      "100%|███████████████████████████████████| 21533/21533 [00:08<00:00, 2617.10it/s]\n",
      "100%|█████████████████████████████████████| 2330/2330 [00:00<00:00, 7499.15it/s]\n",
      "100%|███████████████████████████████████| 11831/11831 [00:01<00:00, 8349.68it/s]\n",
      "100%|███████████████████████████████████| 27428/27428 [00:04<00:00, 5768.50it/s]\n",
      "100%|███████████████████████████████████████| 810/810 [00:00<00:00, 5521.33it/s]\n",
      "100%|███████████████████████████████████| 27429/27429 [00:03<00:00, 7370.64it/s]\n",
      "100%|█████████████████████████████████████| 3999/3999 [00:00<00:00, 9006.99it/s]\n",
      "100%|███████████████████████████████████████| 389/389 [00:00<00:00, 4306.61it/s]\n",
      "100%|█████████████████████████████████████| 1972/1972 [00:00<00:00, 7485.72it/s]\n",
      "100%|█████████████████████████████████████| 4572/4572 [00:00<00:00, 9595.62it/s]\n",
      "100%|███████████████████████████████████████| 135/135 [00:00<00:00, 3142.08it/s]\n",
      "100%|████████████████████████████████████| 4571/4571 [00:00<00:00, 11039.50it/s]\n",
      "100%|███████████████████████████████████████| 666/666 [00:00<00:00, 5294.15it/s]\n",
      "100%|███████████████████████████████████████| 680/680 [00:00<00:00, 4707.58it/s]\n",
      "100%|█████████████████████████████████████| 3451/3451 [00:00<00:00, 9785.01it/s]\n",
      "100%|█████████████████████████████████████| 8000/8000 [00:00<00:00, 9039.25it/s]\n",
      "100%|███████████████████████████████████████| 236/236 [00:00<00:00, 3712.20it/s]\n",
      "100%|█████████████████████████████████████| 8000/8000 [00:00<00:00, 8929.29it/s]\n",
      "100%|█████████████████████████████████████| 1166/1166 [00:00<00:00, 7163.04it/s]\n"
     ]
    },
    {
     "name": "stdout",
     "output_type": "stream",
     "text": [
      "./Folds/Fold_4/\n"
     ]
    },
    {
     "name": "stderr",
     "output_type": "stream",
     "text": [
      "100%|███████████████████████████████████| 73827/73827 [00:29<00:00, 2515.81it/s]\n",
      "100%|███████████████████████████████████| 12305/12305 [00:04<00:00, 3032.47it/s]\n",
      "100%|███████████████████████████████████| 21533/21533 [00:08<00:00, 2539.38it/s]\n",
      "100%|█████████████████████████████████████| 2330/2330 [00:00<00:00, 8611.42it/s]\n",
      "100%|███████████████████████████████████| 11831/11831 [00:01<00:00, 7691.77it/s]\n",
      "100%|███████████████████████████████████| 27429/27429 [00:04<00:00, 6034.49it/s]\n",
      "100%|███████████████████████████████████████| 810/810 [00:00<00:00, 5054.51it/s]\n",
      "100%|███████████████████████████████████| 27428/27428 [00:04<00:00, 6065.07it/s]\n",
      "100%|█████████████████████████████████████| 3999/3999 [00:00<00:00, 8884.38it/s]\n",
      "100%|███████████████████████████████████████| 389/389 [00:00<00:00, 4520.02it/s]\n",
      "100%|█████████████████████████████████████| 1972/1972 [00:00<00:00, 7507.46it/s]\n",
      "100%|█████████████████████████████████████| 4571/4571 [00:00<00:00, 9607.77it/s]\n",
      "100%|███████████████████████████████████████| 135/135 [00:00<00:00, 3021.78it/s]\n",
      "100%|█████████████████████████████████████| 4572/4572 [00:00<00:00, 9932.26it/s]\n",
      "100%|███████████████████████████████████████| 666/666 [00:00<00:00, 4871.04it/s]\n",
      "100%|███████████████████████████████████████| 680/680 [00:00<00:00, 4907.14it/s]\n",
      "100%|█████████████████████████████████████| 3451/3451 [00:00<00:00, 9325.24it/s]\n",
      "100%|█████████████████████████████████████| 8000/8000 [00:01<00:00, 4756.18it/s]\n",
      "100%|███████████████████████████████████████| 236/236 [00:00<00:00, 3557.96it/s]\n",
      "100%|█████████████████████████████████████| 8000/8000 [00:00<00:00, 9354.86it/s]\n",
      "100%|█████████████████████████████████████| 1166/1166 [00:00<00:00, 7308.80it/s]\n"
     ]
    },
    {
     "name": "stdout",
     "output_type": "stream",
     "text": [
      "./Folds/Fold_5/\n"
     ]
    },
    {
     "name": "stderr",
     "output_type": "stream",
     "text": [
      "100%|███████████████████████████████████| 73828/73828 [00:29<00:00, 2487.06it/s]\n",
      "100%|███████████████████████████████████| 12304/12304 [00:04<00:00, 2709.27it/s]\n",
      "100%|███████████████████████████████████| 21533/21533 [00:08<00:00, 2589.78it/s]\n",
      "100%|█████████████████████████████████████| 2331/2331 [00:00<00:00, 7931.40it/s]\n",
      "100%|███████████████████████████████████| 11831/11831 [00:01<00:00, 8494.60it/s]\n",
      "100%|███████████████████████████████████| 27429/27429 [00:03<00:00, 7100.56it/s]\n",
      "100%|███████████████████████████████████████| 810/810 [00:00<00:00, 5841.29it/s]\n",
      "100%|███████████████████████████████████| 27428/27428 [00:04<00:00, 5741.97it/s]\n",
      "100%|█████████████████████████████████████| 3999/3999 [00:00<00:00, 9001.38it/s]\n",
      "100%|███████████████████████████████████████| 388/388 [00:00<00:00, 3576.56it/s]\n",
      "100%|█████████████████████████████████████| 1972/1972 [00:00<00:00, 7504.83it/s]\n",
      "100%|████████████████████████████████████| 4571/4571 [00:00<00:00, 10567.16it/s]\n",
      "100%|███████████████████████████████████████| 135/135 [00:00<00:00, 3286.61it/s]\n",
      "100%|████████████████████████████████████| 4572/4572 [00:00<00:00, 10471.63it/s]\n",
      "100%|███████████████████████████████████████| 666/666 [00:00<00:00, 4372.22it/s]\n",
      "100%|███████████████████████████████████████| 680/680 [00:00<00:00, 3908.02it/s]\n",
      "100%|█████████████████████████████████████| 3451/3451 [00:01<00:00, 2943.69it/s]\n",
      "100%|█████████████████████████████████████| 8000/8000 [00:00<00:00, 8034.12it/s]\n",
      "100%|███████████████████████████████████████| 236/236 [00:00<00:00, 3694.70it/s]\n",
      "100%|█████████████████████████████████████| 8000/8000 [00:00<00:00, 9744.71it/s]\n",
      "100%|█████████████████████████████████████| 1166/1166 [00:00<00:00, 6786.37it/s]\n"
     ]
    },
    {
     "name": "stdout",
     "output_type": "stream",
     "text": [
      "./Folds/Fold_6/\n"
     ]
    },
    {
     "name": "stderr",
     "output_type": "stream",
     "text": [
      "100%|███████████████████████████████████| 73828/73828 [00:29<00:00, 2525.34it/s]\n",
      "100%|███████████████████████████████████| 12304/12304 [00:04<00:00, 2630.91it/s]\n",
      "100%|███████████████████████████████████| 21533/21533 [00:07<00:00, 2792.31it/s]\n",
      "100%|█████████████████████████████████████| 2331/2331 [00:00<00:00, 8388.91it/s]\n",
      "100%|███████████████████████████████████| 11831/11831 [00:01<00:00, 8312.48it/s]\n",
      "100%|███████████████████████████████████| 27429/27429 [00:04<00:00, 5638.77it/s]\n",
      "100%|███████████████████████████████████████| 810/810 [00:00<00:00, 5894.66it/s]\n",
      "100%|███████████████████████████████████| 27428/27428 [00:03<00:00, 7160.69it/s]\n",
      "100%|█████████████████████████████████████| 3999/3999 [00:00<00:00, 8128.67it/s]\n",
      "100%|███████████████████████████████████████| 388/388 [00:00<00:00, 4308.36it/s]\n",
      "100%|█████████████████████████████████████| 1972/1972 [00:00<00:00, 6548.37it/s]\n",
      "100%|█████████████████████████████████████| 4571/4571 [00:00<00:00, 7108.74it/s]\n",
      "100%|███████████████████████████████████████| 135/135 [00:00<00:00, 2760.18it/s]\n",
      "100%|█████████████████████████████████████| 4572/4572 [00:00<00:00, 7628.70it/s]\n",
      "100%|███████████████████████████████████████| 666/666 [00:00<00:00, 4693.70it/s]\n",
      "100%|███████████████████████████████████████| 680/680 [00:00<00:00, 5430.33it/s]\n",
      "100%|█████████████████████████████████████| 3451/3451 [00:00<00:00, 9544.63it/s]\n",
      "100%|█████████████████████████████████████| 8000/8000 [00:00<00:00, 9098.05it/s]\n",
      "100%|███████████████████████████████████████| 236/236 [00:00<00:00, 3353.86it/s]\n",
      "100%|█████████████████████████████████████| 8000/8000 [00:00<00:00, 9009.23it/s]\n",
      "100%|█████████████████████████████████████| 1166/1166 [00:00<00:00, 6941.85it/s]\n"
     ]
    },
    {
     "name": "stdout",
     "output_type": "stream",
     "text": [
      "./Folds/Fold_7/\n"
     ]
    },
    {
     "name": "stderr",
     "output_type": "stream",
     "text": [
      "100%|███████████████████████████████████| 73828/73828 [00:29<00:00, 2521.40it/s]\n",
      "100%|███████████████████████████████████| 12304/12304 [00:04<00:00, 2971.06it/s]\n",
      "100%|███████████████████████████████████| 21533/21533 [00:08<00:00, 2602.59it/s]\n",
      "100%|█████████████████████████████████████| 2331/2331 [00:00<00:00, 8518.32it/s]\n",
      "100%|███████████████████████████████████| 11831/11831 [00:01<00:00, 8474.75it/s]\n",
      "100%|███████████████████████████████████| 27429/27429 [00:04<00:00, 5554.88it/s]\n",
      "100%|███████████████████████████████████████| 810/810 [00:00<00:00, 6254.95it/s]\n",
      "100%|███████████████████████████████████| 27429/27429 [00:04<00:00, 6051.22it/s]\n",
      "100%|█████████████████████████████████████| 3998/3998 [00:00<00:00, 8318.74it/s]\n",
      "100%|███████████████████████████████████████| 388/388 [00:00<00:00, 4313.72it/s]\n",
      "100%|█████████████████████████████████████| 1972/1972 [00:00<00:00, 7782.76it/s]\n",
      "100%|████████████████████████████████████| 4571/4571 [00:00<00:00, 10177.38it/s]\n",
      "100%|███████████████████████████████████████| 135/135 [00:00<00:00, 3063.16it/s]\n",
      "100%|█████████████████████████████████████| 4571/4571 [00:00<00:00, 8615.22it/s]\n",
      "100%|███████████████████████████████████████| 667/667 [00:00<00:00, 5552.33it/s]\n",
      "100%|███████████████████████████████████████| 680/680 [00:00<00:00, 5153.93it/s]\n",
      "100%|█████████████████████████████████████| 3451/3451 [00:00<00:00, 9700.35it/s]\n",
      "100%|█████████████████████████████████████| 8000/8000 [00:00<00:00, 9522.79it/s]\n",
      "100%|███████████████████████████████████████| 236/236 [00:00<00:00, 3547.83it/s]\n",
      "100%|█████████████████████████████████████| 8000/8000 [00:01<00:00, 4491.40it/s]\n",
      "100%|█████████████████████████████████████| 1166/1166 [00:00<00:00, 7062.13it/s]\n"
     ]
    }
   ],
   "source": [
    "# Create the container folder\n",
    "if not os.path.exists('./Folds'):\n",
    "    os.mkdir('./Folds')\n",
    "    \n",
    "for fold in folds:\n",
    "    train_files = glob(os.path.join(fold, '*'))\n",
    "    train_path = [i for i in train_files if 'train' in i][0]\n",
    "    val_path = [i for i in train_files if 'val' in i][0]\n",
    "    \n",
    "    path_fold = fold.replace('../../01_CreateFolds/'+survey,'.')+'/'\n",
    "    if not os.path.exists(path_fold):\n",
    "        os.mkdir(path_fold)\n",
    "\n",
    "    print(path_fold)\n",
    "    \n",
    "    kwargs2['file_train']=train_path\n",
    "    kwargs2['file_val'] =val_path\n",
    "    kwargs2['file_test'] =test_path\n",
    "    kwargs2['save_dir'] = path_fold\n",
    "    P.prepare(**kwargs2)\n",
    "\n",
    "    "
   ]
  },
  {
   "cell_type": "code",
   "execution_count": null,
   "metadata": {},
   "outputs": [],
   "source": []
  },
  {
   "cell_type": "code",
   "execution_count": null,
   "metadata": {},
   "outputs": [],
   "source": []
  }
 ],
 "metadata": {
  "kernelspec": {
   "display_name": "Python 3 (ipykernel)",
   "language": "python",
   "name": "python3"
  },
  "language_info": {
   "codemirror_mode": {
    "name": "ipython",
    "version": 3
   },
   "file_extension": ".py",
   "mimetype": "text/x-python",
   "name": "python",
   "nbconvert_exporter": "python",
   "pygments_lexer": "ipython3",
   "version": "3.10.12"
  }
 },
 "nbformat": 4,
 "nbformat_minor": 4
}
