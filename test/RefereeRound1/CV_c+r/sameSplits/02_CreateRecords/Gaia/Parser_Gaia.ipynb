{
 "cells": [
  {
   "cell_type": "code",
   "execution_count": 1,
   "metadata": {
    "tags": []
   },
   "outputs": [
    {
     "name": "stderr",
     "output_type": "stream",
     "text": [
      "2024-12-04 21:44:15.334901: E external/local_xla/xla/stream_executor/cuda/cuda_dnn.cc:9261] Unable to register cuDNN factory: Attempting to register factory for plugin cuDNN when one has already been registered\n",
      "2024-12-04 21:44:15.334937: E external/local_xla/xla/stream_executor/cuda/cuda_fft.cc:607] Unable to register cuFFT factory: Attempting to register factory for plugin cuFFT when one has already been registered\n",
      "2024-12-04 21:44:15.335929: E external/local_xla/xla/stream_executor/cuda/cuda_blas.cc:1515] Unable to register cuBLAS factory: Attempting to register factory for plugin cuBLAS when one has already been registered\n",
      "2024-12-04 21:44:15.341964: I tensorflow/core/platform/cpu_feature_guard.cc:182] This TensorFlow binary is optimized to use available CPU instructions in performance-critical operations.\n",
      "To enable the following instructions: AVX2 FMA, in other operations, rebuild TensorFlow with the appropriate compiler flags.\n",
      "2024-12-04 21:44:16.342379: W tensorflow/compiler/tf2tensorrt/utils/py_utils.cc:38] TF-TRT Warning: Could not find TensorRT\n"
     ]
    }
   ],
   "source": [
    "import os\n",
    "from glob import glob\n",
    "\n",
    "from ScalableLib.base.Load_Process import prepData"
   ]
  },
  {
   "cell_type": "markdown",
   "metadata": {},
   "source": [
    "Get the different fold files. Tran-val and test sets."
   ]
  },
  {
   "cell_type": "code",
   "execution_count": 2,
   "metadata": {},
   "outputs": [],
   "source": [
    "survey = 'Gaia'"
   ]
  },
  {
   "cell_type": "code",
   "execution_count": 3,
   "metadata": {
    "tags": []
   },
   "outputs": [
    {
     "data": {
      "text/plain": [
       "['../../01_CreateFolds/Gaia/Folds/Fold_1',\n",
       " '../../01_CreateFolds/Gaia/Folds/Fold_2',\n",
       " '../../01_CreateFolds/Gaia/Folds/Fold_3',\n",
       " '../../01_CreateFolds/Gaia/Folds/Fold_4',\n",
       " '../../01_CreateFolds/Gaia/Folds/Fold_5',\n",
       " '../../01_CreateFolds/Gaia/Folds/Fold_6',\n",
       " '../../01_CreateFolds/Gaia/Folds/Fold_7']"
      ]
     },
     "execution_count": 3,
     "metadata": {},
     "output_type": "execute_result"
    }
   ],
   "source": [
    "\n",
    "path_folds = os.path.join('../../01_CreateFolds/{}/Folds/*'.format(survey))\n",
    "\n",
    "# Get the folder paths\n",
    "folds = glob(path_folds)\n",
    "# Get the test file path\n",
    "test_path = [i for i in folds if 'test' in i][0]\n",
    "# Remove the test path from the list\n",
    "folds.remove(test_path)\n",
    "# Sort to work from the first fold onwards\n",
    "folds.sort()\n",
    "folds"
   ]
  },
  {
   "cell_type": "markdown",
   "metadata": {},
   "source": [
    "For each fold, process the information and store it.\n",
    "\n",
    "The **P** object is defined with its keyword arguments. \n",
    "\n",
    "Then the kwargs are defined to be used as inputs of the prepare method."
   ]
  },
  {
   "cell_type": "code",
   "execution_count": 4,
   "metadata": {
    "tags": []
   },
   "outputs": [],
   "source": [
    "kwargs1={\n",
    "'max_l' : 40000,\n",
    "'min_l' : 1000,\n",
    "'min_n': 10,\n",
    "'max_n' : 1000,\n",
    "'w' : 2,\n",
    "'s':1,\n",
    "'njobs':7,\n",
    "'n_bands':2,\n",
    "}\n",
    "P = prepData(**kwargs1)"
   ]
  },
  {
   "cell_type": "code",
   "execution_count": 5,
   "metadata": {
    "tags": []
   },
   "outputs": [],
   "source": [
    "kwargs2={\n",
    "    'dataset_header': ['ID', 'Path', 'Class', 'N', 'N_b', 'N_r'],\n",
    "    'lc_parameters': {'sep':',', 'header':0, 'na_filter':True, 'engine':'c'},\n",
    "    'params_phys': [ 'T_eff','Lum','Mass', 'rho','Radius', 'logg'], \n",
    "    'params_phys_est': [],\n",
    "}"
   ]
  },
  {
   "cell_type": "code",
   "execution_count": 6,
   "metadata": {
    "tags": []
   },
   "outputs": [
    {
     "name": "stdout",
     "output_type": "stream",
     "text": [
      "./Folds/Fold_1/\n"
     ]
    },
    {
     "name": "stderr",
     "output_type": "stream",
     "text": [
      "  0%|                                         | 7/73827 [00:00<34:08, 36.04it/s]2024-12-04 21:44:19.283217: E external/local_xla/xla/stream_executor/cuda/cuda_dnn.cc:9261] Unable to register cuDNN factory: Attempting to register factory for plugin cuDNN when one has already been registered\n",
      "2024-12-04 21:44:19.283253: E external/local_xla/xla/stream_executor/cuda/cuda_fft.cc:607] Unable to register cuFFT factory: Attempting to register factory for plugin cuFFT when one has already been registered\n",
      "2024-12-04 21:44:19.284424: E external/local_xla/xla/stream_executor/cuda/cuda_blas.cc:1515] Unable to register cuBLAS factory: Attempting to register factory for plugin cuBLAS when one has already been registered\n",
      "2024-12-04 21:44:19.290320: I tensorflow/core/platform/cpu_feature_guard.cc:182] This TensorFlow binary is optimized to use available CPU instructions in performance-critical operations.\n",
      "To enable the following instructions: AVX2 FMA, in other operations, rebuild TensorFlow with the appropriate compiler flags.\n",
      "2024-12-04 21:44:19.464370: E external/local_xla/xla/stream_executor/cuda/cuda_dnn.cc:9261] Unable to register cuDNN factory: Attempting to register factory for plugin cuDNN when one has already been registered\n",
      "2024-12-04 21:44:19.464412: E external/local_xla/xla/stream_executor/cuda/cuda_fft.cc:607] Unable to register cuFFT factory: Attempting to register factory for plugin cuFFT when one has already been registered\n",
      "2024-12-04 21:44:19.465798: E external/local_xla/xla/stream_executor/cuda/cuda_blas.cc:1515] Unable to register cuBLAS factory: Attempting to register factory for plugin cuBLAS when one has already been registered\n",
      "2024-12-04 21:44:19.474714: I tensorflow/core/platform/cpu_feature_guard.cc:182] This TensorFlow binary is optimized to use available CPU instructions in performance-critical operations.\n",
      "To enable the following instructions: AVX2 FMA, in other operations, rebuild TensorFlow with the appropriate compiler flags.\n",
      "2024-12-04 21:44:19.496629: E external/local_xla/xla/stream_executor/cuda/cuda_dnn.cc:9261] Unable to register cuDNN factory: Attempting to register factory for plugin cuDNN when one has already been registered\n",
      "2024-12-04 21:44:19.496671: E external/local_xla/xla/stream_executor/cuda/cuda_fft.cc:607] Unable to register cuFFT factory: Attempting to register factory for plugin cuFFT when one has already been registered\n",
      "2024-12-04 21:44:19.499265: E external/local_xla/xla/stream_executor/cuda/cuda_blas.cc:1515] Unable to register cuBLAS factory: Attempting to register factory for plugin cuBLAS when one has already been registered\n",
      "2024-12-04 21:44:19.508287: I tensorflow/core/platform/cpu_feature_guard.cc:182] This TensorFlow binary is optimized to use available CPU instructions in performance-critical operations.\n",
      "To enable the following instructions: AVX2 FMA, in other operations, rebuild TensorFlow with the appropriate compiler flags.\n",
      "2024-12-04 21:44:19.512176: E external/local_xla/xla/stream_executor/cuda/cuda_dnn.cc:9261] Unable to register cuDNN factory: Attempting to register factory for plugin cuDNN when one has already been registered\n",
      "2024-12-04 21:44:19.512294: E external/local_xla/xla/stream_executor/cuda/cuda_fft.cc:607] Unable to register cuFFT factory: Attempting to register factory for plugin cuFFT when one has already been registered\n",
      "2024-12-04 21:44:19.513742: E external/local_xla/xla/stream_executor/cuda/cuda_blas.cc:1515] Unable to register cuBLAS factory: Attempting to register factory for plugin cuBLAS when one has already been registered\n",
      "2024-12-04 21:44:19.522565: I tensorflow/core/platform/cpu_feature_guard.cc:182] This TensorFlow binary is optimized to use available CPU instructions in performance-critical operations.\n",
      "To enable the following instructions: AVX2 FMA, in other operations, rebuild TensorFlow with the appropriate compiler flags.\n",
      "2024-12-04 21:44:19.538377: E external/local_xla/xla/stream_executor/cuda/cuda_dnn.cc:9261] Unable to register cuDNN factory: Attempting to register factory for plugin cuDNN when one has already been registered\n",
      "2024-12-04 21:44:19.538418: E external/local_xla/xla/stream_executor/cuda/cuda_fft.cc:607] Unable to register cuFFT factory: Attempting to register factory for plugin cuFFT when one has already been registered\n",
      "2024-12-04 21:44:19.539751: E external/local_xla/xla/stream_executor/cuda/cuda_blas.cc:1515] Unable to register cuBLAS factory: Attempting to register factory for plugin cuBLAS when one has already been registered\n",
      "2024-12-04 21:44:19.540647: E external/local_xla/xla/stream_executor/cuda/cuda_dnn.cc:9261] Unable to register cuDNN factory: Attempting to register factory for plugin cuDNN when one has already been registered\n",
      "2024-12-04 21:44:19.540740: E external/local_xla/xla/stream_executor/cuda/cuda_fft.cc:607] Unable to register cuFFT factory: Attempting to register factory for plugin cuFFT when one has already been registered\n",
      "2024-12-04 21:44:19.542187: E external/local_xla/xla/stream_executor/cuda/cuda_blas.cc:1515] Unable to register cuBLAS factory: Attempting to register factory for plugin cuBLAS when one has already been registered\n",
      "2024-12-04 21:44:19.546491: I tensorflow/core/platform/cpu_feature_guard.cc:182] This TensorFlow binary is optimized to use available CPU instructions in performance-critical operations.\n",
      "To enable the following instructions: AVX2 FMA, in other operations, rebuild TensorFlow with the appropriate compiler flags.\n",
      "2024-12-04 21:44:19.547272: E external/local_xla/xla/stream_executor/cuda/cuda_dnn.cc:9261] Unable to register cuDNN factory: Attempting to register factory for plugin cuDNN when one has already been registered\n",
      "2024-12-04 21:44:19.547368: E external/local_xla/xla/stream_executor/cuda/cuda_fft.cc:607] Unable to register cuFFT factory: Attempting to register factory for plugin cuFFT when one has already been registered\n",
      "2024-12-04 21:44:19.548827: E external/local_xla/xla/stream_executor/cuda/cuda_blas.cc:1515] Unable to register cuBLAS factory: Attempting to register factory for plugin cuBLAS when one has already been registered\n",
      "2024-12-04 21:44:19.552377: I tensorflow/core/platform/cpu_feature_guard.cc:182] This TensorFlow binary is optimized to use available CPU instructions in performance-critical operations.\n",
      "To enable the following instructions: AVX2 FMA, in other operations, rebuild TensorFlow with the appropriate compiler flags.\n",
      "2024-12-04 21:44:19.557933: I tensorflow/core/platform/cpu_feature_guard.cc:182] This TensorFlow binary is optimized to use available CPU instructions in performance-critical operations.\n",
      "To enable the following instructions: AVX2 FMA, in other operations, rebuild TensorFlow with the appropriate compiler flags.\n",
      "2024-12-04 21:44:20.750788: W tensorflow/compiler/tf2tensorrt/utils/py_utils.cc:38] TF-TRT Warning: Could not find TensorRT\n",
      "2024-12-04 21:44:20.844456: W tensorflow/compiler/tf2tensorrt/utils/py_utils.cc:38] TF-TRT Warning: Could not find TensorRT\n",
      "2024-12-04 21:44:21.036143: W tensorflow/compiler/tf2tensorrt/utils/py_utils.cc:38] TF-TRT Warning: Could not find TensorRT\n",
      "2024-12-04 21:44:21.112140: W tensorflow/compiler/tf2tensorrt/utils/py_utils.cc:38] TF-TRT Warning: Could not find TensorRT\n",
      "2024-12-04 21:44:21.188793: W tensorflow/compiler/tf2tensorrt/utils/py_utils.cc:38] TF-TRT Warning: Could not find TensorRT\n",
      "2024-12-04 21:44:21.198841: W tensorflow/compiler/tf2tensorrt/utils/py_utils.cc:38] TF-TRT Warning: Could not find TensorRT\n",
      "2024-12-04 21:44:21.212853: W tensorflow/compiler/tf2tensorrt/utils/py_utils.cc:38] TF-TRT Warning: Could not find TensorRT\n",
      "100%|███████████████████████████████████| 73827/73827 [00:38<00:00, 1920.48it/s]\n",
      "100%|███████████████████████████████████| 12305/12305 [00:04<00:00, 2485.73it/s]\n",
      "100%|███████████████████████████████████| 21533/21533 [00:09<00:00, 2258.54it/s]\n",
      "100%|███████████████████████████████████████| 810/810 [00:00<00:00, 4482.63it/s]\n",
      "100%|███████████████████████████████████| 11831/11831 [00:02<00:00, 5685.88it/s]\n",
      "100%|█████████████████████████████████████| 2331/2331 [00:00<00:00, 8311.79it/s]\n",
      "100%|███████████████████████████████████| 27428/27428 [00:04<00:00, 6117.09it/s]\n",
      "100%|█████████████████████████████████████| 3998/3998 [00:00<00:00, 7169.09it/s]\n",
      "100%|███████████████████████████████████| 27429/27429 [00:04<00:00, 5832.59it/s]\n",
      "100%|███████████████████████████████████████| 135/135 [00:00<00:00, 2081.79it/s]\n",
      "100%|█████████████████████████████████████| 1972/1972 [00:00<00:00, 7307.61it/s]\n",
      "100%|███████████████████████████████████████| 388/388 [00:00<00:00, 3185.82it/s]\n",
      "100%|█████████████████████████████████████| 4572/4572 [00:00<00:00, 9960.95it/s]\n",
      "100%|███████████████████████████████████████| 667/667 [00:00<00:00, 4502.12it/s]\n",
      "100%|█████████████████████████████████████| 4571/4571 [00:00<00:00, 6826.75it/s]\n",
      "100%|███████████████████████████████████████| 236/236 [00:00<00:00, 3276.30it/s]\n",
      "100%|█████████████████████████████████████| 3451/3451 [00:00<00:00, 7638.57it/s]\n",
      "100%|███████████████████████████████████████| 680/680 [00:00<00:00, 4455.12it/s]\n",
      "100%|█████████████████████████████████████| 8000/8000 [00:01<00:00, 5846.86it/s]\n",
      "100%|█████████████████████████████████████| 1166/1166 [00:00<00:00, 5777.68it/s]\n",
      "100%|█████████████████████████████████████| 8000/8000 [00:00<00:00, 9035.24it/s]\n"
     ]
    },
    {
     "name": "stdout",
     "output_type": "stream",
     "text": [
      "./Folds/Fold_2/\n"
     ]
    },
    {
     "name": "stderr",
     "output_type": "stream",
     "text": [
      "100%|███████████████████████████████████| 73827/73827 [00:39<00:00, 1884.03it/s]\n",
      "100%|███████████████████████████████████| 12305/12305 [00:06<00:00, 1820.99it/s]\n",
      "100%|███████████████████████████████████| 21533/21533 [00:10<00:00, 1993.59it/s]\n",
      "100%|███████████████████████████████████████| 810/810 [00:00<00:00, 5454.01it/s]\n",
      "100%|███████████████████████████████████| 11832/11832 [00:02<00:00, 5411.29it/s]\n",
      "100%|█████████████████████████████████████| 2330/2330 [00:00<00:00, 7825.94it/s]\n",
      "100%|███████████████████████████████████| 27428/27428 [00:05<00:00, 5110.75it/s]\n",
      "100%|█████████████████████████████████████| 3998/3998 [00:00<00:00, 7119.00it/s]\n",
      "100%|███████████████████████████████████| 27429/27429 [00:05<00:00, 4831.07it/s]\n",
      "100%|███████████████████████████████████████| 135/135 [00:00<00:00, 2424.04it/s]\n",
      "100%|█████████████████████████████████████| 1971/1971 [00:00<00:00, 6555.30it/s]\n",
      "100%|███████████████████████████████████████| 389/389 [00:00<00:00, 3839.28it/s]\n",
      "100%|█████████████████████████████████████| 4572/4572 [00:00<00:00, 6255.33it/s]\n",
      "100%|███████████████████████████████████████| 667/667 [00:00<00:00, 4135.79it/s]\n",
      "100%|█████████████████████████████████████| 4571/4571 [00:00<00:00, 6109.43it/s]\n",
      "100%|███████████████████████████████████████| 236/236 [00:00<00:00, 2953.49it/s]\n",
      "100%|█████████████████████████████████████| 3451/3451 [00:00<00:00, 8398.82it/s]\n",
      "100%|███████████████████████████████████████| 680/680 [00:00<00:00, 4292.34it/s]\n",
      "100%|█████████████████████████████████████| 8000/8000 [00:01<00:00, 6362.88it/s]\n",
      "100%|█████████████████████████████████████| 1166/1166 [00:00<00:00, 5858.96it/s]\n",
      "100%|█████████████████████████████████████| 8000/8000 [00:01<00:00, 7690.43it/s]\n"
     ]
    },
    {
     "name": "stdout",
     "output_type": "stream",
     "text": [
      "./Folds/Fold_3/\n"
     ]
    },
    {
     "name": "stderr",
     "output_type": "stream",
     "text": [
      "100%|███████████████████████████████████| 73827/73827 [00:39<00:00, 1855.10it/s]\n",
      "100%|███████████████████████████████████| 12305/12305 [00:05<00:00, 2315.19it/s]\n",
      "100%|███████████████████████████████████| 21533/21533 [00:09<00:00, 2329.05it/s]\n",
      "100%|███████████████████████████████████████| 810/810 [00:00<00:00, 5977.22it/s]\n",
      "100%|███████████████████████████████████| 11831/11831 [00:01<00:00, 6387.63it/s]\n",
      "100%|█████████████████████████████████████| 2330/2330 [00:00<00:00, 7886.70it/s]\n",
      "100%|███████████████████████████████████| 27428/27428 [00:04<00:00, 5808.07it/s]\n",
      "100%|█████████████████████████████████████| 3999/3999 [00:00<00:00, 8885.21it/s]\n",
      "100%|███████████████████████████████████| 27429/27429 [00:04<00:00, 5587.50it/s]\n",
      "100%|███████████████████████████████████████| 135/135 [00:00<00:00, 3193.74it/s]\n",
      "100%|█████████████████████████████████████| 1972/1972 [00:00<00:00, 6753.76it/s]\n",
      "100%|███████████████████████████████████████| 389/389 [00:00<00:00, 4401.15it/s]\n",
      "100%|█████████████████████████████████████| 4572/4572 [00:00<00:00, 9083.26it/s]\n",
      "100%|███████████████████████████████████████| 666/666 [00:00<00:00, 4009.74it/s]\n",
      "100%|█████████████████████████████████████| 4571/4571 [00:00<00:00, 9415.50it/s]\n",
      "100%|███████████████████████████████████████| 236/236 [00:00<00:00, 3098.63it/s]\n",
      "100%|█████████████████████████████████████| 3451/3451 [00:00<00:00, 8710.26it/s]\n",
      "100%|███████████████████████████████████████| 680/680 [00:00<00:00, 4749.78it/s]\n",
      "100%|█████████████████████████████████████| 8000/8000 [00:00<00:00, 8659.73it/s]\n",
      "100%|█████████████████████████████████████| 1166/1166 [00:00<00:00, 6775.38it/s]\n",
      "100%|█████████████████████████████████████| 8000/8000 [00:02<00:00, 3803.38it/s]\n"
     ]
    },
    {
     "name": "stdout",
     "output_type": "stream",
     "text": [
      "./Folds/Fold_4/\n"
     ]
    },
    {
     "name": "stderr",
     "output_type": "stream",
     "text": [
      "100%|███████████████████████████████████| 73827/73827 [00:37<00:00, 1947.23it/s]\n",
      "100%|███████████████████████████████████| 12305/12305 [00:05<00:00, 2323.62it/s]\n",
      "100%|███████████████████████████████████| 21533/21533 [00:09<00:00, 2349.92it/s]\n",
      "100%|███████████████████████████████████████| 810/810 [00:00<00:00, 5415.68it/s]\n",
      "100%|███████████████████████████████████| 11831/11831 [00:01<00:00, 6272.15it/s]\n",
      "100%|█████████████████████████████████████| 2330/2330 [00:00<00:00, 7751.85it/s]\n",
      "100%|███████████████████████████████████| 27429/27429 [00:04<00:00, 5755.99it/s]\n",
      "100%|█████████████████████████████████████| 3999/3999 [00:00<00:00, 7439.92it/s]\n",
      "100%|███████████████████████████████████| 27428/27428 [00:05<00:00, 5296.78it/s]\n",
      "100%|███████████████████████████████████████| 135/135 [00:00<00:00, 2873.36it/s]\n",
      "100%|█████████████████████████████████████| 1972/1972 [00:00<00:00, 6002.79it/s]\n",
      "100%|███████████████████████████████████████| 389/389 [00:00<00:00, 3623.62it/s]\n",
      "100%|█████████████████████████████████████| 4571/4571 [00:00<00:00, 5870.92it/s]\n",
      "100%|███████████████████████████████████████| 666/666 [00:00<00:00, 4236.06it/s]\n",
      "100%|█████████████████████████████████████| 4572/4572 [00:00<00:00, 6221.89it/s]\n",
      "100%|███████████████████████████████████████| 236/236 [00:00<00:00, 2666.44it/s]\n",
      "100%|█████████████████████████████████████| 3451/3451 [00:00<00:00, 7492.33it/s]\n",
      "100%|███████████████████████████████████████| 680/680 [00:00<00:00, 4184.20it/s]\n",
      "100%|█████████████████████████████████████| 8000/8000 [00:01<00:00, 6204.27it/s]\n",
      "100%|█████████████████████████████████████| 1166/1166 [00:00<00:00, 6078.35it/s]\n",
      "100%|█████████████████████████████████████| 8000/8000 [00:01<00:00, 6391.96it/s]\n"
     ]
    },
    {
     "name": "stdout",
     "output_type": "stream",
     "text": [
      "./Folds/Fold_5/\n"
     ]
    },
    {
     "name": "stderr",
     "output_type": "stream",
     "text": [
      "100%|███████████████████████████████████| 73828/73828 [00:38<00:00, 1895.00it/s]\n",
      "100%|███████████████████████████████████| 12304/12304 [00:05<00:00, 2179.09it/s]\n",
      "100%|███████████████████████████████████| 21533/21533 [00:09<00:00, 2317.88it/s]\n",
      "100%|███████████████████████████████████████| 810/810 [00:00<00:00, 4513.52it/s]\n",
      "100%|███████████████████████████████████| 11831/11831 [00:01<00:00, 7354.83it/s]\n",
      "100%|█████████████████████████████████████| 2331/2331 [00:00<00:00, 7799.38it/s]\n",
      "100%|███████████████████████████████████| 27429/27429 [00:05<00:00, 5440.57it/s]\n",
      "100%|█████████████████████████████████████| 3999/3999 [00:00<00:00, 7956.77it/s]\n",
      "100%|███████████████████████████████████| 27428/27428 [00:04<00:00, 5544.98it/s]\n",
      "100%|███████████████████████████████████████| 135/135 [00:00<00:00, 2174.38it/s]\n",
      "100%|█████████████████████████████████████| 1972/1972 [00:00<00:00, 6145.03it/s]\n",
      "100%|███████████████████████████████████████| 388/388 [00:00<00:00, 3905.04it/s]\n",
      "100%|█████████████████████████████████████| 4571/4571 [00:00<00:00, 6302.19it/s]\n",
      "100%|███████████████████████████████████████| 666/666 [00:00<00:00, 4605.66it/s]\n",
      "100%|█████████████████████████████████████| 4572/4572 [00:00<00:00, 5657.60it/s]\n",
      "100%|███████████████████████████████████████| 236/236 [00:00<00:00, 2978.99it/s]\n",
      "100%|█████████████████████████████████████| 3451/3451 [00:00<00:00, 8020.52it/s]\n",
      "100%|███████████████████████████████████████| 680/680 [00:00<00:00, 4207.87it/s]\n",
      "100%|█████████████████████████████████████| 8000/8000 [00:01<00:00, 6408.68it/s]\n",
      "100%|█████████████████████████████████████| 1166/1166 [00:00<00:00, 6539.77it/s]\n",
      "100%|█████████████████████████████████████| 8000/8000 [00:01<00:00, 6588.45it/s]\n"
     ]
    },
    {
     "name": "stdout",
     "output_type": "stream",
     "text": [
      "./Folds/Fold_6/\n"
     ]
    },
    {
     "name": "stderr",
     "output_type": "stream",
     "text": [
      "100%|███████████████████████████████████| 73828/73828 [00:39<00:00, 1853.67it/s]\n",
      "100%|███████████████████████████████████| 12304/12304 [00:06<00:00, 2045.41it/s]\n",
      "100%|███████████████████████████████████| 21533/21533 [00:11<00:00, 1882.52it/s]\n",
      "100%|███████████████████████████████████████| 810/810 [00:00<00:00, 4752.69it/s]\n",
      "100%|███████████████████████████████████| 11831/11831 [00:02<00:00, 5618.09it/s]\n",
      "100%|█████████████████████████████████████| 2331/2331 [00:00<00:00, 7542.25it/s]\n",
      "100%|███████████████████████████████████| 27429/27429 [00:05<00:00, 4963.26it/s]\n",
      "100%|█████████████████████████████████████| 3999/3999 [00:00<00:00, 7204.91it/s]\n",
      "100%|███████████████████████████████████| 27428/27428 [00:06<00:00, 4553.54it/s]\n",
      "100%|███████████████████████████████████████| 135/135 [00:00<00:00, 2566.64it/s]\n",
      "100%|█████████████████████████████████████| 1972/1972 [00:00<00:00, 5459.82it/s]\n",
      "100%|███████████████████████████████████████| 388/388 [00:00<00:00, 3574.17it/s]\n",
      "100%|█████████████████████████████████████| 4571/4571 [00:00<00:00, 6338.18it/s]\n",
      "100%|███████████████████████████████████████| 666/666 [00:00<00:00, 4356.99it/s]\n",
      "100%|█████████████████████████████████████| 4572/4572 [00:00<00:00, 6501.47it/s]\n",
      "100%|███████████████████████████████████████| 236/236 [00:00<00:00, 2659.22it/s]\n",
      "100%|█████████████████████████████████████| 3451/3451 [00:00<00:00, 7978.18it/s]\n",
      "100%|███████████████████████████████████████| 680/680 [00:00<00:00, 4411.98it/s]\n",
      "100%|█████████████████████████████████████| 8000/8000 [00:01<00:00, 6687.49it/s]\n",
      "100%|█████████████████████████████████████| 1166/1166 [00:00<00:00, 6140.15it/s]\n",
      "100%|█████████████████████████████████████| 8000/8000 [00:01<00:00, 7899.50it/s]\n"
     ]
    },
    {
     "name": "stdout",
     "output_type": "stream",
     "text": [
      "./Folds/Fold_7/\n"
     ]
    },
    {
     "name": "stderr",
     "output_type": "stream",
     "text": [
      "100%|███████████████████████████████████| 73828/73828 [00:40<00:00, 1824.05it/s]\n",
      "100%|███████████████████████████████████| 12304/12304 [00:06<00:00, 1996.01it/s]\n",
      "100%|███████████████████████████████████| 21533/21533 [00:11<00:00, 1831.18it/s]\n",
      "100%|███████████████████████████████████████| 810/810 [00:00<00:00, 4107.71it/s]\n",
      "100%|███████████████████████████████████| 11831/11831 [00:02<00:00, 5711.78it/s]\n",
      "100%|█████████████████████████████████████| 2331/2331 [00:00<00:00, 7762.88it/s]\n",
      "100%|███████████████████████████████████| 27429/27429 [00:05<00:00, 4682.33it/s]\n",
      "100%|█████████████████████████████████████| 3998/3998 [00:00<00:00, 7360.71it/s]\n",
      "100%|███████████████████████████████████| 27429/27429 [00:05<00:00, 4783.86it/s]\n",
      "100%|███████████████████████████████████████| 135/135 [00:00<00:00, 2630.07it/s]\n",
      "100%|█████████████████████████████████████| 1972/1972 [00:00<00:00, 6007.15it/s]\n",
      "100%|███████████████████████████████████████| 388/388 [00:00<00:00, 3838.56it/s]\n",
      "100%|█████████████████████████████████████| 4571/4571 [00:00<00:00, 6387.75it/s]\n",
      "100%|███████████████████████████████████████| 667/667 [00:00<00:00, 4600.08it/s]\n",
      "100%|█████████████████████████████████████| 4571/4571 [00:00<00:00, 6526.63it/s]\n",
      "100%|███████████████████████████████████████| 236/236 [00:00<00:00, 3039.06it/s]\n",
      "100%|█████████████████████████████████████| 3451/3451 [00:00<00:00, 8431.56it/s]\n",
      "100%|███████████████████████████████████████| 680/680 [00:00<00:00, 4525.59it/s]\n",
      "100%|█████████████████████████████████████| 8000/8000 [00:01<00:00, 5963.11it/s]\n",
      "100%|█████████████████████████████████████| 1166/1166 [00:00<00:00, 5937.21it/s]\n",
      "100%|█████████████████████████████████████| 8000/8000 [00:01<00:00, 6480.18it/s]\n"
     ]
    }
   ],
   "source": [
    "# Create the container folder\n",
    "if not os.path.exists('./Folds'):\n",
    "    os.mkdir('./Folds')\n",
    "    \n",
    "for fold in folds:\n",
    "    train_files = glob(os.path.join(fold, '*'))\n",
    "    train_path = [i for i in train_files if 'train' in i][0]\n",
    "    val_path = [i for i in train_files if 'val' in i][0]\n",
    "    \n",
    "    path_fold = fold.replace('../../01_CreateFolds/'+survey,'.')+'/'\n",
    "    if not os.path.exists(path_fold):\n",
    "        os.mkdir(path_fold)\n",
    "\n",
    "    print(path_fold)\n",
    "    \n",
    "    kwargs2['file_train']=train_path\n",
    "    kwargs2['file_val'] =val_path\n",
    "    kwargs2['file_test'] =test_path\n",
    "    kwargs2['save_dir'] = path_fold\n",
    "    P.prepare(**kwargs2)\n",
    "\n",
    "    "
   ]
  },
  {
   "cell_type": "code",
   "execution_count": null,
   "metadata": {},
   "outputs": [],
   "source": []
  },
  {
   "cell_type": "code",
   "execution_count": null,
   "metadata": {},
   "outputs": [],
   "source": []
  }
 ],
 "metadata": {
  "kernelspec": {
   "display_name": "Python 3 (ipykernel)",
   "language": "python",
   "name": "python3"
  },
  "language_info": {
   "codemirror_mode": {
    "name": "ipython",
    "version": 3
   },
   "file_extension": ".py",
   "mimetype": "text/x-python",
   "name": "python",
   "nbconvert_exporter": "python",
   "pygments_lexer": "ipython3",
   "version": "3.10.12"
  }
 },
 "nbformat": 4,
 "nbformat_minor": 4
}
