{
 "cells": [
  {
   "cell_type": "code",
   "execution_count": 2,
   "id": "e067c663-a676-487b-9571-f60887be9e74",
   "metadata": {},
   "outputs": [],
   "source": [
    "import pandas as pd\n",
    "import numpy as np\n",
    "import json\n",
    "from glob import glob"
   ]
  },
  {
   "cell_type": "code",
   "execution_count": 6,
   "id": "7c8943dc-0b0a-4c82-9bfa-21232738fb12",
   "metadata": {},
   "outputs": [],
   "source": [
    "# load the scalers\n",
    "path_scalers = '../02_CreateRecords/PanStarrs/Folds/*/scalers/*.json'\n",
    "all_scalers = glob(path_scalers)\n",
    "\n",
    "# Filter by the relevant ones\n",
    "relevant = ['T_eff','Radius']\n",
    "scalers = {}\n",
    "for rel in relevant:\n",
    "    scalers[rel] = [i for i in all_scalers if rel in i]"
   ]
  },
  {
   "cell_type": "code",
   "execution_count": 12,
   "id": "6ef8f81a-9dc0-4edb-8cd2-1cd94e8eeb03",
   "metadata": {},
   "outputs": [],
   "source": [
    "# work on the T_eff one\n",
    "param = 'T_eff'\n",
    "teff_scal = scalers[param]\n",
    "\n",
    "# Load the scalers\n",
    "scal = []\n",
    "for path in teff_scal:\n",
    "    with open(path, 'r') as file:\n",
    "        scal.append(json.load(file))\n"
   ]
  },
  {
   "cell_type": "code",
   "execution_count": 13,
   "id": "4611dc48-410f-4e44-b48e-ab380726ce53",
   "metadata": {},
   "outputs": [
    {
     "data": {
      "text/plain": [
       "[{'mean': 4413.430984359401, 'std': 2984.8569600738647},\n",
       " {'mean': 4391.681567431803, 'std': 2960.919261403178},\n",
       " {'mean': 4379.436123752495, 'std': 2984.0965141109505},\n",
       " {'mean': 4399.774530715475, 'std': 2975.457352811763},\n",
       " {'mean': 4412.90255906822, 'std': 3008.6029392316827},\n",
       " {'mean': 4374.435207886855, 'std': 2977.241728225244},\n",
       " {'mean': 4361.781684065203, 'std': 3014.995445295148}]"
      ]
     },
     "execution_count": 13,
     "metadata": {},
     "output_type": "execute_result"
    }
   ],
   "source": [
    "scal"
   ]
  },
  {
   "cell_type": "code",
   "execution_count": 43,
   "id": "8046f14f-c0b7-4ed9-a12f-f1fcded0223b",
   "metadata": {},
   "outputs": [],
   "source": [
    "# Load folds with the raw data\n",
    "path_folds_val = '../01_CreateFolds/PanStarrs/Folds/*/val.csv'\n",
    "path_folds_train= '../01_CreateFolds/PanStarrs/Folds/*/train.csv'\n",
    "path_folds_test= '../01_CreateFolds/PanStarrs/Folds/test.csv'\n",
    "# Get all the files\n",
    "folds_train = glob(path_folds_train)\n",
    "folds_train.sort()\n",
    "folds_val = glob(path_folds_val)\n",
    "folds_val.sort()\n",
    "# Get the train and val files open\n",
    "dfs_train = [pd.read_csv(fold, usecols=['ID']+relevant) for fold in folds_train]\n",
    "dfs_val = [pd.read_csv(fold, usecols=['ID']+relevant) for fold in folds_val]\n",
    "df_test = pd.read_csv(path_folds_test)"
   ]
  },
  {
   "cell_type": "code",
   "execution_count": 44,
   "id": "fe1018e0-3a37-45dd-81b1-17d8a9b8c687",
   "metadata": {},
   "outputs": [],
   "source": [
    "# Load the folds with the data passed thorugh the pipeline\n",
    "import sys\n",
    "import os\n",
    "from glob import glob\n",
    "\n",
    "import matplotlib.pyplot as plt\n",
    "import pandas as pd\n",
    "import numpy as np\n",
    "# Avoids warnings\n",
    "os.environ[\"TF_CPP_MIN_LOG_LEVEL\"] = \"1\"\n",
    "import tensorflow as tf\n",
    "sys.path.append('../../../../../src/')\n",
    "import ScalableLib.classifier.Multiband as multiband\n",
    "\n",
    "survey = 'PanStarrs'\n",
    "path = os.path.join('../02_CreateRecords/', survey, 'Folds/Fold_*',)\n",
    "folds = glob(path)\n",
    "folds.sort()\n",
    "\n",
    "if not os.path.exists('./Results'):\n",
    "    os.mkdir('./Results')\n",
    "\n",
    "train_args = {\n",
    "            'hidden_size_bands':[64, 64, 64],\n",
    "            'hidden_size_central':[64, 64, 64],\n",
    "            'fc_layers_bands':[128,128],\n",
    "            'fc_layers_central':[128,128], # Neurons of each layer\n",
    "            'regression_size':[128, 128],#each element is a layer with that size.\n",
    "            'buffer_size':10000,\n",
    "            'epochs':1000,\n",
    "            'num_threads':7,\n",
    "            'batch_size':512,\n",
    "            'dropout':0.35,\n",
    "            'lr':[[5e-3]*5, 2.5e-3], # [[band1, band2], central]\n",
    "            'val_steps':50,\n",
    "            'max_to_keep':0, # Not Used \n",
    "            'steps_wait':500, \n",
    "            'use_class_weights':False,# Not Used\n",
    "            'mode' : 'classifier+regression',\n",
    "            }\n",
    "# loss_weights = {'Class':300.0, 'T_eff':1.0,'Radius':1e0}\n",
    "loss_weights = {'Class':300.0, 'T_eff':20.0,'Radius':1e0}\n",
    "\n",
    "callbacks_args = {'patience': 20,\n",
    "                  'mode':'max',\n",
    "                  'restore_best_weights':True,\n",
    "                  'min_delta': 0.001\n",
    "                 }\n",
    "train_args_specific={\n",
    "                    'phys_params': ['T_eff', 'Radius'],\n",
    "                    'use_output_bands' : True,  # Working\n",
    "                    'use_output_central' : False, # Not used\n",
    "                    'use_common_layers' : False, # NOT Working\n",
    "                    'bidirectional_central' : False,# Working\n",
    "                    'bidirectional_band' : False,# Not Working\n",
    "                    'layer_norm_params' : None, # Used to normalyze common layers\n",
    "                    'use_gated_common' : False, # Working\n",
    "                    'l1':0.0,\n",
    "                    'l2':0.0,\n",
    "                    'N_skip' : 2, # Cannot be greater than the number of timesteps\n",
    "                    'use_raw_input_central': False,\n",
    "                    'train_steps_central' : 1,\n",
    "                    'print_report' : True,\n",
    "                    'loss_weights_central' : loss_weights,\n",
    "                    'callbacks_args':callbacks_args    \n",
    "                    }\n",
    "\n"
   ]
  },
  {
   "cell_type": "code",
   "execution_count": 45,
   "id": "2a08536b-23b2-44ae-8093-6dab37cdc326",
   "metadata": {},
   "outputs": [
    {
     "name": "stdout",
     "output_type": "stream",
     "text": [
      "./Results/Fold_1/Models/20241204-2014\n",
      "./Results/Fold_2/Models/20241204-2014\n"
     ]
    },
    {
     "name": "stderr",
     "output_type": "stream",
     "text": [
      "/Library/Frameworks/Python.framework/Versions/3.12/lib/python3.12/site-packages/keras/src/layers/layer.py:1210: UserWarning: Layer 'rnn_layers_bands' looks like it has unbuilt state, but Keras is not able to trace the layer `call()` in order to build it automatically. Possible causes:\n",
      "1. The `call()` method of your layer may be crashing. Try to `__call__()` the layer eagerly on some test input first to see if it works. E.g. `x = np.random.random((3, 4)); y = layer(x)`\n",
      "2. If the `call()` method is correct, then you may need to implement the `def build(self, input_shape)` method on your layer. It should create all variables used by the layer (e.g. by calling `layer.build()` on all its children layers).\n",
      "Exception encoutered: ''missing a required argument: 'sequences'''\n",
      "  warnings.warn(\n",
      "/Library/Frameworks/Python.framework/Versions/3.12/lib/python3.12/site-packages/keras/src/layers/layer.py:359: UserWarning: `build()` was called on layer 'rnn_layers_bands', however the layer does not have a `build()` method implemented and it looks like it has unbuilt state. This will cause the layer to be marked as built, despite not being actually built, which may cause failures down the line. Make sure to implement a proper `build()` method.\n",
      "  warnings.warn(\n"
     ]
    },
    {
     "name": "stdout",
     "output_type": "stream",
     "text": [
      "./Results/Fold_3/Models/20241204-2014\n",
      "./Results/Fold_4/Models/20241204-2014\n",
      "./Results/Fold_5/Models/20241204-2014\n",
      "./Results/Fold_6/Models/20241204-2014\n",
      "./Results/Fold_7/Models/20241204-2014\n"
     ]
    }
   ],
   "source": [
    "news = []\n",
    "for fold in folds:\n",
    "    tf.keras.backend.clear_session()\n",
    "    # Set the fold path\n",
    "    base_dir = fold+'/'\n",
    "\n",
    "    # Set the save path for this fold. Create folder if needed\n",
    "    path_results_fold = fold.replace('../02_CreateRecords/'+survey+'/', './').replace('/Folds/', '/Results/')\n",
    "    if not os.path.exists(path_results_fold):\n",
    "        os.mkdir(path_results_fold)\n",
    "        \n",
    "    train_args_specific['save_dir'] = path_results_fold\n",
    "    train_args_specific['metadata_pre_path'] = base_dir+'metadata_preprocess.json'\n",
    "    train_args_specific['path_scalers'] =  os.path.join(fold,'scalers')\n",
    "    # Define the train args\n",
    "    train_args = {**train_args, **train_args_specific}\n",
    "\n",
    "\n",
    "    train_files = base_dir+'train/*.tfrecord'\n",
    "    val_files = base_dir+'val/*.tfrecord'\n",
    "    test_files = base_dir+'test/*.tfrecord'\n",
    "\n",
    "    new = multiband.Network()\n",
    "    news.append(new)\n",
    "    try:\n",
    "        new.train(train_args, train_files, val_files, test_files)\n",
    "    # new.train_loop()\n",
    "    except:\n",
    "            continue"
   ]
  },
  {
   "cell_type": "code",
   "execution_count": 46,
   "id": "6ce9372b-2ae5-4fa3-b346-0aafb51e0dd1",
   "metadata": {},
   "outputs": [
    {
     "name": "stderr",
     "output_type": "stream",
     "text": [
      "2024-12-04 20:14:51.412846: W tensorflow/core/framework/local_rendezvous.cc:404] Local rendezvous is aborting with status: OUT_OF_RANGE: End of sequence\n",
      "2024-12-04 20:14:51.548476: W tensorflow/core/framework/local_rendezvous.cc:404] Local rendezvous is aborting with status: OUT_OF_RANGE: End of sequence\n",
      "2024-12-04 20:14:51.679598: W tensorflow/core/framework/local_rendezvous.cc:404] Local rendezvous is aborting with status: OUT_OF_RANGE: End of sequence\n",
      "2024-12-04 20:14:51.811021: W tensorflow/core/framework/local_rendezvous.cc:404] Local rendezvous is aborting with status: OUT_OF_RANGE: End of sequence\n",
      "2024-12-04 20:14:51.944391: W tensorflow/core/framework/local_rendezvous.cc:404] Local rendezvous is aborting with status: OUT_OF_RANGE: End of sequence\n",
      "2024-12-04 20:14:52.075861: W tensorflow/core/framework/local_rendezvous.cc:404] Local rendezvous is aborting with status: OUT_OF_RANGE: End of sequence\n",
      "2024-12-04 20:14:52.207950: W tensorflow/core/framework/local_rendezvous.cc:404] Local rendezvous is aborting with status: OUT_OF_RANGE: End of sequence\n"
     ]
    }
   ],
   "source": [
    "df_dataset = []\n",
    "for new in news:\n",
    "    df_temp = []\n",
    "    for batch in new.dataset_test:\n",
    "        ids = batch[0]['ID'].numpy().astype(np.int64)\n",
    "        teff = batch[1]['T_eff'].numpy()\n",
    "        radius = batch[1]['Radius'].numpy()\n",
    "        df = pd.DataFrame(data = {'T_eff':teff, 'Radius':radius}, index=ids)\n",
    "        df_temp.append(df)\n",
    "    df_dataset.append(pd.concat(df_temp, axis=0))\n",
    "        # df_teff = df[df.T_eff>0].drop('Radius', axis=1)\n",
    "        # df_rad = df[df.Radius>0].drop('T_eff', axis=1)"
   ]
  },
  {
   "cell_type": "markdown",
   "id": "5c4af169-c8f1-4480-bfa5-37127b2ca583",
   "metadata": {},
   "source": [
    "Now, let's evaluate the processed data from `df_dataset` with the raw data (`df_test`, `dfs_train`, `dfs_val`)processed with the scalers in `scal` for Teff."
   ]
  },
  {
   "cell_type": "code",
   "execution_count": 85,
   "id": "293584a0-478e-4186-a4c8-35a358426b69",
   "metadata": {},
   "outputs": [],
   "source": []
  },
  {
   "cell_type": "code",
   "execution_count": 88,
   "id": "d15958d0-eb10-418f-b96d-fed38b24ecbe",
   "metadata": {},
   "outputs": [
    {
     "data": {
      "text/plain": [
       "0.9984623759672677"
      ]
     },
     "execution_count": 88,
     "metadata": {},
     "output_type": "execute_result"
    }
   ],
   "source": [
    "# # Get R2 to see which is the correct scaler\n",
    "# from sklearn.metrics import r2_score\n",
    "# df_raw = df_test.copy()[['ID']+relevant].set_index('ID')\n",
    "\n",
    "# # Compare the processed data, see if we have a problem\n",
    "# raw_transform = ((df_raw[[param]]-sca['mean'])/sca['std']).rename({param:param+'_raw'}, axis=1)\n",
    "# rnn_transform =df_rnn.copy().rename({param:param+'_rnn'}, axis=1)\n",
    "# comparison_param = pd.merge(raw_transform, rnn_transform, left_index=True, right_index=True)\n",
    "\n",
    "# # Select the first fold for the processed\n",
    "# i =0\n",
    "# param = 'T_eff'\n",
    "# df_rnn = df_dataset[i]\n",
    "# df_rnn = df_rnn[df_rnn[param]>0][[param]]\n",
    "\n",
    "# # Select the test raw data and the first scaler\n",
    "# sca = scal[i]\n",
    "\n",
    "\n",
    "# r2 = r2_score(comparison_param[param+'_raw'], comparison_param[param+'_rnn'])\n"
   ]
  },
  {
   "cell_type": "code",
   "execution_count": 92,
   "id": "0633e7e4-58e0-4db7-854d-651c8105a61e",
   "metadata": {},
   "outputs": [],
   "source": [
    "# Get R2 to see which is the correct scaler\n",
    "from sklearn.metrics import r2_score\n",
    "\n",
    "param = 'T_eff'\n",
    "df_raw = df_test.copy()[['ID']+relevant].set_index('ID')\n",
    "r2s = {}\n",
    "comparisons = {}\n",
    "for i in range(len(scal)):\n",
    "    # Select the folds\n",
    "    # Select the test raw data and the first scaler\n",
    "    sca = scal[i]\n",
    "\n",
    "    # Compare the processed data, see if we have a problem\n",
    "    raw_transform = ((df_raw[[param]]-sca['mean'])/sca['std']).rename({param:param+'_raw'}, axis=1)\n",
    "\n",
    "    # Get the network data\n",
    "    df_rnn = df_dataset[i]\n",
    "    df_rnn = df_rnn[df_rnn[param]>0][[param]]\n",
    "    rnn_transform =df_rnn.copy().rename({param:param+'_rnn'}, axis=1)\n",
    "    \n",
    "    comparison_param = pd.merge(raw_transform, rnn_transform, left_index=True, right_index=True)\n",
    "    \n",
    "    r2 = r2_score(comparison_param[param+'_raw'], comparison_param[param+'_rnn'])\n",
    "    # Store the values\n",
    "    r2s[i]=r2\n",
    "    comparisons[i] = comparison_param"
   ]
  },
  {
   "cell_type": "code",
   "execution_count": 99,
   "id": "b8b36a72-c6d1-4dd3-98ad-19e00c40e71c",
   "metadata": {},
   "outputs": [
    {
     "data": {
      "text/html": [
       "<div>\n",
       "<style scoped>\n",
       "    .dataframe tbody tr th:only-of-type {\n",
       "        vertical-align: middle;\n",
       "    }\n",
       "\n",
       "    .dataframe tbody tr th {\n",
       "        vertical-align: top;\n",
       "    }\n",
       "\n",
       "    .dataframe thead th {\n",
       "        text-align: right;\n",
       "    }\n",
       "</style>\n",
       "<table border=\"1\" class=\"dataframe\">\n",
       "  <thead>\n",
       "    <tr style=\"text-align: right;\">\n",
       "      <th></th>\n",
       "      <th>T_eff_raw</th>\n",
       "      <th>T_eff_rnn</th>\n",
       "    </tr>\n",
       "  </thead>\n",
       "  <tbody>\n",
       "    <tr>\n",
       "      <th>90752870729198448</th>\n",
       "      <td>0.554125</td>\n",
       "      <td>0.554117</td>\n",
       "    </tr>\n",
       "    <tr>\n",
       "      <th>111850650934828506</th>\n",
       "      <td>0.788032</td>\n",
       "      <td>0.787658</td>\n",
       "    </tr>\n",
       "    <tr>\n",
       "      <th>115542702349595209</th>\n",
       "      <td>0.539828</td>\n",
       "      <td>0.539842</td>\n",
       "    </tr>\n",
       "    <tr>\n",
       "      <th>74652707998828066</th>\n",
       "      <td>0.133228</td>\n",
       "      <td>0.133878</td>\n",
       "    </tr>\n",
       "    <tr>\n",
       "      <th>87362697938833009</th>\n",
       "      <td>0.772282</td>\n",
       "      <td>0.771932</td>\n",
       "    </tr>\n",
       "    <tr>\n",
       "      <th>...</th>\n",
       "      <td>...</td>\n",
       "      <td>...</td>\n",
       "    </tr>\n",
       "    <tr>\n",
       "      <th>93772523605923026</th>\n",
       "      <td>0.019347</td>\n",
       "      <td>0.020176</td>\n",
       "    </tr>\n",
       "    <tr>\n",
       "      <th>128132569795921034</th>\n",
       "      <td>1.161344</td>\n",
       "      <td>1.160386</td>\n",
       "    </tr>\n",
       "    <tr>\n",
       "      <th>98022186269379486</th>\n",
       "      <td>0.722903</td>\n",
       "      <td>0.722630</td>\n",
       "    </tr>\n",
       "    <tr>\n",
       "      <th>137421240249180848</th>\n",
       "      <td>1.055485</td>\n",
       "      <td>1.054692</td>\n",
       "    </tr>\n",
       "    <tr>\n",
       "      <th>75992789801039960</th>\n",
       "      <td>0.199021</td>\n",
       "      <td>0.199568</td>\n",
       "    </tr>\n",
       "  </tbody>\n",
       "</table>\n",
       "<p>3386 rows × 2 columns</p>\n",
       "</div>"
      ],
      "text/plain": [
       "                    T_eff_raw  T_eff_rnn\n",
       "90752870729198448    0.554125   0.554117\n",
       "111850650934828506   0.788032   0.787658\n",
       "115542702349595209   0.539828   0.539842\n",
       "74652707998828066    0.133228   0.133878\n",
       "87362697938833009    0.772282   0.771932\n",
       "...                       ...        ...\n",
       "93772523605923026    0.019347   0.020176\n",
       "128132569795921034   1.161344   1.160386\n",
       "98022186269379486    0.722903   0.722630\n",
       "137421240249180848   1.055485   1.054692\n",
       "75992789801039960    0.199021   0.199568\n",
       "\n",
       "[3386 rows x 2 columns]"
      ]
     },
     "execution_count": 99,
     "metadata": {},
     "output_type": "execute_result"
    }
   ],
   "source": [
    "comparisons[2]"
   ]
  },
  {
   "cell_type": "code",
   "execution_count": 93,
   "id": "56aecd2a-d5f6-4e5f-ba7c-0163f4244979",
   "metadata": {},
   "outputs": [
    {
     "data": {
      "text/plain": [
       "{0: 0.9984623759672677,\n",
       " 1: 0.9998866260041654,\n",
       " 2: 0.9999969532960324,\n",
       " 3: 0.9997286934594699,\n",
       " 4: 0.9966397758292475,\n",
       " 5: 0.9998399416038822,\n",
       " 6: 0.999910620790257}"
      ]
     },
     "execution_count": 93,
     "metadata": {},
     "output_type": "execute_result"
    }
   ],
   "source": [
    "r2s"
   ]
  },
  {
   "cell_type": "code",
   "execution_count": 103,
   "id": "40330caf-cdde-4eed-8259-cad5d69f2dd8",
   "metadata": {},
   "outputs": [
    {
     "data": {
      "text/plain": [
       "T_eff     6222.250592\n",
       "Radius       1.285679\n",
       "dtype: float64"
      ]
     },
     "execution_count": 103,
     "metadata": {},
     "output_type": "execute_result"
    }
   ],
   "source": [
    "df_raw[df_raw.T_eff>0].mean()"
   ]
  },
  {
   "cell_type": "code",
   "execution_count": 104,
   "id": "11924bfc-f65b-45d5-a26e-60343c4dffaf",
   "metadata": {},
   "outputs": [
    {
     "data": {
      "text/plain": [
       "{'mean': 4361.781684065203, 'std': 3014.995445295148}"
      ]
     },
     "execution_count": 104,
     "metadata": {},
     "output_type": "execute_result"
    }
   ],
   "source": [
    "sca"
   ]
  },
  {
   "cell_type": "code",
   "execution_count": 119,
   "id": "5ead02ab-53b6-4d9e-80fb-a3a23bc52366",
   "metadata": {},
   "outputs": [
    {
     "data": {
      "text/plain": [
       "(T_eff    6215.638957\n",
       " dtype: float64,\n",
       " T_eff    1122.506397\n",
       " dtype: float64)"
      ]
     },
     "execution_count": 119,
     "metadata": {},
     "output_type": "execute_result"
    }
   ],
   "source": [
    "# COmpute the scaler\n",
    "i=0\n",
    "df_train_i = dfs_train[i][dfs_train[i][param]>0].set_index('ID')[[param]]\n",
    "# df_train_i = dfs_train[i].set_index('ID')[[param]]\n",
    "mean_i = df_train_i.mean()\n",
    "std_i = df_train_i.std()\n",
    "mean_i, std_i"
   ]
  },
  {
   "cell_type": "code",
   "execution_count": 116,
   "id": "71fc3925-f6db-475b-80ac-7d74595797cd",
   "metadata": {},
   "outputs": [
    {
     "data": {
      "text/plain": [
       "{'mean': 4413.430984359401, 'std': 2984.8569600738647}"
      ]
     },
     "execution_count": 116,
     "metadata": {},
     "output_type": "execute_result"
    }
   ],
   "source": [
    "scal[0]"
   ]
  },
  {
   "cell_type": "markdown",
   "id": "e03435ba-b222-41e0-b4bd-18603b32d5a6",
   "metadata": {},
   "source": [
    "The scaler was being computed with the negative values. "
   ]
  },
  {
   "cell_type": "code",
   "execution_count": null,
   "id": "028f6d80-a44d-49b1-8db3-0ee760014327",
   "metadata": {},
   "outputs": [],
   "source": []
  }
 ],
 "metadata": {
  "kernelspec": {
   "display_name": "Python 3.12",
   "language": "python",
   "name": "myenv"
  },
  "language_info": {
   "codemirror_mode": {
    "name": "ipython",
    "version": 3
   },
   "file_extension": ".py",
   "mimetype": "text/x-python",
   "name": "python",
   "nbconvert_exporter": "python",
   "pygments_lexer": "ipython3",
   "version": "3.12.0"
  }
 },
 "nbformat": 4,
 "nbformat_minor": 5
}
