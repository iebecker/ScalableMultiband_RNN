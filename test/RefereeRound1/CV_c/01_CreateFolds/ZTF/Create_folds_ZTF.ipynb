{
 "cells": [
  {
   "cell_type": "code",
   "execution_count": 1,
   "id": "82dd7192",
   "metadata": {
    "tags": []
   },
   "outputs": [],
   "source": [
    "import pandas as pd\n",
    "from sklearn.model_selection import StratifiedKFold, train_test_split\n",
    "import numpy as np\n",
    "from collections import Counter\n",
    "import os"
   ]
  },
  {
   "cell_type": "code",
   "execution_count": 2,
   "id": "cf32ce5c",
   "metadata": {
    "tags": []
   },
   "outputs": [],
   "source": [
    "survey = 'ZTF'"
   ]
  },
  {
   "cell_type": "markdown",
   "id": "58b4cda0",
   "metadata": {},
   "source": [
    "Read the data"
   ]
  },
  {
   "cell_type": "code",
   "execution_count": 4,
   "id": "2a8af742",
   "metadata": {
    "tags": []
   },
   "outputs": [],
   "source": [
    "path = '/home/iebecker/Desktop/iebecker_stuff/Work/ProcessZTF/notebooks/data/metadata_ztf.csv'\n",
    "df = pd.read_csv(path)"
   ]
  },
  {
   "cell_type": "markdown",
   "id": "68f40b66",
   "metadata": {},
   "source": [
    "Define the properties of each light curve by Minimum length!"
   ]
  },
  {
   "cell_type": "code",
   "execution_count": 4,
   "id": "5881f4dd",
   "metadata": {
    "tags": []
   },
   "outputs": [],
   "source": [
    "max_L = 10000\n",
    "min_L = 500\n",
    "min_N= 9\n",
    "max_N = 600\n",
    "    \n",
    "bands = [i for i in df.columns if 'N_' in i]\n",
    "b = np.ones(df.shape[0], dtype=bool)\n",
    "for band in bands:\n",
    "    b_band = df[band]>min_N\n",
    "    b = np.logical_and(b, b_band)\n",
    "\n",
    "df = df[b].copy()\n",
    "df = df.reset_index().drop('index', axis=1)"
   ]
  },
  {
   "cell_type": "markdown",
   "id": "ee82bd50",
   "metadata": {},
   "source": [
    "\n",
    "20% -> for testing\n",
    "70% -> for training\n",
    "10% -> for validation\n"
   ]
  },
  {
   "cell_type": "code",
   "execution_count": 5,
   "id": "a6180a56",
   "metadata": {
    "tags": []
   },
   "outputs": [],
   "source": [
    "\n",
    "def sample_classes(data):\n",
    "    # Leave up_to N_max objects per class\n",
    "    dfs = []\n",
    "    classes= list(data.Class.unique())\n",
    "    num_classes = len(classes)\n",
    "    \n",
    "    for i in classes.copy():\n",
    "        # Objects of the class\n",
    "        bol = data.Class == i\n",
    "        sel = data[bol]\n",
    "\n",
    "        # Limit the minimum number of light curves\n",
    "        if sel.shape[0] < min_L:\n",
    "            # Update the classes\n",
    "            classes.remove(i)\n",
    "            num_classes = len(classes)\n",
    "            # Skip the class\n",
    "            continue\n",
    "\n",
    "        # Return the min among the number of objects and max_L\n",
    "        num = min(max_L, sel.shape[0])\n",
    "        # Get a random sample\n",
    "        sel = sel.sample(num, replace=False, axis=0)\n",
    "        dfs.append(sel)\n",
    "    # Join the dataframes of each class together\n",
    "    data = pd.concat(dfs)\n",
    "    return data"
   ]
  },
  {
   "cell_type": "code",
   "execution_count": 6,
   "id": "9cb78251",
   "metadata": {
    "tags": []
   },
   "outputs": [],
   "source": [
    "df = sample_classes(df)"
   ]
  },
  {
   "cell_type": "code",
   "execution_count": 7,
   "id": "fbcfcf6a",
   "metadata": {
    "tags": []
   },
   "outputs": [
    {
     "data": {
      "text/plain": [
       "Counter({'E': 10000,\n",
       "         'RRL': 10000,\n",
       "         'QSO': 10000,\n",
       "         'LPV': 9313,\n",
       "         'AGN': 2417,\n",
       "         'Blazar': 1089,\n",
       "         'YSO': 797,\n",
       "         'CV/Nova': 762,\n",
       "         'SNIa': 507})"
      ]
     },
     "execution_count": 7,
     "metadata": {},
     "output_type": "execute_result"
    }
   ],
   "source": [
    "Counter(df.Class)"
   ]
  },
  {
   "cell_type": "markdown",
   "id": "c49f2f9d",
   "metadata": {},
   "source": [
    "Create the folds, we will work with **5** folds. with this, the train split contains 80% of the total, and the test set contains 20%.\n",
    "\n",
    "From this train split, we take 12.5% to validate and the remaining 87.5% is used to train.\n",
    "\n",
    "From the total, the test set contains 20%, the trainning set contains 70% and the validation set, 15%."
   ]
  },
  {
   "cell_type": "code",
   "execution_count": 8,
   "id": "5b06a084",
   "metadata": {
    "tags": []
   },
   "outputs": [],
   "source": [
    "kfolds = StratifiedKFold(n_splits=7, shuffle=True)\n"
   ]
  },
  {
   "cell_type": "code",
   "execution_count": 9,
   "id": "647a6de8",
   "metadata": {
    "tags": []
   },
   "outputs": [],
   "source": [
    "path_folds = './Folds'\n",
    "if not os.path.exists(path_folds):\n",
    "    os.mkdir(path_folds)\n",
    "# First split test\n",
    "df_temp, df_test = train_test_split(df, stratify=df.Class, train_size=0.8)\n",
    "df_temp.reset_index(inplace=True)\n",
    "df_test.reset_index(inplace=True)\n",
    "\n",
    "path_test = os.path.join(path_folds, 'test.csv')\n",
    "df_test.to_csv(path_test, index=False, index_label=False)\n",
    "\n",
    "for n, (train_index, val_index) in enumerate(kfolds.split(df_temp.index.values, df_temp.Class.values)):\n",
    "    # Get the train and validation splits\n",
    "    df_train = df_temp.loc[train_index]\n",
    "    df_val = df_temp.loc[val_index]\n",
    "\n",
    "\n",
    "    path_folds_ = os.path.join(path_folds, 'Fold_'+str(n+1))\n",
    "    if not os.path.exists(path_folds_):\n",
    "        os.mkdir(path_folds_)\n",
    "        \n",
    "    path_train = os.path.join(path_folds_, 'train.csv')\n",
    "\n",
    "    path_val = os.path.join(path_folds_, 'val.csv')\n",
    "    \n",
    "    df_train.to_csv(path_train, index=False, index_label=False)\n",
    "    df_val.to_csv(path_val, index=False, index_label=False)"
   ]
  },
  {
   "cell_type": "code",
   "execution_count": null,
   "id": "2c9fde25",
   "metadata": {},
   "outputs": [],
   "source": []
  }
 ],
 "metadata": {
  "kernelspec": {
   "display_name": "Python 3 (ipykernel)",
   "language": "python",
   "name": "python3"
  },
  "language_info": {
   "codemirror_mode": {
    "name": "ipython",
    "version": 3
   },
   "file_extension": ".py",
   "mimetype": "text/x-python",
   "name": "python",
   "nbconvert_exporter": "python",
   "pygments_lexer": "ipython3",
   "version": "3.10.12"
  }
 },
 "nbformat": 4,
 "nbformat_minor": 5
}
