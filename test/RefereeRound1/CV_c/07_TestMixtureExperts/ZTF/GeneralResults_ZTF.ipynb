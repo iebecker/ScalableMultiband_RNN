{
 "cells": [
  {
   "cell_type": "code",
   "execution_count": 1,
   "id": "cb7afe7a",
   "metadata": {},
   "outputs": [],
   "source": [
    "from glob import glob\n",
    "from os.path import join\n",
    "\n",
    "import pandas as pd\n",
    "import numpy as np\n",
    "from sklearn.metrics import classification_report\n",
    "\n",
    "from ScalableLib.base.plot import obtain_accumulated_metrics"
   ]
  },
  {
   "cell_type": "code",
   "execution_count": 2,
   "id": "62cf046d",
   "metadata": {},
   "outputs": [],
   "source": [
    "survey = 'ZTF'\n",
    "path ='../../06_MixtureExperts/{}/Results/Fold_*'.format(survey)\n",
    "folds = glob(path)\n",
    "folds.sort()"
   ]
  },
  {
   "cell_type": "code",
   "execution_count": 3,
   "id": "8c2b9a1f",
   "metadata": {
    "scrolled": true
   },
   "outputs": [],
   "source": [
    "reports = []\n",
    "for fold in folds:\n",
    "    \n",
    "    classification_path = join(fold, 'Classification_test.dat')\n",
    "    classification = pd.read_csv(classification_path)\n",
    "    # True and pred are inverted, because of a mistake\n",
    "    report = classification_report(classification.Pred, classification.Class, output_dict=True, zero_division=0,)\n",
    "    reports.append(report)"
   ]
  },
  {
   "cell_type": "code",
   "execution_count": 4,
   "id": "f0a8fb08",
   "metadata": {},
   "outputs": [
    {
     "data": {
      "text/html": [
       "<div>\n",
       "<style scoped>\n",
       "    .dataframe tbody tr th:only-of-type {\n",
       "        vertical-align: middle;\n",
       "    }\n",
       "\n",
       "    .dataframe tbody tr th {\n",
       "        vertical-align: top;\n",
       "    }\n",
       "\n",
       "    .dataframe thead th {\n",
       "        text-align: right;\n",
       "    }\n",
       "</style>\n",
       "<table border=\"1\" class=\"dataframe\">\n",
       "  <thead>\n",
       "    <tr style=\"text-align: right;\">\n",
       "      <th></th>\n",
       "      <th>SNIa</th>\n",
       "      <th>QSO</th>\n",
       "      <th>AGN</th>\n",
       "      <th>Blazar</th>\n",
       "      <th>YSO</th>\n",
       "      <th>CV/Nova</th>\n",
       "      <th>RRL</th>\n",
       "      <th>LPV</th>\n",
       "      <th>E</th>\n",
       "    </tr>\n",
       "  </thead>\n",
       "  <tbody>\n",
       "    <tr>\n",
       "      <th>precision</th>\n",
       "      <td>0.96</td>\n",
       "      <td>0.87</td>\n",
       "      <td>0.62</td>\n",
       "      <td>0.69</td>\n",
       "      <td>0.72</td>\n",
       "      <td>0.80</td>\n",
       "      <td>0.92</td>\n",
       "      <td>0.97</td>\n",
       "      <td>0.90</td>\n",
       "    </tr>\n",
       "    <tr>\n",
       "      <th>recall</th>\n",
       "      <td>0.98</td>\n",
       "      <td>0.92</td>\n",
       "      <td>0.54</td>\n",
       "      <td>0.47</td>\n",
       "      <td>0.64</td>\n",
       "      <td>0.66</td>\n",
       "      <td>0.92</td>\n",
       "      <td>0.99</td>\n",
       "      <td>0.92</td>\n",
       "    </tr>\n",
       "    <tr>\n",
       "      <th>f1-score</th>\n",
       "      <td>0.97</td>\n",
       "      <td>0.89</td>\n",
       "      <td>0.59</td>\n",
       "      <td>0.56</td>\n",
       "      <td>0.67</td>\n",
       "      <td>0.73</td>\n",
       "      <td>0.92</td>\n",
       "      <td>0.98</td>\n",
       "      <td>0.91</td>\n",
       "    </tr>\n",
       "    <tr>\n",
       "      <th>support</th>\n",
       "      <td>101.00</td>\n",
       "      <td>2000.00</td>\n",
       "      <td>484.00</td>\n",
       "      <td>218.00</td>\n",
       "      <td>159.00</td>\n",
       "      <td>152.00</td>\n",
       "      <td>2000.00</td>\n",
       "      <td>1863.00</td>\n",
       "      <td>2000.00</td>\n",
       "    </tr>\n",
       "  </tbody>\n",
       "</table>\n",
       "</div>"
      ],
      "text/plain": [
       "             SNIa      QSO     AGN  Blazar     YSO  CV/Nova      RRL      LPV  \\\n",
       "precision    0.96     0.87    0.62    0.69    0.72     0.80     0.92     0.97   \n",
       "recall       0.98     0.92    0.54    0.47    0.64     0.66     0.92     0.99   \n",
       "f1-score     0.97     0.89    0.59    0.56    0.67     0.73     0.92     0.98   \n",
       "support    101.00  2000.00  484.00  218.00  159.00   152.00  2000.00  1863.00   \n",
       "\n",
       "                 E  \n",
       "precision     0.90  \n",
       "recall        0.92  \n",
       "f1-score      0.91  \n",
       "support    2000.00  "
      ]
     },
     "execution_count": 4,
     "metadata": {},
     "output_type": "execute_result"
    }
   ],
   "source": [
    "label_order = ['SNIa', 'QSO','AGN', 'Blazar', 'YSO', 'CV/Nova', 'RRL', 'LPV', 'E', ]\n",
    "median, delta_up, delta_down = obtain_accumulated_metrics(reports, metric='median', label_order=label_order)\n",
    "median"
   ]
  },
  {
   "cell_type": "code",
   "execution_count": 5,
   "id": "a4abcd9b",
   "metadata": {},
   "outputs": [
    {
     "data": {
      "text/plain": [
       "(0.8947309791689874, 0.8940307770651985)"
      ]
     },
     "execution_count": 5,
     "metadata": {},
     "output_type": "execute_result"
    }
   ],
   "source": [
    "accuracies = [reports[i]['accuracy'] for i in range(len(reports))]\n",
    "np.median(accuracies), np.mean(accuracies)"
   ]
  }
 ],
 "metadata": {
  "kernelspec": {
   "display_name": "Python 3 (ipykernel)",
   "language": "python",
   "name": "python3"
  },
  "language_info": {
   "codemirror_mode": {
    "name": "ipython",
    "version": 3
   },
   "file_extension": ".py",
   "mimetype": "text/x-python",
   "name": "python",
   "nbconvert_exporter": "python",
   "pygments_lexer": "ipython3",
   "version": "3.10.12"
  }
 },
 "nbformat": 4,
 "nbformat_minor": 5
}
