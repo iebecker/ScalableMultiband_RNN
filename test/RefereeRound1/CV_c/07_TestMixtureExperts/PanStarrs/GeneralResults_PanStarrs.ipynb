{
 "cells": [
  {
   "cell_type": "code",
   "execution_count": 1,
   "id": "eb8ffb77",
   "metadata": {},
   "outputs": [],
   "source": [
    "from glob import glob\n",
    "from os.path import join\n",
    "\n",
    "import pandas as pd\n",
    "import numpy as np\n",
    "from sklearn.metrics import classification_report\n",
    "\n",
    "from ScalableLib.base.plot import obtain_accumulated_metrics"
   ]
  },
  {
   "cell_type": "code",
   "execution_count": 2,
   "id": "98043c75",
   "metadata": {},
   "outputs": [],
   "source": [
    "survey = 'PanStarrs'\n",
    "path ='../../06_MixtureExperts/{}/Results/Fold_*'.format(survey)\n",
    "folds = glob(path)\n",
    "folds.sort()"
   ]
  },
  {
   "cell_type": "code",
   "execution_count": 3,
   "id": "0cccd55a",
   "metadata": {},
   "outputs": [],
   "source": [
    "reports = []\n",
    "for fold in folds:\n",
    "    \n",
    "    classification_path = join(fold, 'Classification_test.dat')\n",
    "    classification = pd.read_csv(classification_path)\n",
    "    # True and pred are inverted, because of a mistake\n",
    "    report = classification_report(classification.Pred, classification.Class, output_dict=True, zero_division=0,)\n",
    "    reports.append(report)"
   ]
  },
  {
   "cell_type": "code",
   "execution_count": 5,
   "id": "ed4bfd0f",
   "metadata": {},
   "outputs": [
    {
     "data": {
      "text/html": [
       "<div>\n",
       "<style scoped>\n",
       "    .dataframe tbody tr th:only-of-type {\n",
       "        vertical-align: middle;\n",
       "    }\n",
       "\n",
       "    .dataframe tbody tr th {\n",
       "        vertical-align: top;\n",
       "    }\n",
       "\n",
       "    .dataframe thead th {\n",
       "        text-align: right;\n",
       "    }\n",
       "</style>\n",
       "<table border=\"1\" class=\"dataframe\">\n",
       "  <thead>\n",
       "    <tr style=\"text-align: right;\">\n",
       "      <th></th>\n",
       "      <th>MIRA_SR</th>\n",
       "      <th>T2CEP</th>\n",
       "      <th>RRAB</th>\n",
       "      <th>RRC</th>\n",
       "      <th>RRD</th>\n",
       "      <th>DSCT_SXPHE</th>\n",
       "    </tr>\n",
       "  </thead>\n",
       "  <tbody>\n",
       "    <tr>\n",
       "      <th>precision</th>\n",
       "      <td>0.95</td>\n",
       "      <td>0.27</td>\n",
       "      <td>0.80</td>\n",
       "      <td>0.76</td>\n",
       "      <td>0.06</td>\n",
       "      <td>0.76</td>\n",
       "    </tr>\n",
       "    <tr>\n",
       "      <th>recall</th>\n",
       "      <td>0.96</td>\n",
       "      <td>0.13</td>\n",
       "      <td>0.77</td>\n",
       "      <td>0.79</td>\n",
       "      <td>0.04</td>\n",
       "      <td>0.76</td>\n",
       "    </tr>\n",
       "    <tr>\n",
       "      <th>f1-score</th>\n",
       "      <td>0.95</td>\n",
       "      <td>0.17</td>\n",
       "      <td>0.78</td>\n",
       "      <td>0.78</td>\n",
       "      <td>0.05</td>\n",
       "      <td>0.75</td>\n",
       "    </tr>\n",
       "    <tr>\n",
       "      <th>support</th>\n",
       "      <td>788.00</td>\n",
       "      <td>38.00</td>\n",
       "      <td>2000.00</td>\n",
       "      <td>2000.00</td>\n",
       "      <td>53.00</td>\n",
       "      <td>381.00</td>\n",
       "    </tr>\n",
       "  </tbody>\n",
       "</table>\n",
       "</div>"
      ],
      "text/plain": [
       "           MIRA_SR  T2CEP     RRAB      RRC    RRD  DSCT_SXPHE\n",
       "precision     0.95   0.27     0.80     0.76   0.06        0.76\n",
       "recall        0.96   0.13     0.77     0.79   0.04        0.76\n",
       "f1-score      0.95   0.17     0.78     0.78   0.05        0.75\n",
       "support     788.00  38.00  2000.00  2000.00  53.00      381.00"
      ]
     },
     "execution_count": 5,
     "metadata": {},
     "output_type": "execute_result"
    }
   ],
   "source": [
    "label_order = ['MIRA_SR', 'T2CEP', 'RRAB', 'RRC', 'RRD', 'DSCT_SXPHE']\n",
    "median, delta_up, delta_down = obtain_accumulated_metrics(reports, metric='median', label_order=label_order)\n",
    "median"
   ]
  },
  {
   "cell_type": "code",
   "execution_count": 6,
   "id": "65a19447",
   "metadata": {},
   "outputs": [
    {
     "data": {
      "text/plain": [
       "(0.7942965779467681, 0.7939706681151548)"
      ]
     },
     "execution_count": 6,
     "metadata": {},
     "output_type": "execute_result"
    }
   ],
   "source": [
    "accuracies = [reports[i]['accuracy'] for i in range(len(reports))]\n",
    "np.median(accuracies), np.mean(accuracies)"
   ]
  },
  {
   "cell_type": "code",
   "execution_count": null,
   "id": "950c7a63",
   "metadata": {},
   "outputs": [],
   "source": []
  }
 ],
 "metadata": {
  "kernelspec": {
   "display_name": "Python 3 (ipykernel)",
   "language": "python",
   "name": "python3"
  },
  "language_info": {
   "codemirror_mode": {
    "name": "ipython",
    "version": 3
   },
   "file_extension": ".py",
   "mimetype": "text/x-python",
   "name": "python",
   "nbconvert_exporter": "python",
   "pygments_lexer": "ipython3",
   "version": "3.10.12"
  }
 },
 "nbformat": 4,
 "nbformat_minor": 5
}
