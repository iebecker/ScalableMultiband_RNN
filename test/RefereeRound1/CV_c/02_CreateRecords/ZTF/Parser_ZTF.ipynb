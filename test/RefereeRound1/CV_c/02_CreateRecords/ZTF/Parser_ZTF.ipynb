{
 "cells": [
  {
   "cell_type": "code",
   "execution_count": 1,
   "metadata": {},
   "outputs": [
    {
     "name": "stderr",
     "output_type": "stream",
     "text": [
      "2024-08-26 16:20:49.136218: E external/local_xla/xla/stream_executor/cuda/cuda_dnn.cc:9261] Unable to register cuDNN factory: Attempting to register factory for plugin cuDNN when one has already been registered\n",
      "2024-08-26 16:20:49.136273: E external/local_xla/xla/stream_executor/cuda/cuda_fft.cc:607] Unable to register cuFFT factory: Attempting to register factory for plugin cuFFT when one has already been registered\n",
      "2024-08-26 16:20:49.137676: E external/local_xla/xla/stream_executor/cuda/cuda_blas.cc:1515] Unable to register cuBLAS factory: Attempting to register factory for plugin cuBLAS when one has already been registered\n",
      "2024-08-26 16:20:49.147180: I tensorflow/core/platform/cpu_feature_guard.cc:182] This TensorFlow binary is optimized to use available CPU instructions in performance-critical operations.\n",
      "To enable the following instructions: AVX2 FMA, in other operations, rebuild TensorFlow with the appropriate compiler flags.\n",
      "2024-08-26 16:20:50.809341: W tensorflow/compiler/tf2tensorrt/utils/py_utils.cc:38] TF-TRT Warning: Could not find TensorRT\n"
     ]
    }
   ],
   "source": [
    "import pandas as pd\n",
    "import sys, os, json\n",
    "\n",
    "from glob import glob\n",
    "import ScalableLib.base.Load_Process as Load_Process"
   ]
  },
  {
   "cell_type": "markdown",
   "metadata": {},
   "source": [
    "Get the different fold files. Tran-val and test sets."
   ]
  },
  {
   "cell_type": "code",
   "execution_count": 2,
   "metadata": {},
   "outputs": [],
   "source": [
    "survey = 'ZTF'\n",
    "path_folds = os.path.join('../../01_CreateFolds/', survey, 'Folds/*')\n",
    "\n",
    "# Get the folder paths\n",
    "folds = glob(path_folds)\n",
    "# Get the test file path\n",
    "test_path = [i for i in folds if 'test' in i][0]\n",
    "# Remove the test path from the list\n",
    "folds.remove(test_path)\n",
    "# Sort to work from the first fold onwards\n",
    "folds.sort()"
   ]
  },
  {
   "cell_type": "markdown",
   "metadata": {},
   "source": [
    "For each fold, process the information and store it.\n",
    "\n",
    "The **P** object is defined with its keyword arguments. \n",
    "\n",
    "Then the kwargs are defined to be used as inputs of the prepare method."
   ]
  },
  {
   "cell_type": "code",
   "execution_count": 3,
   "metadata": {},
   "outputs": [],
   "source": [
    "kwargs1={\n",
    "'max_l' : 10000,\n",
    "'min_l' : 500,\n",
    "'min_n': 9,\n",
    "'max_n' : 600,\n",
    "'w' : 2,\n",
    "'s':1,\n",
    "'njobs':7,\n",
    "'n_bands':2,\n",
    "}\n",
    "\n",
    "P = Load_Process.prepData(**kwargs1)"
   ]
  },
  {
   "cell_type": "code",
   "execution_count": 4,
   "metadata": {},
   "outputs": [],
   "source": [
    "kwargs2={\n",
    "    'dataset_header': ['ID', 'Path', 'Class', 'N', 'N_1', 'N_2'],\n",
    "    'lc_parameters': {'sep':',', 'header':0, 'na_filter':True, 'engine':'c'},\n",
    "    'params_phys': [ ], \n",
    "    'params_phys_est': [],\n",
    "}\n"
   ]
  },
  {
   "cell_type": "code",
   "execution_count": 5,
   "metadata": {},
   "outputs": [
    {
     "name": "stdout",
     "output_type": "stream",
     "text": [
      "../../01_CreateFolds/ZTF/Folds/Fold_1/train.csv\n",
      "../../01_CreateFolds/ZTF/Folds/Fold_1/val.csv\n",
      "../../01_CreateFolds/ZTF/Folds/test.csv\n",
      "./Folds/Fold_1/\n"
     ]
    },
    {
     "name": "stderr",
     "output_type": "stream",
     "text": [
      "  0%|                                         | 7/30778 [00:00<19:46, 25.93it/s]2024-08-26 16:21:26.895590: E external/local_xla/xla/stream_executor/cuda/cuda_dnn.cc:9261] Unable to register cuDNN factory: Attempting to register factory for plugin cuDNN when one has already been registered\n",
      "2024-08-26 16:21:26.896064: E external/local_xla/xla/stream_executor/cuda/cuda_fft.cc:607] Unable to register cuFFT factory: Attempting to register factory for plugin cuFFT when one has already been registered\n",
      "2024-08-26 16:21:26.900272: E external/local_xla/xla/stream_executor/cuda/cuda_blas.cc:1515] Unable to register cuBLAS factory: Attempting to register factory for plugin cuBLAS when one has already been registered\n",
      "2024-08-26 16:21:26.915743: I tensorflow/core/platform/cpu_feature_guard.cc:182] This TensorFlow binary is optimized to use available CPU instructions in performance-critical operations.\n",
      "To enable the following instructions: AVX2 FMA, in other operations, rebuild TensorFlow with the appropriate compiler flags.\n",
      "2024-08-26 16:21:26.964241: E external/local_xla/xla/stream_executor/cuda/cuda_dnn.cc:9261] Unable to register cuDNN factory: Attempting to register factory for plugin cuDNN when one has already been registered\n",
      "2024-08-26 16:21:26.964482: E external/local_xla/xla/stream_executor/cuda/cuda_fft.cc:607] Unable to register cuFFT factory: Attempting to register factory for plugin cuFFT when one has already been registered\n",
      "2024-08-26 16:21:26.971155: E external/local_xla/xla/stream_executor/cuda/cuda_blas.cc:1515] Unable to register cuBLAS factory: Attempting to register factory for plugin cuBLAS when one has already been registered\n",
      "2024-08-26 16:21:26.974474: E external/local_xla/xla/stream_executor/cuda/cuda_dnn.cc:9261] Unable to register cuDNN factory: Attempting to register factory for plugin cuDNN when one has already been registered\n",
      "2024-08-26 16:21:26.974514: E external/local_xla/xla/stream_executor/cuda/cuda_fft.cc:607] Unable to register cuFFT factory: Attempting to register factory for plugin cuFFT when one has already been registered\n",
      "2024-08-26 16:21:26.975883: E external/local_xla/xla/stream_executor/cuda/cuda_blas.cc:1515] Unable to register cuBLAS factory: Attempting to register factory for plugin cuBLAS when one has already been registered\n",
      "2024-08-26 16:21:26.981738: I tensorflow/core/platform/cpu_feature_guard.cc:182] This TensorFlow binary is optimized to use available CPU instructions in performance-critical operations.\n",
      "To enable the following instructions: AVX2 FMA, in other operations, rebuild TensorFlow with the appropriate compiler flags.\n",
      "2024-08-26 16:21:27.006367: I tensorflow/core/platform/cpu_feature_guard.cc:182] This TensorFlow binary is optimized to use available CPU instructions in performance-critical operations.\n",
      "To enable the following instructions: AVX2 FMA, in other operations, rebuild TensorFlow with the appropriate compiler flags.\n",
      "2024-08-26 16:21:27.223725: E external/local_xla/xla/stream_executor/cuda/cuda_dnn.cc:9261] Unable to register cuDNN factory: Attempting to register factory for plugin cuDNN when one has already been registered\n",
      "2024-08-26 16:21:27.223914: E external/local_xla/xla/stream_executor/cuda/cuda_fft.cc:607] Unable to register cuFFT factory: Attempting to register factory for plugin cuFFT when one has already been registered\n",
      "2024-08-26 16:21:27.225342: E external/local_xla/xla/stream_executor/cuda/cuda_blas.cc:1515] Unable to register cuBLAS factory: Attempting to register factory for plugin cuBLAS when one has already been registered\n",
      "2024-08-26 16:21:27.239606: I tensorflow/core/platform/cpu_feature_guard.cc:182] This TensorFlow binary is optimized to use available CPU instructions in performance-critical operations.\n",
      "To enable the following instructions: AVX2 FMA, in other operations, rebuild TensorFlow with the appropriate compiler flags.\n",
      "2024-08-26 16:21:27.468387: E external/local_xla/xla/stream_executor/cuda/cuda_dnn.cc:9261] Unable to register cuDNN factory: Attempting to register factory for plugin cuDNN when one has already been registered\n",
      "2024-08-26 16:21:27.468781: E external/local_xla/xla/stream_executor/cuda/cuda_fft.cc:607] Unable to register cuFFT factory: Attempting to register factory for plugin cuFFT when one has already been registered\n",
      "2024-08-26 16:21:27.470162: E external/local_xla/xla/stream_executor/cuda/cuda_blas.cc:1515] Unable to register cuBLAS factory: Attempting to register factory for plugin cuBLAS when one has already been registered\n",
      "2024-08-26 16:21:27.474357: E external/local_xla/xla/stream_executor/cuda/cuda_dnn.cc:9261] Unable to register cuDNN factory: Attempting to register factory for plugin cuDNN when one has already been registered\n",
      "2024-08-26 16:21:27.474456: E external/local_xla/xla/stream_executor/cuda/cuda_fft.cc:607] Unable to register cuFFT factory: Attempting to register factory for plugin cuFFT when one has already been registered\n",
      "2024-08-26 16:21:27.475883: E external/local_xla/xla/stream_executor/cuda/cuda_blas.cc:1515] Unable to register cuBLAS factory: Attempting to register factory for plugin cuBLAS when one has already been registered\n",
      "2024-08-26 16:21:27.484832: I tensorflow/core/platform/cpu_feature_guard.cc:182] This TensorFlow binary is optimized to use available CPU instructions in performance-critical operations.\n",
      "To enable the following instructions: AVX2 FMA, in other operations, rebuild TensorFlow with the appropriate compiler flags.\n",
      "2024-08-26 16:21:27.491069: I tensorflow/core/platform/cpu_feature_guard.cc:182] This TensorFlow binary is optimized to use available CPU instructions in performance-critical operations.\n",
      "To enable the following instructions: AVX2 FMA, in other operations, rebuild TensorFlow with the appropriate compiler flags.\n",
      "2024-08-26 16:21:27.548574: E external/local_xla/xla/stream_executor/cuda/cuda_dnn.cc:9261] Unable to register cuDNN factory: Attempting to register factory for plugin cuDNN when one has already been registered\n",
      "2024-08-26 16:21:27.548723: E external/local_xla/xla/stream_executor/cuda/cuda_fft.cc:607] Unable to register cuFFT factory: Attempting to register factory for plugin cuFFT when one has already been registered\n",
      "2024-08-26 16:21:27.550210: E external/local_xla/xla/stream_executor/cuda/cuda_blas.cc:1515] Unable to register cuBLAS factory: Attempting to register factory for plugin cuBLAS when one has already been registered\n",
      "2024-08-26 16:21:27.573716: I tensorflow/core/platform/cpu_feature_guard.cc:182] This TensorFlow binary is optimized to use available CPU instructions in performance-critical operations.\n",
      "To enable the following instructions: AVX2 FMA, in other operations, rebuild TensorFlow with the appropriate compiler flags.\n",
      "2024-08-26 16:21:29.300811: W tensorflow/compiler/tf2tensorrt/utils/py_utils.cc:38] TF-TRT Warning: Could not find TensorRT\n",
      "2024-08-26 16:21:30.203532: W tensorflow/compiler/tf2tensorrt/utils/py_utils.cc:38] TF-TRT Warning: Could not find TensorRT\n",
      "2024-08-26 16:21:30.328996: W tensorflow/compiler/tf2tensorrt/utils/py_utils.cc:38] TF-TRT Warning: Could not find TensorRT\n",
      "2024-08-26 16:21:30.383465: W tensorflow/compiler/tf2tensorrt/utils/py_utils.cc:38] TF-TRT Warning: Could not find TensorRT\n",
      "2024-08-26 16:21:30.649855: W tensorflow/compiler/tf2tensorrt/utils/py_utils.cc:38] TF-TRT Warning: Could not find TensorRT\n",
      "2024-08-26 16:21:30.833280: W tensorflow/compiler/tf2tensorrt/utils/py_utils.cc:38] TF-TRT Warning: Could not find TensorRT\n",
      "2024-08-26 16:21:30.886515: W tensorflow/compiler/tf2tensorrt/utils/py_utils.cc:38] TF-TRT Warning: Could not find TensorRT\n",
      "100%|████████████████████████████████████| 30778/30778 [00:38<00:00, 798.07it/s]\n",
      "100%|█████████████████████████████████████| 5130/5130 [00:04<00:00, 1134.05it/s]\n",
      "100%|█████████████████████████████████████| 8977/8977 [00:06<00:00, 1389.48it/s]\n",
      "100%|█████████████████████████████████████| 6385/6385 [00:01<00:00, 3964.92it/s]\n",
      "100%|███████████████████████████████████████| 523/523 [00:00<00:00, 3920.40it/s]\n",
      "100%|█████████████████████████████████████| 1657/1657 [00:00<00:00, 5867.37it/s]\n",
      "100%|█████████████████████████████████████| 6857/6857 [00:01<00:00, 5444.14it/s]\n",
      "100%|███████████████████████████████████████| 747/747 [00:00<00:00, 4512.67it/s]\n",
      "100%|███████████████████████████████████████| 546/546 [00:00<00:00, 4253.91it/s]\n",
      "100%|███████████████████████████████████████| 348/348 [00:00<00:00, 3823.43it/s]\n",
      "100%|█████████████████████████████████████| 6857/6857 [00:01<00:00, 5366.69it/s]\n",
      "100%|█████████████████████████████████████| 6858/6858 [00:01<00:00, 6116.75it/s]\n",
      "100%|█████████████████████████████████████| 1065/1065 [00:00<00:00, 4193.67it/s]\n",
      "100%|█████████████████████████████████████████| 87/87 [00:00<00:00, 2533.07it/s]\n",
      "100%|███████████████████████████████████████| 276/276 [00:00<00:00, 3086.06it/s]\n",
      "100%|█████████████████████████████████████| 1143/1143 [00:00<00:00, 5457.59it/s]\n",
      "100%|███████████████████████████████████████| 124/124 [00:00<00:00, 2842.94it/s]\n",
      "100%|█████████████████████████████████████████| 92/92 [00:00<00:00, 2573.21it/s]\n",
      "100%|█████████████████████████████████████████| 58/58 [00:00<00:00, 2164.65it/s]\n",
      "100%|█████████████████████████████████████| 1143/1143 [00:00<00:00, 5737.63it/s]\n",
      "100%|█████████████████████████████████████| 1142/1142 [00:00<00:00, 6131.54it/s]\n",
      "100%|█████████████████████████████████████| 1863/1863 [00:00<00:00, 4036.35it/s]\n",
      "100%|███████████████████████████████████████| 152/152 [00:00<00:00, 3354.91it/s]\n",
      "100%|███████████████████████████████████████| 484/484 [00:00<00:00, 4191.86it/s]\n",
      "100%|█████████████████████████████████████| 2000/2000 [00:00<00:00, 5677.76it/s]\n",
      "100%|███████████████████████████████████████| 218/218 [00:00<00:00, 3201.75it/s]\n",
      "100%|███████████████████████████████████████| 159/159 [00:00<00:00, 2701.99it/s]\n",
      "100%|███████████████████████████████████████| 101/101 [00:00<00:00, 2487.90it/s]\n",
      "100%|█████████████████████████████████████| 2000/2000 [00:00<00:00, 5621.11it/s]\n",
      "100%|█████████████████████████████████████| 2000/2000 [00:00<00:00, 5844.74it/s]\n"
     ]
    },
    {
     "name": "stdout",
     "output_type": "stream",
     "text": [
      "../../01_CreateFolds/ZTF/Folds/Fold_2/train.csv\n",
      "../../01_CreateFolds/ZTF/Folds/Fold_2/val.csv\n",
      "../../01_CreateFolds/ZTF/Folds/test.csv\n",
      "./Folds/Fold_2/\n"
     ]
    },
    {
     "name": "stderr",
     "output_type": "stream",
     "text": [
      "100%|███████████████████████████████████| 30778/30778 [00:22<00:00, 1340.26it/s]\n",
      "100%|█████████████████████████████████████| 5130/5130 [00:03<00:00, 1478.29it/s]\n",
      "100%|█████████████████████████████████████| 8977/8977 [00:05<00:00, 1638.51it/s]\n",
      "100%|█████████████████████████████████████| 6385/6385 [00:02<00:00, 2785.39it/s]\n",
      "100%|███████████████████████████████████████| 522/522 [00:00<00:00, 1852.82it/s]\n",
      "100%|█████████████████████████████████████| 1657/1657 [00:00<00:00, 3253.55it/s]\n",
      "100%|█████████████████████████████████████| 6857/6857 [00:02<00:00, 3389.45it/s]\n",
      "100%|███████████████████████████████████████| 747/747 [00:00<00:00, 1128.90it/s]\n",
      "100%|███████████████████████████████████████| 547/547 [00:00<00:00, 2596.60it/s]\n",
      "100%|███████████████████████████████████████| 348/348 [00:00<00:00, 2186.14it/s]\n",
      "100%|█████████████████████████████████████| 6858/6858 [00:03<00:00, 2208.22it/s]\n",
      "100%|█████████████████████████████████████| 6857/6857 [00:02<00:00, 2483.64it/s]\n",
      "100%|█████████████████████████████████████| 1065/1065 [00:00<00:00, 3120.25it/s]\n",
      "100%|█████████████████████████████████████████| 88/88 [00:00<00:00, 1464.35it/s]\n",
      "100%|███████████████████████████████████████| 276/276 [00:00<00:00, 1633.01it/s]\n",
      "100%|█████████████████████████████████████| 1143/1143 [00:00<00:00, 3943.86it/s]\n",
      "100%|███████████████████████████████████████| 124/124 [00:00<00:00, 2088.26it/s]\n",
      "100%|█████████████████████████████████████████| 91/91 [00:00<00:00, 1618.52it/s]\n",
      "100%|█████████████████████████████████████████| 58/58 [00:00<00:00, 1147.30it/s]\n",
      "100%|█████████████████████████████████████| 1142/1142 [00:00<00:00, 4401.25it/s]\n",
      "100%|█████████████████████████████████████| 1143/1143 [00:00<00:00, 2742.44it/s]\n",
      "100%|█████████████████████████████████████| 1863/1863 [00:00<00:00, 1911.52it/s]\n",
      "100%|███████████████████████████████████████| 152/152 [00:00<00:00, 3552.89it/s]\n",
      "100%|███████████████████████████████████████| 484/484 [00:00<00:00, 3981.26it/s]\n",
      "100%|█████████████████████████████████████| 2000/2000 [00:00<00:00, 5526.37it/s]\n",
      "100%|███████████████████████████████████████| 218/218 [00:00<00:00, 3018.55it/s]\n",
      "100%|███████████████████████████████████████| 159/159 [00:00<00:00, 2779.65it/s]\n",
      "100%|███████████████████████████████████████| 101/101 [00:00<00:00, 2799.31it/s]\n",
      "100%|█████████████████████████████████████| 2000/2000 [00:00<00:00, 5645.88it/s]\n",
      "100%|█████████████████████████████████████| 2000/2000 [00:00<00:00, 3619.76it/s]\n"
     ]
    },
    {
     "name": "stdout",
     "output_type": "stream",
     "text": [
      "../../01_CreateFolds/ZTF/Folds/Fold_3/train.csv\n",
      "../../01_CreateFolds/ZTF/Folds/Fold_3/val.csv\n",
      "../../01_CreateFolds/ZTF/Folds/test.csv\n",
      "./Folds/Fold_3/\n"
     ]
    },
    {
     "name": "stderr",
     "output_type": "stream",
     "text": [
      "100%|███████████████████████████████████| 30778/30778 [00:23<00:00, 1297.80it/s]\n",
      "100%|█████████████████████████████████████| 5130/5130 [00:04<00:00, 1118.34it/s]\n",
      "100%|█████████████████████████████████████| 8977/8977 [00:08<00:00, 1089.90it/s]\n",
      "100%|█████████████████████████████████████| 6386/6386 [00:02<00:00, 2582.01it/s]\n",
      "100%|███████████████████████████████████████| 523/523 [00:00<00:00, 2963.41it/s]\n",
      "100%|█████████████████████████████████████| 1657/1657 [00:00<00:00, 4344.68it/s]\n",
      "100%|█████████████████████████████████████| 6857/6857 [00:02<00:00, 3173.47it/s]\n",
      "100%|███████████████████████████████████████| 746/746 [00:00<00:00, 3212.45it/s]\n",
      "100%|███████████████████████████████████████| 547/547 [00:00<00:00, 2548.12it/s]\n",
      "100%|███████████████████████████████████████| 348/348 [00:00<00:00, 2630.03it/s]\n",
      "100%|█████████████████████████████████████| 6857/6857 [00:01<00:00, 4748.05it/s]\n",
      "100%|█████████████████████████████████████| 6857/6857 [00:01<00:00, 3597.22it/s]\n",
      "100%|█████████████████████████████████████| 1064/1064 [00:00<00:00, 3845.39it/s]\n",
      "100%|█████████████████████████████████████████| 87/87 [00:00<00:00, 2185.96it/s]\n",
      "100%|███████████████████████████████████████| 276/276 [00:00<00:00, 3337.02it/s]\n",
      "100%|█████████████████████████████████████| 1143/1143 [00:00<00:00, 4197.61it/s]\n",
      "100%|███████████████████████████████████████| 125/125 [00:00<00:00, 2478.90it/s]\n",
      "100%|█████████████████████████████████████████| 91/91 [00:00<00:00, 2487.38it/s]\n",
      "100%|█████████████████████████████████████████| 58/58 [00:00<00:00, 2434.50it/s]\n",
      "100%|█████████████████████████████████████| 1143/1143 [00:00<00:00, 4528.71it/s]\n",
      "100%|█████████████████████████████████████| 1143/1143 [00:00<00:00, 4876.68it/s]\n",
      "100%|█████████████████████████████████████| 1863/1863 [00:00<00:00, 3653.45it/s]\n",
      "100%|███████████████████████████████████████| 152/152 [00:00<00:00, 3054.85it/s]\n",
      "100%|███████████████████████████████████████| 484/484 [00:00<00:00, 3710.59it/s]\n",
      "100%|█████████████████████████████████████| 2000/2000 [00:00<00:00, 4135.76it/s]\n",
      "100%|███████████████████████████████████████| 218/218 [00:00<00:00, 2779.83it/s]\n",
      "100%|███████████████████████████████████████| 159/159 [00:00<00:00, 2563.45it/s]\n",
      "100%|███████████████████████████████████████| 101/101 [00:00<00:00, 1964.67it/s]\n",
      "100%|█████████████████████████████████████| 2000/2000 [00:00<00:00, 5368.50it/s]\n",
      "100%|█████████████████████████████████████| 2000/2000 [00:00<00:00, 5680.13it/s]\n"
     ]
    },
    {
     "name": "stdout",
     "output_type": "stream",
     "text": [
      "../../01_CreateFolds/ZTF/Folds/Fold_4/train.csv\n",
      "../../01_CreateFolds/ZTF/Folds/Fold_4/val.csv\n",
      "../../01_CreateFolds/ZTF/Folds/test.csv\n",
      "./Folds/Fold_4/\n"
     ]
    },
    {
     "name": "stderr",
     "output_type": "stream",
     "text": [
      "100%|███████████████████████████████████| 30778/30778 [00:25<00:00, 1194.48it/s]\n",
      "100%|█████████████████████████████████████| 5130/5130 [00:03<00:00, 1693.33it/s]\n",
      "100%|█████████████████████████████████████| 8977/8977 [00:05<00:00, 1611.41it/s]\n",
      "100%|█████████████████████████████████████| 6386/6386 [00:01<00:00, 3641.00it/s]\n",
      "100%|███████████████████████████████████████| 523/523 [00:00<00:00, 2848.51it/s]\n",
      "100%|█████████████████████████████████████| 1657/1657 [00:00<00:00, 2001.26it/s]\n",
      "100%|█████████████████████████████████████| 6857/6857 [00:01<00:00, 4402.01it/s]\n",
      "100%|███████████████████████████████████████| 746/746 [00:00<00:00, 3364.56it/s]\n",
      "100%|███████████████████████████████████████| 547/547 [00:00<00:00, 3966.04it/s]\n",
      "100%|███████████████████████████████████████| 348/348 [00:00<00:00, 2565.69it/s]\n",
      "100%|█████████████████████████████████████| 6857/6857 [00:01<00:00, 4351.29it/s]\n",
      "100%|█████████████████████████████████████| 6857/6857 [00:01<00:00, 4031.87it/s]\n",
      "100%|█████████████████████████████████████| 1064/1064 [00:00<00:00, 5073.74it/s]\n",
      "100%|█████████████████████████████████████████| 87/87 [00:00<00:00, 2032.21it/s]\n",
      "100%|███████████████████████████████████████| 276/276 [00:00<00:00, 3350.14it/s]\n",
      "100%|█████████████████████████████████████| 1143/1143 [00:00<00:00, 6658.70it/s]\n",
      "100%|███████████████████████████████████████| 125/125 [00:00<00:00, 2492.86it/s]\n",
      "100%|█████████████████████████████████████████| 91/91 [00:00<00:00, 2259.53it/s]\n",
      "100%|█████████████████████████████████████████| 58/58 [00:00<00:00, 2091.85it/s]\n",
      "100%|█████████████████████████████████████| 1143/1143 [00:00<00:00, 5850.20it/s]\n",
      "100%|█████████████████████████████████████| 1143/1143 [00:00<00:00, 6003.02it/s]\n",
      "100%|█████████████████████████████████████| 1863/1863 [00:00<00:00, 4449.17it/s]\n",
      "100%|███████████████████████████████████████| 152/152 [00:00<00:00, 3999.36it/s]\n",
      "100%|███████████████████████████████████████| 484/484 [00:00<00:00, 3909.10it/s]\n",
      "100%|█████████████████████████████████████| 2000/2000 [00:00<00:00, 6107.05it/s]\n",
      "100%|███████████████████████████████████████| 218/218 [00:00<00:00, 2387.43it/s]\n",
      "100%|███████████████████████████████████████| 159/159 [00:00<00:00, 2543.72it/s]\n",
      "100%|███████████████████████████████████████| 101/101 [00:00<00:00, 2121.36it/s]\n",
      "100%|█████████████████████████████████████| 2000/2000 [00:00<00:00, 4819.47it/s]\n",
      "100%|█████████████████████████████████████| 2000/2000 [00:00<00:00, 6344.08it/s]\n"
     ]
    },
    {
     "name": "stdout",
     "output_type": "stream",
     "text": [
      "../../01_CreateFolds/ZTF/Folds/Fold_5/train.csv\n",
      "../../01_CreateFolds/ZTF/Folds/Fold_5/val.csv\n",
      "../../01_CreateFolds/ZTF/Folds/test.csv\n",
      "./Folds/Fold_5/\n"
     ]
    },
    {
     "name": "stderr",
     "output_type": "stream",
     "text": [
      "100%|███████████████████████████████████| 30778/30778 [00:22<00:00, 1340.02it/s]\n",
      "100%|█████████████████████████████████████| 5130/5130 [00:03<00:00, 1576.15it/s]\n",
      "100%|█████████████████████████████████████| 8977/8977 [00:05<00:00, 1701.47it/s]\n",
      "100%|█████████████████████████████████████| 6386/6386 [00:01<00:00, 3985.88it/s]\n",
      "100%|███████████████████████████████████████| 523/523 [00:00<00:00, 3549.80it/s]\n",
      "100%|█████████████████████████████████████| 1657/1657 [00:00<00:00, 5552.79it/s]\n",
      "100%|█████████████████████████████████████| 6857/6857 [00:01<00:00, 5334.92it/s]\n",
      "100%|███████████████████████████████████████| 746/746 [00:00<00:00, 4370.07it/s]\n",
      "100%|███████████████████████████████████████| 547/547 [00:00<00:00, 4051.04it/s]\n",
      "100%|███████████████████████████████████████| 348/348 [00:00<00:00, 3839.27it/s]\n",
      "100%|█████████████████████████████████████| 6857/6857 [00:01<00:00, 5424.82it/s]\n",
      "100%|█████████████████████████████████████| 6857/6857 [00:00<00:00, 8708.08it/s]\n",
      "100%|█████████████████████████████████████| 1064/1064 [00:00<00:00, 4254.43it/s]\n",
      "100%|█████████████████████████████████████████| 87/87 [00:00<00:00, 2700.42it/s]\n",
      "100%|███████████████████████████████████████| 276/276 [00:00<00:00, 3879.39it/s]\n",
      "100%|█████████████████████████████████████| 1143/1143 [00:00<00:00, 6273.30it/s]\n",
      "100%|███████████████████████████████████████| 125/125 [00:00<00:00, 2732.56it/s]\n",
      "100%|█████████████████████████████████████████| 91/91 [00:00<00:00, 2215.43it/s]\n",
      "100%|█████████████████████████████████████████| 58/58 [00:00<00:00, 1938.30it/s]\n",
      "100%|█████████████████████████████████████| 1143/1143 [00:00<00:00, 5695.53it/s]\n",
      "100%|█████████████████████████████████████| 1143/1143 [00:00<00:00, 7237.75it/s]\n",
      "100%|█████████████████████████████████████| 1863/1863 [00:00<00:00, 4784.42it/s]\n",
      "100%|███████████████████████████████████████| 152/152 [00:00<00:00, 3294.65it/s]\n",
      "100%|███████████████████████████████████████| 484/484 [00:00<00:00, 3851.45it/s]\n",
      "100%|█████████████████████████████████████| 2000/2000 [00:00<00:00, 5487.33it/s]\n",
      "100%|███████████████████████████████████████| 218/218 [00:00<00:00, 2389.72it/s]\n",
      "100%|███████████████████████████████████████| 159/159 [00:00<00:00, 2551.67it/s]\n",
      "100%|███████████████████████████████████████| 101/101 [00:00<00:00, 1698.73it/s]\n",
      "100%|█████████████████████████████████████| 2000/2000 [00:00<00:00, 5040.86it/s]\n",
      "100%|█████████████████████████████████████| 2000/2000 [00:00<00:00, 5109.87it/s]\n"
     ]
    },
    {
     "name": "stdout",
     "output_type": "stream",
     "text": [
      "../../01_CreateFolds/ZTF/Folds/Fold_6/train.csv\n",
      "../../01_CreateFolds/ZTF/Folds/Fold_6/val.csv\n",
      "../../01_CreateFolds/ZTF/Folds/test.csv\n",
      "./Folds/Fold_6/\n"
     ]
    },
    {
     "name": "stderr",
     "output_type": "stream",
     "text": [
      "100%|███████████████████████████████████| 30779/30779 [00:16<00:00, 1848.36it/s]\n",
      "100%|█████████████████████████████████████| 5129/5129 [00:02<00:00, 2372.07it/s]\n",
      "100%|█████████████████████████████████████| 8977/8977 [00:04<00:00, 1880.83it/s]\n",
      "100%|█████████████████████████████████████| 6386/6386 [00:01<00:00, 4561.32it/s]\n",
      "100%|███████████████████████████████████████| 523/523 [00:00<00:00, 4547.81it/s]\n",
      "100%|█████████████████████████████████████| 1657/1657 [00:00<00:00, 6966.61it/s]\n",
      "100%|█████████████████████████████████████| 6857/6857 [00:01<00:00, 4337.71it/s]\n",
      "100%|███████████████████████████████████████| 747/747 [00:00<00:00, 4704.08it/s]\n",
      "100%|███████████████████████████████████████| 547/547 [00:00<00:00, 4098.09it/s]\n",
      "100%|███████████████████████████████████████| 348/348 [00:00<00:00, 3906.34it/s]\n",
      "100%|█████████████████████████████████████| 6857/6857 [00:01<00:00, 6232.55it/s]\n",
      "100%|█████████████████████████████████████| 6857/6857 [00:01<00:00, 4638.55it/s]\n",
      "100%|█████████████████████████████████████| 1064/1064 [00:00<00:00, 4575.82it/s]\n",
      "100%|█████████████████████████████████████████| 87/87 [00:00<00:00, 2598.85it/s]\n",
      "100%|███████████████████████████████████████| 276/276 [00:00<00:00, 3551.55it/s]\n",
      "100%|█████████████████████████████████████| 1143/1143 [00:00<00:00, 6073.50it/s]\n",
      "100%|███████████████████████████████████████| 124/124 [00:00<00:00, 2405.80it/s]\n",
      "100%|█████████████████████████████████████████| 91/91 [00:00<00:00, 2737.56it/s]\n",
      "100%|█████████████████████████████████████████| 58/58 [00:00<00:00, 2812.85it/s]\n",
      "100%|█████████████████████████████████████| 1143/1143 [00:00<00:00, 5795.07it/s]\n",
      "100%|█████████████████████████████████████| 1143/1143 [00:00<00:00, 6249.33it/s]\n",
      "100%|█████████████████████████████████████| 1863/1863 [00:00<00:00, 5163.71it/s]\n",
      "100%|███████████████████████████████████████| 152/152 [00:00<00:00, 3401.51it/s]\n",
      "100%|███████████████████████████████████████| 484/484 [00:00<00:00, 4413.62it/s]\n",
      "100%|█████████████████████████████████████| 2000/2000 [00:00<00:00, 6012.18it/s]\n",
      "100%|███████████████████████████████████████| 218/218 [00:00<00:00, 2941.66it/s]\n",
      "100%|███████████████████████████████████████| 159/159 [00:00<00:00, 2599.43it/s]\n",
      "100%|███████████████████████████████████████| 101/101 [00:00<00:00, 1964.63it/s]\n",
      "100%|█████████████████████████████████████| 2000/2000 [00:00<00:00, 5961.01it/s]\n",
      "100%|█████████████████████████████████████| 2000/2000 [00:00<00:00, 6276.16it/s]\n"
     ]
    },
    {
     "name": "stdout",
     "output_type": "stream",
     "text": [
      "../../01_CreateFolds/ZTF/Folds/Fold_7/train.csv\n",
      "../../01_CreateFolds/ZTF/Folds/Fold_7/val.csv\n",
      "../../01_CreateFolds/ZTF/Folds/test.csv\n",
      "./Folds/Fold_7/\n"
     ]
    },
    {
     "name": "stderr",
     "output_type": "stream",
     "text": [
      "100%|███████████████████████████████████| 30779/30779 [00:14<00:00, 2057.30it/s]\n",
      "100%|█████████████████████████████████████| 5129/5129 [00:02<00:00, 2025.04it/s]\n",
      "100%|█████████████████████████████████████| 8977/8977 [00:03<00:00, 2252.36it/s]\n",
      "100%|█████████████████████████████████████| 6386/6386 [00:01<00:00, 3697.15it/s]\n",
      "100%|███████████████████████████████████████| 523/523 [00:00<00:00, 3385.94it/s]\n",
      "100%|█████████████████████████████████████| 1656/1656 [00:00<00:00, 6577.89it/s]\n",
      "100%|█████████████████████████████████████| 6858/6858 [00:01<00:00, 5766.52it/s]\n",
      "100%|███████████████████████████████████████| 747/747 [00:00<00:00, 3951.37it/s]\n",
      "100%|███████████████████████████████████████| 547/547 [00:00<00:00, 4191.57it/s]\n",
      "100%|███████████████████████████████████████| 348/348 [00:00<00:00, 3177.20it/s]\n",
      "100%|█████████████████████████████████████| 6857/6857 [00:02<00:00, 3192.36it/s]\n",
      "100%|█████████████████████████████████████| 6857/6857 [00:01<00:00, 6720.47it/s]\n",
      "100%|█████████████████████████████████████| 1064/1064 [00:00<00:00, 3533.25it/s]\n",
      "100%|█████████████████████████████████████████| 87/87 [00:00<00:00, 1812.66it/s]\n",
      "100%|███████████████████████████████████████| 277/277 [00:00<00:00, 3556.39it/s]\n",
      "100%|█████████████████████████████████████| 1142/1142 [00:00<00:00, 6865.08it/s]\n",
      "100%|███████████████████████████████████████| 124/124 [00:00<00:00, 2827.12it/s]\n",
      "100%|█████████████████████████████████████████| 91/91 [00:00<00:00, 2494.19it/s]\n",
      "100%|█████████████████████████████████████████| 58/58 [00:00<00:00, 1967.04it/s]\n",
      "100%|█████████████████████████████████████| 1143/1143 [00:00<00:00, 5874.79it/s]\n",
      "100%|█████████████████████████████████████| 1143/1143 [00:00<00:00, 7130.15it/s]\n",
      "100%|█████████████████████████████████████| 1863/1863 [00:00<00:00, 3627.01it/s]\n",
      "100%|███████████████████████████████████████| 152/152 [00:00<00:00, 2423.93it/s]\n",
      "100%|███████████████████████████████████████| 484/484 [00:00<00:00, 4029.28it/s]\n",
      "100%|█████████████████████████████████████| 2000/2000 [00:00<00:00, 6983.94it/s]\n",
      "100%|███████████████████████████████████████| 218/218 [00:00<00:00, 3169.58it/s]\n",
      "100%|███████████████████████████████████████| 159/159 [00:00<00:00, 2114.35it/s]\n",
      "100%|███████████████████████████████████████| 101/101 [00:00<00:00, 2284.59it/s]\n",
      "100%|█████████████████████████████████████| 2000/2000 [00:00<00:00, 5635.87it/s]\n",
      "100%|█████████████████████████████████████| 2000/2000 [00:00<00:00, 5155.67it/s]\n"
     ]
    }
   ],
   "source": [
    "# Create the container folder\n",
    "if not os.path.exists('./Folds'):\n",
    "    os.mkdir('./Folds')\n",
    "    \n",
    "for fold in folds:\n",
    "    train_val = glob(os.path.join(fold, '*'))\n",
    "    train_path = [i for i in train_val if 'train' in i][0]\n",
    "    val_path = [i for i in train_val if 'val' in i][0]\n",
    "    \n",
    "    path_fold = fold.replace('../../01_CreateFolds/'+survey,'.')+'/'\n",
    "    if not os.path.exists(path_fold):\n",
    "        os.mkdir(path_fold)\n",
    "    print(train_path)\n",
    "    print(val_path)\n",
    "    print(test_path)\n",
    "    print(path_fold)\n",
    "    \n",
    "    kwargs2['file_train']=train_path\n",
    "    kwargs2['file_val'] =val_path\n",
    "    kwargs2['file_test'] =test_path\n",
    "    kwargs2['save_dir'] = path_fold\n",
    "    P.prepare(**kwargs2)\n",
    "    \n",
    "    "
   ]
  },
  {
   "cell_type": "code",
   "execution_count": null,
   "metadata": {},
   "outputs": [],
   "source": []
  }
 ],
 "metadata": {
  "kernelspec": {
   "display_name": "Python 3 (ipykernel)",
   "language": "python",
   "name": "python3"
  },
  "language_info": {
   "codemirror_mode": {
    "name": "ipython",
    "version": 3
   },
   "file_extension": ".py",
   "mimetype": "text/x-python",
   "name": "python",
   "nbconvert_exporter": "python",
   "pygments_lexer": "ipython3",
   "version": "3.10.12"
  }
 },
 "nbformat": 4,
 "nbformat_minor": 4
}
