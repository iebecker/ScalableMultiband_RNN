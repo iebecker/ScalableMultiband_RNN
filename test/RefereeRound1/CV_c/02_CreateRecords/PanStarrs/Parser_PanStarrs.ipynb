{
 "cells": [
  {
   "cell_type": "code",
   "execution_count": 1,
   "metadata": {},
   "outputs": [
    {
     "name": "stderr",
     "output_type": "stream",
     "text": [
      "2024-08-26 16:19:36.740521: E external/local_xla/xla/stream_executor/cuda/cuda_dnn.cc:9261] Unable to register cuDNN factory: Attempting to register factory for plugin cuDNN when one has already been registered\n",
      "2024-08-26 16:19:36.740556: E external/local_xla/xla/stream_executor/cuda/cuda_fft.cc:607] Unable to register cuFFT factory: Attempting to register factory for plugin cuFFT when one has already been registered\n",
      "2024-08-26 16:19:36.741603: E external/local_xla/xla/stream_executor/cuda/cuda_blas.cc:1515] Unable to register cuBLAS factory: Attempting to register factory for plugin cuBLAS when one has already been registered\n",
      "2024-08-26 16:19:36.747796: I tensorflow/core/platform/cpu_feature_guard.cc:182] This TensorFlow binary is optimized to use available CPU instructions in performance-critical operations.\n",
      "To enable the following instructions: AVX2 FMA, in other operations, rebuild TensorFlow with the appropriate compiler flags.\n",
      "2024-08-26 16:19:37.960512: W tensorflow/compiler/tf2tensorrt/utils/py_utils.cc:38] TF-TRT Warning: Could not find TensorRT\n"
     ]
    }
   ],
   "source": [
    "import pandas as pd\n",
    "import sys, os, json\n",
    "\n",
    "from glob import glob\n",
    "import ScalableLib.base.Load_Process as Load_Process"
   ]
  },
  {
   "cell_type": "markdown",
   "metadata": {},
   "source": [
    "Get the different fold files. Tran-val and test sets."
   ]
  },
  {
   "cell_type": "code",
   "execution_count": 3,
   "metadata": {},
   "outputs": [],
   "source": [
    "survey = 'PanStarrs'\n",
    "path_folds = os.path.join('../../01_CreateFolds/', survey, 'Folds/*')\n",
    "\n",
    "# Get the folder paths\n",
    "folds = glob(path_folds)\n",
    "# Get the test file path\n",
    "test_path = [i for i in folds if 'test' in i][0]\n",
    "# Remove the test path from the list\n",
    "folds.remove(test_path)\n",
    "# Sort to work from the first fold onwards\n",
    "folds.sort()"
   ]
  },
  {
   "cell_type": "markdown",
   "metadata": {},
   "source": [
    "For each fold, process the information and store it.\n",
    "\n",
    "The **P** object is defined with its keyword arguments. \n",
    "\n",
    "Then the kwargs are defined to be used as inputs of the prepare method."
   ]
  },
  {
   "cell_type": "code",
   "execution_count": 5,
   "metadata": {},
   "outputs": [],
   "source": [
    "kwargs1={\n",
    "'max_l' : 10000,\n",
    "'min_l' : 100,\n",
    "'min_n': 4,\n",
    "'max_n' : 1000,\n",
    "'w' : 2,\n",
    "'s':1,\n",
    "'njobs':7,\n",
    "'n_bands':5,\n",
    "}"
   ]
  },
  {
   "cell_type": "code",
   "execution_count": 7,
   "metadata": {},
   "outputs": [],
   "source": [
    "P = Load_Process.prepData(**kwargs1)"
   ]
  },
  {
   "cell_type": "code",
   "execution_count": 8,
   "metadata": {},
   "outputs": [],
   "source": [
    "kwargs2={\n",
    "    'dataset_header': ['ID', 'Path', 'Class', 'N', 'N_g', 'N_r', 'N_i', 'N_z', 'N_y' ],\n",
    "    'lc_parameters':{'sep':';', 'header':0, 'na_filter':True, 'engine':'c'},\n",
    "    'params_phys':  [ 'T_eff','Lum','Mass', 'rho','Radius', 'logg'], \n",
    "    'params_phys_est': []    \n",
    "}"
   ]
  },
  {
   "cell_type": "code",
   "execution_count": 9,
   "metadata": {},
   "outputs": [
    {
     "name": "stdout",
     "output_type": "stream",
     "text": [
      "../../01_CreateFolds/PanStarrs/Folds/Fold_1/train.csv\n",
      "../../01_CreateFolds/PanStarrs/Folds/Fold_1/val.csv\n",
      "../../01_CreateFolds/PanStarrs/Folds/test.csv\n",
      "./Folds/Fold_1/\n"
     ]
    },
    {
     "name": "stderr",
     "output_type": "stream",
     "text": [
      "  0%|                                         | 7/18032 [00:00<09:36, 31.25it/s]2024-08-26 16:20:30.088534: E external/local_xla/xla/stream_executor/cuda/cuda_dnn.cc:9261] Unable to register cuDNN factory: Attempting to register factory for plugin cuDNN when one has already been registered\n",
      "2024-08-26 16:20:30.088762: E external/local_xla/xla/stream_executor/cuda/cuda_fft.cc:607] Unable to register cuFFT factory: Attempting to register factory for plugin cuFFT when one has already been registered\n",
      "2024-08-26 16:20:30.090214: E external/local_xla/xla/stream_executor/cuda/cuda_blas.cc:1515] Unable to register cuBLAS factory: Attempting to register factory for plugin cuBLAS when one has already been registered\n",
      "2024-08-26 16:20:30.098586: I tensorflow/core/platform/cpu_feature_guard.cc:182] This TensorFlow binary is optimized to use available CPU instructions in performance-critical operations.\n",
      "To enable the following instructions: AVX2 FMA, in other operations, rebuild TensorFlow with the appropriate compiler flags.\n",
      "2024-08-26 16:20:30.101469: E external/local_xla/xla/stream_executor/cuda/cuda_dnn.cc:9261] Unable to register cuDNN factory: Attempting to register factory for plugin cuDNN when one has already been registered\n",
      "2024-08-26 16:20:30.101528: E external/local_xla/xla/stream_executor/cuda/cuda_fft.cc:607] Unable to register cuFFT factory: Attempting to register factory for plugin cuFFT when one has already been registered\n",
      "2024-08-26 16:20:30.103698: E external/local_xla/xla/stream_executor/cuda/cuda_blas.cc:1515] Unable to register cuBLAS factory: Attempting to register factory for plugin cuBLAS when one has already been registered\n",
      "2024-08-26 16:20:30.113039: I tensorflow/core/platform/cpu_feature_guard.cc:182] This TensorFlow binary is optimized to use available CPU instructions in performance-critical operations.\n",
      "To enable the following instructions: AVX2 FMA, in other operations, rebuild TensorFlow with the appropriate compiler flags.\n",
      "2024-08-26 16:20:30.179164: E external/local_xla/xla/stream_executor/cuda/cuda_dnn.cc:9261] Unable to register cuDNN factory: Attempting to register factory for plugin cuDNN when one has already been registered\n",
      "2024-08-26 16:20:30.179301: E external/local_xla/xla/stream_executor/cuda/cuda_fft.cc:607] Unable to register cuFFT factory: Attempting to register factory for plugin cuFFT when one has already been registered\n",
      "2024-08-26 16:20:30.181887: E external/local_xla/xla/stream_executor/cuda/cuda_blas.cc:1515] Unable to register cuBLAS factory: Attempting to register factory for plugin cuBLAS when one has already been registered\n",
      "2024-08-26 16:20:30.190888: I tensorflow/core/platform/cpu_feature_guard.cc:182] This TensorFlow binary is optimized to use available CPU instructions in performance-critical operations.\n",
      "To enable the following instructions: AVX2 FMA, in other operations, rebuild TensorFlow with the appropriate compiler flags.\n",
      "2024-08-26 16:20:30.201243: E external/local_xla/xla/stream_executor/cuda/cuda_dnn.cc:9261] Unable to register cuDNN factory: Attempting to register factory for plugin cuDNN when one has already been registered\n",
      "2024-08-26 16:20:30.201283: E external/local_xla/xla/stream_executor/cuda/cuda_fft.cc:607] Unable to register cuFFT factory: Attempting to register factory for plugin cuFFT when one has already been registered\n",
      "2024-08-26 16:20:30.202588: E external/local_xla/xla/stream_executor/cuda/cuda_blas.cc:1515] Unable to register cuBLAS factory: Attempting to register factory for plugin cuBLAS when one has already been registered\n",
      "2024-08-26 16:20:30.215758: I tensorflow/core/platform/cpu_feature_guard.cc:182] This TensorFlow binary is optimized to use available CPU instructions in performance-critical operations.\n",
      "To enable the following instructions: AVX2 FMA, in other operations, rebuild TensorFlow with the appropriate compiler flags.\n",
      "2024-08-26 16:20:30.224925: E external/local_xla/xla/stream_executor/cuda/cuda_dnn.cc:9261] Unable to register cuDNN factory: Attempting to register factory for plugin cuDNN when one has already been registered\n",
      "2024-08-26 16:20:30.225060: E external/local_xla/xla/stream_executor/cuda/cuda_fft.cc:607] Unable to register cuFFT factory: Attempting to register factory for plugin cuFFT when one has already been registered\n",
      "2024-08-26 16:20:30.226474: E external/local_xla/xla/stream_executor/cuda/cuda_blas.cc:1515] Unable to register cuBLAS factory: Attempting to register factory for plugin cuBLAS when one has already been registered\n",
      "2024-08-26 16:20:30.235201: I tensorflow/core/platform/cpu_feature_guard.cc:182] This TensorFlow binary is optimized to use available CPU instructions in performance-critical operations.\n",
      "To enable the following instructions: AVX2 FMA, in other operations, rebuild TensorFlow with the appropriate compiler flags.\n",
      "2024-08-26 16:20:30.260878: E external/local_xla/xla/stream_executor/cuda/cuda_dnn.cc:9261] Unable to register cuDNN factory: Attempting to register factory for plugin cuDNN when one has already been registered\n",
      "2024-08-26 16:20:30.261009: E external/local_xla/xla/stream_executor/cuda/cuda_fft.cc:607] Unable to register cuFFT factory: Attempting to register factory for plugin cuFFT when one has already been registered\n",
      "2024-08-26 16:20:30.262574: E external/local_xla/xla/stream_executor/cuda/cuda_blas.cc:1515] Unable to register cuBLAS factory: Attempting to register factory for plugin cuBLAS when one has already been registered\n",
      "2024-08-26 16:20:30.277927: I tensorflow/core/platform/cpu_feature_guard.cc:182] This TensorFlow binary is optimized to use available CPU instructions in performance-critical operations.\n",
      "To enable the following instructions: AVX2 FMA, in other operations, rebuild TensorFlow with the appropriate compiler flags.\n",
      "2024-08-26 16:20:30.458241: E external/local_xla/xla/stream_executor/cuda/cuda_dnn.cc:9261] Unable to register cuDNN factory: Attempting to register factory for plugin cuDNN when one has already been registered\n",
      "2024-08-26 16:20:30.458428: E external/local_xla/xla/stream_executor/cuda/cuda_fft.cc:607] Unable to register cuFFT factory: Attempting to register factory for plugin cuFFT when one has already been registered\n",
      "2024-08-26 16:20:30.459971: E external/local_xla/xla/stream_executor/cuda/cuda_blas.cc:1515] Unable to register cuBLAS factory: Attempting to register factory for plugin cuBLAS when one has already been registered\n",
      "2024-08-26 16:20:30.469226: I tensorflow/core/platform/cpu_feature_guard.cc:182] This TensorFlow binary is optimized to use available CPU instructions in performance-critical operations.\n",
      "To enable the following instructions: AVX2 FMA, in other operations, rebuild TensorFlow with the appropriate compiler flags.\n",
      "2024-08-26 16:20:31.772583: W tensorflow/compiler/tf2tensorrt/utils/py_utils.cc:38] TF-TRT Warning: Could not find TensorRT\n",
      "2024-08-26 16:20:31.900943: W tensorflow/compiler/tf2tensorrt/utils/py_utils.cc:38] TF-TRT Warning: Could not find TensorRT\n",
      "2024-08-26 16:20:31.999212: W tensorflow/compiler/tf2tensorrt/utils/py_utils.cc:38] TF-TRT Warning: Could not find TensorRT\n",
      "2024-08-26 16:20:32.003833: W tensorflow/compiler/tf2tensorrt/utils/py_utils.cc:38] TF-TRT Warning: Could not find TensorRT\n",
      "2024-08-26 16:20:32.014866: W tensorflow/compiler/tf2tensorrt/utils/py_utils.cc:38] TF-TRT Warning: Could not find TensorRT\n",
      "2024-08-26 16:20:32.073332: W tensorflow/compiler/tf2tensorrt/utils/py_utils.cc:38] TF-TRT Warning: Could not find TensorRT\n",
      "2024-08-26 16:20:32.112094: W tensorflow/compiler/tf2tensorrt/utils/py_utils.cc:38] TF-TRT Warning: Could not find TensorRT\n",
      "100%|███████████████████████████████████| 18032/18032 [00:15<00:00, 1165.00it/s]\n",
      "100%|█████████████████████████████████████| 3006/3006 [00:01<00:00, 1674.14it/s]\n",
      "100%|█████████████████████████████████████| 5260/5260 [00:02<00:00, 1902.40it/s]\n",
      "100%|█████████████████████████████████████| 6857/6857 [00:03<00:00, 2260.53it/s]\n",
      "100%|█████████████████████████████████████| 1307/1307 [00:00<00:00, 1847.02it/s]\n",
      "100%|█████████████████████████████████████| 2699/2699 [00:00<00:00, 2918.54it/s]\n",
      "100%|█████████████████████████████████████| 6857/6857 [00:02<00:00, 2304.61it/s]\n",
      "100%|███████████████████████████████████████| 182/182 [00:00<00:00, 1801.59it/s]\n",
      "100%|███████████████████████████████████████| 130/130 [00:00<00:00, 2097.64it/s]\n",
      "100%|█████████████████████████████████████| 1143/1143 [00:00<00:00, 3439.46it/s]\n",
      "100%|███████████████████████████████████████| 218/218 [00:00<00:00, 2249.88it/s]\n",
      "100%|███████████████████████████████████████| 450/450 [00:00<00:00, 2339.35it/s]\n",
      "100%|█████████████████████████████████████| 1143/1143 [00:00<00:00, 4283.45it/s]\n",
      "100%|█████████████████████████████████████████| 31/31 [00:00<00:00, 1634.84it/s]\n",
      "100%|█████████████████████████████████████████| 21/21 [00:00<00:00, 3052.94it/s]\n",
      "100%|█████████████████████████████████████| 2000/2000 [00:00<00:00, 3783.08it/s]\n",
      "100%|███████████████████████████████████████| 381/381 [00:00<00:00, 2506.11it/s]\n",
      "100%|███████████████████████████████████████| 788/788 [00:00<00:00, 1034.59it/s]\n",
      "100%|█████████████████████████████████████| 2000/2000 [00:00<00:00, 4016.02it/s]\n",
      "100%|█████████████████████████████████████████| 53/53 [00:00<00:00, 1575.80it/s]\n",
      "100%|█████████████████████████████████████████| 38/38 [00:00<00:00, 1720.57it/s]\n"
     ]
    },
    {
     "name": "stdout",
     "output_type": "stream",
     "text": [
      "../../01_CreateFolds/PanStarrs/Folds/Fold_2/train.csv\n",
      "../../01_CreateFolds/PanStarrs/Folds/Fold_2/val.csv\n",
      "../../01_CreateFolds/PanStarrs/Folds/test.csv\n",
      "./Folds/Fold_2/\n"
     ]
    },
    {
     "name": "stderr",
     "output_type": "stream",
     "text": [
      "100%|███████████████████████████████████| 18032/18032 [00:14<00:00, 1249.53it/s]\n",
      "100%|█████████████████████████████████████| 3006/3006 [00:01<00:00, 1545.94it/s]\n",
      "100%|█████████████████████████████████████| 5260/5260 [00:04<00:00, 1260.18it/s]\n",
      "100%|█████████████████████████████████████| 6857/6857 [00:03<00:00, 1769.04it/s]\n",
      "100%|█████████████████████████████████████| 1307/1307 [00:00<00:00, 3069.98it/s]\n",
      "100%|█████████████████████████████████████| 2699/2699 [00:01<00:00, 2064.64it/s]\n",
      "100%|█████████████████████████████████████| 6857/6857 [00:04<00:00, 1551.13it/s]\n",
      "100%|███████████████████████████████████████| 182/182 [00:00<00:00, 1495.77it/s]\n",
      "100%|███████████████████████████████████████| 130/130 [00:00<00:00, 1585.53it/s]\n",
      "100%|█████████████████████████████████████| 1143/1143 [00:00<00:00, 1689.59it/s]\n",
      "100%|███████████████████████████████████████| 218/218 [00:00<00:00, 1494.36it/s]\n",
      "100%|███████████████████████████████████████| 450/450 [00:00<00:00, 1530.37it/s]\n",
      "100%|█████████████████████████████████████| 1143/1143 [00:00<00:00, 2255.54it/s]\n",
      "100%|██████████████████████████████████████████| 31/31 [00:00<00:00, 995.70it/s]\n",
      "100%|█████████████████████████████████████████| 21/21 [00:00<00:00, 2525.89it/s]\n",
      "100%|█████████████████████████████████████| 2000/2000 [00:00<00:00, 2136.65it/s]\n",
      "100%|███████████████████████████████████████| 381/381 [00:00<00:00, 1496.45it/s]\n",
      "100%|███████████████████████████████████████| 788/788 [00:00<00:00, 2175.73it/s]\n",
      "100%|█████████████████████████████████████| 2000/2000 [00:01<00:00, 1173.93it/s]\n",
      "100%|██████████████████████████████████████████| 53/53 [00:00<00:00, 914.71it/s]\n",
      "100%|█████████████████████████████████████████| 38/38 [00:00<00:00, 1505.71it/s]\n"
     ]
    },
    {
     "name": "stdout",
     "output_type": "stream",
     "text": [
      "../../01_CreateFolds/PanStarrs/Folds/Fold_3/train.csv\n",
      "../../01_CreateFolds/PanStarrs/Folds/Fold_3/val.csv\n",
      "../../01_CreateFolds/PanStarrs/Folds/test.csv\n",
      "./Folds/Fold_3/\n"
     ]
    },
    {
     "name": "stderr",
     "output_type": "stream",
     "text": [
      " 87%|██████████████████████████████▍    | 15666/18032 [00:09<00:01, 1505.17it/s]/usr/local/lib/python3.10/dist-packages/joblib/externals/loky/process_executor.py:752: UserWarning: A worker stopped while some jobs were given to the executor. This can be caused by a too short worker timeout or by a memory leak.\n",
      "  warnings.warn(\n",
      " 89%|████████████████████████████████▏   | 16114/18032 [00:10<00:02, 804.00it/s]2024-08-26 16:22:43.402537: E external/local_xla/xla/stream_executor/cuda/cuda_dnn.cc:9261] Unable to register cuDNN factory: Attempting to register factory for plugin cuDNN when one has already been registered\n",
      "2024-08-26 16:22:43.402584: E external/local_xla/xla/stream_executor/cuda/cuda_fft.cc:607] Unable to register cuFFT factory: Attempting to register factory for plugin cuFFT when one has already been registered\n",
      "2024-08-26 16:22:43.404024: E external/local_xla/xla/stream_executor/cuda/cuda_blas.cc:1515] Unable to register cuBLAS factory: Attempting to register factory for plugin cuBLAS when one has already been registered\n",
      "2024-08-26 16:22:43.412891: I tensorflow/core/platform/cpu_feature_guard.cc:182] This TensorFlow binary is optimized to use available CPU instructions in performance-critical operations.\n",
      "To enable the following instructions: AVX2 FMA, in other operations, rebuild TensorFlow with the appropriate compiler flags.\n",
      " 92%|█████████████████████████████████   | 16562/18032 [00:11<00:03, 458.04it/s]2024-08-26 16:22:44.246031: E external/local_xla/xla/stream_executor/cuda/cuda_dnn.cc:9261] Unable to register cuDNN factory: Attempting to register factory for plugin cuDNN when one has already been registered\n",
      "2024-08-26 16:22:44.246363: E external/local_xla/xla/stream_executor/cuda/cuda_fft.cc:607] Unable to register cuFFT factory: Attempting to register factory for plugin cuFFT when one has already been registered\n",
      "2024-08-26 16:22:44.247908: E external/local_xla/xla/stream_executor/cuda/cuda_blas.cc:1515] Unable to register cuBLAS factory: Attempting to register factory for plugin cuBLAS when one has already been registered\n",
      "2024-08-26 16:22:44.257109: I tensorflow/core/platform/cpu_feature_guard.cc:182] This TensorFlow binary is optimized to use available CPU instructions in performance-critical operations.\n",
      "To enable the following instructions: AVX2 FMA, in other operations, rebuild TensorFlow with the appropriate compiler flags.\n",
      " 94%|█████████████████████████████████▉  | 16982/18032 [00:13<00:02, 478.64it/s]2024-08-26 16:22:45.334289: W tensorflow/compiler/tf2tensorrt/utils/py_utils.cc:38] TF-TRT Warning: Could not find TensorRT\n",
      " 95%|██████████████████████████████████▏ | 17150/18032 [00:13<00:01, 612.63it/s]2024-08-26 16:22:45.551908: E external/local_xla/xla/stream_executor/cuda/cuda_dnn.cc:9261] Unable to register cuDNN factory: Attempting to register factory for plugin cuDNN when one has already been registered\n",
      "2024-08-26 16:22:45.551989: E external/local_xla/xla/stream_executor/cuda/cuda_fft.cc:607] Unable to register cuFFT factory: Attempting to register factory for plugin cuFFT when one has already been registered\n",
      "2024-08-26 16:22:45.553419: E external/local_xla/xla/stream_executor/cuda/cuda_blas.cc:1515] Unable to register cuBLAS factory: Attempting to register factory for plugin cuBLAS when one has already been registered\n",
      "2024-08-26 16:22:45.562467: I tensorflow/core/platform/cpu_feature_guard.cc:182] This TensorFlow binary is optimized to use available CPU instructions in performance-critical operations.\n",
      "To enable the following instructions: AVX2 FMA, in other operations, rebuild TensorFlow with the appropriate compiler flags.\n",
      " 96%|██████████████████████████████████▌ | 17318/18032 [00:14<00:01, 372.19it/s]2024-08-26 16:22:46.326277: W tensorflow/compiler/tf2tensorrt/utils/py_utils.cc:38] TF-TRT Warning: Could not find TensorRT\n",
      "100%|███████████████████████████████████| 18032/18032 [00:14<00:00, 1216.54it/s]\n",
      "2024-08-26 16:22:47.549497: W tensorflow/compiler/tf2tensorrt/utils/py_utils.cc:38] TF-TRT Warning: Could not find TensorRT\n",
      "100%|█████████████████████████████████████| 3006/3006 [00:01<00:00, 1722.90it/s]\n",
      " 76%|████████████████████████████         | 3987/5260 [00:03<00:00, 1384.20it/s]2024-08-26 16:22:54.115807: E external/local_xla/xla/stream_executor/cuda/cuda_dnn.cc:9261] Unable to register cuDNN factory: Attempting to register factory for plugin cuDNN when one has already been registered\n",
      "2024-08-26 16:22:54.115878: E external/local_xla/xla/stream_executor/cuda/cuda_fft.cc:607] Unable to register cuFFT factory: Attempting to register factory for plugin cuFFT when one has already been registered\n",
      "2024-08-26 16:22:54.117480: E external/local_xla/xla/stream_executor/cuda/cuda_blas.cc:1515] Unable to register cuBLAS factory: Attempting to register factory for plugin cuBLAS when one has already been registered\n",
      "2024-08-26 16:22:54.126588: I tensorflow/core/platform/cpu_feature_guard.cc:182] This TensorFlow binary is optimized to use available CPU instructions in performance-critical operations.\n",
      "To enable the following instructions: AVX2 FMA, in other operations, rebuild TensorFlow with the appropriate compiler flags.\n",
      "100%|█████████████████████████████████████| 5260/5260 [00:04<00:00, 1311.35it/s]\n",
      "2024-08-26 16:22:55.863089: W tensorflow/compiler/tf2tensorrt/utils/py_utils.cc:38] TF-TRT Warning: Could not find TensorRT\n",
      " 26%|█████████▌                           | 1778/6857 [00:00<00:01, 2962.29it/s]2024-08-26 16:22:57.695149: E external/local_xla/xla/stream_executor/cuda/cuda_dnn.cc:9261] Unable to register cuDNN factory: Attempting to register factory for plugin cuDNN when one has already been registered\n",
      "2024-08-26 16:22:57.695192: E external/local_xla/xla/stream_executor/cuda/cuda_fft.cc:607] Unable to register cuFFT factory: Attempting to register factory for plugin cuFFT when one has already been registered\n",
      "2024-08-26 16:22:57.696577: E external/local_xla/xla/stream_executor/cuda/cuda_blas.cc:1515] Unable to register cuBLAS factory: Attempting to register factory for plugin cuBLAS when one has already been registered\n",
      "2024-08-26 16:22:57.705473: I tensorflow/core/platform/cpu_feature_guard.cc:182] This TensorFlow binary is optimized to use available CPU instructions in performance-critical operations.\n",
      "To enable the following instructions: AVX2 FMA, in other operations, rebuild TensorFlow with the appropriate compiler flags.\n",
      " 72%|██████████████████████████▌          | 4914/6857 [00:01<00:00, 2312.20it/s]2024-08-26 16:22:59.158626: W tensorflow/compiler/tf2tensorrt/utils/py_utils.cc:38] TF-TRT Warning: Could not find TensorRT\n",
      "100%|█████████████████████████████████████| 6857/6857 [00:03<00:00, 2043.50it/s]\n",
      "100%|█████████████████████████████████████| 1307/1307 [00:00<00:00, 4452.42it/s]\n",
      "100%|█████████████████████████████████████| 2699/2699 [00:00<00:00, 2811.36it/s]\n",
      "100%|█████████████████████████████████████| 6857/6857 [00:03<00:00, 2158.62it/s]\n",
      "100%|███████████████████████████████████████| 182/182 [00:00<00:00, 2442.81it/s]\n",
      "100%|███████████████████████████████████████| 130/130 [00:00<00:00, 2385.96it/s]\n",
      "100%|█████████████████████████████████████| 1143/1143 [00:00<00:00, 2994.85it/s]\n",
      "100%|███████████████████████████████████████| 218/218 [00:00<00:00, 2198.62it/s]\n",
      "100%|███████████████████████████████████████| 450/450 [00:00<00:00, 2026.34it/s]\n",
      "100%|█████████████████████████████████████| 1143/1143 [00:00<00:00, 3349.52it/s]\n",
      "100%|█████████████████████████████████████████| 31/31 [00:00<00:00, 1317.05it/s]\n",
      "100%|█████████████████████████████████████████| 21/21 [00:00<00:00, 1846.94it/s]\n",
      "100%|█████████████████████████████████████| 2000/2000 [00:00<00:00, 2538.49it/s]\n",
      "100%|███████████████████████████████████████| 381/381 [00:00<00:00, 1874.32it/s]\n",
      "100%|███████████████████████████████████████| 788/788 [00:00<00:00, 2063.87it/s]\n",
      "100%|█████████████████████████████████████| 2000/2000 [00:01<00:00, 1423.29it/s]\n",
      "100%|██████████████████████████████████████████| 53/53 [00:00<00:00, 685.61it/s]\n",
      "100%|██████████████████████████████████████████| 38/38 [00:00<00:00, 830.31it/s]\n"
     ]
    },
    {
     "name": "stdout",
     "output_type": "stream",
     "text": [
      "../../01_CreateFolds/PanStarrs/Folds/Fold_4/train.csv\n",
      "../../01_CreateFolds/PanStarrs/Folds/Fold_4/val.csv\n",
      "../../01_CreateFolds/PanStarrs/Folds/test.csv\n",
      "./Folds/Fold_4/\n"
     ]
    },
    {
     "name": "stderr",
     "output_type": "stream",
     "text": [
      " 43%|███████████████▌                    | 7826/18033 [00:07<00:08, 1164.96it/s]/usr/local/lib/python3.10/dist-packages/joblib/externals/loky/process_executor.py:752: UserWarning: A worker stopped while some jobs were given to the executor. This can be caused by a too short worker timeout or by a memory leak.\n",
      "  warnings.warn(\n",
      " 52%|███████████████████▎                 | 9394/18033 [00:09<00:08, 968.43it/s]2024-08-26 16:23:52.353228: E external/local_xla/xla/stream_executor/cuda/cuda_dnn.cc:9261] Unable to register cuDNN factory: Attempting to register factory for plugin cuDNN when one has already been registered\n",
      "2024-08-26 16:23:52.353264: E external/local_xla/xla/stream_executor/cuda/cuda_fft.cc:607] Unable to register cuFFT factory: Attempting to register factory for plugin cuFFT when one has already been registered\n",
      "2024-08-26 16:23:52.354649: E external/local_xla/xla/stream_executor/cuda/cuda_blas.cc:1515] Unable to register cuBLAS factory: Attempting to register factory for plugin cuBLAS when one has already been registered\n",
      "2024-08-26 16:23:52.363483: I tensorflow/core/platform/cpu_feature_guard.cc:182] This TensorFlow binary is optimized to use available CPU instructions in performance-critical operations.\n",
      "To enable the following instructions: AVX2 FMA, in other operations, rebuild TensorFlow with the appropriate compiler flags.\n",
      " 66%|███████████████████████▋            | 11858/18033 [00:12<00:06, 920.58it/s]2024-08-26 16:23:55.077952: W tensorflow/compiler/tf2tensorrt/utils/py_utils.cc:38] TF-TRT Warning: Could not find TensorRT\n",
      "100%|███████████████████████████████████| 18033/18033 [00:17<00:00, 1030.38it/s]\n",
      "100%|██████████████████████████████████████| 3005/3005 [00:03<00:00, 995.81it/s]\n",
      "2024-08-26 16:24:03.666601: E external/local_xla/xla/stream_executor/cuda/cuda_dnn.cc:9261] Unable to register cuDNN factory: Attempting to register factory for plugin cuDNN when one has already been registered\n",
      "2024-08-26 16:24:03.676789: E external/local_xla/xla/stream_executor/cuda/cuda_fft.cc:607] Unable to register cuFFT factory: Attempting to register factory for plugin cuFFT when one has already been registered\n",
      "2024-08-26 16:24:03.678277: E external/local_xla/xla/stream_executor/cuda/cuda_blas.cc:1515] Unable to register cuBLAS factory: Attempting to register factory for plugin cuBLAS when one has already been registered\n",
      "2024-08-26 16:24:03.688770: I tensorflow/core/platform/cpu_feature_guard.cc:182] This TensorFlow binary is optimized to use available CPU instructions in performance-critical operations.\n",
      "To enable the following instructions: AVX2 FMA, in other operations, rebuild TensorFlow with the appropriate compiler flags.\n",
      "2024-08-26 16:24:05.467376: W tensorflow/compiler/tf2tensorrt/utils/py_utils.cc:38] TF-TRT Warning: Could not find TensorRT\n",
      "100%|█████████████████████████████████████| 5260/5260 [00:02<00:00, 1779.41it/s]\n",
      "100%|█████████████████████████████████████| 6858/6858 [00:02<00:00, 2495.24it/s]\n",
      "100%|█████████████████████████████████████| 1307/1307 [00:00<00:00, 1511.20it/s]\n",
      "100%|█████████████████████████████████████| 2699/2699 [00:01<00:00, 2585.64it/s]\n",
      "100%|█████████████████████████████████████| 6857/6857 [00:02<00:00, 2339.91it/s]\n",
      "100%|███████████████████████████████████████| 183/183 [00:00<00:00, 1839.17it/s]\n",
      "100%|███████████████████████████████████████| 129/129 [00:00<00:00, 1994.56it/s]\n",
      "100%|█████████████████████████████████████| 1142/1142 [00:00<00:00, 2672.84it/s]\n",
      "100%|████████████████████████████████████████| 218/218 [00:00<00:00, 324.66it/s]\n",
      "100%|███████████████████████████████████████| 450/450 [00:00<00:00, 2332.44it/s]\n",
      "100%|█████████████████████████████████████| 1143/1143 [00:00<00:00, 3537.75it/s]\n",
      "100%|█████████████████████████████████████████| 30/30 [00:00<00:00, 1490.60it/s]\n",
      "100%|█████████████████████████████████████████| 22/22 [00:00<00:00, 2256.10it/s]\n",
      "100%|█████████████████████████████████████| 2000/2000 [00:00<00:00, 2976.41it/s]\n",
      "100%|███████████████████████████████████████| 381/381 [00:00<00:00, 2549.43it/s]\n",
      "100%|███████████████████████████████████████| 788/788 [00:00<00:00, 2955.69it/s]\n",
      "100%|█████████████████████████████████████| 2000/2000 [00:00<00:00, 3049.00it/s]\n",
      "100%|█████████████████████████████████████████| 53/53 [00:00<00:00, 1326.65it/s]\n",
      "100%|█████████████████████████████████████████| 38/38 [00:00<00:00, 1326.02it/s]\n"
     ]
    },
    {
     "name": "stdout",
     "output_type": "stream",
     "text": [
      "../../01_CreateFolds/PanStarrs/Folds/Fold_5/train.csv\n",
      "../../01_CreateFolds/PanStarrs/Folds/Fold_5/val.csv\n",
      "../../01_CreateFolds/PanStarrs/Folds/test.csv\n",
      "./Folds/Fold_5/\n"
     ]
    },
    {
     "name": "stderr",
     "output_type": "stream",
     "text": [
      "100%|████████████████████████████████████| 18033/18033 [00:20<00:00, 897.01it/s]\n",
      "100%|█████████████████████████████████████| 3005/3005 [00:02<00:00, 1003.63it/s]\n",
      "100%|█████████████████████████████████████| 5260/5260 [00:04<00:00, 1091.30it/s]\n",
      "100%|█████████████████████████████████████| 6857/6857 [00:03<00:00, 1729.65it/s]\n",
      "100%|█████████████████████████████████████| 1307/1307 [00:00<00:00, 2871.80it/s]\n",
      "100%|█████████████████████████████████████| 2700/2700 [00:01<00:00, 1460.71it/s]\n",
      "100%|█████████████████████████████████████| 6857/6857 [00:04<00:00, 1603.69it/s]\n",
      "100%|███████████████████████████████████████| 183/183 [00:00<00:00, 2055.38it/s]\n",
      "100%|███████████████████████████████████████| 129/129 [00:00<00:00, 1916.38it/s]\n",
      "100%|█████████████████████████████████████| 1143/1143 [00:00<00:00, 2887.80it/s]\n",
      "100%|███████████████████████████████████████| 218/218 [00:00<00:00, 1852.48it/s]\n",
      "100%|███████████████████████████████████████| 449/449 [00:00<00:00, 1964.35it/s]\n",
      "100%|█████████████████████████████████████| 1143/1143 [00:00<00:00, 3436.44it/s]\n",
      "100%|█████████████████████████████████████████| 30/30 [00:00<00:00, 1223.86it/s]\n",
      "100%|█████████████████████████████████████████| 22/22 [00:00<00:00, 1213.58it/s]\n",
      "100%|█████████████████████████████████████| 2000/2000 [00:00<00:00, 2867.22it/s]\n",
      "100%|███████████████████████████████████████| 381/381 [00:00<00:00, 2628.80it/s]\n",
      "100%|███████████████████████████████████████| 788/788 [00:00<00:00, 2530.42it/s]\n",
      "100%|█████████████████████████████████████| 2000/2000 [00:00<00:00, 3050.81it/s]\n",
      "100%|██████████████████████████████████████████| 53/53 [00:00<00:00, 974.69it/s]\n",
      "100%|██████████████████████████████████████████| 38/38 [00:00<00:00, 874.18it/s]\n"
     ]
    },
    {
     "name": "stdout",
     "output_type": "stream",
     "text": [
      "../../01_CreateFolds/PanStarrs/Folds/Fold_6/train.csv\n",
      "../../01_CreateFolds/PanStarrs/Folds/Fold_6/val.csv\n",
      "../../01_CreateFolds/PanStarrs/Folds/test.csv\n",
      "./Folds/Fold_6/\n"
     ]
    },
    {
     "name": "stderr",
     "output_type": "stream",
     "text": [
      " 80%|███████████████████████████▉       | 14425/18033 [00:09<00:02, 1441.66it/s]/usr/local/lib/python3.10/dist-packages/joblib/externals/loky/process_executor.py:752: UserWarning: A worker stopped while some jobs were given to the executor. This can be caused by a too short worker timeout or by a memory leak.\n",
      "  warnings.warn(\n",
      "2024-08-26 16:26:09.639512: E external/local_xla/xla/stream_executor/cuda/cuda_dnn.cc:9261] Unable to register cuDNN factory: Attempting to register factory for plugin cuDNN when one has already been registered\n",
      "2024-08-26 16:26:09.639544: E external/local_xla/xla/stream_executor/cuda/cuda_fft.cc:607] Unable to register cuFFT factory: Attempting to register factory for plugin cuFFT when one has already been registered\n",
      "2024-08-26 16:26:09.640615: E external/local_xla/xla/stream_executor/cuda/cuda_blas.cc:1515] Unable to register cuBLAS factory: Attempting to register factory for plugin cuBLAS when one has already been registered\n",
      "2024-08-26 16:26:09.646425: I tensorflow/core/platform/cpu_feature_guard.cc:182] This TensorFlow binary is optimized to use available CPU instructions in performance-critical operations.\n",
      "To enable the following instructions: AVX2 FMA, in other operations, rebuild TensorFlow with the appropriate compiler flags.\n",
      " 84%|██████████████████████████████      | 15060/18033 [00:11<00:06, 478.52it/s]2024-08-26 16:26:10.628501: E external/local_xla/xla/stream_executor/cuda/cuda_dnn.cc:9261] Unable to register cuDNN factory: Attempting to register factory for plugin cuDNN when one has already been registered\n",
      "2024-08-26 16:26:10.628571: E external/local_xla/xla/stream_executor/cuda/cuda_fft.cc:607] Unable to register cuFFT factory: Attempting to register factory for plugin cuFFT when one has already been registered\n",
      "2024-08-26 16:26:10.629974: E external/local_xla/xla/stream_executor/cuda/cuda_blas.cc:1515] Unable to register cuBLAS factory: Attempting to register factory for plugin cuBLAS when one has already been registered\n",
      "2024-08-26 16:26:10.639185: I tensorflow/core/platform/cpu_feature_guard.cc:182] This TensorFlow binary is optimized to use available CPU instructions in performance-critical operations.\n",
      "To enable the following instructions: AVX2 FMA, in other operations, rebuild TensorFlow with the appropriate compiler flags.\n",
      " 86%|██████████████████████████████▉     | 15471/18033 [00:12<00:05, 442.63it/s]2024-08-26 16:26:11.388627: W tensorflow/compiler/tf2tensorrt/utils/py_utils.cc:38] TF-TRT Warning: Could not find TensorRT\n",
      " 86%|███████████████████████████████     | 15558/18033 [00:12<00:05, 480.89it/s]2024-08-26 16:26:11.539047: E external/local_xla/xla/stream_executor/cuda/cuda_dnn.cc:9261] Unable to register cuDNN factory: Attempting to register factory for plugin cuDNN when one has already been registered\n",
      "2024-08-26 16:26:11.539481: E external/local_xla/xla/stream_executor/cuda/cuda_fft.cc:607] Unable to register cuFFT factory: Attempting to register factory for plugin cuFFT when one has already been registered\n",
      "2024-08-26 16:26:11.540957: E external/local_xla/xla/stream_executor/cuda/cuda_blas.cc:1515] Unable to register cuBLAS factory: Attempting to register factory for plugin cuBLAS when one has already been registered\n",
      "2024-08-26 16:26:11.549991: I tensorflow/core/platform/cpu_feature_guard.cc:182] This TensorFlow binary is optimized to use available CPU instructions in performance-critical operations.\n",
      "To enable the following instructions: AVX2 FMA, in other operations, rebuild TensorFlow with the appropriate compiler flags.\n",
      " 87%|███████████████████████████████▍    | 15722/18033 [00:13<00:07, 324.37it/s]2024-08-26 16:26:12.373909: W tensorflow/compiler/tf2tensorrt/utils/py_utils.cc:38] TF-TRT Warning: Could not find TensorRT\n",
      " 91%|████████████████████████████████▋   | 16394/18033 [00:14<00:02, 614.58it/s]2024-08-26 16:26:13.235854: W tensorflow/compiler/tf2tensorrt/utils/py_utils.cc:38] TF-TRT Warning: Could not find TensorRT\n",
      " 94%|█████████████████████████████████▋  | 16898/18033 [00:14<00:01, 840.79it/s]2024-08-26 16:26:13.649173: E external/local_xla/xla/stream_executor/cuda/cuda_dnn.cc:9261] Unable to register cuDNN factory: Attempting to register factory for plugin cuDNN when one has already been registered\n",
      "2024-08-26 16:26:13.649359: E external/local_xla/xla/stream_executor/cuda/cuda_fft.cc:607] Unable to register cuFFT factory: Attempting to register factory for plugin cuFFT when one has already been registered\n",
      "2024-08-26 16:26:13.650822: E external/local_xla/xla/stream_executor/cuda/cuda_blas.cc:1515] Unable to register cuBLAS factory: Attempting to register factory for plugin cuBLAS when one has already been registered\n",
      "2024-08-26 16:26:13.660060: I tensorflow/core/platform/cpu_feature_guard.cc:182] This TensorFlow binary is optimized to use available CPU instructions in performance-critical operations.\n",
      "To enable the following instructions: AVX2 FMA, in other operations, rebuild TensorFlow with the appropriate compiler flags.\n",
      "100%|███████████████████████████████████| 18033/18033 [00:16<00:00, 1110.07it/s]\n",
      "2024-08-26 16:26:16.635251: W tensorflow/compiler/tf2tensorrt/utils/py_utils.cc:38] TF-TRT Warning: Could not find TensorRT\n",
      "100%|██████████████████████████████████████| 3005/3005 [00:03<00:00, 812.25it/s]\n",
      "100%|██████████████████████████████████████| 5260/5260 [00:06<00:00, 773.63it/s]\n",
      "2024-08-26 16:26:29.343592: E external/local_xla/xla/stream_executor/cuda/cuda_dnn.cc:9261] Unable to register cuDNN factory: Attempting to register factory for plugin cuDNN when one has already been registered\n",
      "2024-08-26 16:26:29.343658: E external/local_xla/xla/stream_executor/cuda/cuda_fft.cc:607] Unable to register cuFFT factory: Attempting to register factory for plugin cuFFT when one has already been registered\n",
      "2024-08-26 16:26:29.345486: E external/local_xla/xla/stream_executor/cuda/cuda_blas.cc:1515] Unable to register cuBLAS factory: Attempting to register factory for plugin cuBLAS when one has already been registered\n",
      "2024-08-26 16:26:29.354592: I tensorflow/core/platform/cpu_feature_guard.cc:182] This TensorFlow binary is optimized to use available CPU instructions in performance-critical operations.\n",
      "To enable the following instructions: AVX2 FMA, in other operations, rebuild TensorFlow with the appropriate compiler flags.\n",
      "2024-08-26 16:26:31.071298: W tensorflow/compiler/tf2tensorrt/utils/py_utils.cc:38] TF-TRT Warning: Could not find TensorRT\n",
      "100%|█████████████████████████████████████| 6857/6857 [00:05<00:00, 1209.26it/s]\n",
      "100%|█████████████████████████████████████| 1307/1307 [00:01<00:00, 1059.02it/s]\n",
      "100%|█████████████████████████████████████| 2699/2699 [00:02<00:00, 1087.70it/s]\n",
      "100%|█████████████████████████████████████| 6858/6858 [00:05<00:00, 1266.26it/s]\n",
      "100%|███████████████████████████████████████| 183/183 [00:00<00:00, 2055.08it/s]\n",
      "100%|███████████████████████████████████████| 129/129 [00:00<00:00, 1552.56it/s]\n",
      "100%|█████████████████████████████████████| 1143/1143 [00:00<00:00, 1834.94it/s]\n",
      "100%|███████████████████████████████████████| 218/218 [00:00<00:00, 1625.28it/s]\n",
      "100%|███████████████████████████████████████| 450/450 [00:00<00:00, 1871.83it/s]\n",
      "100%|█████████████████████████████████████| 1142/1142 [00:00<00:00, 3455.30it/s]\n",
      "100%|██████████████████████████████████████████| 30/30 [00:00<00:00, 842.02it/s]\n",
      "100%|█████████████████████████████████████████| 22/22 [00:00<00:00, 1390.33it/s]\n",
      "100%|█████████████████████████████████████| 2000/2000 [00:00<00:00, 2556.72it/s]\n",
      "100%|███████████████████████████████████████| 381/381 [00:00<00:00, 1375.08it/s]\n",
      "100%|███████████████████████████████████████| 788/788 [00:00<00:00, 2658.95it/s]\n",
      "100%|█████████████████████████████████████| 2000/2000 [00:00<00:00, 3038.65it/s]\n",
      "100%|█████████████████████████████████████████| 53/53 [00:00<00:00, 1176.32it/s]\n",
      "100%|██████████████████████████████████████████| 38/38 [00:00<00:00, 850.69it/s]\n"
     ]
    },
    {
     "name": "stdout",
     "output_type": "stream",
     "text": [
      "../../01_CreateFolds/PanStarrs/Folds/Fold_7/train.csv\n",
      "../../01_CreateFolds/PanStarrs/Folds/Fold_7/val.csv\n",
      "../../01_CreateFolds/PanStarrs/Folds/test.csv\n",
      "./Folds/Fold_7/\n"
     ]
    },
    {
     "name": "stderr",
     "output_type": "stream",
     "text": [
      " 67%|███████████████████████▍           | 12082/18033 [00:07<00:04, 1204.66it/s]/usr/local/lib/python3.10/dist-packages/joblib/externals/loky/process_executor.py:752: UserWarning: A worker stopped while some jobs were given to the executor. This can be caused by a too short worker timeout or by a memory leak.\n",
      "  warnings.warn(\n",
      " 78%|███████████████████████████▎       | 14098/18033 [00:09<00:03, 1290.54it/s]2024-08-26 16:27:27.821509: E external/local_xla/xla/stream_executor/cuda/cuda_dnn.cc:9261] Unable to register cuDNN factory: Attempting to register factory for plugin cuDNN when one has already been registered\n",
      "2024-08-26 16:27:27.821538: E external/local_xla/xla/stream_executor/cuda/cuda_fft.cc:607] Unable to register cuFFT factory: Attempting to register factory for plugin cuFFT when one has already been registered\n",
      "2024-08-26 16:27:27.822558: E external/local_xla/xla/stream_executor/cuda/cuda_blas.cc:1515] Unable to register cuBLAS factory: Attempting to register factory for plugin cuBLAS when one has already been registered\n",
      "2024-08-26 16:27:27.830474: I tensorflow/core/platform/cpu_feature_guard.cc:182] This TensorFlow binary is optimized to use available CPU instructions in performance-critical operations.\n",
      "To enable the following instructions: AVX2 FMA, in other operations, rebuild TensorFlow with the appropriate compiler flags.\n",
      " 94%|████████████████████████████████▉  | 16998/18033 [00:11<00:00, 1805.15it/s]2024-08-26 16:27:29.800132: W tensorflow/compiler/tf2tensorrt/utils/py_utils.cc:38] TF-TRT Warning: Could not find TensorRT\n",
      "100%|███████████████████████████████████| 18033/18033 [00:11<00:00, 1518.44it/s]\n",
      "100%|█████████████████████████████████████| 3005/3005 [00:01<00:00, 2049.02it/s]\n",
      " 88%|█████████████████████████████████▎    | 4614/5260 [00:03<00:00, 732.04it/s]2024-08-26 16:27:37.155347: E external/local_xla/xla/stream_executor/cuda/cuda_dnn.cc:9261] Unable to register cuDNN factory: Attempting to register factory for plugin cuDNN when one has already been registered\n",
      "2024-08-26 16:27:37.155393: E external/local_xla/xla/stream_executor/cuda/cuda_fft.cc:607] Unable to register cuFFT factory: Attempting to register factory for plugin cuFFT when one has already been registered\n",
      "2024-08-26 16:27:37.156986: E external/local_xla/xla/stream_executor/cuda/cuda_blas.cc:1515] Unable to register cuBLAS factory: Attempting to register factory for plugin cuBLAS when one has already been registered\n",
      "2024-08-26 16:27:37.165919: I tensorflow/core/platform/cpu_feature_guard.cc:182] This TensorFlow binary is optimized to use available CPU instructions in performance-critical operations.\n",
      "To enable the following instructions: AVX2 FMA, in other operations, rebuild TensorFlow with the appropriate compiler flags.\n",
      "100%|█████████████████████████████████████| 5260/5260 [00:04<00:00, 1276.53it/s]\n",
      "2024-08-26 16:27:38.609795: W tensorflow/compiler/tf2tensorrt/utils/py_utils.cc:38] TF-TRT Warning: Could not find TensorRT\n",
      "100%|█████████████████████████████████████| 6857/6857 [00:03<00:00, 1927.98it/s]\n",
      "100%|██████████████████████████████████████| 1308/1308 [00:01<00:00, 921.45it/s]\n",
      "100%|█████████████████████████████████████| 2699/2699 [00:02<00:00, 1102.29it/s]\n",
      "100%|█████████████████████████████████████| 6857/6857 [00:05<00:00, 1217.88it/s]\n",
      "100%|███████████████████████████████████████| 183/183 [00:00<00:00, 1190.12it/s]\n",
      "100%|████████████████████████████████████████| 129/129 [00:00<00:00, 731.36it/s]\n",
      "100%|█████████████████████████████████████| 1143/1143 [00:00<00:00, 1275.25it/s]\n",
      "100%|████████████████████████████████████████| 217/217 [00:00<00:00, 814.20it/s]\n",
      "100%|███████████████████████████████████████| 450/450 [00:00<00:00, 1097.89it/s]\n",
      "100%|█████████████████████████████████████| 1143/1143 [00:00<00:00, 1395.62it/s]\n",
      "100%|██████████████████████████████████████████| 30/30 [00:00<00:00, 846.71it/s]\n",
      "100%|█████████████████████████████████████████| 22/22 [00:00<00:00, 2155.04it/s]\n",
      "100%|█████████████████████████████████████| 2000/2000 [00:01<00:00, 1243.08it/s]\n",
      "100%|███████████████████████████████████████| 381/381 [00:00<00:00, 1145.98it/s]\n",
      "100%|███████████████████████████████████████| 788/788 [00:00<00:00, 2957.99it/s]\n",
      "100%|█████████████████████████████████████| 2000/2000 [00:01<00:00, 1095.55it/s]\n",
      "100%|██████████████████████████████████████████| 53/53 [00:00<00:00, 809.89it/s]\n",
      "100%|██████████████████████████████████████████| 38/38 [00:00<00:00, 986.63it/s]\n"
     ]
    }
   ],
   "source": [
    "# Create the container folder\n",
    "if not os.path.exists('./Folds'):\n",
    "    os.mkdir('./Folds')\n",
    "    \n",
    "for fold in folds:\n",
    "    train_val = glob(os.path.join(fold, '*'))\n",
    "    train_path = [i for i in train_val if 'train' in i][0]\n",
    "    val_path = [i for i in train_val if 'val' in i][0]\n",
    "    \n",
    "    path_fold = fold.replace('../../01_CreateFolds/'+survey,'.')+'/'\n",
    "    if not os.path.exists(path_fold):\n",
    "        os.mkdir(path_fold)\n",
    "    print(train_path)\n",
    "    print(val_path)\n",
    "    print(test_path)\n",
    "    print(path_fold)\n",
    "    \n",
    "    kwargs2['file_train']=train_path\n",
    "    kwargs2['file_val'] =val_path\n",
    "    kwargs2['file_test'] =test_path\n",
    "    kwargs2['save_dir'] = path_fold\n",
    "    P.prepare(**kwargs2)\n",
    "    \n",
    "    "
   ]
  },
  {
   "cell_type": "code",
   "execution_count": null,
   "metadata": {},
   "outputs": [],
   "source": []
  },
  {
   "cell_type": "code",
   "execution_count": null,
   "metadata": {},
   "outputs": [],
   "source": []
  },
  {
   "cell_type": "code",
   "execution_count": null,
   "metadata": {},
   "outputs": [],
   "source": []
  }
 ],
 "metadata": {
  "kernelspec": {
   "display_name": "Python 3 (ipykernel)",
   "language": "python",
   "name": "python3"
  },
  "language_info": {
   "codemirror_mode": {
    "name": "ipython",
    "version": 3
   },
   "file_extension": ".py",
   "mimetype": "text/x-python",
   "name": "python",
   "nbconvert_exporter": "python",
   "pygments_lexer": "ipython3",
   "version": "3.10.12"
  }
 },
 "nbformat": 4,
 "nbformat_minor": 4
}
