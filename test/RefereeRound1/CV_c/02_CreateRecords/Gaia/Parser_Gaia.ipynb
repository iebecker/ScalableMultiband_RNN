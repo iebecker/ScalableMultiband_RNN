{
 "cells": [
  {
   "cell_type": "code",
   "execution_count": 1,
   "metadata": {},
   "outputs": [
    {
     "name": "stderr",
     "output_type": "stream",
     "text": [
      "2024-08-26 16:02:34.476542: E external/local_xla/xla/stream_executor/cuda/cuda_dnn.cc:9261] Unable to register cuDNN factory: Attempting to register factory for plugin cuDNN when one has already been registered\n",
      "2024-08-26 16:02:34.476690: E external/local_xla/xla/stream_executor/cuda/cuda_fft.cc:607] Unable to register cuFFT factory: Attempting to register factory for plugin cuFFT when one has already been registered\n",
      "2024-08-26 16:02:34.549638: E external/local_xla/xla/stream_executor/cuda/cuda_blas.cc:1515] Unable to register cuBLAS factory: Attempting to register factory for plugin cuBLAS when one has already been registered\n",
      "2024-08-26 16:02:34.698472: I tensorflow/core/platform/cpu_feature_guard.cc:182] This TensorFlow binary is optimized to use available CPU instructions in performance-critical operations.\n",
      "To enable the following instructions: AVX2 FMA, in other operations, rebuild TensorFlow with the appropriate compiler flags.\n",
      "2024-08-26 16:02:36.258879: W tensorflow/compiler/tf2tensorrt/utils/py_utils.cc:38] TF-TRT Warning: Could not find TensorRT\n"
     ]
    }
   ],
   "source": [
    "import pandas as pd\n",
    "import numpy as np\n",
    "import sys, os, json\n",
    "# from collections import Counter\n",
    "# import tensorflow as tf\n",
    "from glob import glob\n",
    "\n",
    "import ScalableLib.base.Load_Process as Load_Process"
   ]
  },
  {
   "cell_type": "markdown",
   "metadata": {},
   "source": [
    "Get the different fold files. Tran-val and test sets."
   ]
  },
  {
   "cell_type": "code",
   "execution_count": 4,
   "metadata": {},
   "outputs": [],
   "source": [
    "survey = 'Gaia'\n",
    "path_folds = os.path.join('../../01_CreateFolds/', survey, 'Folds/*')\n",
    "\n",
    "# Get the folder paths\n",
    "folds = glob(path_folds)\n",
    "# Get the test file path\n",
    "test_path = [i for i in folds if 'test' in i][0]\n",
    "# Remove the test path from the list\n",
    "folds.remove(test_path)\n",
    "# Sort to work from the first fold onwards\n",
    "folds.sort()"
   ]
  },
  {
   "cell_type": "markdown",
   "metadata": {},
   "source": [
    "For each fold, process the information and store it.\n",
    "\n",
    "The **P** object is defined with its keyword arguments. \n",
    "\n",
    "Then the kwargs are defined to be used as inputs of the prepare method."
   ]
  },
  {
   "cell_type": "code",
   "execution_count": 10,
   "metadata": {},
   "outputs": [],
   "source": [
    "kwargs1={\n",
    "'max_l' : 40000,\n",
    "'min_l' : 1000,\n",
    "'min_n': 10,\n",
    "'max_n' : 1000,\n",
    "'w' : 2,\n",
    "'s':1,\n",
    "'njobs':7,\n",
    "'n_bands':2,\n",
    "}"
   ]
  },
  {
   "cell_type": "code",
   "execution_count": 11,
   "metadata": {},
   "outputs": [],
   "source": [
    "P = Load_Process.prepData(**kwargs1)"
   ]
  },
  {
   "cell_type": "code",
   "execution_count": 12,
   "metadata": {},
   "outputs": [],
   "source": [
    "kwargs2={\n",
    "    'dataset_header': ['ID', 'Path', 'Class', 'N', 'N_b', 'N_r'],\n",
    "    'lc_parameters': {'sep':',', 'header':0, 'na_filter':True, 'engine':'c'},\n",
    "    'params_phys': [ 'T_eff','Lum','Mass', 'rho','Radius', 'logg'], \n",
    "    'params_phys_est': [],\n",
    "}"
   ]
  },
  {
   "cell_type": "code",
   "execution_count": 13,
   "metadata": {},
   "outputs": [
    {
     "name": "stdout",
     "output_type": "stream",
     "text": [
      "../../01_CreateFolds/Gaia/Folds/Fold_1/\n"
     ]
    },
    {
     "name": "stderr",
     "output_type": "stream",
     "text": [
      "  0%|                                         | 7/73827 [00:00<24:11, 50.87it/s]2024-08-26 16:03:56.832172: E external/local_xla/xla/stream_executor/cuda/cuda_dnn.cc:9261] Unable to register cuDNN factory: Attempting to register factory for plugin cuDNN when one has already been registered\n",
      "2024-08-26 16:03:56.832356: E external/local_xla/xla/stream_executor/cuda/cuda_fft.cc:607] Unable to register cuFFT factory: Attempting to register factory for plugin cuFFT when one has already been registered\n",
      "2024-08-26 16:03:56.833399: E external/local_xla/xla/stream_executor/cuda/cuda_blas.cc:1515] Unable to register cuBLAS factory: Attempting to register factory for plugin cuBLAS when one has already been registered\n",
      "2024-08-26 16:03:56.839058: I tensorflow/core/platform/cpu_feature_guard.cc:182] This TensorFlow binary is optimized to use available CPU instructions in performance-critical operations.\n",
      "To enable the following instructions: AVX2 FMA, in other operations, rebuild TensorFlow with the appropriate compiler flags.\n",
      "2024-08-26 16:03:56.941041: E external/local_xla/xla/stream_executor/cuda/cuda_dnn.cc:9261] Unable to register cuDNN factory: Attempting to register factory for plugin cuDNN when one has already been registered\n",
      "2024-08-26 16:03:56.941086: E external/local_xla/xla/stream_executor/cuda/cuda_fft.cc:607] Unable to register cuFFT factory: Attempting to register factory for plugin cuFFT when one has already been registered\n",
      "2024-08-26 16:03:56.942377: E external/local_xla/xla/stream_executor/cuda/cuda_blas.cc:1515] Unable to register cuBLAS factory: Attempting to register factory for plugin cuBLAS when one has already been registered\n",
      "2024-08-26 16:03:56.950459: I tensorflow/core/platform/cpu_feature_guard.cc:182] This TensorFlow binary is optimized to use available CPU instructions in performance-critical operations.\n",
      "To enable the following instructions: AVX2 FMA, in other operations, rebuild TensorFlow with the appropriate compiler flags.\n",
      "2024-08-26 16:03:56.966451: E external/local_xla/xla/stream_executor/cuda/cuda_dnn.cc:9261] Unable to register cuDNN factory: Attempting to register factory for plugin cuDNN when one has already been registered\n",
      "2024-08-26 16:03:56.966489: E external/local_xla/xla/stream_executor/cuda/cuda_fft.cc:607] Unable to register cuFFT factory: Attempting to register factory for plugin cuFFT when one has already been registered\n",
      "2024-08-26 16:03:56.967782: E external/local_xla/xla/stream_executor/cuda/cuda_blas.cc:1515] Unable to register cuBLAS factory: Attempting to register factory for plugin cuBLAS when one has already been registered\n",
      "2024-08-26 16:03:56.976056: I tensorflow/core/platform/cpu_feature_guard.cc:182] This TensorFlow binary is optimized to use available CPU instructions in performance-critical operations.\n",
      "To enable the following instructions: AVX2 FMA, in other operations, rebuild TensorFlow with the appropriate compiler flags.\n",
      "2024-08-26 16:03:56.984119: E external/local_xla/xla/stream_executor/cuda/cuda_dnn.cc:9261] Unable to register cuDNN factory: Attempting to register factory for plugin cuDNN when one has already been registered\n",
      "2024-08-26 16:03:56.984153: E external/local_xla/xla/stream_executor/cuda/cuda_fft.cc:607] Unable to register cuFFT factory: Attempting to register factory for plugin cuFFT when one has already been registered\n",
      "2024-08-26 16:03:56.985433: E external/local_xla/xla/stream_executor/cuda/cuda_blas.cc:1515] Unable to register cuBLAS factory: Attempting to register factory for plugin cuBLAS when one has already been registered\n",
      "2024-08-26 16:03:56.993392: I tensorflow/core/platform/cpu_feature_guard.cc:182] This TensorFlow binary is optimized to use available CPU instructions in performance-critical operations.\n",
      "To enable the following instructions: AVX2 FMA, in other operations, rebuild TensorFlow with the appropriate compiler flags.\n",
      "2024-08-26 16:03:57.025127: E external/local_xla/xla/stream_executor/cuda/cuda_dnn.cc:9261] Unable to register cuDNN factory: Attempting to register factory for plugin cuDNN when one has already been registered\n",
      "2024-08-26 16:03:57.025162: E external/local_xla/xla/stream_executor/cuda/cuda_fft.cc:607] Unable to register cuFFT factory: Attempting to register factory for plugin cuFFT when one has already been registered\n",
      "2024-08-26 16:03:57.026530: E external/local_xla/xla/stream_executor/cuda/cuda_blas.cc:1515] Unable to register cuBLAS factory: Attempting to register factory for plugin cuBLAS when one has already been registered\n",
      "2024-08-26 16:03:57.036942: I tensorflow/core/platform/cpu_feature_guard.cc:182] This TensorFlow binary is optimized to use available CPU instructions in performance-critical operations.\n",
      "To enable the following instructions: AVX2 FMA, in other operations, rebuild TensorFlow with the appropriate compiler flags.\n",
      "2024-08-26 16:03:57.058296: E external/local_xla/xla/stream_executor/cuda/cuda_dnn.cc:9261] Unable to register cuDNN factory: Attempting to register factory for plugin cuDNN when one has already been registered\n",
      "2024-08-26 16:03:57.058426: E external/local_xla/xla/stream_executor/cuda/cuda_fft.cc:607] Unable to register cuFFT factory: Attempting to register factory for plugin cuFFT when one has already been registered\n",
      "2024-08-26 16:03:57.059934: E external/local_xla/xla/stream_executor/cuda/cuda_blas.cc:1515] Unable to register cuBLAS factory: Attempting to register factory for plugin cuBLAS when one has already been registered\n",
      "2024-08-26 16:03:57.068987: I tensorflow/core/platform/cpu_feature_guard.cc:182] This TensorFlow binary is optimized to use available CPU instructions in performance-critical operations.\n",
      "To enable the following instructions: AVX2 FMA, in other operations, rebuild TensorFlow with the appropriate compiler flags.\n",
      "2024-08-26 16:03:57.129983: E external/local_xla/xla/stream_executor/cuda/cuda_dnn.cc:9261] Unable to register cuDNN factory: Attempting to register factory for plugin cuDNN when one has already been registered\n",
      "2024-08-26 16:03:57.130118: E external/local_xla/xla/stream_executor/cuda/cuda_fft.cc:607] Unable to register cuFFT factory: Attempting to register factory for plugin cuFFT when one has already been registered\n",
      "2024-08-26 16:03:57.131541: E external/local_xla/xla/stream_executor/cuda/cuda_blas.cc:1515] Unable to register cuBLAS factory: Attempting to register factory for plugin cuBLAS when one has already been registered\n",
      "2024-08-26 16:03:57.140410: I tensorflow/core/platform/cpu_feature_guard.cc:182] This TensorFlow binary is optimized to use available CPU instructions in performance-critical operations.\n",
      "To enable the following instructions: AVX2 FMA, in other operations, rebuild TensorFlow with the appropriate compiler flags.\n",
      "2024-08-26 16:03:57.889728: W tensorflow/compiler/tf2tensorrt/utils/py_utils.cc:38] TF-TRT Warning: Could not find TensorRT\n",
      "2024-08-26 16:03:58.502427: W tensorflow/compiler/tf2tensorrt/utils/py_utils.cc:38] TF-TRT Warning: Could not find TensorRT\n",
      "2024-08-26 16:03:58.512900: W tensorflow/compiler/tf2tensorrt/utils/py_utils.cc:38] TF-TRT Warning: Could not find TensorRT\n",
      "2024-08-26 16:03:58.566426: W tensorflow/compiler/tf2tensorrt/utils/py_utils.cc:38] TF-TRT Warning: Could not find TensorRT\n",
      "2024-08-26 16:03:58.656514: W tensorflow/compiler/tf2tensorrt/utils/py_utils.cc:38] TF-TRT Warning: Could not find TensorRT\n",
      "2024-08-26 16:03:58.676118: W tensorflow/compiler/tf2tensorrt/utils/py_utils.cc:38] TF-TRT Warning: Could not find TensorRT\n",
      "2024-08-26 16:03:58.700854: W tensorflow/compiler/tf2tensorrt/utils/py_utils.cc:38] TF-TRT Warning: Could not find TensorRT\n",
      "100%|███████████████████████████████████| 73827/73827 [00:35<00:00, 2066.01it/s]\n",
      "100%|███████████████████████████████████| 12305/12305 [00:04<00:00, 2612.23it/s]\n",
      "100%|███████████████████████████████████| 21533/21533 [00:09<00:00, 2366.73it/s]\n",
      "100%|█████████████████████████████████████| 3998/3998 [00:00<00:00, 8681.60it/s]\n",
      "100%|█████████████████████████████████████| 2331/2331 [00:00<00:00, 8449.45it/s]\n",
      "100%|███████████████████████████████████| 11831/11831 [00:01<00:00, 6271.84it/s]\n",
      "100%|███████████████████████████████████| 27429/27429 [00:04<00:00, 6045.74it/s]\n",
      "100%|███████████████████████████████████| 27428/27428 [00:04<00:00, 5733.53it/s]\n",
      "100%|███████████████████████████████████████| 810/810 [00:00<00:00, 4332.11it/s]\n",
      "100%|███████████████████████████████████████| 667/667 [00:00<00:00, 4136.50it/s]\n",
      "100%|███████████████████████████████████████| 388/388 [00:00<00:00, 4749.41it/s]\n",
      "100%|█████████████████████████████████████| 1972/1972 [00:00<00:00, 5269.10it/s]\n",
      "100%|█████████████████████████████████████| 4571/4571 [00:00<00:00, 6700.69it/s]\n",
      "100%|█████████████████████████████████████| 4572/4572 [00:00<00:00, 6107.90it/s]\n",
      "100%|███████████████████████████████████████| 135/135 [00:00<00:00, 2831.47it/s]\n",
      "100%|█████████████████████████████████████| 1166/1166 [00:00<00:00, 5800.25it/s]\n",
      "100%|███████████████████████████████████████| 680/680 [00:00<00:00, 4818.94it/s]\n",
      "100%|█████████████████████████████████████| 3451/3451 [00:00<00:00, 8575.94it/s]\n",
      "100%|█████████████████████████████████████| 8000/8000 [00:01<00:00, 7345.97it/s]\n",
      "100%|█████████████████████████████████████| 8000/8000 [00:01<00:00, 6398.63it/s]\n",
      "100%|███████████████████████████████████████| 236/236 [00:00<00:00, 2789.94it/s]\n"
     ]
    },
    {
     "name": "stdout",
     "output_type": "stream",
     "text": [
      "../../01_CreateFolds/Gaia/Folds/Fold_2/\n"
     ]
    },
    {
     "name": "stderr",
     "output_type": "stream",
     "text": [
      "100%|███████████████████████████████████| 73827/73827 [00:30<00:00, 2409.16it/s]\n",
      "100%|███████████████████████████████████| 12305/12305 [00:04<00:00, 2510.32it/s]\n",
      "100%|███████████████████████████████████| 21533/21533 [00:07<00:00, 2862.99it/s]\n",
      "100%|█████████████████████████████████████| 3998/3998 [00:01<00:00, 3875.29it/s]\n",
      "100%|█████████████████████████████████████| 2330/2330 [00:00<00:00, 8856.36it/s]\n",
      "100%|███████████████████████████████████| 11832/11832 [00:01<00:00, 6292.42it/s]\n",
      "100%|███████████████████████████████████| 27429/27429 [00:05<00:00, 5205.81it/s]\n",
      "100%|███████████████████████████████████| 27428/27428 [00:05<00:00, 4938.19it/s]\n",
      "100%|███████████████████████████████████████| 810/810 [00:00<00:00, 5422.97it/s]\n",
      "100%|███████████████████████████████████████| 667/667 [00:00<00:00, 3311.56it/s]\n",
      "100%|███████████████████████████████████████| 389/389 [00:00<00:00, 3888.59it/s]\n",
      "100%|█████████████████████████████████████| 1971/1971 [00:00<00:00, 6740.40it/s]\n",
      "100%|█████████████████████████████████████| 4571/4571 [00:00<00:00, 7063.54it/s]\n",
      "100%|█████████████████████████████████████| 4572/4572 [00:00<00:00, 6367.23it/s]\n",
      "100%|███████████████████████████████████████| 135/135 [00:00<00:00, 2060.69it/s]\n",
      "100%|█████████████████████████████████████| 1166/1166 [00:00<00:00, 3593.39it/s]\n",
      "100%|███████████████████████████████████████| 680/680 [00:00<00:00, 4105.95it/s]\n",
      "100%|█████████████████████████████████████| 3451/3451 [00:00<00:00, 8613.67it/s]\n",
      "100%|█████████████████████████████████████| 8000/8000 [00:01<00:00, 7833.39it/s]\n",
      "100%|█████████████████████████████████████| 8000/8000 [00:01<00:00, 6704.84it/s]\n",
      "100%|███████████████████████████████████████| 236/236 [00:00<00:00, 3696.69it/s]\n"
     ]
    },
    {
     "name": "stdout",
     "output_type": "stream",
     "text": [
      "../../01_CreateFolds/Gaia/Folds/Fold_3/\n"
     ]
    },
    {
     "name": "stderr",
     "output_type": "stream",
     "text": [
      "100%|███████████████████████████████████| 73827/73827 [00:31<00:00, 2319.25it/s]\n",
      "100%|███████████████████████████████████| 12305/12305 [00:04<00:00, 2507.51it/s]\n",
      "100%|███████████████████████████████████| 21533/21533 [00:08<00:00, 2597.43it/s]\n",
      "100%|█████████████████████████████████████| 3999/3999 [00:00<00:00, 4063.68it/s]\n",
      "100%|█████████████████████████████████████| 2330/2330 [00:00<00:00, 8739.95it/s]\n",
      "100%|███████████████████████████████████| 11831/11831 [00:01<00:00, 7780.13it/s]\n",
      "100%|███████████████████████████████████| 27429/27429 [00:04<00:00, 5924.79it/s]\n",
      "100%|███████████████████████████████████| 27428/27428 [00:03<00:00, 7012.90it/s]\n",
      "100%|███████████████████████████████████████| 810/810 [00:00<00:00, 6429.29it/s]\n",
      "100%|███████████████████████████████████████| 666/666 [00:00<00:00, 3417.87it/s]\n",
      "100%|███████████████████████████████████████| 389/389 [00:00<00:00, 3745.89it/s]\n",
      "100%|█████████████████████████████████████| 1972/1972 [00:00<00:00, 6452.74it/s]\n",
      "100%|█████████████████████████████████████| 4571/4571 [00:00<00:00, 6967.14it/s]\n",
      "100%|█████████████████████████████████████| 4572/4572 [00:00<00:00, 9753.85it/s]\n",
      "100%|███████████████████████████████████████| 135/135 [00:00<00:00, 2905.00it/s]\n",
      "100%|█████████████████████████████████████| 1166/1166 [00:00<00:00, 6077.69it/s]\n",
      "100%|███████████████████████████████████████| 680/680 [00:00<00:00, 5036.75it/s]\n",
      "100%|████████████████████████████████████| 3451/3451 [00:00<00:00, 10196.13it/s]\n",
      "100%|████████████████████████████████████| 8000/8000 [00:00<00:00, 10103.32it/s]\n",
      "100%|█████████████████████████████████████| 8000/8000 [00:01<00:00, 7353.71it/s]\n",
      "100%|███████████████████████████████████████| 236/236 [00:00<00:00, 3511.10it/s]\n"
     ]
    },
    {
     "name": "stdout",
     "output_type": "stream",
     "text": [
      "../../01_CreateFolds/Gaia/Folds/Fold_4/\n"
     ]
    },
    {
     "name": "stderr",
     "output_type": "stream",
     "text": [
      "100%|███████████████████████████████████| 73827/73827 [00:34<00:00, 2145.63it/s]\n",
      "100%|███████████████████████████████████| 12305/12305 [00:06<00:00, 1814.06it/s]\n",
      "100%|███████████████████████████████████| 21533/21533 [00:10<00:00, 2108.98it/s]\n",
      "100%|█████████████████████████████████████| 3999/3999 [00:00<00:00, 7435.76it/s]\n",
      "100%|█████████████████████████████████████| 2330/2330 [00:00<00:00, 8295.87it/s]\n",
      "100%|███████████████████████████████████| 11831/11831 [00:02<00:00, 5533.72it/s]\n",
      "100%|███████████████████████████████████| 27428/27428 [00:05<00:00, 4673.73it/s]\n",
      "100%|███████████████████████████████████| 27429/27429 [00:04<00:00, 5540.60it/s]\n",
      "100%|███████████████████████████████████████| 810/810 [00:00<00:00, 5659.35it/s]\n",
      "100%|███████████████████████████████████████| 666/666 [00:00<00:00, 3640.86it/s]\n",
      "100%|███████████████████████████████████████| 389/389 [00:00<00:00, 4029.03it/s]\n",
      "100%|█████████████████████████████████████| 1972/1972 [00:00<00:00, 6841.23it/s]\n",
      "100%|█████████████████████████████████████| 4572/4572 [00:00<00:00, 5654.53it/s]\n",
      "100%|█████████████████████████████████████| 4571/4571 [00:00<00:00, 5342.37it/s]\n",
      "100%|███████████████████████████████████████| 135/135 [00:00<00:00, 3043.24it/s]\n",
      "100%|█████████████████████████████████████| 1166/1166 [00:00<00:00, 5710.98it/s]\n",
      "100%|███████████████████████████████████████| 680/680 [00:00<00:00, 5264.40it/s]\n",
      "100%|█████████████████████████████████████| 3451/3451 [00:00<00:00, 8920.72it/s]\n",
      "100%|█████████████████████████████████████| 8000/8000 [00:01<00:00, 6516.79it/s]\n",
      "100%|█████████████████████████████████████| 8000/8000 [00:01<00:00, 7060.19it/s]\n",
      "100%|███████████████████████████████████████| 236/236 [00:00<00:00, 2765.27it/s]\n"
     ]
    },
    {
     "name": "stdout",
     "output_type": "stream",
     "text": [
      "../../01_CreateFolds/Gaia/Folds/Fold_5/\n"
     ]
    },
    {
     "name": "stderr",
     "output_type": "stream",
     "text": [
      "100%|███████████████████████████████████| 73828/73828 [00:38<00:00, 1942.32it/s]\n",
      "100%|███████████████████████████████████| 12304/12304 [00:05<00:00, 2135.00it/s]\n",
      "100%|███████████████████████████████████| 21533/21533 [00:09<00:00, 2378.87it/s]\n",
      "100%|█████████████████████████████████████| 3999/3999 [00:00<00:00, 6555.16it/s]\n",
      "100%|█████████████████████████████████████| 2331/2331 [00:00<00:00, 8569.54it/s]\n",
      "100%|███████████████████████████████████| 11831/11831 [00:01<00:00, 6590.92it/s]\n",
      "100%|███████████████████████████████████| 27428/27428 [00:05<00:00, 4758.79it/s]\n",
      "100%|███████████████████████████████████| 27429/27429 [00:05<00:00, 4594.54it/s]\n",
      "100%|███████████████████████████████████████| 810/810 [00:00<00:00, 5331.60it/s]\n",
      "100%|███████████████████████████████████████| 666/666 [00:00<00:00, 3808.29it/s]\n",
      "100%|███████████████████████████████████████| 388/388 [00:00<00:00, 2788.92it/s]\n",
      "100%|█████████████████████████████████████| 1972/1972 [00:00<00:00, 5272.56it/s]\n",
      "100%|█████████████████████████████████████| 4572/4572 [00:00<00:00, 5325.66it/s]\n",
      "100%|█████████████████████████████████████| 4571/4571 [00:00<00:00, 6519.50it/s]\n",
      "100%|███████████████████████████████████████| 135/135 [00:00<00:00, 2201.39it/s]\n",
      "100%|█████████████████████████████████████| 1166/1166 [00:00<00:00, 4652.13it/s]\n",
      "100%|███████████████████████████████████████| 680/680 [00:00<00:00, 4221.99it/s]\n",
      "100%|█████████████████████████████████████| 3451/3451 [00:00<00:00, 7520.97it/s]\n",
      "100%|█████████████████████████████████████| 8000/8000 [00:01<00:00, 6491.15it/s]\n",
      "100%|█████████████████████████████████████| 8000/8000 [00:01<00:00, 5873.26it/s]\n",
      "100%|███████████████████████████████████████| 236/236 [00:00<00:00, 2677.36it/s]\n"
     ]
    },
    {
     "name": "stdout",
     "output_type": "stream",
     "text": [
      "../../01_CreateFolds/Gaia/Folds/Fold_6/\n"
     ]
    },
    {
     "name": "stderr",
     "output_type": "stream",
     "text": [
      "100%|███████████████████████████████████| 73828/73828 [00:37<00:00, 1966.42it/s]\n",
      "100%|███████████████████████████████████| 12304/12304 [00:05<00:00, 2118.18it/s]\n",
      "100%|███████████████████████████████████| 21533/21533 [00:09<00:00, 2245.68it/s]\n",
      "100%|█████████████████████████████████████| 3999/3999 [00:00<00:00, 6294.76it/s]\n",
      "100%|█████████████████████████████████████| 2331/2331 [00:00<00:00, 7849.11it/s]\n",
      "100%|███████████████████████████████████| 11831/11831 [00:02<00:00, 5845.78it/s]\n",
      "100%|███████████████████████████████████| 27428/27428 [00:06<00:00, 4373.57it/s]\n",
      "100%|███████████████████████████████████| 27429/27429 [00:05<00:00, 5282.18it/s]\n",
      "100%|███████████████████████████████████████| 810/810 [00:00<00:00, 5178.34it/s]\n",
      "100%|███████████████████████████████████████| 666/666 [00:00<00:00, 4292.58it/s]\n",
      "100%|███████████████████████████████████████| 388/388 [00:00<00:00, 4163.67it/s]\n",
      "100%|█████████████████████████████████████| 1972/1972 [00:00<00:00, 5782.30it/s]\n",
      "100%|█████████████████████████████████████| 4572/4572 [00:00<00:00, 6220.09it/s]\n",
      "100%|█████████████████████████████████████| 4571/4571 [00:00<00:00, 9348.65it/s]\n",
      "100%|███████████████████████████████████████| 135/135 [00:00<00:00, 2751.23it/s]\n",
      "100%|█████████████████████████████████████| 1166/1166 [00:00<00:00, 6335.76it/s]\n",
      "100%|███████████████████████████████████████| 680/680 [00:00<00:00, 4298.95it/s]\n",
      "100%|█████████████████████████████████████| 3451/3451 [00:00<00:00, 8437.98it/s]\n",
      "100%|█████████████████████████████████████| 8000/8000 [00:00<00:00, 8925.16it/s]\n",
      "100%|█████████████████████████████████████| 8000/8000 [00:01<00:00, 7231.91it/s]\n",
      "100%|███████████████████████████████████████| 236/236 [00:00<00:00, 2820.24it/s]\n"
     ]
    },
    {
     "name": "stdout",
     "output_type": "stream",
     "text": [
      "../../01_CreateFolds/Gaia/Folds/Fold_7/\n"
     ]
    },
    {
     "name": "stderr",
     "output_type": "stream",
     "text": [
      "100%|███████████████████████████████████| 73828/73828 [00:37<00:00, 1959.33it/s]\n",
      "100%|███████████████████████████████████| 12304/12304 [00:06<00:00, 1959.97it/s]\n",
      "100%|███████████████████████████████████| 21533/21533 [00:09<00:00, 2334.58it/s]\n",
      "100%|█████████████████████████████████████| 3998/3998 [00:00<00:00, 7106.32it/s]\n",
      "100%|█████████████████████████████████████| 2331/2331 [00:00<00:00, 7626.89it/s]\n",
      "100%|███████████████████████████████████| 11831/11831 [00:02<00:00, 5503.90it/s]\n",
      "100%|███████████████████████████████████| 27429/27429 [00:06<00:00, 4494.29it/s]\n",
      "100%|███████████████████████████████████| 27429/27429 [00:05<00:00, 5003.28it/s]\n",
      "100%|████████████████████████████████████████| 810/810 [00:01<00:00, 673.81it/s]\n",
      "100%|███████████████████████████████████████| 667/667 [00:00<00:00, 3325.24it/s]\n",
      "100%|███████████████████████████████████████| 388/388 [00:00<00:00, 2824.85it/s]\n",
      "100%|█████████████████████████████████████| 1972/1972 [00:00<00:00, 5343.81it/s]\n",
      "100%|█████████████████████████████████████| 4571/4571 [00:00<00:00, 6127.41it/s]\n",
      "100%|█████████████████████████████████████| 4571/4571 [00:00<00:00, 9848.30it/s]\n",
      "100%|███████████████████████████████████████| 135/135 [00:00<00:00, 2878.64it/s]\n",
      "100%|█████████████████████████████████████| 1166/1166 [00:00<00:00, 6075.40it/s]\n",
      "100%|███████████████████████████████████████| 680/680 [00:00<00:00, 3824.09it/s]\n",
      "100%|█████████████████████████████████████| 3451/3451 [00:00<00:00, 8393.34it/s]\n",
      "100%|█████████████████████████████████████| 8000/8000 [00:01<00:00, 6298.76it/s]\n",
      "100%|█████████████████████████████████████| 8000/8000 [00:01<00:00, 7022.48it/s]\n",
      "100%|███████████████████████████████████████| 236/236 [00:00<00:00, 2745.63it/s]\n"
     ]
    }
   ],
   "source": [
    "# Create the container folder\n",
    "if not os.path.exists('./Folds'):\n",
    "    os.mkdir('./Folds')\n",
    "    \n",
    "for fold in folds:\n",
    "    train_files = glob(os.path.join(fold, '*'))\n",
    "    train_path = [i for i in train_files if 'train' in i][0]\n",
    "    val_path = [i for i in train_files if 'val' in i][0]\n",
    "    \n",
    "    path_fold = fold.replace('../../01_Create_Folds/'+survey,'.')+'/'\n",
    "    if not os.path.exists(path_fold):\n",
    "        os.mkdir(path_fold)\n",
    "\n",
    "    print(path_fold)\n",
    "    \n",
    "    kwargs2['file_train']=train_path\n",
    "    kwargs2['file_val'] =val_path\n",
    "    kwargs2['file_test'] =test_path\n",
    "    kwargs2['save_dir'] = path_fold\n",
    "    P.prepare(**kwargs2)\n",
    "\n",
    "    "
   ]
  },
  {
   "cell_type": "code",
   "execution_count": null,
   "metadata": {},
   "outputs": [],
   "source": []
  },
  {
   "cell_type": "code",
   "execution_count": null,
   "metadata": {},
   "outputs": [],
   "source": []
  }
 ],
 "metadata": {
  "kernelspec": {
   "display_name": "Python 3 (ipykernel)",
   "language": "python",
   "name": "python3"
  },
  "language_info": {
   "codemirror_mode": {
    "name": "ipython",
    "version": 3
   },
   "file_extension": ".py",
   "mimetype": "text/x-python",
   "name": "python",
   "nbconvert_exporter": "python",
   "pygments_lexer": "ipython3",
   "version": "3.10.12"
  }
 },
 "nbformat": 4,
 "nbformat_minor": 4
}
