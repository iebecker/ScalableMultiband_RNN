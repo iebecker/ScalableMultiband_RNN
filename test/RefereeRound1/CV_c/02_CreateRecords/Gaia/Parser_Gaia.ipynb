{
 "cells": [
  {
   "cell_type": "code",
   "execution_count": 1,
   "metadata": {},
   "outputs": [
    {
     "name": "stderr",
     "output_type": "stream",
     "text": [
      "2024-08-26 16:43:41.532955: E external/local_xla/xla/stream_executor/cuda/cuda_dnn.cc:9261] Unable to register cuDNN factory: Attempting to register factory for plugin cuDNN when one has already been registered\n",
      "2024-08-26 16:43:41.532988: E external/local_xla/xla/stream_executor/cuda/cuda_fft.cc:607] Unable to register cuFFT factory: Attempting to register factory for plugin cuFFT when one has already been registered\n",
      "2024-08-26 16:43:41.533934: E external/local_xla/xla/stream_executor/cuda/cuda_blas.cc:1515] Unable to register cuBLAS factory: Attempting to register factory for plugin cuBLAS when one has already been registered\n",
      "2024-08-26 16:43:41.540228: I tensorflow/core/platform/cpu_feature_guard.cc:182] This TensorFlow binary is optimized to use available CPU instructions in performance-critical operations.\n",
      "To enable the following instructions: AVX2 FMA, in other operations, rebuild TensorFlow with the appropriate compiler flags.\n",
      "2024-08-26 16:43:42.525652: W tensorflow/compiler/tf2tensorrt/utils/py_utils.cc:38] TF-TRT Warning: Could not find TensorRT\n"
     ]
    }
   ],
   "source": [
    "import pandas as pd\n",
    "import numpy as np\n",
    "import sys, os, json\n",
    "\n",
    "from glob import glob\n",
    "\n",
    "import ScalableLib.base.Load_Process as Load_Process"
   ]
  },
  {
   "cell_type": "markdown",
   "metadata": {},
   "source": [
    "Get the different fold files. Tran-val and test sets."
   ]
  },
  {
   "cell_type": "code",
   "execution_count": 2,
   "metadata": {},
   "outputs": [],
   "source": [
    "survey = 'Gaia'\n",
    "path_folds = os.path.join('../../01_CreateFolds/', survey, 'Folds/*')\n",
    "\n",
    "# Get the folder paths\n",
    "folds = glob(path_folds)\n",
    "# Get the test file path\n",
    "test_path = [i for i in folds if 'test' in i][0]\n",
    "# Remove the test path from the list\n",
    "folds.remove(test_path)\n",
    "# Sort to work from the first fold onwards\n",
    "folds.sort()"
   ]
  },
  {
   "cell_type": "markdown",
   "metadata": {},
   "source": [
    "For each fold, process the information and store it.\n",
    "\n",
    "The **P** object is defined with its keyword arguments. \n",
    "\n",
    "Then the kwargs are defined to be used as inputs of the prepare method."
   ]
  },
  {
   "cell_type": "code",
   "execution_count": 3,
   "metadata": {},
   "outputs": [],
   "source": [
    "kwargs1={\n",
    "'max_l' : 40000,\n",
    "'min_l' : 1000,\n",
    "'min_n': 10,\n",
    "'max_n' : 1000,\n",
    "'w' : 2,\n",
    "'s':1,\n",
    "'njobs':7,\n",
    "'n_bands':2,\n",
    "}"
   ]
  },
  {
   "cell_type": "code",
   "execution_count": 4,
   "metadata": {},
   "outputs": [],
   "source": [
    "P = Load_Process.prepData(**kwargs1)"
   ]
  },
  {
   "cell_type": "code",
   "execution_count": 5,
   "metadata": {},
   "outputs": [],
   "source": [
    "kwargs2={\n",
    "    'dataset_header': ['ID', 'Path', 'Class', 'N', 'N_b', 'N_r'],\n",
    "    'lc_parameters': {'sep':',', 'header':0, 'na_filter':True, 'engine':'c'},\n",
    "    'params_phys': [ 'T_eff','Lum','Mass', 'rho','Radius', 'logg'], \n",
    "    'params_phys_est': [],\n",
    "}"
   ]
  },
  {
   "cell_type": "code",
   "execution_count": 6,
   "metadata": {},
   "outputs": [
    {
     "name": "stdout",
     "output_type": "stream",
     "text": [
      "../../01_CreateFolds/Gaia/Folds/Fold_1/train.csv\n",
      "../../01_CreateFolds/Gaia/Folds/Fold_1/val.csv\n",
      "../../01_CreateFolds/Gaia/Folds/test.csv\n",
      "./Folds/Fold_1/\n"
     ]
    },
    {
     "name": "stderr",
     "output_type": "stream",
     "text": [
      "  0%|                                         | 7/73827 [00:00<27:03, 45.46it/s]2024-08-26 16:43:46.598847: E external/local_xla/xla/stream_executor/cuda/cuda_dnn.cc:9261] Unable to register cuDNN factory: Attempting to register factory for plugin cuDNN when one has already been registered\n",
      "2024-08-26 16:43:46.598883: E external/local_xla/xla/stream_executor/cuda/cuda_fft.cc:607] Unable to register cuFFT factory: Attempting to register factory for plugin cuFFT when one has already been registered\n",
      "2024-08-26 16:43:46.600090: E external/local_xla/xla/stream_executor/cuda/cuda_blas.cc:1515] Unable to register cuBLAS factory: Attempting to register factory for plugin cuBLAS when one has already been registered\n",
      "2024-08-26 16:43:46.605786: I tensorflow/core/platform/cpu_feature_guard.cc:182] This TensorFlow binary is optimized to use available CPU instructions in performance-critical operations.\n",
      "To enable the following instructions: AVX2 FMA, in other operations, rebuild TensorFlow with the appropriate compiler flags.\n",
      "2024-08-26 16:43:46.697570: E external/local_xla/xla/stream_executor/cuda/cuda_dnn.cc:9261] Unable to register cuDNN factory: Attempting to register factory for plugin cuDNN when one has already been registered\n",
      "2024-08-26 16:43:46.697615: E external/local_xla/xla/stream_executor/cuda/cuda_fft.cc:607] Unable to register cuFFT factory: Attempting to register factory for plugin cuFFT when one has already been registered\n",
      "2024-08-26 16:43:46.698917: E external/local_xla/xla/stream_executor/cuda/cuda_blas.cc:1515] Unable to register cuBLAS factory: Attempting to register factory for plugin cuBLAS when one has already been registered\n",
      "2024-08-26 16:43:46.707016: I tensorflow/core/platform/cpu_feature_guard.cc:182] This TensorFlow binary is optimized to use available CPU instructions in performance-critical operations.\n",
      "To enable the following instructions: AVX2 FMA, in other operations, rebuild TensorFlow with the appropriate compiler flags.\n",
      "2024-08-26 16:43:46.733704: E external/local_xla/xla/stream_executor/cuda/cuda_dnn.cc:9261] Unable to register cuDNN factory: Attempting to register factory for plugin cuDNN when one has already been registered\n",
      "2024-08-26 16:43:46.733854: E external/local_xla/xla/stream_executor/cuda/cuda_fft.cc:607] Unable to register cuFFT factory: Attempting to register factory for plugin cuFFT when one has already been registered\n",
      "2024-08-26 16:43:46.735295: E external/local_xla/xla/stream_executor/cuda/cuda_blas.cc:1515] Unable to register cuBLAS factory: Attempting to register factory for plugin cuBLAS when one has already been registered\n",
      "2024-08-26 16:43:46.743880: I tensorflow/core/platform/cpu_feature_guard.cc:182] This TensorFlow binary is optimized to use available CPU instructions in performance-critical operations.\n",
      "To enable the following instructions: AVX2 FMA, in other operations, rebuild TensorFlow with the appropriate compiler flags.\n",
      "2024-08-26 16:43:46.805738: E external/local_xla/xla/stream_executor/cuda/cuda_dnn.cc:9261] Unable to register cuDNN factory: Attempting to register factory for plugin cuDNN when one has already been registered\n",
      "2024-08-26 16:43:46.805931: E external/local_xla/xla/stream_executor/cuda/cuda_fft.cc:607] Unable to register cuFFT factory: Attempting to register factory for plugin cuFFT when one has already been registered\n",
      "2024-08-26 16:43:46.807375: E external/local_xla/xla/stream_executor/cuda/cuda_blas.cc:1515] Unable to register cuBLAS factory: Attempting to register factory for plugin cuBLAS when one has already been registered\n",
      "2024-08-26 16:43:46.816600: I tensorflow/core/platform/cpu_feature_guard.cc:182] This TensorFlow binary is optimized to use available CPU instructions in performance-critical operations.\n",
      "To enable the following instructions: AVX2 FMA, in other operations, rebuild TensorFlow with the appropriate compiler flags.\n",
      "2024-08-26 16:43:46.856820: E external/local_xla/xla/stream_executor/cuda/cuda_dnn.cc:9261] Unable to register cuDNN factory: Attempting to register factory for plugin cuDNN when one has already been registered\n",
      "2024-08-26 16:43:46.856862: E external/local_xla/xla/stream_executor/cuda/cuda_fft.cc:607] Unable to register cuFFT factory: Attempting to register factory for plugin cuFFT when one has already been registered\n",
      "2024-08-26 16:43:46.858334: E external/local_xla/xla/stream_executor/cuda/cuda_blas.cc:1515] Unable to register cuBLAS factory: Attempting to register factory for plugin cuBLAS when one has already been registered\n",
      "2024-08-26 16:43:46.868715: I tensorflow/core/platform/cpu_feature_guard.cc:182] This TensorFlow binary is optimized to use available CPU instructions in performance-critical operations.\n",
      "To enable the following instructions: AVX2 FMA, in other operations, rebuild TensorFlow with the appropriate compiler flags.\n",
      "2024-08-26 16:43:46.877268: E external/local_xla/xla/stream_executor/cuda/cuda_dnn.cc:9261] Unable to register cuDNN factory: Attempting to register factory for plugin cuDNN when one has already been registered\n",
      "2024-08-26 16:43:46.877395: E external/local_xla/xla/stream_executor/cuda/cuda_fft.cc:607] Unable to register cuFFT factory: Attempting to register factory for plugin cuFFT when one has already been registered\n",
      "2024-08-26 16:43:46.878882: E external/local_xla/xla/stream_executor/cuda/cuda_blas.cc:1515] Unable to register cuBLAS factory: Attempting to register factory for plugin cuBLAS when one has already been registered\n",
      "2024-08-26 16:43:46.879500: E external/local_xla/xla/stream_executor/cuda/cuda_dnn.cc:9261] Unable to register cuDNN factory: Attempting to register factory for plugin cuDNN when one has already been registered\n",
      "2024-08-26 16:43:46.879602: E external/local_xla/xla/stream_executor/cuda/cuda_fft.cc:607] Unable to register cuFFT factory: Attempting to register factory for plugin cuFFT when one has already been registered\n",
      "2024-08-26 16:43:46.881009: E external/local_xla/xla/stream_executor/cuda/cuda_blas.cc:1515] Unable to register cuBLAS factory: Attempting to register factory for plugin cuBLAS when one has already been registered\n",
      "2024-08-26 16:43:46.887904: I tensorflow/core/platform/cpu_feature_guard.cc:182] This TensorFlow binary is optimized to use available CPU instructions in performance-critical operations.\n",
      "To enable the following instructions: AVX2 FMA, in other operations, rebuild TensorFlow with the appropriate compiler flags.\n",
      "2024-08-26 16:43:46.889702: I tensorflow/core/platform/cpu_feature_guard.cc:182] This TensorFlow binary is optimized to use available CPU instructions in performance-critical operations.\n",
      "To enable the following instructions: AVX2 FMA, in other operations, rebuild TensorFlow with the appropriate compiler flags.\n",
      "2024-08-26 16:43:47.824948: W tensorflow/compiler/tf2tensorrt/utils/py_utils.cc:38] TF-TRT Warning: Could not find TensorRT\n",
      "2024-08-26 16:43:48.153807: W tensorflow/compiler/tf2tensorrt/utils/py_utils.cc:38] TF-TRT Warning: Could not find TensorRT\n",
      "2024-08-26 16:43:48.290521: W tensorflow/compiler/tf2tensorrt/utils/py_utils.cc:38] TF-TRT Warning: Could not find TensorRT\n",
      "2024-08-26 16:43:48.436422: W tensorflow/compiler/tf2tensorrt/utils/py_utils.cc:38] TF-TRT Warning: Could not find TensorRT\n",
      "2024-08-26 16:43:48.486912: W tensorflow/compiler/tf2tensorrt/utils/py_utils.cc:38] TF-TRT Warning: Could not find TensorRT\n",
      "2024-08-26 16:43:48.487440: W tensorflow/compiler/tf2tensorrt/utils/py_utils.cc:38] TF-TRT Warning: Could not find TensorRT\n",
      "2024-08-26 16:43:48.503232: W tensorflow/compiler/tf2tensorrt/utils/py_utils.cc:38] TF-TRT Warning: Could not find TensorRT\n",
      "100%|███████████████████████████████████| 73827/73827 [00:34<00:00, 2155.85it/s]\n",
      "100%|███████████████████████████████████| 12305/12305 [00:04<00:00, 2645.79it/s]\n",
      "100%|███████████████████████████████████| 21533/21533 [00:08<00:00, 2629.08it/s]\n",
      "100%|███████████████████████████████████| 27428/27428 [00:04<00:00, 6161.49it/s]\n",
      "100%|█████████████████████████████████████| 3998/3998 [00:00<00:00, 8744.43it/s]\n",
      "100%|███████████████████████████████████████| 810/810 [00:00<00:00, 6864.00it/s]\n",
      "100%|█████████████████████████████████████| 2331/2331 [00:00<00:00, 8016.59it/s]\n",
      "100%|███████████████████████████████████| 11831/11831 [00:01<00:00, 6622.20it/s]\n",
      "100%|███████████████████████████████████| 27429/27429 [00:04<00:00, 6297.59it/s]\n",
      "100%|████████████████████████████████████| 4572/4572 [00:00<00:00, 10122.86it/s]\n",
      "100%|███████████████████████████████████████| 667/667 [00:00<00:00, 4973.49it/s]\n",
      "100%|███████████████████████████████████████| 135/135 [00:00<00:00, 3249.59it/s]\n",
      "100%|███████████████████████████████████████| 388/388 [00:00<00:00, 4296.27it/s]\n",
      "100%|█████████████████████████████████████| 1972/1972 [00:00<00:00, 7448.57it/s]\n",
      "100%|█████████████████████████████████████| 4571/4571 [00:00<00:00, 9616.98it/s]\n",
      "100%|█████████████████████████████████████| 8000/8000 [00:01<00:00, 5428.87it/s]\n",
      "100%|█████████████████████████████████████| 1166/1166 [00:00<00:00, 6730.43it/s]\n",
      "100%|███████████████████████████████████████| 236/236 [00:00<00:00, 3695.84it/s]\n",
      "100%|███████████████████████████████████████| 680/680 [00:00<00:00, 5917.43it/s]\n",
      "100%|█████████████████████████████████████| 3451/3451 [00:00<00:00, 9584.06it/s]\n",
      "100%|█████████████████████████████████████| 8000/8000 [00:01<00:00, 7523.77it/s]\n"
     ]
    },
    {
     "name": "stdout",
     "output_type": "stream",
     "text": [
      "../../01_CreateFolds/Gaia/Folds/Fold_2/train.csv\n",
      "../../01_CreateFolds/Gaia/Folds/Fold_2/val.csv\n",
      "../../01_CreateFolds/Gaia/Folds/test.csv\n",
      "./Folds/Fold_2/\n"
     ]
    },
    {
     "name": "stderr",
     "output_type": "stream",
     "text": [
      "100%|███████████████████████████████████| 73827/73827 [00:31<00:00, 2337.86it/s]\n",
      "100%|███████████████████████████████████| 12305/12305 [00:04<00:00, 2595.13it/s]\n",
      "100%|███████████████████████████████████| 21533/21533 [00:08<00:00, 2443.61it/s]\n",
      "100%|███████████████████████████████████| 27428/27428 [00:03<00:00, 7015.34it/s]\n",
      "100%|█████████████████████████████████████| 3998/3998 [00:00<00:00, 7855.09it/s]\n",
      "100%|███████████████████████████████████████| 810/810 [00:00<00:00, 5921.11it/s]\n",
      "100%|█████████████████████████████████████| 2330/2330 [00:00<00:00, 8478.27it/s]\n",
      "100%|███████████████████████████████████| 11832/11832 [00:01<00:00, 8104.98it/s]\n",
      "100%|███████████████████████████████████| 27429/27429 [00:05<00:00, 5238.30it/s]\n",
      "100%|█████████████████████████████████████| 4572/4572 [00:00<00:00, 9147.64it/s]\n",
      "100%|███████████████████████████████████████| 667/667 [00:00<00:00, 5306.88it/s]\n",
      "100%|███████████████████████████████████████| 135/135 [00:00<00:00, 3520.72it/s]\n",
      "100%|███████████████████████████████████████| 389/389 [00:00<00:00, 4202.71it/s]\n",
      "100%|█████████████████████████████████████| 1971/1971 [00:00<00:00, 6906.19it/s]\n",
      "100%|█████████████████████████████████████| 4571/4571 [00:00<00:00, 9647.64it/s]\n",
      "100%|█████████████████████████████████████| 8000/8000 [00:01<00:00, 7207.33it/s]\n",
      "100%|█████████████████████████████████████| 1166/1166 [00:00<00:00, 7038.66it/s]\n",
      "100%|███████████████████████████████████████| 236/236 [00:00<00:00, 3649.48it/s]\n",
      "100%|███████████████████████████████████████| 680/680 [00:00<00:00, 5136.78it/s]\n",
      "100%|█████████████████████████████████████| 3451/3451 [00:00<00:00, 9976.22it/s]\n",
      "100%|█████████████████████████████████████| 8000/8000 [00:00<00:00, 9250.56it/s]\n"
     ]
    },
    {
     "name": "stdout",
     "output_type": "stream",
     "text": [
      "../../01_CreateFolds/Gaia/Folds/Fold_3/train.csv\n",
      "../../01_CreateFolds/Gaia/Folds/Fold_3/val.csv\n",
      "../../01_CreateFolds/Gaia/Folds/test.csv\n",
      "./Folds/Fold_3/\n"
     ]
    },
    {
     "name": "stderr",
     "output_type": "stream",
     "text": [
      "100%|███████████████████████████████████| 73827/73827 [00:35<00:00, 2085.22it/s]\n",
      "100%|███████████████████████████████████| 12305/12305 [00:05<00:00, 2064.79it/s]\n",
      "100%|███████████████████████████████████| 21533/21533 [00:10<00:00, 2142.91it/s]\n",
      "100%|███████████████████████████████████| 27428/27428 [00:04<00:00, 6091.05it/s]\n",
      "100%|█████████████████████████████████████| 3999/3999 [00:00<00:00, 7851.77it/s]\n",
      "100%|███████████████████████████████████████| 810/810 [00:00<00:00, 5462.86it/s]\n",
      "100%|█████████████████████████████████████| 2330/2330 [00:01<00:00, 2321.66it/s]\n",
      "100%|███████████████████████████████████| 11831/11831 [00:01<00:00, 8085.79it/s]\n",
      "100%|███████████████████████████████████| 27429/27429 [00:04<00:00, 5803.87it/s]\n",
      "100%|█████████████████████████████████████| 4572/4572 [00:00<00:00, 6114.63it/s]\n",
      "100%|███████████████████████████████████████| 666/666 [00:00<00:00, 4224.41it/s]\n",
      "100%|███████████████████████████████████████| 135/135 [00:00<00:00, 3099.07it/s]\n",
      "100%|███████████████████████████████████████| 389/389 [00:00<00:00, 3965.07it/s]\n",
      "100%|█████████████████████████████████████| 1972/1972 [00:00<00:00, 5679.99it/s]\n",
      "100%|█████████████████████████████████████| 4571/4571 [00:00<00:00, 6139.09it/s]\n",
      "100%|█████████████████████████████████████| 8000/8000 [00:01<00:00, 5423.71it/s]\n",
      "100%|█████████████████████████████████████| 1166/1166 [00:00<00:00, 5009.94it/s]\n",
      "100%|███████████████████████████████████████| 236/236 [00:00<00:00, 2038.88it/s]\n",
      "100%|███████████████████████████████████████| 680/680 [00:00<00:00, 3198.81it/s]\n",
      "100%|█████████████████████████████████████| 3451/3451 [00:00<00:00, 6408.65it/s]\n",
      "100%|█████████████████████████████████████| 8000/8000 [00:01<00:00, 5325.70it/s]\n"
     ]
    },
    {
     "name": "stdout",
     "output_type": "stream",
     "text": [
      "../../01_CreateFolds/Gaia/Folds/Fold_4/train.csv\n",
      "../../01_CreateFolds/Gaia/Folds/Fold_4/val.csv\n",
      "../../01_CreateFolds/Gaia/Folds/test.csv\n",
      "./Folds/Fold_4/\n"
     ]
    },
    {
     "name": "stderr",
     "output_type": "stream",
     "text": [
      "100%|███████████████████████████████████| 73827/73827 [00:39<00:00, 1889.14it/s]\n",
      "100%|███████████████████████████████████| 12305/12305 [00:06<00:00, 1932.69it/s]\n",
      "100%|███████████████████████████████████| 21533/21533 [00:11<00:00, 1843.73it/s]\n",
      "100%|███████████████████████████████████| 27429/27429 [00:05<00:00, 5447.79it/s]\n",
      "100%|█████████████████████████████████████| 3999/3999 [00:00<00:00, 7149.84it/s]\n",
      "100%|████████████████████████████████████████| 810/810 [00:00<00:00, 855.39it/s]\n",
      "100%|█████████████████████████████████████| 2330/2330 [00:00<00:00, 7031.12it/s]\n",
      "100%|███████████████████████████████████| 11831/11831 [00:01<00:00, 5988.82it/s]\n",
      "100%|███████████████████████████████████| 27428/27428 [00:05<00:00, 4977.46it/s]\n",
      "100%|█████████████████████████████████████| 4571/4571 [00:00<00:00, 6061.09it/s]\n",
      "100%|███████████████████████████████████████| 666/666 [00:00<00:00, 4205.53it/s]\n",
      "100%|███████████████████████████████████████| 135/135 [00:00<00:00, 2336.88it/s]\n",
      "100%|███████████████████████████████████████| 389/389 [00:00<00:00, 3923.54it/s]\n",
      "100%|█████████████████████████████████████| 1972/1972 [00:00<00:00, 5752.39it/s]\n",
      "100%|█████████████████████████████████████| 4572/4572 [00:00<00:00, 6242.09it/s]\n",
      "100%|█████████████████████████████████████| 8000/8000 [00:01<00:00, 6156.20it/s]\n",
      "100%|█████████████████████████████████████| 1166/1166 [00:00<00:00, 6143.18it/s]\n",
      "100%|███████████████████████████████████████| 236/236 [00:00<00:00, 3254.21it/s]\n",
      "100%|███████████████████████████████████████| 680/680 [00:00<00:00, 4183.54it/s]\n",
      "100%|█████████████████████████████████████| 3451/3451 [00:00<00:00, 8207.40it/s]\n",
      "100%|█████████████████████████████████████| 8000/8000 [00:01<00:00, 6319.76it/s]\n"
     ]
    },
    {
     "name": "stdout",
     "output_type": "stream",
     "text": [
      "../../01_CreateFolds/Gaia/Folds/Fold_5/train.csv\n",
      "../../01_CreateFolds/Gaia/Folds/Fold_5/val.csv\n",
      "../../01_CreateFolds/Gaia/Folds/test.csv\n",
      "./Folds/Fold_5/\n"
     ]
    },
    {
     "name": "stderr",
     "output_type": "stream",
     "text": [
      "100%|███████████████████████████████████| 73828/73828 [00:45<00:00, 1609.64it/s]\n",
      "100%|███████████████████████████████████| 12304/12304 [00:06<00:00, 1888.38it/s]\n",
      "100%|███████████████████████████████████| 21533/21533 [00:13<00:00, 1584.58it/s]\n",
      "100%|███████████████████████████████████| 27429/27429 [00:05<00:00, 5384.72it/s]\n",
      "100%|█████████████████████████████████████| 3999/3999 [00:00<00:00, 6481.74it/s]\n",
      "100%|███████████████████████████████████████| 810/810 [00:00<00:00, 5932.07it/s]\n",
      "100%|█████████████████████████████████████| 2331/2331 [00:00<00:00, 7839.00it/s]\n",
      "100%|███████████████████████████████████| 11831/11831 [00:02<00:00, 5240.60it/s]\n",
      "100%|███████████████████████████████████| 27428/27428 [00:06<00:00, 4073.62it/s]\n",
      "100%|█████████████████████████████████████| 4571/4571 [00:00<00:00, 4967.63it/s]\n",
      "100%|███████████████████████████████████████| 666/666 [00:00<00:00, 2851.22it/s]\n",
      "100%|███████████████████████████████████████| 135/135 [00:00<00:00, 2238.85it/s]\n",
      "100%|███████████████████████████████████████| 388/388 [00:00<00:00, 2619.09it/s]\n",
      "100%|█████████████████████████████████████| 1972/1972 [00:00<00:00, 4584.44it/s]\n",
      "100%|█████████████████████████████████████| 4572/4572 [00:00<00:00, 5053.65it/s]\n",
      "100%|█████████████████████████████████████| 8000/8000 [00:01<00:00, 5061.43it/s]\n",
      "100%|█████████████████████████████████████| 1166/1166 [00:00<00:00, 5659.22it/s]\n",
      "100%|███████████████████████████████████████| 236/236 [00:00<00:00, 2715.32it/s]\n",
      "100%|███████████████████████████████████████| 680/680 [00:00<00:00, 3241.68it/s]\n",
      "100%|█████████████████████████████████████| 3451/3451 [00:00<00:00, 6963.58it/s]\n",
      "100%|█████████████████████████████████████| 8000/8000 [00:01<00:00, 5670.99it/s]\n"
     ]
    },
    {
     "name": "stdout",
     "output_type": "stream",
     "text": [
      "../../01_CreateFolds/Gaia/Folds/Fold_6/train.csv\n",
      "../../01_CreateFolds/Gaia/Folds/Fold_6/val.csv\n",
      "../../01_CreateFolds/Gaia/Folds/test.csv\n",
      "./Folds/Fold_6/\n"
     ]
    },
    {
     "name": "stderr",
     "output_type": "stream",
     "text": [
      "100%|███████████████████████████████████| 73828/73828 [00:43<00:00, 1704.16it/s]\n",
      "100%|███████████████████████████████████| 12304/12304 [00:07<00:00, 1683.76it/s]\n",
      "100%|███████████████████████████████████| 21533/21533 [00:11<00:00, 1877.92it/s]\n",
      "100%|███████████████████████████████████| 27429/27429 [00:04<00:00, 6134.62it/s]\n",
      "100%|█████████████████████████████████████| 3999/3999 [00:00<00:00, 8135.07it/s]\n",
      "100%|███████████████████████████████████████| 810/810 [00:00<00:00, 5874.14it/s]\n",
      "100%|█████████████████████████████████████| 2331/2331 [00:00<00:00, 8148.37it/s]\n",
      "100%|███████████████████████████████████| 11831/11831 [00:02<00:00, 5883.61it/s]\n",
      "100%|███████████████████████████████████| 27428/27428 [00:05<00:00, 4573.16it/s]\n",
      "100%|█████████████████████████████████████| 4571/4571 [00:00<00:00, 6469.02it/s]\n",
      "100%|███████████████████████████████████████| 666/666 [00:00<00:00, 4942.70it/s]\n",
      "100%|███████████████████████████████████████| 135/135 [00:00<00:00, 2736.39it/s]\n",
      "100%|███████████████████████████████████████| 388/388 [00:00<00:00, 4161.94it/s]\n",
      "100%|█████████████████████████████████████| 1972/1972 [00:00<00:00, 6737.55it/s]\n",
      "100%|█████████████████████████████████████| 4572/4572 [00:00<00:00, 6272.48it/s]\n",
      "100%|█████████████████████████████████████| 8000/8000 [00:01<00:00, 5691.68it/s]\n",
      "100%|█████████████████████████████████████| 1166/1166 [00:00<00:00, 4769.69it/s]\n",
      "100%|███████████████████████████████████████| 236/236 [00:00<00:00, 2278.70it/s]\n",
      "100%|███████████████████████████████████████| 680/680 [00:00<00:00, 3794.70it/s]\n",
      "100%|█████████████████████████████████████| 3451/3451 [00:00<00:00, 7189.43it/s]\n",
      "100%|█████████████████████████████████████| 8000/8000 [00:01<00:00, 5069.72it/s]\n"
     ]
    },
    {
     "name": "stdout",
     "output_type": "stream",
     "text": [
      "../../01_CreateFolds/Gaia/Folds/Fold_7/train.csv\n",
      "../../01_CreateFolds/Gaia/Folds/Fold_7/val.csv\n",
      "../../01_CreateFolds/Gaia/Folds/test.csv\n",
      "./Folds/Fold_7/\n"
     ]
    },
    {
     "name": "stderr",
     "output_type": "stream",
     "text": [
      "100%|███████████████████████████████████| 73828/73828 [00:42<00:00, 1727.88it/s]\n",
      "100%|███████████████████████████████████| 12304/12304 [00:06<00:00, 1814.42it/s]\n",
      "100%|███████████████████████████████████| 21533/21533 [00:12<00:00, 1692.18it/s]\n",
      "100%|███████████████████████████████████| 27429/27429 [00:06<00:00, 4193.87it/s]\n",
      "100%|█████████████████████████████████████| 3998/3998 [00:00<00:00, 5642.09it/s]\n",
      "100%|███████████████████████████████████████| 810/810 [00:00<00:00, 3869.48it/s]\n",
      "100%|█████████████████████████████████████| 2331/2331 [00:00<00:00, 7115.46it/s]\n",
      "100%|███████████████████████████████████| 11831/11831 [00:02<00:00, 4855.78it/s]\n",
      "100%|███████████████████████████████████| 27429/27429 [00:06<00:00, 4471.64it/s]\n",
      "100%|█████████████████████████████████████| 4571/4571 [00:00<00:00, 5954.58it/s]\n",
      "100%|███████████████████████████████████████| 667/667 [00:00<00:00, 3670.87it/s]\n",
      "100%|███████████████████████████████████████| 135/135 [00:00<00:00, 2667.69it/s]\n",
      "100%|███████████████████████████████████████| 388/388 [00:00<00:00, 4310.35it/s]\n",
      "100%|█████████████████████████████████████| 1972/1972 [00:00<00:00, 6701.42it/s]\n",
      "100%|█████████████████████████████████████| 4571/4571 [00:00<00:00, 6166.95it/s]\n",
      "100%|█████████████████████████████████████| 8000/8000 [00:00<00:00, 8020.65it/s]\n",
      "100%|█████████████████████████████████████| 1166/1166 [00:00<00:00, 6260.20it/s]\n",
      "100%|███████████████████████████████████████| 236/236 [00:00<00:00, 3113.07it/s]\n",
      "100%|███████████████████████████████████████| 680/680 [00:00<00:00, 4880.35it/s]\n",
      "100%|█████████████████████████████████████| 3451/3451 [00:00<00:00, 8541.84it/s]\n",
      "100%|█████████████████████████████████████| 8000/8000 [00:02<00:00, 3673.32it/s]\n"
     ]
    }
   ],
   "source": [
    "# Create the container folder\n",
    "if not os.path.exists('./Folds'):\n",
    "    os.mkdir('./Folds')\n",
    "    \n",
    "for fold in folds:\n",
    "    train_val = glob(os.path.join(fold, '*'))\n",
    "    train_path = [i for i in train_val if 'train' in i][0]\n",
    "    val_path = [i for i in train_val if 'val' in i][0]\n",
    "    \n",
    "    path_fold = fold.replace('../../01_CreateFolds/'+survey,'.')+'/'\n",
    "    if not os.path.exists(path_fold):\n",
    "        os.mkdir(path_fold)\n",
    "    print(train_path)\n",
    "    print(val_path)\n",
    "    print(test_path)\n",
    "    print(path_fold)\n",
    "    \n",
    "    kwargs2['file_train']=train_path\n",
    "    kwargs2['file_val'] =val_path\n",
    "    kwargs2['file_test'] =test_path\n",
    "    kwargs2['save_dir'] = path_fold\n",
    "    P.prepare(**kwargs2)\n",
    "\n",
    "    "
   ]
  },
  {
   "cell_type": "code",
   "execution_count": null,
   "metadata": {},
   "outputs": [],
   "source": []
  },
  {
   "cell_type": "code",
   "execution_count": null,
   "metadata": {},
   "outputs": [],
   "source": []
  }
 ],
 "metadata": {
  "kernelspec": {
   "display_name": "Python 3 (ipykernel)",
   "language": "python",
   "name": "python3"
  },
  "language_info": {
   "codemirror_mode": {
    "name": "ipython",
    "version": 3
   },
   "file_extension": ".py",
   "mimetype": "text/x-python",
   "name": "python",
   "nbconvert_exporter": "python",
   "pygments_lexer": "ipython3",
   "version": "3.10.12"
  }
 },
 "nbformat": 4,
 "nbformat_minor": 4
}
