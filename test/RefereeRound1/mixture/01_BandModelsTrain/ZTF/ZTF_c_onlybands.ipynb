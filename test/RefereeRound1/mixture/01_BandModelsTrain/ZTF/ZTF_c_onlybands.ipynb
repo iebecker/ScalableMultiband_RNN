{
 "cells": [
  {
   "cell_type": "code",
   "execution_count": 1,
   "metadata": {},
   "outputs": [
    {
     "name": "stderr",
     "output_type": "stream",
     "text": [
      "2024-12-08 19:52:59.735866: E external/local_xla/xla/stream_executor/cuda/cuda_dnn.cc:9261] Unable to register cuDNN factory: Attempting to register factory for plugin cuDNN when one has already been registered\n",
      "2024-12-08 19:52:59.735927: E external/local_xla/xla/stream_executor/cuda/cuda_fft.cc:607] Unable to register cuFFT factory: Attempting to register factory for plugin cuFFT when one has already been registered\n",
      "2024-12-08 19:52:59.736929: E external/local_xla/xla/stream_executor/cuda/cuda_blas.cc:1515] Unable to register cuBLAS factory: Attempting to register factory for plugin cuBLAS when one has already been registered\n",
      "2024-12-08 19:53:01.117968: W tensorflow/compiler/tf2tensorrt/utils/py_utils.cc:38] TF-TRT Warning: Could not find TensorRT\n"
     ]
    }
   ],
   "source": [
    "import sys\n",
    "import os\n",
    "from glob import glob\n",
    "from itertools import combinations\n",
    "\n",
    "import matplotlib.pyplot as plt\n",
    "import pandas as pd\n",
    "import numpy as np\n",
    "\n",
    "\n",
    "# Avoids warnings\n",
    "os.environ[\"TF_CPP_MIN_LOG_LEVEL\"] = \"1\"\n",
    "import tensorflow as tf\n",
    "\n",
    "import ScalableLib.classifier.Multiband as multiband\n",
    "from ScalableLib.classifier.CustomLayers import SauceLayer, LastRelevantLayer, ApplyMask, MeanMagLayer, MeanColorLayer"
   ]
  },
  {
   "cell_type": "markdown",
   "metadata": {},
   "source": [
    "the filtering of the times must be done in the spine, not in each band. Spit all the times then slect the best one. "
   ]
  },
  {
   "cell_type": "code",
   "execution_count": 2,
   "metadata": {},
   "outputs": [
    {
     "name": "stdout",
     "output_type": "stream",
     "text": [
      "Using NVIDIA GeForce RTX 2080 Ti\n"
     ]
    }
   ],
   "source": [
    "# To see if the system recognises the GPU\n",
    "device = 1\n",
    "devices = tf.config.experimental.list_physical_devices('GPU')\n",
    "tf.config.set_visible_devices(devices[device], 'GPU')\n",
    "tf.config.experimental.set_memory_growth(device=devices[device], enable=True)\n",
    "\n",
    "device_name = tf.config.experimental.get_device_details(devices[device])['device_name']\n",
    "print(\"Using {}\".format(device_name))"
   ]
  },
  {
   "cell_type": "markdown",
   "metadata": {},
   "source": [
    "Find the different folds and train a model using the stored data."
   ]
  },
  {
   "cell_type": "code",
   "execution_count": 2,
   "metadata": {},
   "outputs": [
    {
     "data": {
      "text/plain": [
       "['../../../CV_c/02_CreateRecords/ZTF/Folds/Fold_1',\n",
       " '../../../CV_c/02_CreateRecords/ZTF/Folds/Fold_2',\n",
       " '../../../CV_c/02_CreateRecords/ZTF/Folds/Fold_3',\n",
       " '../../../CV_c/02_CreateRecords/ZTF/Folds/Fold_4',\n",
       " '../../../CV_c/02_CreateRecords/ZTF/Folds/Fold_5',\n",
       " '../../../CV_c/02_CreateRecords/ZTF/Folds/Fold_6',\n",
       " '../../../CV_c/02_CreateRecords/ZTF/Folds/Fold_7']"
      ]
     },
     "execution_count": 2,
     "metadata": {},
     "output_type": "execute_result"
    }
   ],
   "source": [
    "survey = 'ZTF'\n",
    "path = os.path.join('../../../CV_c/02_CreateRecords/', survey, 'Folds/Fold_*',)\n",
    "folds = glob(path)\n",
    "folds.sort()\n",
    "folds"
   ]
  },
  {
   "cell_type": "markdown",
   "metadata": {},
   "source": [
    "Create folder results"
   ]
  },
  {
   "cell_type": "code",
   "execution_count": 3,
   "metadata": {},
   "outputs": [],
   "source": [
    "if not os.path.exists('./Results'):\n",
    "    os.mkdir('./Results')\n"
   ]
  },
  {
   "cell_type": "markdown",
   "metadata": {},
   "source": [
    "Define the arguments for all the models."
   ]
  },
  {
   "cell_type": "code",
   "execution_count": 6,
   "metadata": {},
   "outputs": [],
   "source": [
    "train_args = {\n",
    "            'hidden_size_bands':[128,128, 128],\n",
    "            'hidden_size_central':[128, 128],\n",
    "            'fc_layers_bands':[128,128,128],\n",
    "            'fc_layers_central':[128,128,128], # Neurons of each layer\n",
    "            'regression_size':[128, 128],#each element is a layer with that size.\n",
    "            'buffer_size':10000,\n",
    "            'epochs':1000,\n",
    "            'num_threads':7,\n",
    "            'batch_size':128,\n",
    "            'dropout':0.30,\n",
    "            'lr':[[5e-3]*2, 2.5e-3], # [[band1, band2], central]\n",
    "            'val_steps':50,\n",
    "            'max_to_keep':0, # Not Used \n",
    "            'steps_wait':500, \n",
    "            'use_class_weights':True,# Not Used as intended, for initialization\n",
    "            'mode' : 'classifier'\n",
    "            }\n",
    "loss_weights = {'Class':1.0}\n",
    "\n",
    "callbacks_args = {'patience': 20,\n",
    "                  'mode':'max',\n",
    "                  'restore_best_weights':True,\n",
    "                  'min_delta': 0.001\n",
    "                 }\n",
    "train_args_specific={\n",
    "                    'phys_params': [],\n",
    "                    'use_output_bands' : True,  # Working\n",
    "                    'use_output_central' : False, # Not used\n",
    "                    'use_common_layers' : False, # NOT Working\n",
    "                    'bidirectional_central' : False,# Working\n",
    "                    'bidirectional_band' : False,# Not Working\n",
    "                    'layer_norm_params' : None, # Used to normalyze common layers\n",
    "                    'use_gated_common' : False, # Working\n",
    "                    'l1':0.0,\n",
    "                    'l2':0.0,  \n",
    "                    'N_skip': 3, # Cannot be greater than the number of timesteps\n",
    "                    'use_raw_input_central': False,\n",
    "                    'train_steps_central' : 2,\n",
    "                    'print_report' : True,\n",
    "                    'loss_weights_central' : loss_weights,\n",
    "                    'callbacks_args':callbacks_args\n",
    "                    }\n",
    "\n"
   ]
  },
  {
   "cell_type": "markdown",
   "metadata": {},
   "source": [
    "Create the scapulars and coonect them at the end"
   ]
  },
  {
   "cell_type": "code",
   "execution_count": 10,
   "metadata": {},
   "outputs": [],
   "source": [
    "def compute_FinalMeanMags(output, length):\n",
    "\n",
    "    batch_size = tf.shape(output)[0]\n",
    "    indices = tf.stack([tf.range(0, batch_size), length], axis=1)\n",
    "    final_MeanMags = tf.gather_nd(output, indices)\n",
    "    return final_MeanMags\n",
    "\n",
    "def compute_ColorMatrix(n_bands):\n",
    "    \"\"\" Obtains the matrix to compute the colors (magnitude differences)\n",
    "    between all the bands. In the 2-band scenario it reduces to [[1, -1]].\n",
    "    \"\"\"\n",
    "    NN = n_bands\n",
    "    # Compute all possible combinations\n",
    "    combs = set(combinations(np.arange(NN), 2))\n",
    "    combs = [list(i) for i in combs]\n",
    "    combs = tf.constant(combs)\n",
    "\n",
    "    # Compute the index of the first elements\n",
    "    v1 = tf.reshape(combs[:, 0], [-1, 1])\n",
    "    v1b = tf.reshape(tf.range(tf.shape(combs)[0]), [-1, 1])\n",
    "    v1 = tf.concat([v1b, v1], axis=1)\n",
    "    # Compute the index of the second elements\n",
    "    v2 = tf.reshape(combs[:, 1], [-1, 1])\n",
    "    v1b = tf.reshape(tf.range(tf.shape(combs)[0]), [-1, 1])\n",
    "    v2 = tf.concat([v1b, v2], axis=1)\n",
    "\n",
    "    # Concatenate and cast to int64\n",
    "    indices = tf.concat([v1, v2], axis=0)\n",
    "    indices = tf.cast(indices, tf.int64)\n",
    "\n",
    "    # First part are the first elements\n",
    "    u1 = tf.ones(tf.shape(v1)[0])\n",
    "    # Second part are the subtracted elements\n",
    "    u2 = -tf.ones(tf.shape(v1)[0])\n",
    "    updates = tf.concat([u1, u2], axis=0)\n",
    "\n",
    "    # Compute the shape #combinations x bands\n",
    "    shape = tf.stack([tf.shape(v1)[0], NN], axis=0)\n",
    "    shape = tf.cast(shape, tf.int64)\n",
    "\n",
    "    # Obtain the matrix\n",
    "    diff_matrix = tf.scatter_nd(indices, updates, shape)\n",
    "\n",
    "    # Transpose it to perform MatMult afterwards\n",
    "    diff_matrix = tf.transpose(diff_matrix)\n",
    "    return diff_matrix"
   ]
  },
  {
   "cell_type": "code",
   "execution_count": 11,
   "metadata": {},
   "outputs": [],
   "source": [
    "class LastRelevantLayer_mod(tf.keras.layers.Layer):\n",
    "    def __init__(self, **kwargs):\n",
    "        super(LastRelevantLayer_mod, self).__init__(**kwargs)\n",
    "        self.supports_masking = True\n",
    "\n",
    "    def call(self, output, length):\n",
    "        '''Get the last relevant output from the network'''\n",
    "        batch_size = tf.shape(output)[0]\n",
    "        max_length = tf.shape(output)[1]\n",
    "        out_size = tf.shape(output)[2]\n",
    "\n",
    "        index = tf.range(0, batch_size) * max_length + (length - 1)\n",
    "        flat = tf.reshape(output, [-1, out_size])\n",
    "        relevant = tf.gather(flat, index)\n",
    "        \n",
    "        relevant = tf.reshape(relevant, [batch_size, output.shape[2]])\n",
    "        return relevant\n",
    " \n",
    "\n",
    "def creat_split_models():\n",
    "    tf.keras.backend.clear_session()\n",
    "    inputs = {}\n",
    "    keys =new.dataset_test.element_spec[0].keys()\n",
    "    for key in keys:\n",
    "        inputs[key] = tf.keras.layers.Input(shape=new.dataset_test.element_spec[0][key].shape[1:],\n",
    "                                            dtype=new.dataset_test.element_spec[0][key].dtype,\n",
    "                                            name=key\n",
    "                                            )\n",
    "    out = {}\n",
    "    sauces = []\n",
    "    Mean_Mags = []\n",
    "    \n",
    "    for model in range(len(new.models)):\n",
    "        # Get the single band outputs\n",
    "        new.models[model].trainable = True\n",
    "        out[model] = new.models[model].layers[2].output\n",
    "        slice_model = tf.keras.Model(inputs=new.models[model].inputs, outputs=out[model])\n",
    "\n",
    "        out_model = slice_model(inputs)\n",
    "        # Get the last relevant per band per output\n",
    "        lasts = []\n",
    "        for i in range(len(out_model)):\n",
    "            last_relevant = LastRelevantLayer_mod()(out_model[i], inputs['N_'+str(model)])\n",
    "            lasts.append(last_relevant)\n",
    "        # Create a Sauce layer per band\n",
    "        size = len(lasts)\n",
    "        sauce = SauceLayer(size, name='Sauce_'+str(model))(lasts)\n",
    "        sauces.append(sauce)\n",
    "\n",
    "        # Compute the mean mags\n",
    "        MeanMag = MeanMagLayer(new.w,\n",
    "                               name='MeanMag_'+str(model)\n",
    "                               )\n",
    "        mean_mags = MeanMag(inputs['input_LC_'+str(model)],\n",
    "                            inputs['N_'+str(model)],\n",
    "                            inputs['M0_'+str(model)],\n",
    "                            )        \n",
    "        Mean_Mags.append(mean_mags)\n",
    "\n",
    "    final_MeanMags = [compute_FinalMeanMags(Mean_Mags[i], inputs['N_'+str(i)]) for i in range(new.n_bands)]\n",
    "    final_MeanMags = tf.stack(final_MeanMags, axis=1)\n",
    "    color_matrix = compute_ColorMatrix(new.n_bands)\n",
    "    colors = tf.matmul(final_MeanMags, color_matrix)\n",
    "        \n",
    "    # Stack the outputs\n",
    "    embedding = tf.keras.layers.Concatenate(axis=1, name='Concat_Sauces')(sauces)\n",
    "\n",
    "    # Stack the colors\n",
    "    embedding =  tf.keras.layers.Concatenate(axis=-1, name='Concat_Colors')([embedding, colors])\n",
    "    # Add dense layers with dropout\n",
    "    sizes = train_args['fc_layers_central']\n",
    "    proyections = embedding\n",
    "    for b in range(len(sizes)):\n",
    "        proyections = tf.keras.layers.Dense(sizes[b],\n",
    "                                        activation=None,\n",
    "                                        use_bias=False,\n",
    "                                        )(proyections)\n",
    "        proyections = tf.keras.layers.BatchNormalization()(proyections, training=True)\n",
    "        proyections = tf.keras.activations.relu(proyections)\n",
    "\n",
    "        proyections = tf.keras.layers.Dropout(new.dropout)(proyections)\n",
    "\n",
    "    predictions_prob = tf.keras.layers.Dense(new.num_classes,\n",
    "                                             activation='softmax',\n",
    "                                             use_bias=True,\n",
    "                                             name='Predictions',\n",
    "    #                                          bias_initializer=tf.constant_initializer(1.0/self.numpy_weights),\n",
    "                                             )(proyections)\n",
    "    outputs = {\n",
    "            'Class': predictions_prob,\n",
    "\n",
    "            }\n",
    "    model = tf.keras.Model(inputs = inputs, outputs=outputs)\n",
    "    optimizer = new.optimizers[0]\n",
    "    loss = 'categorical_crossentropy'\n",
    "    model.compile(optimizer=optimizer, loss=loss, metrics='accuracy')\n",
    "\n",
    "    return model"
   ]
  },
  {
   "cell_type": "code",
   "execution_count": null,
   "metadata": {},
   "outputs": [
    {
     "name": "stdout",
     "output_type": "stream",
     "text": [
      "./Results/Fold_1/Models/20241208-1948\n",
      "Epoch 1/200\n"
     ]
    }
   ],
   "source": [
    "sauces = []\n",
    "for fold in folds:\n",
    "    tf.keras.backend.clear_session()\n",
    "    # Set the fold path\n",
    "    base_dir = fold+'/'\n",
    "    \n",
    "    # Set the save path for this fold. Create folder if needed\n",
    "    path_results_fold = fold.replace(f'../../../CV_c/02_CreateRecords/{survey}', '.').replace('/Folds/', '/Results/')\n",
    "\n",
    "    if not os.path.exists(path_results_fold):\n",
    "        os.mkdir(path_results_fold)    \n",
    "\n",
    "    train_args_specific['save_dir'] = path_results_fold\n",
    "    train_args_specific['metadata_pre_path'] = os.path.join(fold, 'metadata_preprocess.json')\n",
    "    train_args_specific['path_scalers'] =  os.path.join(fold,'scalers.pkl')\n",
    "    # Define the train args\n",
    "    train_args = {**train_args, **train_args_specific}\n",
    "\n",
    "    train_files = os.path.join(fold, 'train/*.tfrecord')\n",
    "    val_files = os.path.join(fold, 'val/*.tfrecord')\n",
    "    test_files = os.path.join(fold, 'test/*.tfrecord')\n",
    "    \n",
    "    new = multiband.Network()    \n",
    "    new.train(train_args, train_files, val_files, test_files)\n",
    "    model = creat_split_models()\n",
    "    \n",
    "    es = tf.keras.callbacks.EarlyStopping(**callbacks_args)\n",
    "    model.fit(new.dataset_train, validation_data=new.dataset_val, epochs=200,callbacks = [es] )\n",
    "    \n",
    "    # Store the alpha coefficients per fold\n",
    "    sauces_ = {i.name:i for i in model.layers if 'Sauce_' in i.name}\n",
    "    scales = {key:tf.nn.softmax(sauces_[key].scale).numpy() for key in sauces_.keys()}\n",
    "    sauces.append(scales)\n",
    "    # Test\n",
    "    dfs = []\n",
    "    for batch in new.dataset_test:\n",
    "        prediction = model(batch[0])\n",
    "        y_pred = prediction['Class'].numpy().argmax(axis=1)\n",
    "        y_pred = [new.trans[i] for i in y_pred]\n",
    "        ID = batch[0]['ID'].numpy()\n",
    "\n",
    "        y_true = batch[1]['Class'].numpy().argmax(axis=1)\n",
    "        y_true = [new.trans[i] for i in y_true]\n",
    "\n",
    "        df = pd.DataFrame(np.array([ID, y_pred, y_true]).transpose(), columns=['ID', 'Class', 'Pred'])\n",
    "        df.ID = df.ID.str.decode('UTF-8')\n",
    "        dfs.append(df)\n",
    "    dfs = pd.concat(dfs, axis=0)\n",
    "    dfs.to_csv(path_results_fold+'/Classification_test.dat', index=False, index_label=False)\n",
    "    \n",
    "pd.DataFrame(sauces).to_csv(path_results_fold+'/sauces.dat', index=False, index_label=False)    \n"
   ]
  },
  {
   "cell_type": "code",
   "execution_count": null,
   "metadata": {},
   "outputs": [],
   "source": [
    "1"
   ]
  },
  {
   "cell_type": "code",
   "execution_count": null,
   "metadata": {},
   "outputs": [],
   "source": []
  }
 ],
 "metadata": {
  "kernelspec": {
   "display_name": "Python 3 (ipykernel)",
   "language": "python",
   "name": "python3"
  },
  "language_info": {
   "codemirror_mode": {
    "name": "ipython",
    "version": 3
   },
   "file_extension": ".py",
   "mimetype": "text/x-python",
   "name": "python",
   "nbconvert_exporter": "python",
   "pygments_lexer": "ipython3",
   "version": "3.10.12"
  }
 },
 "nbformat": 4,
 "nbformat_minor": 4
}
