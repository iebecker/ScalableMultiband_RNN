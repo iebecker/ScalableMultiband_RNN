{
 "cells": [
  {
   "cell_type": "code",
   "execution_count": 2,
   "id": "b042feca",
   "metadata": {},
   "outputs": [],
   "source": [
    "from sklearn.metrics import classification_report\n",
    "import pandas as pd\n",
    "import numpy as np\n",
    "from glob import glob\n",
    "from os.path import join\n",
    "from collections import Counter\n",
    "import sys\n",
    "\n",
    "# sys.path.append('/home/ibecker/Dropbox/MyPythonClasses/FinalClass/')\n",
    "\n",
    "# import Classifier.Model_53.Multiband_53 as multiband\n",
    "from ScalableLib.base import plot as plot\n",
    "# import BaseClass.plot_v2 as plot"
   ]
  },
  {
   "cell_type": "code",
   "execution_count": 11,
   "id": "8147c679",
   "metadata": {},
   "outputs": [],
   "source": [
    "path ='../../01_BandModelsTrain/Gaia/Results/Fold_*'\n",
    "folds = glob(path)\n",
    "folds.sort()\n",
    "folds"
   ]
  },
  {
   "cell_type": "code",
   "execution_count": 12,
   "id": "326277a3",
   "metadata": {},
   "outputs": [],
   "source": [
    "reports = []\n",
    "for fold in folds:\n",
    "    \n",
    "    classification_path = join(fold, 'Classification_test.dat')\n",
    "    classification = pd.read_csv(classification_path)\n",
    "    # True and pred are inverted, because I'm dumb\n",
    "    report = classification_report(classification.Pred, classification.Class, output_dict=True, zero_division=0,)\n",
    "    reports.append(report)"
   ]
  },
  {
   "cell_type": "code",
   "execution_count": 13,
   "id": "e6cf3848",
   "metadata": {},
   "outputs": [
    {
     "data": {
      "text/html": [
       "<div>\n",
       "<style scoped>\n",
       "    .dataframe tbody tr th:only-of-type {\n",
       "        vertical-align: middle;\n",
       "    }\n",
       "\n",
       "    .dataframe tbody tr th {\n",
       "        vertical-align: top;\n",
       "    }\n",
       "\n",
       "    .dataframe thead th {\n",
       "        text-align: right;\n",
       "    }\n",
       "</style>\n",
       "<table border=\"1\" class=\"dataframe\">\n",
       "  <thead>\n",
       "    <tr style=\"text-align: right;\">\n",
       "      <th></th>\n",
       "      <th>CEP</th>\n",
       "      <th>T2CEP</th>\n",
       "      <th>MIRA_SR</th>\n",
       "      <th>RRAB</th>\n",
       "      <th>RRC</th>\n",
       "      <th>DSCT_SXPHE</th>\n",
       "    </tr>\n",
       "  </thead>\n",
       "  <tbody>\n",
       "    <tr>\n",
       "      <th>precision</th>\n",
       "      <td>0.00</td>\n",
       "      <td>0.00</td>\n",
       "      <td>0.01</td>\n",
       "      <td>0.01</td>\n",
       "      <td>0.01</td>\n",
       "      <td>0.0</td>\n",
       "    </tr>\n",
       "    <tr>\n",
       "      <th>recall</th>\n",
       "      <td>0.01</td>\n",
       "      <td>0.00</td>\n",
       "      <td>0.01</td>\n",
       "      <td>0.01</td>\n",
       "      <td>0.01</td>\n",
       "      <td>0.0</td>\n",
       "    </tr>\n",
       "    <tr>\n",
       "      <th>f1-score</th>\n",
       "      <td>0.01</td>\n",
       "      <td>0.00</td>\n",
       "      <td>0.01</td>\n",
       "      <td>0.01</td>\n",
       "      <td>0.01</td>\n",
       "      <td>0.0</td>\n",
       "    </tr>\n",
       "    <tr>\n",
       "      <th>support</th>\n",
       "      <td>11.66</td>\n",
       "      <td>2.36</td>\n",
       "      <td>80.00</td>\n",
       "      <td>80.00</td>\n",
       "      <td>34.51</td>\n",
       "      <td>6.8</td>\n",
       "    </tr>\n",
       "  </tbody>\n",
       "</table>\n",
       "</div>"
      ],
      "text/plain": [
       "             CEP  T2CEP  MIRA_SR   RRAB    RRC  DSCT_SXPHE\n",
       "precision   0.00   0.00     0.01   0.01   0.01         0.0\n",
       "recall      0.01   0.00     0.01   0.01   0.01         0.0\n",
       "f1-score    0.01   0.00     0.01   0.01   0.01         0.0\n",
       "support    11.66   2.36    80.00  80.00  34.51         6.8"
      ]
     },
     "execution_count": 13,
     "metadata": {},
     "output_type": "execute_result"
    }
   ],
   "source": [
    "label_order = ['CEP', 'T2CEP', 'MIRA_SR','RRAB', 'RRC', 'DSCT_SXPHE']\n",
    "median, delta_up, delta_down = plot.obtain_accumulated_metrics(reports, metric='median', label_order=label_order)\n",
    "# display(median)\n",
    "# display(delta_up)\n",
    "# display(delta_down)\n",
    "(median/100).round(2)"
   ]
  },
  {
   "cell_type": "code",
   "execution_count": 14,
   "id": "935c61b0",
   "metadata": {},
   "outputs": [
    {
     "data": {
      "text/plain": [
       "(0.8123577764361678, 0.8123577764361678)"
      ]
     },
     "execution_count": 14,
     "metadata": {},
     "output_type": "execute_result"
    }
   ],
   "source": [
    "accuracies = [reports[i]['accuracy'] for i in range(len(reports))]\n",
    "np.median(accuracies), np.mean(accuracies)"
   ]
  },
  {
   "cell_type": "code",
   "execution_count": null,
   "id": "7b45c00d",
   "metadata": {},
   "outputs": [],
   "source": []
  }
 ],
 "metadata": {
  "kernelspec": {
   "display_name": "Python 3 (ipykernel)",
   "language": "python",
   "name": "python3"
  },
  "language_info": {
   "codemirror_mode": {
    "name": "ipython",
    "version": 3
   },
   "file_extension": ".py",
   "mimetype": "text/x-python",
   "name": "python",
   "nbconvert_exporter": "python",
   "pygments_lexer": "ipython3",
   "version": "3.10.12"
  }
 },
 "nbformat": 4,
 "nbformat_minor": 5
}
