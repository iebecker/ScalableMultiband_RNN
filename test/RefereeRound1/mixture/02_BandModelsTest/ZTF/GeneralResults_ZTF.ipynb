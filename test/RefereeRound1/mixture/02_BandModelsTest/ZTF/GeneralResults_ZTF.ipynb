{
 "cells": [
  {
   "cell_type": "code",
   "execution_count": 1,
   "id": "cb7afe7a",
   "metadata": {},
   "outputs": [],
   "source": [
    "from sklearn.metrics import classification_report\n",
    "import pandas as pd\n",
    "import numpy as np\n",
    "from glob import glob\n",
    "from os.path import join\n",
    "from collections import Counter\n",
    "import sys\n",
    "\n",
    "from ScalableLib.base import plot as plot"
   ]
  },
  {
   "cell_type": "code",
   "execution_count": 2,
   "id": "62cf046d",
   "metadata": {},
   "outputs": [],
   "source": [
    "survey = 'ZTF'\n",
    "path ='../../01_BandModelsTrain/{}/Results/Fold_*'.format(survey)\n",
    "folds = glob(path)\n",
    "folds.sort()\n",
    "folds"
   ]
  },
  {
   "cell_type": "code",
   "execution_count": 3,
   "id": "8c2b9a1f",
   "metadata": {},
   "outputs": [],
   "source": [
    "reports = []\n",
    "for fold in folds:\n",
    "    \n",
    "    classification_path = join(fold, 'Classification_test.dat')\n",
    "    classification = pd.read_csv(classification_path)\n",
    "    # True and pred are inverted, because I'm dumb\n",
    "    report = classification_report(classification.Pred, classification.Class, output_dict=True, zero_division=0,)\n",
    "    reports.append(report)"
   ]
  },
  {
   "cell_type": "code",
   "execution_count": 4,
   "id": "f0a8fb08",
   "metadata": {},
   "outputs": [
    {
     "data": {
      "text/html": [
       "<div>\n",
       "<style scoped>\n",
       "    .dataframe tbody tr th:only-of-type {\n",
       "        vertical-align: middle;\n",
       "    }\n",
       "\n",
       "    .dataframe tbody tr th {\n",
       "        vertical-align: top;\n",
       "    }\n",
       "\n",
       "    .dataframe thead th {\n",
       "        text-align: right;\n",
       "    }\n",
       "</style>\n",
       "<table border=\"1\" class=\"dataframe\">\n",
       "  <thead>\n",
       "    <tr style=\"text-align: right;\">\n",
       "      <th></th>\n",
       "      <th>SNIa</th>\n",
       "      <th>QSO</th>\n",
       "      <th>AGN</th>\n",
       "      <th>Blazar</th>\n",
       "      <th>YSO</th>\n",
       "      <th>CV/Nova</th>\n",
       "      <th>RRL</th>\n",
       "      <th>LPV</th>\n",
       "      <th>E</th>\n",
       "    </tr>\n",
       "  </thead>\n",
       "  <tbody>\n",
       "    <tr>\n",
       "      <th>precision</th>\n",
       "      <td>0.83</td>\n",
       "      <td>0.74</td>\n",
       "      <td>0.46</td>\n",
       "      <td>0.0</td>\n",
       "      <td>0.69</td>\n",
       "      <td>0.62</td>\n",
       "      <td>0.81</td>\n",
       "      <td>0.91</td>\n",
       "      <td>0.77</td>\n",
       "    </tr>\n",
       "    <tr>\n",
       "      <th>recall</th>\n",
       "      <td>0.93</td>\n",
       "      <td>0.96</td>\n",
       "      <td>0.12</td>\n",
       "      <td>0.0</td>\n",
       "      <td>0.09</td>\n",
       "      <td>0.29</td>\n",
       "      <td>0.82</td>\n",
       "      <td>0.97</td>\n",
       "      <td>0.84</td>\n",
       "    </tr>\n",
       "    <tr>\n",
       "      <th>f1-score</th>\n",
       "      <td>0.85</td>\n",
       "      <td>0.84</td>\n",
       "      <td>0.19</td>\n",
       "      <td>0.0</td>\n",
       "      <td>0.15</td>\n",
       "      <td>0.37</td>\n",
       "      <td>0.82</td>\n",
       "      <td>0.94</td>\n",
       "      <td>0.78</td>\n",
       "    </tr>\n",
       "    <tr>\n",
       "      <th>support</th>\n",
       "      <td>101.00</td>\n",
       "      <td>2000.00</td>\n",
       "      <td>484.00</td>\n",
       "      <td>218.0</td>\n",
       "      <td>159.00</td>\n",
       "      <td>152.00</td>\n",
       "      <td>2000.00</td>\n",
       "      <td>1863.00</td>\n",
       "      <td>2000.00</td>\n",
       "    </tr>\n",
       "  </tbody>\n",
       "</table>\n",
       "</div>"
      ],
      "text/plain": [
       "             SNIa      QSO     AGN  Blazar     YSO  CV/Nova      RRL      LPV  \\\n",
       "precision    0.83     0.74    0.46     0.0    0.69     0.62     0.81     0.91   \n",
       "recall       0.93     0.96    0.12     0.0    0.09     0.29     0.82     0.97   \n",
       "f1-score     0.85     0.84    0.19     0.0    0.15     0.37     0.82     0.94   \n",
       "support    101.00  2000.00  484.00   218.0  159.00   152.00  2000.00  1863.00   \n",
       "\n",
       "                 E  \n",
       "precision     0.77  \n",
       "recall        0.84  \n",
       "f1-score      0.78  \n",
       "support    2000.00  "
      ]
     },
     "execution_count": 4,
     "metadata": {},
     "output_type": "execute_result"
    }
   ],
   "source": [
    "label_order = ['SNIa', 'QSO','AGN', 'Blazar', 'YSO', 'CV/Nova', 'RRL', 'LPV', 'E', ]\n",
    "median, delta_up, delta_down = plot.obtain_accumulated_metrics(reports, metric='median', label_order=label_order)\n",
    "# display(median)\n",
    "# display(delta_up)\n",
    "# display(delta_down)\n",
    "(median/100).round(2)"
   ]
  },
  {
   "cell_type": "code",
   "execution_count": 5,
   "id": "a4abcd9b",
   "metadata": {},
   "outputs": [
    {
     "data": {
      "text/plain": [
       "(0.7977052467416732, 0.7985645856872325)"
      ]
     },
     "execution_count": 5,
     "metadata": {},
     "output_type": "execute_result"
    }
   ],
   "source": [
    "accuracies = [reports[i]['accuracy'] for i in range(len(reports))]\n",
    "np.median(accuracies), np.mean(accuracies)"
   ]
  }
 ],
 "metadata": {
  "kernelspec": {
   "display_name": "Python 3 (ipykernel)",
   "language": "python",
   "name": "python3"
  },
  "language_info": {
   "codemirror_mode": {
    "name": "ipython",
    "version": 3
   },
   "file_extension": ".py",
   "mimetype": "text/x-python",
   "name": "python",
   "nbconvert_exporter": "python",
   "pygments_lexer": "ipython3",
   "version": "3.10.12"
  }
 },
 "nbformat": 4,
 "nbformat_minor": 5
}
