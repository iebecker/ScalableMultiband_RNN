{
 "cells": [
  {
   "cell_type": "code",
   "execution_count": 1,
   "id": "eb8ffb77",
   "metadata": {},
   "outputs": [],
   "source": [
    "from sklearn.metrics import classification_report\n",
    "import pandas as pd\n",
    "import numpy as np\n",
    "from glob import glob\n",
    "from os.path import join\n",
    "from collections import Counter\n",
    "import sys\n",
    "\n",
    "from ScalableLib.base import plot as plot"
   ]
  },
  {
   "cell_type": "code",
   "execution_count": 2,
   "id": "98043c75",
   "metadata": {},
   "outputs": [],
   "source": [
    "survey = 'PanStarrs'\n",
    "path ='../../01_BandModelsTrain/{}/Results/Fold_*'.format(survey)\n",
    "folds = glob(path)\n",
    "folds.sort()\n",
    "folds"
   ]
  },
  {
   "cell_type": "code",
   "execution_count": 3,
   "id": "0cccd55a",
   "metadata": {},
   "outputs": [],
   "source": [
    "reports = []\n",
    "for fold in folds:\n",
    "    \n",
    "    classification_path = join(fold, 'Classification_test.dat')\n",
    "    classification = pd.read_csv(classification_path)\n",
    "    # True and pred are inverted, because I'm dumb\n",
    "    report = classification_report(classification.Pred, classification.Class, output_dict=True, zero_division=0,)\n",
    "    reports.append(report)"
   ]
  },
  {
   "cell_type": "code",
   "execution_count": 4,
   "id": "ed4bfd0f",
   "metadata": {},
   "outputs": [
    {
     "data": {
      "text/html": [
       "<div>\n",
       "<style scoped>\n",
       "    .dataframe tbody tr th:only-of-type {\n",
       "        vertical-align: middle;\n",
       "    }\n",
       "\n",
       "    .dataframe tbody tr th {\n",
       "        vertical-align: top;\n",
       "    }\n",
       "\n",
       "    .dataframe thead th {\n",
       "        text-align: right;\n",
       "    }\n",
       "</style>\n",
       "<table border=\"1\" class=\"dataframe\">\n",
       "  <thead>\n",
       "    <tr style=\"text-align: right;\">\n",
       "      <th></th>\n",
       "      <th>MIRA_SR</th>\n",
       "      <th>T2CEP</th>\n",
       "      <th>RRAB</th>\n",
       "      <th>RRC</th>\n",
       "      <th>RRD</th>\n",
       "      <th>DSCT_SXPHE</th>\n",
       "    </tr>\n",
       "  </thead>\n",
       "  <tbody>\n",
       "    <tr>\n",
       "      <th>precision</th>\n",
       "      <td>0.92</td>\n",
       "      <td>0.50</td>\n",
       "      <td>0.88</td>\n",
       "      <td>0.75</td>\n",
       "      <td>0.0</td>\n",
       "      <td>0.75</td>\n",
       "    </tr>\n",
       "    <tr>\n",
       "      <th>recall</th>\n",
       "      <td>0.95</td>\n",
       "      <td>0.05</td>\n",
       "      <td>0.85</td>\n",
       "      <td>0.80</td>\n",
       "      <td>0.0</td>\n",
       "      <td>0.79</td>\n",
       "    </tr>\n",
       "    <tr>\n",
       "      <th>f1-score</th>\n",
       "      <td>0.94</td>\n",
       "      <td>0.10</td>\n",
       "      <td>0.87</td>\n",
       "      <td>0.78</td>\n",
       "      <td>0.0</td>\n",
       "      <td>0.76</td>\n",
       "    </tr>\n",
       "    <tr>\n",
       "      <th>support</th>\n",
       "      <td>788.00</td>\n",
       "      <td>38.00</td>\n",
       "      <td>4000.00</td>\n",
       "      <td>2394.00</td>\n",
       "      <td>53.0</td>\n",
       "      <td>381.00</td>\n",
       "    </tr>\n",
       "  </tbody>\n",
       "</table>\n",
       "</div>"
      ],
      "text/plain": [
       "           MIRA_SR  T2CEP     RRAB      RRC   RRD  DSCT_SXPHE\n",
       "precision     0.92   0.50     0.88     0.75   0.0        0.75\n",
       "recall        0.95   0.05     0.85     0.80   0.0        0.79\n",
       "f1-score      0.94   0.10     0.87     0.78   0.0        0.76\n",
       "support     788.00  38.00  4000.00  2394.00  53.0      381.00"
      ]
     },
     "execution_count": 4,
     "metadata": {},
     "output_type": "execute_result"
    }
   ],
   "source": [
    "label_order = ['MIRA_SR', 'T2CEP', 'RRAB', 'RRC', 'RRD', 'DSCT_SXPHE']\n",
    "median, delta_up, delta_down = plot.obtain_accumulated_metrics(reports, metric='median', label_order=label_order)\n",
    "# display(median)\n",
    "# display(delta_up)\n",
    "# display(delta_down)\n",
    "(median/100).round(2)"
   ]
  },
  {
   "cell_type": "code",
   "execution_count": 5,
   "id": "65a19447",
   "metadata": {},
   "outputs": [
    {
     "data": {
      "text/plain": [
       "(0.8335510844003136, 0.8333644406286161)"
      ]
     },
     "execution_count": 5,
     "metadata": {},
     "output_type": "execute_result"
    }
   ],
   "source": [
    "accuracies = [reports[i]['accuracy'] for i in range(len(reports))]\n",
    "np.median(accuracies), np.mean(accuracies)"
   ]
  },
  {
   "cell_type": "code",
   "execution_count": null,
   "id": "950c7a63",
   "metadata": {},
   "outputs": [],
   "source": []
  }
 ],
 "metadata": {
  "kernelspec": {
   "display_name": "Python 3 (ipykernel)",
   "language": "python",
   "name": "python3"
  },
  "language_info": {
   "codemirror_mode": {
    "name": "ipython",
    "version": 3
   },
   "file_extension": ".py",
   "mimetype": "text/x-python",
   "name": "python",
   "nbconvert_exporter": "python",
   "pygments_lexer": "ipython3",
   "version": "3.10.12"
  }
 },
 "nbformat": 4,
 "nbformat_minor": 5
}
