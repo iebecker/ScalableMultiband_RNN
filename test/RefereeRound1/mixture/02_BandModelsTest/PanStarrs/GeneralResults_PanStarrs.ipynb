{
 "cells": [
  {
   "cell_type": "code",
   "execution_count": 1,
   "id": "eb8ffb77",
   "metadata": {},
   "outputs": [],
   "source": [
    "from sklearn.metrics import classification_report\n",
    "import pandas as pd\n",
    "import numpy as np\n",
    "from glob import glob\n",
    "from os.path import join\n",
    "from collections import Counter\n",
    "import sys\n",
    "\n",
    "from ScalableLib.base import plot as plot"
   ]
  },
  {
   "cell_type": "code",
   "execution_count": 2,
   "id": "98043c75",
   "metadata": {},
   "outputs": [
    {
     "data": {
      "text/plain": [
       "['../../01_BandModelsTrain/PanStarrs/Results/Fold_1',\n",
       " '../../01_BandModelsTrain/PanStarrs/Results/Fold_2',\n",
       " '../../01_BandModelsTrain/PanStarrs/Results/Fold_3',\n",
       " '../../01_BandModelsTrain/PanStarrs/Results/Fold_4',\n",
       " '../../01_BandModelsTrain/PanStarrs/Results/Fold_5',\n",
       " '../../01_BandModelsTrain/PanStarrs/Results/Fold_6',\n",
       " '../../01_BandModelsTrain/PanStarrs/Results/Fold_7']"
      ]
     },
     "execution_count": 2,
     "metadata": {},
     "output_type": "execute_result"
    }
   ],
   "source": [
    "survey = 'PanStarrs'\n",
    "path ='../../01_BandModelsTrain/{}/Results/Fold_*'.format(survey)\n",
    "folds = glob(path)\n",
    "folds.sort()\n",
    "folds"
   ]
  },
  {
   "cell_type": "code",
   "execution_count": 3,
   "id": "0cccd55a",
   "metadata": {},
   "outputs": [],
   "source": [
    "reports = []\n",
    "for fold in folds:\n",
    "    \n",
    "    classification_path = join(fold, 'Classification_test.dat')\n",
    "    classification = pd.read_csv(classification_path)\n",
    "    # True and pred are inverted, because I'm dumb\n",
    "    report = classification_report(classification.Pred, classification.Class, output_dict=True, zero_division=0,)\n",
    "    reports.append(report)"
   ]
  },
  {
   "cell_type": "code",
   "execution_count": 4,
   "id": "ed4bfd0f",
   "metadata": {},
   "outputs": [
    {
     "data": {
      "text/html": [
       "<div>\n",
       "<style scoped>\n",
       "    .dataframe tbody tr th:only-of-type {\n",
       "        vertical-align: middle;\n",
       "    }\n",
       "\n",
       "    .dataframe tbody tr th {\n",
       "        vertical-align: top;\n",
       "    }\n",
       "\n",
       "    .dataframe thead th {\n",
       "        text-align: right;\n",
       "    }\n",
       "</style>\n",
       "<table border=\"1\" class=\"dataframe\">\n",
       "  <thead>\n",
       "    <tr style=\"text-align: right;\">\n",
       "      <th></th>\n",
       "      <th>MIRA_SR</th>\n",
       "      <th>T2CEP</th>\n",
       "      <th>RRAB</th>\n",
       "      <th>RRC</th>\n",
       "      <th>RRD</th>\n",
       "      <th>DSCT_SXPHE</th>\n",
       "    </tr>\n",
       "  </thead>\n",
       "  <tbody>\n",
       "    <tr>\n",
       "      <th>precision</th>\n",
       "      <td>0.85</td>\n",
       "      <td>0.0</td>\n",
       "      <td>0.59</td>\n",
       "      <td>0.53</td>\n",
       "      <td>0.0</td>\n",
       "      <td>0.23</td>\n",
       "    </tr>\n",
       "    <tr>\n",
       "      <th>recall</th>\n",
       "      <td>0.93</td>\n",
       "      <td>0.0</td>\n",
       "      <td>0.50</td>\n",
       "      <td>0.72</td>\n",
       "      <td>0.0</td>\n",
       "      <td>0.00</td>\n",
       "    </tr>\n",
       "    <tr>\n",
       "      <th>f1-score</th>\n",
       "      <td>0.89</td>\n",
       "      <td>0.0</td>\n",
       "      <td>0.56</td>\n",
       "      <td>0.60</td>\n",
       "      <td>0.0</td>\n",
       "      <td>0.01</td>\n",
       "    </tr>\n",
       "    <tr>\n",
       "      <th>support</th>\n",
       "      <td>788.00</td>\n",
       "      <td>38.0</td>\n",
       "      <td>2000.00</td>\n",
       "      <td>2000.00</td>\n",
       "      <td>53.0</td>\n",
       "      <td>381.00</td>\n",
       "    </tr>\n",
       "  </tbody>\n",
       "</table>\n",
       "</div>"
      ],
      "text/plain": [
       "           MIRA_SR  T2CEP     RRAB      RRC   RRD  DSCT_SXPHE\n",
       "precision     0.85    0.0     0.59     0.53   0.0        0.23\n",
       "recall        0.93    0.0     0.50     0.72   0.0        0.00\n",
       "f1-score      0.89    0.0     0.56     0.60   0.0        0.01\n",
       "support     788.00   38.0  2000.00  2000.00  53.0      381.00"
      ]
     },
     "metadata": {},
     "output_type": "display_data"
    },
    {
     "data": {
      "text/html": [
       "<div>\n",
       "<style scoped>\n",
       "    .dataframe tbody tr th:only-of-type {\n",
       "        vertical-align: middle;\n",
       "    }\n",
       "\n",
       "    .dataframe tbody tr th {\n",
       "        vertical-align: top;\n",
       "    }\n",
       "\n",
       "    .dataframe thead th {\n",
       "        text-align: right;\n",
       "    }\n",
       "</style>\n",
       "<table border=\"1\" class=\"dataframe\">\n",
       "  <thead>\n",
       "    <tr style=\"text-align: right;\">\n",
       "      <th></th>\n",
       "      <th>MIRA_SR</th>\n",
       "      <th>T2CEP</th>\n",
       "      <th>RRAB</th>\n",
       "      <th>RRC</th>\n",
       "      <th>RRD</th>\n",
       "      <th>DSCT_SXPHE</th>\n",
       "    </tr>\n",
       "  </thead>\n",
       "  <tbody>\n",
       "    <tr>\n",
       "      <th>precision</th>\n",
       "      <td>0.019725</td>\n",
       "      <td>0.0</td>\n",
       "      <td>0.020027</td>\n",
       "      <td>0.003366</td>\n",
       "      <td>0.0</td>\n",
       "      <td>0.120108</td>\n",
       "    </tr>\n",
       "    <tr>\n",
       "      <th>recall</th>\n",
       "      <td>0.024112</td>\n",
       "      <td>0.0</td>\n",
       "      <td>0.053500</td>\n",
       "      <td>0.065750</td>\n",
       "      <td>0.0</td>\n",
       "      <td>0.006562</td>\n",
       "    </tr>\n",
       "    <tr>\n",
       "      <th>f1-score</th>\n",
       "      <td>0.004256</td>\n",
       "      <td>0.0</td>\n",
       "      <td>0.016993</td>\n",
       "      <td>0.021937</td>\n",
       "      <td>0.0</td>\n",
       "      <td>0.012557</td>\n",
       "    </tr>\n",
       "    <tr>\n",
       "      <th>support</th>\n",
       "      <td>0.000000</td>\n",
       "      <td>0.0</td>\n",
       "      <td>0.000000</td>\n",
       "      <td>0.000000</td>\n",
       "      <td>0.0</td>\n",
       "      <td>0.000000</td>\n",
       "    </tr>\n",
       "  </tbody>\n",
       "</table>\n",
       "</div>"
      ],
      "text/plain": [
       "            MIRA_SR  T2CEP      RRAB       RRC  RRD  DSCT_SXPHE\n",
       "precision  0.019725    0.0  0.020027  0.003366  0.0    0.120108\n",
       "recall     0.024112    0.0  0.053500  0.065750  0.0    0.006562\n",
       "f1-score   0.004256    0.0  0.016993  0.021937  0.0    0.012557\n",
       "support    0.000000    0.0  0.000000  0.000000  0.0    0.000000"
      ]
     },
     "metadata": {},
     "output_type": "display_data"
    },
    {
     "data": {
      "text/html": [
       "<div>\n",
       "<style scoped>\n",
       "    .dataframe tbody tr th:only-of-type {\n",
       "        vertical-align: middle;\n",
       "    }\n",
       "\n",
       "    .dataframe tbody tr th {\n",
       "        vertical-align: top;\n",
       "    }\n",
       "\n",
       "    .dataframe thead th {\n",
       "        text-align: right;\n",
       "    }\n",
       "</style>\n",
       "<table border=\"1\" class=\"dataframe\">\n",
       "  <thead>\n",
       "    <tr style=\"text-align: right;\">\n",
       "      <th></th>\n",
       "      <th>MIRA_SR</th>\n",
       "      <th>T2CEP</th>\n",
       "      <th>RRAB</th>\n",
       "      <th>RRC</th>\n",
       "      <th>RRD</th>\n",
       "      <th>DSCT_SXPHE</th>\n",
       "    </tr>\n",
       "  </thead>\n",
       "  <tbody>\n",
       "    <tr>\n",
       "      <th>precision</th>\n",
       "      <td>0.004943</td>\n",
       "      <td>0.0</td>\n",
       "      <td>0.003615</td>\n",
       "      <td>0.017595</td>\n",
       "      <td>0.0</td>\n",
       "      <td>0.230769</td>\n",
       "    </tr>\n",
       "    <tr>\n",
       "      <th>recall</th>\n",
       "      <td>0.002538</td>\n",
       "      <td>0.0</td>\n",
       "      <td>0.088250</td>\n",
       "      <td>0.054000</td>\n",
       "      <td>0.0</td>\n",
       "      <td>0.002625</td>\n",
       "    </tr>\n",
       "    <tr>\n",
       "      <th>f1-score</th>\n",
       "      <td>0.002919</td>\n",
       "      <td>0.0</td>\n",
       "      <td>0.071487</td>\n",
       "      <td>0.011041</td>\n",
       "      <td>0.0</td>\n",
       "      <td>0.005236</td>\n",
       "    </tr>\n",
       "    <tr>\n",
       "      <th>support</th>\n",
       "      <td>0.000000</td>\n",
       "      <td>0.0</td>\n",
       "      <td>0.000000</td>\n",
       "      <td>0.000000</td>\n",
       "      <td>0.0</td>\n",
       "      <td>0.000000</td>\n",
       "    </tr>\n",
       "  </tbody>\n",
       "</table>\n",
       "</div>"
      ],
      "text/plain": [
       "            MIRA_SR  T2CEP      RRAB       RRC  RRD  DSCT_SXPHE\n",
       "precision  0.004943    0.0  0.003615  0.017595  0.0    0.230769\n",
       "recall     0.002538    0.0  0.088250  0.054000  0.0    0.002625\n",
       "f1-score   0.002919    0.0  0.071487  0.011041  0.0    0.005236\n",
       "support    0.000000    0.0  0.000000  0.000000  0.0    0.000000"
      ]
     },
     "metadata": {},
     "output_type": "display_data"
    }
   ],
   "source": [
    "label_order = ['MIRA_SR', 'T2CEP', 'RRAB', 'RRC', 'RRD', 'DSCT_SXPHE']\n",
    "median, delta_up, delta_down = plot.obtain_accumulated_metrics(reports, metric='median', label_order=label_order)\n",
    "display(median)\n",
    "display(delta_up)\n",
    "display(delta_down)"
   ]
  },
  {
   "cell_type": "code",
   "execution_count": 5,
   "id": "65a19447",
   "metadata": {},
   "outputs": [
    {
     "data": {
      "text/plain": [
       "(0.6020912547528517, 0.5991852254209667)"
      ]
     },
     "execution_count": 5,
     "metadata": {},
     "output_type": "execute_result"
    }
   ],
   "source": [
    "accuracies = [reports[i]['accuracy'] for i in range(len(reports))]\n",
    "np.median(accuracies), np.mean(accuracies)"
   ]
  },
  {
   "cell_type": "code",
   "execution_count": null,
   "id": "950c7a63",
   "metadata": {},
   "outputs": [],
   "source": []
  }
 ],
 "metadata": {
  "kernelspec": {
   "display_name": "Python 3 (ipykernel)",
   "language": "python",
   "name": "python3"
  },
  "language_info": {
   "codemirror_mode": {
    "name": "ipython",
    "version": 3
   },
   "file_extension": ".py",
   "mimetype": "text/x-python",
   "name": "python",
   "nbconvert_exporter": "python",
   "pygments_lexer": "ipython3",
   "version": "3.10.12"
  }
 },
 "nbformat": 4,
 "nbformat_minor": 5
}
