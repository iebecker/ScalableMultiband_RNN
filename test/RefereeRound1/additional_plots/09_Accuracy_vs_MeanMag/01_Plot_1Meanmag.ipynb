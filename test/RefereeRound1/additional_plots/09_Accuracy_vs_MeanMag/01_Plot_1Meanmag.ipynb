{
 "cells": [
  {
   "cell_type": "code",
   "execution_count": 1,
   "id": "5d0bab6c-05be-470a-a103-ab3512aa5dea",
   "metadata": {
    "tags": []
   },
   "outputs": [],
   "source": [
    "import pandas as pd\n",
    "import numpy as np\n",
    "from glob import glob\n",
    "import matplotlib.pyplot as plt\n",
    "import tensorflow as tf\n",
    "import os, sys\n",
    "sys.path.append('/home/ibecker/Dropbox/MyPythonClasses/FinalClass/')\n",
    "\n",
    "import Classifier.Model_53.Multiband_53 as multiband\n",
    "import BaseClass.plot_v2 as plot\n",
    "from sklearn.metrics import f1_score"
   ]
  },
  {
   "cell_type": "code",
   "execution_count": 2,
   "id": "7c138d38-4dea-40f5-827e-a5443b987aa9",
   "metadata": {
    "tags": []
   },
   "outputs": [
    {
     "name": "stderr",
     "output_type": "stream",
     "text": [
      "2023-05-03 14:28:59.136096: I tensorflow/stream_executor/cuda/cuda_gpu_executor.cc:939] successful NUMA node read from SysFS had negative value (-1), but there must be at least one NUMA node, so returning NUMA node zero\n",
      "2023-05-03 14:28:59.136326: I tensorflow/stream_executor/cuda/cuda_gpu_executor.cc:939] successful NUMA node read from SysFS had negative value (-1), but there must be at least one NUMA node, so returning NUMA node zero\n",
      "2023-05-03 14:28:59.140918: I tensorflow/stream_executor/cuda/cuda_gpu_executor.cc:939] successful NUMA node read from SysFS had negative value (-1), but there must be at least one NUMA node, so returning NUMA node zero\n",
      "2023-05-03 14:28:59.141108: I tensorflow/stream_executor/cuda/cuda_gpu_executor.cc:939] successful NUMA node read from SysFS had negative value (-1), but there must be at least one NUMA node, so returning NUMA node zero\n",
      "2023-05-03 14:28:59.141277: I tensorflow/stream_executor/cuda/cuda_gpu_executor.cc:939] successful NUMA node read from SysFS had negative value (-1), but there must be at least one NUMA node, so returning NUMA node zero\n",
      "2023-05-03 14:28:59.141439: I tensorflow/stream_executor/cuda/cuda_gpu_executor.cc:939] successful NUMA node read from SysFS had negative value (-1), but there must be at least one NUMA node, so returning NUMA node zero\n"
     ]
    }
   ],
   "source": [
    "# To reset cuda\n",
    "# sudo rmmod nvidia_uvm\n",
    "# sudo modprobe nvidia_uvm\n",
    "# To see if the system regognises the GPU\n",
    "device = 0\n",
    "devices = tf.config.experimental.list_physical_devices('GPU')\n",
    "tf.config.set_visible_devices(devices[device], 'GPU')\n",
    "tf.config.experimental.set_memory_growth(device=devices[device], enable=True)\n"
   ]
  },
  {
   "cell_type": "markdown",
   "id": "79c18cf7-cc08-46b6-a020-1f4c223038ae",
   "metadata": {},
   "source": [
    "Read the TF-records of the test sets. Compute the mean magnitudes and final classification using the Functional API."
   ]
  },
  {
   "cell_type": "code",
   "execution_count": 3,
   "id": "680de86a-c454-4507-9fb9-5eaec7a0ee28",
   "metadata": {
    "tags": []
   },
   "outputs": [
    {
     "data": {
      "text/plain": [
       "['../03_Train_Models/Gaia/Results/Fold_1',\n",
       " '../03_Train_Models/Gaia/Results/Fold_2',\n",
       " '../03_Train_Models/Gaia/Results/Fold_3',\n",
       " '../03_Train_Models/Gaia/Results/Fold_4',\n",
       " '../03_Train_Models/Gaia/Results/Fold_5',\n",
       " '../03_Train_Models/Gaia/Results/Fold_6',\n",
       " '../03_Train_Models/Gaia/Results/Fold_7']"
      ]
     },
     "execution_count": 3,
     "metadata": {},
     "output_type": "execute_result"
    }
   ],
   "source": [
    "survey = 'Gaia'\n",
    "label_order = ['CEP', 'T2CEP', 'MIRA_SR','RRAB', 'RRC', 'DSCT_SXPHE']\n",
    "\n",
    "path = os.path.join('../03_Train_Models/', survey, 'Results/Fold_*',)\n",
    "folds = glob(path)\n",
    "folds.sort()\n",
    "folds"
   ]
  },
  {
   "cell_type": "code",
   "execution_count": 4,
   "id": "58ce165d-def1-4f98-aa4f-7384a911d50c",
   "metadata": {
    "tags": []
   },
   "outputs": [],
   "source": [
    "folder_name = 'Results'"
   ]
  },
  {
   "cell_type": "code",
   "execution_count": 5,
   "id": "dd0a9c55-a613-4977-a6d5-7f7f098e5251",
   "metadata": {
    "tags": []
   },
   "outputs": [
    {
     "name": "stderr",
     "output_type": "stream",
     "text": [
      "2023-05-03 14:28:59.748667: I tensorflow/core/platform/cpu_feature_guard.cc:151] This TensorFlow binary is optimized with oneAPI Deep Neural Network Library (oneDNN) to use the following CPU instructions in performance-critical operations:  AVX2 FMA\n",
      "To enable them in other operations, rebuild TensorFlow with the appropriate compiler flags.\n",
      "2023-05-03 14:28:59.750047: I tensorflow/stream_executor/cuda/cuda_gpu_executor.cc:939] successful NUMA node read from SysFS had negative value (-1), but there must be at least one NUMA node, so returning NUMA node zero\n",
      "2023-05-03 14:28:59.750771: I tensorflow/stream_executor/cuda/cuda_gpu_executor.cc:939] successful NUMA node read from SysFS had negative value (-1), but there must be at least one NUMA node, so returning NUMA node zero\n",
      "2023-05-03 14:28:59.751506: I tensorflow/stream_executor/cuda/cuda_gpu_executor.cc:939] successful NUMA node read from SysFS had negative value (-1), but there must be at least one NUMA node, so returning NUMA node zero\n",
      "2023-05-03 14:29:00.131973: I tensorflow/stream_executor/cuda/cuda_gpu_executor.cc:939] successful NUMA node read from SysFS had negative value (-1), but there must be at least one NUMA node, so returning NUMA node zero\n",
      "2023-05-03 14:29:00.132156: I tensorflow/stream_executor/cuda/cuda_gpu_executor.cc:939] successful NUMA node read from SysFS had negative value (-1), but there must be at least one NUMA node, so returning NUMA node zero\n",
      "2023-05-03 14:29:00.132310: I tensorflow/stream_executor/cuda/cuda_gpu_executor.cc:939] successful NUMA node read from SysFS had negative value (-1), but there must be at least one NUMA node, so returning NUMA node zero\n",
      "2023-05-03 14:29:00.132438: I tensorflow/core/common_runtime/gpu/gpu_device.cc:1525] Created device /job:localhost/replica:0/task:0/device:GPU:0 with 5962 MB memory:  -> device: 0, name: NVIDIA GeForce RTX 2080 SUPER, pci bus id: 0000:01:00.0, compute capability: 7.5\n"
     ]
    },
    {
     "name": "stdout",
     "output_type": "stream",
     "text": [
      "../02_Create_Records/Gaia/Folds/Fold_1/test/*.tfrecord\n"
     ]
    },
    {
     "name": "stderr",
     "output_type": "stream",
     "text": [
      "2023-05-03 14:29:09.338673: I tensorflow/stream_executor/cuda/cuda_dnn.cc:366] Loaded cuDNN version 8101\n"
     ]
    },
    {
     "name": "stdout",
     "output_type": "stream",
     "text": [
      "              precision    recall  f1-score   support\n",
      "\n",
      "         CEP       0.71      0.77      0.74      1166\n",
      "  DSCT_SXPHE       0.78      0.58      0.67       680\n",
      "     MIRA_SR       1.00      1.00      1.00      8000\n",
      "        RRAB       0.86      0.91      0.89      8000\n",
      "         RRC       0.79      0.71      0.75      3451\n",
      "       T2CEP       0.64      0.52      0.57       236\n",
      "\n",
      "    accuracy                           0.89     21533\n",
      "   macro avg       0.80      0.75      0.77     21533\n",
      "weighted avg       0.89      0.89      0.89     21533\n",
      "\n"
     ]
    }
   ],
   "source": [
    "# Containers to store the results\n",
    "reports_folds = []\n",
    "cm_folds = []\n",
    "for fold in folds:\n",
    "    tf.keras.backend.clear_session()\n",
    "    # Set the fold path\n",
    "    base_dir = fold+'/'\n",
    "    \n",
    "    # Get the last run\n",
    "    path_runs_folder = os.path.join(base_dir, 'Models', '*')\n",
    "    path_runs = glob(path_runs_folder)\n",
    "    path_runs.sort()\n",
    "    path_run = path_runs[-1]    \n",
    "    \n",
    "    path_preprocess = fold.replace('/03_Train_Models/', '/02_Create_Records/').replace('/'+folder_name+'/', '/Folds/')\n",
    "    test_files = os.path.join(path_preprocess, 'test/*.tfrecord')\n",
    "    path_preprocess = os.path.join(path_preprocess, 'metadata_preprocess.json')    \n",
    "\n",
    "    \n",
    "    new = multiband.Network()    \n",
    "    settings_path = os.path.join(path_run, 'all_settings.json')\n",
    "\n",
    "    fold_name = fold.split('/')[-1]\n",
    "    write_path = os.path.join('./'+folder_name, fold_name+'_Results.dat')\n",
    "    \n",
    "    # Get weights path\n",
    "    run = path_run.split('/')[-1]\n",
    "    weights_path = os.path.join(fold, 'Models', run)\n",
    "    new.run_test(settings_path, test_files, weights_path, df_paths = None);\n",
    "\n",
    "    break"
   ]
  },
  {
   "cell_type": "markdown",
   "id": "98ae7833-96a0-426e-ba4d-0b8624711a73",
   "metadata": {
    "tags": []
   },
   "source": [
    "# Get the mean magnitude output"
   ]
  },
  {
   "cell_type": "code",
   "execution_count": 21,
   "id": "4d9e12f8-915d-418b-a89f-258d4b39729f",
   "metadata": {
    "tags": []
   },
   "outputs": [],
   "source": [
    "mean_mags = {i:[] for i in range(new.n_bands)}\n",
    "Ns =  {i:[] for i in range(new.n_bands)}\n",
    "y_pred = []\n",
    "y_true = []\n",
    "IDs = []\n",
    "\n",
    "# For each band\n",
    "for b in range(new.n_bands):\n",
    "    # Extract a model to get the mean magnitudes\n",
    "    layers = new.models[b].layers\n",
    "    layer_name = [i.name for i in layers if 'MeanMag_' in i.name][0]\n",
    "    intermediate_layer_model = tf.keras.Model(inputs=new.models[b].input,\n",
    "                                 outputs=new.models[b].get_layer(layer_name).output)   \n",
    "    # For each batch in the dataset, extract the information\n",
    "    for batch in new.dataset_test:\n",
    "        # Mean magnitudes\n",
    "        mean_mag = intermediate_layer_model(batch[0])\n",
    "        mean_mag = tf.expand_dims(mean_mag, 2)\n",
    "\n",
    "        # Number of observations\n",
    "        Ns[b].append(batch[0]['N_'+str(b)])\n",
    "        # Get the last relevant  mean magnitude\n",
    "        mean_mags[b].append(multiband.LastRelevantLayer()(mean_mag, batch[0]['N_'+str(b)]))\n",
    "        \n",
    "        # Get the final prediction only for one band\n",
    "        if b==0:\n",
    "            y_pred.append(new.model_central(batch[0])['FinalClass'])\n",
    "            # Ground truth\n",
    "            y_true.append(batch[1]['Class'])\n",
    "            # IDs\n",
    "            IDs.append(batch[0]['ID'])\n",
    "    # Concatenate all the batches\n",
    "    mean_mags[b] = tf.concat(mean_mags[b], axis=0).numpy()\n",
    "    Ns[b] = tf.concat(Ns[b], axis=0).numpy()\n",
    "IDs = tf.concat(IDs, axis=0).numpy()\n",
    "y_pred = tf.concat(y_pred, axis=0).numpy()\n",
    "y_true = tf.concat(y_true, axis=0).numpy()\n",
    "    "
   ]
  },
  {
   "cell_type": "code",
   "execution_count": 60,
   "id": "3281ace9-ac97-4720-850c-64f1cf06557a",
   "metadata": {
    "tags": []
   },
   "outputs": [],
   "source": [
    "RNN_results = pd.DataFrame(np.array([IDs,y_true.argmax(axis=1), y_pred.argmax(axis=1)]).transpose(), columns=['ID', 'Class', 'RNN_Pred'])\n",
    "RNN_results.ID=RNN_results.ID.str.decode(encoding='UTF-8').astype(int)\n",
    "RNN_results = RNN_results.set_index('ID')\n",
    "\n",
    "var_dict = {}\n",
    "for b in range(new.n_bands):\n",
    "    var_dict['MeanMag_'+str(b)]=mean_mags[b]\n",
    "RNN_results = RNN_results.assign(**var_dict)\n",
    "\n",
    "RNN_results.Class = RNN_results.Class.astype(int)\n",
    "RNN_results.RNN_Pred = RNN_results.RNN_Pred.astype(int)"
   ]
  },
  {
   "cell_type": "markdown",
   "id": "183d5314-f349-4561-bae2-27023de98468",
   "metadata": {},
   "source": [
    "## Extract RF results"
   ]
  },
  {
   "cell_type": "code",
   "execution_count": 61,
   "id": "b014ceff-0a2c-4400-a746-95f2179915d0",
   "metadata": {
    "tags": []
   },
   "outputs": [],
   "source": [
    "# Extract the RF results\n",
    "path_rf = '../../../../../RandomForestBaseline/Compute_TurboFATS_v2/'+survey+'/Results/*.dat'\n",
    "folds_rf = glob(path_rf)\n",
    "folds_rf.sort()\n",
    "\n",
    "dfs_rf = []\n",
    "for fold in folds_rf:\n",
    "   # Load RF results\n",
    "    pred_rf = pd.read_csv(fold)\n",
    "    pred_rf.rename({'oid':'ID'}, axis=1, inplace=True)\n",
    "    pred_rf.set_index('ID', inplace=True)\n",
    "    break\n",
    "RF_results = pred_rf.rename({'Pred':'RF_Pred'}, axis=1)\n",
    "# Merge to get the same IDs\n",
    "RF_results = pd.merge(RNN_results[['MeanMag_'+str(i) for i in range(new.n_bands)]], RF_results, how='inner', left_index=True, right_index=True)"
   ]
  },
  {
   "cell_type": "markdown",
   "id": "f86dcc56-6d12-4af3-aad1-4133c480f72b",
   "metadata": {},
   "source": [
    "# Define the bins, starting from the default 0.5 mag bins"
   ]
  },
  {
   "cell_type": "code",
   "execution_count": 107,
   "id": "7acbc320-e4cc-4009-b8f2-87f1b489a33e",
   "metadata": {
    "tags": []
   },
   "outputs": [
    {
     "name": "stdout",
     "output_type": "stream",
     "text": [
      "5.0 5.5 0 False\n",
      "5.5 6.0 2 False\n",
      "6.0 6.5 0 False\n",
      "6.5 7.0 1 False\n",
      "7.0 7.5 4 False\n",
      "7.5 8.0 9 False\n",
      "8.0 8.5 10 True\n",
      "8.5 9.0 15 True\n",
      "9.0 9.5 20 True\n",
      "9.5 10.0 28 True\n",
      "10.0 10.5 47 True\n",
      "10.5 11.0 61 True\n",
      "11.0 11.5 84 True\n",
      "11.5 12.0 116 True\n",
      "12.0 12.5 152 True\n",
      "12.5 13.0 246 True\n",
      "13.0 13.5 350 True\n",
      "13.5 14.0 465 True\n",
      "14.0 14.5 617 True\n",
      "14.5 15.0 870 True\n",
      "15.0 15.5 1151 True\n",
      "15.5 16.0 1547 True\n",
      "16.0 16.5 2084 True\n",
      "16.5 17.0 2534 True\n",
      "17.0 17.5 2529 True\n",
      "17.5 18.0 2063 True\n",
      "18.0 18.5 1494 True\n",
      "18.5 19.0 1119 True\n",
      "19.0 19.5 1912 True\n",
      "19.5 20.0 1494 True\n",
      "20.0 20.5 441 True\n",
      "20.5 21.0 66 True\n",
      "21.0 21.5 2 False\n",
      "21.5 22.0 0 False\n",
      "asdf\n",
      "4.0 4.5 3 False\n",
      "4.5 5.0 10 True\n",
      "5.0 5.5 13 True\n",
      "5.5 6.0 10 True\n",
      "6.0 6.5 28 True\n",
      "6.5 7.0 39 True\n",
      "7.0 7.5 63 True\n",
      "7.5 8.0 79 True\n",
      "8.0 8.5 173 True\n",
      "8.5 9.0 193 True\n",
      "9.0 9.5 241 True\n",
      "9.5 10.0 424 True\n",
      "10.0 10.5 562 True\n",
      "10.5 11.0 679 True\n",
      "11.0 11.5 794 True\n",
      "11.5 12.0 925 True\n",
      "12.0 12.5 1016 True\n",
      "12.5 13.0 872 True\n",
      "13.0 13.5 687 True\n",
      "13.5 14.0 622 True\n",
      "14.0 14.5 1022 True\n",
      "14.5 15.0 1146 True\n",
      "15.0 15.5 1348 True\n",
      "15.5 16.0 1511 True\n",
      "16.0 16.5 1592 True\n",
      "16.5 17.0 1526 True\n",
      "17.0 17.5 1316 True\n",
      "17.5 18.0 866 True\n",
      "18.0 18.5 739 True\n",
      "18.5 19.0 1866 True\n",
      "19.0 19.5 908 True\n",
      "19.5 20.0 225 True\n",
      "20.0 20.5 35 True\n",
      "20.5 21.0 0 False\n",
      "asdf\n"
     ]
    }
   ],
   "source": [
    "\n",
    "# Create containers for the results, to be plotted\n",
    "bins = {i:None for i in range(new.n_bands)}\n",
    "# scores_rnn = {i:[] for i in range(new.n_bands)}\n",
    "# scores_rf = {i:[] for i in range(new.n_bands)}\n",
    "remove_bin = {i:[] for i in range(new.n_bands)}\n",
    "\n",
    "for b in range(new.n_bands):\n",
    "    # Compute the bins in magnitude\n",
    "    min_ = np.floor(RNN_results['MeanMag_'+str(b)].min())\n",
    "    max_ = np.ceil(RNN_results['MeanMag_'+str(b)].max())\n",
    "    step = 0.5\n",
    "    bins[b] = np.arange(min_, max_+step, step)\n",
    "    \n",
    "    bin_out_ini = []\n",
    "    bin_out_end = []\n",
    "    # Count the sampels per bin the bins\n",
    "    for i in range(bins[b].shape[0]-1):\n",
    "        bin_ini = bins[b][i]\n",
    "        bin_end = bins[b][i+1]\n",
    "\n",
    "        # Fint the ones in the bin\n",
    "        b_ini = RNN_results['MeanMag_'+str(b)]>bin_ini\n",
    "        b_end = RNN_results['MeanMag_'+str(b)]<=bin_end\n",
    "        b_ = np.logical_and(b_ini, b_end).ravel()\n",
    "\n",
    "        # Count the examples per bin\n",
    "        sel_true = RNN_results[b_]    \n",
    "\n",
    "        # Remove small bins\n",
    "        if sel_true.shape[0]<10:\n",
    "            bin_out_ini.append(False)\n",
    "            remove_bin[b].append(False)\n",
    "        else:\n",
    "            remove_bin[b].append(True)\n",
    "        print(bin_ini, bin_end, sel_true.shape[0], remove_bin[b][-1])\n",
    "    remove_bin[b] = np.array(remove_bin[b])\n",
    "    if remove_bin[b][-1] == False:\n",
    "        print('asdf')\n",
    "        remove_bin[b] = np.concatenate([remove_bin[b], [False]])\n",
    "    else:\n",
    "        remove_bin[b] = np.concatenate([remove_bin[b], [True]])\n",
    "    bins[b] = bins[b][remove_bin[b]]\n",
    "    # break"
   ]
  },
  {
   "cell_type": "code",
   "execution_count": 108,
   "id": "e3b3cae7-09ab-493c-90c1-f039b2d4a5b2",
   "metadata": {
    "tags": []
   },
   "outputs": [],
   "source": [
    "def find_sel(df, ini, end):\n",
    "    # Fint the ones in the bin\n",
    "    b_ini = df['MeanMag_'+str(b)]>ini\n",
    "    b_end = df['MeanMag_'+str(b)]<=end\n",
    "    b_ = np.logical_and(b_ini, b_end).ravel()        \n",
    "    # Count the examples per bin\n",
    "    sel_true = df[b_]  \n",
    "    return sel_true\n",
    "    \n",
    "scores_rnn = {i:[] for i in range(new.n_bands)}\n",
    "scores_rf = {i:[] for i in range(new.n_bands)}\n",
    "for b in range(new.n_bands):\n",
    "    # Count the sampels per bin the bins\n",
    "    for i in range(bins[b].shape[0]-1):\n",
    "        \n",
    "        bin_ini = bins[b][i]\n",
    "        bin_end = bins[b][i+1]\n",
    "\n",
    "        sel_rnn = find_sel(RNN_results, bin_ini, bin_end)\n",
    "        sel_rf = find_sel(RF_results, bin_ini, bin_end)\n",
    "        \n",
    "        f_score_sel_rnn= f1_score(sel_rnn.Class, sel_rnn.RNN_Pred, average='macro')\n",
    "        f_score_sel_rf = f1_score(sel_rf.Class, sel_rf.RF_Pred, average='macro')\n",
    "        \n",
    "        scores_rnn[b].append(f_score_sel_rnn)\n",
    "        scores_rf[b].append(f_score_sel_rf)\n",
    "    scores_rnn[b]= np.array(scores_rnn[b])\n",
    "    scores_rf[b]= np.array(scores_rf[b])"
   ]
  },
  {
   "cell_type": "code",
   "execution_count": 112,
   "id": "cb4a6820-98b7-4ea8-8717-a91485a13f17",
   "metadata": {
    "tags": []
   },
   "outputs": [
    {
     "data": {
      "text/plain": [
       "{0: array([ 8. ,  8.5,  9. ,  9.5, 10. , 10.5, 11. , 11.5, 12. , 12.5, 13. ,\n",
       "        13.5, 14. , 14.5, 15. , 15.5, 16. , 16.5, 17. , 17.5, 18. , 18.5,\n",
       "        19. , 19.5, 20. , 20.5]),\n",
       " 1: array([ 4.5,  5. ,  5.5,  6. ,  6.5,  7. ,  7.5,  8. ,  8.5,  9. ,  9.5,\n",
       "        10. , 10.5, 11. , 11.5, 12. , 12.5, 13. , 13.5, 14. , 14.5, 15. ,\n",
       "        15.5, 16. , 16.5, 17. , 17.5, 18. , 18.5, 19. , 19.5, 20. ])}"
      ]
     },
     "execution_count": 112,
     "metadata": {},
     "output_type": "execute_result"
    }
   ],
   "source": [
    "bins"
   ]
  },
  {
   "cell_type": "code",
   "execution_count": null,
   "id": "f41219bd-54f9-4201-b7d0-0e2b377f9d5d",
   "metadata": {},
   "outputs": [],
   "source": []
  },
  {
   "cell_type": "code",
   "execution_count": null,
   "id": "168ad083-32cf-4b6b-ad63-f9783930862c",
   "metadata": {},
   "outputs": [],
   "source": []
  },
  {
   "cell_type": "code",
   "execution_count": 120,
   "id": "4854d566-4f54-4dfd-a787-ebcd45948a12",
   "metadata": {
    "tags": []
   },
   "outputs": [
    {
     "data": {
      "image/png": "[encoded data removed]",
      "text/plain": [
       "<Figure size 3000x1000 with 1 Axes>"
      ]
     },
     "metadata": {},
     "output_type": "display_data"
    },
    {
     "data": {
      "image/png": "[encoded data removed]",
      "text/plain": [
       "<Figure size 3000x1000 with 1 Axes>"
      ]
     },
     "metadata": {},
     "output_type": "display_data"
    }
   ],
   "source": [
    "\n",
    "offset = {0:-0.25, 1:0.25}\n",
    "for b in range(new.n_bands):\n",
    "    plt.figure(figsize=(15,5), dpi=200)\n",
    "    plt.bar(bins[b][:-1]-0.05, scores_rnn[b], width=0.1, label='RNN Band '+str(b), align='edge')\n",
    "    plt.bar(bins[b][:-1]+0.05, scores_rf[b], width=0.1, label='RF Band '+str(b), align='edge')\n",
    "    # plt.bar(bins[b][:-1]+0.05, scores_rnn[b], width=0.1, label='RNN Band '+str(b), align='edge')\n",
    "    # break\n",
    "    plt.xlabel('Mean Magnitude '+str(b))\n",
    "    plt.ylabel('Macro F Score')\n",
    "    plt.legend(loc=0)\n",
    "    plt.show()"
   ]
  },
  {
   "cell_type": "code",
   "execution_count": 115,
   "id": "ec56cac4-7323-4139-b87e-38cd2ff425db",
   "metadata": {
    "tags": []
   },
   "outputs": [
    {
     "data": {
      "text/plain": [
       "array([ 8. ,  8.5,  9. ,  9.5, 10. , 10.5, 11. , 11.5, 12. , 12.5, 13. ,\n",
       "       13.5, 14. , 14.5, 15. , 15.5, 16. , 16.5, 17. , 17.5, 18. , 18.5,\n",
       "       19. , 19.5, 20. , 20.5])"
      ]
     },
     "execution_count": 115,
     "metadata": {},
     "output_type": "execute_result"
    }
   ],
   "source": [
    "bins[0]"
   ]
  },
  {
   "cell_type": "code",
   "execution_count": null,
   "id": "0f54e180-2b70-4f74-b14c-ba26533ebd5a",
   "metadata": {
    "tags": []
   },
   "outputs": [],
   "source": [
    "N"
   ]
  },
  {
   "cell_type": "code",
   "execution_count": null,
   "id": "02a16365-b553-4cd3-a09a-d8455ee01183",
   "metadata": {},
   "outputs": [],
   "source": []
  },
  {
   "cell_type": "markdown",
   "id": "b647c498-8295-4269-b362-0daf50060f55",
   "metadata": {},
   "source": [
    "Do the same operations as in the model, to get exactly what we want."
   ]
  },
  {
   "cell_type": "code",
   "execution_count": null,
   "id": "7b2f4e08-6e0f-41a8-ac7d-5f515e3a523d",
   "metadata": {
    "tags": []
   },
   "outputs": [],
   "source": [
    "N = batch[0]['N_0'][0].numpy()\n",
    "m0 = batch[0]['M0_0'][0].numpy()\n",
    "data = batch[0]['input_LC_0'][0].numpy()[:N]\n",
    "data"
   ]
  },
  {
   "cell_type": "code",
   "execution_count": null,
   "id": "ccf7d483-af6a-47fa-893c-177b1add66df",
   "metadata": {
    "tags": []
   },
   "outputs": [],
   "source": [
    "tri_lower = np.tril(np.ones([N+1,N+1]),0)\n",
    "\n",
    "# Third column and first delta of the third column\n",
    "data1 = data[:,-1]\n",
    "data0 = data[:1, 2]\n",
    "\n",
    "data_ext = np.concatenate([data0, data1])\n",
    "\n",
    "mags = np.matmul(tri_lower, data_ext)+m0\n",
    "\n",
    "sum_mags = np.matmul(tri_lower, data_ext)+m0\n",
    "\n",
    "sum_mags = sum_mags[1:]\n",
    "\n",
    "N_obs = np.arange(3,N+3)\n",
    "\n",
    "mean_mags_c = tf.divide(sum_mags, N_obs)\n",
    "\n",
    "mean_mags[0]"
   ]
  },
  {
   "cell_type": "markdown",
   "id": "09b4bfc6-e1dd-4e31-8465-68ba9f1033d7",
   "metadata": {},
   "source": [
    "Read the original file, in order to find the exact value"
   ]
  },
  {
   "cell_type": "code",
   "execution_count": null,
   "id": "ffdb9cd4-84ca-482f-8920-c36358a7f067",
   "metadata": {
    "tags": []
   },
   "outputs": [],
   "source": [
    "df_lc = pd.read_csv('/home/Data/Databases/GAIA/Consolidate_Gaia/data_3/LCs/BP_RP_v3/'+batch[0]['ID'][0].numpy().decode()+'.dat')\n",
    "\n",
    "b = df_lc.band==1\n",
    "mags_file = df_lc[b].mag.values\n",
    "\n",
    "\n",
    "for i in range(3,mags_file.shape[0]+1):\n",
    "    print(i, np.round(mags_file[:i].sum()/(i), 6))\n",
    "print('final mean mag ', np.round(mags_file.sum()/mags_file.shape[0], 6))"
   ]
  },
  {
   "cell_type": "code",
   "execution_count": null,
   "id": "875a1a4a-9bf5-469a-a8df-50d0be7be2e5",
   "metadata": {
    "tags": []
   },
   "outputs": [],
   "source": [
    "mean_mag_tf"
   ]
  },
  {
   "cell_type": "code",
   "execution_count": null,
   "id": "d780b03a-7701-47aa-ad1f-8f4c52198382",
   "metadata": {
    "tags": []
   },
   "outputs": [],
   "source": [
    "mean_mag_tf= mean_mags[0].numpy()[:N+4]\n",
    "for i in range(N):\n",
    "    print(i+3, mean_mag_tf[i])\n",
    "print('final mean mag ', mean_mag_tf[N-1]) # N-1 because we count from 0"
   ]
  },
  {
   "cell_type": "code",
   "execution_count": null,
   "id": "bc769738-fe31-4721-ad95-b5ddc52d57a0",
   "metadata": {
    "tags": []
   },
   "outputs": [],
   "source": [
    "batch[0]['input_LC_0'][0].numpy()[:N]"
   ]
  },
  {
   "cell_type": "code",
   "execution_count": null,
   "id": "f2914982-3478-426f-a4ab-f3071d237513",
   "metadata": {},
   "outputs": [],
   "source": []
  }
 ],
 "metadata": {
  "kernelspec": {
   "display_name": "Python 3 (ipykernel)",
   "language": "python",
   "name": "python3"
  },
  "language_info": {
   "codemirror_mode": {
    "name": "ipython",
    "version": 3
   },
   "file_extension": ".py",
   "mimetype": "text/x-python",
   "name": "python",
   "nbconvert_exporter": "python",
   "pygments_lexer": "ipython3",
   "version": "3.8.10"
  }
 },
 "nbformat": 4,
 "nbformat_minor": 5
}
