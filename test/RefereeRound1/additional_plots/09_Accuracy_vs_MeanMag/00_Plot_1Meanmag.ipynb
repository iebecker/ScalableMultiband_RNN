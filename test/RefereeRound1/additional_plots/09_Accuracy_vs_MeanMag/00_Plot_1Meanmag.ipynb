{
 "cells": [
  {
   "cell_type": "code",
   "execution_count": 1,
   "id": "5d0bab6c-05be-470a-a103-ab3512aa5dea",
   "metadata": {
    "tags": []
   },
   "outputs": [],
   "source": [
    "import pandas as pd\n",
    "import numpy as np\n",
    "from glob import glob\n",
    "import matplotlib.pyplot as plt\n",
    "import tensorflow as tf\n",
    "import os, sys\n",
    "sys.path.append('/home/ibecker/Dropbox/MyPythonClasses/FinalClass/')\n",
    "\n",
    "import Classifier.Model_53.Multiband_53 as multiband\n",
    "import BaseClass.plot_v2 as plot"
   ]
  },
  {
   "cell_type": "code",
   "execution_count": 2,
   "id": "7c138d38-4dea-40f5-827e-a5443b987aa9",
   "metadata": {
    "tags": []
   },
   "outputs": [
    {
     "name": "stderr",
     "output_type": "stream",
     "text": [
      "2023-05-02 17:13:23.098023: I tensorflow/stream_executor/cuda/cuda_gpu_executor.cc:939] successful NUMA node read from SysFS had negative value (-1), but there must be at least one NUMA node, so returning NUMA node zero\n",
      "2023-05-02 17:13:23.098555: I tensorflow/stream_executor/cuda/cuda_gpu_executor.cc:939] successful NUMA node read from SysFS had negative value (-1), but there must be at least one NUMA node, so returning NUMA node zero\n",
      "2023-05-02 17:13:23.147434: I tensorflow/stream_executor/cuda/cuda_gpu_executor.cc:939] successful NUMA node read from SysFS had negative value (-1), but there must be at least one NUMA node, so returning NUMA node zero\n",
      "2023-05-02 17:13:23.148134: I tensorflow/stream_executor/cuda/cuda_gpu_executor.cc:939] successful NUMA node read from SysFS had negative value (-1), but there must be at least one NUMA node, so returning NUMA node zero\n",
      "2023-05-02 17:13:23.148950: I tensorflow/stream_executor/cuda/cuda_gpu_executor.cc:939] successful NUMA node read from SysFS had negative value (-1), but there must be at least one NUMA node, so returning NUMA node zero\n",
      "2023-05-02 17:13:23.149914: I tensorflow/stream_executor/cuda/cuda_gpu_executor.cc:939] successful NUMA node read from SysFS had negative value (-1), but there must be at least one NUMA node, so returning NUMA node zero\n"
     ]
    }
   ],
   "source": [
    "# To reset cuda\n",
    "# sudo rmmod nvidia_uvm\n",
    "# sudo modprobe nvidia_uvm\n",
    "# To see if the system regognises the GPU\n",
    "device = 0\n",
    "devices = tf.config.experimental.list_physical_devices('GPU')\n",
    "tf.config.set_visible_devices(devices[device], 'GPU')\n",
    "tf.config.experimental.set_memory_growth(device=devices[device], enable=True)\n"
   ]
  },
  {
   "cell_type": "markdown",
   "id": "79c18cf7-cc08-46b6-a020-1f4c223038ae",
   "metadata": {},
   "source": [
    "Read the TF-records of the test sets. Compute the mean magnitudes and final classification using the Functional API."
   ]
  },
  {
   "cell_type": "code",
   "execution_count": 3,
   "id": "680de86a-c454-4507-9fb9-5eaec7a0ee28",
   "metadata": {
    "tags": []
   },
   "outputs": [
    {
     "data": {
      "text/plain": [
       "['../03_Train_Models/Gaia/Results/Fold_1',\n",
       " '../03_Train_Models/Gaia/Results/Fold_2',\n",
       " '../03_Train_Models/Gaia/Results/Fold_3',\n",
       " '../03_Train_Models/Gaia/Results/Fold_4',\n",
       " '../03_Train_Models/Gaia/Results/Fold_5',\n",
       " '../03_Train_Models/Gaia/Results/Fold_6',\n",
       " '../03_Train_Models/Gaia/Results/Fold_7']"
      ]
     },
     "execution_count": 3,
     "metadata": {},
     "output_type": "execute_result"
    }
   ],
   "source": [
    "survey = 'Gaia'\n",
    "label_order = ['CEP', 'T2CEP', 'MIRA_SR','RRAB', 'RRC', 'DSCT_SXPHE']\n",
    "\n",
    "path = os.path.join('../03_Train_Models/', survey, 'Results/Fold_*',)\n",
    "folds = glob(path)\n",
    "folds.sort()\n",
    "folds"
   ]
  },
  {
   "cell_type": "code",
   "execution_count": 4,
   "id": "58ce165d-def1-4f98-aa4f-7384a911d50c",
   "metadata": {
    "tags": []
   },
   "outputs": [],
   "source": [
    "folder_name = 'Results'"
   ]
  },
  {
   "cell_type": "code",
   "execution_count": 5,
   "id": "dd0a9c55-a613-4977-a6d5-7f7f098e5251",
   "metadata": {
    "tags": []
   },
   "outputs": [
    {
     "name": "stdout",
     "output_type": "stream",
     "text": [
      "../02_Create_Records/Gaia/Folds/Fold_1/test/*.tfrecord\n"
     ]
    },
    {
     "name": "stderr",
     "output_type": "stream",
     "text": [
      "2023-05-02 17:13:23.658398: I tensorflow/core/platform/cpu_feature_guard.cc:151] This TensorFlow binary is optimized with oneAPI Deep Neural Network Library (oneDNN) to use the following CPU instructions in performance-critical operations:  AVX2 FMA\n",
      "To enable them in other operations, rebuild TensorFlow with the appropriate compiler flags.\n",
      "2023-05-02 17:13:23.660167: I tensorflow/stream_executor/cuda/cuda_gpu_executor.cc:939] successful NUMA node read from SysFS had negative value (-1), but there must be at least one NUMA node, so returning NUMA node zero\n",
      "2023-05-02 17:13:23.660946: I tensorflow/stream_executor/cuda/cuda_gpu_executor.cc:939] successful NUMA node read from SysFS had negative value (-1), but there must be at least one NUMA node, so returning NUMA node zero\n",
      "2023-05-02 17:13:23.661537: I tensorflow/stream_executor/cuda/cuda_gpu_executor.cc:939] successful NUMA node read from SysFS had negative value (-1), but there must be at least one NUMA node, so returning NUMA node zero\n",
      "2023-05-02 17:13:24.558549: I tensorflow/stream_executor/cuda/cuda_gpu_executor.cc:939] successful NUMA node read from SysFS had negative value (-1), but there must be at least one NUMA node, so returning NUMA node zero\n",
      "2023-05-02 17:13:24.558736: I tensorflow/stream_executor/cuda/cuda_gpu_executor.cc:939] successful NUMA node read from SysFS had negative value (-1), but there must be at least one NUMA node, so returning NUMA node zero\n",
      "2023-05-02 17:13:24.558877: I tensorflow/stream_executor/cuda/cuda_gpu_executor.cc:939] successful NUMA node read from SysFS had negative value (-1), but there must be at least one NUMA node, so returning NUMA node zero\n",
      "2023-05-02 17:13:24.559372: I tensorflow/core/common_runtime/gpu/gpu_device.cc:1525] Created device /job:localhost/replica:0/task:0/device:GPU:0 with 5964 MB memory:  -> device: 0, name: NVIDIA GeForce RTX 2080 SUPER, pci bus id: 0000:01:00.0, compute capability: 7.5\n",
      "2023-05-02 17:13:34.584182: I tensorflow/stream_executor/cuda/cuda_dnn.cc:366] Loaded cuDNN version 8101\n"
     ]
    },
    {
     "name": "stdout",
     "output_type": "stream",
     "text": [
      "              precision    recall  f1-score   support\n",
      "\n",
      "         CEP       0.71      0.77      0.74      1166\n",
      "  DSCT_SXPHE       0.78      0.58      0.67       680\n",
      "     MIRA_SR       1.00      1.00      1.00      8000\n",
      "        RRAB       0.86      0.91      0.89      8000\n",
      "         RRC       0.79      0.71      0.75      3451\n",
      "       T2CEP       0.64      0.52      0.57       236\n",
      "\n",
      "    accuracy                           0.89     21533\n",
      "   macro avg       0.80      0.75      0.77     21533\n",
      "weighted avg       0.89      0.89      0.89     21533\n",
      "\n"
     ]
    }
   ],
   "source": [
    "# Containers to store the results\n",
    "reports_folds = []\n",
    "cm_folds = []\n",
    "for fold in folds:\n",
    "    tf.keras.backend.clear_session()\n",
    "    # Set the fold path\n",
    "    base_dir = fold+'/'\n",
    "    \n",
    "    # Get the last run\n",
    "    path_runs_folder = os.path.join(base_dir, 'Models', '*')\n",
    "    path_runs = glob(path_runs_folder)\n",
    "    path_runs.sort()\n",
    "    path_run = path_runs[-1]    \n",
    "    \n",
    "    path_preprocess = fold.replace('/03_Train_Models/', '/02_Create_Records/').replace('/'+folder_name+'/', '/Folds/')\n",
    "    test_files = os.path.join(path_preprocess, 'test/*.tfrecord')\n",
    "    path_preprocess = os.path.join(path_preprocess, 'metadata_preprocess.json')    \n",
    "\n",
    "    \n",
    "    new = multiband.Network()    \n",
    "    settings_path = os.path.join(path_run, 'all_settings.json')\n",
    "\n",
    "    fold_name = fold.split('/')[-1]\n",
    "    write_path = os.path.join('./'+folder_name, fold_name+'_Results.dat')\n",
    "    \n",
    "    # Get weights path\n",
    "    run = path_run.split('/')[-1]\n",
    "    weights_path = os.path.join(fold, 'Models', run)\n",
    "    new.run_test(settings_path, test_files, weights_path, df_paths = None);\n",
    "    \n",
    "#     result_path = os.path.join('./'+folder_name, fold.split('/')[-1]+'_Results.dat')\n",
    "    \n",
    "#     # From the results file, read the data and compute the classification scores\n",
    "#     report_fold = plot.compute_classification_report(result_path)\n",
    "#     reports_folds.append(report_fold)\n",
    "#     # From the results file, read the data and compute the confussion matrix and the respective  labels \n",
    "#     cm_fold = plot.compute_confussion_matrices(result_path, labels=label_order)\n",
    "#     cm_folds.append(cm_fold)\n",
    "    break"
   ]
  },
  {
   "cell_type": "code",
   "execution_count": 6,
   "id": "4d9e12f8-915d-418b-a89f-258d4b39729f",
   "metadata": {
    "tags": []
   },
   "outputs": [],
   "source": [
    "for batch in new.dataset_test:\n",
    "    break"
   ]
  },
  {
   "cell_type": "markdown",
   "id": "98ae7833-96a0-426e-ba4d-0b8624711a73",
   "metadata": {
    "tags": []
   },
   "source": [
    "Get the mean magnitude output"
   ]
  },
  {
   "cell_type": "code",
   "execution_count": 10,
   "id": "27fe1baa-4eab-4d06-b9cb-75b96cf1c5f2",
   "metadata": {
    "tags": []
   },
   "outputs": [],
   "source": [
    "layers = new.models[0].layers\n",
    "layer_name = layers[-2].name\n",
    "intermediate_layer_model = tf.keras.Model(inputs=new.models[0].input,\n",
    "                                 outputs=new.models[0].get_layer(layer_name).output)\n",
    "mean_mags = intermediate_layer_model(batch[0])"
   ]
  },
  {
   "cell_type": "markdown",
   "id": "a0609665-8df0-4f2e-8cd7-8349b08e055d",
   "metadata": {
    "tags": []
   },
   "source": [
    "Print the first example, as a sample. Not that the padding makes the entire array full."
   ]
  },
  {
   "cell_type": "code",
   "execution_count": 32,
   "id": "fba91c02-db78-40cc-992f-a712195b26fe",
   "metadata": {
    "tags": []
   },
   "outputs": [
    {
     "data": {
      "text/plain": [
       "array([18.545557, 18.530783, 18.514545, 18.491264, 18.357082, 18.34712 ,\n",
       "       18.324821, 18.349573, 18.287626, 18.26964 , 18.292418, 18.31194 ,\n",
       "       18.32886 , 18.343664, 18.356728, 18.36834 , 18.378729, 18.388079,\n",
       "       18.39654 , 18.40423 , 18.411253, 18.41769 , 18.423613, 18.42908 ,\n",
       "       18.43414 , 18.438839, 18.443214, 18.447298, 18.451118, 18.4547  ,\n",
       "       18.458065, 18.461231, 18.464218, 18.467037, 18.469706, 18.472235,\n",
       "       18.47463 , 18.47691 , 18.479076, 18.48114 , 18.483107, 18.484985,\n",
       "       18.48678 , 18.488497, 18.490139, 18.491714, 18.493225, 18.494675,\n",
       "       18.496069, 18.497408, 18.498697, 18.499939, 18.501135, 18.502289,\n",
       "       18.503403, 18.504477, 18.505516, 18.506521, 18.50749 , 18.50843 ,\n",
       "       18.509342, 18.510221, 18.511074, 18.511902, 18.512707, 18.513485,\n",
       "       18.514244, 18.51498 , 18.515694, 18.51639 , 18.517065, 18.517723,\n",
       "       18.518364, 18.518988, 18.519594, 18.520187, 18.520763, 18.521328,\n",
       "       18.521875, 18.522411, 18.522934, 18.523443, 18.523941, 18.524427,\n",
       "       18.524902, 18.525366, 18.52582 , 18.526262, 18.526697, 18.52712 ,\n",
       "       18.527534, 18.52794 , 18.528337, 18.528727, 18.529108, 18.529482,\n",
       "       18.529846, 18.530207, 18.53056 , 18.530903, 18.531242, 18.531572,\n",
       "       18.531898, 18.532219, 18.532532, 18.53284 , 18.533142, 18.53344 ],\n",
       "      dtype=float32)"
      ]
     },
     "execution_count": 32,
     "metadata": {},
     "output_type": "execute_result"
    }
   ],
   "source": [
    "mean_mags.numpy()[0]"
   ]
  },
  {
   "cell_type": "markdown",
   "id": "b647c498-8295-4269-b362-0daf50060f55",
   "metadata": {},
   "source": [
    "Do the same operations as in the model, to get exactly what we want."
   ]
  },
  {
   "cell_type": "code",
   "execution_count": 33,
   "id": "7b2f4e08-6e0f-41a8-ac7d-5f515e3a523d",
   "metadata": {
    "tags": []
   },
   "outputs": [
    {
     "data": {
      "text/plain": [
       "array([[ 1.4008764 ,  1.830699  ,  0.49304435, -0.72241086],\n",
       "       [ 1.830699  ,  1.4313586 , -0.72241086,  0.2581554 ],\n",
       "       [ 1.4313586 ,  1.8500041 ,  0.2581554 , -0.03686545],\n",
       "       [ 1.8500041 ,  1.4696567 , -0.03686545, -0.07472663],\n",
       "       [ 1.4696567 ,  1.7681835 , -0.07472663, -0.82287806],\n",
       "       [ 1.7681835 ,  1.6156642 , -0.82287806,  0.72539264],\n",
       "       [ 1.6156642 ,  1.2827781 ,  0.72539264, -0.13093238],\n",
       "       [ 1.2827781 ,  1.8092461 , -0.13093238,  0.4258857 ],\n",
       "       [ 1.8092461 ,  1.4851803 ,  0.4258857 , -0.9041752 ],\n",
       "       [ 1.4851803 ,  1.576728  , -0.9041752 ,  0.40365925],\n",
       "       [ 1.576728  ,  1.4341837 ,  0.40365925,  0.49392572]],\n",
       "      dtype=float32)"
      ]
     },
     "execution_count": 33,
     "metadata": {},
     "output_type": "execute_result"
    }
   ],
   "source": [
    "N = batch[0]['N_0'][0].numpy()\n",
    "m0 = batch[0]['M0_0'][0].numpy()\n",
    "data = batch[0]['input_LC_0'][0].numpy()[:N]\n",
    "data"
   ]
  },
  {
   "cell_type": "code",
   "execution_count": 39,
   "id": "ccf7d483-af6a-47fa-893c-177b1add66df",
   "metadata": {
    "tags": []
   },
   "outputs": [
    {
     "data": {
      "text/plain": [
       "<tf.Tensor: shape=(108,), dtype=float32, numpy=\n",
       "array([18.545557, 18.530783, 18.514545, 18.491264, 18.357082, 18.34712 ,\n",
       "       18.324821, 18.349573, 18.287626, 18.26964 , 18.292418, 18.31194 ,\n",
       "       18.32886 , 18.343664, 18.356728, 18.36834 , 18.378729, 18.388079,\n",
       "       18.39654 , 18.40423 , 18.411253, 18.41769 , 18.423613, 18.42908 ,\n",
       "       18.43414 , 18.438839, 18.443214, 18.447298, 18.451118, 18.4547  ,\n",
       "       18.458065, 18.461231, 18.464218, 18.467037, 18.469706, 18.472235,\n",
       "       18.47463 , 18.47691 , 18.479076, 18.48114 , 18.483107, 18.484985,\n",
       "       18.48678 , 18.488497, 18.490139, 18.491714, 18.493225, 18.494675,\n",
       "       18.496069, 18.497408, 18.498697, 18.499939, 18.501135, 18.502289,\n",
       "       18.503403, 18.504477, 18.505516, 18.506521, 18.50749 , 18.50843 ,\n",
       "       18.509342, 18.510221, 18.511074, 18.511902, 18.512707, 18.513485,\n",
       "       18.514244, 18.51498 , 18.515694, 18.51639 , 18.517065, 18.517723,\n",
       "       18.518364, 18.518988, 18.519594, 18.520187, 18.520763, 18.521328,\n",
       "       18.521875, 18.522411, 18.522934, 18.523443, 18.523941, 18.524427,\n",
       "       18.524902, 18.525366, 18.52582 , 18.526262, 18.526697, 18.52712 ,\n",
       "       18.527534, 18.52794 , 18.528337, 18.528727, 18.529108, 18.529482,\n",
       "       18.529846, 18.530207, 18.53056 , 18.530903, 18.531242, 18.531572,\n",
       "       18.531898, 18.532219, 18.532532, 18.53284 , 18.533142, 18.53344 ],\n",
       "      dtype=float32)>"
      ]
     },
     "execution_count": 39,
     "metadata": {},
     "output_type": "execute_result"
    }
   ],
   "source": [
    "tri_lower = np.tril(np.ones([N+1,N+1]),0)\n",
    "\n",
    "# Third column and first delta of the third column\n",
    "data1 = data[:,-1]\n",
    "data0 = data[:1, 2]\n",
    "\n",
    "data_ext = np.concatenate([data0, data1])\n",
    "\n",
    "mags = np.matmul(tri_lower, data_ext)+m0\n",
    "\n",
    "sum_mags = np.matmul(tri_lower, data_ext)+m0\n",
    "\n",
    "sum_mags = sum_mags[1:]\n",
    "\n",
    "N_obs = np.arange(3,N+3)\n",
    "\n",
    "mean_mags_c = tf.divide(sum_mags, N_obs)\n",
    "\n",
    "mean_mags[0]"
   ]
  },
  {
   "cell_type": "markdown",
   "id": "09b4bfc6-e1dd-4e31-8465-68ba9f1033d7",
   "metadata": {},
   "source": [
    "Read the original file, in order to find the exact value"
   ]
  },
  {
   "cell_type": "code",
   "execution_count": 64,
   "id": "ffdb9cd4-84ca-482f-8920-c36358a7f067",
   "metadata": {
    "tags": []
   },
   "outputs": [
    {
     "name": "stdout",
     "output_type": "stream",
     "text": [
      "3 18.545558\n",
      "4 18.530783\n",
      "5 18.514544\n",
      "6 18.491264\n",
      "7 18.357081\n",
      "8 18.347118\n",
      "9 18.324821\n",
      "10 18.349572\n",
      "11 18.287625\n",
      "12 18.269641\n",
      "13 18.292418\n",
      "final mean mag  18.292418\n"
     ]
    }
   ],
   "source": [
    "df_lc = pd.read_csv('/home/Data/Databases/GAIA/Consolidate_Gaia/data_3/LCs/BP_RP_v3/'+batch[0]['ID'][0].numpy().decode()+'.dat')\n",
    "\n",
    "b = df_lc.band==1\n",
    "mags_file = df_lc[b].mag.values\n",
    "\n",
    "\n",
    "for i in range(3,mags_file.shape[0]+1):\n",
    "    print(i, np.round(mags_file[:i].sum()/(i), 6))\n",
    "print('final mean mag ', np.round(mags_file.sum()/mags_file.shape[0], 6))"
   ]
  },
  {
   "cell_type": "code",
   "execution_count": 67,
   "id": "875a1a4a-9bf5-469a-a8df-50d0be7be2e5",
   "metadata": {
    "tags": []
   },
   "outputs": [
    {
     "data": {
      "text/plain": [
       "array([18.545557, 18.530783, 18.514545, 18.491264, 18.357082, 18.34712 ,\n",
       "       18.324821, 18.349573, 18.287626, 18.26964 , 18.292418, 18.31194 ,\n",
       "       18.32886 , 18.343664, 18.356728], dtype=float32)"
      ]
     },
     "execution_count": 67,
     "metadata": {},
     "output_type": "execute_result"
    }
   ],
   "source": [
    "mean_mag_tf"
   ]
  },
  {
   "cell_type": "code",
   "execution_count": 80,
   "id": "d780b03a-7701-47aa-ad1f-8f4c52198382",
   "metadata": {
    "tags": []
   },
   "outputs": [
    {
     "name": "stdout",
     "output_type": "stream",
     "text": [
      "3 18.545557\n",
      "4 18.530783\n",
      "5 18.514545\n",
      "6 18.491264\n",
      "7 18.357082\n",
      "8 18.34712\n",
      "9 18.324821\n",
      "10 18.349573\n",
      "11 18.287626\n",
      "12 18.26964\n",
      "13 18.292418\n",
      "final mean mag  18.292418\n"
     ]
    }
   ],
   "source": [
    "mean_mag_tf= mean_mags[0].numpy()[:N+4]\n",
    "for i in range(N):\n",
    "    print(i+3, mean_mag_tf[i])\n",
    "print('final mean mag ', mean_mag_tf[N-1]) # N-1 because we count from 0"
   ]
  },
  {
   "cell_type": "code",
   "execution_count": 79,
   "id": "bc769738-fe31-4721-ad95-b5ddc52d57a0",
   "metadata": {
    "tags": []
   },
   "outputs": [
    {
     "data": {
      "text/plain": [
       "array([[ 1.4008764 ,  1.830699  ,  0.49304435, -0.72241086],\n",
       "       [ 1.830699  ,  1.4313586 , -0.72241086,  0.2581554 ],\n",
       "       [ 1.4313586 ,  1.8500041 ,  0.2581554 , -0.03686545],\n",
       "       [ 1.8500041 ,  1.4696567 , -0.03686545, -0.07472663],\n",
       "       [ 1.4696567 ,  1.7681835 , -0.07472663, -0.82287806],\n",
       "       [ 1.7681835 ,  1.6156642 , -0.82287806,  0.72539264],\n",
       "       [ 1.6156642 ,  1.2827781 ,  0.72539264, -0.13093238],\n",
       "       [ 1.2827781 ,  1.8092461 , -0.13093238,  0.4258857 ],\n",
       "       [ 1.8092461 ,  1.4851803 ,  0.4258857 , -0.9041752 ],\n",
       "       [ 1.4851803 ,  1.576728  , -0.9041752 ,  0.40365925],\n",
       "       [ 1.576728  ,  1.4341837 ,  0.40365925,  0.49392572]],\n",
       "      dtype=float32)"
      ]
     },
     "execution_count": 79,
     "metadata": {},
     "output_type": "execute_result"
    }
   ],
   "source": [
    "batch[0]['input_LC_0'][0].numpy()[:N]"
   ]
  },
  {
   "cell_type": "code",
   "execution_count": null,
   "id": "f2914982-3478-426f-a4ab-f3071d237513",
   "metadata": {},
   "outputs": [],
   "source": []
  }
 ],
 "metadata": {
  "kernelspec": {
   "display_name": "Python 3 (ipykernel)",
   "language": "python",
   "name": "python3"
  },
  "language_info": {
   "codemirror_mode": {
    "name": "ipython",
    "version": 3
   },
   "file_extension": ".py",
   "mimetype": "text/x-python",
   "name": "python",
   "nbconvert_exporter": "python",
   "pygments_lexer": "ipython3",
   "version": "3.9.6"
  }
 },
 "nbformat": 4,
 "nbformat_minor": 5
}
