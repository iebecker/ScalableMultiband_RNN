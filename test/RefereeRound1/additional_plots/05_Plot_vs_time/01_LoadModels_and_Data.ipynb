{
 "cells": [
  {
   "cell_type": "code",
   "execution_count": 1,
   "id": "2301f114",
   "metadata": {
    "tags": []
   },
   "outputs": [],
   "source": [
    "import pandas as pd\n",
    "import numpy as np\n",
    "import sys\n",
    "import matplotlib.pyplot as plt\n",
    "# from collections import Counter\n",
    "import tensorflow as tf\n",
    "import glob\n",
    "from glob import glob\n",
    "import os\n",
    "\n",
    "sys.path.append('/home/ibecker/Dropbox/MyPythonClasses/FinalClass/')\n",
    "\n",
    "import Classifier.Model_53.Multiband_53 as multiband\n",
    "import BaseClass.plot_v2 as plot\n",
    "\n",
    "\n",
    "from mpl_toolkits.axes_grid1 import make_axes_locatable\n",
    "import itertools\n",
    "from sklearn.metrics import precision_recall_fscore_support, classification_report, confusion_matrix, ConfusionMatrixDisplay"
   ]
  },
  {
   "cell_type": "code",
   "execution_count": 2,
   "id": "7f68d780",
   "metadata": {
    "tags": []
   },
   "outputs": [
    {
     "name": "stderr",
     "output_type": "stream",
     "text": [
      "2023-06-22 22:15:08.331930: I tensorflow/stream_executor/cuda/cuda_gpu_executor.cc:939] successful NUMA node read from SysFS had negative value (-1), but there must be at least one NUMA node, so returning NUMA node zero\n",
      "2023-06-22 22:15:08.332287: I tensorflow/stream_executor/cuda/cuda_gpu_executor.cc:939] successful NUMA node read from SysFS had negative value (-1), but there must be at least one NUMA node, so returning NUMA node zero\n",
      "2023-06-22 22:15:08.336329: I tensorflow/stream_executor/cuda/cuda_gpu_executor.cc:939] successful NUMA node read from SysFS had negative value (-1), but there must be at least one NUMA node, so returning NUMA node zero\n",
      "2023-06-22 22:15:08.336518: I tensorflow/stream_executor/cuda/cuda_gpu_executor.cc:939] successful NUMA node read from SysFS had negative value (-1), but there must be at least one NUMA node, so returning NUMA node zero\n",
      "2023-06-22 22:15:08.336660: I tensorflow/stream_executor/cuda/cuda_gpu_executor.cc:939] successful NUMA node read from SysFS had negative value (-1), but there must be at least one NUMA node, so returning NUMA node zero\n",
      "2023-06-22 22:15:08.336795: I tensorflow/stream_executor/cuda/cuda_gpu_executor.cc:939] successful NUMA node read from SysFS had negative value (-1), but there must be at least one NUMA node, so returning NUMA node zero\n"
     ]
    }
   ],
   "source": [
    "# To reset cuda\n",
    "# sudo rmmod nvidia_uvm\n",
    "# sudo modprobe nvidia_uvm\n",
    "# To see if the system regognises the GPU\n",
    "device = 0\n",
    "devices = tf.config.experimental.list_physical_devices('GPU')\n",
    "tf.config.set_visible_devices(devices[device], 'GPU')\n",
    "tf.config.experimental.set_memory_growth(device=devices[device], enable=True)\n"
   ]
  },
  {
   "cell_type": "markdown",
   "id": "1785482d",
   "metadata": {},
   "source": [
    "### Get one of the folds, and test a classification on the test set"
   ]
  },
  {
   "cell_type": "code",
   "execution_count": 16,
   "id": "a0de5d43",
   "metadata": {},
   "outputs": [
    {
     "data": {
      "text/plain": [
       "['../../CV_c/03_Train_Models/ZTF/Results/Fold_1',\n",
       " '../../CV_c/03_Train_Models/ZTF/Results/Fold_2',\n",
       " '../../CV_c/03_Train_Models/ZTF/Results/Fold_3',\n",
       " '../../CV_c/03_Train_Models/ZTF/Results/Fold_4',\n",
       " '../../CV_c/03_Train_Models/ZTF/Results/Fold_5',\n",
       " '../../CV_c/03_Train_Models/ZTF/Results/Fold_6',\n",
       " '../../CV_c/03_Train_Models/ZTF/Results/Fold_7']"
      ]
     },
     "execution_count": 16,
     "metadata": {},
     "output_type": "execute_result"
    }
   ],
   "source": [
    "survey = 'ZTF'\n",
    "# survey = 'PanStarrs'\n",
    "# survey = 'Gaia'\n",
    "path = os.path.join('../../CV_c/03_Train_Models/', survey, 'Results/Fold_*',)\n",
    "folds = glob(path)\n",
    "folds.sort()\n",
    "folds"
   ]
  },
  {
   "cell_type": "code",
   "execution_count": 17,
   "id": "27aeb2ea",
   "metadata": {},
   "outputs": [],
   "source": [
    "folder_name = 'Results'\n",
    "if not os.path.exists('./'+folder_name+'/'):\n",
    "    os.mkdir('./'+folder_name+'/')"
   ]
  },
  {
   "cell_type": "code",
   "execution_count": 18,
   "id": "576f363d",
   "metadata": {},
   "outputs": [
    {
     "name": "stdout",
     "output_type": "stream",
     "text": [
      "../../CV_c/02_Create_Records/ZTF/Folds/Fold_1/test/*.tfrecord\n",
      "WARNING:tensorflow:Unresolved object in checkpoint: (root).optimizer.iter\n",
      "WARNING:tensorflow:Unresolved object in checkpoint: (root).optimizer.beta_1\n",
      "WARNING:tensorflow:Unresolved object in checkpoint: (root).optimizer.beta_2\n",
      "WARNING:tensorflow:Unresolved object in checkpoint: (root).optimizer.decay\n",
      "WARNING:tensorflow:Unresolved object in checkpoint: (root).optimizer.weight_decay\n",
      "WARNING:tensorflow:A checkpoint was restored (e.g. tf.train.Checkpoint.restore or tf.keras.Model.load_weights) but not all checkpointed values were used. See above for specific issues. Use expect_partial() on the load status object, e.g. tf.train.Checkpoint.restore(...).expect_partial(), to silence these warnings, or use assert_consumed() to make the check explicit. See https://www.tensorflow.org/guide/checkpoint#loading_mechanics for details.\n",
      "WARNING:tensorflow:Unresolved object in checkpoint: (root).optimizer.iter\n",
      "WARNING:tensorflow:Unresolved object in checkpoint: (root).optimizer.beta_1\n",
      "WARNING:tensorflow:Unresolved object in checkpoint: (root).optimizer.beta_2\n",
      "WARNING:tensorflow:Unresolved object in checkpoint: (root).optimizer.decay\n",
      "WARNING:tensorflow:Unresolved object in checkpoint: (root).optimizer.weight_decay\n",
      "WARNING:tensorflow:A checkpoint was restored (e.g. tf.train.Checkpoint.restore or tf.keras.Model.load_weights) but not all checkpointed values were used. See above for specific issues. Use expect_partial() on the load status object, e.g. tf.train.Checkpoint.restore(...).expect_partial(), to silence these warnings, or use assert_consumed() to make the check explicit. See https://www.tensorflow.org/guide/checkpoint#loading_mechanics for details.\n",
      "WARNING:tensorflow:Unresolved object in checkpoint: (root).optimizer.iter\n",
      "WARNING:tensorflow:Unresolved object in checkpoint: (root).optimizer.beta_1\n",
      "WARNING:tensorflow:Unresolved object in checkpoint: (root).optimizer.beta_2\n",
      "WARNING:tensorflow:Unresolved object in checkpoint: (root).optimizer.decay\n",
      "WARNING:tensorflow:Unresolved object in checkpoint: (root).optimizer.weight_decay\n",
      "WARNING:tensorflow:Unresolved object in checkpoint: (root).layer_with_weights-1.optimizer.iter\n",
      "WARNING:tensorflow:Unresolved object in checkpoint: (root).layer_with_weights-1.optimizer.beta_1\n",
      "WARNING:tensorflow:Unresolved object in checkpoint: (root).layer_with_weights-1.optimizer.beta_2\n",
      "WARNING:tensorflow:Unresolved object in checkpoint: (root).layer_with_weights-1.optimizer.decay\n",
      "WARNING:tensorflow:Unresolved object in checkpoint: (root).layer_with_weights-1.optimizer.weight_decay\n",
      "WARNING:tensorflow:Unresolved object in checkpoint: (root).layer_with_weights-3.optimizer.iter\n",
      "WARNING:tensorflow:Unresolved object in checkpoint: (root).layer_with_weights-3.optimizer.beta_1\n",
      "WARNING:tensorflow:Unresolved object in checkpoint: (root).layer_with_weights-3.optimizer.beta_2\n",
      "WARNING:tensorflow:Unresolved object in checkpoint: (root).layer_with_weights-3.optimizer.decay\n",
      "WARNING:tensorflow:Unresolved object in checkpoint: (root).layer_with_weights-3.optimizer.weight_decay\n",
      "WARNING:tensorflow:A checkpoint was restored (e.g. tf.train.Checkpoint.restore or tf.keras.Model.load_weights) but not all checkpointed values were used. See above for specific issues. Use expect_partial() on the load status object, e.g. tf.train.Checkpoint.restore(...).expect_partial(), to silence these warnings, or use assert_consumed() to make the check explicit. See https://www.tensorflow.org/guide/checkpoint#loading_mechanics for details.\n",
      "              precision    recall  f1-score   support\n",
      "\n",
      "         AGN       0.68      0.62      0.65       345\n",
      "      Blazar       0.82      0.60      0.69       156\n",
      "     CV/Nova       0.96      0.78      0.86       109\n",
      "           E       0.92      0.97      0.95      1429\n",
      "         LPV       0.99      1.00      0.99      1330\n",
      "         QSO       0.89      0.93      0.91      1429\n",
      "         RRL       0.97      0.93      0.95      1428\n",
      "        SNIa       1.00      1.00      1.00        72\n",
      "         YSO       0.81      0.75      0.78       114\n",
      "\n",
      "    accuracy                           0.92      6412\n",
      "   macro avg       0.89      0.84      0.86      6412\n",
      "weighted avg       0.92      0.92      0.92      6412\n",
      "\n"
     ]
    }
   ],
   "source": [
    "fold = folds[0]\n",
    "\n",
    "tf.keras.backend.clear_session()\n",
    "# Set the fold path\n",
    "base_dir = fold+'/'\n",
    "\n",
    "# Get the last run\n",
    "path_runs_folder = os.path.join(base_dir, 'Models', '*')\n",
    "path_runs = glob(path_runs_folder)\n",
    "path_runs.sort()\n",
    "path_run = path_runs[-1]    \n",
    "    \n",
    "path_preprocess = fold.replace('/03_Train_Models/', '/02_Create_Records/').replace('/'+folder_name+'/', '/Folds/')\n",
    "test_files = os.path.join(path_preprocess, 'test/*.tfrecord')\n",
    "path_preprocess = os.path.join(path_preprocess, 'metadata_preprocess.json')    \n",
    "\n",
    "    \n",
    "new = multiband.Network()    \n",
    "settings_path = os.path.join(path_run, 'all_settings.json')\n",
    "\n",
    "fold_name = fold.split('/')[-1]\n",
    "write_path = os.path.join('./'+folder_name, fold_name+'_Results.dat')\n",
    "    \n",
    "# Get weights path\n",
    "run = path_run.split('/')[-1]\n",
    "weights_path = os.path.join(fold, 'Models', run)\n",
    "new.run_test(settings_path, test_files, weights_path, df_paths = write_path);\n",
    "    \n",
    "#     result_path = os.path.join('./'+folder_name, fold.split('/')[-1]+'_Results.dat')\n",
    "    \n",
    "#     # From the results file, read the data and compute the classification scores\n",
    "#     report_fold = plot.compute_classification_report(result_path)\n",
    "#     reports_folds.append(report_fold)\n",
    "#     # From the results file, read the data and compute the confussion matrix and the respective  labels \n",
    "#     cm_fold = plot.compute_confussion_matrices(result_path, labels=label_order)\n",
    "#     cm_folds.append(cm_fold)"
   ]
  },
  {
   "cell_type": "code",
   "execution_count": 19,
   "id": "3081d08f",
   "metadata": {},
   "outputs": [],
   "source": [
    "for batch in new.dataset_test:\n",
    "    X = batch[0]\n",
    "    y = batch[1]\n",
    "    \n",
    "    output = new.model_central(X)\n",
    "    break"
   ]
  },
  {
   "cell_type": "code",
   "execution_count": 20,
   "id": "c752aa55",
   "metadata": {},
   "outputs": [],
   "source": [
    "import pickle\n",
    "with open('output_'+survey+'.pkl', 'wb') as file:\n",
    "    pickle.dump([output, X, y, new.trans], file)"
   ]
  },
  {
   "cell_type": "code",
   "execution_count": 21,
   "id": "b6245e4f",
   "metadata": {},
   "outputs": [
    {
     "data": {
      "text/plain": [
       "{0: 'AGN',\n",
       " 1: 'CV/Nova',\n",
       " 2: 'SNIa',\n",
       " 3: 'LPV',\n",
       " 4: 'RRL',\n",
       " 5: 'QSO',\n",
       " 6: 'E',\n",
       " 7: 'YSO',\n",
       " 8: 'Blazar'}"
      ]
     },
     "execution_count": 21,
     "metadata": {},
     "output_type": "execute_result"
    }
   ],
   "source": [
    "new.trans"
   ]
  },
  {
   "cell_type": "code",
   "execution_count": null,
   "id": "de52358e",
   "metadata": {},
   "outputs": [],
   "source": []
  },
  {
   "cell_type": "code",
   "execution_count": null,
   "id": "8cf42f73",
   "metadata": {},
   "outputs": [],
   "source": []
  },
  {
   "cell_type": "code",
   "execution_count": null,
   "id": "fa1d0b6a",
   "metadata": {},
   "outputs": [],
   "source": []
  },
  {
   "cell_type": "code",
   "execution_count": null,
   "id": "0a8abfb2",
   "metadata": {},
   "outputs": [],
   "source": []
  },
  {
   "cell_type": "code",
   "execution_count": null,
   "id": "7644a21d",
   "metadata": {},
   "outputs": [],
   "source": []
  }
 ],
 "metadata": {
  "kernelspec": {
   "display_name": "Python 3 (ipykernel)",
   "language": "python",
   "name": "python3"
  },
  "language_info": {
   "codemirror_mode": {
    "name": "ipython",
    "version": 3
   },
   "file_extension": ".py",
   "mimetype": "text/x-python",
   "name": "python",
   "nbconvert_exporter": "python",
   "pygments_lexer": "ipython3",
   "version": "3.10.12"
  }
 },
 "nbformat": 4,
 "nbformat_minor": 5
}
