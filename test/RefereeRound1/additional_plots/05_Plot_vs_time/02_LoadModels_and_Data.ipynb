{
 "cells": [
  {
   "cell_type": "code",
   "execution_count": 1,
   "id": "2301f114",
   "metadata": {
    "tags": []
   },
   "outputs": [],
   "source": [
    "import pandas as pd\n",
    "import numpy as np\n",
    "import sys\n",
    "import matplotlib.pyplot as plt\n",
    "# from collections import Counter\n",
    "import tensorflow as tf\n",
    "import glob\n",
    "from glob import glob\n",
    "import os\n",
    "\n",
    "# sys.path.append('/home/ibecker/Dropbox/MyPythonClasses/FinalClass/')\n",
    "import ScalableLib.classifier.Multiband as multiband\n",
    "from ScalableLib.base import plot\n",
    "# import Classifier.Model_53.Multiband_53 as multiband\n",
    "# import BaseClass.plot_v2 as plot\n",
    "\n",
    "\n",
    "from mpl_toolkits.axes_grid1 import make_axes_locatable\n",
    "import itertools\n",
    "from sklearn.metrics import precision_recall_fscore_support, classification_report, confusion_matrix, ConfusionMatrixDisplay"
   ]
  },
  {
   "cell_type": "code",
   "execution_count": 2,
   "id": "7f68d780",
   "metadata": {
    "tags": []
   },
   "outputs": [],
   "source": [
    "# # To reset cuda\n",
    "# # sudo rmmod nvidia_uvm\n",
    "# # sudo modprobe nvidia_uvm\n",
    "# # To see if the system regognises the GPU\n",
    "# device = 0\n",
    "# devices = tf.config.experimental.list_physical_devices('GPU')\n",
    "# tf.config.set_visible_devices(devices[device], 'GPU')\n",
    "# tf.config.experimental.set_memory_growth(device=devices[device], enable=True)\n"
   ]
  },
  {
   "cell_type": "markdown",
   "id": "1785482d",
   "metadata": {},
   "source": [
    "### Get one of the folds, and test a classification on the test set"
   ]
  },
  {
   "cell_type": "code",
   "execution_count": 3,
   "id": "a0de5d43",
   "metadata": {},
   "outputs": [
    {
     "data": {
      "text/plain": [
       "['../../CV_c/03_TrainModels/ZTF/Results/Fold_1',\n",
       " '../../CV_c/03_TrainModels/ZTF/Results/Fold_2',\n",
       " '../../CV_c/03_TrainModels/ZTF/Results/Fold_3',\n",
       " '../../CV_c/03_TrainModels/ZTF/Results/Fold_4',\n",
       " '../../CV_c/03_TrainModels/ZTF/Results/Fold_5',\n",
       " '../../CV_c/03_TrainModels/ZTF/Results/Fold_6',\n",
       " '../../CV_c/03_TrainModels/ZTF/Results/Fold_7']"
      ]
     },
     "execution_count": 3,
     "metadata": {},
     "output_type": "execute_result"
    }
   ],
   "source": [
    "survey = 'ZTF'\n",
    "# survey = 'PanStarrs'\n",
    "# survey = 'Gaia'\n",
    "path = os.path.join('../../CV_c/03_TrainModels', survey, 'Results/Fold_*',)\n",
    "folds = glob(path)\n",
    "folds.sort()\n",
    "folds"
   ]
  },
  {
   "cell_type": "code",
   "execution_count": 4,
   "id": "27aeb2ea",
   "metadata": {},
   "outputs": [],
   "source": [
    "folder_name = 'Results'\n",
    "if not os.path.exists('./'+folder_name+'/'):\n",
    "    os.mkdir('./'+folder_name+'/')"
   ]
  },
  {
   "cell_type": "code",
   "execution_count": 5,
   "id": "ccfdb509-5f06-46e6-bdc5-b3a9e3bec670",
   "metadata": {},
   "outputs": [],
   "source": [
    "import tensorflow as tf"
   ]
  },
  {
   "cell_type": "code",
   "execution_count": null,
   "id": "1a783242-f4e5-45d9-a434-e66eaa69b9a8",
   "metadata": {},
   "outputs": [],
   "source": []
  },
  {
   "cell_type": "code",
   "execution_count": 6,
   "id": "576f363d",
   "metadata": {
    "scrolled": true
   },
   "outputs": [
    {
     "name": "stdout",
     "output_type": "stream",
     "text": [
      "../../CV_c/02_CreateRecords/ZTF/Folds/Fold_1/test/*.tfrecord\n"
     ]
    },
    {
     "name": "stderr",
     "output_type": "stream",
     "text": [
      "/Library/Frameworks/Python.framework/Versions/3.12/lib/python3.12/site-packages/keras/src/layers/layer.py:1210: UserWarning: Layer 'rnn_layers_bands' looks like it has unbuilt state, but Keras is not able to trace the layer `call()` in order to build it automatically. Possible causes:\n",
      "1. The `call()` method of your layer may be crashing. Try to `__call__()` the layer eagerly on some test input first to see if it works. E.g. `x = np.random.random((3, 4)); y = layer(x)`\n",
      "2. If the `call()` method is correct, then you may need to implement the `def build(self, input_shape)` method on your layer. It should create all variables used by the layer (e.g. by calling `layer.build()` on all its children layers).\n",
      "Exception encoutered: ''missing a required argument: 'sequences'''\n",
      "  warnings.warn(\n",
      "/Library/Frameworks/Python.framework/Versions/3.12/lib/python3.12/site-packages/keras/src/layers/layer.py:359: UserWarning: `build()` was called on layer 'rnn_layers_bands', however the layer does not have a `build()` method implemented and it looks like it has unbuilt state. This will cause the layer to be marked as built, despite not being actually built, which may cause failures down the line. Make sure to implement a proper `build()` method.\n",
      "  warnings.warn(\n"
     ]
    },
    {
     "ename": "TypeError",
     "evalue": "Exception encountered when calling RNNLayersBands.call().\n\n\u001b[1mmissing a required argument: 'sequences'\u001b[0m\n\nArguments received by RNNLayersBands.call():\n  • args=('<KerasTensor shape=(None, None, 4), dtype=float32, sparse=None, name=input_LC_0>', '<KerasTensor shape=(None,), dtype=int32, sparse=None, name=N_0>')\n  • kwargs=<class 'inspect._empty'>",
     "output_type": "error",
     "traceback": [
      "\u001b[0;31m---------------------------------------------------------------------------\u001b[0m",
      "\u001b[0;31mTypeError\u001b[0m                                 Traceback (most recent call last)",
      "Cell \u001b[0;32mIn[6], line 27\u001b[0m\n\u001b[1;32m     25\u001b[0m run \u001b[38;5;241m=\u001b[39m path_run\u001b[38;5;241m.\u001b[39msplit(\u001b[38;5;124m'\u001b[39m\u001b[38;5;124m/\u001b[39m\u001b[38;5;124m'\u001b[39m)[\u001b[38;5;241m-\u001b[39m\u001b[38;5;241m1\u001b[39m]\n\u001b[1;32m     26\u001b[0m weights_path \u001b[38;5;241m=\u001b[39m os\u001b[38;5;241m.\u001b[39mpath\u001b[38;5;241m.\u001b[39mjoin(fold, \u001b[38;5;124m'\u001b[39m\u001b[38;5;124mModels\u001b[39m\u001b[38;5;124m'\u001b[39m, run)\n\u001b[0;32m---> 27\u001b[0m \u001b[43mnew\u001b[49m\u001b[38;5;241;43m.\u001b[39;49m\u001b[43mrun_test\u001b[49m\u001b[43m(\u001b[49m\u001b[43msettings_path\u001b[49m\u001b[43m,\u001b[49m\u001b[43m \u001b[49m\u001b[43mtest_files\u001b[49m\u001b[43m,\u001b[49m\u001b[43m \u001b[49m\u001b[43mweights_path\u001b[49m\u001b[43m,\u001b[49m\u001b[43m \u001b[49m\u001b[43mdf_paths\u001b[49m\u001b[43m \u001b[49m\u001b[38;5;241;43m=\u001b[39;49m\u001b[43m \u001b[49m\u001b[43mwrite_path\u001b[49m\u001b[43m)\u001b[49m;\n\u001b[1;32m     29\u001b[0m \u001b[38;5;66;03m#     result_path = os.path.join('./'+folder_name, fold.split('/')[-1]+'_Results.dat')\u001b[39;00m\n\u001b[1;32m     30\u001b[0m     \n\u001b[1;32m     31\u001b[0m \u001b[38;5;66;03m#     # From the results file, read the data and compute the classification scores\u001b[39;00m\n\u001b[0;32m   (...)\u001b[0m\n\u001b[1;32m     35\u001b[0m \u001b[38;5;66;03m#     cm_fold = plot.compute_confussion_matrices(result_path, labels=label_order)\u001b[39;00m\n\u001b[1;32m     36\u001b[0m \u001b[38;5;66;03m#     cm_folds.append(cm_fold)\u001b[39;00m\n",
      "File \u001b[0;32m~/Documents/MyStuff/ScalableMultiband_RNN/src/ScalableLib/classifier/Multiband.py:715\u001b[0m, in \u001b[0;36mNetwork.run_test\u001b[0;34m(self, path_parameters, path_records_test, path_weights, df_paths)\u001b[0m\n\u001b[1;32m    711\u001b[0m \u001b[38;5;28mself\u001b[39m\u001b[38;5;241m.\u001b[39m__define_inputs_test()\n\u001b[1;32m    714\u001b[0m \u001b[38;5;66;03m# Build the models\u001b[39;00m\n\u001b[0;32m--> 715\u001b[0m \u001b[38;5;28;43mself\u001b[39;49m\u001b[38;5;241;43m.\u001b[39;49m\u001b[43m__add_models\u001b[49m\u001b[43m(\u001b[49m\u001b[43m)\u001b[49m\n\u001b[1;32m    716\u001b[0m \u001b[38;5;66;03m# Load weights\u001b[39;00m\n\u001b[1;32m    717\u001b[0m \u001b[38;5;28mself\u001b[39m\u001b[38;5;241m.\u001b[39mload_weights(path_weights)\n",
      "File \u001b[0;32m~/Documents/MyStuff/ScalableMultiband_RNN/src/ScalableLib/classifier/Multiband.py:396\u001b[0m, in \u001b[0;36mNetwork.__add_models\u001b[0;34m(self)\u001b[0m\n\u001b[1;32m    394\u001b[0m \u001b[38;5;66;03m# Add band models\u001b[39;00m\n\u001b[1;32m    395\u001b[0m \u001b[38;5;28;01mfor\u001b[39;00m i \u001b[38;5;129;01min\u001b[39;00m \u001b[38;5;28mrange\u001b[39m(\u001b[38;5;28mself\u001b[39m\u001b[38;5;241m.\u001b[39mn_bands):\n\u001b[0;32m--> 396\u001b[0m     \u001b[38;5;28;43mself\u001b[39;49m\u001b[38;5;241;43m.\u001b[39;49m\u001b[43m__add_model_band\u001b[49m\u001b[43m(\u001b[49m\u001b[43mi\u001b[49m\u001b[43m)\u001b[49m\n\u001b[1;32m    397\u001b[0m \u001b[38;5;66;03m# Add spine model\u001b[39;00m\n\u001b[1;32m    398\u001b[0m \u001b[38;5;28mself\u001b[39m\u001b[38;5;241m.\u001b[39m__add_model_central()\n",
      "File \u001b[0;32m~/Documents/MyStuff/ScalableMultiband_RNN/src/ScalableLib/classifier/Multiband.py:69\u001b[0m, in \u001b[0;36mNetwork.__add_model_band\u001b[0;34m(self, i)\u001b[0m\n\u001b[1;32m     59\u001b[0m \u001b[38;5;66;03m# Define and run the RNN. Extract the output\u001b[39;00m\n\u001b[1;32m     60\u001b[0m \u001b[38;5;28mself\u001b[39m\u001b[38;5;241m.\u001b[39mRNNs[i] \u001b[38;5;241m=\u001b[39m RNNLayersBands(hidden_sizes\u001b[38;5;241m=\u001b[39m\u001b[38;5;28mself\u001b[39m\u001b[38;5;241m.\u001b[39msize_hidden_bands,\n\u001b[1;32m     61\u001b[0m                               index\u001b[38;5;241m=\u001b[39mi,\n\u001b[1;32m     62\u001b[0m                               common_kernel_layer\u001b[38;5;241m=\u001b[39m\u001b[38;5;28mself\u001b[39m\u001b[38;5;241m.\u001b[39mcommon_kernel,\n\u001b[0;32m   (...)\u001b[0m\n\u001b[1;32m     66\u001b[0m                               use_gated_common\u001b[38;5;241m=\u001b[39m\u001b[38;5;28mself\u001b[39m\u001b[38;5;241m.\u001b[39muse_gated_common,\n\u001b[1;32m     67\u001b[0m                               )\n\u001b[0;32m---> 69\u001b[0m \u001b[38;5;28mself\u001b[39m\u001b[38;5;241m.\u001b[39mrnn_outputs[i] \u001b[38;5;241m=\u001b[39m \u001b[38;5;28;43mself\u001b[39;49m\u001b[38;5;241;43m.\u001b[39;49m\u001b[43mRNNs\u001b[49m\u001b[43m[\u001b[49m\u001b[43mi\u001b[49m\u001b[43m]\u001b[49m\u001b[43m(\u001b[49m\u001b[38;5;28;43mself\u001b[39;49m\u001b[38;5;241;43m.\u001b[39;49m\u001b[43minputs\u001b[49m\u001b[43m[\u001b[49m\u001b[38;5;124;43m'\u001b[39;49m\u001b[38;5;124;43minput_LC_\u001b[39;49m\u001b[38;5;124;43m'\u001b[39;49m\u001b[43m \u001b[49m\u001b[38;5;241;43m+\u001b[39;49m\u001b[43m \u001b[49m\u001b[38;5;28;43mstr\u001b[39;49m\u001b[43m(\u001b[49m\u001b[43mi\u001b[49m\u001b[43m)\u001b[49m\u001b[43m]\u001b[49m\u001b[43m,\u001b[49m\n\u001b[1;32m     70\u001b[0m \u001b[43m                                   \u001b[49m\u001b[38;5;28;43mself\u001b[39;49m\u001b[38;5;241;43m.\u001b[39;49m\u001b[43minputs\u001b[49m\u001b[43m[\u001b[49m\u001b[38;5;124;43m'\u001b[39;49m\u001b[38;5;124;43mN_\u001b[39;49m\u001b[38;5;124;43m'\u001b[39;49m\u001b[43m \u001b[49m\u001b[38;5;241;43m+\u001b[39;49m\u001b[43m \u001b[49m\u001b[38;5;28;43mstr\u001b[39;49m\u001b[43m(\u001b[49m\u001b[43mi\u001b[49m\u001b[43m)\u001b[49m\u001b[43m]\u001b[49m\n\u001b[1;32m     71\u001b[0m \u001b[43m                                   \u001b[49m\u001b[43m)\u001b[49m\n\u001b[1;32m     72\u001b[0m sauce_layer \u001b[38;5;241m=\u001b[39m SauceLayer(\u001b[38;5;28mlen\u001b[39m(\u001b[38;5;28mself\u001b[39m\u001b[38;5;241m.\u001b[39mrnn_outputs[i]), name\u001b[38;5;241m=\u001b[39m\u001b[38;5;124m'\u001b[39m\u001b[38;5;124mScale_Layer_band_\u001b[39m\u001b[38;5;124m'\u001b[39m \u001b[38;5;241m+\u001b[39m \u001b[38;5;28mstr\u001b[39m(i))\n\u001b[1;32m     73\u001b[0m \u001b[38;5;28mself\u001b[39m\u001b[38;5;241m.\u001b[39msauce[i] \u001b[38;5;241m=\u001b[39m sauce_layer(\u001b[38;5;28mself\u001b[39m\u001b[38;5;241m.\u001b[39mrnn_outputs[i])\n",
      "File \u001b[0;32m/Library/Frameworks/Python.framework/Versions/3.12/lib/python3.12/site-packages/keras/src/utils/traceback_utils.py:123\u001b[0m, in \u001b[0;36mfilter_traceback.<locals>.error_handler\u001b[0;34m(*args, **kwargs)\u001b[0m\n\u001b[1;32m    120\u001b[0m     filtered_tb \u001b[38;5;241m=\u001b[39m _process_traceback_frames(e\u001b[38;5;241m.\u001b[39m__traceback__)\n\u001b[1;32m    121\u001b[0m     \u001b[38;5;66;03m# To get the full stack trace, call:\u001b[39;00m\n\u001b[1;32m    122\u001b[0m     \u001b[38;5;66;03m# `keras.config.disable_traceback_filtering()`\u001b[39;00m\n\u001b[0;32m--> 123\u001b[0m     \u001b[38;5;28;01mraise\u001b[39;00m e\u001b[38;5;241m.\u001b[39mwith_traceback(filtered_tb) \u001b[38;5;28;01mfrom\u001b[39;00m \u001b[38;5;28;01mNone\u001b[39;00m\n\u001b[1;32m    124\u001b[0m \u001b[38;5;28;01mfinally\u001b[39;00m:\n\u001b[1;32m    125\u001b[0m     \u001b[38;5;28;01mdel\u001b[39;00m filtered_tb\n",
      "File \u001b[0;32m~/Documents/MyStuff/ScalableMultiband_RNN/src/ScalableLib/classifier/CustomLayers.py:806\u001b[0m, in \u001b[0;36mRNNLayersBands.call\u001b[0;34m(self, input_, N_)\u001b[0m\n\u001b[1;32m    801\u001b[0m     outputs \u001b[38;5;241m=\u001b[39m [tf\u001b[38;5;241m.\u001b[39mkeras\u001b[38;5;241m.\u001b[39mlayers\u001b[38;5;241m.\u001b[39mconcatenate([i, j],\n\u001b[1;32m    802\u001b[0m                                            axis\u001b[38;5;241m=\u001b[39m\u001b[38;5;241m2\u001b[39m,\n\u001b[1;32m    803\u001b[0m                                            )\n\u001b[1;32m    804\u001b[0m                \u001b[38;5;28;01mfor\u001b[39;00m i, j \u001b[38;5;129;01min\u001b[39;00m \u001b[38;5;28mzip\u001b[39m(outputs_f, outputs_b)]\n\u001b[1;32m    805\u001b[0m \u001b[38;5;28;01melse\u001b[39;00m:\n\u001b[0;32m--> 806\u001b[0m     outputs \u001b[38;5;241m=\u001b[39m \u001b[38;5;28;43mself\u001b[39;49m\u001b[38;5;241;43m.\u001b[39;49m\u001b[43mcall_one\u001b[49m\u001b[43m(\u001b[49m\u001b[38;5;28;43mself\u001b[39;49m\u001b[38;5;241;43m.\u001b[39;49m\u001b[43mrnns\u001b[49m\u001b[43m,\u001b[49m\n\u001b[1;32m    807\u001b[0m \u001b[43m                            \u001b[49m\u001b[43minput_\u001b[49m\u001b[43m,\u001b[49m\n\u001b[1;32m    808\u001b[0m \u001b[43m                            \u001b[49m\u001b[43mN_\u001b[49m\n\u001b[1;32m    809\u001b[0m \u001b[43m                            \u001b[49m\u001b[43m)\u001b[49m\n\u001b[1;32m    810\u001b[0m \u001b[38;5;28;01mreturn\u001b[39;00m outputs\n",
      "File \u001b[0;32m~/Documents/MyStuff/ScalableMultiband_RNN/src/ScalableLib/classifier/CustomLayers.py:820\u001b[0m, in \u001b[0;36mRNNLayersBands.call_one\u001b[0;34m(self, rnns, input_, N_, backwards)\u001b[0m\n\u001b[1;32m    817\u001b[0m mask_ \u001b[38;5;241m=\u001b[39m tf\u001b[38;5;241m.\u001b[39msequence_mask(N_)\n\u001b[1;32m    819\u001b[0m outputs \u001b[38;5;241m=\u001b[39m []\n\u001b[0;32m--> 820\u001b[0m output \u001b[38;5;241m=\u001b[39m \u001b[43mrnns\u001b[49m\u001b[43m[\u001b[49m\u001b[38;5;241;43m0\u001b[39;49m\u001b[43m]\u001b[49m\u001b[43m(\u001b[49m\u001b[43minputs\u001b[49m\u001b[38;5;241;43m=\u001b[39;49m\u001b[43minput_\u001b[49m\u001b[43m,\u001b[49m\u001b[43m \u001b[49m\u001b[43mmask\u001b[49m\u001b[38;5;241;43m=\u001b[39;49m\u001b[43mmask_\u001b[49m\u001b[43m)\u001b[49m\n\u001b[1;32m    821\u001b[0m outputs\u001b[38;5;241m.\u001b[39mappend(output)\n\u001b[1;32m    823\u001b[0m \u001b[38;5;28;01mif\u001b[39;00m \u001b[38;5;129;01mnot\u001b[39;00m backwards:\n",
      "File \u001b[0;32m/Library/Frameworks/Python.framework/Versions/3.12/lib/python3.12/inspect.py:3259\u001b[0m, in \u001b[0;36mSignature.bind\u001b[0;34m(self, *args, **kwargs)\u001b[0m\n\u001b[1;32m   3254\u001b[0m \u001b[38;5;28;01mdef\u001b[39;00m \u001b[38;5;21mbind\u001b[39m(\u001b[38;5;28mself\u001b[39m, \u001b[38;5;241m/\u001b[39m, \u001b[38;5;241m*\u001b[39margs, \u001b[38;5;241m*\u001b[39m\u001b[38;5;241m*\u001b[39mkwargs):\n\u001b[1;32m   3255\u001b[0m \u001b[38;5;250m    \u001b[39m\u001b[38;5;124;03m\"\"\"Get a BoundArguments object, that maps the passed `args`\u001b[39;00m\n\u001b[1;32m   3256\u001b[0m \u001b[38;5;124;03m    and `kwargs` to the function's signature.  Raises `TypeError`\u001b[39;00m\n\u001b[1;32m   3257\u001b[0m \u001b[38;5;124;03m    if the passed arguments can not be bound.\u001b[39;00m\n\u001b[1;32m   3258\u001b[0m \u001b[38;5;124;03m    \"\"\"\u001b[39;00m\n\u001b[0;32m-> 3259\u001b[0m     \u001b[38;5;28;01mreturn\u001b[39;00m \u001b[38;5;28;43mself\u001b[39;49m\u001b[38;5;241;43m.\u001b[39;49m\u001b[43m_bind\u001b[49m\u001b[43m(\u001b[49m\u001b[43margs\u001b[49m\u001b[43m,\u001b[49m\u001b[43m \u001b[49m\u001b[43mkwargs\u001b[49m\u001b[43m)\u001b[49m\n",
      "File \u001b[0;32m/Library/Frameworks/Python.framework/Versions/3.12/lib/python3.12/inspect.py:3174\u001b[0m, in \u001b[0;36mSignature._bind\u001b[0;34m(self, args, kwargs, partial)\u001b[0m\n\u001b[1;32m   3172\u001b[0m                 msg \u001b[38;5;241m=\u001b[39m \u001b[38;5;124m'\u001b[39m\u001b[38;5;124mmissing a required\u001b[39m\u001b[38;5;132;01m{argtype}\u001b[39;00m\u001b[38;5;124m argument: \u001b[39m\u001b[38;5;132;01m{arg!r}\u001b[39;00m\u001b[38;5;124m'\u001b[39m\n\u001b[1;32m   3173\u001b[0m                 msg \u001b[38;5;241m=\u001b[39m msg\u001b[38;5;241m.\u001b[39mformat(arg\u001b[38;5;241m=\u001b[39mparam\u001b[38;5;241m.\u001b[39mname, argtype\u001b[38;5;241m=\u001b[39margtype)\n\u001b[0;32m-> 3174\u001b[0m                 \u001b[38;5;28;01mraise\u001b[39;00m \u001b[38;5;167;01mTypeError\u001b[39;00m(msg) \u001b[38;5;28;01mfrom\u001b[39;00m \u001b[38;5;28;01mNone\u001b[39;00m\n\u001b[1;32m   3175\u001b[0m \u001b[38;5;28;01melse\u001b[39;00m:\n\u001b[1;32m   3176\u001b[0m     \u001b[38;5;66;03m# We have a positional argument to process\u001b[39;00m\n\u001b[1;32m   3177\u001b[0m     \u001b[38;5;28;01mtry\u001b[39;00m:\n",
      "\u001b[0;31mTypeError\u001b[0m: Exception encountered when calling RNNLayersBands.call().\n\n\u001b[1mmissing a required argument: 'sequences'\u001b[0m\n\nArguments received by RNNLayersBands.call():\n  • args=('<KerasTensor shape=(None, None, 4), dtype=float32, sparse=None, name=input_LC_0>', '<KerasTensor shape=(None,), dtype=int32, sparse=None, name=N_0>')\n  • kwargs=<class 'inspect._empty'>"
     ]
    }
   ],
   "source": [
    "fold = folds[0]\n",
    "\n",
    "tf.keras.backend.clear_session()\n",
    "# Set the fold path\n",
    "base_dir = fold+'/'\n",
    "\n",
    "# Get the last run\n",
    "path_runs_folder = os.path.join(base_dir, 'Models', '*')\n",
    "path_runs = glob(path_runs_folder)\n",
    "path_runs.sort()\n",
    "path_run = path_runs[-1]    \n",
    "    \n",
    "path_preprocess = fold.replace('/03_TrainModels/', '/02_CreateRecords/').replace('/'+folder_name+'/', '/Folds/')\n",
    "test_files = os.path.join(path_preprocess, 'test/*.tfrecord')\n",
    "path_preprocess = os.path.join(path_preprocess, 'metadata_preprocess.json')    \n",
    "\n",
    "    \n",
    "new = multiband.Network()    \n",
    "settings_path = os.path.join(path_run, 'all_settings.json')\n",
    "\n",
    "fold_name = fold.split('/')[-1]\n",
    "write_path = os.path.join('.'+folder_name, fold_name+'_Results.dat')\n",
    "    \n",
    "# Get weights path\n",
    "run = path_run.split('/')[-1]\n",
    "weights_path = os.path.join(fold, 'Models', run)\n",
    "new.run_test(settings_path, test_files, weights_path, df_paths = write_path);\n",
    "    \n",
    "#     result_path = os.path.join('./'+folder_name, fold.split('/')[-1]+'_Results.dat')\n",
    "    \n",
    "#     # From the results file, read the data and compute the classification scores\n",
    "#     report_fold = plot.compute_classification_report(result_path)\n",
    "#     reports_folds.append(report_fold)\n",
    "#     # From the results file, read the data and compute the confussion matrix and the respective  labels \n",
    "#     cm_fold = plot.compute_confussion_matrices(result_path, labels=label_order)\n",
    "#     cm_folds.append(cm_fold)"
   ]
  },
  {
   "cell_type": "code",
   "execution_count": null,
   "id": "feadbb63-6782-4f57-b869-b5da9529c39e",
   "metadata": {},
   "outputs": [],
   "source": [
    "new.rnn"
   ]
  },
  {
   "cell_type": "code",
   "execution_count": null,
   "id": "05b7359e-70b1-4dc0-9279-bff1e78e14fb",
   "metadata": {},
   "outputs": [],
   "source": []
  },
  {
   "cell_type": "code",
   "execution_count": null,
   "id": "3081d08f",
   "metadata": {
    "scrolled": true
   },
   "outputs": [],
   "source": [
    "for batch in new.dataset_test:\n",
    "    X = batch[0]\n",
    "    y = batch[1]\n",
    "    \n",
    "    output = new.model_central(X)\n",
    "    break"
   ]
  },
  {
   "cell_type": "code",
   "execution_count": null,
   "id": "49f38f88-a409-4f58-a960-f69563078e5a",
   "metadata": {},
   "outputs": [],
   "source": []
  },
  {
   "cell_type": "code",
   "execution_count": null,
   "id": "42d112bf-410d-40c4-ae7d-47c739193575",
   "metadata": {},
   "outputs": [],
   "source": []
  },
  {
   "cell_type": "code",
   "execution_count": null,
   "id": "11b0d6bb-becc-4f15-b1ed-2301fb151761",
   "metadata": {},
   "outputs": [],
   "source": []
  },
  {
   "cell_type": "code",
   "execution_count": null,
   "id": "c752aa55",
   "metadata": {},
   "outputs": [],
   "source": [
    "import pickle\n",
    "with open('output_'+survey+'.pkl', 'wb') as file:\n",
    "    pickle.dump([output, X, y, new.trans], file)"
   ]
  },
  {
   "cell_type": "code",
   "execution_count": null,
   "id": "b6245e4f",
   "metadata": {},
   "outputs": [],
   "source": [
    "new.trans"
   ]
  },
  {
   "cell_type": "code",
   "execution_count": null,
   "id": "de52358e",
   "metadata": {},
   "outputs": [],
   "source": []
  },
  {
   "cell_type": "code",
   "execution_count": null,
   "id": "8cf42f73",
   "metadata": {},
   "outputs": [],
   "source": []
  },
  {
   "cell_type": "code",
   "execution_count": null,
   "id": "fa1d0b6a",
   "metadata": {},
   "outputs": [],
   "source": []
  },
  {
   "cell_type": "code",
   "execution_count": null,
   "id": "0a8abfb2",
   "metadata": {},
   "outputs": [],
   "source": []
  },
  {
   "cell_type": "code",
   "execution_count": null,
   "id": "7644a21d",
   "metadata": {},
   "outputs": [],
   "source": []
  }
 ],
 "metadata": {
  "kernelspec": {
   "display_name": "Python 3.12",
   "language": "python",
   "name": "myenv"
  },
  "language_info": {
   "codemirror_mode": {
    "name": "ipython",
    "version": 3
   },
   "file_extension": ".py",
   "mimetype": "text/x-python",
   "name": "python",
   "nbconvert_exporter": "python",
   "pygments_lexer": "ipython3",
   "version": "3.12.0"
  }
 },
 "nbformat": 4,
 "nbformat_minor": 5
}
