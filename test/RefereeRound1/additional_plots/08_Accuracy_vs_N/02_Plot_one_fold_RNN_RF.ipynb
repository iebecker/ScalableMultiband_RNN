{
 "cells": [
  {
   "cell_type": "code",
   "execution_count": 15,
   "id": "a3167276-1ff8-4f8f-bb32-f64f36098baf",
   "metadata": {
    "tags": []
   },
   "outputs": [],
   "source": [
    "import pandas as pd\n",
    "import numpy as np\n",
    "from glob import glob\n",
    "import matplotlib.pyplot as plt\n",
    "from sklearn.metrics  import classification_report"
   ]
  },
  {
   "cell_type": "markdown",
   "id": "ea8b5333-9f19-4f75-a32e-341dfe6a929d",
   "metadata": {},
   "source": [
    "Plot the accuracy vs the number of observations for our RNN."
   ]
  },
  {
   "cell_type": "code",
   "execution_count": 30,
   "id": "6ef31038-c447-4d4d-b117-c96ca7fb2c2b",
   "metadata": {
    "tags": []
   },
   "outputs": [],
   "source": [
    "survey = 'Gaia'\n",
    "# survey='PanStarrs'"
   ]
  },
  {
   "cell_type": "markdown",
   "id": "14b667b4-8f67-49c8-a0d5-b9331e58f10b",
   "metadata": {},
   "source": [
    "Load RNN results"
   ]
  },
  {
   "cell_type": "code",
   "execution_count": null,
   "id": "8226e873-ee37-4b88-b4aa-ebcdad9923a3",
   "metadata": {
    "tags": []
   },
   "outputs": [],
   "source": [
    "# Load the results for fold 1 for RNN\n",
    "pred_rnn = pd.read_csv('../04_Compute_Metrics/'+survey+'/Results/Fold_1_Results.dat')\n",
    "pred_rnn.index.name = 'ID'\n",
    "\n",
    "# Load the metadata, to get the length.\n",
    "if survey=='Gaia':\n",
    "    path_metadata = './../../../../../Prepare_dataset/Gaia/V5/Dataset_Gaia_Phys_V5.dat'\n",
    "    cols = ['N', 'N_b', 'N_r']\n",
    "    path_rf = '../../../../../RandomForestBaseline/Compute_TurboFATS_v2/Gaia/Results/Pred_RBF_Gaia_Fold_1.dat'\n",
    "elif survey=='PanStarrs':\n",
    "    path_metadata = '../../../../../Prepare_dataset/PanStarrs/Dataset_PanStarrs_V2_ParamPhys.dat'\n",
    "    cols =[ 'N','N_g', 'N_r', 'N_i', 'N_z', 'N_y']\n",
    "    path_rf = '../../../../../RandomForestBaseline/Compute_TurboFATS_v2/PanStarrs/Results/Pred_RBF_PanStarrs_Fold_1.dat'\n",
    "metadata = pd.read_csv(path_metadata)\n",
    "metadata.set_index('ID', inplace=True)\n",
    "\n",
    "df_rnn = pd.merge(pred_rnn[['Class', 'Pred']], metadata[cols], on='ID', how='inner')"
   ]
  },
  {
   "cell_type": "markdown",
   "id": "543ad0f2-3ad2-4fad-a2f9-c903f1f85441",
   "metadata": {
    "tags": []
   },
   "source": [
    "Load RF rcolumnslts"
   ]
  },
  {
   "cell_type": "code",
   "execution_count": null,
   "id": "9efdb4f6-f853-4bac-ac47-70e1ed4b5bc8",
   "metadata": {
    "tags": []
   },
   "outputs": [],
   "source": [
    "   \n",
    "pred_rf = pd.read_csv(path_rf)\n",
    "pred_rf.rename({'oid':'ID'}, axis=1, inplace=True)\n",
    "pred_rf.set_index('ID', inplace=True)\n",
    "df_rf = pd.merge(pred_rf[['Class', 'Pred']], metadata[cols], on='ID', how='inner')"
   ]
  },
  {
   "cell_type": "code",
   "execution_count": null,
   "id": "b55ff6f0-1355-4ce1-a266-74746e9752c4",
   "metadata": {
    "tags": []
   },
   "outputs": [],
   "source": [
    "# Set the interval each 10 \n",
    "if survey=='Gaia':\n",
    "    interval = 10\n",
    "    delta = interval/2\n",
    "    N_max = np.ceil(df_rnn.N.max()/interval)\n",
    "    XX = np.arange(25, N_max*interval, interval)\n",
    "if survey=='PanStarrs':\n",
    "    interval = 10\n",
    "    delta = interval/2\n",
    "    N_max = np.ceil(df_rnn.N.max()/interval)\n",
    "    XX = np.arange(25, N_max*interval, interval)"
   ]
  },
  {
   "cell_type": "code",
   "execution_count": null,
   "id": "af46653d-6622-4b04-8d2d-e9605803cca1",
   "metadata": {
    "tags": []
   },
   "outputs": [],
   "source": [
    "ACC_rnn = []\n",
    "ACC_rf = []\n",
    "\n",
    "N = []\n",
    "deltas = []\n",
    "for i in range(len(XX)):\n",
    "    x = XX[i]\n",
    "    deltas.append(delta)\n",
    "    # Define the intervals\n",
    "    below = x-delta\n",
    "    above = x+delta\n",
    "    # Create the bined dataframe for each model type\n",
    "    b1 = df_rnn.N>=below\n",
    "    b2 = df_rnn.N<above\n",
    "    b = np.logical_and(b1, b2)\n",
    "    sel_rnn = df_rnn[['Class', 'Pred', 'N']][b]\n",
    "    \n",
    "    # Create the bined dataframe for each model type\n",
    "    b1 = df_rf.N>=below\n",
    "    b2 = df_rf.N<above\n",
    "    b = np.logical_and(b1, b2)\n",
    "    sel_rf = df_rf[['Class', 'Pred', 'N']][b]\n",
    "    \n",
    "\n",
    "    \n",
    "    # Compute the accuracy\n",
    "    acc_rnn = np.sum(sel_rnn['Pred']==sel_rnn['Class'])/sel_rnn.shape[0]\n",
    "\n",
    "    \n",
    "    acc_rf= np.sum(sel_rf['Pred']==sel_rf['Class'])/sel_rf.shape[0]\n",
    "\n",
    "    ACC_rnn.append(acc_rnn)        \n",
    "    ACC_rf.append(acc_rf)        \n",
    "    \n",
    "    N.append(sel_rnn.shape[0])"
   ]
  },
  {
   "cell_type": "code",
   "execution_count": null,
   "id": "5dce0269-1a1f-43e2-bdd2-4ee6a84ffdd7",
   "metadata": {},
   "outputs": [],
   "source": [
    "# Some bins have a vero low count. Merge bins of the boundaries.\n",
    "\n",
    "new_XX = list(XX).copy()\n",
    "new_N = N.copy()\n",
    "new_deltas = deltas.copy()\n",
    "\n",
    "cond_for = False\n",
    "N_min = 10\n",
    "condition_while=True\n",
    "new_start = 0\n",
    "\n",
    "\n",
    "temp_cont = 0\n",
    "while condition_while:\n",
    "    cond_for = False\n",
    "    # print('\\n iteration ', temp_cont)\n",
    "    # print(new_start, len(new_N))\n",
    "    # print(new_N)\n",
    "    for i in range(new_start, len(new_N)):\n",
    "        N_temp = new_N[i]\n",
    "        X_temp = new_XX[i]\n",
    "        d_temp = new_deltas[i]\n",
    "\n",
    "        if N_temp<N_min and i<len(new_N)-1:\n",
    "            # print('detected')\n",
    "            # print(i, new_XX[i],N_temp)\n",
    "            # Create the new bin\n",
    "            X_temp = (new_XX[i]+new_XX[i+1])/2\n",
    "            d_temp = new_deltas[i]+deltas[i+1]\n",
    "            N_temp = new_N[i]+new_N[i+1]\n",
    "\n",
    "            # Remove the last one\n",
    "            new_XX.pop(i+1)\n",
    "            new_deltas.pop(i+1)\n",
    "            new_N.pop(i+1)\n",
    "\n",
    "            # Replace the new values\n",
    "            new_XX[i] = X_temp\n",
    "            new_deltas[i] = d_temp\n",
    "            new_N[i] = N_temp\n",
    "\n",
    "            # Break the for loop and start again\n",
    "            cond_for = True\n",
    "            \n",
    "        elif N_temp<N_min and i==len(new_N)-1:\n",
    "            # print('detected end')\n",
    "            # print(i, new_XX[i],N_temp)     \n",
    "\n",
    "            # Create the new bin\n",
    "            X_temp = (new_XX[i-1]+new_XX[i])/2\n",
    "            d_temp = new_deltas[i-1]+deltas[i]\n",
    "            N_temp = new_N[i-1]+new_N[i]            \n",
    "          \n",
    "            # Remove the last one\n",
    "            new_XX.pop(i)\n",
    "            new_deltas.pop(i)\n",
    "            new_N.pop(i)\n",
    "          \n",
    "            # Replace the new values\n",
    "            new_XX[i-1] = X_temp\n",
    "            new_deltas[i-1] = d_temp\n",
    "            new_N[i-1] = N_temp\n",
    "            \n",
    "            condition_while=False   \n",
    "                \n",
    "        # If found a bin, break\n",
    "        if cond_for:\n",
    "            # new_start = i\n",
    "            break    \n",
    "\n",
    "    temp_cont+=1\n",
    "    if temp_cont>20:\n",
    "        break  \n",
    "\n",
    "        \n",
    "ACC_rnn = []\n",
    "ACC_rf = []\n",
    "REP_rnn = []\n",
    "REP_rf = []\n",
    "for i in range(len(new_XX)):\n",
    "    # print(i)\n",
    "    # Define the intervals\n",
    "    below = new_XX[i]-new_deltas[i]\n",
    "    above = new_XX[i]+new_deltas[i]\n",
    "    # Create the bined dataframe for each model type\n",
    "    b1 = df_rnn.N>=below\n",
    "    b2 = df_rnn.N<above\n",
    "    b = np.logical_and(b1, b2)\n",
    "    sel_rnn = df_rnn[['Class', 'Pred', 'N']][b]\n",
    "    \n",
    "    # Create the bined dataframe for each model type\n",
    "    b1 = df_rf.N>=below\n",
    "    b2 = df_rf.N<above\n",
    "    b = np.logical_and(b1, b2)\n",
    "    sel_rf = df_rf[['Class', 'Pred', 'N']][b]\n",
    "    \n",
    "    # Compute the accuracy\n",
    "    acc_rnn = np.sum(sel_rnn['Pred']==sel_rnn['Class'])/sel_rnn.shape[0]\n",
    "    acc_rf= np.sum(sel_rf['Pred']==sel_rf['Class'])/sel_rf.shape[0]\n",
    "    # Compute the reports\n",
    "    rep_RNN = classification_report(sel_rnn['Class'],sel_rnn['Pred'], output_dict=True, zero_division=0)\n",
    "    rep_RF = classification_report(sel_rf['Class'],sel_rf['Pred'], output_dict=True, zero_division=0)\n",
    "    # Aggregate results\n",
    "    ACC_rnn.append(acc_rnn)        \n",
    "    ACC_rf.append(acc_rf)        \n",
    "    \n",
    "    REP_rnn.append(rep_RNN)\n",
    "    REP_rf.append(rep_RF)\n"
   ]
  },
  {
   "cell_type": "code",
   "execution_count": null,
   "id": "63f6aaa6-0b0d-413d-a969-92ed24838525",
   "metadata": {
    "tags": []
   },
   "outputs": [
    {
     "data": {
      "text/plain": [
       "[]"
      ]
     },
     "execution_count": 22,
     "metadata": {},
     "output_type": "execute_result"
    },
    {
     "data": {
      "image/png": "[encoded data removed]",
      "text/plain": [
       "<Figure size 2000x500 with 1 Axes>"
      ]
     },
     "metadata": {},
     "output_type": "display_data"
    }
   ],
   "source": [
    "    \n",
    "new_XX = np.array(new_XX).astype(int)\n",
    "new_deltas = np.array(new_deltas)    \n",
    "\n",
    "# Custom ticks for Gauia\n",
    "if survey=='Gaia':\n",
    "    xticks = [i for i in range(new_XX.shape[0])  if new_XX[i]>125 or i%2==0  ]\n",
    "elif survey=='PanStarrs':\n",
    "    xticks = [i for i in range(new_XX.shape[0])]\n",
    "\n",
    "plt.figure(figsize=(20,5))\n",
    "plt.bar(new_XX-2, ACC_rnn, width=interval-6, label='RNN')\n",
    "plt.bar(new_XX+2, ACC_rf, width=interval-6, label='BRF')\n",
    "plt.xlabel('N')\n",
    "plt.legend(loc=0)\n",
    "plt.xticks(new_XX[xticks])\n",
    "plt.title('Accuracy as a function of the number of observations \\n'+survey)\n",
    "plt.plot()"
   ]
  },
  {
   "cell_type": "code",
   "execution_count": null,
   "id": "3a95a2d3-ccef-4fd8-b093-24b6a163a641",
   "metadata": {
    "tags": []
   },
   "outputs": [],
   "source": [
    "# f1_rnn = [REP_rnn[i]['weighted avg']['f1-score'] for i in range(len(REP_rnn))]\n",
    "# f1_rf = [REP_rf[i]['weighted avg']['f1-score'] for i in range(len(REP_rf))]"
   ]
  },
  {
   "cell_type": "code",
   "execution_count": 27,
   "id": "cfd7ac64-f91b-4a4b-b326-734386920007",
   "metadata": {
    "tags": []
   },
   "outputs": [],
   "source": []
  },
  {
   "cell_type": "code",
   "execution_count": 29,
   "id": "e5faa280-cc31-458c-a67a-fc42af80110b",
   "metadata": {},
   "outputs": [
    {
     "data": {
      "text/plain": [
       "[]"
      ]
     },
     "execution_count": 29,
     "metadata": {},
     "output_type": "execute_result"
    },
    {
     "data": {
      "image/png": "[encoded data removed]",
      "text/plain": [
       "<Figure size 2000x500 with 1 Axes>"
      ]
     },
     "metadata": {},
     "output_type": "display_data"
    }
   ],
   "source": [
    "f1_rnn = [REP_rnn[i]['macro avg']['f1-score'] for i in range(len(REP_rnn))]\n",
    "f1_rf = [REP_rf[i]['macro avg']['f1-score'] for i in range(len(REP_rf))]\n",
    "\n",
    "plt.figure(figsize=(20,5))\n",
    "plt.bar(new_XX-2, f1_rnn, width=interval-6, label='RNN')\n",
    "plt.bar(new_XX+2, f1_rf, width=interval-6, label='BRF')\n",
    "plt.xlabel('N')\n",
    "plt.legend(loc=0)\n",
    "plt.xticks(new_XX[xticks])\n",
    "plt.title('Macro F1 average as a function of the number of observations \\n'+survey)\n",
    "plt.plot()"
   ]
  },
  {
   "cell_type": "code",
   "execution_count": null,
   "id": "78280f4d-6b55-4db0-a113-d6174f353717",
   "metadata": {},
   "outputs": [],
   "source": []
  },
  {
   "cell_type": "code",
   "execution_count": null,
   "id": "29451198-6e0a-48c0-bfdb-26269a46d5c5",
   "metadata": {},
   "outputs": [],
   "source": []
  }
 ],
 "metadata": {
  "kernelspec": {
   "display_name": "Python 3 (ipykernel)",
   "language": "python",
   "name": "python3"
  },
  "language_info": {
   "codemirror_mode": {
    "name": "ipython",
    "version": 3
   },
   "file_extension": ".py",
   "mimetype": "text/x-python",
   "name": "python",
   "nbconvert_exporter": "python",
   "pygments_lexer": "ipython3",
   "version": "3.8.10"
  }
 },
 "nbformat": 4,
 "nbformat_minor": 5
}
