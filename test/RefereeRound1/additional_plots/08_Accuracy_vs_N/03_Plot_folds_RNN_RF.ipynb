{
 "cells": [
  {
   "cell_type": "code",
   "execution_count": 1,
   "id": "a3167276-1ff8-4f8f-bb32-f64f36098baf",
   "metadata": {
    "tags": []
   },
   "outputs": [],
   "source": [
    "import pandas as pd\n",
    "import numpy as np\n",
    "from glob import glob\n",
    "import matplotlib.pyplot as plt\n",
    "from sklearn.metrics  import classification_report"
   ]
  },
  {
   "cell_type": "markdown",
   "id": "ea8b5333-9f19-4f75-a32e-341dfe6a929d",
   "metadata": {},
   "source": [
    "Plot the accuracy vs the number of observations for our RNN."
   ]
  },
  {
   "cell_type": "code",
   "execution_count": 2,
   "id": "6ef31038-c447-4d4d-b117-c96ca7fb2c2b",
   "metadata": {
    "tags": []
   },
   "outputs": [],
   "source": [
    "survey = 'Gaia'\n",
    "# survey='PanStarrs'\n",
    "# survey = 'ZTF'"
   ]
  },
  {
   "cell_type": "code",
   "execution_count": 3,
   "id": "31e974c3-e3ab-4b2c-a9fa-233d2e65446c",
   "metadata": {
    "tags": []
   },
   "outputs": [],
   "source": [
    "# Load the metadata, to get the length.\n",
    "if survey=='Gaia':\n",
    "    path_metadata = './../../../../../Prepare_dataset/Gaia/V5/Dataset_Gaia_Phys_V5.dat'\n",
    "    cols = ['ID','N', 'N_b', 'N_r']\n",
    "    # path_rf = '../../../../../RandomForestBaseline/Compute_TurboFATS_v2/Gaia/Results/Pred_RBF_Gaia_Fold_1.dat'\n",
    "elif survey=='PanStarrs':\n",
    "    path_metadata = '../../../../../Prepare_dataset/PanStarrs/Dataset_PanStarrs_V2_ParamPhys.dat'\n",
    "    cols =['ID','N','N_g', 'N_r', 'N_i', 'N_z', 'N_y']\n",
    "    # path_rf = '../../../../../RandomForestBaseline/Compute_TurboFATS_v2/PanStarrs/Results/Pred_RBF_PanStarrs_Fold_1.dat'\n",
    "elif survey=='ZTF':\n",
    "    path_metadata = '../../../../../../Databases/ALeRCE/Sánchez-Sáez et al.2021/metadata.csv'\n",
    "    cols =['ID', 'N','N_1', 'N_2']"
   ]
  },
  {
   "cell_type": "code",
   "execution_count": 4,
   "id": "ada25c6e-ee71-46ab-914b-ba2ad1233382",
   "metadata": {
    "tags": []
   },
   "outputs": [],
   "source": [
    "# Load the metadata\n",
    "metadata = pd.read_csv(path_metadata, usecols=cols)"
   ]
  },
  {
   "cell_type": "markdown",
   "id": "f674fbd5-85a1-4f59-ac3f-b8ed6ea486ad",
   "metadata": {},
   "source": [
    "Load RNN results"
   ]
  },
  {
   "cell_type": "code",
   "execution_count": 5,
   "id": "0b70e62d-ec19-4cef-ae62-8a1448bedcba",
   "metadata": {
    "tags": []
   },
   "outputs": [],
   "source": [
    "path = '../04_Compute_Metrics/'+survey+'/Results/*.dat'\n",
    "folds_rnn = glob(path)\n",
    "folds_rnn.sort()"
   ]
  },
  {
   "cell_type": "markdown",
   "id": "516ddfd0-93e5-425c-8c1c-7192dc8664d9",
   "metadata": {},
   "source": [
    "Load RF results"
   ]
  },
  {
   "cell_type": "code",
   "execution_count": 6,
   "id": "7ee7d5ec-6aae-48de-906d-c8236988026f",
   "metadata": {
    "tags": []
   },
   "outputs": [],
   "source": [
    "path_rf = '../../../../../RandomForestBaseline/Compute_TurboFATS_v2/'+survey+'/Results/*.dat'\n",
    "folds_rf = glob(path_rf)\n",
    "folds_rf.sort()"
   ]
  },
  {
   "cell_type": "code",
   "execution_count": 7,
   "id": "98bf8abf-e36e-4ebb-92e6-927a9e3d843b",
   "metadata": {
    "tags": []
   },
   "outputs": [],
   "source": [
    "dfs_rnn = []\n",
    "for fold in folds_rnn:\n",
    "\n",
    "    # Load RNN results\n",
    "    pred_rnn = pd.read_csv(fold)\n",
    "    pred_rnn.index.name = 'ID'\n",
    "\n",
    "    df_rnn = pd.merge(pred_rnn[['Class', 'Pred']], metadata[cols], on='ID', how='inner')    \n",
    "    dfs_rnn.append(df_rnn)\n",
    "dfs_rf = []\n",
    "for fold in folds_rf:\n",
    "   # Load RF results\n",
    "    pred_rf = pd.read_csv(fold)\n",
    "    pred_rf.rename({'oid':'ID'}, axis=1, inplace=True)\n",
    "    pred_rf.set_index('ID', inplace=True)\n",
    "    df_rf = pd.merge(pred_rf[['Class', 'Pred']], metadata[cols], on='ID', how='inner')        \n",
    "    dfs_rf.append(df_rf)"
   ]
  },
  {
   "cell_type": "code",
   "execution_count": 8,
   "id": "b55ff6f0-1355-4ce1-a266-74746e9752c4",
   "metadata": {
    "tags": []
   },
   "outputs": [],
   "source": [
    "# Set the default interval each 10 observations, using the first fold\n",
    "df_rnn = dfs_rnn[0]\n",
    "df_rf = dfs_rf[0]\n",
    "\n",
    "if survey=='Gaia':\n",
    "    interval = 10\n",
    "    delta = interval/2\n",
    "    N_max = np.ceil(df_rnn.N.max()/interval)\n",
    "    XX = np.arange(25, N_max*interval, interval)\n",
    "if survey=='PanStarrs':\n",
    "    interval = 10\n",
    "    delta = interval/2\n",
    "    N_max = np.ceil(df_rnn.N.max()/interval)\n",
    "    XX = np.arange(10, N_max*interval, interval)\n",
    "if survey=='ZTF':\n",
    "    interval = 50\n",
    "    delta = interval/2\n",
    "    N_max = np.ceil(df_rnn.N.max()/interval)\n",
    "    XX = np.arange(10, N_max*interval, interval)    "
   ]
  },
  {
   "cell_type": "markdown",
   "id": "62736938-8261-4d71-b323-73084e5982b1",
   "metadata": {},
   "source": [
    "For each proposed bin, count the number of elements in the bin. If smaller than 10, they will be merged."
   ]
  },
  {
   "cell_type": "code",
   "execution_count": 9,
   "id": "5dce0269-1a1f-43e2-bdd2-4ee6a84ffdd7",
   "metadata": {},
   "outputs": [],
   "source": [
    "# Compute the number of elements per bin using default values\n",
    "N = []\n",
    "deltas = []\n",
    "for i in range(len(XX)):\n",
    "    x = XX[i]\n",
    "    deltas.append(delta)\n",
    "    # Define the intervals\n",
    "    below = x-delta\n",
    "    above = x+delta\n",
    "    # Create the bined dataframe for each model type\n",
    "    b1 = df_rnn.N>=below\n",
    "    b2 = df_rnn.N<above\n",
    "    b = np.logical_and(b1, b2)\n",
    "    sel_rnn = df_rnn[['Class', 'Pred', 'N']][b]\n",
    "    \n",
    "    N.append(sel_rnn.shape[0])\n",
    "\n",
    "# Some bins have a vero low count. Merge bins of the boundaries.\n",
    "new_XX = list(XX).copy()\n",
    "new_N = N.copy()\n",
    "new_deltas = deltas.copy()\n",
    "\n",
    "N_min = 10\n",
    "condition_while=True\n",
    "new_start = 0\n",
    "\n",
    "while_exit=0\n",
    "while condition_while:\n",
    "    cond_for = False\n",
    "\n",
    "    for i in range(new_start, len(new_N)):\n",
    "        N_temp = new_N[i]\n",
    "        X_temp = new_XX[i]\n",
    "        d_temp = new_deltas[i]\n",
    "        if N_temp<N_min and i<len(new_N)-1:\n",
    "            # Create the new bin\n",
    "            X_temp = (new_XX[i]+new_XX[i+1])/2\n",
    "            d_temp = new_deltas[i]+deltas[i+1]\n",
    "            N_temp = new_N[i]+new_N[i+1]\n",
    "\n",
    "            # Remove the last one\n",
    "            new_XX.pop(i+1)\n",
    "            new_deltas.pop(i+1)\n",
    "            new_N.pop(i+1)\n",
    "\n",
    "            # Replace the new values\n",
    "            new_XX[i] = X_temp\n",
    "            new_deltas[i] = d_temp\n",
    "            new_N[i] = N_temp\n",
    "\n",
    "            # Break the for loop and start again\n",
    "            cond_for = True\n",
    "            \n",
    "        elif N_temp<N_min and i==len(new_N)-1:\n",
    "            # Create the new bin\n",
    "            X_temp = (new_XX[i-1]+new_XX[i])/2\n",
    "            d_temp = new_deltas[i-1]+deltas[i]\n",
    "            N_temp = new_N[i-1]+new_N[i]            \n",
    "\n",
    "            # Remove the last one\n",
    "            new_XX.pop(i)\n",
    "            new_deltas.pop(i)\n",
    "            new_N.pop(i)\n",
    "          \n",
    "            # Replace the new values\n",
    "            new_XX[i-1] = X_temp\n",
    "            new_deltas[i-1] = d_temp\n",
    "            new_N[i-1] = N_temp\n",
    "            \n",
    "            condition_while=False   \n",
    "                \n",
    "        # If found a bin, break\n",
    "        if cond_for:\n",
    "            break    \n",
    "    while_exit+=1\n",
    "    if while_exit>25:\n",
    "        condition_while=False\n",
    "new_XX = np.array(new_XX).astype(int)\n",
    "new_deltas = np.array(new_deltas)    "
   ]
  },
  {
   "cell_type": "markdown",
   "id": "9cda6bea-e1a9-47a5-8a31-8581e717e691",
   "metadata": {},
   "source": [
    "Once the new bins have been found, compute the metrics."
   ]
  },
  {
   "cell_type": "code",
   "execution_count": 10,
   "id": "9c5efb1f-97fc-46c0-9315-271bafe53935",
   "metadata": {
    "tags": []
   },
   "outputs": [],
   "source": [
    "# Create the containers\n",
    "# ACC_rnn = []\n",
    "# ACC_rf = []\n",
    "# REP_rnn = []\n",
    "# REP_rf = []\n",
    "REPORTs = []\n",
    "ACCs = []\n",
    "\n",
    "# For each bin\n",
    "for i in range(len(new_XX)):\n",
    "    \n",
    "    REPORT = {'RNN':[], 'RF':[]}\n",
    "    ACC = {'RNN':[], 'RF':[]}    \n",
    "    # Define the intervals\n",
    "    below = new_XX[i]-new_deltas[i]\n",
    "    above = new_XX[i]+new_deltas[i]    \n",
    "    # For each fold\n",
    "    for j in range(len(dfs_rnn)):\n",
    "        # Get the corresponding results of RNN\n",
    "        df_rnn = dfs_rnn[j]\n",
    "        # Create the bined dataframe for each model type\n",
    "        b1 = df_rnn.N>=below\n",
    "        b2 = df_rnn.N<above\n",
    "        b = np.logical_and(b1, b2)\n",
    "        sel_rnn = df_rnn[['Class', 'Pred', 'N']][b]\n",
    "        \n",
    "        # Get the corresponding results of RF\n",
    "        df_rf = dfs_rf[j]\n",
    "        # Create the bined dataframe for each model type\n",
    "        b1 = df_rf.N>=below\n",
    "        b2 = df_rf.N<above\n",
    "        b = np.logical_and(b1, b2)\n",
    "        sel_rf = df_rf[['Class', 'Pred', 'N']][b]\n",
    "\n",
    "        # # Compute the accuracy\n",
    "        # acc_rnn = np.sum(sel_rnn['Pred']==sel_rnn['Class'])/sel_rnn.shape[0]\n",
    "        # acc_rf= np.sum(sel_rf['Pred']==sel_rf['Class'])/sel_rf.shape[0]\n",
    "        \n",
    "        # Compute the reports\n",
    "        rep_RNN = classification_report(sel_rnn['Class'],sel_rnn['Pred'], output_dict=True, zero_division=0)\n",
    "        rep_RF = classification_report(sel_rf['Class'],sel_rf['Pred'], output_dict=True, zero_division=0)\n",
    "        \n",
    "        # Aggregate results\n",
    "  \n",
    "        REPORT['RNN'].append(rep_RNN)\n",
    "        REPORT['RF'].append(rep_RF)\n",
    "    REPORTs.append(REPORT)\n"
   ]
  },
  {
   "cell_type": "markdown",
   "id": "15b60a5f-fd3d-4ec5-808f-b5557fb04670",
   "metadata": {},
   "source": [
    "Compute the median and dispersion, per bin"
   ]
  },
  {
   "cell_type": "code",
   "execution_count": 11,
   "id": "21ce38dd-7757-42f6-ae68-d4ef55591ebf",
   "metadata": {
    "tags": []
   },
   "outputs": [],
   "source": [
    "F1 = {'RNN':[], 'RF':[]}\n",
    "\n",
    "for key in ['RNN', 'RF']:\n",
    "    for bin_ in range(len(REPORTs)):\n",
    "\n",
    "        report = REPORTs[bin_][key]\n",
    "        F1s = [report[i]['macro avg']['f1-score'] for i in range(len(report))]\n",
    "\n",
    "        mean, std = np.mean(F1s), np.std(F1s)\n",
    "        F1[key].append([mean, std])\n",
    "    F1[key] = np.array(F1[key])"
   ]
  },
  {
   "cell_type": "markdown",
   "id": "4c9ffcb7-6246-45f9-90a3-989587d0d6c8",
   "metadata": {},
   "source": [
    "Plot the graphs"
   ]
  },
  {
   "cell_type": "code",
   "execution_count": 12,
   "id": "761c455d-642a-4520-989b-a1cf5b597c8f",
   "metadata": {
    "tags": []
   },
   "outputs": [],
   "source": [
    "\n",
    "\n",
    "# Custom ticks \n",
    "if survey=='Gaia':\n",
    "    xticks = [i for i in range(new_XX.shape[0])  if new_XX[i]>125 or i%2==0  ]\n",
    "    delta = 2\n",
    "    width_ = interval-6\n",
    "elif survey=='PanStarrs':\n",
    "    xticks = [i for i in range(new_XX.shape[0])]\n",
    "    delta = 2\n",
    "    width_ = interval-6\n",
    "elif survey=='ZTF':\n",
    "    xticks = [i for i in range(new_XX.shape[0])]\n",
    "    width_ = interval/3\n",
    "    delta = width_/2"
   ]
  },
  {
   "cell_type": "code",
   "execution_count": 13,
   "id": "800a248f-64ab-43ea-b90f-10f05b54edb4",
   "metadata": {
    "tags": []
   },
   "outputs": [
    {
     "data": {
      "image/png": "[encoded data removed]",
      "text/plain": [
       "<Figure size 2000x500 with 1 Axes>"
      ]
     },
     "metadata": {},
     "output_type": "display_data"
    }
   ],
   "source": [
    "plt.figure(figsize=(20,5))\n",
    "\n",
    "fmt = {'fontsize':20, 'fontname':'Times New Roman'}\n",
    "fmt_title = {'fontsize':22, 'fontname':'Times New Roman'}\n",
    "\n",
    "plt.bar(new_XX-delta, F1['RNN'][:,0], width=width_, label='RNN')\n",
    "plt.errorbar(new_XX-delta, F1['RNN'][:,0], yerr=F1['RNN'][:,1],fmt='none', color='black')\n",
    "\n",
    "plt.bar(new_XX+delta, F1['RF'][:,0], width=width_, label='BRF')\n",
    "plt.errorbar(new_XX+delta, F1['RF'][:,0], yerr=F1['RF'][:,1],fmt='none', color='black')\n",
    "plt.xlabel('Total number of observations', **fmt)\n",
    "plt.legend(loc=0)\n",
    "plt.xticks(new_XX[xticks])\n",
    "plt.title('Average macro F-score as a function of the number of observations \\n'+survey, **fmt_title)\n",
    "plt.ylabel('F-score', **fmt)\n",
    "plt.savefig(survey+'.png', dpi=250,format='png' )\n",
    "plt.show()"
   ]
  },
  {
   "cell_type": "code",
   "execution_count": null,
   "id": "78280f4d-6b55-4db0-a113-d6174f353717",
   "metadata": {},
   "outputs": [],
   "source": []
  },
  {
   "cell_type": "code",
   "execution_count": null,
   "id": "29451198-6e0a-48c0-bfdb-26269a46d5c5",
   "metadata": {},
   "outputs": [],
   "source": []
  }
 ],
 "metadata": {
  "kernelspec": {
   "display_name": "Python 3 (ipykernel)",
   "language": "python",
   "name": "python3"
  },
  "language_info": {
   "codemirror_mode": {
    "name": "ipython",
    "version": 3
   },
   "file_extension": ".py",
   "mimetype": "text/x-python",
   "name": "python",
   "nbconvert_exporter": "python",
   "pygments_lexer": "ipython3",
   "version": "3.8.10"
  }
 },
 "nbformat": 4,
 "nbformat_minor": 5
}
