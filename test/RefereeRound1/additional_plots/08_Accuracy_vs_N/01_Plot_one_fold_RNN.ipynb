{
 "cells": [
  {
   "cell_type": "code",
   "execution_count": 16,
   "id": "a3167276-1ff8-4f8f-bb32-f64f36098baf",
   "metadata": {
    "tags": []
   },
   "outputs": [],
   "source": [
    "import pandas as pd\n",
    "import numpy as np\n",
    "from glob import glob\n",
    "import matplotlib.pyplot as plt"
   ]
  },
  {
   "cell_type": "markdown",
   "id": "ea8b5333-9f19-4f75-a32e-341dfe6a929d",
   "metadata": {},
   "source": [
    "Plot the accuracy vs the number of observations for our RNN."
   ]
  },
  {
   "cell_type": "code",
   "execution_count": 2,
   "id": "6ef31038-c447-4d4d-b117-c96ca7fb2c2b",
   "metadata": {
    "tags": []
   },
   "outputs": [],
   "source": [
    "survey = 'Gaia'\n",
    "\n"
   ]
  },
  {
   "cell_type": "code",
   "execution_count": 7,
   "id": "8226e873-ee37-4b88-b4aa-ebcdad9923a3",
   "metadata": {
    "tags": []
   },
   "outputs": [
    {
     "data": {
      "text/html": [
       "<div>\n",
       "<style scoped>\n",
       "    .dataframe tbody tr th:only-of-type {\n",
       "        vertical-align: middle;\n",
       "    }\n",
       "\n",
       "    .dataframe tbody tr th {\n",
       "        vertical-align: top;\n",
       "    }\n",
       "\n",
       "    .dataframe thead th {\n",
       "        text-align: right;\n",
       "    }\n",
       "</style>\n",
       "<table border=\"1\" class=\"dataframe\">\n",
       "  <thead>\n",
       "    <tr style=\"text-align: right;\">\n",
       "      <th></th>\n",
       "      <th>Prob_RRAB</th>\n",
       "      <th>Prob_T2CEP</th>\n",
       "      <th>Prob_RRC</th>\n",
       "      <th>Prob_MIRA_SR</th>\n",
       "      <th>Prob_DSCT_SXPHE</th>\n",
       "      <th>Prob_CEP</th>\n",
       "      <th>Class</th>\n",
       "      <th>Pred</th>\n",
       "    </tr>\n",
       "    <tr>\n",
       "      <th>ID</th>\n",
       "      <th></th>\n",
       "      <th></th>\n",
       "      <th></th>\n",
       "      <th></th>\n",
       "      <th></th>\n",
       "      <th></th>\n",
       "      <th></th>\n",
       "      <th></th>\n",
       "    </tr>\n",
       "  </thead>\n",
       "  <tbody>\n",
       "    <tr>\n",
       "      <th>5321974451288430720</th>\n",
       "      <td>0.491417</td>\n",
       "      <td>0.014111</td>\n",
       "      <td>0.116118</td>\n",
       "      <td>0.222808</td>\n",
       "      <td>0.114212</td>\n",
       "      <td>0.041334</td>\n",
       "      <td>RRAB</td>\n",
       "      <td>RRAB</td>\n",
       "    </tr>\n",
       "    <tr>\n",
       "      <th>5976629653092222976</th>\n",
       "      <td>0.075034</td>\n",
       "      <td>0.021037</td>\n",
       "      <td>0.039975</td>\n",
       "      <td>0.796727</td>\n",
       "      <td>0.051885</td>\n",
       "      <td>0.015343</td>\n",
       "      <td>MIRA_SR</td>\n",
       "      <td>MIRA_SR</td>\n",
       "    </tr>\n",
       "    <tr>\n",
       "      <th>4661507054949806976</th>\n",
       "      <td>0.042722</td>\n",
       "      <td>0.167156</td>\n",
       "      <td>0.032761</td>\n",
       "      <td>0.709285</td>\n",
       "      <td>0.030921</td>\n",
       "      <td>0.017155</td>\n",
       "      <td>MIRA_SR</td>\n",
       "      <td>MIRA_SR</td>\n",
       "    </tr>\n",
       "    <tr>\n",
       "      <th>4660432351049502080</th>\n",
       "      <td>0.535139</td>\n",
       "      <td>0.061343</td>\n",
       "      <td>0.041015</td>\n",
       "      <td>0.217325</td>\n",
       "      <td>0.036545</td>\n",
       "      <td>0.108633</td>\n",
       "      <td>CEP</td>\n",
       "      <td>RRAB</td>\n",
       "    </tr>\n",
       "    <tr>\n",
       "      <th>1826671821739956736</th>\n",
       "      <td>0.080297</td>\n",
       "      <td>0.012203</td>\n",
       "      <td>0.041202</td>\n",
       "      <td>0.771117</td>\n",
       "      <td>0.078912</td>\n",
       "      <td>0.016269</td>\n",
       "      <td>MIRA_SR</td>\n",
       "      <td>MIRA_SR</td>\n",
       "    </tr>\n",
       "  </tbody>\n",
       "</table>\n",
       "</div>"
      ],
      "text/plain": [
       "                     Prob_RRAB  Prob_T2CEP  Prob_RRC  Prob_MIRA_SR  \\\n",
       "ID                                                                   \n",
       "5321974451288430720   0.491417    0.014111  0.116118      0.222808   \n",
       "5976629653092222976   0.075034    0.021037  0.039975      0.796727   \n",
       "4661507054949806976   0.042722    0.167156  0.032761      0.709285   \n",
       "4660432351049502080   0.535139    0.061343  0.041015      0.217325   \n",
       "1826671821739956736   0.080297    0.012203  0.041202      0.771117   \n",
       "\n",
       "                     Prob_DSCT_SXPHE  Prob_CEP    Class     Pred  \n",
       "ID                                                                \n",
       "5321974451288430720         0.114212  0.041334     RRAB     RRAB  \n",
       "5976629653092222976         0.051885  0.015343  MIRA_SR  MIRA_SR  \n",
       "4661507054949806976         0.030921  0.017155  MIRA_SR  MIRA_SR  \n",
       "4660432351049502080         0.036545  0.108633      CEP     RRAB  \n",
       "1826671821739956736         0.078912  0.016269  MIRA_SR  MIRA_SR  "
      ]
     },
     "execution_count": 7,
     "metadata": {},
     "output_type": "execute_result"
    }
   ],
   "source": [
    "# Load the results for fold 1.\n",
    "pred = pd.read_csv('../04_Compute_Metrics/'+survey+'/Results/Fold_1_Results.dat')\n",
    "pred.index.name = 'ID'\n",
    "pred.head()"
   ]
  },
  {
   "cell_type": "code",
   "execution_count": 8,
   "id": "fb02e40c-0815-4b6d-ab16-56df84dd8253",
   "metadata": {
    "tags": []
   },
   "outputs": [
    {
     "data": {
      "text/html": [
       "<div>\n",
       "<style scoped>\n",
       "    .dataframe tbody tr th:only-of-type {\n",
       "        vertical-align: middle;\n",
       "    }\n",
       "\n",
       "    .dataframe tbody tr th {\n",
       "        vertical-align: top;\n",
       "    }\n",
       "\n",
       "    .dataframe thead th {\n",
       "        text-align: right;\n",
       "    }\n",
       "</style>\n",
       "<table border=\"1\" class=\"dataframe\">\n",
       "  <thead>\n",
       "    <tr style=\"text-align: right;\">\n",
       "      <th></th>\n",
       "      <th>Path</th>\n",
       "      <th>N</th>\n",
       "      <th>N_b</th>\n",
       "      <th>N_r</th>\n",
       "      <th>Class</th>\n",
       "      <th>T_eff</th>\n",
       "      <th>e_T_eff</th>\n",
       "      <th>E_T_eff</th>\n",
       "      <th>Lum</th>\n",
       "      <th>e_Lum</th>\n",
       "      <th>...</th>\n",
       "      <th>E_Rad</th>\n",
       "      <th>logg</th>\n",
       "      <th>e_logg</th>\n",
       "      <th>E_logg</th>\n",
       "      <th>Mass</th>\n",
       "      <th>e_Mass</th>\n",
       "      <th>E_Mass</th>\n",
       "      <th>rho</th>\n",
       "      <th>e_rho</th>\n",
       "      <th>E_rho</th>\n",
       "    </tr>\n",
       "    <tr>\n",
       "      <th>ID</th>\n",
       "      <th></th>\n",
       "      <th></th>\n",
       "      <th></th>\n",
       "      <th></th>\n",
       "      <th></th>\n",
       "      <th></th>\n",
       "      <th></th>\n",
       "      <th></th>\n",
       "      <th></th>\n",
       "      <th></th>\n",
       "      <th></th>\n",
       "      <th></th>\n",
       "      <th></th>\n",
       "      <th></th>\n",
       "      <th></th>\n",
       "      <th></th>\n",
       "      <th></th>\n",
       "      <th></th>\n",
       "      <th></th>\n",
       "      <th></th>\n",
       "      <th></th>\n",
       "    </tr>\n",
       "  </thead>\n",
       "  <tbody>\n",
       "    <tr>\n",
       "      <th>3985923473972534400</th>\n",
       "      <td>/home/Data/Databases/GAIA/Consolidate_Gaia/dat...</td>\n",
       "      <td>8</td>\n",
       "      <td>4</td>\n",
       "      <td>4</td>\n",
       "      <td>DSCT_SXPHE</td>\n",
       "      <td>-1.0000</td>\n",
       "      <td>-1.000</td>\n",
       "      <td>-1.0000</td>\n",
       "      <td>-1.00000</td>\n",
       "      <td>-1.0</td>\n",
       "      <td>...</td>\n",
       "      <td>-1.0</td>\n",
       "      <td>-1.0000</td>\n",
       "      <td>-1.0</td>\n",
       "      <td>-1.0</td>\n",
       "      <td>-1.00</td>\n",
       "      <td>-1.0</td>\n",
       "      <td>-1.0</td>\n",
       "      <td>-1.0000</td>\n",
       "      <td>-1.0</td>\n",
       "      <td>-1.0</td>\n",
       "    </tr>\n",
       "    <tr>\n",
       "      <th>3986570197263160320</th>\n",
       "      <td>/home/Data/Databases/GAIA/Consolidate_Gaia/dat...</td>\n",
       "      <td>10</td>\n",
       "      <td>5</td>\n",
       "      <td>5</td>\n",
       "      <td>RRAB</td>\n",
       "      <td>6481.0000</td>\n",
       "      <td>-1.000</td>\n",
       "      <td>-1.0000</td>\n",
       "      <td>-1.00000</td>\n",
       "      <td>-1.0</td>\n",
       "      <td>...</td>\n",
       "      <td>-1.0</td>\n",
       "      <td>-1.0000</td>\n",
       "      <td>-1.0</td>\n",
       "      <td>-1.0</td>\n",
       "      <td>-1.00</td>\n",
       "      <td>-1.0</td>\n",
       "      <td>-1.0</td>\n",
       "      <td>-1.0000</td>\n",
       "      <td>-1.0</td>\n",
       "      <td>-1.0</td>\n",
       "    </tr>\n",
       "    <tr>\n",
       "      <th>3986754189367115264</th>\n",
       "      <td>/home/Data/Databases/GAIA/Consolidate_Gaia/dat...</td>\n",
       "      <td>12</td>\n",
       "      <td>6</td>\n",
       "      <td>6</td>\n",
       "      <td>RRAB</td>\n",
       "      <td>7381.3335</td>\n",
       "      <td>7173.793</td>\n",
       "      <td>7558.6665</td>\n",
       "      <td>2.83599</td>\n",
       "      <td>-1.0</td>\n",
       "      <td>...</td>\n",
       "      <td>-1.0</td>\n",
       "      <td>4.5185</td>\n",
       "      <td>-1.0</td>\n",
       "      <td>-1.0</td>\n",
       "      <td>1.55</td>\n",
       "      <td>-1.0</td>\n",
       "      <td>-1.0</td>\n",
       "      <td>1.0603</td>\n",
       "      <td>-1.0</td>\n",
       "      <td>-1.0</td>\n",
       "    </tr>\n",
       "    <tr>\n",
       "      <th>3987237630885709312</th>\n",
       "      <td>/home/Data/Databases/GAIA/Consolidate_Gaia/dat...</td>\n",
       "      <td>12</td>\n",
       "      <td>7</td>\n",
       "      <td>5</td>\n",
       "      <td>RRAB</td>\n",
       "      <td>7011.0000</td>\n",
       "      <td>-1.000</td>\n",
       "      <td>-1.0000</td>\n",
       "      <td>-1.00000</td>\n",
       "      <td>-1.0</td>\n",
       "      <td>...</td>\n",
       "      <td>-1.0</td>\n",
       "      <td>-1.0000</td>\n",
       "      <td>-1.0</td>\n",
       "      <td>-1.0</td>\n",
       "      <td>-1.00</td>\n",
       "      <td>-1.0</td>\n",
       "      <td>-1.0</td>\n",
       "      <td>-1.0000</td>\n",
       "      <td>-1.0</td>\n",
       "      <td>-1.0</td>\n",
       "    </tr>\n",
       "    <tr>\n",
       "      <th>3987697089307190016</th>\n",
       "      <td>/home/Data/Databases/GAIA/Consolidate_Gaia/dat...</td>\n",
       "      <td>8</td>\n",
       "      <td>4</td>\n",
       "      <td>4</td>\n",
       "      <td>RRAB</td>\n",
       "      <td>7191.5000</td>\n",
       "      <td>6808.000</td>\n",
       "      <td>8884.0000</td>\n",
       "      <td>2.30248</td>\n",
       "      <td>-1.0</td>\n",
       "      <td>...</td>\n",
       "      <td>-1.0</td>\n",
       "      <td>4.6352</td>\n",
       "      <td>-1.0</td>\n",
       "      <td>-1.0</td>\n",
       "      <td>1.58</td>\n",
       "      <td>-1.0</td>\n",
       "      <td>-1.0</td>\n",
       "      <td>1.5719</td>\n",
       "      <td>-1.0</td>\n",
       "      <td>-1.0</td>\n",
       "    </tr>\n",
       "  </tbody>\n",
       "</table>\n",
       "<p>5 rows × 23 columns</p>\n",
       "</div>"
      ],
      "text/plain": [
       "                                                                  Path   N  \\\n",
       "ID                                                                           \n",
       "3985923473972534400  /home/Data/Databases/GAIA/Consolidate_Gaia/dat...   8   \n",
       "3986570197263160320  /home/Data/Databases/GAIA/Consolidate_Gaia/dat...  10   \n",
       "3986754189367115264  /home/Data/Databases/GAIA/Consolidate_Gaia/dat...  12   \n",
       "3987237630885709312  /home/Data/Databases/GAIA/Consolidate_Gaia/dat...  12   \n",
       "3987697089307190016  /home/Data/Databases/GAIA/Consolidate_Gaia/dat...   8   \n",
       "\n",
       "                     N_b  N_r       Class      T_eff   e_T_eff    E_T_eff  \\\n",
       "ID                                                                          \n",
       "3985923473972534400    4    4  DSCT_SXPHE    -1.0000    -1.000    -1.0000   \n",
       "3986570197263160320    5    5        RRAB  6481.0000    -1.000    -1.0000   \n",
       "3986754189367115264    6    6        RRAB  7381.3335  7173.793  7558.6665   \n",
       "3987237630885709312    7    5        RRAB  7011.0000    -1.000    -1.0000   \n",
       "3987697089307190016    4    4        RRAB  7191.5000  6808.000  8884.0000   \n",
       "\n",
       "                         Lum  e_Lum  ...  E_Rad    logg  e_logg  E_logg  Mass  \\\n",
       "ID                                   ...                                        \n",
       "3985923473972534400 -1.00000   -1.0  ...   -1.0 -1.0000    -1.0    -1.0 -1.00   \n",
       "3986570197263160320 -1.00000   -1.0  ...   -1.0 -1.0000    -1.0    -1.0 -1.00   \n",
       "3986754189367115264  2.83599   -1.0  ...   -1.0  4.5185    -1.0    -1.0  1.55   \n",
       "3987237630885709312 -1.00000   -1.0  ...   -1.0 -1.0000    -1.0    -1.0 -1.00   \n",
       "3987697089307190016  2.30248   -1.0  ...   -1.0  4.6352    -1.0    -1.0  1.58   \n",
       "\n",
       "                     e_Mass  E_Mass     rho  e_rho  E_rho  \n",
       "ID                                                         \n",
       "3985923473972534400    -1.0    -1.0 -1.0000   -1.0   -1.0  \n",
       "3986570197263160320    -1.0    -1.0 -1.0000   -1.0   -1.0  \n",
       "3986754189367115264    -1.0    -1.0  1.0603   -1.0   -1.0  \n",
       "3987237630885709312    -1.0    -1.0 -1.0000   -1.0   -1.0  \n",
       "3987697089307190016    -1.0    -1.0  1.5719   -1.0   -1.0  \n",
       "\n",
       "[5 rows x 23 columns]"
      ]
     },
     "execution_count": 8,
     "metadata": {},
     "output_type": "execute_result"
    }
   ],
   "source": [
    "# Load the metadata, to get the length.\n",
    "path = './../../../../../Prepare_dataset/Gaia/V5/Dataset_Gaia_Phys_V5.dat'\n",
    "metadata = pd.read_csv(path)\n",
    "metadata.set_index('ID', inplace=True)\n",
    "metadata.head()"
   ]
  },
  {
   "cell_type": "code",
   "execution_count": 13,
   "id": "9efdb4f6-f853-4bac-ac47-70e1ed4b5bc8",
   "metadata": {
    "tags": []
   },
   "outputs": [],
   "source": [
    "df = pd.merge(pred[['Class', 'Pred']], metadata[['N', 'N_b', 'N_r']], on='ID', how='inner')"
   ]
  },
  {
   "cell_type": "code",
   "execution_count": 29,
   "id": "a2f27b18-1784-4250-8e46-6bb7cec3e794",
   "metadata": {
    "tags": []
   },
   "outputs": [
    {
     "data": {
      "image/png": "[encoded data removed]",
      "text/plain": [
       "<Figure size 1500x500 with 1 Axes>"
      ]
     },
     "metadata": {},
     "output_type": "display_data"
    },
    {
     "data": {
      "image/png": "[encoded data removed]",
      "text/plain": [
       "<Figure size 1500x500 with 1 Axes>"
      ]
     },
     "metadata": {},
     "output_type": "display_data"
    },
    {
     "data": {
      "image/png": "[encoded data removed]",
      "text/plain": [
       "<Figure size 1500x500 with 1 Axes>"
      ]
     },
     "metadata": {},
     "output_type": "display_data"
    }
   ],
   "source": [
    "plt.figure(figsize=(15,5))\n",
    "col = 'N'\n",
    "plt.hist(df[col], log=True, bins=50)\n",
    "plt.xticks([15,50,100,150,200,250])\n",
    "plt.xlabel(col)\n",
    "plt.show()\n",
    "\n",
    "plt.figure(figsize=(15,5))\n",
    "col = 'N_b'\n",
    "plt.hist(df[col], log=True, bins=50)\n",
    "# plt.xticks([15,50,100,150,200,250])\n",
    "plt.xlabel(col)\n",
    "plt.show()\n",
    "\n",
    "plt.figure(figsize=(15,5))\n",
    "col = 'N_r'\n",
    "plt.hist(df[col], log=True, bins=50)\n",
    "# plt.xticks([15,50,100,150,200,250])\n",
    "plt.xlabel(col)\n",
    "plt.show()"
   ]
  },
  {
   "cell_type": "code",
   "execution_count": 25,
   "id": "503bec51-0fc6-4455-a770-6cb3f2459626",
   "metadata": {},
   "outputs": [
    {
     "data": {
      "text/plain": [
       "22"
      ]
     },
     "execution_count": 25,
     "metadata": {},
     "output_type": "execute_result"
    }
   ],
   "source": [
    "# plot the percentage of correctly classified objects, as a function of the number of observations."
   ]
  },
  {
   "cell_type": "code",
   "execution_count": 60,
   "id": "b55ff6f0-1355-4ce1-a266-74746e9752c4",
   "metadata": {
    "tags": []
   },
   "outputs": [],
   "source": [
    "# Set the interval each 10 \n",
    "interval = 10\n",
    "N_max = np.ceil(df.N.max()/interval)\n",
    "XX = np.arange(25, N_max*interval, interval)"
   ]
  },
  {
   "cell_type": "code",
   "execution_count": 61,
   "id": "e58187e0-189b-4810-b5a7-422b7d037336",
   "metadata": {
    "tags": []
   },
   "outputs": [
    {
     "data": {
      "text/plain": [
       "[]"
      ]
     },
     "execution_count": 61,
     "metadata": {},
     "output_type": "execute_result"
    },
    {
     "data": {
      "image/png": "[encoded data removed]",
      "text/plain": [
       "<Figure size 640x480 with 1 Axes>"
      ]
     },
     "metadata": {},
     "output_type": "display_data"
    }
   ],
   "source": [
    "plt.bar(XX, np.random.rand(XX.shape[0]), width=interval-1)\n",
    "plt.xlabel('N')\n",
    "plt.plot()"
   ]
  },
  {
   "cell_type": "code",
   "execution_count": 62,
   "id": "ac887c8f-3885-4849-b8bc-67ca15c4b9dd",
   "metadata": {
    "tags": []
   },
   "outputs": [
    {
     "data": {
      "text/plain": [
       "array([ 25.,  35.,  45.,  55.,  65.,  75.,  85.,  95., 105., 115., 125.,\n",
       "       135., 145., 155., 165., 175., 185., 195., 205., 215., 225., 235.])"
      ]
     },
     "execution_count": 62,
     "metadata": {},
     "output_type": "execute_result"
    }
   ],
   "source": [
    "XX"
   ]
  },
  {
   "cell_type": "code",
   "execution_count": 73,
   "id": "af46653d-6622-4b04-8d2d-e9605803cca1",
   "metadata": {
    "tags": []
   },
   "outputs": [],
   "source": [
    "ACC = []\n",
    "for x in XX:\n",
    "    # Define the intervals\n",
    "    below = x-interval/2\n",
    "    above = x+interval/2\n",
    "    # Create the biined dataframe\n",
    "    b1 = df.N>=below\n",
    "    b2 = df.N<above\n",
    "    b = np.logical_and(b1, b2)\n",
    "    \n",
    "    sel = df[['Class', 'Pred', 'N']][b]\n",
    "    # Compute the accuracy\n",
    "    acc = np.sum(sel['Pred']==sel['Class'])/sel.shape[0]\n",
    "    ACC.append(acc)\n",
    "    # if x==55:\n",
    "    #     break\n"
   ]
  },
  {
   "cell_type": "code",
   "execution_count": 77,
   "id": "63f6aaa6-0b0d-413d-a969-92ed24838525",
   "metadata": {
    "tags": []
   },
   "outputs": [
    {
     "data": {
      "text/plain": [
       "[]"
      ]
     },
     "execution_count": 77,
     "metadata": {},
     "output_type": "execute_result"
    },
    {
     "data": {
      "image/png": "[encoded data removed]",
      "text/plain": [
       "<Figure size 640x480 with 1 Axes>"
      ]
     },
     "metadata": {},
     "output_type": "display_data"
    }
   ],
   "source": [
    "plt.bar(XX, ACC, width=interval-1, label='RNN')\n",
    "plt.xlabel('N')\n",
    "plt.legend(loc=0)\n",
    "plt.title('Accuracy as a function of the number of observations')\n",
    "plt.plot()"
   ]
  },
  {
   "cell_type": "code",
   "execution_count": null,
   "id": "825f4e54-6c87-41f9-8f77-85e5451aecf4",
   "metadata": {},
   "outputs": [],
   "source": []
  }
 ],
 "metadata": {
  "kernelspec": {
   "display_name": "Python 3 (ipykernel)",
   "language": "python",
   "name": "python3"
  },
  "language_info": {
   "codemirror_mode": {
    "name": "ipython",
    "version": 3
   },
   "file_extension": ".py",
   "mimetype": "text/x-python",
   "name": "python",
   "nbconvert_exporter": "python",
   "pygments_lexer": "ipython3",
   "version": "3.8.10"
  }
 },
 "nbformat": 4,
 "nbformat_minor": 5
}
